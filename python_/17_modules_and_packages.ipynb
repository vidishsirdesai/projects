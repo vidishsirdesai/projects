{
 "cells": [
  {
   "cell_type": "markdown",
   "metadata": {},
   "source": [
    "# Modules And Packages\n",
    "A module is a collection of one or more Python files. Packages are a collection of such modules. `scipy`, `numpy`, `pandas`, etc, are all Python packages.\n",
    "\n",
    "A package has to be imported to use the methods defined in them."
   ]
  },
  {
   "cell_type": "markdown",
   "metadata": {},
   "source": [
    "# How To Import A Module?\n",
    "There are multiple ways to do this,\n",
    "\n",
    "```Python\n",
    "# how to import the entire package\n",
    "import <module_name> \n",
    "\n",
    "# how to import all the methods in a package\n",
    "from <module_name> import *\n",
    "\n",
    "# how to import a package and assign a different name.\n",
    "import <module_name> as <short_name>\n",
    "\n",
    "# how to import specific methods from a package\n",
    "from <module_name> import <method_name>, <method_name>\n",
    "\n",
    "# how to import specific methods from a module and assign them different names.\n",
    "from <module_name> import <method_name> as <xyz>, <method_name> as <xyz>\n",
    "\n",
    "# how to import a specific module from a package\n",
    "from <package_name> import <module_name>\n",
    "\n",
    "# how to import a specific method from a specific module in a package\n",
    "from <package_name>.<module_name> import <method_name>\n",
    "```"
   ]
  },
  {
   "cell_type": "markdown",
   "metadata": {},
   "source": [
    "# How To Use The Methods In A Module?\n",
    "There are multiple ways to do this,\n",
    "\n",
    "```Python\n",
    "# if the entire module is imported\n",
    "module_name.method()\n",
    "\n",
    "# if all the method are imported from a module\n",
    "method()\n",
    "\n",
    "# if a module name is imported with a different name\n",
    "<short_name>.method()\n",
    "```"
   ]
  }
 ],
 "metadata": {
  "language_info": {
   "name": "python"
  }
 },
 "nbformat": 4,
 "nbformat_minor": 2
}
