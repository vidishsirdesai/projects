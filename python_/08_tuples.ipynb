{
 "cells": [
  {
   "cell_type": "markdown",
   "metadata": {},
   "source": [
    "# Tuple\n",
    "Tuples like lists in Python, are data structures that allow storage of multiple items in a single variable. The items stored in a tuple are separated by comma. There is no limit on the number of values that can be stored in a tuple.\n",
    "\n",
    "Tuple is a collection of elements which is ordered, immutable and allows duplicate members.\n",
    "\n",
    "The different operations that can be performed on tuples are, create and read.\n",
    "\n",
    "Tuples like lists, are heterogenous.\n",
    "\n",
    "Tuples can be thought of as unmodifiable or constant lists. Use them where there is a need of a data structure that is required to be immutable. For example, a data structure where planet names are stored."
   ]
  },
  {
   "cell_type": "markdown",
   "metadata": {},
   "source": [
    "# How To Create Tuples?\n",
    "```Python\n",
    "# syntax\n",
    "tuple_name = (ele1, ele2, ..., eleN)\n",
    "```"
   ]
  },
  {
   "cell_type": "markdown",
   "metadata": {},
   "source": [
    "# How To Create Empty Tuples?"
   ]
  },
  {
   "cell_type": "code",
   "execution_count": 1,
   "metadata": {},
   "outputs": [
    {
     "name": "stdout",
     "output_type": "stream",
     "text": [
      "<class 'tuple'>\n"
     ]
    }
   ],
   "source": [
    "tuple_name = ()\n",
    "print(type(tuple_name))"
   ]
  },
  {
   "cell_type": "markdown",
   "metadata": {},
   "source": [
    "# How To Create A Tuple With A Single Element?"
   ]
  },
  {
   "cell_type": "code",
   "execution_count": 2,
   "metadata": {},
   "outputs": [
    {
     "name": "stdout",
     "output_type": "stream",
     "text": [
      "<class 'type'>\n"
     ]
    }
   ],
   "source": [
    "tuple_name = (45)\n",
    "print(type(tuple))"
   ]
  },
  {
   "cell_type": "markdown",
   "metadata": {},
   "source": [
    "The parentheses used while defining the above variable are also used to create mathematical expressions. Hence, if a single integer is written inside parentheses it is interpreted as an integer by the Python's interpreter."
   ]
  },
  {
   "cell_type": "code",
   "execution_count": 3,
   "metadata": {},
   "outputs": [
    {
     "name": "stdout",
     "output_type": "stream",
     "text": [
      "<class 'tuple'>\n"
     ]
    }
   ],
   "source": [
    "tuple_name = (45,)\n",
    "print(type(tuple_name))"
   ]
  },
  {
   "cell_type": "markdown",
   "metadata": {},
   "source": [
    "Therefore, placing a comma after the element is important, else it will not be interpreted as a tuple."
   ]
  },
  {
   "cell_type": "markdown",
   "metadata": {},
   "source": [
    "# How To Convert A List To Tuple And Vice-Versa?"
   ]
  },
  {
   "cell_type": "code",
   "execution_count": 4,
   "metadata": {},
   "outputs": [
    {
     "name": "stdout",
     "output_type": "stream",
     "text": [
      "<class 'list'>\n",
      "<class 'tuple'>\n",
      "<class 'tuple'>\n",
      "<class 'list'>\n"
     ]
    }
   ],
   "source": [
    "a = [1, 2, 3, 4, 5]\n",
    "b = (1, 2, 3, 4, 5)\n",
    "a1 = tuple(a)\n",
    "b1 = list(b)\n",
    "print(type(a))\n",
    "print(type(b))\n",
    "print(type(a1))\n",
    "print(type(b1))"
   ]
  },
  {
   "cell_type": "markdown",
   "metadata": {},
   "source": [
    "Type casting between a tuple and a list is allowed in Python."
   ]
  },
  {
   "cell_type": "markdown",
   "metadata": {},
   "source": [
    "# Tuple Indexing\n",
    "Tuple indexing works similar to list indexing. Negative indexing is also possible in tuple."
   ]
  },
  {
   "cell_type": "markdown",
   "metadata": {},
   "source": [
    "# Tuple Slicing\n",
    "Tuple slicing works similar to list slicing."
   ]
  },
  {
   "cell_type": "markdown",
   "metadata": {},
   "source": [
    "# Tuple Concatenation\n",
    "Tuple concatenation is supported. Meaning, 2 or more tuple can be concatenated into a single tuple."
   ]
  },
  {
   "cell_type": "code",
   "execution_count": 5,
   "metadata": {},
   "outputs": [
    {
     "name": "stdout",
     "output_type": "stream",
     "text": [
      "(1, 2, 3, 4, 5, 6)\n",
      "(1, 2, 3, 4, 5, 6, 7, 8, 9)\n",
      "<class 'tuple'>\n"
     ]
    }
   ],
   "source": [
    "t1 = (1, 2, 3)\n",
    "t2 = (4, 5, 6)\n",
    "t3 = t1 + t2\n",
    "print(t3)\n",
    "\n",
    "t1 = (1, 2, 3)\n",
    "t2 = (4, 5, 6)\n",
    "t3 = (7, 8, 9)\n",
    "result = t1 + t2 + t3\n",
    "print(result)\n",
    "\n",
    "print(type(result))"
   ]
  },
  {
   "cell_type": "markdown",
   "metadata": {},
   "source": [
    "# How To Add And Remove Elements To A Tuple?\n",
    "Elements cannot be appended to a tuple, the same is for removing elements."
   ]
  },
  {
   "cell_type": "code",
   "execution_count": 6,
   "metadata": {},
   "outputs": [
    {
     "ename": "AttributeError",
     "evalue": "'tuple' object has no attribute 'append'",
     "output_type": "error",
     "traceback": [
      "\u001b[0;31m---------------------------------------------------------------------------\u001b[0m",
      "\u001b[0;31mAttributeError\u001b[0m                            Traceback (most recent call last)",
      "Cell \u001b[0;32mIn[6], line 2\u001b[0m\n\u001b[1;32m      1\u001b[0m a \u001b[38;5;241m=\u001b[39m (\u001b[38;5;241m1\u001b[39m, \u001b[38;5;241m2\u001b[39m, \u001b[38;5;241m3\u001b[39m, \u001b[38;5;241m4\u001b[39m)\n\u001b[0;32m----> 2\u001b[0m \u001b[43ma\u001b[49m\u001b[38;5;241;43m.\u001b[39;49m\u001b[43mappend\u001b[49m(\u001b[38;5;241m5\u001b[39m) \u001b[38;5;66;03m# AttributeError\u001b[39;00m\n",
      "\u001b[0;31mAttributeError\u001b[0m: 'tuple' object has no attribute 'append'"
     ]
    }
   ],
   "source": [
    "a = (1, 2, 3, 4)\n",
    "a.append(5) # AttributeError"
   ]
  },
  {
   "cell_type": "code",
   "execution_count": 7,
   "metadata": {},
   "outputs": [
    {
     "ename": "AttributeError",
     "evalue": "'tuple' object has no attribute 'remove'",
     "output_type": "error",
     "traceback": [
      "\u001b[0;31m---------------------------------------------------------------------------\u001b[0m",
      "\u001b[0;31mAttributeError\u001b[0m                            Traceback (most recent call last)",
      "Cell \u001b[0;32mIn[7], line 1\u001b[0m\n\u001b[0;32m----> 1\u001b[0m \u001b[43ma\u001b[49m\u001b[38;5;241;43m.\u001b[39;49m\u001b[43mremove\u001b[49m(\u001b[38;5;241m4\u001b[39m) \u001b[38;5;66;03m# AttributeError\u001b[39;00m\n",
      "\u001b[0;31mAttributeError\u001b[0m: 'tuple' object has no attribute 'remove'"
     ]
    }
   ],
   "source": [
    "a.remove(4) # AttributeError"
   ]
  },
  {
   "cell_type": "markdown",
   "metadata": {},
   "source": [
    "# Tuple Packing And Unpacking"
   ]
  },
  {
   "cell_type": "code",
   "execution_count": 8,
   "metadata": {},
   "outputs": [
    {
     "name": "stdout",
     "output_type": "stream",
     "text": [
      "1\n",
      "2\n",
      "3\n"
     ]
    }
   ],
   "source": [
    "a = (1, 2, 3) # packing elements into a tuple\n",
    "x, y, z = a # unpacking elements from a tuple\n",
    "print(x, y, z, sep = \"\\n\")\n",
    "# number of variables must be equal to the size of the tuple. \n",
    "# that means, if there are 3 elements in a tuple,\n",
    "# then 3 variables should be available to unpack them into."
   ]
  },
  {
   "cell_type": "code",
   "execution_count": 9,
   "metadata": {},
   "outputs": [
    {
     "name": "stdout",
     "output_type": "stream",
     "text": [
      "<class 'int'>\n",
      "<class 'int'>\n",
      "<class 'int'>\n"
     ]
    }
   ],
   "source": [
    "# check the data type of the unpacked tuple elements\n",
    "print(type(x))\n",
    "print(type(y))\n",
    "print(type(z))"
   ]
  },
  {
   "cell_type": "code",
   "execution_count": 10,
   "metadata": {},
   "outputs": [
    {
     "name": "stdout",
     "output_type": "stream",
     "text": [
      "(100, 200, 300)\n",
      "100\n",
      "200\n",
      "300\n"
     ]
    }
   ],
   "source": [
    "def foo():\n",
    "\treturn 100, 200, 300 # packing\n",
    "a = foo()\n",
    "print(a)\n",
    "x, y, z = foo() # unpacking\n",
    "\n",
    "print(x)\n",
    "print(y)\n",
    "print(z)"
   ]
  },
  {
   "cell_type": "markdown",
   "metadata": {},
   "source": [
    "Anything returned from a function will get packed into a tuple."
   ]
  },
  {
   "cell_type": "code",
   "execution_count": 11,
   "metadata": {},
   "outputs": [
    {
     "name": "stdout",
     "output_type": "stream",
     "text": [
      "(100, 200, 300)\n",
      "<class 'tuple'>\n",
      "<class 'int'>\n",
      "<class 'int'>\n",
      "<class 'int'>\n"
     ]
    }
   ],
   "source": [
    "def foo():\n",
    "\treturn 100, 200, 300\n",
    "a = foo()\n",
    "print(a)\n",
    "print(type(a))\n",
    "x, y, z = foo()\n",
    "print(type(x))\n",
    "print(type(y))\n",
    "print(type(z))"
   ]
  },
  {
   "cell_type": "code",
   "execution_count": 12,
   "metadata": {},
   "outputs": [
    {
     "name": "stdout",
     "output_type": "stream",
     "text": [
      "<class 'tuple'>\n",
      "<class 'int'>\n",
      "<class 'int'>\n",
      "<class 'int'>\n"
     ]
    }
   ],
   "source": [
    "def foo():\n",
    "    return 100, 200, 300\n",
    "result = foo()\n",
    "print(type(result))\n",
    "res1, res2, res3 = foo()\n",
    "print(type(res1))\n",
    "print(type(res2))\n",
    "print(type(res3))"
   ]
  },
  {
   "cell_type": "markdown",
   "metadata": {},
   "source": [
    "While returning multiple values from a function, the values are packed into a tuple and at the receiving end they can be unpacked into different variables.\n",
    "\n",
    "Their count should be matched. Meaning, the number of variables on the receiving end and the number of values returned from the function should be the same."
   ]
  },
  {
   "cell_type": "code",
   "execution_count": 13,
   "metadata": {},
   "outputs": [
    {
     "name": "stdout",
     "output_type": "stream",
     "text": [
      "(1, 'Bipin')\n",
      "(2, 'Gokul')\n",
      "(4, 'Lokesh')\n",
      "(3, 'Vidish')\n",
      "(5, 'Yoginder')\n"
     ]
    }
   ],
   "source": [
    "# consider a list of tuples\n",
    "a = [(1,\"Bipin\"), (2, \"Gokul\"), (4, \"Lokesh\"), (3, \"Vidish\"), (5, \"Yoginder\")]\n",
    "for i in a:\n",
    "\tprint(i)"
   ]
  },
  {
   "cell_type": "code",
   "execution_count": 14,
   "metadata": {},
   "outputs": [
    {
     "name": "stdout",
     "output_type": "stream",
     "text": [
      "The roll Number is 1 and name is Bipin!\n",
      "The roll Number is 2 and name is Gokul!\n",
      "The roll Number is 4 and name is Lokesh!\n",
      "The roll Number is 3 and name is Vidish!\n",
      "The roll Number is 5 and name is Yoginder!\n"
     ]
    }
   ],
   "source": [
    "# unpacking can be done using a for loop as well\n",
    "for roll, name in a:\n",
    "\tprint(f\"The roll Number is {roll} and name is {name}!\")"
   ]
  },
  {
   "cell_type": "code",
   "execution_count": 15,
   "metadata": {},
   "outputs": [
    {
     "name": "stdout",
     "output_type": "stream",
     "text": [
      "The roll Number is 1 and name is Bipin!\n",
      "The roll Number is 2 and name is Gokul!\n",
      "The roll Number is 4 and name is Lokesh!\n",
      "The roll Number is 3 and name is Vidish!\n",
      "The roll Number is 5 and name is Yoginder!\n"
     ]
    }
   ],
   "source": [
    "# the same output can be extracted without unpacking\n",
    "for i in a:\n",
    "\tprint(f\"The roll Number is {i[0]} and name is {i[1]}!\")"
   ]
  },
  {
   "cell_type": "markdown",
   "metadata": {},
   "source": [
    "A comma separated set of values is packed into a tuple in Python."
   ]
  },
  {
   "cell_type": "markdown",
   "metadata": {},
   "source": [
    "# Tuple Methods"
   ]
  },
  {
   "cell_type": "markdown",
   "metadata": {},
   "source": [
    "### `count()`\n",
    "`count()` is used to return the number of occurrences of a specified element in the tuple.\n",
    "\n",
    "```Python\n",
    "# syntax\n",
    "tuple_name.count(value)\n",
    "```"
   ]
  },
  {
   "cell_type": "code",
   "execution_count": 16,
   "metadata": {},
   "outputs": [
    {
     "name": "stdout",
     "output_type": "stream",
     "text": [
      "2\n"
     ]
    }
   ],
   "source": [
    "# example\n",
    "thistuple = (1, 3, 7, 8, 7, 5, 4, 6, 8, 5)\n",
    "x = thistuple.count(5)\n",
    "print(x)"
   ]
  },
  {
   "cell_type": "markdown",
   "metadata": {},
   "source": [
    "### `index()`\n",
    "`index()` returns the index number of the first occurrence of the specified element in the tuple. An exception is raised if the element is not present.\n",
    "\n",
    "```Python\n",
    "# syntax\n",
    "tuple_name.index(value)\n",
    "```"
   ]
  },
  {
   "cell_type": "code",
   "execution_count": 17,
   "metadata": {},
   "outputs": [
    {
     "name": "stdout",
     "output_type": "stream",
     "text": [
      "3\n"
     ]
    }
   ],
   "source": [
    "# example\n",
    "thistuple = (1, 3, 7, 8, 7, 5, 4, 6, 8, 5)\n",
    "x = thistuple.index(8)\n",
    "print(x)"
   ]
  }
 ],
 "metadata": {
  "kernelspec": {
   "display_name": "Python 3",
   "language": "python",
   "name": "python3"
  },
  "language_info": {
   "codemirror_mode": {
    "name": "ipython",
    "version": 3
   },
   "file_extension": ".py",
   "mimetype": "text/x-python",
   "name": "python",
   "nbconvert_exporter": "python",
   "pygments_lexer": "ipython3",
   "version": "3.11.9"
  }
 },
 "nbformat": 4,
 "nbformat_minor": 2
}
