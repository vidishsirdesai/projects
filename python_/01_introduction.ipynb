{
 "cells": [
  {
   "cell_type": "markdown",
   "metadata": {},
   "source": [
    "# The First Program"
   ]
  },
  {
   "cell_type": "code",
   "execution_count": 1,
   "metadata": {},
   "outputs": [
    {
     "name": "stdout",
     "output_type": "stream",
     "text": [
      "Hello World!\n"
     ]
    }
   ],
   "source": [
    "print(\"Hello World!\")"
   ]
  },
  {
   "cell_type": "markdown",
   "metadata": {},
   "source": [
    "# How To Run A Python File From The Command Line?\n",
    "`python3 <file_name>.py`"
   ]
  },
  {
   "cell_type": "markdown",
   "metadata": {},
   "source": [
    "# Comments In Python"
   ]
  },
  {
   "cell_type": "code",
   "execution_count": 2,
   "metadata": {},
   "outputs": [
    {
     "data": {
      "text/plain": [
       "'\\nmulti-line comments\\nin Python look like this\\n'"
      ]
     },
     "execution_count": 2,
     "metadata": {},
     "output_type": "execute_result"
    }
   ],
   "source": [
    "# single-line comments in Python look like this\n",
    "\n",
    "'''\n",
    "multi-line comments\n",
    "in Python look like this\n",
    "'''\n",
    "\n",
    "\"\"\"\n",
    "multi-line comments\n",
    "in Python look like this\n",
    "\"\"\""
   ]
  },
  {
   "cell_type": "markdown",
   "metadata": {},
   "source": [
    "# Python Script V. Python Module"
   ]
  },
  {
   "cell_type": "code",
   "execution_count": 3,
   "metadata": {},
   "outputs": [
    {
     "name": "stdout",
     "output_type": "stream",
     "text": [
      "Hello World!\n"
     ]
    }
   ],
   "source": [
    "def main():\n",
    "    print(\"Hello World!\")\n",
    "if __name__ == \"__main__\":\n",
    "    main()"
   ]
  },
  {
   "cell_type": "markdown",
   "metadata": {},
   "source": [
    "In Python, `__name__` variable is a built-in variable that is automatically set by the Python interpreter. It is used to determine whether a Python script is being run as the main program or if it is being imported as a module into another script. The `__name__` variable has 2 possible values,\n",
    "1. If the Python script is run as the main program, the `__name__` variable is set to `__main__`.\n",
    "2. If the Python script is imported as a module into another script, the \"`__name__`\" variable is set to the same of the script it is imported to. For example, if the file or script to which the script is imported to is named `example.py`, then `__name__` is set to `example`, i.e., the name of the file without the `.py` extension."
   ]
  },
  {
   "cell_type": "code",
   "execution_count": 4,
   "metadata": {},
   "outputs": [
    {
     "name": "stdout",
     "output_type": "stream",
     "text": [
      "This script is being run as the main program\n"
     ]
    }
   ],
   "source": [
    "# my_module.py\n",
    "\n",
    "def some_function():\n",
    "\t# code that will get executed if the function is called\n",
    "\tpass\n",
    "\n",
    "if __name__ == \"__main__\":\n",
    "\t# code that should run only when this script is executed as the main program\n",
    "\t# it won't run when this module is imported into another script\n",
    "\tprint(\"This script is being run as the main program\")\n",
    "\t# function call occurs automatically because it is being run as the main \n",
    "\t# program\n",
    "\tsome_function()"
   ]
  },
  {
   "cell_type": "markdown",
   "metadata": {},
   "source": [
    "To find out if the script is being run as the main program or not, observe the output of the following code,"
   ]
  },
  {
   "cell_type": "code",
   "execution_count": 5,
   "metadata": {},
   "outputs": [
    {
     "name": "stdout",
     "output_type": "stream",
     "text": [
      "__main__\n"
     ]
    }
   ],
   "source": [
    "print(__name__)"
   ]
  }
 ],
 "metadata": {
  "kernelspec": {
   "display_name": "Python 3",
   "language": "python",
   "name": "python3"
  },
  "language_info": {
   "codemirror_mode": {
    "name": "ipython",
    "version": 3
   },
   "file_extension": ".py",
   "mimetype": "text/x-python",
   "name": "python",
   "nbconvert_exporter": "python",
   "pygments_lexer": "ipython3",
   "version": "3.11.9"
  }
 },
 "nbformat": 4,
 "nbformat_minor": 2
}
