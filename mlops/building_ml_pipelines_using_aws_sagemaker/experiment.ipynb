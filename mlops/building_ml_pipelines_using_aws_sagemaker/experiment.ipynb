{
 "cells": [
  {
   "cell_type": "code",
   "execution_count": null,
   "metadata": {},
   "outputs": [],
   "source": [
    "import boto3"
   ]
  },
  {
   "cell_type": "code",
   "execution_count": null,
   "metadata": {},
   "outputs": [],
   "source": [
    "access_id = \"**********\"\n",
    "access_key = \"**********\"\n",
    "\n",
    "test = \"29, 2, 999, 0, 1, 0, 0, 1, 0, 0, 0, 0, 0, 0, 0, 0, 0, 0, 0, 1, 0, 0, 0, 0, 1, 0, 0, 0, 0, 0, 1, 0, 0, 1, 0, 0, 1, 0, 0, 0, 1, 0, 0, 0, 0, 1, 0, 0, 0, 0, 0, 0, 0, 0, 1, 0, 0, 1, 0\"\n",
    "\n",
    "runtime = boto3.Session().client(\n",
    "    \"sagemaker-runtime\",\n",
    "    region_name = \"us-east-1\",\n",
    "    aws_access_key_id = access_id,\n",
    "    aws_secret_access_key = access_key\n",
    ")"
   ]
  },
  {
   "cell_type": "code",
   "execution_count": null,
   "metadata": {},
   "outputs": [],
   "source": [
    "response = runtime.invoke_endpoint(\n",
    "    EndpointName = \"**********\",\n",
    "    ContentType = \"text/csv\",\n",
    "    Body = test\n",
    ")\n",
    "result = response[\"Body\"].read().decode(\"ascii\")\n",
    "print(\"Predicted Class Probabilities: {}.\".format(result))"
   ]
  },
  {
   "cell_type": "code",
   "execution_count": null,
   "metadata": {},
   "outputs": [],
   "source": [
    "#name of the buckets in your account\n",
    "s3 = boto3.client(\n",
    "    \"s3\",\n",
    "    region_name = \"us-east-1\",\n",
    "    aws_access_key_id = access_id,\n",
    "    aws_secret_access_key = access_key\n",
    ")\n",
    "\n",
    "response = s3.list_buckets()\n",
    "\n",
    "# Output the bucket names\n",
    "print(\"Existing buckets: \")\n",
    "for bucket in response[\"Buckets\"]:\n",
    "    print(f\"{bucket['Name']}\")"
   ]
  },
  {
   "cell_type": "code",
   "execution_count": null,
   "metadata": {},
   "outputs": [],
   "source": []
  }
 ],
 "metadata": {
  "kernelspec": {
   "display_name": "Python 3",
   "language": "python",
   "name": "python3"
  },
  "language_info": {
   "codemirror_mode": {
    "name": "ipython",
    "version": 3
   },
   "file_extension": ".py",
   "mimetype": "text/x-python",
   "name": "python",
   "nbconvert_exporter": "python",
   "pygments_lexer": "ipython3",
   "version": "3.11.9"
  }
 },
 "nbformat": 4,
 "nbformat_minor": 2
}
