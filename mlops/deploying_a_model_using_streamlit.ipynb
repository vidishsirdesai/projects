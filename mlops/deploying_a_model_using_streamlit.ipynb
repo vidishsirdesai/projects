{
 "cells": [
  {
   "cell_type": "markdown",
   "metadata": {
    "vscode": {
     "languageId": "plaintext"
    }
   },
   "source": [
    "# What Is Streamlit?\n",
    "Streamlit is a Python tool that helps in building a website in no time. It is not a requirement for a Data Scientist to know front-end and back-end development and the connections between them, this is a job of a Software Developer. But, it is an essential requirement for a Data Scientist to show the working of a model, with visualizations included, to the stake holders. In this case, building a simple application that allows the user to interact with the various parameters and visualize the output etc, becomes essential.\n",
    "\n",
    "Streamlit serves exactly this requirement of a Data Scientist without him/ her known the fundamentals of web development (front-end and back-end).\n",
    "\n",
    "Streamlit is popularly by used by Data Scientists and Analysts for building a POC (proof of concept) app."
   ]
  },
  {
   "cell_type": "markdown",
   "metadata": {},
   "source": [
    "# Setup\n",
    "### Prerequisites\n",
    "1. Python version 3.8 to 3.12.\n",
    "2. A Python environment manager: Environment managers create virtual environments to isolate Python package installations between projects. It is recommended that virtual environments be used because installing or upgrading a Python package may cause unintentional effects on another package. Here, venv is used.\n",
    "3. A Python package manager, popularly pip is the go to one.\n",
    "4. A code editor, like VS Code.\n",
    "\n",
    "### Create a virtual environment `venv`\n",
    "1. `cd <project_folder_path>`.\n",
    "2. `pip install virtualenv`.\n",
    "3. `python3 -m venv .venv`.\n",
    "4. A folder named `.venv` will appear in the project directory. The project directory is where the virtual environment and its dependencies are installed.\n",
    "\n",
    "But before an environment is created, create a \"`requirements.txt`\" file that contains all the dependencies that the app will need to run. Include the following lines inside `requirements.txt`,\n",
    "\n",
    "```text\n",
    "streamlit\n",
    "scikit-learn\n",
    "numpy\n",
    "pandas\n",
    "```\n",
    "\n",
    "### Activate the virtual environment\n",
    "In the terminal, activate the environment with one of the following commands depending on the operating system,\n",
    "- Windows command prompt, `.venv\\Scripts\\activate.bat`.\n",
    "- Windows PowerShell, `.venv\\Scripts\\Activate.ps1`.\n",
    "- MacOS and Linux source `.venv/bin/activate`.\n",
    "\n",
    "Once activated, the environment name can be seen in the parentheses before the prompt \"`(.venv)`\".\n",
    "\n",
    "Once `requirements.txt` file is created and the virtual environment is activated, run the following command to install the dependencies,\n",
    "- `pip install -r requirements.txt`.\n",
    "\n",
    "### Deactivate the virtual environment\n",
    "Strictly run the following 2 commands in the same order,\n",
    "1. `deactivate`.\n",
    "2. `rm -r .venv`.\n",
    "\n",
    "### Install `streamlit` in the virtual environment\n",
    "1. `pip install streamlit`.\n",
    "2. Test if the installation has worked, `streamlit hello`. If this does not work, use the long-form command, `python -m streamlit hello`.\n",
    "3. Streamlit's hello app should open in a new tab in the browser.\n",
    "\n",
    "### Build an application\n",
    "1. Goto the Streamlit's website > Docs > Develop > API reference > Text elements > st.header\n",
    "2. Create a new file `app.py`.\n",
    "3. Copy the contents of the examples under `st.header`.\n",
    "4. To run this using the command, `streamlit run app.py`. If this does not work, try the long-form command, `python -m streamlit run app.py`.\n",
    "5. To stop the Streamlit server, press `Ctrl + C` in the terminal."
   ]
  },
  {
   "cell_type": "markdown",
   "metadata": {},
   "source": [
    "# Contents Of `app.py`\n",
    "```Python\n",
    "import streamlit as st\n",
    "\n",
    "st.header(\"_Streamlit_ is :blue[cool] :sunglasses:\")\n",
    "st.header(\"This is a header with a divider\", divider=\"gray\")\n",
    "st.header(\"These headers have rotating dividers\", divider=True)\n",
    "st.header(\"One\", divider=True)\n",
    "st.header(\"Two\", divider=True)\n",
    "st.header(\"Three\", divider=True)\n",
    "st.header(\"Four\", divider=True)\n",
    "\n",
    "code = '''def hello():\n",
    "    print(\"Hello, Streamlit!\")'''\n",
    "st.code(code, language=\"python\")\n",
    "\n",
    "st.subheader(\"_Streamlit_ is :blue[cool] :sunglasses:\")\n",
    "st.subheader(\"This is a subheader with a divider\", divider=\"gray\")\n",
    "st.subheader(\"These subheaders have rotating dividers\", divider=True)\n",
    "st.subheader(\"One\", divider=True)\n",
    "st.subheader(\"Two\", divider=True)\n",
    "st.subheader(\"Three\", divider=True)\n",
    "st.subheader(\"Four\", divider=True)\n",
    "```"
   ]
  },
  {
   "cell_type": "markdown",
   "metadata": {},
   "source": []
  }
 ],
 "metadata": {
  "language_info": {
   "name": "python"
  }
 },
 "nbformat": 4,
 "nbformat_minor": 2
}
