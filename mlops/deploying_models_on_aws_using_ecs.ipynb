{
 "cells": [
  {
   "cell_type": "markdown",
   "metadata": {},
   "source": [
    "# What Is AWS?\n",
    "AWS is a cloud service by Amazon. "
   ]
  },
  {
   "cell_type": "markdown",
   "metadata": {},
   "source": [
    "# What Are Cloud Services?\n",
    "Cloud services are computing resources that are delivered over the internet, on demand, and accessed through a pay-as-you-go pricing model. Instead of owning and maintaining physical hardware, businesses can access these resources from a cloud provider, such as AWS, Microsoft Azure, or Google Cloud Platform.\n",
    "\n",
    "### Types of Cloud Services\n",
    "- Infrastructure as a Service (IaaS): Provides fundamental computing resources like servers, storage, and networking.\n",
    "- Platform as a Service (PaaS): Offers a platform for developing, testing and deploying applications.\n",
    "- Software as a Service (SaaS): Delivers applications over the internet, allowing users to access them without needing to install or maintain software on their own devices.\n",
    "\n",
    "### Examples of Cloud Services\n",
    "- Cloud storage: Amazon S3, Google Cloud Storage, Microsoft Azure Blob Storage.\n",
    "- Compute services: Amazon EC2, Google Compute Engine, Microsoft Azure Virtual Machines.\n",
    "- Database services: Amazon RDS, Google Cloud SQL, Microsoft Azure SQL Database.\n",
    "- Analytics services: Amazon Redshift, Google BigQuery, Microsoft Azure Synapse Analytics.\n",
    "\n",
    "### Why are Cloud Services necessary?\n",
    "The training of ML models, especially Deep Learning, models requires a lot of computing resources (like GPUs). Consider that in a worst case scenario, the model has to be trained on a 100GB GPU. This would require you to have the resources necessary locally present on site in order to complete this task. This would also require that these resources are serviced and maintained at regular intervals. This obviously is not a very friendly in financial terms, in case of small-tier, or even a mid-tier organization.\n",
    "\n",
    "This is why cloud services are important. They take away this burden from such organizations and offer them these resources, as explained, on a pay-as-you-go or pay-as-you-use pricing model. Meaning, if 100GB of GPU space is used for 2 hours, then the organization using it is only charged for that much resource for that much amout of time.\n",
    "\n",
    "### How to use these services?\n",
    "An access is required in order to use these services. For the sake of this excercise, An AWS account is created and access for a lab is purchased for the same."
   ]
  },
  {
   "cell_type": "markdown",
   "metadata": {},
   "source": [
    "# Agenda Of This Excercise\n",
    "The agenda of the excercise is to deploy the project in container on the cloud using Amazon Elastic Container Service (ECS)."
   ]
  },
  {
   "cell_type": "markdown",
   "metadata": {},
   "source": [
    "# What Is Amazon ECS?\n",
    "Amazon ECS is a fully managed container orchestration service that helps in deploying, managing and scaling containerized applications. It is designed to simply the process of running containers on AWS.\n",
    "\n",
    "### Key features\n",
    "- Container orchestration: ECS manages the lifecycle of containers, including scheduling, scaling and load balancing.\n",
    "- Integration with AWS services: ECS integrates seamlessly with other AWS services like Amazon Elastic Compute Cloud (EC2), Amazon Elastic Container Registry (ECR), and Amazon S3.\n",
    "- Scalability: ECS helps in scaling the applications up or down based on demand.\n",
    "- High availability: ECS provides built-in fault tolerance and high availability to ensure that the applications remain running.\n",
    "- Security: ECS offers robust security features, such as network isolation and IAM integration."
   ]
  },
  {
   "cell_type": "markdown",
   "metadata": {},
   "source": [
    "# What Is Amazon ECR?\n",
    "Amazon ECR is a fully managed container registry service that helps in storing and managing Docker images. It provides a secure and scalable way to store the container images, making them easily accessible for deployment to various environments.\n",
    "\n",
    "### Key Features\n",
    "- Secure storage: ECR encrypts the images at rest and in transit, ensuring that they are protected from unauthorized access.\n",
    "- Scalability: ECR can handle large numbers of images and can scale automatically to meet the needs.\n",
    "- Integration with ECS: ECR integrates seamlessly with ECS, making it easy to deploy the container images to ECS clusters.\n",
    "- Image scanning: ECR can scan the images for vulnerabilities and provide remedation recommendations.\n",
    "- Private repositories: Private repositories can be created to store the images securely."
   ]
  },
  {
   "cell_type": "markdown",
   "metadata": {},
   "source": [
    "# How Is ECS Different To ECR?\n",
    "### ECS\n",
    "- Primary function: Orchestrates and manages containerized applications.\n",
    "- Role: Handles the deployment, scaling, and lifecycle management of containers.\n",
    "- Functionality: Provides features like task definition, service creation, load balancing, and integration with other AWS services.\n",
    "\n",
    "### ECR\n",
    "- Primary function: Stores and manages Docker and OCI (Open Container Initiative) images.\n",
    "- Role: Think of it as a repository for the container images.\n",
    "- Functionality: Provides secure storage, versioning, and scanning for vulnerabilities.\n",
    "\n",
    "In a nutshell, ECR is where the container images are stored, and ECS is the platform that runs and manages those images."
   ]
  },
  {
   "cell_type": "markdown",
   "metadata": {},
   "source": [
    "# What Is Container Orchestration?\n",
    "Container orchestration is the process of automating the management of containerized applications. It involves tasks such as,\n",
    "- Scheduling: Assigning containers to a specific hosts or nodes in a cluster.\n",
    "- Scaling: Automatically scaling the number of containers up or down based on demand.\n",
    "- Load balancing: Distributing traffic across multiple containers to improve performance and reliability.\n",
    "- Health checks: Monitoring the health of the containers and restarting failed containers.\n",
    "- Networking: Managing the network connectivity between containers and external services.\n",
    "\n",
    "### Popular container orchestration platforms\n",
    "- Kubernetes: An open-source platform widely used for managing containerized applications.\n",
    "- Docker Swarm: A built-in orchestration tool for Docker.\n",
    "- Amazon ECS: A managed container orchestration service from AWS.\n",
    "- Google Kubernetes Engine (GKE): A managed Kubernetes service from Google Cloud Platform."
   ]
  },
  {
   "cell_type": "markdown",
   "metadata": {},
   "source": [
    "# What Is AWS Fargate?\n",
    "Amazon ECS with Fargate is a serverless compute engine for containers. It helps to run containers without having to provision or manage servers. This means, focus can be on building applications rather than worrying about the underlying infrastructure.\n",
    "\n",
    "### How Fargate works?\n",
    "1. A task definition is defined that specifies the container image and its configuration.\n",
    "2. A service is created that runs the task definition.\n",
    "3. Fargate automatically provisions and manages the necessary infrastructure to run the containers."
   ]
  },
  {
   "cell_type": "markdown",
   "metadata": {},
   "source": []
  }
 ],
 "metadata": {
  "language_info": {
   "name": "python"
  }
 },
 "nbformat": 4,
 "nbformat_minor": 2
}
