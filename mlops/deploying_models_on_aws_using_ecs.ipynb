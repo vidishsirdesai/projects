{
 "cells": [
  {
   "cell_type": "markdown",
   "metadata": {},
   "source": [
    "# What Is AWS?\n",
    "AWS is a cloud service by Amazon. "
   ]
  },
  {
   "cell_type": "markdown",
   "metadata": {},
   "source": [
    "# What are Cloud Services?\n",
    "Cloud services are computing resources that are delivered over the internet, on demand, and accessed through a pay-as-you-go pricing model. Instead of owning and maintaining physical hardware, businesses can access these resources from a cloud provider, such as AWS, Microsoft Azure, or Google Cloud Platform.\n",
    "\n",
    "### Types of Cloud Services\n",
    "- Infrastructure as a Service (IaaS): Provides fundamental computing resources like servers, storage, and networking.\n",
    "- Platform as a Service (PaaS): Offers a platform for developing, testing and deploying applications.\n",
    "- Software as a Service (SaaS): Delivers applications over the internet, allowing users to access them without needing to install or maintain software on their own devices.\n",
    "\n",
    "### Examples of Cloud Services\n",
    "- Cloud storage: Amazon S3, Google Cloud Storage, Microsoft Azure Blob Storage.\n",
    "- Compute services: Amazon EC2, Google Compute Engine, Microsoft Azure Virtual Machines.\n",
    "- Database services: Amazon RDS, Google Cloud SQL, Microsoft Azure SQL Database.\n",
    "- Analytics services: Amazon Redshift, Google BigQuery, Microsoft Azure Synapse Analytics.\n",
    "\n",
    "### Why are Cloud Services necessary?\n",
    "The training of ML models, especially Deep Learning, models requires a lot of computing resources (like GPUs). Consider that in a worst case scenario, the model has to be trained on a 100GB GPU. This would require you to have the resources necessary locally present on site in order to complete this task. This would also require that these resources are serviced and maintained at regular intervals. This obviously is not a very friendly in financial terms, in case of small-tier, or even a mid-tier organization.\n",
    "\n",
    "This is why cloud services are important. They take away this burden from such organizations and offer them these resources, as explained, on a pay-as-you-go or pay-as-you-use pricing model. Meaning, if 100GB of GPU space is used for 2 hours, then the organization using it is only charged for that much resource for that much amout of time.\n",
    "\n",
    "### How to use these services?\n",
    "An access is required in order to use these services. For the sake of this excercise, An AWS account is created and access for a lab is purchased for the same."
   ]
  },
  {
   "cell_type": "markdown",
   "metadata": {},
   "source": []
  }
 ],
 "metadata": {
  "language_info": {
   "name": "python"
  }
 },
 "nbformat": 4,
 "nbformat_minor": 2
}
