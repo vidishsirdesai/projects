{
 "cells": [
  {
   "cell_type": "markdown",
   "metadata": {},
   "source": [
    "# What Is DevOps?\n",
    "DevOps combines depelopment (Dev) and operations (Ops) to increase the efficiency, speed, and security of software development and delivery compared to traditional process. A more nimble software development lifecycle results in a competitive advantage for businesses and their customers. It is a concept that works in a loop.\n",
    "\n",
    "DevOps deals with software development practice which combines development and operations. Meaning, it comprises of all the processes from development, testing, deployment and finally maintenance or operations. Most of the times, pipelines are built to carry out the process of deployment.\n",
    "\n",
    "The development process is represented on the left hand side of the loop, and the operations process is represented on the right hand side of the loop.\n",
    "\n",
    "Benefits of DevOps are,\n",
    "1. Speed.\n",
    "2. Improved collaboration.\n",
    "3. Rapid deployment.\n",
    "4. Quality and reliability.\n",
    "5. Security."
   ]
  },
  {
   "cell_type": "markdown",
   "metadata": {},
   "source": [
    "# What Is MLOps?\n",
    "MLOps is very much similar to DevOps. MLOps stands for Machine Learning Operations. MLOps is a core function of Machine Learning engineering, focused on streamlining the process of taking Machine Learning models to production, and then maintaining and monitoring them. MLOps is a collaborative function, often comprising of Data Scientists, DevOps Engineers, and IT.\n",
    "\n",
    "### What is the difference between MLOps and DevOps?\n",
    "MLOps is a set of engineering practives specific to Machine Learning projects that borrow from the more widely adopted DevOps principles in software engineering. While DevOps brings a rapid, continuously iterative approach to shipping software applications, MLOps borrows the same principles to take Machine Learning models to production. In both cases, the outcome is higher software quality, faster patching and releases, and higher customer satisfaction.\n",
    "\n",
    "### Why is MLOps needed?\n"
   ]
  }
 ],
 "metadata": {
  "language_info": {
   "name": "python"
  }
 },
 "nbformat": 4,
 "nbformat_minor": 2
}
