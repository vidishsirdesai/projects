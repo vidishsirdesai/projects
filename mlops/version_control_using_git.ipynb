{
 "cells": [
  {
   "cell_type": "markdown",
   "metadata": {},
   "source": [
    "# What Is DevOps?\n",
    "DevOps combines depelopment (Dev) and operations (Ops) to increase the efficiency, speed, and security of software development and delivery compared to traditional process. A more nimble software development lifecycle results in a competitive advantage for businesses and their customers. It is a concept that works in a loop.\n",
    "\n",
    "DevOps deals with software development practice which combines development and operations. Meaning, it comprises of all the processes from development, testing, deployment and finally maintenance or operations. Most of the times, pipelines are built to carry out the process of deployment.\n",
    "\n",
    "The development process is represented on the left hand side of the loop, and the operations process is represented on the right hand side of the loop.\n",
    "\n",
    "Benefits of DevOps are,\n",
    "1. Speed.\n",
    "2. Improved collaboration.\n",
    "3. Rapid deployment.\n",
    "4. Quality and reliability.\n",
    "5. Security."
   ]
  },
  {
   "cell_type": "markdown",
   "metadata": {},
   "source": [
    "# What Is MLOps?\n",
    "MLOps is very much similar to DevOps. MLOps stands for Machine Learning Operations. MLOps is a core function of Machine Learning engineering, focused on streamlining the process of taking Machine Learning models to production, and then maintaining and monitoring them. MLOps is a collaborative function, often comprising of Data Scientists, DevOps Engineers, and IT.\n",
    "\n",
    "### What is the difference between MLOps and DevOps?\n",
    "MLOps is a set of engineering practives specific to Machine Learning projects that borrow from the more widely adopted DevOps principles in software engineering. While DevOps brings a rapid, continuously iterative approach to shipping software applications, MLOps borrows the same principles to take Machine Learning models to production. In both cases, the outcome is higher software quality, faster patching and releases, and higher customer satisfaction.\n",
    "\n",
    "### Why is MLOps needed?\n",
    "Productionizing Machine Learning is difficult. The Machine Learning lifecycle consists of many complex components such as data ingest, data prep, model training, model tuning, mdel deployment, model monitoring, explainability and much more. It also requires collaboration and hand-offs across teams, from Data Engineering to Data Science to ML Engineering. Naturally, it requires stringent operational rigor to keep all these processes synchronous and working in tandem. MLOps encompases the experimentation, iteration, and continuous improvement of Machine Learning lifecycle.\n",
    "\n",
    "### What are the components of MLOps?\n",
    "The span of MLOps in Machine Learning projects can as focused or expansive as the project demands. In certain cases, MLOps can encompass everything from the data pipeline to model production, while other projects may require MLOps implementation of only the model deployment process. A majority of enterprises deploy MLOps principles across the following,\n",
    "- EDA: Iteratively explore, share, and prep data for the machine learning lifecycle by creating reproducible, editable, and shareable datasets, tables, and visualizations.\n",
    "- Data prep and feature engineering: Iteratively transform, aggregate, and de-duplicate data to create refined features. Most importantly, make the features visible and shareable across data teams, leveraging a feature store.\n",
    "- Model training and tuning: Use popular open source libraries such as scikit-learn and hyperopt to train and improve model performance. As a simpler alternative, use automated machine learning tools such as AutoML to automatically perform trial runs and create reviewable and deployable code.\n",
    "- Model review and governance: Track model lineage, model versions, and manage model artifacts and transitions through their lifecycle. Discover, share, and collaborate across ML models with the help of an open source MLOps platform such as MLflow.\n",
    "- Model inference and serving: Manage the frequency of model refresh, inference request times and similar production-specifics in testing and QA. Use CI/CD tools such as repos and orchestrators (borrowing devops principles) to automate the pre-production pipeline.\n",
    "- Model monitoring: Automate permissions and cluster creation to productionize registered models. Enable REST API model endpoints.\n",
    "- Automated model retraining: Create alerts and automation to take corrective action In case of model drift due to differences in training and inference data."
   ]
  },
  {
   "cell_type": "markdown",
   "metadata": {},
   "source": [
    "# What Is Git?\n",
    "Git is a Version Control System (VCS). Git helps in tracking code over the time. Meaning, it helps in managing different versions of the code.\n",
    "\n",
    "This is crucial, because in cases a crash is encountered in current version, an older version will be avaialble to fallback to.\n",
    "\n",
    "Another important aspect of Git is that, it is a distributed Version Control System. Meaning, a lot of users will have the same or different version of the same code base, and the original or the master branch of the code base is unaffected. The advantages of distributed system are,\n",
    "1. There will be no single point of failure.\n",
    "2. The location of the latest stable version of the code is always known, because it is kept in a centralized place (the master branch)."
   ]
  },
  {
   "cell_type": "markdown",
   "metadata": {},
   "source": [
    "# What Is GitHub?\n",
    "GitHub is a system that is built on top of Git. Meaning, GitHub is an online service which contains the folder to which the local files are pushed to. This online folder is called as a repository or a repo.\n",
    "\n",
    "This repo can be a public repo or a private repo.\n",
    "\n",
    "This repo can be accessed by anyone who has the link and the access permission. This permission is granted by the owner of the repo.\n",
    "\n",
    "There are multiple other such services similar to GitHub, like BitBucket, GitLab, etc.\n",
    "\n",
    "The difference between Git and GitHub is that, Git is local, and GitHub is remote."
   ]
  },
  {
   "cell_type": "markdown",
   "metadata": {},
   "source": [
    "# Initial Setup\n",
    "1. Install Git (`brew install git`).\n",
    "2. Check the version of the Git, `git --version`.\n",
    "3. Configure Git,\n",
    "    - `git config --global user.name \"<user name>\"`\n",
    "    - `git config --global user.email \"user_email@xyz.com\"`"
   ]
  },
  {
   "cell_type": "markdown",
   "metadata": {},
   "source": []
  }
 ],
 "metadata": {
  "language_info": {
   "name": "python"
  }
 },
 "nbformat": 4,
 "nbformat_minor": 2
}
