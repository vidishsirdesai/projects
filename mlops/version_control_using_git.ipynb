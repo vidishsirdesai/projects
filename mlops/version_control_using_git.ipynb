{
 "cells": [
  {
   "cell_type": "markdown",
   "metadata": {},
   "source": [
    "# What Is DevOps?\n",
    "DevOps combines depelopment (Dev) and operations (Ops) to increase the efficiency, speed, and security of software development and delivery compared to traditional process. A more nimble software development lifecycle results in a competitive advantage for businesses and their customers. It is a concept that works in a loop.\n",
    "\n",
    "DevOps deals with software development practice which combines development and operations. Meaning, it comprises of all the processes from development, testing, deployment and finally maintenance or operations. Most of the times, pipelines are built to carry out the process of deployment.\n",
    "\n",
    "The development process is represented on the left hand side of the loop, and the operations process is represented on the right hand side of the loop."
   ]
  }
 ],
 "metadata": {
  "language_info": {
   "name": "python"
  }
 },
 "nbformat": 4,
 "nbformat_minor": 2
}
