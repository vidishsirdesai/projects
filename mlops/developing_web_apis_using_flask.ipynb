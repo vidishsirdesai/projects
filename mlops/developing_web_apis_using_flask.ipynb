{
 "cells": [
  {
   "cell_type": "markdown",
   "metadata": {},
   "source": [
    "# Why Is Knowing Web Development Important For A Data Scientist?\n",
    "The simple reason is that the role of a Data Scientist requires them to develop a software that makes use of AI in the background. There is no use of developing an AI model if it is not usable by the stake-holders through a web app or an interface."
   ]
  },
  {
   "cell_type": "markdown",
   "metadata": {},
   "source": [
    "# How Does An ML Idea See The Light Of The Day? The End-To-End Process Of Developing And Deploying An ML Solution\n",
    "### Phase 1: Planning\n",
    "1. The first thing needed to develop an ML model is data. Data can be in different formats (e.g., `.csv`, `.txt`, `.json`, etc).\n",
    "2. Data cleaning, preprocessing, and EDA is performed once the relevant data that is needed is in place.\n",
    "3. Requirements on what is to be done with the data are gathered.\n",
    "4. A map of what is to be done, how is it to be done, and when is it to be done is drawn.\n",
    "5. The output of this step is the clean data using which the model is built.\n",
    "\n",
    "### Phase 2: Model building\n",
    "1. Based on the requirements, a decision is made on what type of model is to be built to serve the requirement.\n",
    "2. The model is then built, and the performance of the model is computed.\n",
    "3. The areas that need improvement are researched upon, and the necessary actions are taken to improve the model's performance on the unseen data.\n",
    "4. The output of this step is an ML model.\n",
    "\n",
    "### Phase 3: Backend development\n",
    "1. A backend software that includes the logic that will be served to the customer(s) is developed. Logic can be, authentication, user information filtering, basically the stuff that happens in the product owner's servers.\n",
    "2. From this backend logic, APIs are built. These APIs can be accessed by the users, to ask the backend logic for whatever details it is they are looking for in the application.\n",
    "3. Once the server has a response for the API endpoint, the response is returned back to the user.\n",
    "4. Java, Python, NodeJS, AngularJS etc, are popularly used for building backend code.\n",
    "\n",
    "### Phase 4: Frontend development\n",
    "1. The interface with which the user is giong to interact with is built here.\n",
    "2. Popularly, HTML, CSS, JavaScript, ReactJS are used in building such web interfaces.\n",
    "\n",
    "The job of a Data Scientist ends after Phase 3, i.e., building the API.\n",
    "\n",
    "### Note\n",
    "- Whatever code that is running on the client's machine is the frontend code.\n",
    "- Whatever code that is running on the server's machine is the backend code.\n",
    "- Frontend code calls the API's of the backend code, then the backend code generates a response to the API that made the call. The result is then displayed to the client."
   ]
  },
  {
   "cell_type": "markdown",
   "metadata": {},
   "source": [
    "# What Are APIs?\n",
    "Web APIs are are tools for making information and application functionality accessible over the internet.\n",
    "\n",
    "In programming more generally, the term API, short for Application Programming Interface, refers to a part of a computer program designed to be used or manipulated by another program, as opposed to an interface designed to be used or manipulated by a human. Computer programs frequently need to communicate amongst themselves or with the underlying operating system, and APIs are one way they do it.\n",
    "\n",
    "### API terminology\n",
    "While building APIs, the following terms are frequently encountered,\n",
    "- **HTTP**: "
   ]
  }
 ],
 "metadata": {
  "language_info": {
   "name": "python"
  }
 },
 "nbformat": 4,
 "nbformat_minor": 2
}
