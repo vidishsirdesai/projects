{
 "cells": [
  {
   "cell_type": "markdown",
   "metadata": {},
   "source": [
    "# Why Is Knowing Web Development Important For A Data Scientist?\n",
    "The simple reason is that the role of a Data Scientist requires them to develop a software that makes use of AI in the background. There is no use of developing an AI model if it is not usable by the stake-holders through a web app or an interface."
   ]
  },
  {
   "cell_type": "markdown",
   "metadata": {},
   "source": []
  }
 ],
 "metadata": {
  "language_info": {
   "name": "python"
  }
 },
 "nbformat": 4,
 "nbformat_minor": 2
}
