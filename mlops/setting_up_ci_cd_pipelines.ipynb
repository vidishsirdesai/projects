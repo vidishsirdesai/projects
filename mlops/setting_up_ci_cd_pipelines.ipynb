{
 "cells": [
  {
   "cell_type": "markdown",
   "metadata": {},
   "source": [
    "# Introduction\n",
    "The following flowchart shows the lifecycle of an ML project,\n",
    "\n",
    "```mermaid\n",
    "flowchart LR\n",
    "    A(Requirement Gathering) --> B(Data Collection)\n",
    "    B --> C(EDA)\n",
    "    C --> D(Model Building)\n",
    "    D --> E(Testing)\n",
    "    E --> F(Containerization)\n",
    "    F --> G(Deploy)\n",
    "```\n",
    "\n",
    "In the lifecycle above the code changes keep happening quite frequently at different steps, and it is imperative to make sure that after code commit, the code does not break. Hence, developers carry out unit tests to ensure that their addition to the code base has not had a disastrous effect.\n",
    "\n",
    "This task of developing, testing, and deploying is a tedious task if done manually. This is where automated pipelines come into the picture. These pipelines are divided into 2 parts,\n",
    "1. Continuous Integration (CI)\n",
    "2. Continuous Delivery (CD)\n",
    "\n",
    "The following figure illustrates the CI/ CD pipeline,\n",
    "\n",
    "```mermaid\n",
    "flowchart LR\n",
    "    subgraph CI\n",
    "        A(PLAN) --> B(CODE)\n",
    "        B --> C(BUILD)\n",
    "        C --> D(TEST)\n",
    "    end\n",
    "    subgraph CD\n",
    "        E(RELEASE) --> F(DEPLOY)\n",
    "        F --> G(OPERATE)\n",
    "        G --> H(MONITOR)\n",
    "    end\n",
    "    D --> E\n",
    "    H --> A\n",
    "```"
   ]
  },
  {
   "cell_type": "markdown",
   "metadata": {},
   "source": []
  }
 ],
 "metadata": {
  "language_info": {
   "name": "python"
  }
 },
 "nbformat": 4,
 "nbformat_minor": 2
}
