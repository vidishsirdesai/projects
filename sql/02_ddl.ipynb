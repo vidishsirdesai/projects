{
 "cells": [
  {
   "cell_type": "markdown",
   "metadata": {},
   "source": [
    "# DDL\n",
    "DDL stands for Data Definition Language.\n",
    "\n",
    "DDL is a subset of SQL and a part of DBMS. This type of SQL is used to create tables. Anything that has to do with the table schema where the table is defined, is done using DDL.\n",
    "\n",
    "The DDL commands are used to create or modify the tables in SQL."
   ]
  },
  {
   "cell_type": "markdown",
   "metadata": {},
   "source": [
    "# CREATE\n",
    "The CREATE command is used to create a new table or database in SQL. The user has to give information like, table name, column name and their data type.\n",
    "\n",
    "```sql\n",
    "-- syntax to create a database\n",
    "create schema database_name;\n",
    "\n",
    "# syntax to create table\n",
    "create table table_name\n",
    "(\n",
    "\tcolumn1 datatype,\n",
    "\tcolumn2 datatype,\n",
    "\tcolumnN datatype,\n",
    ");\n",
    "\n",
    "-- example\n",
    "-- the query below creates a table for storing student information of a \n",
    "-- particular college\n",
    "create table Student_info\n",
    "(\n",
    "\tCollege_Id number(2),\n",
    "\tCollege_name varchar(30),\n",
    "\tBranch varchar(10)\n",
    ");\n",
    "\n",
    "-- code for BigQuery\n",
    "create table `vidish-sirdesai-scaler-dsml.example_dataset.example_table1` (\n",
    "  user_id INT64,\n",
    "  email STRING,\n",
    "  first_name STRING,\n",
    "  last_name STRING,\n",
    "  signup_date DATE\n",
    ");\n",
    "```"
   ]
  },
  {
   "cell_type": "markdown",
   "metadata": {},
   "source": []
  }
 ],
 "metadata": {
  "language_info": {
   "name": "python"
  }
 },
 "nbformat": 4,
 "nbformat_minor": 2
}
