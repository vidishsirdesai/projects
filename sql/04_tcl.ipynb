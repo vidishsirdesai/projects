{
 "cells": [
  {
   "cell_type": "markdown",
   "metadata": {},
   "source": [
    "# TCL\n",
    "TCL stands for Transaction Control Language.\n",
    "\n",
    "This deals with how the transactions are happening. For example, until the `commit` command is not run the data will not get saved.\n",
    "\n",
    "A single unit of work in a database is formed after the consecutive execution of commands is known as a transaction.\n",
    "\n",
    "There are certain commands present in SQL known as TCL commands that help the user manage the transactions that place in a database."
   ]
  },
  {
   "cell_type": "markdown",
   "metadata": {},
   "source": []
  }
 ],
 "metadata": {
  "language_info": {
   "name": "python"
  }
 },
 "nbformat": 4,
 "nbformat_minor": 2
}
