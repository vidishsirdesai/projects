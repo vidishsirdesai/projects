{
 "cells": [
  {
   "cell_type": "markdown",
   "metadata": {},
   "source": [
    "# What Is Data?\n",
    "Data is raw information.\n",
    "\n",
    "In pursuit of knowledge, data is a collection of discrete values that convey information, describing quantities, quality, facts, statistics, other basic units of meaning or simply sequences of symbols that may be further interpreted."
   ]
  },
  {
   "cell_type": "markdown",
   "metadata": {},
   "source": [
    "# What Is Datum?\n",
    "A datum is an individual value in a collection of data."
   ]
  },
  {
   "cell_type": "markdown",
   "metadata": {},
   "source": [
    "# What Is A Table?\n",
    "The place where all the datums are stored is called as a table. The arrangement of data in a table is in the form of rows and columns.\n",
    "\n",
    "There are different ways to represent a data point or a data entity. For example, a student entity will have, name, roll number, class, student-id, etc, which are all associated with the entity and define the student data entity.\n",
    "\n",
    "A row in a table will always represent the information corresponding to a single data entity. In other words, each row in a dataset represents a datum."
   ]
  },
  {
   "cell_type": "markdown",
   "metadata": {},
   "source": [
    "# What Is A Database?\n",
    "A Database is a collection of inter-related tables.\n",
    "\n",
    "A Database is an organized collection of structured information or data, typically stored electronically in a computer system.\n",
    "\n",
    "A Database is called a collection of inter-related tables, because all the entities are connected to each other in some way or the other."
   ]
  },
  {
   "cell_type": "markdown",
   "metadata": {},
   "source": [
    "# What Is DBMS?\n",
    "DBMS stands for Data Base Management System.\n",
    "\n",
    "DBMS contains a set of programs to access and manipulate the data stored in a database. DBMS takes care of things like efficiency, consistency, speed, security, etc.\n",
    "\n",
    "A DBMS is nothing more than a computerized data-keeping system/ software. Users of the system are given facilities to perform several kinds of operations on such system, for either manipulation of the data, or the management of the database structure itself.\n",
    "\n",
    "A DBMS is like a car, meaning, there is no need to have an internal understanding of how a car works in order to drive it. Meaning, to know how to use a DBMS, there is no need to know how a DBMS works internally. The only thing that should be known is, how to write queries on the top of it, to extract data from it (which is what the role of Data Scientist/ Analyst requires).\n",
    "\n",
    "DBMS is also called as R-DBMS. The R in R-DBMS stands for relational. Relational means a table. DBMS typically stores data that is in the form of tables, it means it is structured, or there is structure to that data.\n",
    "\n",
    "There is also another kind of DBMS software that is used to store data that isn't in the form of tables. Such kind falls under NoSQL databases. This kind is exactly opposite to structured, they help in dealing with unstructured data. \n",
    "\n",
    "Examples of unstructured data include: images, texts, graphs (connected maps), documents.\n",
    "\n",
    "One example of a company that creates NoSQL type of databases is MongoDB.\n",
    "\n",
    "### Why did the NoSQL type of databases become important?\n",
    "This is because of the transition from the `.com` bubble to social media bubble, all the data has become unstructured. To solve this problem, NoSQL became very important.\n",
    "\n",
    "### Limitations of DBMS:\n",
    "1. DBMS are good to store, and perform transactions on the data. But, they are not so great when analyzing the data.\n",
    "2. DBMS always shows the real-time data.\n",
    "3. Can handle data in the quantity of terra bytes.\n",
    "4. Updated frequently.\n",
    "\n",
    "DBMS is the first point of contact for a website or any sort of service running online.\n",
    "\n",
    "### Examples of DBMS:\n",
    "Oracle, mySQL, PostgreSQL, PL SQL etc,."
   ]
  },
  {
   "cell_type": "markdown",
   "metadata": {},
   "source": [
    "# DB-Schema\n",
    "A DB-Schema represents how the data is organized and provided information about the relationships between the tables in a given database.\n",
    "\n",
    "What's important to understand in a DB-Schema is the structure of different tables and the relationship between the different tables.\n",
    "\n",
    "A DB-Schema is showcased using a diagram called ER (Entity-Relation) diagram. Entity is a data point in general and relation is the relationship between them. For example, in a University DB, students, teachers, departments, etc, are entities"
   ]
  },
  {
   "cell_type": "markdown",
   "metadata": {},
   "source": [
    "# Table Schema\n",
    "Table schema represents the metadata of the table.\n",
    "\n",
    "Metadata in simple words is, data about the data. Meaning, metadata is information that describes an entity and not what is in it."
   ]
  },
  {
   "cell_type": "markdown",
   "metadata": {},
   "source": [
    "# Attributes (Columns/ Fields)\n",
    "They are the pieces of information that represent or describe an entity. For example, a student entity is described by, id, name, department, performance, etc.\n",
    "\n",
    "Data types of an attribute (INT, FLOAT, STRING, CHAR).\n",
    "\n",
    "There are 3 main data types,\n",
    "1. Numerical: integers, floating points.\n",
    "2. String: char, varchar.\n",
    "3. Datetime: date, timestamp.\n",
    "\n",
    "### CHAR v. VARCHAR\n",
    "- Whenever dealing with text or string information that can vary in size, `VARCHAR` should be used. For example, name, address, etc.\n",
    "- Whenever dealing with fixed length strings, `CHAR` can be used. For example, gender, pincode, id proof, etc.\n",
    "\n",
    "### How to define `VARCHAR`?\n",
    "```sql\n",
    "varchar(<max_size>)\n",
    "```\n",
    "\n",
    "### Why is it important to have different data types?\n",
    "- Not all operations are possible in all data types. For example, `\"abcxyx\" * 12`, does not make any sense in most of the scenarios.\n",
    "- This becomes even more important while dealing with date data types. Operations like finding the `month_of_year`, `day_of_week`, etc, cannot be performed if a date were stored as string data type."
   ]
  },
  {
   "cell_type": "markdown",
   "metadata": {},
   "source": [
    "# ER Diagram\n",
    "An Entity-Relationship diagram is a visual representation used in Database design to illustrate the relationships between entities in a Database schema (DB schema). It is a graphical technique used to model the structure of a database in terms of entities and relationships between them. The main components of an ER diagram are entities, attributes and relationships.\n",
    "\n",
    "The following is an explanation of each component,\n",
    "1. Entity: An entity is a real-world object or concept that has an independent existence and can be uniquely identified. In a diagram, entities are represented by rectangles. 1. For example, in a database for a university, entities could include Student, Course, and Instructor.\n",
    "2. Attribute: An attribute is a property, or characteristic of an entity. Attribute describes the different aspects that make up an entity. Attributes are represented by oval/ ellipses connected to their respective entities. For example, attributes of a Student entity could include Student_ID, Name, and GPA.\n",
    "3. Relationship: A relationship is an association between entities. It describes how entities are related to each other. Relationships are represented by lines connecting entities, with optional annotations (diamond) to describe the nature of the relationship. For example, a relationship between Student and Course could be “Enrolls In”, indicating that a student enrolls in courses.\n",
    "\n",
    "![sql_1](../artifacts/sql_1.png)\n",
    "\n",
    "An example of how an ER diagram looks like,\n",
    "\n",
    "![sql_2](../artifacts/sql_2.png)\n",
    "\n",
    "![sql_3](../artifacts/sql_3.png)"
   ]
  },
  {
   "cell_type": "markdown",
   "metadata": {},
   "source": [
    "# Keys\n",
    "Keys are a part of table or DB-Schema that help define constraints associated to the data that goes in a table.\n",
    "\n",
    "The different types of keys are,\n",
    "1. Primary Key: A column or a set of columns that can be used to uniquely identify each row in the table. Constraints = Unique + Not Null\n",
    "2. Foreign Key: A foreign key is a column in one table that refers to the primary key in another table. Foreign keys link tables together in a relational database. The relationship between two keys is taken care of by the foreign key. Constraint = Data Consistency.\n",
    "3. Candidate key: Columns or a group of columns who are eligible to become primary key are called as candidate keys.\n",
    "\n",
    "Primary keys are typically formed by IDs.\n",
    "\n",
    "An attribute in a relation is a foreign key if the primary key from one relation is used as an attribute in that relation."
   ]
  },
  {
   "cell_type": "markdown",
   "metadata": {},
   "source": [
    "# Relationships\n",
    "- One-to-One Relationship: Single row in table1 is related to only a single row in table2. Single row in table2 is related to only a single row in table1.\n",
    "- One-to-Many Relationship: Single row in table1 is related to many rows in table2. A single row in table2 is related to many rows in table1.\n",
    "- Many-to-One Relationship: Many rows in table1 are related to one row in table2. Many rows in table2 is related to one row on table1.\n",
    "- Many-to-Many Relationship: Many rows in table1 are related to many rows in table2. Many rows in table2 are related to many rows in table1.\n",
    "- Implementation of Relationships:\n",
    "    1. One-to-One: These types of relationships are never actualized (in most cases). Why? Such relations are too trivial to separate the data into separate tables.\n",
    "    2. Many-to-Many: These types of relationships are also never actualized. Why? Primary key cannot be repeated.\n",
    "\n",
    "### Alternative Explanation\n",
    "In Entity-Relationship (ER) diagrams, relationships represent the connections between different entities (tables) that store data in your database. There are three main types of relationships:\n",
    "\n",
    "1. One-to-One (1:1): In this relationship, a single record in one entity is associated with exactly one record in another entity. Here are some examples:\n",
    "    - A `Customer` entity can have only one `BillingAddress`\n",
    "    - A `Passport` entity can be linked to only one `Person`\n",
    "2. One-to-Many (1:N): This is the most common type of relationship. A single record in one entity (the \"one\" side) is associated with multiple records in another entity (the \"many\" side). Examples include:\n",
    "    - A `Course` entity can have many `Student`s enrolled (one course, many students)\n",
    "    - An `Order` entity can have many `OrderLine` entries (one order, many items)\n",
    "3. Many-to-Many (N:M): In this relationship, multiple records in one entity can be associated with multiple records in another entity. A separate table is typically needed to represent the many-to-many connection. Here are some examples:\n",
    "    - A `Student` can enroll in many `Course`s, and a `Course` can have many `Student`s enrolled (many students, many courses) - An additional table, `Enrollment`, would be required to capture this relationship, specifying which students are enrolled in which courses.\n",
    "    - A `Movie` can have many `Actor`s, and an `Actor` can be in many `Movie`s (many actors, many movies) - An additional table, `Cast`, would be needed to show which actors appear in which movies."
   ]
  },
  {
   "cell_type": "markdown",
   "metadata": {},
   "source": [
    "# Normalization\n",
    "Keeping data in separate tables is called as normalization.\n",
    "\n",
    "### Why is it important to separate data into different tables?\n",
    "It is a good practice to place that data which has one-to-one relation in a single table, than to place them in separate tables.\n",
    "\n",
    "The same would be the case with many-to-many relationships as well."
   ]
  },
  {
   "cell_type": "markdown",
   "metadata": {},
   "source": [
    "# Data Warehouse\n",
    "Data warehouses are capable of storing large amounts of data.\n",
    "\n",
    "To overcome the limitations of DBMS, once the data comes into the DBMS, an automation job is created to push the incoming data into a warehouse.\n",
    "\n",
    "Speciality of Data Warehouses,\n",
    "1. Specialized for analysis.\n",
    "2. Data warehouse is capable of handling petabytes of data.\n",
    "3. Never loses data.\n",
    "\n",
    "Examples of Data Warehouses: BigQuery (GCP), Redshift (AWS) etc,."
   ]
  },
  {
   "cell_type": "markdown",
   "metadata": {},
   "source": [
    "# SQL\n",
    "SQL stands for Structured Query Language. SQL lets you access and manipulate databases. SQL became a standard of the American National Standards Institute (ANSI) in 1986, and that of International Organization of Standardization (ISO) in 1987.\n",
    "\n",
    "SQL allows you to interact with the data stored in warehouses and DBMSs. IBM invented SQL, SQL has different types of categories, and these categories are based on different kinds of functionalities they offer.\n",
    "\n",
    "### Types of SQL\n",
    "1. DDL (Data Definition Language): This type of SQL is used to create tables. Anything that has to do with the table schema where the tables are defined, is done using DDL.\n",
    "Commands like, CREATE, ALTER, TRUNCATE, are a part of DDL.\n",
    "2. DML (Data Manipulation Language): This type of SQL is used to when dealing with data, meaning this concerns with how the data is changing in the database.\n",
    "Commands like, INSERT, UPDATE, DELETE, are a part of DML.\n",
    "3. TCL (Transaction Control Language): This deals with how the data transactions are happening. For example, until the COMMIT command is run the data will not get saved. \n",
    "Commands like, SAVE POINT, ROLL BACK, COMMIT, are a part of TCL.\n",
    "4. DQL (Data Query Language): [This type of SQL is most used by a Data Analyst/ Scientist].\n",
    "This deals with how required data can be extracted from the database. SELECT, FROM, WHERE are the 3 major clauses that are used in DQL.\n",
    "5. DCL (Data Control Language): This is used by the database admin. This deals with who has what type of control over the database.\n",
    "Commands like GRANT, REVOKE, are a part of DCL.\n",
    "\n",
    "### SQL can be used to perform the following operations\n",
    "- SQL can execute queries against a database.\n",
    "- SQL can retrieve data from a database.\n",
    "- SQL can insert records in a database.\n",
    "- SQL can update records in a database.\n",
    "- SQL can delete records from a database.\n",
    "- SQL can create new databases.\n",
    "- SQL can create new tables in a database.\n",
    "- SQL can create stored procedures in a database.\n",
    "- SQL can create views in a database.\n",
    "- SQL can set permissions on tables, procedures, and views.\n",
    "\n",
    "SQL is not a case sensitive language. The only case sensitive thing that should be taken care of is how the columns_name and table_name is defined. For example, if the table_name is starting with a capital letter, then it should be used in a similar fashion.\n",
    "\n",
    "SQL is a language which helps in interacting with DBMS.\n",
    "\n",
    "Just like any other language, there are a set of rules that need to be followed in SQL to extract the data correctly from the database. So, SQL's syntax is made up of certain different keywords, if you abide by these key words the output will come out correctly.\n",
    "\n",
    "### General Syntax of SQL:\n",
    "```sql\n",
    "select [col1, col2, col3]\n",
    "-- \"select\" means what all columns you want to look at in the output from the table.\n",
    "-- \"select\" helps to select different columns.\n",
    "\n",
    "from [table_name]\n",
    "-- \"from\" means which table should the columns be selected from.\n",
    "\n",
    "where [conditions]\n",
    "-- \"where\" takes care of conditions.\n",
    "\n",
    "order by [col1, col2, col3]\n",
    "-- \"order by\" is used to sort the data in a certain order.\n",
    "\n",
    "limit [no_of_rows]\n",
    "-- \"limit\" is used to see only limited amount of data. \n",
    "-- If \"limit\" is 50, the output will have only 50 rows.\n",
    "-- \"limit\" is applied on the SELECTed columns.\n",
    "\n",
    "-- this is a comment in SQL\n",
    "# this also a comment in SQL\n",
    "```\n",
    "\n",
    "After every query is written, it should be followed by a semi-colon (;). Semi-colon marks the end of a query."
   ]
  },
  {
   "cell_type": "markdown",
   "metadata": {},
   "source": [
    "# Setting Up BigQuery\n",
    "1. Make sure you are logged into your Google account, and go to BigQuery by clicking on this link: https://cloud.google.com/bigquery/docs/sandbox, and click on the “Go to BigQuery”.\n",
    "2. Click on “My First Project” and “New Project”.\n",
    "3. Give a name to your project and No organization under location and click create.\n",
    "4. It might take few seconds to mins to create.\n",
    "5. Once done you should be able to see the project you just created under the explorer.\n",
    "6. Click on the 3 dots and select “Create dataset”\n",
    "7. The dataset ID is going to be the name of your DB. So we are going to be naming it as\n",
    "“farmers_market” and chose a location that is closest to your region (I chose Mumbai) and click “Create Dataset”.\n",
    "8. Now you can see the database name under your project.\n",
    "9. The database is empty with no tables in it. We will have to upload all the tables that are required to run our queries. For the farmers_market DB we will have to upload all the tables that was shared as a .csv file.\n",
    "10. Download all the tables that are required from google drive.\n",
    "    1. Click on the 3 dots and select “Create table”\n",
    "    2. Select “Upload” under the “Create table from”\n",
    "    3. Upload the first table (i.e. “product.csv” as one of the table in the picture). File Format gets detected automatically.\n",
    "    4. Destination: Project and Dataset will be auto-populated, so you don't have to make any changes.\n",
    "    5. Under the “Table”, give the name of the table name. Please keep it same as the filename you upload (i.e. product).\n",
    "    6. Check the auto-detect checkbox under “Schema”.\n",
    "    7. We don't have to make any other changes and click “Create Table”.\n",
    "11. It might take a few seconds to create and you should be able to see the uploaded table in the Explorer under DB farmers_market.\n",
    "12. We will have to upload all the other tables that are required to run all the queries. Please follow the step 10 for each table that you want to upload.\n",
    "13. When you click on the table you should be able to see the schema of the table, i.e all the names of the columns, their types, Nullable etc.\n",
    "14. Under “Preview” you can have a quick look at the data.\n",
    "15. You can start writing queries by clicking on the “Query” drop down on either a tab or split view."
   ]
  }
 ],
 "metadata": {
  "language_info": {
   "name": "python"
  }
 },
 "nbformat": 4,
 "nbformat_minor": 2
}
