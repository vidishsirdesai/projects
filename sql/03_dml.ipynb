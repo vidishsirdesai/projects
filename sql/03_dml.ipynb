{
 "cells": [
  {
   "cell_type": "markdown",
   "metadata": {},
   "source": [
    "# DML\n",
    "DML stands for Data Manipulation Language.\n",
    "\n",
    "The DML commands is SQL change the data present in the SQL database. This existing records can be easily accessed, stored, modified, updated and deleted from the database using the DML commands."
   ]
  },
  {
   "cell_type": "markdown",
   "metadata": {},
   "source": [
    "# `select`\n",
    "`select` is the most important data manipulation command in SQL.\n",
    "\n",
    "The `select` command shows the records of the specified table. It also shows the particular record of a particular column by using the `where` clause.\n",
    "\n",
    "```sql\n",
    "-- syntax\n",
    "select column1, column2, ..., columnN \n",
    "from table_name;\n",
    "\n",
    "-- syntax to select all the columns\n",
    "select *\n",
    "from table_name;\n",
    "```"
   ]
  },
  {
   "cell_type": "markdown",
   "metadata": {},
   "source": []
  }
 ],
 "metadata": {
  "language_info": {
   "name": "python"
  }
 },
 "nbformat": 4,
 "nbformat_minor": 2
}
