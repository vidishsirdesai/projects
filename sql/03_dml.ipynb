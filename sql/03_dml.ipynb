{
 "cells": [
  {
   "cell_type": "markdown",
   "metadata": {},
   "source": [
    "# DML\n",
    "DML stands for Data Manipulation Language.\n",
    "\n",
    "The DML commands is SQL change the data present in the SQL database. This existing records can be easily accessed, stored, modified, updated and deleted from the database using the DML commands."
   ]
  },
  {
   "cell_type": "markdown",
   "metadata": {},
   "source": [
    "# `select`\n",
    "`select` is the most important data manipulation command in SQL.\n",
    "\n",
    "The `select` command shows the records of the specified table. It also shows the particular record of a particular column by using the `where` clause.\n",
    "\n",
    "```sql\n",
    "-- syntax\n",
    "select column1, column2, ..., columnN \n",
    "from table_name;\n",
    "\n",
    "-- syntax to select all the columns\n",
    "select *\n",
    "from table_name;\n",
    "```"
   ]
  },
  {
   "cell_type": "markdown",
   "metadata": {},
   "source": [
    "# `insert`\n",
    "`insert` is another most important data manipulation command in SQL, which allows to insert data in database tables.\n",
    "\n",
    "```sql\n",
    "-- syntax\n",
    "insert into table_name \n",
    "( \n",
    "\tcolumn1, \n",
    "\tcolumn2, \n",
    "\tcolumnN\n",
    ")\n",
    "values (value1, value2, ..., valueN);\n",
    "```"
   ]
  },
  {
   "cell_type": "markdown",
   "metadata": {},
   "source": [
    "# `update`\n",
    "The `update` command is used to update or modify the existing data in the database tables.\n",
    "\n",
    "```sql\n",
    "-- syntax\n",
    "update table_name\n",
    "set [column1 = value1, ..., columnN = valueN]\n",
    "where condition;\n",
    "```"
   ]
  },
  {
   "cell_type": "markdown",
   "metadata": {},
   "source": [
    "# `delete`\n",
    "`delete` is a DML command which allows SQL users to remove single or multiple existing records from the database tables.\n",
    "\n",
    "This command of DML does not delete the stored data permanently from the database. The `where` command is used with the `delete` command to select specific rows from the table.\n",
    "\n",
    "```sql\n",
    "-- syntax\n",
    "delete from table_name\n",
    "where condition;\n",
    "```"
   ]
  }
 ],
 "metadata": {
  "language_info": {
   "name": "python"
  }
 },
 "nbformat": 4,
 "nbformat_minor": 2
}
