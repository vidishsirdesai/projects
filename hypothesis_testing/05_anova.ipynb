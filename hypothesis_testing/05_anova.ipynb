{
 "cells": [
  {
   "cell_type": "markdown",
   "metadata": {},
   "source": [
    "# ANOVA\n",
    "ANOVA, or Analysis of Variance, is a statistical method used to compare means among three or more groups. It assesses whether there are any statistically significant differences in the means of a dependent variable across different groups. ANOVA is commonly used in experimental and research settings where multiple groups are compared.\n",
    "\n",
    "The following are the key points about ANOVA,\n",
    "1. "
   ]
  }
 ],
 "metadata": {
  "language_info": {
   "name": "python"
  }
 },
 "nbformat": 4,
 "nbformat_minor": 2
}
