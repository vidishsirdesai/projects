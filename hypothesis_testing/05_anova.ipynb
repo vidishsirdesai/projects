{
 "cells": [
  {
   "cell_type": "markdown",
   "metadata": {},
   "source": [
    "# ANOVA\n",
    "ANOVA, or Analysis of Variance, is a statistical method used to compare means among three or more groups. It assesses whether there are any statistically significant differences in the means of a dependent variable across different groups. ANOVA is commonly used in experimental and research settings where multiple groups are compared.\n",
    "\n",
    "The following are the key points about ANOVA,\n",
    "1. Null hypothesis (H0): The null hypothesis for ANOVA is that there are no significant differences among the group means.\n",
    "2. Alternative hypothesis (H1): The alternative hypothesis typically asserts that atleast one group mean is different from the others.\n",
    "3. Assumption of normality: ANOVA assumes that the populations from which the samples are drawn are normally distributed. This assumption is more critical for smaller sample sizes.\n",
    "4. Homogeneity of variances: ANOVA assumes that the variances within each group are approximately equal. This assumption is known as homogeneity of variance.\n",
    "5. Independent samples: The samples used in ANOVA should be independent of each other.\n",
    "6. Categorical independent variable: ANOVA is used when there is one categorical independent variable (with three or more levels or groups) and one continuous dependent variable.\n",
    "\n",
    "There are different types of ANOVA,\n",
    "- One-Way ANOVA: Compares means across three or more independent (unrelated) groups.\n",
    "- Two-Way ANOVA: Involves two independent variables. It can assess the main effects of each variable and their interaction effect.\n",
    "- Repeated Measures ANOVA: Involves repeated measurements on the same subjects or groups over time.\n",
    "\n",
    "The test statistic in ANOVA is the F-statistic and the decision to reject the null hypothesis is based on comparing the calculated F-statistic to a critical value or by looking at the associated P-Value."
   ]
  },
  {
   "cell_type": "markdown",
   "metadata": {},
   "source": [
    "# Implementation of ANOVA"
   ]
  },
  {
   "cell_type": "code",
   "execution_count": 1,
   "metadata": {},
   "outputs": [
    {
     "name": "stdout",
     "output_type": "stream",
     "text": [
      "F-Statistic: 8.912790697674415\n",
      "P-Value: 0.0042418369129101855\n"
     ]
    }
   ],
   "source": [
    "from scipy.stats import f_oneway\n",
    "\n",
    "# Example data for three groups\n",
    "group1 = [23, 21, 18, 25, 27]\n",
    "group2 = [30, 28, 35, 32, 26]\n",
    "group3 = [20, 18, 22, 24, 26]\n",
    "\n",
    "# Perform one-way ANOVA\n",
    "f_statistic, p_value = f_oneway(group1, group2, group3)\n",
    "\n",
    "# Print results\n",
    "print(\"F-Statistic:\", f_statistic)\n",
    "print(\"P-Value:\", p_value)"
   ]
  },
  {
   "cell_type": "markdown",
   "metadata": {},
   "source": [
    "Remember, when interpreting the results, a significant P-Value suggests that there are significant differences among atleast 2 groups. If the P-Value is not significant, the null hypothesis is not rejected, indicating that there is no significant difference among the group means."
   ]
  },
  {
   "cell_type": "markdown",
   "metadata": {},
   "source": [
    "# What Is F-Ratio?\n",
    "$\\text{F-Ratio} = \\frac{\\text{Variance between groups}}{\\text{Variance within groups}}$.\n",
    "\n",
    "Based on the distribution, there is a way to calculate the P-Value.\n",
    "- If F - Ratio is high, then the p - value is low, go for H1.\n",
    "- If F - Ratio is low, then the p - value is high, go for H0.\n",
    "\n",
    "ANOVA will output the F-Stat and the P-Value."
   ]
  },
  {
   "cell_type": "markdown",
   "metadata": {},
   "source": [
    "# Example"
   ]
  },
  {
   "cell_type": "code",
   "execution_count": 3,
   "metadata": {},
   "outputs": [
    {
     "name": "stdout",
     "output_type": "stream",
     "text": [
      "Fail to reject H0\n",
      "All groups have the same mean\n",
      "Accept H0\n"
     ]
    },
    {
     "data": {
      "image/png": "[encoded data removed]",
      "text/plain": [
       "<Figure size 640x480 with 1 Axes>"
      ]
     },
     "metadata": {},
     "output_type": "display_data"
    }
   ],
   "source": [
    "import numpy as np\n",
    "import pandas as pd\n",
    "import matplotlib.pyplot as plt\n",
    "import seaborn as sns\n",
    "import math\n",
    "from scipy.stats import f_oneway\n",
    "\n",
    "# import the dataset\n",
    "df = pd.read_csv(\"aerofit.csv\")\n",
    "df\n",
    "\n",
    "# create three random groups\n",
    "df[\"random_group\"] = np.random.choice([\"g1\", \"g2\", \"g3\"], size = len(df))\n",
    "df\n",
    "\n",
    "# store the created groupd in different variables\n",
    "income_g1 = df[df[\"random_group\"] == \"g1\"][\"Income\"]\n",
    "income_g2 = df[df[\"random_group\"] == \"g2\"][\"Income\"]\n",
    "income_g3 = df[df[\"random_group\"] == \"g3\"][\"Income\"]\n",
    "\n",
    "# extract the means of the groups\n",
    "income_g1.mean()\n",
    "income_g2.mean()\n",
    "income_g3.mean()\n",
    "\n",
    "# H0: All groups have same mean\n",
    "# Ha: One or more groups have different mean\n",
    "\n",
    "# conduct the ANOVA test\n",
    "f_stat, p_value = f_oneway(income_g1, income_g2, income_g3)\n",
    "\n",
    "if p_value < 0.05:\n",
    "  print(\"Reject H0\")\n",
    "else:\n",
    "  print(\"Fail to reject H0\")\n",
    "  print(\"All groups have the same mean\")\n",
    "\n",
    "# repeat the same for income vs product\n",
    "# H0: All groups have the same mean\n",
    "\n",
    "sns.boxplot(x = \"Product\", y = \"Income\", data = df)\n",
    "\n",
    "income_kp281 = df[df[\"Product\"] == \"KP281\"][\"Income\"]\n",
    "income_kp481 = df[df[\"Product\"] == \"KP481\"][\"Income\"]\n",
    "income_kp781 = df[df[\"Product\"] == \"KP781\"][\"Income\"]\n",
    "\n",
    "income_kp281.mean()\n",
    "income_kp481.mean()\n",
    "income_kp781.mean()\n",
    "\n",
    "f_oneway(income_kp281, income_kp481, income_kp781)\n",
    "\n",
    "if p_value < 0.05:\n",
    "  print(\"Reject H0\")\n",
    "else:\n",
    "  print(\"Accept H0\")"
   ]
  },
  {
   "cell_type": "markdown",
   "metadata": {},
   "source": [
    "# Assumptions Of ANOVA\n",
    "The main idea behind ANOVA is the ratio of variance, but unfortunately the computation of P-Value, the corresponding distribution vis. F-Distribution or the F-Stat, all of these depend on the data being gaussian (THE DATA SHOULD BE GAUSSIAN).\n",
    "1. Data should be gaussian (but this is not always true, sometimes the data may be skewed - left or right).\n",
    "2. Data is independent of each other. What does this mean? Do not confuse this with independence between the features. The dependency may be there across the features, but there is dependency between the objects for which the feature exist.\n",
    "3. Equal variances in different groups. In practice, the above assumption can be ignored and ANOVA test can be conducted very well. But, it is important to adhere to the above assumptions while conducting the ANOVA test.\n",
    "\n",
    "When the assumptions are not followed strictly we go with Kruskal-Wallis Test."
   ]
  },
  {
   "cell_type": "markdown",
   "metadata": {},
   "source": [
    "# How To Check If The Data Is Gaussian?\n",
    "\n",
    "### QQ plot (Quartile-Quartile plot)\n",
    "The data is compared with actual Gaussian. Meaning, every percentile should be compared.\n",
    "\n",
    "If the data is gaussian, the 1st percentile of both (the data and the gaussian data) should be same.\n",
    "\n",
    "The QQ plot looks at the data at a granular level, as opposed to the 68/ 95/ 99 rule.\n",
    "If the data is equivalent to gaussian, it means that the scatter plot of data vs gaussian will lie in a single straight line (linear).\n",
    "\n",
    "If the data is totally different, the scatter plot will look to have a hap-hazard pattern (non-linear)."
   ]
  },
  {
   "cell_type": "code",
   "execution_count": 4,
   "metadata": {},
   "outputs": [
    {
     "data": {
      "image/png": "[encoded data removed]",
      "text/plain": [
       "<Figure size 640x480 with 1 Axes>"
      ]
     },
     "metadata": {},
     "output_type": "display_data"
    }
   ],
   "source": [
    "from statsmodels.graphics.gofplots import qqplot\n",
    "\n",
    "df = pd.read_csv(\"aerofit.csv\")\n",
    "\n",
    "qqplot(df[\"Income\"], line = \"s\")\n",
    "plt.show()"
   ]
  },
  {
   "cell_type": "markdown",
   "metadata": {},
   "source": [
    "QQ plot is used to only conduct a visual test and it is not a statistical test.\n",
    "\n",
    "### Shapiro Test\n",
    "A few samples from the data to conduct this test. This test may not work if the data is too large."
   ]
  },
  {
   "cell_type": "code",
   "execution_count": 5,
   "metadata": {},
   "outputs": [
    {
     "data": {
      "text/plain": [
       "(np.float64(0.8792906342240903), np.float64(1.6938523402950304e-07))"
      ]
     },
     "execution_count": 5,
     "metadata": {},
     "output_type": "execute_result"
    }
   ],
   "source": [
    "from scipy.stats import shapiro\n",
    "\n",
    "# create a subset of the data\n",
    "income_subset = df[\"Income\"].sample(100)\n",
    "income_subset\n",
    "\n",
    "# h0: Data is gaussian\n",
    "# h1: Data is not gaussian\n",
    "\n",
    "# conduct the shapiro test\n",
    "test_stat, p_value = shapiro(income_subset)\n",
    "test_stat, p_value"
   ]
  },
  {
   "cell_type": "markdown",
   "metadata": {},
   "source": [
    "# How To Check The Independence Of Data?\n",
    "It is not possible to confirm this."
   ]
  },
  {
   "cell_type": "markdown",
   "metadata": {},
   "source": [
    "# How To Check If There Is Equal Variance In Different Groups?\n",
    "### Levene Test"
   ]
  },
  {
   "cell_type": "code",
   "execution_count": 7,
   "metadata": {},
   "outputs": [
    {
     "data": {
      "text/plain": [
       "(np.float64(6.2120641863060255), np.float64(0.013602259044517926))"
      ]
     },
     "execution_count": 7,
     "metadata": {},
     "output_type": "execute_result"
    }
   ],
   "source": [
    "from scipy.stats import levene\n",
    "\n",
    "# store the incomes of male and female buyers in separate variables\n",
    "income_male = df[df[\"Gender\"] == \"Male\"][\"Income\"]\n",
    "income_female = df[df[\"Gender\"] == \"Female\"][\"Income\"]\n",
    "\n",
    "# find the means\n",
    "income_male.mean(), income_female.mean()\n",
    "\n",
    "# find the variance\n",
    "income_male.var(), income_female.var()\n",
    "\n",
    "# h0: Variance is equal\n",
    "# h1: Variance is not equal\n",
    "\n",
    "# conduct the levene test\n",
    "levene_stat, p_value = levene(income_male, income_female)\n",
    "levene_stat, p_value"
   ]
  },
  {
   "cell_type": "markdown",
   "metadata": {},
   "source": [
    "# Kruskal-Wallis Test\n",
    "The Kruskal-Wallis test is a non-parametric statistical test used to determine whether there are any statistically significant differences among two or more independent groups. It is an alternative to the one-way analysis of variance (ANOVA) for situations where the assumptions of ANOVA (such as normality and homogeneity of variances) are not met.\n",
    "\n",
    "The following are key points about the Kruskal-Wallis test,\n",
    "1. Null hypothesis (H0): The null hypothesis for the Kruskal-Wallis test is that there are no differences among the groups.\n",
    "2. Alternative hypothesis (H1): The alternative hypothesis suggests that at least one group is different from the others.\n",
    "3. Assumption of independence: The observations within each group should be independent of each other.\n",
    "4. Categorical independent variable: The Kruskal-Wallis test is used when there is one categorical independent variable (with three or more levels or groups) and one continuous dependent variable.\n",
    "5. Ranking of data: The data are ranked across all groups. The test is based on the ranks of the data rather than the actual values.\n",
    "6. Test statistic: The test statistic is denoted as H, and it follows the chi-squared distribution with $(k − 1)$ degrees of freedom, where $k$ is the number of groups."
   ]
  },
  {
   "cell_type": "code",
   "execution_count": 8,
   "metadata": {},
   "outputs": [
    {
     "name": "stdout",
     "output_type": "stream",
     "text": [
      "H-Statistic: 8.415053763440865\n",
      "P-Value: 0.014883130602986147\n"
     ]
    }
   ],
   "source": [
    "from scipy.stats import kruskal\n",
    "\n",
    "# Example data for three groups\n",
    "group1 = [23, 21, 18, 25, 27]\n",
    "group2 = [30, 28, 35, 32, 26]\n",
    "group3 = [20, 18, 22, 24, 26]\n",
    "\n",
    "# Perform Kruskal-Wallis test\n",
    "h_statistic, p_value = kruskal(group1, group2, group3)\n",
    "\n",
    "# Print results\n",
    "print(\"H-Statistic:\", h_statistic)\n",
    "print(\"P-Value:\", p_value)"
   ]
  },
  {
   "cell_type": "markdown",
   "metadata": {},
   "source": [
    "### Interpreting the Results\n",
    "If the P-Value is less than your chosen significance level (e.g., 0.05), the null hypothesis is rejected, suggesting that there are significant differences among at least two groups. If the P-Value is not significant, null hypothesis is not rejected, indicating that there is no significant difference among the groups."
   ]
  }
 ],
 "metadata": {
  "kernelspec": {
   "display_name": "Python 3",
   "language": "python",
   "name": "python3"
  },
  "language_info": {
   "codemirror_mode": {
    "name": "ipython",
    "version": 3
   },
   "file_extension": ".py",
   "mimetype": "text/x-python",
   "name": "python",
   "nbconvert_exporter": "python",
   "pygments_lexer": "ipython3",
   "version": "3.11.9"
  }
 },
 "nbformat": 4,
 "nbformat_minor": 2
}
