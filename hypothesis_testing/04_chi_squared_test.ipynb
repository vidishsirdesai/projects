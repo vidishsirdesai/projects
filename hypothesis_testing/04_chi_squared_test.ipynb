{
 "cells": [
  {
   "cell_type": "markdown",
   "metadata": {},
   "source": [
    "# What Is Degrees Of Freedom?\n",
    "Degrees of freedom (DoF) are the bare minimum numbers in a dataset that are required to be known in order to re-construct the dataset. For a dataset consisting of $n$ elements, $(n - 1)$ elements are required to be known in order to find the one unknown.\n",
    "\n",
    "For 2 datasets consisting of $n_1$ and $n_2$ elements respectively, $(n_1 - 1)$ and $(n_2 - 1)$ elements are required to be known. Meaning, a total of $(n_1 - 1) + (n_2 - 1) = n_1 + n_2 - 2$ elements are required to be known.\n",
    "\n",
    "To find $n$ unknowns, $n$ equations are needed."
   ]
  },
  {
   "cell_type": "markdown",
   "metadata": {},
   "source": [
    "# Explanation With An Example\n"
   ]
  }
 ],
 "metadata": {
  "language_info": {
   "name": "python"
  }
 },
 "nbformat": 4,
 "nbformat_minor": 2
}
