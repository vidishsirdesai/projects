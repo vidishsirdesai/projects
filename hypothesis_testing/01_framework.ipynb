{
 "cells": [
  {
   "cell_type": "markdown",
   "metadata": {},
   "source": [
    "# What Is Hypothesis Testing?\n",
    "Hypothesis testinf is a statistical method used to make inferences about a population based on a sample of data. It is a fundamental tool in the field of statistics and is commonly used in scientific research, quality control and decision making processes. The primary purpose of hypothesis testing is to determine whether a specific hypothesis about a population parameter is supported by the sample data or not."
   ]
  },
  {
   "cell_type": "markdown",
   "metadata": {},
   "source": [
    "# Framework\n",
    "1. Formulate the null hypothesis (H0) and the alternative hypothesis (H1 or HA):\n",
    "    - The null hypothesis (H0) is a statement that there is no significant effect, relationship or difference in the population. It represents the status quo or a default assumption.\n",
    "    - The alternative hypothesis (H1 or HA) is a statement that contradicts the null hypothesis, suggesting that there is a significant effect, relationship or difference in the population.\n",
    "2. Collect and analyze data: A sample of data is gathered and statistical analysis is performed on it.\n",
    "3. Choose a significance level ($\\alpha$): The significance level, often denoted by $\\alpha$, represents the probability of making a Type 1 error (False positive). Common values for $\\alpha$ are 0.05 or 0.01, but they can vary depending on the specific application.\n",
    "4. Calculate a test statistic: The choice of test statistic depends on the nature of the data and the specific hypothesis being tested. Common test statistics include T-Test, Chi-Squared test, Z-Test, etc.\n",
    "5. Determine the critical region: The critical region is a set of values of the test statistic that would lead to the rejection of the null hypothesis if the test statistic falls within this region. The boundaries of the critical region are determined based on the chosen significance level and the probability distribution of the test statistic.\n",
    "6. Compare the test statistic to the critical region: If the calculated test statistic falls within the critical region, the null hypothesis is rejected in favor of the alternative hypothesis. If it falls outside the critical region, the null hypothesis is not rejected.\n",
    "7. Draw conclusions: Based on the comparison in step 6, a decision is made regarding the null hypothesis. If null hypothesis is rejected, conclusion is made that there is enough evidence to support alternative hypothesis. If the null hypothesis is not rejected, then a conclusion is made that there is not enough evidence to support alternative hypothesis.\n",
    "8. Report results: It is essential to report the results of the hypothesis test, including the test statistic, p-value (if applicable) and the conclusion.\n",
    "\n",
    "Hypothesis testing helps researchers and decision-makers assess the significance of their findings and make informed decisions based on the data and statistical evidence. It is a powerful tool for drawing conclusions and making inferences in a wide range of fields, including science, business and social sciences.\n",
    "\n",
    "The idea behind the default assumption and the rejection of the same is the theme behind every hypothesis testing.\n",
    "\n",
    "And the idea is, accept, or reject the default assumption based on what the data is suggesting."
   ]
  },
  {
   "cell_type": "markdown",
   "metadata": {},
   "source": [
    "# Example Scenarios Where Hypothesis Testing Can Be Applied\n",
    "### Example 1: A judge in a court\n",
    "- Default assumption: A person facing trial is innocent until proven guilty.\n",
    "- Data or evidence: Wait for the data or evidence.\n",
    "- Analysis:\n",
    "    1. Was the suspect at the crime scene?\n",
    "    2. Where his or her fingerprint found at the crime scene?\n",
    "    3. Was the crime weapon found in his or her possession?\n",
    "    4. Was the blood of the victim found on the weapon?\n",
    "    5. Any eye witness?\n",
    "- With all this data available there is a strong probability that the suspect has indeed committed the crime. But the judge might still not have enough data.\n",
    "- What if the suspect is actually guilty? But the judge does not have enough evidence to declare that the suspect is guilty? In such cases the default assumption continues to be not guilty or innocent until a strong evidence shows up later.\n",
    "- There could also be a case where the suspect is actually innocent but he or she might be framed.\n",
    "- There are 2 types of errors that a judge can make,\n",
    "    1. Innocent person can be found guilty (false positive).\n",
    "    2. A guilty person can be found innocent (false negative).\n",
    "\n",
    "### Example 2: A new ML model to replace the legacy model\n",
    "- Default assumption: The legacy model (existing model) is better than the new model. This is because the legacy model has been tried and tested over time.\n",
    "- Data or evidence: The new model should show that it is indeed better than the older or legacy model over a large set of data. If this condition is met, then the actual assumption can be confidently negated.\n",
    "- What if the new model gives some garbage recommendation?\n",
    "- The burden of proof is on rejecting the assumption. Meaning, if there is not enough data, then the default assumption continues to hold true. Therefore, onus or the burden of proof is on rejecting the default assumption.\n",
    "- How does the deployment of a new ML algorithm happen?\n",
    "    - Don't tamper with the existing model. If something is working, let it work.\n",
    "    - A subset of people will first conduct some tests on the newly developed algorithm.\n",
    "    - After these tests, if it turns out that the new model indeed works better than the existing model, then the product manager will be able to make a clear decision on proceeding with the deployment of the new model.\n",
    "\n",
    "### Example 3: Third umpire in cricket\n",
    "- Default assumption: The third upmire will assume that the soft signal given by the on-field umpire is correct.\n",
    "- Data or evidence: Wait fot the data. If there is not enough data, then the third umpire will go with the decision made by the on-field umpire.\n",
    "\n",
    "### Example 4: Virus test\n",
    "- Default assumption: The patient is negative with virus.\n",
    "- Data or evidence: Wait for the data, or wait until enough data is accumulated."
   ]
  },
  {
   "cell_type": "markdown",
   "metadata": {},
   "source": [
    "# Null Hypothesis (H0)\n",
    "This is nothing but default assumption. For example, the defendant is innocent, legacy model is better, on-field umpire is correct, virus test is negative, etc.\n",
    "\n",
    "The null hypothesis, often denoted as H0, is a fundamental concept in hypothesis testing in statistics. It represents a specific statement or assumption that there is no significant effect, relationship or difference in the population being studied. In other words, the null hypothesis reflects the status quo.\n",
    "\n",
    "The null hypothesis is typically formulated in a way that can be tested using statistical methods. It is the hypothesis that researchers aim to evaluate through data analysis to determine whether the data provides sufficient evidence to reject it in favor of an alternative hypothesis (H1 or HA), which suggests the presence of a significant effect, relationship or difference in the population.\n",
    "\n",
    "The following are a few examples of null hypotheses in different contexts,\n",
    "1. In a medical study: H0 might state that a new drug has no effect on lowering blood pressure and any observed differences in blood pressure between the treatment and control groups are due to random chance.\n",
    "2. In quality control: H0 might assert that a manufacturing process produces items that meet a specific quality standard and any deviations from the standard are within acceptable tolerance limits.\n",
    "3. In social sciences: H0 could state that there is no association between a person's education level and their income, suggesting that education does not significantly influence income.\n",
    "4. In a criminal trial: H0 might assume that the defendant is innocent until proven guilty. The null hypothesis is that the defendant is not guilty and the burden of proof rests on the prosecution to provide evidence beyond a reasonable doubt.\n",
    "\n",
    "The null hypothesis serves as a starting point for hypothesis testing and the goal is to evaluate whether the data provides enough evidence to reject it. Researchers and statisticians use statistical tests and methods to assess the likelihood that the observed data could have occurred by a random chance under the assumptions of the null hypothesis. If the evidence is strong enough, the null hypothesis is rejected in favor of the alternative hypothesis, indicating that there is a statistically significant effect, relationship or difference in the population."
   ]
  },
  {
   "cell_type": "markdown",
   "metadata": {},
   "source": [
    "# Alternative Hypothesis (H1)\n",
    "When the default assumption or null hypothesis is rejected, then alternative hypothesis is accepted. For example, defendant is guilty, new model is better, on-field umpire's decision is incorrect, virus is positive, etc.\n",
    "\n",
    "The alternative or alternate hypothesis, denoted as H1 or HA, is a fundamental concept in hypothesis testing in statistics. It represents a statement that contradicts the null hypothesis (H0) and suggests the presence of a significant effect, relationship or difference in the population being studied. In other words, the alternative hypothesis is what researchers are trying to provide evidence for when conducting a hypothesis test.\n",
    "\n",
    "The alternative hypothesis is designed to be complementary to null hypothesis and typically reflects the research question or the hypothesis that researchers want to support with theit data analysis. It asserts that there is a specific relationship or effect that is of interest and the goal of hypothesis testing is to determine if the data provides enough evidence to support the alternative hypothesis over the null hypothesis.\n",
    "\n",
    "The following are a few examples of alternative hypotheses in different contexts,\n",
    "1. In a medical study: H1 might state that a new drug is effective in lowering blood pressure, suggesting that there is a significant difference in blood pressure between the treatment and control groups.\n",
    "2. In quality control: H1 could assert that a manufacturing process produce items that do not meet the required quality standard, indicating that deviations from the standard are outside acceptable tolerance limits.\n",
    "3. In social sciences: H1 might clain that there is a positive association between a person's education level and their income, suggesting that education significantly influences income.\n",
    "4. In a criminal trial: H1 could state that the defendant is guilty of the crime and the null hypothesis of innocence should be rejected in favor of the alternative hypothesis if sufficient evidence is presented.\n",
    "\n",
    "The alternative hypothesis is crucial in hypothesis testing because it defines the direction and nature of the effect or relationship that researchers are trying to demonstrate. Researchers use statistical tests to assess whether the data supports the alternative hypothesis by determining if the observed results are unlikely to occur by a random chance under the assumption of null hypothesis. If the evidence is strong enough, the null hypothesis is rejected in favor of the alternative hypothesis, indicating that there is a statistically significant effect or relationship in population."
   ]
  },
  {
   "cell_type": "markdown",
   "metadata": {},
   "source": []
  }
 ],
 "metadata": {
  "language_info": {
   "name": "python"
  }
 },
 "nbformat": 4,
 "nbformat_minor": 2
}
