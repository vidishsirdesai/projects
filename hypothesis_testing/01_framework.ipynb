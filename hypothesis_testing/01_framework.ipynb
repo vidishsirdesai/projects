{
 "cells": [
  {
   "cell_type": "markdown",
   "metadata": {},
   "source": [
    "# What Is Hypothesis Testing?\n",
    "Hypothesis testinf is a statistical method used to make inferences about a population based on a sample of data. It is a fundamental tool in the field of statistics and is commonly used in scientific research, quality control and decision making processes. The primary purpose of hypothesis testing is to determine whether a specific hypothesis about a population parameter is supported by the sample data or not."
   ]
  },
  {
   "cell_type": "markdown",
   "metadata": {},
   "source": []
  }
 ],
 "metadata": {
  "language_info": {
   "name": "python"
  }
 },
 "nbformat": 4,
 "nbformat_minor": 2
}
