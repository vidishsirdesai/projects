{
 "cells": [
  {
   "cell_type": "markdown",
   "metadata": {},
   "source": [
    "# T-Test\n",
    "A T-Test is a statistical hypothesis test used to determine if there is a significant difference between the means of 2 groups of if a single group's mean is different from a known value. The T-Test is particularly useful when working with small sample sizes and the population standard deviation is unknown.\n",
    "\n",
    "There are different types of T-Tests and the appropriate one to use depends on the specific scenario,\n",
    "1. One Sample T-Test: Used to test if the mean of a single sample is significantly different from a known or hypothesized population mean.\n",
    "2. Independent Samples T-Test (Two Samples T-Test): Used to compare the means of 2 independent groups to assess if they are significantly different from each other.\n",
    "3. Paired Samples T-Test: Used when dealing with paired or matched samples, such as before and after measurements on the same group.\n",
    "\n",
    "In all T-Tests, the obtained T-Statistic is compared to a critical value from the T-Distribution or used to calculate a P-Value to determine statistical significance. The decision to reject the null hypothesis is based on a predetermined significance level (usually 0.05). If the P-Value is less than the significance level, the null hypothesis is rejected in favor of the alternative hypothesis."
   ]
  },
  {
   "cell_type": "markdown",
   "metadata": {},
   "source": [
    "# One Sample T-Test\n",
    "```Python\n",
    "from scipy.stats import ttest_1samp\n",
    "\n",
    "t_stat, p_value = ttest_1samp(<array>, <mean>)\n",
    "\n",
    "if p_value < alpha:\n",
    "  print(\"Reject H0\")\n",
    "else:\n",
    "  print(\"Accept H0\")\n",
    "```"
   ]
  },
  {
   "cell_type": "markdown",
   "metadata": {},
   "source": [
    "# One Sample Right Tailed T-Test\n",
    "```Python\n",
    "from scipy.stats import ttest_1samp\n",
    "\n",
    "t_stat, p_value = ttest_1samp(<array>, <mean>, alternative = “greater\")\n",
    "\n",
    "if p_value < alpha:\n",
    "  print(\"Reject H0\")\n",
    "else:\n",
    "  print(\"Accept H0\")\n",
    "```"
   ]
  },
  {
   "cell_type": "markdown",
   "metadata": {},
   "source": [
    "# One Sample Left Tailed T-Test\n",
    "```Python\n",
    "from scipy.stats import ttest_1samp\n",
    "\n",
    "t_stat, p_value = ttest_1samp(<array>, <mean>, alternative = “less”)\n",
    "\n",
    "if p_value < alpha:\n",
    "  print(\"Reject H0\")\n",
    "else:\n",
    "  print(\"Accept H0\")\n",
    "```"
   ]
  },
  {
   "cell_type": "markdown",
   "metadata": {},
   "source": [
    "# Two Sample T-Test Or T-Test Independent\n",
    "```Python\n",
    "from scipy.stats import ttest_ind\n",
    "\n",
    "t_stat, p_value = ttest_ind(<array1>, <array2>)\n",
    "\n",
    "if p_value < alpha:\n",
    "  print(\"Reject H0\")\n",
    "else:\n",
    "  print(\"Accept H0\")\n",
    "```"
   ]
  },
  {
   "cell_type": "markdown",
   "metadata": {},
   "source": [
    "# Right Tailed Two Sample T-Test\n",
    "```Python\n",
    "from scipy.stats import ttest_ind\n",
    "\n",
    "t_stat, p_value = ttest_ind(<array1>, <array2>, alternative = “greater\")\n",
    "\n",
    "if p_value < alpha:\n",
    "  print(\"Reject H0\")\n",
    "else:\n",
    "  print(\"Accept H0\")\n",
    "```"
   ]
  },
  {
   "cell_type": "markdown",
   "metadata": {},
   "source": [
    "# Left Tailed Two Sample T-Test\n",
    "```Python\n",
    "from scipy.stats import ttest_ind\n",
    "\n",
    "t_stat, p_value = ttest_ind(<array1>, <array2>, alternative = “less”)\n",
    "\n",
    "if p_value < alpha:\n",
    "  print(\"Reject H0\")\n",
    "else:\n",
    "  print(\"Accept H0\")\n",
    "```"
   ]
  },
  {
   "cell_type": "markdown",
   "metadata": {},
   "source": [
    "# Paired T-Test\n",
    "The paired T-Test, also known as dependent samples T-Test or matched pairs T-Test, is a statistical test used to compare the means of 2 related groups. It is typically applied when the measurements are taken from the same subjects or are somehow paired or matched.\n",
    "\n",
    "The following are the key points about the paired T-Test,\n",
    "1. Objective: The paired T-Test is used to determine whether there is a significant difference between the means of 2 related groups.\n",
    "2. Null hypothesis (H0): The null hypothesis asserts that there is no significant difference between the means of the paired groups.\n",
    "3. Alternative hypothesis (H1): The alternative hypothesis suggests that there is a significant difference between the means of the paired groups.\n",
    "4. Assumptions:\n",
    "    - The data should be approximately normally distributed.\n",
    "    - The differences between the paired observations should be approximately normally distrinuted.\n",
    "    - The paired observation should be independent.\n",
    "5. Test statistic: The test statistic is the T-Statistic, calculated as the mean difference between pairs divided by the standard error of the differences."
   ]
  },
  {
   "cell_type": "code",
   "execution_count": 1,
   "metadata": {},
   "outputs": [
    {
     "name": "stdout",
     "output_type": "stream",
     "text": [
      "T-Statistic: 6.5\n",
      "P-Value: 0.0028900071171007345\n"
     ]
    }
   ],
   "source": [
    "from scipy.stats import ttest_rel\n",
    "\n",
    "# example data for two related groups\n",
    "group1 = [25, 28, 30, 32, 35]\n",
    "group2 = [22, 24, 28, 30, 33]\n",
    "\n",
    "# perform paired t-test\n",
    "t_statistic, p_value = ttest_rel(group1, group2)\n",
    "\n",
    "# print results\n",
    "print(\"T-Statistic:\", t_statistic)\n",
    "print(\"P-Value:\", p_value)"
   ]
  },
  {
   "cell_type": "markdown",
   "metadata": {},
   "source": [
    "### Interpreting the results\n",
    "If the p-value is less than the chosen significance level (e.g., 0.05), the null hypothesis is rejected. Suggesting that there is a significant difference between the means of the paired groups. If the P-Value is not significant, the null hypothesis is not rejected, indicating that there is no significant difference.\n",
    "\n",
    "### When is the paired T-Test used?\n",
    "It is important to note that the paired T-Test is appropriate when the data are paired or matched, such as before and after measurements on the same subjects, repeated measurements on the same subjects or other types of matched pairs.\n",
    "\n",
    "In the independent T-Test, there were 2 sets of numbers in drug recovery, school IQ examples etc. The members of set 1 and set 2 are independent to each other.\n",
    "\n",
    "Consider a new setup of before and after scenario of person x, in here the person before and person after (same person) are called as paired examples.\n",
    "\n",
    "Will the problem solving sessions help students?\n",
    "- Test 1: Before problem solving session.\n",
    "- Test 2: After problem solving session."
   ]
  },
  {
   "cell_type": "code",
   "execution_count": 2,
   "metadata": {},
   "outputs": [],
   "source": [
    "import numpy as np\n",
    "import pandas as pd\n",
    "from scipy.stats import ttest_rel"
   ]
  },
  {
   "cell_type": "code",
   "execution_count": 3,
   "metadata": {},
   "outputs": [
    {
     "data": {
      "text/html": [
       "<div>\n",
       "<style scoped>\n",
       "    .dataframe tbody tr th:only-of-type {\n",
       "        vertical-align: middle;\n",
       "    }\n",
       "\n",
       "    .dataframe tbody tr th {\n",
       "        vertical-align: top;\n",
       "    }\n",
       "\n",
       "    .dataframe thead th {\n",
       "        text-align: right;\n",
       "    }\n",
       "</style>\n",
       "<table border=\"1\" class=\"dataframe\">\n",
       "  <thead>\n",
       "    <tr style=\"text-align: right;\">\n",
       "      <th></th>\n",
       "      <th>id</th>\n",
       "      <th>test_1</th>\n",
       "      <th>test_2</th>\n",
       "    </tr>\n",
       "  </thead>\n",
       "  <tbody>\n",
       "    <tr>\n",
       "      <th>0</th>\n",
       "      <td>0</td>\n",
       "      <td>40</td>\n",
       "      <td>38</td>\n",
       "    </tr>\n",
       "    <tr>\n",
       "      <th>1</th>\n",
       "      <td>1</td>\n",
       "      <td>49</td>\n",
       "      <td>44</td>\n",
       "    </tr>\n",
       "    <tr>\n",
       "      <th>2</th>\n",
       "      <td>2</td>\n",
       "      <td>65</td>\n",
       "      <td>69</td>\n",
       "    </tr>\n",
       "    <tr>\n",
       "      <th>3</th>\n",
       "      <td>3</td>\n",
       "      <td>59</td>\n",
       "      <td>63</td>\n",
       "    </tr>\n",
       "    <tr>\n",
       "      <th>4</th>\n",
       "      <td>4</td>\n",
       "      <td>44</td>\n",
       "      <td>43</td>\n",
       "    </tr>\n",
       "  </tbody>\n",
       "</table>\n",
       "</div>"
      ],
      "text/plain": [
       "   id  test_1  test_2\n",
       "0   0      40      38\n",
       "1   1      49      44\n",
       "2   2      65      69\n",
       "3   3      59      63\n",
       "4   4      44      43"
      ]
     },
     "execution_count": 3,
     "metadata": {},
     "output_type": "execute_result"
    }
   ],
   "source": [
    "df = pd.read_csv(\"problem_solving.csv\")\n",
    "df.head()"
   ]
  },
  {
   "cell_type": "code",
   "execution_count": 4,
   "metadata": {},
   "outputs": [
    {
     "data": {
      "text/html": [
       "<div>\n",
       "<style scoped>\n",
       "    .dataframe tbody tr th:only-of-type {\n",
       "        vertical-align: middle;\n",
       "    }\n",
       "\n",
       "    .dataframe tbody tr th {\n",
       "        vertical-align: top;\n",
       "    }\n",
       "\n",
       "    .dataframe thead th {\n",
       "        text-align: right;\n",
       "    }\n",
       "</style>\n",
       "<table border=\"1\" class=\"dataframe\">\n",
       "  <thead>\n",
       "    <tr style=\"text-align: right;\">\n",
       "      <th></th>\n",
       "      <th>id</th>\n",
       "      <th>test_1</th>\n",
       "      <th>test_2</th>\n",
       "    </tr>\n",
       "  </thead>\n",
       "  <tbody>\n",
       "    <tr>\n",
       "      <th>count</th>\n",
       "      <td>137.000000</td>\n",
       "      <td>137.000000</td>\n",
       "      <td>137.000000</td>\n",
       "    </tr>\n",
       "    <tr>\n",
       "      <th>mean</th>\n",
       "      <td>68.000000</td>\n",
       "      <td>60.489051</td>\n",
       "      <td>62.430657</td>\n",
       "    </tr>\n",
       "    <tr>\n",
       "      <th>std</th>\n",
       "      <td>39.692569</td>\n",
       "      <td>17.080311</td>\n",
       "      <td>17.516293</td>\n",
       "    </tr>\n",
       "    <tr>\n",
       "      <th>min</th>\n",
       "      <td>0.000000</td>\n",
       "      <td>30.000000</td>\n",
       "      <td>27.000000</td>\n",
       "    </tr>\n",
       "    <tr>\n",
       "      <th>25%</th>\n",
       "      <td>34.000000</td>\n",
       "      <td>46.000000</td>\n",
       "      <td>48.000000</td>\n",
       "    </tr>\n",
       "    <tr>\n",
       "      <th>50%</th>\n",
       "      <td>68.000000</td>\n",
       "      <td>59.000000</td>\n",
       "      <td>62.000000</td>\n",
       "    </tr>\n",
       "    <tr>\n",
       "      <th>75%</th>\n",
       "      <td>102.000000</td>\n",
       "      <td>75.000000</td>\n",
       "      <td>77.000000</td>\n",
       "    </tr>\n",
       "    <tr>\n",
       "      <th>max</th>\n",
       "      <td>136.000000</td>\n",
       "      <td>89.000000</td>\n",
       "      <td>96.000000</td>\n",
       "    </tr>\n",
       "  </tbody>\n",
       "</table>\n",
       "</div>"
      ],
      "text/plain": [
       "               id      test_1      test_2\n",
       "count  137.000000  137.000000  137.000000\n",
       "mean    68.000000   60.489051   62.430657\n",
       "std     39.692569   17.080311   17.516293\n",
       "min      0.000000   30.000000   27.000000\n",
       "25%     34.000000   46.000000   48.000000\n",
       "50%     68.000000   59.000000   62.000000\n",
       "75%    102.000000   75.000000   77.000000\n",
       "max    136.000000   89.000000   96.000000"
      ]
     },
     "execution_count": 4,
     "metadata": {},
     "output_type": "execute_result"
    }
   ],
   "source": [
    "df.describe(include = \"all\")"
   ]
  },
  {
   "cell_type": "code",
   "execution_count": 5,
   "metadata": {},
   "outputs": [
    {
     "data": {
      "text/plain": [
       "TtestResult(statistic=np.float64(-5.502886353508166), pvalue=np.float64(1.795840353792307e-07), df=np.int64(136))"
      ]
     },
     "execution_count": 5,
     "metadata": {},
     "output_type": "execute_result"
    }
   ],
   "source": [
    "# h0: problem solving has no effect\n",
    "# h1: problem solving has an effect\n",
    "\n",
    "ttest_rel(df[\"test_1\"], df[\"test_2\"])"
   ]
  },
  {
   "cell_type": "code",
   "execution_count": 6,
   "metadata": {},
   "outputs": [
    {
     "data": {
      "text/plain": [
       "TtestResult(statistic=np.float64(-5.502886353508166), pvalue=np.float64(8.979201768961535e-08), df=np.int64(136))"
      ]
     },
     "execution_count": 6,
     "metadata": {},
     "output_type": "execute_result"
    }
   ],
   "source": [
    "# h0: problem solving has no effect\n",
    "# h1: problem solving has an improved the score\n",
    "\n",
    "ttest_rel(df[\"test_1\"], df[\"test_2\"], alternative = \"less\")"
   ]
  },
  {
   "cell_type": "code",
   "execution_count": 7,
   "metadata": {},
   "outputs": [
    {
     "data": {
      "text/plain": [
       "TtestResult(statistic=np.float64(-5.502886353508166), pvalue=np.float64(0.9999999102079823), df=np.int64(136))"
      ]
     },
     "execution_count": 7,
     "metadata": {},
     "output_type": "execute_result"
    }
   ],
   "source": [
    "# h0: problem solving has no effect\n",
    "# h1: problem solving has an deteriorated the score\n",
    "\n",
    "ttest_rel(df[\"test_1\"], df[\"test_2\"], alternative = \"greater\")"
   ]
  },
  {
   "cell_type": "markdown",
   "metadata": {},
   "source": [
    "# What Is Degrees Of Freedom?\n",
    "Degrees of freedom (DoF) are the bare minimum numbers in a dataset that are required to be known in order to re-construct the dataset. For a dataset consisting of $n$ elements, $(n - 1)$ elements are required to be known in order to find the one unknown.\n",
    "\n",
    "For 2 datasets consisting of $n_1$ and $n_2$ elements respectively, $(n_1 - 1)$ and $(n_2 - 1)$ elements are required to be known. Meaning, a total of $(n_1 - 1) + (n_2 - 1) = n_1 + n_2 - 2$ elements are required to be known.\n",
    "\n",
    "To find $n$ unknowns, $n$ equations are needed."
   ]
  },
  {
   "cell_type": "markdown",
   "metadata": {},
   "source": [
    "# Explanation With An Example\n",
    "In the example of various datasets, a bunch of numbers were given in the datasets right away. For example, salary data, drug recovery time, etc. Suppose the setup is changed a little bit, say that there is a data of people,\n",
    "1. Consider that in the first scenario, the salary of 3 people are given, `[35, 36, ?]`, and the average salary is given as 35. Can the unkown variable be found with this information?\n",
    "    - By generalizing the above, if there are $n$ numbers and their average is known, how many of the $n$ numbers should be known? $(n - 1)$ should be known.\n",
    "    - This $(n - 1)$ is in fact the degrees of freedom. Meaning, incase only $(n - 2)$ numbers are known, the the unknown cannot be found.\n",
    "2. Consider a second scenario, where there are 2 arrays. Say the first array represents the height and the second array represents the weight. They have the following elements, `height = [73, 68, 79, 71, 62]` and `weight = [85, 73, 96, 82, 70]`. Also, `average_height = 71` and `average_weight = 81.2`. Given this data among these numbers, what is the bare minimum number of elements that are needed to be known? \n",
    "    - $(n - 1)$ elements should be known in the height columns and $(n - 1)$ elements should be known in the weight column.\n",
    "    - Therefore, $(n_1 - 1) + (n_2 - 1) = n_1 + n_2 - 2$ is the degree of freedom.\n",
    "\n",
    "In case of one sample T-Test or two sample T-Test, the distributions are often associated with the corresponding degrees of freedom.\n",
    "- One sample T-Test = DoF = $(n - 1)$.\n",
    "- Two sample T-Test = DoF = $n_1 + n_2 - 2$.\n",
    "\n",
    "### Example\n",
    "Consider a case where a politician's support varies from region to region. A politician who is very popular in Delhi, might not be that popular in Bangalore.\n",
    "\n",
    "Let's say that there are 4 politicians, A, B, C and D and there are 3 cities X, Y and Z. The popularity of these politicians in these cities is being measured,\n",
    "\n",
    "|  | A | B | C | D |  |\n",
    "| :-: | :-: | :-: | :-: | :-: | :-: |\n",
    "| X | ? | ? | ? | ? | 349 |\n",
    "| Y | ? | ? | ? | ? | 151 |\n",
    "| Z | ? | ? | ? | ? | 150 |\n",
    "|  | 150 | 150 | 200 | 160 | 650 |\n",
    "\n",
    "The survey conducted is over a population of 650. The city X has a population of 349, Y has a population of 151, and Z has a population of 150. The politicians A, B, and D have the support of 150 people each and C has the support of 200 people.\n",
    "\n",
    "What is the bare minimum number of values that are needed to be known in order to fill the table?\n",
    "- 2 values in rows and 3 values in column are needed to be known in order to fill the table.\n",
    "- Therefore, DoF = 2 * 3 = 6.\n",
    "- $DoF = (\\text{number of rows} - 1) * (\\text{number of columns} - 1)$.\n"
   ]
  }
 ],
 "metadata": {
  "kernelspec": {
   "display_name": "Python 3",
   "language": "python",
   "name": "python3"
  },
  "language_info": {
   "codemirror_mode": {
    "name": "ipython",
    "version": 3
   },
   "file_extension": ".py",
   "mimetype": "text/x-python",
   "name": "python",
   "nbconvert_exporter": "python",
   "pygments_lexer": "ipython3",
   "version": "3.11.9"
  }
 },
 "nbformat": 4,
 "nbformat_minor": 2
}
