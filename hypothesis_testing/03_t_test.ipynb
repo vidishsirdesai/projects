{
 "cells": [
  {
   "cell_type": "markdown",
   "metadata": {},
   "source": [
    "# T-Test\n",
    "A T-Test is a statistical hypothesis test used to determine if there is a significant difference between the means of 2 groups of if a single group's mean is different from a known value. The T-Test is particularly useful when working with small sample sizes and the population standard deviation is unknown.\n",
    "\n",
    "There are different types of T-Tests and the appropriate one to use depends on the specific scenario,\n",
    "1. One Sample T-Test: Used to test if the mean of a single sample is significantly different from a known or hypothesized population mean.\n",
    "2. Independent Samples T-Test (Two Samples T-Test): Used to compare the means of 2 independent groups to assess if they are significantly different from each other.\n",
    "3. Paired Samples T-Test: Used when dealing with paired or matched samples, such as before and after measurements on the same group.\n",
    "\n",
    "In all T-Tests, the obtained T-Statistic is compared to a critical value from the T-Distribution or used to calculate a P-Value to determine statistical significance. The decision to reject the null hypothesis is based on a predetermined significance level (usually 0.05). If the P-Value is less than the significance level, the null hypothesis is rejected in favor of the alternative hypothesis."
   ]
  },
  {
   "cell_type": "markdown",
   "metadata": {},
   "source": [
    "# One Sample T-Test\n",
    "```Python\n",
    "from scipy.stats import ttest_1samp\n",
    "\n",
    "t_stat, p_value = ttest_1samp(<array>, <mean>)\n",
    "\n",
    "if p_value < alpha:\n",
    "  print(\"Reject H0\")\n",
    "else:\n",
    "  print(\"Accept H0\")\n",
    "```"
   ]
  },
  {
   "cell_type": "markdown",
   "metadata": {},
   "source": [
    "# One Sample Right Tailed T-Test\n",
    "```Python\n",
    "from scipy.stats import ttest_1samp\n",
    "\n",
    "t_stat, p_value = ttest_1samp(<array>, <mean>, alternative = “greater\")\n",
    "\n",
    "if p_value < alpha:\n",
    "  print(\"Reject H0\")\n",
    "else:\n",
    "  print(\"Accept H0\")\n",
    "```"
   ]
  },
  {
   "cell_type": "markdown",
   "metadata": {},
   "source": [
    "# One Sample Left Tailed T-Test\n",
    "```Python\n",
    "from scipy.stats import ttest_1samp\n",
    "\n",
    "t_stat, p_value = ttest_1samp(<array>, <mean>, alternative = “less”)\n",
    "\n",
    "if p_value < alpha:\n",
    "  print(\"Reject H0\")\n",
    "else:\n",
    "  print(\"Accept H0\")\n",
    "```"
   ]
  },
  {
   "cell_type": "markdown",
   "metadata": {},
   "source": [
    "# Two Sample T-Test Or T-Test Independent\n",
    "```Python\n",
    "from scipy.stats import ttest_ind\n",
    "\n",
    "t_stat, p_value = ttest_ind(<array1>, <array2>)\n",
    "\n",
    "if p_value < alpha:\n",
    "  print(\"Reject H0\")\n",
    "else:\n",
    "  print(\"Accept H0\")\n",
    "```"
   ]
  },
  {
   "cell_type": "markdown",
   "metadata": {},
   "source": [
    "# Right Tailed Two Sample T-Test\n",
    "```Python\n",
    "from scipy.stats import ttest_ind\n",
    "\n",
    "t_stat, p_value = ttest_ind(<array1>, <array2>, alternative = “greater\")\n",
    "\n",
    "if p_value < alpha:\n",
    "  print(\"Reject H0\")\n",
    "else:\n",
    "  print(\"Accept H0\")\n",
    "```"
   ]
  },
  {
   "cell_type": "markdown",
   "metadata": {},
   "source": [
    "# Left Tailed Two Sample T-Test\n",
    "```Python\n",
    "from scipy.stats import ttest_ind\n",
    "\n",
    "t_stat, p_value = ttest_ind(<array1>, <array2>, alternative = “less”)\n",
    "\n",
    "if p_value < alpha:\n",
    "  print(\"Reject H0\")\n",
    "else:\n",
    "  print(\"Accept H0\")\n",
    "```"
   ]
  },
  {
   "cell_type": "markdown",
   "metadata": {},
   "source": [
    "# Paired T-Test\n",
    "The paired T-Test, also known as dependent samples T-Test or matched pairs T-Test, is a statistical test used to compare the means of 2 related groups. It is typically applied when the measurements are taken from the same subjects or are somehow paired or matched.\n",
    "\n",
    "The following are the key points about the paired T-Test,\n",
    "1. Objective: The paired T-Test is used to determine whether there is a significant difference between the means of 2 related groups.\n",
    "2. Null hypothesis (H0): The null hypothesis asserts that there is no significant difference between the means of the paired groups.\n",
    "3. Alternative hypothesis (H1): The alternative hypothesis suggests that there is a significant difference between the means of the paired groups.\n",
    "4. Assumptions:\n",
    "    - The data should be approximately normally distributed.\n",
    "    - The differences between the paired observations should be approximately normally distrinuted.\n",
    "    - The paired observation should be independent.\n",
    "5. Test statistic: The test statistic is the T-Statistic, calculated as the mean difference between pairs divided by the standard error of the differences."
   ]
  },
  {
   "cell_type": "code",
   "execution_count": 1,
   "metadata": {},
   "outputs": [
    {
     "name": "stdout",
     "output_type": "stream",
     "text": [
      "T-Statistic: 6.5\n",
      "P-Value: 0.0028900071171007345\n"
     ]
    }
   ],
   "source": [
    "from scipy.stats import ttest_rel\n",
    "\n",
    "# example data for two related groups\n",
    "group1 = [25, 28, 30, 32, 35]\n",
    "group2 = [22, 24, 28, 30, 33]\n",
    "\n",
    "# perform paired t-test\n",
    "t_statistic, p_value = ttest_rel(group1, group2)\n",
    "\n",
    "# print results\n",
    "print(\"T-Statistic:\", t_statistic)\n",
    "print(\"P-Value:\", p_value)"
   ]
  },
  {
   "cell_type": "markdown",
   "metadata": {},
   "source": [
    "### Interpreting the results\n",
    "If the p-value is less than the chosen significance level (e.g., 0.05), the null hypothesis is rejected. Suggesting that there is a significant difference between the means of the paired groups. If the P-Value is not significant, the null hypothesis is not rejected, indicating that there is no significant difference.\n",
    "\n",
    "### When is the paired T-Test used?\n",
    "It is important to note that the paired T-Test is appropriate when the data are paired or matched, such as before and after measurements on the same subjects, repeated measurements on the same subjects or other types of matched pairs."
   ]
  }
 ],
 "metadata": {
  "kernelspec": {
   "display_name": "Python 3",
   "language": "python",
   "name": "python3"
  },
  "language_info": {
   "codemirror_mode": {
    "name": "ipython",
    "version": 3
   },
   "file_extension": ".py",
   "mimetype": "text/x-python",
   "name": "python",
   "nbconvert_exporter": "python",
   "pygments_lexer": "ipython3",
   "version": "3.11.9"
  }
 },
 "nbformat": 4,
 "nbformat_minor": 2
}
