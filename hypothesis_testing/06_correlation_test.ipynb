{
 "cells": [
  {
   "cell_type": "markdown",
   "metadata": {},
   "source": [
    "# Covariance\n",
    "Covariance is the average of all variance. It is mathematically expressed as,\n",
    "\n",
    "$\\text{Cov}(H, W) = \\frac{1}{n} \\sum_{i = 1}^n (H_i - \\bar{H}) (W_i - \\bar{W})$.\n",
    "\n",
    "Where,\n",
    "- $\\text{Cov}(H, W)$ = Covariance between $H$ and $W$.\n",
    "- $H_i$ = i-th value of the variable $H$.\n",
    "- $\\bar{H}$ = Mean of the variable $H$.\n",
    "- $W_i$ = i-th value of the variable $W$.\n",
    "- $\\bar{W}$ = Mean of the variable $W$.\n",
    "- n = Total number of data points.\n",
    "\n",
    "In situations where the average area is positive, because it is observed that there are more data points in Q1 and Q3, it can be concluded that the data points are \"positively correlated\".\n",
    "\n",
    "In situations where the average area is negative, because it is observed that there are more data points in Q2 and Q4, it can be concluded that the data points are \"negatively correlated\".\n",
    "\n",
    "In situations where the net area would approximately be at the origin (positive area is approximately equal to the negative area), it can be concluded that the data points are \"uncorrelated\".\n",
    "\n",
    "The co-variance depends on the scale. Say, if the plot is between inches and kilogram, and say the same is plotted between centimeter and pounds. The plot in the second scenario will be stretched because the unit of measurement are finer.\n",
    "\n",
    "The formulation for co-variance that is under, whatever unit is used, centimeter, kilometer or inch, should not affect the area. To take care of this, statisticians have come up with a metric which prevents this variations from taking place and the area remains the same.\n",
    "\n",
    "The first part of the equation, i.e., $(H_i - \\bar{H}) (W_i - \\bar{W})$, stays as it is.\n",
    "\n",
    "The only change that occurs is, $\\text{Cov}(X, Y) = \\frac{1}{n} \\sum_{i = 1}^n \\frac{(H_i - \\bar{H})}{\\sigma_h} \\frac{(W_i - \\bar{W})}{\\sigma_w}$.\n",
    "\n",
    "This equation when divided with standard deviation is called as Z-Score.\n",
    "\n",
    "The term used to call this entire expression is, correlation coefficient. Denoted by, $\\rho$.\n",
    "\n",
    "Therefore, $\\rho = \\frac{1}{n} \\sum_{i = 1}^n \\frac{(H_i - \\bar{H})}{\\sigma_h} \\frac{(W_i - \\bar{W})}{\\sigma_w}$.\n",
    "\n",
    "$\\rho$ will always range between -1 and +1. This is because, the division is done with respect to standard deviation.\n",
    "\n",
    "All the units have the same $\\rho$.\n",
    "- If the $\\rho$ is close to 0, then it is said that the data has no correlation.\n",
    "- If the $\\rho$ is close to 1, then it is said that the data has strong positive correlation.\n",
    "- If the $\\rho$ is close to -1, then it is said that the data has strong negative correlation.\n",
    "- If a plot is drawn such that all the data points are scattered around the origin (in close proximity). The $\\rho$ here would be approximately 0.\n",
    "- If a plot is drawn such that all the data points are scattered in Q2 and Q4. The $\\rho$ here would be approximately -1 (approaching -1 but not equal to).\n",
    "- If a plot is drawn such that all the data points are scattered in Q1 and Q3. The $\\rho$ here would be approximately 1 (approaching 1 but not equal to).\n",
    "\n",
    "To summarize, if different units are used then the co-variance increases unnecessarily. To prevent this, the Z-Score equivalent is calculated."
   ]
  },
  {
   "cell_type": "markdown",
   "metadata": {},
   "source": [
    "# Correlation Test\n",
    "Correlation tests are statistical methods used to assess the strength and direction of the relationship between 2 continuous variables. The most common correlation test is the Pearson correlation coefficient, but there are also other correlation tests like Spearman rank correlation and the Kendall-Tau rank correlation."
   ]
  },
  {
   "cell_type": "markdown",
   "metadata": {},
   "source": [
    "# Pearson Correlation Coefficient\n",
    "- Objective: Measures the linear relationship between 2 continuous variables.\n",
    "- Null hypothesis (H0): There is no linear correlation between the 2 variables.\n",
    "- Alternative hypothesis (H1): There is a linear correlation between the 2 variables.\n",
    "- Test statistic: Pearson correlation coefficient ($r$).\n",
    "- Assumptions: Assumes that the data are normally distributed and that there is a linear relationship between the variables."
   ]
  },
  {
   "cell_type": "code",
   "execution_count": 2,
   "metadata": {},
   "outputs": [
    {
     "name": "stdout",
     "output_type": "stream",
     "text": [
      "Pearson Correlation Coefficient: 0.7745966692414834\n",
      "P-Value: 0.12402706265755456\n"
     ]
    },
    {
     "data": {
      "text/html": [
       "<div>\n",
       "<style scoped>\n",
       "    .dataframe tbody tr th:only-of-type {\n",
       "        vertical-align: middle;\n",
       "    }\n",
       "\n",
       "    .dataframe tbody tr th {\n",
       "        vertical-align: top;\n",
       "    }\n",
       "\n",
       "    .dataframe thead th {\n",
       "        text-align: right;\n",
       "    }\n",
       "</style>\n",
       "<table border=\"1\" class=\"dataframe\">\n",
       "  <thead>\n",
       "    <tr style=\"text-align: right;\">\n",
       "      <th></th>\n",
       "      <th>Height</th>\n",
       "      <th>Weight</th>\n",
       "    </tr>\n",
       "  </thead>\n",
       "  <tbody>\n",
       "    <tr>\n",
       "      <th>Height</th>\n",
       "      <td>1.000000</td>\n",
       "      <td>0.924756</td>\n",
       "    </tr>\n",
       "    <tr>\n",
       "      <th>Weight</th>\n",
       "      <td>0.924756</td>\n",
       "      <td>1.000000</td>\n",
       "    </tr>\n",
       "  </tbody>\n",
       "</table>\n",
       "</div>"
      ],
      "text/plain": [
       "          Height    Weight\n",
       "Height  1.000000  0.924756\n",
       "Weight  0.924756  1.000000"
      ]
     },
     "execution_count": 2,
     "metadata": {},
     "output_type": "execute_result"
    }
   ],
   "source": [
    "import numpy as np\n",
    "import pandas as pd\n",
    "from scipy.stats import pearsonr\n",
    "\n",
    "x = [1, 2, 3, 4, 5]\n",
    "y = [2, 4, 5, 4, 5]\n",
    "\n",
    "correlation_coefficient, p_value = pearsonr(x, y)\n",
    "print(\"Pearson Correlation Coefficient:\", correlation_coefficient)\n",
    "print(\"P-Value:\", p_value)\n",
    "\n",
    "df = pd.read_csv(\"weight-height.csv\")\n",
    "\n",
    "df[[\"Height\", \"Weight\"]].corr() # pearson correlation coefficient"
   ]
  },
  {
   "cell_type": "code",
   "execution_count": 3,
   "metadata": {},
   "outputs": [
    {
     "data": {
      "text/plain": [
       "array([[1.       , 0.9247563],\n",
       "       [0.9247563, 1.       ]])"
      ]
     },
     "execution_count": 3,
     "metadata": {},
     "output_type": "execute_result"
    }
   ],
   "source": [
    "np.corrcoef(df[\"Height\"], df[\"Weight\"]) # pearson correlation coefficient"
   ]
  },
  {
   "cell_type": "code",
   "execution_count": null,
   "metadata": {},
   "outputs": [],
   "source": []
  }
 ],
 "metadata": {
  "kernelspec": {
   "display_name": "Python 3",
   "language": "python",
   "name": "python3"
  },
  "language_info": {
   "codemirror_mode": {
    "name": "ipython",
    "version": 3
   },
   "file_extension": ".py",
   "mimetype": "text/x-python",
   "name": "python",
   "nbconvert_exporter": "python",
   "pygments_lexer": "ipython3",
   "version": "3.11.9"
  }
 },
 "nbformat": 4,
 "nbformat_minor": 2
}
