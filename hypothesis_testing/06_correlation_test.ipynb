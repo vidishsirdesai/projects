{
 "cells": [
  {
   "cell_type": "markdown",
   "metadata": {},
   "source": [
    "# Covariance\n",
    "Covariance is the average of all variance. It is mathematically expressed as,\n",
    "\n",
    "$\\text{Cov}(H, W) = \\frac{1}{n} \\sum_{i = 1}^n (H_i - \\bar{H}) (W_i - \\bar{W})$.\n",
    "\n",
    "Where,\n",
    "- $\\text{Cov}(H, W)$ = Covariance between $H$ and $W$.\n",
    "- $H_i$ = i-th value of the variable $H$.\n",
    "- $\\bar{H}$ = Mean of the variable $H$.\n",
    "- $W_i$ = i-th value of the variable $W$.\n",
    "- $\\bar{W}$ = Mean of the variable $W$.\n",
    "- n = Total number of data points.\n",
    "\n",
    "In situations where the average area is positive, because it is observed that there are more data points in Q1 and Q3, it can be concluded that the data points are \"positively correlated\".\n",
    "\n",
    "In situations where the average area is negative, because it is observed that there are more data points in Q2 and Q4, it can be concluded that the data points are \"negatively correlated\".\n",
    "\n",
    "In situations where the net area would approximately be at the origin (positive area is approximately equal to the negative area), it can be concluded that the data points are \"uncorrelated\".\n",
    "\n",
    "The co-variance depends on the scale. Say, if the plot is between inches and kilogram, and say the same is plotted between centimeter and pounds. The plot in the second scenario will be stretched because the unit of measurement are finer.\n",
    "\n",
    "The formulation for co-variance that is under, whatever unit is used, centimeter, kilometer or inch, should not affect the area. To take care of this, statisticians have come up with a metric which prevents this variations from taking place and the area remains the same.\n",
    "\n",
    "The first part of the equation, i.e., $(H_i - \\bar{H}) (W_i - \\bar{W})$, stays as it is.\n",
    "\n",
    "The only change that occurs is, $\\text{Cov}(X, Y) = \\frac{1}{n} \\sum_{i = 1}^n \\frac{(H_i - \\bar{H})}{\\sigma_h} \\frac{(W_i - \\bar{W})}{\\sigma_w}$.\n",
    "\n",
    "This equation when divided with standard deviation is called as Z-Score.\n",
    "\n",
    "The term used to call this entire expression is, correlation coefficient. Denoted by, $\\rho$.\n",
    "\n",
    "Therefore, $\\rho = \\frac{1}{n} \\sum_{i = 1}^n \\frac{(H_i - \\bar{H})}{\\sigma_h} \\frac{(W_i - \\bar{W})}{\\sigma_w}$.\n",
    "\n",
    "$\\rho$ will always range between -1 and +1. This is because, the division is done with respect to standard deviation.\n",
    "\n",
    "All the units have the same $\\rho$.\n",
    "- If the $\\rho$ is close to 0, then it is said that the data has no correlation.\n",
    "- If the $\\rho$ is close to 1, then it is said that the data has strong positive correlation.\n",
    "- If the $\\rho$ is close to -1, then it is said that the data has strong negative correlation.\n",
    "- If a plot is drawn such that all the data points are scattered around the origin (in close proximity). The $\\rho$ here would be approximately 0.\n",
    "- If a plot is drawn such that all the data points are scattered in Q2 and Q4. The $\\rho$ here would be approximately -1 (approaching -1 but not equal to).\n",
    "- If a plot is drawn such that all the data points are scattered in Q1 and Q3. The $\\rho$ here would be approximately 1 (approaching 1 but not equal to).\n",
    "\n",
    "To summarize, if different units are used then the co-variance increases unnecessarily. To prevent this, the Z-Score equivalent is calculated."
   ]
  }
 ],
 "metadata": {
  "language_info": {
   "name": "python"
  }
 },
 "nbformat": 4,
 "nbformat_minor": 2
}
