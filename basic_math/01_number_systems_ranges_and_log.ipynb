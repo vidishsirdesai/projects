{
 "cells": [
  {
   "cell_type": "markdown",
   "metadata": {},
   "source": [
    "# Number System\n",
    "- In Mathematics, the decimal system is widely used while working with numbers. It contains the following numbers, 0, 1, 2, 3, 4, 5, 6, 7, 8, 9 and is represented with \"base 10\", or just \"10\" in its subscript. For example, 26 in decimal notation is written as, $(26)_{10}$.\n",
    "- In an Electronic device, the binary number system is used. It contains 0 and 1, and is represented with \"base 2\" or just \"2\" in its subscript. For example, 26 in binary is written as, $(11010)_{2}$.\n",
    "- Decimal number system, \n",
    "    - $96542 = (9\\times10^{4}) + (6\\times10^{3}) + (5\\times10^{2}) + (4\\times10^{1}) + (2\\times10^{0})$.\n",
    "- Binary number system,\n",
    "    - $15 = (1\\times2^{3}) + (1\\times2^{2}) + (1\\times2^{1}) + (1\\times2^{0})$.\n",
    "    - $14 = (1\\times2^{3}) + (1\\times2^{2}) + (1\\times2^{1}) + (0\\times2^{0})$.\n",
    "- When converting a number from decimal to binary, the agenda should be to build the decimal number under question using the numbers lower than the number, the constraint is that, the lower numbers used should all be powers of 2. For example, $(26)_{10} = (11010)_{2}$.\n",
    "- Leading 0s have no significance on the magnitude of the number.\n",
    "- Binary numbers from 0 to 7 are,\n",
    "    | Number | 4 | 2 | 1 |\n",
    "    | :-: | :-: | :-: | :-: |\n",
    "    | 0 | 0 | 0 | 0 |\n",
    "    | 1 | 0 | 0 | 1 |\n",
    "    | 2 | 0 | 1 | 0 |\n",
    "    | 3 | 0 | 1 | 1 |\n",
    "    | 4 | 1 | 0 | 0 |\n",
    "    | 5 | 1 | 0 | 1 |\n",
    "    | 6 | 1 | 1 | 0 |\n",
    "    | 7 | 1 | 1 | 1 |\n",
    "- While converting from Binary to Decimal, multiply by powers of 2.\n",
    "- While converting from Decimal to Binary, divide by powers of 2."
   ]
  },
  {
   "cell_type": "markdown",
   "metadata": {},
   "source": [
    "# Ranges\n",
    "- [1, 10] = Includes 1 and 10. The range for this is calculated as, $range = end - start + 1$.\n",
    "- (1, 10) = Excludes 1 and 10. The range for this is calculated as, $range = end - start - 1$."
   ]
  },
  {
   "cell_type": "markdown",
   "metadata": {},
   "source": [
    "# Logarithms\n",
    "- Log is inverse of exponent.\n",
    "- In the equation below, $x$ is the number of times that $a$ has to be raised to in order to obtain $b$,\n",
    "\n",
    "    $\\log_a(b) = x$."
   ]
  }
 ],
 "metadata": {
  "language_info": {
   "name": "python"
  }
 },
 "nbformat": 4,
 "nbformat_minor": 2
}
