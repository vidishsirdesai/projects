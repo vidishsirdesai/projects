{
 "cells": [
  {
   "cell_type": "markdown",
   "metadata": {},
   "source": [
    "# Calculus\n",
    "The word Calculus comes from Latin, meaning \"mall stones\". Because it is like understanding something by looking at small pieces.\n",
    "\n",
    "Differential Calculus cuts something into small pieces to find how it is changing at the moment.\n",
    "\n",
    "Integral Calculus joins (integrates) the small pieces together to find how much there is."
   ]
  },
  {
   "cell_type": "markdown",
   "metadata": {},
   "source": []
  }
 ],
 "metadata": {
  "language_info": {
   "name": "python"
  }
 },
 "nbformat": 4,
 "nbformat_minor": 2
}
