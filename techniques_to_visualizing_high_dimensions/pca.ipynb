{
 "cells": [
  {
   "cell_type": "markdown",
   "metadata": {},
   "source": [
    "# Introduction\n",
    "Principal Component Analysis (PCA) is a dimensionality reduction technique used to simplify complex, high dimensional data. It excels at identifying the underlying structure of the data and capturing the most important information while reducing the number of features.\n",
    "\n",
    "### Curse of dimensionality\n",
    "- As the number of features or dimensions in the data increase, analyzing and visualizing it becomens increasingly challenging. This phenomenon is known as curse of dimensionality.\n",
    "- Distance between data points becomes less meaningful, and traditional methods struggle to identify patterns in high-dimensional spaces.\n",
    "\n",
    "### How does PCA tackle the problems in high-dimensional data?\n",
    "PCA tackles this challenge by transforming the data into a lower dimensional space while preserving the most significant information. It achieves this by identifying a new set of features called principal components (PCs).\n",
    "\n",
    "### How to find the most informative directions?\n",
    "- Variance capture: Imagine the data as a cloud of points in a high-dimensional space. PCA identifies the direction (principal component) with the greatest spread (variance) in this cloud. This direction captures the most information about how the data points are distributed.\n",
    "- Subsequent components: PCA then finds the next direction that explains the most remaining variance, perpendicular (uncorrelated) to the first one. This process continues until a desired number of principal components are identified.\n",
    "\n",
    "### Benefits of using PCA\n",
    "- Visualization: By reducing the dimensionality, PCA helps to visualize the data in lower dimensional space (e.g. 2D or 3D plots). This facilitates easier exploration, pattern identification, and data-driven decision making.\n",
    "- Data compression: PCA reduces the storage requirements and transmission bandwidth needed for the data. This is particularly beneficial for large datasets.\n",
    "- Faster machine learning: Training ML models often becomes significantly faster when dealing with fewer features. PCA helps achieve this by reducing the dimensionality without losing critical information.\n",
    "\n",
    "### Choosing the right number of principal components\n",
    "PCA does not necessarily require using all the identified principal components. A subset can be choosen that explains a desired percentage of the total variance in the data (e.g. 90%). This balances information preservation with dimensionality reduction.\n",
    "\n",
    "### Additionally\n",
    "- PCA assumes a linear relationship between features. If the data exhibits non-linear structures, other dimensionality reduction techniques like t-SNE might be more suitable.\n",
    "- Understanding the meaning of each principal component can provide insights into the underlying factors driving the data patterns. This can be achieved by analyzing the eigen vectors associated with each component."
   ]
  },
  {
   "cell_type": "markdown",
   "metadata": {},
   "source": [
    "# Steps to Apply PCA\n",
    "1. Data standardization:\n",
    "    - PCA often works better with standardized data. This means centering the data (subtracting the mean from each feature) and scaling it to have unit variance.\n",
    "    - While not strictly necessary, standardization can improve the performance of PCA, especially when dealing with features on different scales.\n",
    "2. Covariance matrix calculation:\n",
    "    - Calculate the covariance matrix, which captures the linear relationships between all pairs of features in the data.\n",
    "    - The covariance matrix is a square matrix where each entry represents the covariance between 2 specific features.\n",
    "3. Eigen value decomposition:\n",
    "    - Perform eigen decomposition on the covariance matrix. This mathematical operation identifies eigen values and eigen vectors.\n",
    "    - Eigen values represent the amount of variance explained by each principal component.\n",
    "    - Eigen vectors represent the direction (linear combinations of original features) along which the variance lies.\n",
    "4. Choosing the principal components: The desired number of principal components to retain can be selected based on,\n",
    "    - Variance explained: Select PCs that cumulatively explain a certain percentage (e.g. 90%) of the total variance.\n",
    "    - Scree plot: Visualize the eigen values using a scree plot. Often, a clear elbow point indicated the appropriate number of PCs to keep.\n",
    "5. Transformation: Create a new component matrix by projecting the original data onto the chosen principal components (eigen vectors). This results in a lower-dimensional representation of the data.\n",
    "6. Interpretation: Eigen vectors can be analyzed to understand the features that contribute most to each principal component. This can provide insights into the underlying structure of the data.\n",
    "\n",
    "### Additional considerations\n",
    "- The choice of the number of principal components is a balancing act between information preservation and dimensionality reduction.\n",
    "- Visualizing the transformed data in the lower dimensional space can be helpful for identifying patterns and relationships.\n",
    "- PCA assumes a linear relationship between features. If the relationships are non-linear, other dimensionality reduction techniques might be more suitable."
   ]
  },
  {
   "cell_type": "markdown",
   "metadata": {},
   "source": [
    "# Implementation of PCA"
   ]
  },
  {
   "cell_type": "code",
   "execution_count": 1,
   "metadata": {},
   "outputs": [],
   "source": [
    "# importing packages\n",
    "import numpy as np\n",
    "import pandas as pd\n",
    "import matplotlib.pyplot as plt\n",
    "import seaborn as sns\n",
    "import warnings"
   ]
  },
  {
   "cell_type": "code",
   "execution_count": 2,
   "metadata": {},
   "outputs": [],
   "source": [
    "# configuring the notebook\n",
    "pd.set_option(\"display.max_columns\", None)\n",
    "sns.set_theme(style = \"whitegrid\")\n",
    "warnings.filterwarnings(\"ignore\")"
   ]
  },
  {
   "cell_type": "code",
   "execution_count": 3,
   "metadata": {},
   "outputs": [
    {
     "data": {
      "text/html": [
       "<div>\n",
       "<style scoped>\n",
       "    .dataframe tbody tr th:only-of-type {\n",
       "        vertical-align: middle;\n",
       "    }\n",
       "\n",
       "    .dataframe tbody tr th {\n",
       "        vertical-align: top;\n",
       "    }\n",
       "\n",
       "    .dataframe thead th {\n",
       "        text-align: right;\n",
       "    }\n",
       "</style>\n",
       "<table border=\"1\" class=\"dataframe\">\n",
       "  <thead>\n",
       "    <tr style=\"text-align: right;\">\n",
       "      <th></th>\n",
       "      <th>f1</th>\n",
       "      <th>f2</th>\n",
       "    </tr>\n",
       "  </thead>\n",
       "  <tbody>\n",
       "    <tr>\n",
       "      <th>0</th>\n",
       "      <td>2.038772</td>\n",
       "      <td>1.102760</td>\n",
       "    </tr>\n",
       "    <tr>\n",
       "      <th>1</th>\n",
       "      <td>0.869536</td>\n",
       "      <td>0.238030</td>\n",
       "    </tr>\n",
       "    <tr>\n",
       "      <th>2</th>\n",
       "      <td>1.795888</td>\n",
       "      <td>1.020364</td>\n",
       "    </tr>\n",
       "    <tr>\n",
       "      <th>3</th>\n",
       "      <td>0.103510</td>\n",
       "      <td>-0.513661</td>\n",
       "    </tr>\n",
       "    <tr>\n",
       "      <th>4</th>\n",
       "      <td>1.479554</td>\n",
       "      <td>0.750702</td>\n",
       "    </tr>\n",
       "  </tbody>\n",
       "</table>\n",
       "</div>"
      ],
      "text/plain": [
       "         f1        f2\n",
       "0  2.038772  1.102760\n",
       "1  0.869536  0.238030\n",
       "2  1.795888  1.020364\n",
       "3  0.103510 -0.513661\n",
       "4  1.479554  0.750702"
      ]
     },
     "execution_count": 3,
     "metadata": {},
     "output_type": "execute_result"
    }
   ],
   "source": [
    "# importing the data\n",
    "df = pd.read_csv(\"pca_2d_data.csv\")\n",
    "df.head()"
   ]
  },
  {
   "cell_type": "code",
   "execution_count": 5,
   "metadata": {},
   "outputs": [
    {
     "data": {
      "image/png": "[encoded data removed]",
      "text/plain": [
       "<Figure size 1500x750 with 1 Axes>"
      ]
     },
     "metadata": {},
     "output_type": "display_data"
    }
   ],
   "source": [
    "# visualizing the data\n",
    "plt.figure(figsize = (15, 7.5))\n",
    "plt.scatter(df[\"f1\"], df[\"f2\"])\n",
    "plt.show()"
   ]
  },
  {
   "cell_type": "code",
   "execution_count": 7,
   "metadata": {},
   "outputs": [
    {
     "data": {
      "text/plain": [
       "array([[ 1.54535131,  1.45245914],\n",
       "       [-0.27203872, -0.18355391],\n",
       "       [ 1.16782713,  1.29657192],\n",
       "       [-1.46270299, -1.60570434],\n",
       "       [ 0.6761373 ,  0.78638828],\n",
       "       [ 1.34947087,  1.37420876],\n",
       "       [-1.32351276, -1.24217262],\n",
       "       [ 1.12913003,  1.13352252],\n",
       "       [ 0.95000678,  0.7936775 ],\n",
       "       [-0.57106382, -0.51601814],\n",
       "       [ 0.06851605, -0.13256012],\n",
       "       [ 0.19697379,  0.17359728],\n",
       "       [ 0.40492253,  0.61580503],\n",
       "       [-0.74142803, -0.78689518],\n",
       "       [-0.14160441, -0.03396865],\n",
       "       [-1.01204978, -1.12815545],\n",
       "       [-1.59801963, -1.44282205],\n",
       "       [ 1.23234064,  1.16652774],\n",
       "       [-1.21750246, -1.10850974],\n",
       "       [-0.38075383, -0.61239797]])"
      ]
     },
     "execution_count": 7,
     "metadata": {},
     "output_type": "execute_result"
    }
   ],
   "source": [
    "# step 1: data standardization\n",
    "from sklearn.preprocessing import StandardScaler\n",
    "\n",
    "scaler = StandardScaler()\n",
    "df = scaler.fit_transform(df)\n",
    "df"
   ]
  },
  {
   "cell_type": "code",
   "execution_count": 8,
   "metadata": {},
   "outputs": [
    {
     "data": {
      "text/plain": [
       "array([[1.05263158, 1.04455543],\n",
       "       [1.04455543, 1.05263158]])"
      ]
     },
     "execution_count": 8,
     "metadata": {},
     "output_type": "execute_result"
    }
   ],
   "source": [
    "# step 2: covariance matrix calculation\n",
    "covariance_matrix = np.cov(df.T)\n",
    "covariance_matrix"
   ]
  },
  {
   "cell_type": "code",
   "execution_count": 11,
   "metadata": {},
   "outputs": [
    {
     "data": {
      "text/plain": [
       "'Eigen Values = [2.09718701 0.00807615], Eigen Vectors = [[ 0.70710678 -0.70710678]\\n [ 0.70710678  0.70710678]]'"
      ]
     },
     "execution_count": 11,
     "metadata": {},
     "output_type": "execute_result"
    }
   ],
   "source": [
    "# step 3: eigen value decomposition\n",
    "eigen_values, eigen_vectors = np.linalg.eig(covariance_matrix)\n",
    "f\"Eigen Values = {eigen_values}, Eigen Vectors = {eigen_vectors}\""
   ]
  },
  {
   "cell_type": "code",
   "execution_count": 12,
   "metadata": {},
   "outputs": [
    {
     "data": {
      "text/plain": [
       "array([0.99616383, 0.00383617])"
      ]
     },
     "execution_count": 12,
     "metadata": {},
     "output_type": "execute_result"
    }
   ],
   "source": [
    "# step 4: choosing principal components\n",
    "explained_variance = eigen_values/ eigen_values.sum()\n",
    "explained_variance"
   ]
  },
  {
   "cell_type": "code",
   "execution_count": 13,
   "metadata": {},
   "outputs": [
    {
     "data": {
      "text/plain": [
       "1"
      ]
     },
     "execution_count": 13,
     "metadata": {},
     "output_type": "execute_result"
    }
   ],
   "source": [
    "threshold = 0.9\n",
    "number_of_pcs = np.where(explained_variance.cumsum() >= threshold)[0][0] + 1\n",
    "number_of_pcs"
   ]
  },
  {
   "cell_type": "code",
   "execution_count": 14,
   "metadata": {},
   "outputs": [
    {
     "data": {
      "text/plain": [
       "array([[-2.11977209],\n",
       "       [ 0.32215263],\n",
       "       [-1.74259328],\n",
       "       [ 2.16969163],\n",
       "       [-1.03416176],\n",
       "       [-1.92593234],\n",
       "       [ 1.81421352],\n",
       "       [-1.59993696],\n",
       "       [-1.23297098],\n",
       "       [ 0.76868302],\n",
       "       [ 0.045286  ],\n",
       "       [-0.26203332],\n",
       "       [-0.72176338],\n",
       "       [ 1.08068771],\n",
       "       [ 0.1241489 ],\n",
       "       [ 1.51335363],\n",
       "       [ 2.15019977],\n",
       "       [-1.6962561 ],\n",
       "       [ 1.644739  ],\n",
       "       [ 0.70226438]])"
      ]
     },
     "execution_count": 14,
     "metadata": {},
     "output_type": "execute_result"
    }
   ],
   "source": [
    "# step 5: transformation\n",
    "from sklearn.decomposition import PCA\n",
    "\n",
    "pca = PCA(n_components = number_of_pcs)\n",
    "df_transformed = pca.fit_transform(df)\n",
    "df_transformed"
   ]
  },
  {
   "cell_type": "code",
   "execution_count": 17,
   "metadata": {},
   "outputs": [
    {
     "data": {
      "text/plain": [
       "array([0.99616383])"
      ]
     },
     "execution_count": 17,
     "metadata": {},
     "output_type": "execute_result"
    }
   ],
   "source": [
    "# explained variance for each principal component\n",
    "pca.explained_variance_ratio_"
   ]
  },
  {
   "cell_type": "markdown",
   "metadata": {},
   "source": [
    "# Problems with PCA\n",
    "PCA is a powerful technique, but it does have some limitations to consider when applying it to the data analysis tasks. The following are the problems,\n",
    "- Loss of information: By definition, PCA reduces dimensionality, which means some information from the original data is inevitably lost. The challenge lies in finding the right balance between retaining essential information and achieving the desired level of dimensionality reduction.\n",
    "- Assumes linear relationship: PCA works best when the relationship between features are linear. If the data exhibits significant non-linear patterns, PCA might not capture the underlying structure effectively. In such cases, alternative dimensionality reduction techniques like t-SNE might be more suitable.\n",
    "- Intrepretability of principal components: While PCA identifies principal components that explain variance, interpreting their meaning can be challenging, especially for datasets with many features. Analyzing the eigen vectors associated with each component can provide some insights, but it might require domain knowledge to fully understand their connection to the real-world problem.\n",
    "- Sensitivity to outliers: Outliers in the data can significantly influence the principal components identified by PCA. This can distort the representation of the actual data distribution. It's essential to consider outlier treatment methods before applying PCA.\n",
    "- High dimensional data with few informative features (\"curse of dimensionality\"): PCA might not be very effective in scenarios where your high-dimensional data has only a few informative features. In such cases, a large portion of the variance might be attributed to noise, making PCA less useful for identifying the underlying structure."
   ]
  }
 ],
 "metadata": {
  "kernelspec": {
   "display_name": "Python 3",
   "language": "python",
   "name": "python3"
  },
  "language_info": {
   "codemirror_mode": {
    "name": "ipython",
    "version": 3
   },
   "file_extension": ".py",
   "mimetype": "text/x-python",
   "name": "python",
   "nbconvert_exporter": "python",
   "pygments_lexer": "ipython3",
   "version": "3.11.2"
  }
 },
 "nbformat": 4,
 "nbformat_minor": 2
}
