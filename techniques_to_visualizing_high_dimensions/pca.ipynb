{
 "cells": [
  {
   "cell_type": "markdown",
   "metadata": {},
   "source": [
    "# Introduction\n",
    "Principal Component Analysis (PCA) is a dimensionality reduction technique used to simplify complex, high dimensional data. It excels at identifying the underlying structure of the data and capturing the most important information while reducing the number of features.\n",
    "\n",
    "### Curse of dimensionality\n"
   ]
  }
 ],
 "metadata": {
  "language_info": {
   "name": "python"
  }
 },
 "nbformat": 4,
 "nbformat_minor": 2
}
