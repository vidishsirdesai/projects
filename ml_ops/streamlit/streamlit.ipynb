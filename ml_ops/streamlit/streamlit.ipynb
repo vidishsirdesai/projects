{
 "cells": [
  {
   "cell_type": "markdown",
   "metadata": {},
   "source": [
    "# What is Streamlit?\n",
    "Streamlit is a Python tool that helps in building a website in no time. It is not a requirement for a Data Scientist to know front-end and back-end development and the connections between them, this is a job of a Software Developer. But, it is an essential requirement for a Data Scientist to show the working of a model, with visualizations included, to the stake holders. In this case a building simple application that allows the user to interact with the various parameters and visualize the output etc, becomes essential.\n",
    "\n",
    "Streamlit serves exactly this requirement of a Data Scientist without him/ her known the fundamentals of web development (front-end and back-end).\n",
    "\n",
    "Streamlit is popularly by used by Data Scientists and Analysts for building a POC (proof of concept) app."
   ]
  },
  {
   "cell_type": "markdown",
   "metadata": {},
   "source": [
    "# Installing Streamlit\n",
    "\n",
    "### Prerequisites\n",
    "1. Python version 3.8 to 3.12.\n",
    "2. A Python environment manager: Environment managers create virtual environments to isolate Python package installations between projects. It is recommended that virtual environments be used because installing or upgrading a Python package may cause unintentional effects on another package. Here, `venv` is used.\n",
    "3. A Python package manager, popularly `pip` is the go to one.\n",
    "4. A code editor, like *VS Code*.\n",
    "\n",
    "### Create an Environment using `venv`\n",
    "1. `cd <project_folder_path>`.\n",
    "2. `python3 -m venv .venv`.\n",
    "3. A folder named \".venv\" will appear in your project. This directory is where your virtual environment and its dependencies are installed.\n",
    "\n",
    "But before an environment is created, create a *.txt* file with the name *requirements.txt*. The following should be included inside *requirements.txt*:\n",
    "`streamlit` \\n `scikit-learn` \\n `numpy` \\n `pandas`\n",
    "\n",
    "This tells what the different libraries that the project requires are.\n",
    "\n",
    "### Activate the Virtual Environment\n",
    "In the terminal, activate the environment with one of the following commands depending on the opearating system,\n",
    "- Windows command prompt, `.venv\\Scripts\\activate.bat`\n",
    "- Windows PowerShell, `.venv\\Scripts\\Activate.ps1`\n",
    "- macOS and Linux `source .venv/bin/activate`\n",
    "\n",
    "Once activated, the environment name will be seen in the parentheses before the prompt. \"(`.venv`)\".\n",
    "\n",
    "### Deactivate the Virtual Environment\n",
    "Strictly follow the following 2 steps,\n",
    "1. `deactivate`\n",
    "2. `rm -r .venv`\n",
    "\n",
    "NOTE: The IP address for localhost is 127.0.0.1 (IPv4) and the port numbers begin from 8000.\n",
    "\n",
    "### Installing Streamlit in the Environment\n",
    "1. `pip install streamlit`\n",
    "2. Test if the installation has worked, `streamlit hello`. If this doesn't work, use the long-form command: `python -m streamlit hello`.\n",
    "3. Streamlit's Hello app should open in a new tab in the browser.\n",
    "\n",
    "### Building an Application\n",
    "1. Goto the Streamlit's website > Docs > Develop > API reference > Text elements > st.header\n",
    "2. Create a new file `app.py`.\n",
    "3. Copy the contents of the examples under st.header.\n",
    "4. To run this, `streamlit run app.py`. If this does not work, try the long-form command, `python -m streamlit run app.py`.\n",
    "5. To stop the Streamlit server, press `Ctrl + C` in the terminal."
   ]
  },
  {
   "cell_type": "markdown",
   "metadata": {},
   "source": [
    "# An App for Stock Market Data\n",
    "1. Create a file `stockmarketapp.py` [Goto the this file to see the contents].\n",
    "2. Install the `yfinance` package, `pip install yfinance`.\n",
    "3. Once the code is in place, run the app, `streamlit run stockmarketapp.py`."
   ]
  },
  {
   "cell_type": "markdown",
   "metadata": {},
   "source": []
  }
 ],
 "metadata": {
  "language_info": {
   "name": "python"
  }
 },
 "nbformat": 4,
 "nbformat_minor": 2
}
