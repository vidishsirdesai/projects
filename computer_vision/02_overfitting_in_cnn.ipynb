{
 "cells": [
  {
   "cell_type": "markdown",
   "metadata": {},
   "source": [
    "# Tackling Overfitting\n",
    "There are broadly 2 ways in which overfitting can be reduced,\n",
    "1. Modification in model pipeline: Improving network configuration to solve over-parameterization.\n",
    "2. Modification in data pipeline: Augmenting the dataset to increase the number of samples."
   ]
  },
  {
   "cell_type": "markdown",
   "metadata": {},
   "source": [
    "# Revisiting The Problem Statement And The Baseline Model"
   ]
  },
  {
   "cell_type": "code",
   "execution_count": 1,
   "metadata": {},
   "outputs": [],
   "source": [
    "import numpy as np\n",
    "import pandas as pd\n",
    "import matplotlib.pyplot as plt\n",
    "import seaborn as sns\n",
    "import tensorflow as tf\n",
    "import warnings"
   ]
  },
  {
   "cell_type": "code",
   "execution_count": 2,
   "metadata": {},
   "outputs": [],
   "source": [
    "pd.set_option(\"display.max_columns\", None)\n",
    "sns.set_theme(style = \"whitegrid\")\n",
    "warnings.filterwarnings(\"ignore\")\n",
    "tf.keras.utils.set_random_seed(111)"
   ]
  },
  {
   "cell_type": "code",
   "execution_count": 3,
   "metadata": {},
   "outputs": [
    {
     "name": "stdout",
     "output_type": "stream",
     "text": [
      "\u001b[01;34mclothing_dataset_small\u001b[0m\n",
      "├── \u001b[01;34mtest\u001b[0m\n",
      "│   ├── \u001b[01;34mdress\u001b[0m\n",
      "│   ├── \u001b[01;34mhat\u001b[0m\n",
      "│   ├── \u001b[01;34mlongsleeve\u001b[0m\n",
      "│   ├── \u001b[01;34moutwear\u001b[0m\n",
      "│   ├── \u001b[01;34mpants\u001b[0m\n",
      "│   ├── \u001b[01;34mshirt\u001b[0m\n",
      "│   ├── \u001b[01;34mshoes\u001b[0m\n",
      "│   ├── \u001b[01;34mshorts\u001b[0m\n",
      "│   ├── \u001b[01;34mskirt\u001b[0m\n",
      "│   └── \u001b[01;34mt-shirt\u001b[0m\n",
      "├── \u001b[01;34mtrain\u001b[0m\n",
      "│   ├── \u001b[01;34mdress\u001b[0m\n",
      "│   ├── \u001b[01;34mhat\u001b[0m\n",
      "│   ├── \u001b[01;34mlongsleeve\u001b[0m\n",
      "│   ├── \u001b[01;34moutwear\u001b[0m\n",
      "│   ├── \u001b[01;34mpants\u001b[0m\n",
      "│   ├── \u001b[01;34mshirt\u001b[0m\n",
      "│   ├── \u001b[01;34mshoes\u001b[0m\n",
      "│   ├── \u001b[01;34mshorts\u001b[0m\n",
      "│   ├── \u001b[01;34mskirt\u001b[0m\n",
      "│   └── \u001b[01;34mt-shirt\u001b[0m\n",
      "└── \u001b[01;34mvalidation\u001b[0m\n",
      "    ├── \u001b[01;34mdress\u001b[0m\n",
      "    ├── \u001b[01;34mhat\u001b[0m\n",
      "    ├── \u001b[01;34mlongsleeve\u001b[0m\n",
      "    ├── \u001b[01;34moutwear\u001b[0m\n",
      "    ├── \u001b[01;34mpants\u001b[0m\n",
      "    ├── \u001b[01;34mshirt\u001b[0m\n",
      "    ├── \u001b[01;34mshoes\u001b[0m\n",
      "    ├── \u001b[01;34mshorts\u001b[0m\n",
      "    ├── \u001b[01;34mskirt\u001b[0m\n",
      "    └── \u001b[01;34mt-shirt\u001b[0m\n",
      "\n",
      "34 directories\n"
     ]
    }
   ],
   "source": [
    "!tree clothing_dataset_small -d"
   ]
  },
  {
   "cell_type": "code",
   "execution_count": null,
   "metadata": {},
   "outputs": [],
   "source": []
  }
 ],
 "metadata": {
  "kernelspec": {
   "display_name": "Python 3",
   "language": "python",
   "name": "python3"
  },
  "language_info": {
   "codemirror_mode": {
    "name": "ipython",
    "version": 3
   },
   "file_extension": ".py",
   "mimetype": "text/x-python",
   "name": "python",
   "nbconvert_exporter": "python",
   "pygments_lexer": "ipython3",
   "version": "3.11.9"
  }
 },
 "nbformat": 4,
 "nbformat_minor": 2
}
