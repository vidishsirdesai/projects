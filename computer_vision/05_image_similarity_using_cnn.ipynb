{
 "cells": [
  {
   "cell_type": "markdown",
   "metadata": {},
   "source": [
    "# Problem Statement\n",
    "The task is to return similar images to the given query image."
   ]
  },
  {
   "cell_type": "markdown",
   "metadata": {},
   "source": [
    "# What Is Image Similarity?\n",
    "- Image similarity is the measure of how similar 2 images are.\n",
    "- It quantifies the degree of similarity between intensity patterns in 2 images.\n",
    "- Finding image similarity also called reverse image search."
   ]
  },
  {
   "cell_type": "markdown",
   "metadata": {},
   "source": [
    "# Applications Of Image Similarity (What Can Be Done Using Image Similarity?)\n",
    "- Image retrieval: Image similarity is the backbone of image search engines like Google Images and Pinterest. By understanding the visual content of a query image, these platforms efficiently retrieve similar images from their vast databases.\n",
    "- E-commerce: Product recommendations play a crucial role in online shopping experiences. Image similarity empowers e-commerce platforms to suggest visually similar products to customers, enhancing their browsing and purchase decisions.\n",
    "- Duplicate detection: Maintaining clean and organized datasets is essential for various tasks. Image similarity algorithms can effeciently identify duplicate or near-identical images within large datasets, ensuring data integrity and reducing storage requirements.\n",
    "- Security and surveillance: Facial recognition systems leverage image similarity to match faces against databases of known individuals. This technology is used in security applications for identification, surveillance and access control.\n",
    "- Brand protection: Image similarity safeguards brands by detecting unauthorized use of logos, trademarks or copyrighted images online. By comparing new content with a database of brand assets, businesses can proactively identify and address potential infringements.\n",
    "- Content moderation: Image similarity can be used to streamline content moderation on social media platforms and online communities. By detecting visually similar content that violates community guidelines, such as violent or offensive imagery, image similarity algorithms can aid in maintaining a safe and appropriate online environment."
   ]
  },
  {
   "cell_type": "markdown",
   "metadata": {},
   "source": [
    "# How To Compute The Similarity Of 2 Images?\n",
    "### Challenges of direct pixel comparison\n",
    "Directly comparing the pixel values of 2 images often fails to capture meaningful similarities. This is because,\n",
    "- Lighting variations: Images of the same object can drastically different pixel values due to varying lighting conditions.\n",
    "- Perspective shifts: Changes in the viewpoint can significantly alter pixel values, even if the object remains the same.\n",
    "- OcculusionsL Partial occulusions can drastically change pixel values, making direct comparison unreliable.\n",
    "\n",
    "To overcome the above challenges, a representation that captures the essesnce of an image that goes beyond raw pixel values is needed. This is where Embeddings come into play.\n",
    "\n",
    "### What are Embeddings?\n"
   ]
  }
 ],
 "metadata": {
  "language_info": {
   "name": "python"
  }
 },
 "nbformat": 4,
 "nbformat_minor": 2
}
