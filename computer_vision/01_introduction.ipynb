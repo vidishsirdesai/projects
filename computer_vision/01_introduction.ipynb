{
 "cells": [
  {
   "cell_type": "markdown",
   "metadata": {},
   "source": [
    "# What Is Computer Vision?\n",
    "Computer Vision is a field in Artificial Intelligence that uses Machine Learning and Neural Networks to teach computers and systems to derive meaningful information from digital images, videos and other visual inputs - and to make recommendations or take actions when they see defects or issues.\n",
    "\n",
    "If AI enables computers to think, Computer Vision enables them to see, observe and understand.\n",
    "\n",
    "Computer Vision works much the same as Human Vision, except Humans have a head start. Human sight has the advantage of lifetimes of context to train how to tell objects apart, how far away they are, whether they are moving or something is wrong with an image.\n",
    "\n",
    "Computer Vision trains Machines to perform these functions, but it must do it in much less time with cameras, data and algorithms rather than retinas, optic nerves and visual cortex. Because a system trained to inspect products or watch a production asset can analyze thousands of products or processes a minute, noticing imperceptible defects or issues, it can quickly surpass human capabilities.\n",
    "\n",
    "Computer Vision is used in industries that range from energy and utilities to manufacturing and automotive, etc."
   ]
  },
  {
   "cell_type": "markdown",
   "metadata": {},
   "source": [
    "# How Does Computer Vision Work?\n",
    "Computer Vision needs a lot of data. It runs analyses of data over and over until it discerns distinctions and ultimately recognize imges. For example, to train a computer to recognize automobile tires, it needs to be fed vast quantities of tire images and tire-related items to learn the differences and recognize a tire, especially one with no defects. Two essential technologies are used to accomplish this, a type of Machine Learning called Deep Learning and a Convolutional Neural Network (CNN).\n",
    "\n",
    "Machine Learning uses algorithmic models that enable a computer to teach itself about the context of visual data. If enough data is fed through the model, the computer will \"look\" at the data and teach itself to tell one image from another. Algorithms enable the machine to learn by itself, rather than someone programming it to recognize an image.\n",
    "\n",
    "A CNN helps a Machine Learning or a Deep Learning model \"look\" by breaking images down into pixels that are given tags or labels. It uses the labels to perform convolutions (a mathematical operation on 2 functions to produce a third function) and makes predictions about what it is \"seeing\". The Neural Network runs convolutions and checks the accuracy of its predictions in a series of iterations until the predictions start to come true. It is then recognizing or seeing images in a way similar to humans.\n",
    "\n",
    "Much like a human making out an image at a distance, a CNN first discerns hard edges and simple shapes, then fills in the information as it runs iterations of its predictions. A CNN is used to understand single images. A Recurrent Neural Network (RNN) is used in a similar way for video applications to help computers understand how pictures in a series of frames are related to one another."
   ]
  },
  {
   "cell_type": "markdown",
   "metadata": {},
   "source": [
    "# History Of Computer Vision\n",
    "Scientists and Engineers have been trying to develop ways for machines to see and understand visual data for about 60 years. Experimentation began in 1959 when neurophysiologists showed a cat an array of images, attempting to correlate a response in its brain. They discovered that it responded first to hard edges or lines and scientifically, this meant that image processing starts with simple shapes like straight edges.\n",
    "\n",
    "At abou the same time, the first computer image scanning technology was developed, enabline computers to digitize and acquire images. Another milestone was reached in 1963 when computers were able to transform 2D images into 3D forms. In the 1960, AI emerged as an academic field of study and it also marked the beginning of the AI quest to solve the human vision problem.\n",
    "\n",
    "1974 saw the introduction of Optical Character Recognition (OCR) technology, which could recognize test printed in any font or typeface. Similarly, Intelligent Character Recognition (ICR) could decipher hand-written text that is using Neural Networks. Since then, OCR and ICR have found their way into document and invoice processing, vehicle plate recognition, mobile payments, machine conversion, etc.\n",
    "\n",
    "In 1982, neuroscientist David Marr established that vision works hierarchically and introduced algorithms for machines to detect edges, corners, curves and similar basic shapes. Concurrently, computer scientist Kunihiko Fukushima developed a network of cells that could recgnize patterns. The network, called the Neocognitron, included convolutional layers in a Neural Network.\n",
    "\n",
    "By 2000, the focus of study was on object recognition; and by 2001, the first real-time face recognition applications appeared. Standardization of how visul data sets are tagged and annotated emerged through 2000s. In 2010, the ImageNet dataset became available. It contained millions of tagged images across a thousand object classes and provides a foundation for CNNs and Deep Learning models used today. In 2012, a tema from the University of Toronto entered a CNN into an image recognition contest. The model, called AlexNet, significantly reduced the error rate for image recognition. After this breakthrough, error rates have fallen to just a few percent."
   ]
  },
  {
   "cell_type": "markdown",
   "metadata": {},
   "source": []
  }
 ],
 "metadata": {
  "kernelspec": {
   "display_name": "Python 3",
   "language": "python",
   "name": "python3"
  },
  "language_info": {
   "codemirror_mode": {
    "name": "ipython",
    "version": 3
   },
   "file_extension": ".py",
   "mimetype": "text/x-python",
   "name": "python",
   "nbconvert_exporter": "python",
   "pygments_lexer": "ipython3",
   "version": "3.11.9"
  }
 },
 "nbformat": 4,
 "nbformat_minor": 2
}
