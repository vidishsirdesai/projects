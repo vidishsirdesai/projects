{
 "cells": [
  {
   "cell_type": "markdown",
   "metadata": {},
   "source": [
    "# What Is Computer Vision?\n",
    "Computer Vision is a field in Artificial Intelligence that uses Machine Learning and Neural Networks to teach computers and systems to derive meaningful information from digital images, videos and other visual inputs - and to make recommendations or take actions when they see defects or issues.\n",
    "\n",
    "If AI enables computers to think, Computer Vision enables them to see, observe and understand.\n",
    "\n",
    "Computer Vision works much the same as Human Vision, except Humans have a head start. Human sight has the advantage of lifetimes of context to train how to tell objects apart, how far away they are, whether they are moving or something is wrong with an image.\n",
    "\n",
    "Computer Vision trains Machines to perform these functions, but it must do it in much less time with cameras, data and algorithms rather than retinas, optic nerves and visual cortex. Because a system trained to inspect products or watch a production asset can analyze thousands of products or processes a minute, noticing imperceptible defects or issues, it can quickly surpass human capabilities.\n",
    "\n",
    "Computer Vision is used in industries that range from energy and utilities to manufacturing and automotive, etc."
   ]
  },
  {
   "cell_type": "markdown",
   "metadata": {},
   "source": [
    "# How Does Computer Vision Work?\n",
    "Computer Vision needs a lot of data. It runs analyses of data over and over until it discerns distinctions and ultimately recognize imges. For example, to train a computer to recognize"
   ]
  }
 ],
 "metadata": {
  "kernelspec": {
   "display_name": "Python 3",
   "language": "python",
   "name": "python3"
  },
  "language_info": {
   "codemirror_mode": {
    "name": "ipython",
    "version": 3
   },
   "file_extension": ".py",
   "mimetype": "text/x-python",
   "name": "python",
   "nbconvert_exporter": "python",
   "pygments_lexer": "ipython3",
   "version": "3.11.9"
  }
 },
 "nbformat": 4,
 "nbformat_minor": 2
}
