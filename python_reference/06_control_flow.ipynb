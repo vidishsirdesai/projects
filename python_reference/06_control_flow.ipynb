{
 "cells": [
  {
   "cell_type": "markdown",
   "metadata": {},
   "source": [
    "# Flowcharts\n",
    "A flowchart is a pictorial representation of a process or a system or a computer algorithm. It is created with different figures or shapes, each one representing a specific kind of operation.\n",
    "\n",
    "The following are different shapes used in a flowchart and their meanings:\n",
    "\n",
    "| shape | meaning |\n",
    "| :- | :- |\n",
    "| Oval | Start or stop of the execution |\n",
    "| Arrow | Flow of the execution |\n",
    "| Parallelogram | Input or output |\n",
    "| Rectangle | Process |\n",
    "| Diamond | Decision |"
   ]
  },
  {
   "cell_type": "markdown",
   "metadata": {},
   "source": [
    "# Indentation\n",
    "Indentation is a way of separating code blocks in Python.\n",
    "\n",
    "Python uses indentation as opposed to braces in other programming languages to achieve separation of code blocks.\n",
    "\n",
    "1 tab space is equal to 4 spaces (usually), but this is left for the programmer to decide.\n",
    "\n",
    "```Python\n",
    "# this is code block 1\n",
    "# this is code block 1\n",
    "# this is code block 1\n",
    "\t# this is code block 2\n",
    "\t# this is code block 2\n",
    "\t# this is code block 2\n",
    "# this is code block 3\n",
    "# this is code block 3\n",
    "# this is code block 3\n",
    "```"
   ]
  },
  {
   "cell_type": "markdown",
   "metadata": {},
   "source": [
    "# Conditional Statements\n",
    "Conditional or decision statements are used for decision making. They are used in writing code which runs as a result of a decision. The decision made is based on conditional or logical operation. The result of both, conditional and logical operation is boolean (`True` or `False`).\n",
    "\n",
    "### `if-else` statements\n",
    "Used when a single condition has to be checked.\n",
    "\n",
    "```Python\n",
    "# syntax\n",
    "if <condition>:\n",
    "\t# the following block of code is executed if the condition is True\n",
    "\t# statement1\n",
    "\t# statement2\n",
    "else:\n",
    "\t# the following block of code is executed if the condition is False\n",
    "\t# statement1\n",
    "\t# statement2\n",
    "# these lines will always run\n",
    "```"
   ]
  },
  {
   "cell_type": "code",
   "execution_count": 1,
   "metadata": {},
   "outputs": [
    {
     "name": "stdout",
     "output_type": "stream",
     "text": [
      "Passwords Matched\n"
     ]
    }
   ],
   "source": [
    "# example\n",
    "set_password = input()\n",
    "verify_password = input()\n",
    "\n",
    "if set_password == verify_password:\n",
    "\tprint(\"Passwords Matched\")\n",
    "else:\n",
    "\tprint(\"Incorrect Password\")"
   ]
  },
  {
   "cell_type": "markdown",
   "metadata": {},
   "source": [
    "### `if-elif-else` statement\n",
    "Used when multiple conditions have to be checked.\n",
    "\n",
    "```Python\n",
    "# syntax\n",
    "if <condition1>:\n",
    "\t# the following block of code is executed if condition1 is True\n",
    "\t# statement1\n",
    "\t# statement2\n",
    "elif <condition2>:\n",
    "\t# the following block of code is executed if condition2 is True\n",
    "\t# statement1\n",
    "\t# statement2\n",
    "elif <conditionN>:\n",
    "\t# the following block of code is executed if condition2 is True\n",
    "\t# statement1\n",
    "\t# statement2\n",
    "else:\n",
    "\t# the following block of code is executed if both condition1 and condition2 are False\n",
    "\t# statement1\n",
    "\t# statement2\n",
    "```"
   ]
  },
  {
   "cell_type": "code",
   "execution_count": 2,
   "metadata": {},
   "outputs": [
    {
     "name": "stdout",
     "output_type": "stream",
     "text": [
      "Positive\n"
     ]
    }
   ],
   "source": [
    "# example\n",
    "int_var = int(input())\n",
    "\n",
    "if int_var == 0:\n",
    "\tprint(\"Zero\")\n",
    "elif int_var > 0:\n",
    "\tprint(\"Positive\")\n",
    "else:\n",
    "\tprint(\"Negative\")"
   ]
  },
  {
   "cell_type": "markdown",
   "metadata": {},
   "source": [
    "# Ternary Operator\n",
    "Python supports ternary operator, which is a concise way to express conditional statements (`if-else`). The ternary operator is also known as the conditional expression.\n",
    "\n",
    "```Python\n",
    "# syntax\n",
    "<execute_this_if_expression_is_true> if <expression> else <execute_this_if_expression_is_false>\n",
    "```\n",
    "\n",
    "Where,\n",
    "- `<execute_this_if_expression_is_true>`: The value to return if the expression is evaluated to `True`.\n",
    "- `<expression>`: The expression that is evaluated to either `True` and `False`.\n",
    "- `<execute_this_if_expression_is_false>`: The value to return if the expression is evaluated to `False`.\n",
    "\n",
    "The ternary operator is a way to express simple `if-else` condition in a single line. It can especially be useful when there is a need to assign a value based on a condition.\n",
    "\n",
    "The differrent use cases of the ternary operator are,\n",
    "1. Assign a variable based on a condition."
   ]
  },
  {
   "cell_type": "code",
   "execution_count": 3,
   "metadata": {},
   "outputs": [
    {
     "name": "stdout",
     "output_type": "stream",
     "text": [
      "20\n"
     ]
    }
   ],
   "source": [
    "x = 10\n",
    "y = 20\n",
    "maximum = x if x > y else y\n",
    "print(maximum)  # Output: 20"
   ]
  },
  {
   "cell_type": "markdown",
   "metadata": {},
   "source": [
    "2. Create a simple conditional expression."
   ]
  },
  {
   "cell_type": "code",
   "execution_count": 4,
   "metadata": {},
   "outputs": [
    {
     "name": "stdout",
     "output_type": "stream",
     "text": [
      "Adult\n"
     ]
    }
   ],
   "source": [
    "age = 25\n",
    "growth_status = \"Adult\" if age >= 18 else \"Minor\"\n",
    "print(growth_status)"
   ]
  },
  {
   "cell_type": "markdown",
   "metadata": {},
   "source": [
    "3. Use ternary operator with a list comprehension to manipulate values stored in another list and store the results in a different list."
   ]
  },
  {
   "cell_type": "code",
   "execution_count": 5,
   "metadata": {},
   "outputs": [
    {
     "name": "stdout",
     "output_type": "stream",
     "text": [
      "[1, 4, 3, 16, 5]\n"
     ]
    }
   ],
   "source": [
    "numbers = [1, 2, 3, 4, 5]\n",
    "squared = [x ** 2 if x % 2 == 0 else x for x in numbers]\n",
    "print(squared)"
   ]
  },
  {
   "cell_type": "markdown",
   "metadata": {},
   "source": [
    "4. Multiple `if-else` blocks can also be executed using ternary operator (although it would be best if the traditional syntax is used while working with multiple conditions)."
   ]
  },
  {
   "cell_type": "code",
   "execution_count": 9,
   "metadata": {},
   "outputs": [
    {
     "data": {
      "text/plain": [
       "'adult'"
      ]
     },
     "execution_count": 9,
     "metadata": {},
     "output_type": "execute_result"
    }
   ],
   "source": [
    "age = 29\n",
    "growth_status = \"kid\" if age < 13 else \"teenager\" if 13 <= age < 21 else \"adult\" if 21 <= age < 30 else \"old\"\n",
    "growth_status"
   ]
  },
  {
   "cell_type": "markdown",
   "metadata": {},
   "source": [
    "While the ternary operator is consice and can make the code more compact it is important to use it judiciously. In more complex situations, it is more preferrable to use a full `if-else` statement for clarity."
   ]
  },
  {
   "cell_type": "markdown",
   "metadata": {},
   "source": [
    "# Looping Statements\n",
    "A loop contains a sequence of instructions that are iteratively (one-after-the-other) executed until a certain condition is reached. The following are the contents of looping statements,\n",
    "- A loop starts with a starting value which has to be specified or defined. This is called as the \"***initialization value***\".\n",
    "- The statement that is attached to the loop which is checked at each iteration is called as the \"***condition statement***\".\n",
    "- Loop also has a terminating or ending value which is called as the \"***termination value***\". At this point the loop is terminated and the control is returned to the next statement outside the loop, this termination value or point is usually embedded in the conditional statement itself.\n",
    "\n",
    "### `while` loop\n",
    "\"*For all the while the condition is true, the code in the block should be executed*\". This is a very simple, but and apt explanation of how a while loop works.\n",
    "\n",
    "```Python\n",
    "# syntax\n",
    "<initialization_statement>\n",
    "\n",
    "while <conditional_statememnt>: # the termination statement is embedded here\n",
    "\t# the following block of code is executed for as long as the conditional_statement is True\n",
    "\t<increment_statement>\n",
    "\n",
    "# in the while loop the termination statement is embedded into the conditional statement\n",
    "```"
   ]
  },
  {
   "cell_type": "code",
   "execution_count": 10,
   "metadata": {},
   "outputs": [
    {
     "name": "stdout",
     "output_type": "stream",
     "text": [
      "0\n",
      "1\n",
      "2\n",
      "3\n",
      "4\n",
      "5\n",
      "6\n"
     ]
    }
   ],
   "source": [
    "# example\n",
    "# print the first 5 integers\n",
    "flag = 0\n",
    "\n",
    "while flag <= 5:\n",
    "\tprint(flag)\n",
    "\tflag += 1\n",
    "\n",
    "print(flag)"
   ]
  },
  {
   "cell_type": "markdown",
   "metadata": {},
   "source": [
    "A `while` loop becomes an infinite loop if the condition based on which the loop executes, never becomes `False` or the increment is not done appropriately.\n",
    "\n",
    "A `while` loop is used when a condition has to be checked in each iteration."
   ]
  },
  {
   "cell_type": "markdown",
   "metadata": {},
   "source": [
    "### `for` Loop\n",
    "\"*For every number in the specified range (a to b), execute some statements*\". This is what essentially happens in a `for` loop.\n",
    "\n",
    "```Python\n",
    "# syntax\n",
    "for <variable_name> in <iterable_name>:\n",
    "\t# the following block of code is executed in a loop for as long as the variable value lies in the iterable\n",
    "```"
   ]
  },
  {
   "cell_type": "code",
   "execution_count": 11,
   "metadata": {},
   "outputs": [
    {
     "name": "stdout",
     "output_type": "stream",
     "text": [
      "0\n",
      "1\n",
      "2\n",
      "3\n",
      "4\n",
      "5\n"
     ]
    }
   ],
   "source": [
    "# example\n",
    "# print the first 5 integers\n",
    "for i in range(0, 6):\n",
    "\tprint(i)"
   ]
  },
  {
   "cell_type": "markdown",
   "metadata": {},
   "source": [
    "A `for` loop is used in scenarios where there are a set of predefined sequence of elements to iterate over (like a list, string or array) and the number of iterations is directly tied to the sequence's length. The loop automatically progresses through each element in the sequence. Meaning, the increment happens automatically.\n",
    "\n",
    "In a `for` loop the initialization statement and the termination statement both are embedded in the `range()` function."
   ]
  },
  {
   "cell_type": "markdown",
   "metadata": {},
   "source": [
    "# Jump Statements\n",
    "### `break`\n",
    "In Python, `break` is used within loops to prematurely exit from the loop's execution. It is often used in situations where there is a need to stop the loop's execution based on a specific condition, even if the loop's natural termination condition (e.g., reaching the end of the iterable) has not been met.\n",
    "\n",
    "`break` works in the following way,\n",
    "1. When `break` is used within a loop, the loop immediately terminates and control flow is passed to the next statement outside of the loop.\n",
    "2. Once the exit occurs from the loop in which `break` is present, the program execution continues from the next line outside the loop.\n",
    "\n",
    "```Python\n",
    "# syntax\n",
    "# usage in a while loop\n",
    "while condition:\n",
    "    # Loop body\n",
    "    if condition_to_break:\n",
    "        break\n",
    "    \n",
    "# usage in a for loop\n",
    "for item in iterable:\n",
    "    # Loop body\n",
    "    if condition_to_break:\n",
    "        break\n",
    "```"
   ]
  },
  {
   "cell_type": "code",
   "execution_count": 12,
   "metadata": {},
   "outputs": [
    {
     "name": "stdout",
     "output_type": "stream",
     "text": [
      "Count: 0\n",
      "Count: 1\n",
      "Count: 2\n",
      "Count: 3\n",
      "Loop terminated\n"
     ]
    }
   ],
   "source": [
    "# example showing the usage of break in a while loop\n",
    "count = 0\n",
    "\n",
    "while count < 5:\n",
    "    print(\"Count:\", count)\n",
    "    if count == 3:\n",
    "        break  # This will exit the loop when count is 3\n",
    "    count += 1\n",
    "\n",
    "print(\"Loop terminated\")"
   ]
  },
  {
   "cell_type": "code",
   "execution_count": 13,
   "metadata": {},
   "outputs": [
    {
     "name": "stdout",
     "output_type": "stream",
     "text": [
      "0\n",
      "1\n",
      "2\n"
     ]
    }
   ],
   "source": [
    "# another example\n",
    "flag = 0\n",
    "while flag < 5:\n",
    "    print(flag)\n",
    "    flag += 1\n",
    "    if flag == 3:\n",
    "        break"
   ]
  },
  {
   "cell_type": "code",
   "execution_count": 14,
   "metadata": {},
   "outputs": [
    {
     "name": "stdout",
     "output_type": "stream",
     "text": [
      "Number: 1\n",
      "Number: 2\n",
      "Loop terminated\n"
     ]
    }
   ],
   "source": [
    "# example showing the usage of break in a for loop\n",
    "for number in [1, 2, 3, 4, 5]:\n",
    "    if number == 3:\n",
    "        break  # This will exit the loop when number is 3\n",
    "    print(\"Number:\", number)\n",
    "\n",
    "print(\"Loop terminated\")"
   ]
  },
  {
   "cell_type": "markdown",
   "metadata": {},
   "source": [
    "In the `while` example, the loop will print `Count: 0`, `Count: 1`, `Count: 2` and `Count: 3`. When `count` becomes `3`, `break` is encountered, causing the loop to exit. After the loop terminates, the program continues with the `Loop terminated` message.\n",
    "\n",
    "`break` is also used in `for` loops to exit prematurely and it can be used in nested loops to exit the innermost loop, allowing the outer loops to continue their execution.\n",
    "\n",
    "The example showing the usage with a `for` loop, `Number: 1` and `Number: 2` are printed and then the loop exits when the `number` becomes `3`.\n",
    "\n",
    "The `break` statement provides a way to control the flow of the loops and exit them when a specific condition is met, making the code more flexible and responsive to certain situations.\n",
    "\n",
    "Consider the following execution,"
   ]
  },
  {
   "cell_type": "code",
   "execution_count": 15,
   "metadata": {},
   "outputs": [
    {
     "name": "stdout",
     "output_type": "stream",
     "text": [
      "0\n",
      "Break 1\n",
      "0\n",
      "Break 2\n",
      "0\n",
      "Break 3\n",
      "1\n",
      "Break 4\n",
      "1\n",
      "Break 1\n",
      "1\n",
      "Break 2\n",
      "1\n",
      "Break 3\n",
      "2\n",
      "Break 4\n",
      "2\n",
      "Break 1\n",
      "2\n",
      "Break 2\n",
      "2\n",
      "Break 3\n",
      "3\n",
      "Break 4\n",
      "3\n",
      "Break 1\n",
      "3\n",
      "Break 2\n",
      "3\n",
      "Break 3\n",
      "4\n",
      "Break 4\n",
      "4\n",
      "Break 1\n",
      "4\n",
      "Break 2\n",
      "4\n",
      "Break 3\n",
      "5\n",
      "Break 4\n",
      "5\n",
      "Break 1\n",
      "Loop Terminated\n"
     ]
    }
   ],
   "source": [
    "n = 10\n",
    "i = 0\n",
    "while i <= n:\n",
    "    print(i)\n",
    "    print(\"Break 1\")\n",
    "    if i == 5:\n",
    "        break\n",
    "    else:\n",
    "        print(i)\n",
    "        print(\"Break 2\")\n",
    "    print(i)\n",
    "    print(\"Break 3\")\n",
    "    i += 1\n",
    "    print(i)\n",
    "    print(\"Break 4\")\n",
    "\n",
    "print(\"Loop Terminated\")"
   ]
  },
  {
   "cell_type": "code",
   "execution_count": 16,
   "metadata": {},
   "outputs": [
    {
     "name": "stdout",
     "output_type": "stream",
     "text": [
      "I have not broken out of the inner loop\n",
      "(0, 0)\n",
      "I have not broken out of the inner loop\n",
      "(0, 1)\n",
      "I have not broken out of the inner loop\n",
      "(0, 2)\n",
      "I have not broken out of the inner loop\n",
      "(0, 3)\n",
      "I have not broken out of the inner loop\n",
      "(0, 4)\n",
      "I have broken out of the inner loop\n",
      "I have not broken out of the inner loop\n",
      "(1, 0)\n",
      "I have not broken out of the inner loop\n",
      "(1, 1)\n",
      "I have not broken out of the inner loop\n",
      "(1, 2)\n",
      "I have not broken out of the inner loop\n",
      "(1, 3)\n",
      "I have not broken out of the inner loop\n",
      "(1, 4)\n",
      "I have broken out of the inner loop\n",
      "I have not broken out of the inner loop\n",
      "(2, 0)\n",
      "I have not broken out of the inner loop\n",
      "(2, 1)\n",
      "I have not broken out of the inner loop\n",
      "(2, 2)\n",
      "I have not broken out of the inner loop\n",
      "(2, 3)\n",
      "I have not broken out of the inner loop\n",
      "(2, 4)\n",
      "I have broken out of the inner loop\n",
      "I have not broken out of the inner loop\n",
      "(3, 0)\n",
      "I have not broken out of the inner loop\n",
      "(3, 1)\n",
      "I have not broken out of the inner loop\n",
      "(3, 2)\n",
      "i = 3, j = 3 and i = 3, j = 4 will not be printed\n",
      "I have broken out of the inner loop\n",
      "I have not broken out of the inner loop\n",
      "(4, 0)\n",
      "I have not broken out of the inner loop\n",
      "(4, 1)\n",
      "I have not broken out of the inner loop\n",
      "(4, 2)\n",
      "I have not broken out of the inner loop\n",
      "(4, 3)\n",
      "I have not broken out of the inner loop\n",
      "(4, 4)\n",
      "I have broken out of the inner loop\n"
     ]
    }
   ],
   "source": [
    "for i in range(5):\n",
    "    for j in range(5):\n",
    "        if i == 3 and j == 3:\n",
    "            print(f\"i = {i}, j = {j} and i = {i}, j = {j + 1} will not be printed\")\n",
    "            break\n",
    "        print(\"I have not broken out of the inner loop\")\n",
    "        print((i, j))\n",
    "    print(\"I have broken out of the inner loop\")"
   ]
  },
  {
   "cell_type": "markdown",
   "metadata": {},
   "source": [
    "### `continue`\n",
    "In Python, `continue` is used within loops to skip the rest of the current iteration and move on to the next iteration of the loop. It allows to bypass a portion of the loop's code and continue with the next iteration, typically based on a specific condition.\n",
    "\n",
    "`continue` works in the following way,\n",
    "1. When `continue` is encountered within a loop, the code following `continue` is skipped for the current iteration.\n",
    "2. Control then returns to the beginning of the loop, and the next iteration is started.\n",
    "\n",
    "```Python\n",
    "# syntax\n",
    "# usage in a while loop\n",
    "while condition:\n",
    "    # Loop body\n",
    "    if condition_to_continue:\n",
    "        continue\n",
    "\n",
    "# usage in a for loop\n",
    "for item in iterable:\n",
    "    # Loop body\n",
    "    if condition_to_continue:\n",
    "        continue\n",
    "```"
   ]
  },
  {
   "cell_type": "code",
   "execution_count": 17,
   "metadata": {},
   "outputs": [
    {
     "name": "stdout",
     "output_type": "stream",
     "text": [
      "1\n",
      "2\n",
      "4\n",
      "5\n"
     ]
    }
   ],
   "source": [
    "# example showing the usage of continue in a while loop\n",
    "i = 0\n",
    "while i < 5:\n",
    "    i += 1\n",
    "    if i == 3:\n",
    "        continue\n",
    "    print(i)"
   ]
  },
  {
   "cell_type": "code",
   "execution_count": 18,
   "metadata": {},
   "outputs": [
    {
     "name": "stdout",
     "output_type": "stream",
     "text": [
      "0\n",
      "1\n",
      "2\n",
      "4\n"
     ]
    }
   ],
   "source": [
    "# another example\n",
    "flag = 0\n",
    "while flag < 5:\n",
    "    if flag == 3:\n",
    "        flag += 1\n",
    "        continue\n",
    "    else:\n",
    "        print(flag)\n",
    "        flag += 1"
   ]
  },
  {
   "cell_type": "code",
   "execution_count": 19,
   "metadata": {},
   "outputs": [
    {
     "name": "stdout",
     "output_type": "stream",
     "text": [
      "Current Letter: P\n",
      "Current Letter: y\n",
      "Current Letter: t\n",
      "Current Letter: o\n",
      "Current Letter: n\n"
     ]
    }
   ],
   "source": [
    "# example showing the usage of continue in a for loop\n",
    "for letter in 'Python':\n",
    "    if letter == 'h':\n",
    "        continue\n",
    "    print('Current Letter:', letter)"
   ]
  },
  {
   "cell_type": "code",
   "execution_count": 20,
   "metadata": {},
   "outputs": [
    {
     "name": "stdout",
     "output_type": "stream",
     "text": [
      "Number: 1\n",
      "Number: 2\n",
      "Number: 4\n",
      "Number: 5\n",
      "Loop terminated\n"
     ]
    }
   ],
   "source": [
    "for number in range(1, 6):\n",
    "    if number == 3:\n",
    "        continue  # Skip the current iteration when number is 3\n",
    "    print(\"Number:\", number)\n",
    "\n",
    "print(\"Loop terminated\")"
   ]
  },
  {
   "cell_type": "markdown",
   "metadata": {},
   "source": [
    "In the last example, `Number: 1`, `Number: 2`, `Number: 4` and `Number: 5` will be printed. When `number` is equal to `3`, `continue` is encountered, causing the loop to skip the `print()` statement and continue with the next iteration.\n",
    "\n",
    "`continue` is also used in `while` loops and nested loops to control the flow of the program. It allows skip over specific items or portions of the loop that are to be excluded from processing.\n",
    "\n",
    "`continue` is particularly useful when there is a need to apply certain conditions and selectively process items within a loop, while skipping others. It helps in creating more efficient and targeted loops in the code."
   ]
  },
  {
   "cell_type": "markdown",
   "metadata": {},
   "source": [
    "### `pass`\n",
    "In Python, `pass` represents a null operation, also called as \"*no-op*\". It serves as a placeholder for code that does not do anything. It is often used when syntactically a statement is required, but there is not a need for an action. `pass` is typically used in situations where the structure of the code is being defined and a loop or a function or a class has to be left empty temporarily.\n",
    "\n",
    "```Python\n",
    "# syntax\n",
    "def function_name():\n",
    "\tpass\n",
    "\n",
    "# examples showing use cases of pass in Python:\n",
    "\n",
    "# creating a placeholder for future code.\n",
    "def my_function():\n",
    "    # TODO: Implement this function later\n",
    "    pass\n",
    "\n",
    "# defining empty classes:\n",
    "class MyClass:\n",
    "    # TODO: Add class members and methods later\n",
    "    pass\n",
    "\n",
    "# creating an empty loop:\n",
    "for item in my_list:\n",
    "    # TODO: Process each item later\n",
    "    pass\n",
    "\n",
    "# empty conditional blocks:\n",
    "if condition:\n",
    "    # TODO: Handle this condition later\n",
    "    pass\n",
    "```\n",
    "\n",
    "`pass` is useful to avoid `SyntaxErrors` when working on the structure of the code. It can also be used to create a minimal code skeleton or as a temporary placeholder when an action associated with a code block is un-decided."
   ]
  }
 ],
 "metadata": {
  "kernelspec": {
   "display_name": "Python 3",
   "language": "python",
   "name": "python3"
  },
  "language_info": {
   "codemirror_mode": {
    "name": "ipython",
    "version": 3
   },
   "file_extension": ".py",
   "mimetype": "text/x-python",
   "name": "python",
   "nbconvert_exporter": "python",
   "pygments_lexer": "ipython3",
   "version": "3.11.9"
  }
 },
 "nbformat": 4,
 "nbformat_minor": 2
}
