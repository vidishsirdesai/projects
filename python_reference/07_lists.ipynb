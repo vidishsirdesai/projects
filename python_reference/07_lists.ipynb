{
 "cells": [
  {
   "cell_type": "markdown",
   "metadata": {},
   "source": [
    "# Lists\n",
    "Lists in Python are data structures that allow storage of multiple items in a single variable. They are analogous to arrays in C. The items stored in a list are separated by a comma, This is no limit on the number of values that can be stored in a list.\n",
    "\n",
    "List is therefore a collection of elements, which is ordered, mutable and allows duplicates.\n",
    "\n",
    "The different operations that can be performed on the list are, create, read, update and delete.\n",
    "\n",
    "A list can contain an element of any data type (it can even contain another list as an element). Meaning, list is a heterogenous data structure."
   ]
  },
  {
   "cell_type": "markdown",
   "metadata": {},
   "source": [
    "# How To Create A List?\n",
    "```Python\n",
    "# syntax\n",
    "list_name = [ele1, ele2, ele3, ..., eleN]\n",
    "```"
   ]
  },
  {
   "cell_type": "code",
   "execution_count": 1,
   "metadata": {},
   "outputs": [
    {
     "name": "stdout",
     "output_type": "stream",
     "text": [
      "[1, 3.14, (3+4j), 'hello', [1, 2, 3]]\n",
      "<class 'list'>\n",
      "<class 'int'>\n",
      "<class 'float'>\n",
      "<class 'complex'>\n",
      "<class 'str'>\n",
      "<class 'list'>\n"
     ]
    }
   ],
   "source": [
    "# example\n",
    "list_name = [1, 3.14, 3 + 4j, \"hello\", [1, 2, 3]]\n",
    "print(list_name)\n",
    "\n",
    "# check the data type of the list\n",
    "print(type(list_name))\n",
    "\n",
    "# check the data type of the list elements\n",
    "for i in list_name:\n",
    "\tprint(type(i))"
   ]
  },
  {
   "cell_type": "markdown",
   "metadata": {},
   "source": [
    "# How To Create An Empty List?"
   ]
  },
  {
   "cell_type": "code",
   "execution_count": 2,
   "metadata": {},
   "outputs": [
    {
     "data": {
      "text/plain": [
       "list"
      ]
     },
     "execution_count": 2,
     "metadata": {},
     "output_type": "execute_result"
    }
   ],
   "source": [
    "list_name = []\n",
    "type(list_name)"
   ]
  },
  {
   "cell_type": "markdown",
   "metadata": {},
   "source": [
    "# How To Create A List With A Single Element?"
   ]
  },
  {
   "cell_type": "code",
   "execution_count": 3,
   "metadata": {},
   "outputs": [
    {
     "data": {
      "text/plain": [
       "list"
      ]
     },
     "execution_count": 3,
     "metadata": {},
     "output_type": "execute_result"
    }
   ],
   "source": [
    "list_name = [12]\n",
    "type(list_name)"
   ]
  },
  {
   "cell_type": "markdown",
   "metadata": {},
   "source": [
    "# List Indexing\n",
    "List elements can be accessed using indexing. Indexing starts at `0` and goes on as follows, `0`, `1`, `2`, `3`, ..., `(n - 1)`. Where, `n` = length of the list.\n",
    "\n",
    "Python also allows negative indexing, meaning elements can be accessed in reverse order. `-1` represents the index of the last element, `-2` is the index of the second last element and so on. `-n` represents the index of the first element (`n` is the length of the list).\n",
    "\n",
    "```Python\n",
    "# syntax\n",
    "list_name[index]\n",
    "```"
   ]
  },
  {
   "cell_type": "code",
   "execution_count": 4,
   "metadata": {},
   "outputs": [
    {
     "name": "stdout",
     "output_type": "stream",
     "text": [
      "2\n",
      "6\n",
      "9\n"
     ]
    }
   ],
   "source": [
    "# example\n",
    "l1 = [1, 2, 3, 4, 5, 6, 7, 8, 9, 10]\n",
    "print(l1[1]) # output = 2, element at index 1\n",
    "print(l1[5]) # output = 6\n",
    "print(l1[-2]) # output = 9"
   ]
  },
  {
   "cell_type": "markdown",
   "metadata": {},
   "source": [
    "# List Slicing\n",
    "List slicing is a way to access a range of elements in a list or create sub-lists of a list . The starting and the ending index need to be specified to create a slice of a list.\n",
    "\n",
    "There is an option to specify the step size to skip a number of elements.\n",
    "\n",
    "```Python\n",
    "# syntax\n",
    "list_name[start_index : end_index : step_size]\n",
    "```"
   ]
  },
  {
   "cell_type": "code",
   "execution_count": 5,
   "metadata": {},
   "outputs": [],
   "source": [
    "# example\n",
    "runs = [62, 85, 71, 10, 12, 101, 122, 99, 81, 55]"
   ]
  },
  {
   "cell_type": "code",
   "execution_count": 6,
   "metadata": {},
   "outputs": [
    {
     "data": {
      "text/plain": [
       "[62, 85, 71]"
      ]
     },
     "execution_count": 6,
     "metadata": {},
     "output_type": "execute_result"
    }
   ],
   "source": [
    "runs[0: 3]"
   ]
  },
  {
   "cell_type": "code",
   "execution_count": 7,
   "metadata": {},
   "outputs": [
    {
     "data": {
      "text/plain": [
       "[71, 10, 12, 101, 122]"
      ]
     },
     "execution_count": 7,
     "metadata": {},
     "output_type": "execute_result"
    }
   ],
   "source": [
    "runs[2: 7]"
   ]
  },
  {
   "cell_type": "code",
   "execution_count": 8,
   "metadata": {},
   "outputs": [
    {
     "data": {
      "text/plain": [
       "[62, 85, 71]"
      ]
     },
     "execution_count": 8,
     "metadata": {},
     "output_type": "execute_result"
    }
   ],
   "source": [
    "runs[: 3] # automatically assumes start value to be zero"
   ]
  },
  {
   "cell_type": "code",
   "execution_count": 9,
   "metadata": {},
   "outputs": [
    {
     "data": {
      "text/plain": [
       "[10, 12, 101, 122, 99, 81, 55]"
      ]
     },
     "execution_count": 9,
     "metadata": {},
     "output_type": "execute_result"
    }
   ],
   "source": [
    "runs[3: ] # automatically assumes end value to be len(runs)"
   ]
  },
  {
   "cell_type": "code",
   "execution_count": 10,
   "metadata": {},
   "outputs": [
    {
     "ename": "IndexError",
     "evalue": "list index out of range",
     "output_type": "error",
     "traceback": [
      "\u001b[0;31m---------------------------------------------------------------------------\u001b[0m",
      "\u001b[0;31mIndexError\u001b[0m                                Traceback (most recent call last)",
      "Cell \u001b[0;32mIn[10], line 2\u001b[0m\n\u001b[1;32m      1\u001b[0m \u001b[38;5;66;03m# index out of range errors are automatically handled in list slicing\u001b[39;00m\n\u001b[0;32m----> 2\u001b[0m \u001b[43mruns\u001b[49m\u001b[43m[\u001b[49m\u001b[38;5;241;43m400\u001b[39;49m\u001b[43m]\u001b[49m \u001b[38;5;66;03m# IndexError\u001b[39;00m\n",
      "\u001b[0;31mIndexError\u001b[0m: list index out of range"
     ]
    }
   ],
   "source": [
    "# index out of range errors are automatically handled in list slicing\n",
    "runs[400] # IndexError"
   ]
  },
  {
   "cell_type": "code",
   "execution_count": 11,
   "metadata": {},
   "outputs": [
    {
     "data": {
      "text/plain": [
       "[62, 71, 12, 122, 81]"
      ]
     },
     "execution_count": 11,
     "metadata": {},
     "output_type": "execute_result"
    }
   ],
   "source": [
    "runs[: len(runs): 2]"
   ]
  },
  {
   "cell_type": "code",
   "execution_count": 12,
   "metadata": {},
   "outputs": [
    {
     "data": {
      "text/plain": [
       "[62, 71, 12, 122, 81]"
      ]
     },
     "execution_count": 12,
     "metadata": {},
     "output_type": "execute_result"
    }
   ],
   "source": [
    "runs[: : 2]"
   ]
  },
  {
   "cell_type": "code",
   "execution_count": 13,
   "metadata": {},
   "outputs": [
    {
     "data": {
      "text/plain": [
       "[62, 85, 71, 10, 12, 101, 122, 99, 81, 55]"
      ]
     },
     "execution_count": 13,
     "metadata": {},
     "output_type": "execute_result"
    }
   ],
   "source": [
    "runs[: ]"
   ]
  },
  {
   "cell_type": "code",
   "execution_count": 14,
   "metadata": {},
   "outputs": [
    {
     "data": {
      "text/plain": [
       "[101, 12, 10, 71, 85]"
      ]
     },
     "execution_count": 14,
     "metadata": {},
     "output_type": "execute_result"
    }
   ],
   "source": [
    "runs[5: 0: -1] # negative step size"
   ]
  },
  {
   "cell_type": "code",
   "execution_count": 15,
   "metadata": {},
   "outputs": [
    {
     "data": {
      "text/plain": [
       "[55, 81, 99, 122, 101, 12, 10, 71, 85, 62]"
      ]
     },
     "execution_count": 15,
     "metadata": {},
     "output_type": "execute_result"
    }
   ],
   "source": [
    "runs[: : -1] # reverse a list"
   ]
  },
  {
   "cell_type": "markdown",
   "metadata": {},
   "source": [
    "### What to keep in mind while list slicing?\n",
    "- Specify the start and end indices.\n",
    "- If the start index is not specified, the slicing starts at 0 index.\n",
    "- If the end index is not specified, the slicing ends at the last index, i.e., `(len(list_name) - 1)`.\n",
    "- Out of index error occurs while accessing only a single element, not while accessing a range of elements.\n",
    "- `step_size` can also be negative.\n",
    "- `step_size` is 1 by default.\n",
    "- A mixture of positive and negative index values work only if used correctly."
   ]
  },
  {
   "cell_type": "code",
   "execution_count": 16,
   "metadata": {},
   "outputs": [
    {
     "name": "stdout",
     "output_type": "stream",
     "text": [
      "[40, 50]\n",
      "[10, 20, 30, 40, 50, 60, 70, 80]\n",
      "[10, 20, 30, 40, 50, 60, 70, 80, 90, 100]\n",
      "[80, 90, 100]\n",
      "[90, 80, 70]\n",
      "[]\n",
      "[10, 20, 30, 40, 50]\n",
      "[90, 100]\n",
      "[30, 40, 50]\n",
      "[]\n"
     ]
    }
   ],
   "source": [
    "a = [10, 20, 30, 40, 50, 60, 70, 80, 90, 100]\n",
    "\n",
    "print(a[3: 5]) # [40, 50]\n",
    "print(a[: 8]) # [10, 20, 30, 40, 50, 60, 70, 80]\n",
    "print(a[: ]) # [10, 20, 30, 40, 50, 60, 70, 80, 90, 100]\n",
    "print(a[7: ]) # [80, 90, 100]\n",
    "print(a[-2: -5: -1])# [90, 80, 70]\n",
    "print(a[-2: -7]) # []\n",
    "print(a[: -5]) # [10, 20, 30, 40, 50]\n",
    "print(a[-2: ]) # [90, 100]\n",
    "print(a[-8: 5]) # [30, 40, 50]\n",
    "print(a[-8: 5: -1]) # []"
   ]
  },
  {
   "cell_type": "code",
   "execution_count": 17,
   "metadata": {},
   "outputs": [
    {
     "data": {
      "text/plain": [
       "[1, 3, 4]"
      ]
     },
     "execution_count": 17,
     "metadata": {},
     "output_type": "execute_result"
    }
   ],
   "source": [
    "[1, 3, 4, 4, 3, 1, 2, 3, 2][:3]"
   ]
  },
  {
   "cell_type": "markdown",
   "metadata": {},
   "source": [
    "# How To Iterate Through A List?\n",
    "A loop is used to iterate through the elements of a list."
   ]
  },
  {
   "cell_type": "code",
   "execution_count": 18,
   "metadata": {},
   "outputs": [
    {
     "name": "stdout",
     "output_type": "stream",
     "text": [
      "1\n",
      "2\n",
      "3\n",
      "4\n",
      "5\n"
     ]
    }
   ],
   "source": [
    "a = [1, 2, 3, 4, 5]\n",
    "for i in a:\n",
    "\tprint(i)"
   ]
  },
  {
   "cell_type": "code",
   "execution_count": 19,
   "metadata": {},
   "outputs": [
    {
     "name": "stdout",
     "output_type": "stream",
     "text": [
      "1\n",
      "2\n",
      "3\n",
      "4\n",
      "5\n"
     ]
    }
   ],
   "source": [
    "# use this to iterate using the index numbers\n",
    "for j in range(len(a)):\n",
    "\tprint(a[j])"
   ]
  },
  {
   "cell_type": "markdown",
   "metadata": {},
   "source": [
    "# How To Convert `\"5 6 7 8 9 10 20 50\"` Into A List?"
   ]
  },
  {
   "cell_type": "code",
   "execution_count": 20,
   "metadata": {},
   "outputs": [
    {
     "name": "stdout",
     "output_type": "stream",
     "text": [
      "['5', '6', '7', '8', '9', '10', '20', '50']\n",
      "<class 'list'>\n"
     ]
    }
   ],
   "source": [
    "values = \"5 6 7 8 9 10 20 50\" # string\n",
    "values = values.split(\" \")\n",
    "print(values) # list\n",
    "print(type(values))"
   ]
  },
  {
   "cell_type": "markdown",
   "metadata": {},
   "source": [
    "# 2D Lists\n",
    "Lists are heterogenous data structures, that means they can contain elements of any data type or data structure within them. This means that, they can also contain other lists.\n",
    "\n",
    "Such lists of lists are called as an n-dimensional lists. The following is an explanation of n-dimensional list,\n",
    "- If a list consists of other lists as elements, then this list of lists is called as 2D list.\n",
    "- If a list consists of other lists as elements and those lists consists of other lists as elements, then this list of lists of lists is called a 3D list.\n",
    "\n",
    "Applications of 2D lists are every where, for example,\n",
    "- Chess.\n",
    "- Sudoku.\n",
    "- Tic-tac-toe.\n",
    "- Excels.\n",
    "- Patterns."
   ]
  },
  {
   "cell_type": "markdown",
   "metadata": {},
   "source": [
    "### How to create 2D lists?"
   ]
  },
  {
   "cell_type": "code",
   "execution_count": 21,
   "metadata": {},
   "outputs": [],
   "source": [
    "list_name = [[1, 2, 3], [4, 5, 6], [7, 8, 9]]"
   ]
  },
  {
   "cell_type": "markdown",
   "metadata": {},
   "source": [
    "### How to access the elements in a 2D lists?\n",
    "```Python\n",
    "# syntax\n",
    "list_name[i][j]\n",
    "# i = index of sub-list\n",
    "# j = index of the element in a sub-list\n",
    "```"
   ]
  },
  {
   "cell_type": "code",
   "execution_count": 22,
   "metadata": {},
   "outputs": [
    {
     "name": "stdout",
     "output_type": "stream",
     "text": [
      "6\n"
     ]
    }
   ],
   "source": [
    "list_name = [[1, 2, 3], [4, 5, 6], [7, 8, 9]]\n",
    "# accessing the 6th element\n",
    "print(list_name[1][2])"
   ]
  },
  {
   "cell_type": "markdown",
   "metadata": {},
   "source": [
    "### How to iterate over a 2D list?\n",
    "2 `for` loops will be needed to iterate over 2D lists."
   ]
  },
  {
   "cell_type": "code",
   "execution_count": 23,
   "metadata": {},
   "outputs": [
    {
     "name": "stdout",
     "output_type": "stream",
     "text": [
      "1 2 3 \n",
      "4 5 6 \n",
      "7 8 9 \n"
     ]
    }
   ],
   "source": [
    "a = [[1, 2, 3], [4, 5, 6], [7, 8, 9]]\n",
    "rows = len(a)\n",
    "columns = len(a[0])\n",
    "for i in range(rows):\n",
    "\tfor j in range(columns):\n",
    "\t\tprint(a[i][j], end = \" \")\n",
    "\tprint()"
   ]
  },
  {
   "cell_type": "markdown",
   "metadata": {},
   "source": [
    "### 2D lists as matrices\n",
    "Lists are used while working with matrices.\n",
    "\n",
    "There can be a situation where there is a list in which the internal lists are of different sizes. Such lists are not matrices, but just 2D lists."
   ]
  },
  {
   "cell_type": "code",
   "execution_count": 24,
   "metadata": {},
   "outputs": [],
   "source": [
    "a = [[1, 2], [3, 4, 5], [6, 7, 8, 9]] # this is not a matrix"
   ]
  },
  {
   "cell_type": "markdown",
   "metadata": {},
   "source": [
    "Therefore, for a list to be called as a matrix, the internal lists should be of the same size."
   ]
  },
  {
   "cell_type": "code",
   "execution_count": 25,
   "metadata": {},
   "outputs": [],
   "source": [
    "a = [[1, 2, 3], [4, 5, 6], [7, 8, 9]] # this is a matrix"
   ]
  },
  {
   "cell_type": "markdown",
   "metadata": {},
   "source": [
    "In a list matrix,\n",
    "- Number of rows = Number of internal lists.\n",
    "- Number of columns = Number of elements of the internal lists.\n",
    "\n",
    "For example, \n",
    "- If the number of internal lists = 3, then number of rows = 3.\n",
    "- If the number of elements in an internal list = 2, then number of columns = 2\n",
    "- The matrix, therefore, will be a 3x2 matrix."
   ]
  },
  {
   "cell_type": "markdown",
   "metadata": {},
   "source": [
    "# List Methods"
   ]
  },
  {
   "cell_type": "markdown",
   "metadata": {},
   "source": [
    "### `append()`\n",
    "The `append()` method is used to add elements to the end of a list.\n",
    "\n",
    "```Python\n",
    "# syntax\n",
    "list_name.append([val1, val2, ...])\n",
    "```"
   ]
  },
  {
   "cell_type": "code",
   "execution_count": 26,
   "metadata": {},
   "outputs": [
    {
     "name": "stdout",
     "output_type": "stream",
     "text": [
      "[1, 2, 3, 4, 5, 6]\n"
     ]
    }
   ],
   "source": [
    "a = [1, 2, 3, 4, 5]\n",
    "a.append(6)\n",
    "print(a)"
   ]
  },
  {
   "cell_type": "markdown",
   "metadata": {},
   "source": [
    "The `append()` method takes only one argument.\n",
    "\n",
    "If a list is passed as argument to the `append()` method, then the list itself will get appended as one whole element at the end of the list."
   ]
  },
  {
   "cell_type": "code",
   "execution_count": 27,
   "metadata": {},
   "outputs": [
    {
     "name": "stdout",
     "output_type": "stream",
     "text": [
      "[1, 2, 3, 4, 5, [1, 2, 3]]\n"
     ]
    }
   ],
   "source": [
    "a = [1, 2, 3, 4, 5]\n",
    "a.append([1, 2, 3])\n",
    "print(a) # [1, 2, 3, 4, 5, [1, 2, 3]]"
   ]
  },
  {
   "cell_type": "markdown",
   "metadata": {},
   "source": [
    "### `clear()`\n",
    "The `clear()` method is used to remove all the elements from the list.\n",
    "\n",
    "```Python\n",
    "# syntax\n",
    "list_name.clear()\n",
    "```"
   ]
  },
  {
   "cell_type": "code",
   "execution_count": 28,
   "metadata": {},
   "outputs": [
    {
     "name": "stdout",
     "output_type": "stream",
     "text": [
      "['apple', 'banana', 'cherry', 'orange']\n",
      "[]\n"
     ]
    }
   ],
   "source": [
    "# example\n",
    "fruits = [\"apple\", \"banana\", \"cherry\", \"orange\"]\n",
    "print(fruits)\n",
    "fruits.clear()\n",
    "print(fruits)"
   ]
  },
  {
   "cell_type": "markdown",
   "metadata": {},
   "source": [
    "### `copy()`\n",
    "The `copy()` method is used to return a copy of a list. The copy of the list that is created, is stored in a different memory location.\n",
    "\n",
    "```Python\n",
    "# syntax\n",
    "list_name.copy()\n",
    "```"
   ]
  },
  {
   "cell_type": "code",
   "execution_count": 29,
   "metadata": {},
   "outputs": [
    {
     "name": "stdout",
     "output_type": "stream",
     "text": [
      "4648592320\n",
      "['apple', 'banana', 'cherry', 'orange']\n",
      "4648568000\n"
     ]
    }
   ],
   "source": [
    "# example\n",
    "fruits = [\"apple\", \"banana\", \"cherry\", \"orange\"]\n",
    "x = fruits.copy()\n",
    "print(id(fruits))\n",
    "print(fruits.copy())\n",
    "print(id(x))"
   ]
  },
  {
   "cell_type": "markdown",
   "metadata": {},
   "source": [
    "### `count()`\n",
    "`count()` method returns the number of occurrences of an element in a list.\n",
    "\n",
    "```Python\n",
    "# syntax\n",
    "list_name.count(value)\n",
    "```"
   ]
  },
  {
   "cell_type": "code",
   "execution_count": 30,
   "metadata": {},
   "outputs": [
    {
     "name": "stdout",
     "output_type": "stream",
     "text": [
      "2\n"
     ]
    }
   ],
   "source": [
    "# example\n",
    "points = [1, 4, 2, 9, 7, 8, 9, 3, 1]\n",
    "x = points.count(9)\n",
    "print(x)"
   ]
  },
  {
   "cell_type": "markdown",
   "metadata": {},
   "source": [
    "### `extend()`\n",
    "The `extend()` method is used to add multiple elements at the end."
   ]
  },
  {
   "cell_type": "code",
   "execution_count": 31,
   "metadata": {},
   "outputs": [
    {
     "name": "stdout",
     "output_type": "stream",
     "text": [
      "[1, 2, 3, 4, 5, 6, 7, 8]\n"
     ]
    }
   ],
   "source": [
    "a = [1, 2, 3, 4, 5]\n",
    "a.extend([6, 7, 8])\n",
    "print(a)"
   ]
  },
  {
   "cell_type": "markdown",
   "metadata": {},
   "source": [
    "Opposite to the `append()` method, when a list is passed as an argument in the `extend()` method, the element in the list get appended and not the entire list.\n",
    "\n",
    "Multiple elements can also be added like so,"
   ]
  },
  {
   "cell_type": "code",
   "execution_count": 32,
   "metadata": {},
   "outputs": [
    {
     "name": "stdout",
     "output_type": "stream",
     "text": [
      "[1, 2, 3, 4, 5, 6, 7, 8]\n"
     ]
    }
   ],
   "source": [
    "# list concatenation\n",
    "a = [1, 2, 3, 4, 5]\n",
    "a = a + [6, 7, 8]\n",
    "print(a)"
   ]
  },
  {
   "cell_type": "markdown",
   "metadata": {},
   "source": [
    "### `len()`\n",
    "In Python, the `len()` function is a built-in function that is used to determine the length or the number of elements in an iterable, such as string, list, tuple, dictionary or other sequence-like objects. The `len()` function returns an integer representing the length of the iterable.\n",
    "\n",
    "```Python\n",
    "# syntax\n",
    "len(list_name)\n",
    "```\n",
    "\n",
    "The `len()` function is particularly useful when there is a need to know the size or count of elements in an iterable and it can be applied to a wide range of data structures in Python."
   ]
  },
  {
   "cell_type": "markdown",
   "metadata": {},
   "source": [
    "### `index()`\n",
    "The `index()` method returns the index of the first occurrence of an element that is passed as an argument.\n",
    "\n",
    "```Python\n",
    "# syntax\n",
    "list_name.index(value)\n",
    "```"
   ]
  },
  {
   "cell_type": "code",
   "execution_count": 33,
   "metadata": {},
   "outputs": [
    {
     "name": "stdout",
     "output_type": "stream",
     "text": [
      "3\n"
     ]
    }
   ],
   "source": [
    "# example\n",
    "fruits = [4, 55, 64, 32, 16, 32]\n",
    "x = fruits.index(32)\n",
    "print(x)"
   ]
  },
  {
   "cell_type": "markdown",
   "metadata": {},
   "source": [
    "A `ValueError` is returned if the element is not present."
   ]
  },
  {
   "cell_type": "markdown",
   "metadata": {},
   "source": [
    "### `insert()`\n",
    "The `insert()` method is used to add elements at a desired index.\n",
    "\n",
    "```Python\n",
    "# syntax\n",
    "list_name.insert(index_number, element)\n",
    "```"
   ]
  },
  {
   "cell_type": "code",
   "execution_count": 34,
   "metadata": {},
   "outputs": [
    {
     "name": "stdout",
     "output_type": "stream",
     "text": [
      "[6, 1, 2, 3, 4, 5]\n"
     ]
    }
   ],
   "source": [
    "# example\n",
    "a = [1, 2, 3, 4, 5]\n",
    "a.insert(0, 6)\n",
    "print(a)"
   ]
  },
  {
   "cell_type": "markdown",
   "metadata": {},
   "source": [
    "Once the desired element is inserted at the desired index, the elements to right of the newly added element are push to the right by an index count of 1 and the length of the list also increases by 1."
   ]
  },
  {
   "cell_type": "markdown",
   "metadata": {},
   "source": [
    "### `pop()`\n",
    "The `pop()` method is used to remove an element from the specified index number.\n",
    "\n",
    "```Python\n",
    "# syntax\n",
    "list_name.pop(index_number)\n",
    "```"
   ]
  },
  {
   "cell_type": "code",
   "execution_count": 35,
   "metadata": {},
   "outputs": [
    {
     "data": {
      "text/plain": [
       "3"
      ]
     },
     "execution_count": 35,
     "metadata": {},
     "output_type": "execute_result"
    }
   ],
   "source": [
    "# example\n",
    "a = [1, 2, 3, 4, 5]\n",
    "a.pop(2)"
   ]
  },
  {
   "cell_type": "markdown",
   "metadata": {},
   "source": [
    "The removed element at the specified index will get printed on the console window. If the index is not passed as argument, the last element in the list gets removed."
   ]
  },
  {
   "cell_type": "markdown",
   "metadata": {},
   "source": [
    "### `remove()`\n",
    "The `remove()` method is used to remove the first occurrence of the element in the list. The element has to be passed as an argument.\n",
    "\n",
    "```Python\n",
    "# syntax\n",
    "list_name.remove(element)\n",
    "```"
   ]
  },
  {
   "cell_type": "code",
   "execution_count": 36,
   "metadata": {},
   "outputs": [
    {
     "name": "stdout",
     "output_type": "stream",
     "text": [
      "[10, 20, 30, 40, 60, 50]\n"
     ]
    }
   ],
   "source": [
    "# example\n",
    "a = [10, 20, 30, 40, 50, 60, 50]\n",
    "a.remove(50)\n",
    "print(a)"
   ]
  },
  {
   "cell_type": "markdown",
   "metadata": {},
   "source": [
    "### `reverse()`\n",
    "`reverse()` method is used to reverse the sorting order of elements in a list.\n",
    "\n",
    "```Python\n",
    "# syntax\n",
    "list_name.reverse()\n",
    "```"
   ]
  },
  {
   "cell_type": "code",
   "execution_count": 37,
   "metadata": {},
   "outputs": [
    {
     "name": "stdout",
     "output_type": "stream",
     "text": [
      "['cherry', 'banana', 'apple']\n"
     ]
    }
   ],
   "source": [
    "# example\n",
    "fruits = ['apple', 'banana', 'cherry']\n",
    "fruits.reverse()\n",
    "print(fruits)"
   ]
  },
  {
   "cell_type": "markdown",
   "metadata": {},
   "source": [
    "### `sort()`\n",
    "`sort()` is used to sort the elements of a list in ascending order (default).\n",
    "\n",
    "```Python\n",
    "# syntax\n",
    "list_name.sort(reverse = True|False, key = myFunc)\n",
    "```"
   ]
  },
  {
   "cell_type": "code",
   "execution_count": 38,
   "metadata": {},
   "outputs": [
    {
     "name": "stdout",
     "output_type": "stream",
     "text": [
      "['BMW', 'Ford', 'Volvo']\n",
      "['Volvo', 'Ford', 'BMW']\n"
     ]
    }
   ],
   "source": [
    "# example\n",
    "cars = ['Ford', 'BMW', 'Volvo']\n",
    "cars.sort() # sorts in ascending order\n",
    "print(cars)\n",
    "cars.sort(reverse = True) # sorts in descending order\n",
    "print(cars)"
   ]
  },
  {
   "cell_type": "code",
   "execution_count": 39,
   "metadata": {},
   "outputs": [
    {
     "name": "stdout",
     "output_type": "stream",
     "text": [
      "['VW', 'BMW', 'Ford', 'Mitsubishi']\n"
     ]
    }
   ],
   "source": [
    "# a function that returns the length of the value:\n",
    "def myFunc(e):\n",
    "  return len(e)\n",
    "\n",
    "cars = ['Ford', 'Mitsubishi', 'BMW', 'VW']\n",
    "cars.sort(key = myFunc)\n",
    "print(cars)"
   ]
  }
 ],
 "metadata": {
  "kernelspec": {
   "display_name": "Python 3",
   "language": "python",
   "name": "python3"
  },
  "language_info": {
   "codemirror_mode": {
    "name": "ipython",
    "version": 3
   },
   "file_extension": ".py",
   "mimetype": "text/x-python",
   "name": "python",
   "nbconvert_exporter": "python",
   "pygments_lexer": "ipython3",
   "version": "3.11.9"
  }
 },
 "nbformat": 4,
 "nbformat_minor": 2
}
