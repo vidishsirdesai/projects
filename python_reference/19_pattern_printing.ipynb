{
 "cells": [
  {
   "cell_type": "markdown",
   "metadata": {},
   "source": [
    "# Pattern Printing\n",
    "\n",
    "### Reference 1\n",
    "<img src=\"../artifacts/python_1.png\" alt=\"drawing\" width=\"500\"/>\n",
    "\n",
    "### Reference 2\n",
    "<img src=\"../artifacts/python_2.png\" alt=\"drawing\" width=\"500\"/>"
   ]
  },
  {
   "cell_type": "markdown",
   "metadata": {},
   "source": [
    "# Question 1"
   ]
  },
  {
   "cell_type": "code",
   "execution_count": 1,
   "metadata": {},
   "outputs": [
    {
     "name": "stdout",
     "output_type": "stream",
     "text": [
      "*\n",
      "**\n",
      "***\n",
      "****\n",
      "*****\n"
     ]
    }
   ],
   "source": [
    "\"\"\"\n",
    "Print the following pattern:\n",
    "*\n",
    "**\n",
    "***\n",
    "****\n",
    "*****\n",
    "Input provided will be number of rows to be printed.\n",
    "\"\"\"\n",
    "\n",
    "n = int(input())\n",
    "\n",
    "for i in range(1, n+1):\n",
    "    for j in range(i):\n",
    "        print(\"*\", end = \"\")\n",
    "\n",
    "    print()"
   ]
  },
  {
   "cell_type": "code",
   "execution_count": 2,
   "metadata": {},
   "outputs": [
    {
     "name": "stdout",
     "output_type": "stream",
     "text": [
      "*\n",
      "**\n",
      "***\n",
      "****\n",
      "*****\n"
     ]
    }
   ],
   "source": [
    "# alternatively\n",
    "for i in range(n):\n",
    "    for j in range(n):\n",
    "        if i >= j:\n",
    "            print(\"*\", end = \"\")\n",
    "    \n",
    "    print()"
   ]
  },
  {
   "cell_type": "markdown",
   "metadata": {},
   "source": [
    "# Question 2"
   ]
  },
  {
   "cell_type": "code",
   "execution_count": 3,
   "metadata": {},
   "outputs": [
    {
     "name": "stdout",
     "output_type": "stream",
     "text": [
      "1 2 3 4 5 \n",
      "1 2 3 4 \n",
      "1 2 3 \n",
      "1 2 \n",
      "1 \n"
     ]
    }
   ],
   "source": [
    "\"\"\"\n",
    "Take an integer N as input, print the corresponding Numeric Inverted Half Pyramid \n",
    "pattern for N.\n",
    "For example, if N = 4 then the pattern will be:\n",
    "1 2 3 4\n",
    "1 2 3\n",
    "1 2\n",
    "1\n",
    "\"\"\"\n",
    "\n",
    "n = int(input())\n",
    "\n",
    "for i in range(n, 0, -1):\n",
    "    for j in range(1, i + 1):\n",
    "        print(j, end = \" \")\n",
    "\n",
    "    print()"
   ]
  },
  {
   "cell_type": "markdown",
   "metadata": {},
   "source": [
    "# Question 3"
   ]
  },
  {
   "cell_type": "code",
   "execution_count": 4,
   "metadata": {},
   "outputs": [
    {
     "name": "stdout",
     "output_type": "stream",
     "text": [
      "*   *\n",
      "*   *\n",
      "*   *\n",
      "*   *\n",
      "*   *\n"
     ]
    }
   ],
   "source": [
    "\"\"\"\n",
    "Print a pattern consisting of N rows, where each row contains an asterisk (*) at \n",
    "the beginning and end of the line, with N-2 spaces in between.\n",
    "The Pattern should look like:\n",
    "*<N-2 Spaces>*\n",
    "Print the above pattern for a total of N Rows.\n",
    "Refer Example output, for better clarification.\n",
    "\"\"\"\n",
    "\n",
    "n = int(input())\n",
    "spaces = \" \" * (n - 2)\n",
    "\n",
    "for i in range(n):\n",
    "    print(\"*\", \"*\", sep = spaces)"
   ]
  },
  {
   "cell_type": "markdown",
   "metadata": {},
   "source": [
    "# Question 4"
   ]
  },
  {
   "cell_type": "code",
   "execution_count": 5,
   "metadata": {},
   "outputs": [
    {
     "name": "stdout",
     "output_type": "stream",
     "text": [
      "1\n",
      "12\n",
      "123\n",
      "1234\n",
      "12345\n"
     ]
    }
   ],
   "source": [
    "\"\"\"\n",
    "Print the following pattern -\n",
    "1\n",
    "12\n",
    "123\n",
    "1234\n",
    "12345\n",
    "Input provided will be number of rows.\n",
    "\"\"\"\n",
    "\n",
    "n = int(input())\n",
    "\n",
    "for i in range(1, n+1):\n",
    "    for j in range(1, i+1):\n",
    "        print(j, end = \"\")\n",
    "\n",
    "    print()"
   ]
  },
  {
   "cell_type": "markdown",
   "metadata": {},
   "source": [
    "# Question 5"
   ]
  },
  {
   "cell_type": "code",
   "execution_count": 6,
   "metadata": {},
   "outputs": [
    {
     "name": "stdout",
     "output_type": "stream",
     "text": [
      "*\n",
      "*2\n",
      "*2*\n",
      "*2*4\n",
      "*2*4*\n"
     ]
    }
   ],
   "source": [
    "\"\"\"\n",
    "Print the following pattern -\n",
    "*\n",
    "*2\n",
    "*2*\n",
    "*2*4\n",
    "*2*4*\n",
    "*2*4*6\n",
    "Input provided will be number of rows.\n",
    "\"\"\"\n",
    "\n",
    "n = int(input())\n",
    "\n",
    "for i in range(1, n+1):\n",
    "    for j in range(1, i + 1):\n",
    "        if j % 2 == 0:\n",
    "            print(j, end = \"\")\n",
    "        else:\n",
    "            print(\"*\", end = \"\")\n",
    "    \n",
    "    print()"
   ]
  },
  {
   "cell_type": "markdown",
   "metadata": {},
   "source": [
    "# Question 6"
   ]
  },
  {
   "cell_type": "code",
   "execution_count": 7,
   "metadata": {},
   "outputs": [
    {
     "name": "stdout",
     "output_type": "stream",
     "text": [
      "*****\n",
      "****\n",
      "***\n",
      "**\n",
      "*\n"
     ]
    }
   ],
   "source": [
    "\"\"\"\n",
    "Print the following pattern -\n",
    "*****\n",
    "****\n",
    "***\n",
    "**\n",
    "*\n",
    "Input provided will be number of rows.\n",
    "\"\"\"\n",
    "\n",
    "n = int(input())\n",
    "\n",
    "for i in range(n, 0, -1):\n",
    "    for i in range(i):\n",
    "        print(\"*\", end = \"\")\n",
    "\n",
    "    print()"
   ]
  },
  {
   "cell_type": "code",
   "execution_count": 8,
   "metadata": {},
   "outputs": [
    {
     "name": "stdout",
     "output_type": "stream",
     "text": [
      "*****\n",
      "****\n",
      "***\n",
      "**\n",
      "*\n"
     ]
    }
   ],
   "source": [
    "# alternatively\n",
    "for i in range(n):\n",
    "    for j in range(n):\n",
    "        if i <= j:\n",
    "            print(\"*\", end = \"\")\n",
    "    \n",
    "    print()"
   ]
  },
  {
   "cell_type": "markdown",
   "metadata": {},
   "source": [
    "# Question 7"
   ]
  },
  {
   "cell_type": "code",
   "execution_count": 9,
   "metadata": {},
   "outputs": [
    {
     "name": "stdout",
     "output_type": "stream",
     "text": [
      "____*\n",
      "___**\n",
      "__***\n",
      "_****\n",
      "*****\n"
     ]
    }
   ],
   "source": [
    "\"\"\"\n",
    "Print the following pattern -\n",
    "    *\n",
    "   **\n",
    "  ***\n",
    " ****\n",
    "*****\n",
    "Input provided will be number of rows.\n",
    "\"\"\"\n",
    "\n",
    "n = int(input())\n",
    "\n",
    "for i in range(n, 0, -1):\n",
    "    for j in range(i - 1):\n",
    "        print(\"_\", end = \"\")\n",
    "\n",
    "    for k in range(1, n - i + 2):\n",
    "        print(\"*\", end = \"\")\n",
    "\n",
    "    print()"
   ]
  },
  {
   "cell_type": "markdown",
   "metadata": {},
   "source": [
    "# Question 8"
   ]
  },
  {
   "cell_type": "code",
   "execution_count": 10,
   "metadata": {},
   "outputs": [
    {
     "name": "stdout",
     "output_type": "stream",
     "text": [
      "5\n"
     ]
    }
   ],
   "source": [
    "\"\"\"\n",
    "Take a name as input from the user. Print the following pattern using that name.\n",
    "INPUT - VIDISH\n",
    "OUTPUT -\n",
    "V*****\n",
    "*I****\n",
    "**D***\n",
    "***I**\n",
    "****S*\n",
    "*****H\n",
    "\"\"\"\n",
    "\n",
    "n = input()\n",
    "\n",
    "for i in range(len(n)):\n",
    "    for j in range(len(n)):\n",
    "        if i == j:\n",
    "            print(n[i], end = \"\")\n",
    "        else:\n",
    "            print(\"*\", end = \"\")\n",
    "\n",
    "    print()"
   ]
  },
  {
   "cell_type": "markdown",
   "metadata": {},
   "source": [
    "# Question 9"
   ]
  },
  {
   "cell_type": "code",
   "execution_count": 11,
   "metadata": {},
   "outputs": [
    {
     "data": {
      "text/plain": [
       "'\\nPrint the following pattern:\\n5 5 5 5 5\\n5 4 4 4 5\\n5 4 3 4 5\\n5 4 4 4 5\\n5 5 5 5 5\\n'"
      ]
     },
     "execution_count": 11,
     "metadata": {},
     "output_type": "execute_result"
    }
   ],
   "source": [
    "\"\"\"\n",
    "Print the following pattern:\n",
    "5 5 5 5 5\n",
    "5 4 4 4 5\n",
    "5 4 3 4 5\n",
    "5 4 4 4 5\n",
    "5 5 5 5 5\n",
    "\"\"\""
   ]
  },
  {
   "cell_type": "markdown",
   "metadata": {},
   "source": [
    "# Question 10"
   ]
  },
  {
   "cell_type": "code",
   "execution_count": 12,
   "metadata": {},
   "outputs": [
    {
     "name": "stdout",
     "output_type": "stream",
     "text": [
      "*****\n",
      "_****\n",
      "__***\n",
      "___**\n",
      "____*\n"
     ]
    }
   ],
   "source": [
    "\"\"\"\n",
    "Take an integer N as input, print the corresponding pattern for N.\n",
    "For example, if N = 5 then pattern will be like:\n",
    "*****\n",
    "_****\n",
    "__***\n",
    "___**\n",
    "____*\n",
    "NOTE: Here '_' represents space for explanation purpose only. \n",
    "You have to print space in your code.\n",
    "\"\"\"\n",
    "\n",
    "n = int(input())\n",
    "\n",
    "for i in range(n):\n",
    "    for j in range(i):\n",
    "        print(\"_\", end = \"\")\n",
    "\n",
    "    for k in range(n - i + 1, 1, -1):\n",
    "        print(\"*\", end = \"\")\n",
    "\n",
    "    print()"
   ]
  },
  {
   "cell_type": "markdown",
   "metadata": {},
   "source": [
    "# Question 11"
   ]
  },
  {
   "cell_type": "code",
   "execution_count": 13,
   "metadata": {},
   "outputs": [
    {
     "name": "stdout",
     "output_type": "stream",
     "text": [
      "    * \n",
      "   * * \n",
      "  * * * \n",
      " * * * * \n",
      "* * * * * \n"
     ]
    }
   ],
   "source": [
    "\"\"\"\n",
    "Take an integer N, print the corresponding full pyramid pattern N.\n",
    "For example if N = 5 then pattern will be like:\n",
    "    * \n",
    "   * * \n",
    "  * * * \n",
    " * * * * \n",
    "* * * * * \n",
    "NOTE: There should be exactly one extra space after each * for each row.\n",
    "\"\"\"\n",
    "\n",
    "n = int(input())\n",
    "\n",
    "for i in range(n, 0, -1):\n",
    "    for j in range(i - 1):\n",
    "        print(\" \", end = \"\")\n",
    "\n",
    "    for k in range(1, n - i + 2):\n",
    "        print(\"* \", end = \"\")\n",
    "\n",
    "    print()"
   ]
  },
  {
   "cell_type": "markdown",
   "metadata": {},
   "source": [
    "# Question 12"
   ]
  },
  {
   "cell_type": "code",
   "execution_count": 14,
   "metadata": {},
   "outputs": [
    {
     "name": "stdout",
     "output_type": "stream",
     "text": [
      "____*\n",
      "___**\n",
      "__***\n",
      "_****\n",
      "*****\n"
     ]
    }
   ],
   "source": [
    "\"\"\"\n",
    "Take an integer N as input, print the corresponding pattern for N.\n",
    "For example, if N = 5 then pattern will be like:\n",
    "____*\n",
    "___**\n",
    "__***\n",
    "_****\n",
    "*****\n",
    "NOTE: Here \"_\" represents space for explanation purpose only. \n",
    "You have to printspace inyour code.\n",
    "\"\"\"\n",
    "\n",
    "n = int(input())\n",
    "\n",
    "for i in range(n, 0, -1):\n",
    "    for j in range(i - 1):\n",
    "        print(\"_\", end = \"\")\n",
    "\n",
    "    for k in range(1, n - i + 2):\n",
    "        print(\"*\", end = \"\")\n",
    "\n",
    "    print()"
   ]
  },
  {
   "cell_type": "markdown",
   "metadata": {},
   "source": [
    "# Question 13"
   ]
  },
  {
   "cell_type": "code",
   "execution_count": 15,
   "metadata": {},
   "outputs": [
    {
     "name": "stdout",
     "output_type": "stream",
     "text": [
      "*   *\n",
      "*   *\n",
      "*   *\n",
      "*   *\n",
      "*   *\n"
     ]
    }
   ],
   "source": [
    "\"\"\"\n",
    "Take an integer N as input. Print the following pattern of N lines. \n",
    "For N = 5, the following pattern is printed.\n",
    "*      *\n",
    "*      *\n",
    "*      *\n",
    "*      *\n",
    "*      *\n",
    "\"\"\"\n",
    "\n",
    "n = int(input())\n",
    "\n",
    "for i in range(n):\n",
    "    for j in range(n):\n",
    "        if j == 0 or j == n - 1:\n",
    "            print(\"*\", end = \"\")\n",
    "        else:\n",
    "            print(\" \", end = \"\")\n",
    "\n",
    "    print()"
   ]
  },
  {
   "cell_type": "markdown",
   "metadata": {},
   "source": [
    "# Question 14"
   ]
  },
  {
   "cell_type": "code",
   "execution_count": 16,
   "metadata": {},
   "outputs": [
    {
     "name": "stdout",
     "output_type": "stream",
     "text": [
      "*****\n",
      "*****\n",
      "*****\n",
      "*****\n",
      "*****\n"
     ]
    }
   ],
   "source": [
    "\"\"\"\n",
    "Given two integers N and m as inputs, print a rectangle of N * M stars.\n",
    "For example if N = 3, M = 4 then pattern will be like:\n",
    "****\n",
    "****\n",
    "****\n",
    "\"\"\"\n",
    "\n",
    "n = int(input())\n",
    "m = int(input())\n",
    "\n",
    "for i in range(n):\n",
    "    for j in range(m):\n",
    "        print(\"*\", end = \"\")\n",
    "\n",
    "    print()"
   ]
  },
  {
   "cell_type": "markdown",
   "metadata": {},
   "source": [
    "# Question 15"
   ]
  },
  {
   "cell_type": "code",
   "execution_count": 17,
   "metadata": {},
   "outputs": [
    {
     "name": "stdout",
     "output_type": "stream",
     "text": [
      "*****\n",
      "****\n",
      "***\n",
      "**\n",
      "*\n"
     ]
    }
   ],
   "source": [
    "\"\"\"\n",
    "Take an integer N as input. Print an inverse half pyramid of N lines using *. \n",
    "For example, for n = 5, the output should be the following pattern:\n",
    "*****\n",
    "****\n",
    "***\n",
    "**\n",
    "*\n",
    "NOTE: There should be no space after the last * in each line of the output.\n",
    "\"\"\"\n",
    "\n",
    "n = int(input())\n",
    "\n",
    "for i in range(n, 0, -1):\n",
    "    for j in range(i):\n",
    "        print(\"*\", end = \"\")\n",
    "\n",
    "    print()"
   ]
  },
  {
   "cell_type": "markdown",
   "metadata": {},
   "source": [
    "# Question 16"
   ]
  },
  {
   "cell_type": "code",
   "execution_count": 18,
   "metadata": {},
   "outputs": [
    {
     "name": "stdout",
     "output_type": "stream",
     "text": [
      "*****\n",
      "*   *\n",
      "*   *\n",
      "*   *\n",
      "*****\n"
     ]
    }
   ],
   "source": [
    "\"\"\"\n",
    "Take an integer N as input, print the corresponding pattern for N.\n",
    "For example, if N = 5 then pattern will be like:\n",
    "*****\n",
    "*   *\n",
    "*   *\n",
    "*   *\n",
    "*****\n",
    "NOTE: Except for the first line and the last line, every line will have N - 2 \n",
    "spaces between the two stars.\n",
    "\"\"\"\n",
    "\n",
    "n = int(input())\n",
    "\n",
    "for i in range(n):\n",
    "    for j in range(n):\n",
    "        if i == 0 or j == 0 or i == n - 1 or j == n - 1:\n",
    "            print(\"*\", end = \"\")\n",
    "        else:\n",
    "            print(\" \", end = \"\")\n",
    "    \n",
    "    print()"
   ]
  },
  {
   "cell_type": "markdown",
   "metadata": {},
   "source": [
    "# Question 17"
   ]
  },
  {
   "cell_type": "code",
   "execution_count": 19,
   "metadata": {},
   "outputs": [
    {
     "name": "stdout",
     "output_type": "stream",
     "text": [
      "*****\n",
      "*  * \n",
      "* *  \n",
      "**   \n",
      "*    \n"
     ]
    }
   ],
   "source": [
    "\"\"\"\n",
    "Given an integer N as input, print the corresponding Hollow inverted half pyramid\n",
    "pattern for N. For example, if N = 6 then pattern will be:\n",
    "******\n",
    "*   *\n",
    "*  *\n",
    "* *\n",
    "**\n",
    "*\n",
    "\"\"\"\n",
    "\n",
    "n = int(input())\n",
    "\n",
    "for i in range(n):\n",
    "    for j in range(n):\n",
    "        if i == 0 or j == 0 or i + j == n - 1:\n",
    "            print(\"*\", end = \"\")\n",
    "        else:\n",
    "            print(\" \", end = \"\")\n",
    "\n",
    "    print()"
   ]
  },
  {
   "cell_type": "markdown",
   "metadata": {},
   "source": [
    "# Question 18"
   ]
  },
  {
   "cell_type": "code",
   "execution_count": 20,
   "metadata": {},
   "outputs": [
    {
     "name": "stdout",
     "output_type": "stream",
     "text": [
      "1\n",
      "1_\n",
      "1_3\n",
      "1_3_\n",
      "1_3_5\n"
     ]
    }
   ],
   "source": [
    "\"\"\"\n",
    "Take an integer N as input, print the corresponding pattern for N.\n",
    "For example if N = 5 then pattern will be like:\n",
    "1\n",
    "1_\n",
    "1_3\n",
    "1_3_\n",
    "1_3_5\n",
    "NOTE: Here \"_\" represents soace for explanation purpose only. \n",
    "You have to print space in your code.\n",
    "\"\"\"\n",
    "\n",
    "n = int(input())\n",
    "\n",
    "for i in range(n):\n",
    "    for j in range(1, i + 2):\n",
    "        if j % 2 == 0:\n",
    "            print(\"_\", end = \"\")\n",
    "        else:\n",
    "            print(j, end = \"\")\n",
    "\n",
    "    print()"
   ]
  },
  {
   "cell_type": "markdown",
   "metadata": {},
   "source": [
    "# Question 19"
   ]
  },
  {
   "cell_type": "code",
   "execution_count": 21,
   "metadata": {},
   "outputs": [
    {
     "name": "stdout",
     "output_type": "stream",
     "text": [
      "* * * * * \n",
      " * * * * \n",
      "  * * * \n",
      "   * * \n",
      "    * \n"
     ]
    }
   ],
   "source": [
    "\"\"\"\n",
    "Take an integer N as input, and print the corresponding inverted full pyramid \n",
    "pattern for N. For example, if N= 5 then pattern will be like:\n",
    "* * * * *\n",
    " * * * *\n",
    "  * * *\n",
    "   * *\n",
    "    *\n",
    "NOTE: There should be exactly one extra space after each * for each row.\n",
    "\"\"\"\n",
    "\n",
    "n = int(input())\n",
    "\n",
    "for i in range(n):\n",
    "    for j in range(i):\n",
    "        print(\" \", end = \"\")\n",
    "    for k in range(n - i, 0, -1):\n",
    "        print(\"* \", end = \"\")\n",
    "\n",
    "    print()"
   ]
  },
  {
   "cell_type": "markdown",
   "metadata": {},
   "source": [
    "# Question 20"
   ]
  },
  {
   "cell_type": "code",
   "execution_count": 22,
   "metadata": {},
   "outputs": [
    {
     "name": "stdout",
     "output_type": "stream",
     "text": [
      "0 0 0 0 1 0 0 0 0 \n",
      "0 0 0 2 3 2 0 0 0 \n",
      "0 0 3 4 5 4 3 0 0 \n",
      "0 4 5 6 7 6 5 4 0 \n",
      "5 6 7 8 9 8 7 6 5 \n"
     ]
    }
   ],
   "source": [
    "\"\"\"\n",
    "Given an integer N as input, print the corresponding full numeric pyramid pattern \n",
    "for N. For example, if N = 5 then pattern will be like:\n",
    "0 0 0 0 1 0 0 0 0 \n",
    "0 0 0 2 3 2 0 0 0 \n",
    "0 0 3 4 5 4 3 0 0\n",
    "0 4 5 6 7 6 5 4 0\n",
    "5 6 7 8 9 8 7 6 5 \n",
    "NOTE: There should be exactly one extra space after each number for each row.\n",
    "\"\"\"\n",
    "\n",
    "n = int(input())\n",
    "\n",
    "subtractor = 1\n",
    "for i in range(n):\n",
    "    print(\"0 \"*(n-i-1), end = \"\")\n",
    "    \n",
    "\t\t# Logic for number pyramic\n",
    "    for j in range(0, 2*i + subtractor):\n",
    "        print(i + j + 1, end = \" \")\n",
    "        \n",
    "    for k in range(i):\n",
    "        print(2*i - k, end = \" \")\n",
    "    \n",
    "    subtractor -= 1\n",
    "    \n",
    "    print(\"0 \"*(n-i-1), end = \"\")\n",
    "    print()"
   ]
  },
  {
   "cell_type": "markdown",
   "metadata": {},
   "source": [
    "# Question 21"
   ]
  },
  {
   "cell_type": "code",
   "execution_count": 23,
   "metadata": {},
   "outputs": [
    {
     "name": "stdout",
     "output_type": "stream",
     "text": [
      "**********\n",
      "****  ****\n",
      "***    ***\n",
      "**      **\n",
      "*        *\n"
     ]
    }
   ],
   "source": [
    "\"\"\"\n",
    "Take an integer N as input, print the corresponding pattern for N.\n",
    "For example, if N = 5 then pattern will be like:\n",
    "********** // 0 spaces\n",
    "\n",
    "****__**** // 2 spaces\n",
    "\n",
    "***____*** // 4 spaces\n",
    "\n",
    "**______** // 6 spaces\n",
    "\n",
    "*________* // 8 spaces\n",
    "NOTE: Here \"_\" is used to represent spaces. You have to print spaces in your \n",
    "code.\n",
    "\"\"\"\n",
    "\n",
    "n = int(input())\n",
    "\n",
    "for i in range(n):\n",
    "    for j in range(n - i):\n",
    "        print(\"*\", end = \"\")\n",
    "    for k in range(i*2):\n",
    "        print(\" \", end = \"\")\n",
    "    for l in range(n - i):\n",
    "        print(\"*\", end = \"\")\n",
    "\n",
    "    print()"
   ]
  },
  {
   "cell_type": "markdown",
   "metadata": {},
   "source": [
    "# Question 22"
   ]
  },
  {
   "cell_type": "code",
   "execution_count": 24,
   "metadata": {},
   "outputs": [
    {
     "name": "stdout",
     "output_type": "stream",
     "text": [
      "*        *\n",
      "**      **\n",
      "***    ***\n",
      "****  ****\n",
      "**********\n"
     ]
    }
   ],
   "source": [
    "\"\"\"\n",
    "Take an integer N as input, print the corresponding pattern for N.\n",
    "For example, if N = 5 then pattern will be like:\n",
    "*________* // 8 spaces\n",
    "\n",
    "**______** // 6 spaces\n",
    "\n",
    "***____*** // 4 spaces\n",
    "\n",
    "****__**** // 2 spaces\n",
    "\n",
    "********** // 0 spaces\n",
    "NOTE: Here \"_\" is used to represent spaces. You have to print spaces in your \n",
    "code.\n",
    "\"\"\"\n",
    "\n",
    "n = int(input())\n",
    "\n",
    "for i in range(n, 0, -1):\n",
    "    for j in range(n - i + 1):\n",
    "        print(\"*\", end = \"\")\n",
    "    for k in range(i*2, 2, -1):\n",
    "        print(\" \", end = \"\")\n",
    "    for l in range(n - i + 1):\n",
    "        print(\"*\", end = \"\")\n",
    "\n",
    "    print()"
   ]
  },
  {
   "cell_type": "markdown",
   "metadata": {},
   "source": [
    "# Question 23"
   ]
  },
  {
   "cell_type": "code",
   "execution_count": 25,
   "metadata": {},
   "outputs": [
    {
     "name": "stdout",
     "output_type": "stream",
     "text": [
      "*\n",
      "**\n",
      "***\n",
      "****\n",
      "*****\n",
      "*****\n",
      "****\n",
      "***\n",
      "**\n",
      "*\n"
     ]
    }
   ],
   "source": [
    "\"\"\"\n",
    "Take an integer N as input, print the corresponding Half Diamond pattern with\n",
    "2*N - 1 rows. For example if N = 5 then pattern will be like:\n",
    "* \n",
    "**\n",
    "***\n",
    "****\n",
    "*****\n",
    "****\n",
    "***\n",
    "**\n",
    "*\n",
    "NOTE: There should be no spaces after any *.\n",
    "\"\"\"\n",
    "\n",
    "n = int(input())\n",
    "\n",
    "for i in range(1, n+1):\n",
    "    for j in range(i):\n",
    "        print(\"*\", end = \"\")\n",
    "    \n",
    "    print()\n",
    "\n",
    "for k in range(n, 0, -1):\n",
    "    for l in range(k):\n",
    "        print(\"*\", end = \"\")\n",
    "    \n",
    "    print()"
   ]
  },
  {
   "cell_type": "markdown",
   "metadata": {},
   "source": [
    "# Question 24"
   ]
  },
  {
   "cell_type": "code",
   "execution_count": 26,
   "metadata": {},
   "outputs": [
    {
     "name": "stdout",
     "output_type": "stream",
     "text": [
      "0 0 0 0 5 0 0 0 0 \n",
      "0 0 0 4 8 12 0 0 0 \n",
      "0 0 3 6 9 12 15 0 0 \n",
      "0 2 4 6 8 10 12 14 0 \n",
      "1 2 3 4 5 6 7 8 9 \n"
     ]
    }
   ],
   "source": [
    "\"\"\"\n",
    "Take an integer N as input, print the corresponding Full Numeric Pyramid pattern \n",
    "for N. For example if N = 5 then pattern will be like:\n",
    "0 \t0 \t0 \t0 \t5 \t0 \t0 \t0 \t0 \n",
    "0 \t0 \t0 \t4 \t8 \t12 \t0 \t0 \t0 \n",
    "0 \t0 \t3 \t6 \t9 \t12 \t15 \t0 \t0\n",
    "0 \t2 \t4 \t6 \t8 \t10 \t12 \t14 \t0\n",
    "1 \t2 \t3 \t4 \t5 \t6 \t7 \t8 \t9\n",
    "NOTE: There should be exactly one extra space after each number for each row.\n",
    "\"\"\"\n",
    "\n",
    "n = int(input())\n",
    "for i in range(n):\n",
    "    print(\"0 \"*(n-i-1), end = \"\")\n",
    "    for j in range(1, 2*i + 2):\n",
    "        print((n-i)*j, end = \" \")\n",
    "    print(\"0 \"*(n-i-1), end = \"\")\n",
    "    print()"
   ]
  }
 ],
 "metadata": {
  "kernelspec": {
   "display_name": "Python 3",
   "language": "python",
   "name": "python3"
  },
  "language_info": {
   "codemirror_mode": {
    "name": "ipython",
    "version": 3
   },
   "file_extension": ".py",
   "mimetype": "text/x-python",
   "name": "python",
   "nbconvert_exporter": "python",
   "pygments_lexer": "ipython3",
   "version": "3.11.9"
  }
 },
 "nbformat": 4,
 "nbformat_minor": 2
}
