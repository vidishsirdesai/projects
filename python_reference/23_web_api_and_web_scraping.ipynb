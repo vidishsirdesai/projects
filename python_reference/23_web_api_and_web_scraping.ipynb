{
 "cells": [
  {
   "cell_type": "markdown",
   "metadata": {},
   "source": [
    "# Introduction\n",
    "\n",
    "### Why is ML difficult in real-world?\n",
    "The biggest challenge is lack of data. One of the biggest tasks of a Data Scientist or an ML Engineer is data collection."
   ]
  }
 ],
 "metadata": {
  "language_info": {
   "name": "python"
  }
 },
 "nbformat": 4,
 "nbformat_minor": 2
}
