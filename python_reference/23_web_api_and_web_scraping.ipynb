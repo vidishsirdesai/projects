{
 "cells": [
  {
   "cell_type": "markdown",
   "metadata": {},
   "source": [
    "# Introduction\n",
    "One of the most significant hurdles in real-world ML projects is the scarcity of high-quality data. Data collection itself is a substantial undertaking, often requiring significant time and resources. Moreover, the collected data rarely arrives in a pristine format ready for immediate model training and model building. Extensive data cleaning and preprocessing are essential steps to address issues like,\n",
    "- Missing values: Handling missing data points accurately is crucial to prevent biased or inaccurate model predictions.\n",
    "- Inconsistent formatting: Data can be inconsistent in terms of units, capitalization and other formatting aspects, requiring careful cleaning and standardization.\n",
    "- Outliers: Extreme values can significantly impact model performance and require appropriate handling (removal, transformation, etc.).\n",
    "- Data imbalances: Class imbalances, where one class has significantly fewer samples than other, can lead to biased models.\n",
    "- Noise: Data can be contaminated with noise, which can degrade model performance.\n",
    "\n",
    "Some of the common sources of data include,\n",
    "- Flat files: These are simple text-based files like `.csv`, `.txt`, `.dat` and `.xlsx`, often used for storing tabular data.\n",
    "- DBMS: Relational databases (SQL) and NoSQL databases provide structured and unstructured data storage and retrieval mechanisms.\n",
    "- Web APIs: APIs allow programmatic access to data from various sources, such as social media platforms, weather services and financial markets."
   ]
  },
  {
   "cell_type": "markdown",
   "metadata": {},
   "source": [
    "# Web APIs\n",
    "### What is a web API?\n",
    "At its core, a web API is a set of rules that allows different software applications to communicate with each other over the internet. Think of it as a standardized way for different systems to exchange data and functionality.\n",
    "\n",
    "### Key characteristica\n",
    "- HTTP-based: Web APIs primarily use the Hypertext Transfer Protocol (HTTP) for communication. This ensures compatibility across various platforms and programming languages.\n",
    "- Data formats: Common data formats for exchanging information include,\n",
    "    - JSON (JavaScript Object Notation): A lightweight and human-readable format for representing structured data.\n",
    "    - XML (eXtensible Markup Language): A more verbose format for describing data using tags.\n",
    "- Endpoints: Web APIs expose specific URLs (endpoints) that clients can use to interact with the API. These endpoints define the type of request (e.g., `GET`, `POST`, `PUT`, `DELETE`) and the expected data format.\n",
    "\n",
    "### How web APIs work?\n",
    "1. Client: A software application (e.g., a mobile app, a web browser or another server) initiates a request to a specific endpoint on the server hosting the API.\n",
    "2. Server: The server receives the request, processes it and retrieves or manipulates the requested data.\n",
    "3. Response: The server sends a response back to the client, typically containing the requested data in the specified format.\n",
    "\n",
    "### Common use cases\n",
    "- Social media integration: Sharing content on platforms like Facebook, Twitter or Instagram.\n",
    "- Mapping services: Displaying maps, finding directions and locating points of interest using APIs like Google Maps.\n",
    "- E-commerce: Processing payments, managing inventory and tracking orders.\n",
    "- Weather information: Retrieving real-time weather data from services like AccuWeather or OpenWeatherMap.\n",
    "- Payment gateways: Facilitating onlune transactions through services like PayPal or Stripe.\n",
    "\n",
    "### Benefits of using web APIs\n",
    "- Platform independence: Web APIs can be accessed from various devices and platforms, making them highly versatile.\n",
    "- Modularity: APIs promote a modular approach to software development, allowing developers to build upon existing functionalities.\n",
    "- Efficiency: Reusing existing APIs can significantly reduce development time and effort.\n",
    "- Innovation: APIs foster innovation by enabling developers to create new and unique applications by combining data and services from different sources."
   ]
  },
  {
   "cell_type": "markdown",
   "metadata": {},
   "source": []
  }
 ],
 "metadata": {
  "language_info": {
   "name": "python"
  }
 },
 "nbformat": 4,
 "nbformat_minor": 2
}
