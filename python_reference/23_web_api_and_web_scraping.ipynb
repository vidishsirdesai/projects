{
 "cells": [
  {
   "cell_type": "markdown",
   "metadata": {},
   "source": [
    "# Introduction\n",
    "One of the most significant hurdles in real-world ML projects is the scarcity of high-quality data. Data collection itself is a substantial undertaking, often requiring significant time and resources. Moreover, the collected data rarely arrives in a pristine format ready for immediate model training and model building. Extensive data cleaning and preprocessing are essential steps to address issues like,\n",
    "- Missing values: Handling missing data points accurately is crucial to prevent biased or inaccurate model predictions.\n",
    "- Inconsistent formatting: Data can be inconsistent in terms of units, capitalization and other formatting aspects, requiring careful cleaning and standardization.\n",
    "- Outliers: Extreme values can significantly impact model performance and require appropriate handling (removal, transformation, etc.).\n",
    "- Data imbalances: Class imbalances, where one class has significantly fewer samples than other, can lead to biased models.\n",
    "- Noise: Data can be contaminated with noise, which can degrade model performance.\n",
    "\n",
    "Some of the common sources of data include,\n",
    "- Flat files: These are simple text-based files like `.csv`, `.txt`, `.dat` and `.xlsx`, often used for storing tabular data.\n",
    "- DBMS: Relational databases (SQL) and NoSQL databases provide structured and unstructured data storage and retrieval mechanisms.\n",
    "- Web APIs: APIs allow programmatic access to data from various sources, such as social media platforms, weather services and financial markets."
   ]
  },
  {
   "cell_type": "markdown",
   "metadata": {},
   "source": [
    "# Web APIs\n",
    "### What is a web API?\n",
    "At its core, a web API is a set of rules that allows different software applications to communicate with each other over the internet. Think of it as a standardized way for different systems to exchange data and functionality.\n",
    "\n",
    "### Key characteristica\n",
    "- HTTP-based: Web APIs primarily use the Hypertext Transfer Protocol (HTTP) for communication. This ensures compatibility across various platforms and programming languages.\n",
    "- Data formats: Common data formats for exchanging information include,\n",
    "    - JSON (JavaScript Object Notation): A lightweight and human-readable format for representing structured data.\n",
    "    - XML (eXtensible Markup Language): A more verbose format for describing data using tags.\n",
    "- Endpoints: Web APIs expose specific URLs (endpoints) that clients can use to interact with the API. These endpoints define the type of request (e.g., `GET`, `POST`, `PUT`, `DELETE`) and the expected data format.\n",
    "\n",
    "### How web APIs work?\n",
    "1. Client: A software application (e.g., a mobile app, a web browser or another server) initiates a request to a specific endpoint on the server hosting the API.\n",
    "2. Server: The server receives the request, processes it and retrieves or manipulates the requested data.\n",
    "3. Response: The server sends a response back to the client, typically containing the requested data in the specified format.\n",
    "\n",
    "### Common use cases\n",
    "- Social media integration: Sharing content on platforms like Facebook, Twitter or Instagram.\n",
    "- Mapping services: Displaying maps, finding directions and locating points of interest using APIs like Google Maps.\n",
    "- E-commerce: Processing payments, managing inventory and tracking orders.\n",
    "- Weather information: Retrieving real-time weather data from services like AccuWeather or OpenWeatherMap.\n",
    "- Payment gateways: Facilitating onlune transactions through services like PayPal or Stripe.\n",
    "\n",
    "### Benefits of using web APIs\n",
    "- Platform independence: Web APIs can be accessed from various devices and platforms, making them highly versatile.\n",
    "- Modularity: APIs promote a modular approach to software development, allowing developers to build upon existing functionalities.\n",
    "- Efficiency: Reusing existing APIs can significantly reduce development time and effort.\n",
    "- Innovation: APIs foster innovation by enabling developers to create new and unique applications by combining data and services from different sources."
   ]
  },
  {
   "cell_type": "markdown",
   "metadata": {},
   "source": [
    "# `requests` Package\n",
    "The `requests` package in Python is a powerful tool for making HTTP requests. It simplifies the process of interacting with web servers, making it easier to fetch data from APIs, send data to web applications and perform other web-related tasks.\n",
    "\n",
    "### Key features\n",
    "- Easy to use: The `requests` package provides a simple and intuitive interface for making HTTP requests.\n",
    "- Supports various HTTP methods: It supports all standard HTTP methods, including `GET`, `POST`, `PUT`, `DELETE`, `HEAD` and `OPTIONS`/\n",
    "- Handles responses: Easily access and handle to response data, including status codes, headers and content of the response.\n",
    "- Handles authentication: Supports various authentication mechanisms, such as basic authentication, digest authentication and OAuth.\n",
    "- Handles cookies: Automatically handles cookies, simplifying interactions with websites that require session management.\n",
    "- Session management: Provides a `Session` object for managing persistent connections and cookies across multiple requests.\n",
    "\n",
    "### Installation\n",
    "`pip install requests`"
   ]
  },
  {
   "cell_type": "markdown",
   "metadata": {},
   "source": [
    "### Making a `GET` request"
   ]
  },
  {
   "cell_type": "code",
   "execution_count": 1,
   "metadata": {},
   "outputs": [
    {
     "data": {
      "text/plain": [
       "<Response [200]>"
      ]
     },
     "execution_count": 1,
     "metadata": {},
     "output_type": "execute_result"
    }
   ],
   "source": [
    "import requests\n",
    "\n",
    "url = \"https://api.ipify.org\"\n",
    "response = requests.get(url) \n",
    "response"
   ]
  },
  {
   "cell_type": "markdown",
   "metadata": {
    "vscode": {
     "languageId": "plaintext"
    }
   },
   "source": [
    "### Key methods\n",
    "- `requests.get()`: Used for making `GET` requests to retrieve data from a server.\n",
    "- `requests.post()`: Used for sending data to a server (e.g., submitting forms).\n",
    "- `requests.put()`: Used for updating existing resources on a server.\n",
    "- `requests.delete()`: Used for deleting resources from a server.\n",
    "- `response.json()`: Parses the response as a string.\n",
    "- `response.status_code`: The HTTP status code of the server's response (e.g., 200 for success, 404 for not found).\n",
    "- `response.text`: The content of the response as a string.\n",
    "- `response.headers`: A dictionary containing the HTTP headers of the response."
   ]
  },
  {
   "cell_type": "code",
   "execution_count": 2,
   "metadata": {},
   "outputs": [
    {
     "data": {
      "text/plain": [
       "200"
      ]
     },
     "execution_count": 2,
     "metadata": {},
     "output_type": "execute_result"
    }
   ],
   "source": [
    "response.status_code"
   ]
  },
  {
   "cell_type": "code",
   "execution_count": 3,
   "metadata": {},
   "outputs": [
    {
     "data": {
      "text/plain": [
       "'43.224.129.121'"
      ]
     },
     "execution_count": 3,
     "metadata": {},
     "output_type": "execute_result"
    }
   ],
   "source": [
    "response.text"
   ]
  },
  {
   "cell_type": "code",
   "execution_count": 4,
   "metadata": {},
   "outputs": [
    {
     "data": {
      "text/plain": [
       "{'Date': 'Sat, 18 Jan 2025 19:05:38 GMT', 'Content-Type': 'text/plain', 'Content-Length': '14', 'Connection': 'keep-alive', 'Vary': 'Origin', 'cf-cache-status': 'DYNAMIC', 'Server': 'cloudflare', 'CF-RAY': '9040db8e0bfce6ec-BLR', 'server-timing': 'cfL4;desc=\"?proto=TCP&rtt=5629&min_rtt=5350&rtt_var=2022&sent=5&recv=7&lost=0&retrans=0&sent_bytes=2835&recv_bytes=763&delivery_rate=599400&cwnd=252&unsent_bytes=0&cid=bf65b0c1ca3a589f&ts=247&x=0\"'}"
      ]
     },
     "execution_count": 4,
     "metadata": {},
     "output_type": "execute_result"
    }
   ],
   "source": [
    "response.headers"
   ]
  },
  {
   "cell_type": "code",
   "execution_count": 5,
   "metadata": {},
   "outputs": [
    {
     "name": "stdout",
     "output_type": "stream",
     "text": [
      "43.224.129.121\n"
     ]
    }
   ],
   "source": [
    "if response.status_code == 200:\n",
    "    print(response.text)\n",
    "else:\n",
    "    print(f\"Request failed with status code: {response.status_code}\")"
   ]
  },
  {
   "cell_type": "markdown",
   "metadata": {},
   "source": [
    "# GitHub API\n",
    "Documentation: https://docs.github.com/en/rest/users/users?apiVersion=2022-11-28#get-the-authenticated-user"
   ]
  },
  {
   "cell_type": "markdown",
   "metadata": {},
   "source": []
  }
 ],
 "metadata": {
  "kernelspec": {
   "display_name": "Python 3",
   "language": "python",
   "name": "python3"
  },
  "language_info": {
   "codemirror_mode": {
    "name": "ipython",
    "version": 3
   },
   "file_extension": ".py",
   "mimetype": "text/x-python",
   "name": "python",
   "nbconvert_exporter": "python",
   "pygments_lexer": "ipython3",
   "version": "3.11.9"
  }
 },
 "nbformat": 4,
 "nbformat_minor": 2
}
