{
 "cells": [
  {
   "cell_type": "markdown",
   "metadata": {},
   "source": [
    "# Introduction\n",
    "File handling in Python refers to the ability of the Python programs to interact with files in the device's storage. This interaction involves various operations like,\n",
    "- Creating files: Generating new files for storing data.\n",
    "- Opening files: Accessing existing files for reading or writing.\n",
    "- Reading from files: Extracting data from files.\n",
    "- Writing to files: Storing data into files.\n",
    "- Closing files: Releasing the connection to the file system after operations are complete."
   ]
  },
  {
   "cell_type": "markdown",
   "metadata": {},
   "source": [
    "# Why Is Secondary Memory Chosen Over Primary To Store Data?\n",
    "Primary memory, also known as RAM, is incredibly fast but volatile. This means data stored in RAM is temporary and gets erased when the computer shuts down. Hence RAM is used for running programs - it provides quick access to frequently used instructions and data.\n",
    "\n",
    "In contrast, secondary memory, like HDDs (Hard Disk Drives) and SSDs (Solid State Drives), offer a persistent storage. Data saved on secondary storage remains intact even after a power cycle. This makes it ideal for storing important files, documents, applications and operating system itself. Secondary storage typically has much larger capacities compared to RAM, this allows to store vast amounts of information."
   ]
  },
  {
   "cell_type": "markdown",
   "metadata": {},
   "source": [
    "# File formats and access control\n",
    "Data on secondary storage is organized into files. Each file has a specific format that determines how the information is encoded.\n",
    "- Text files (e.g., `.txt`): Use the ASCII character encoding system, where each character is represented by a unique 8-bit code. This makes text files human-readable but less efficient for storing complex data.\n",
    "- Binary files (e.g., `.exe`, images): Store information directly in binary format (0s and 1s). This format is more compact and efficient for non-textual data like program instructions or image data.\n",
    "\n",
    "To ensure data integrity and prevent conflicts, operating systems employ file access control mechanisms. These mechanisms, often implemented using locks, restrict how multiple programs can access a file simultaneously. Typically, only one program can write to a file at a time, while others can access it in read-only mode. This prevents data corruption that cout occur if multiple programs attempt to modify the same file concurrently.\n",
    "\n",
    "Consider that there are 2 files in a computer, `file1.txt` and `file2.txt`. Now consider that 2 Python program files, `prog1.py` and `prog2.py` are both trying to access the same file at the same time. In such cases, the programs can only access the same file in read mode. Write mode is not permitted for both the files at the same time."
   ]
  },
  {
   "cell_type": "markdown",
   "metadata": {},
   "source": [
    "# Different Modes That Files Can Be Opened In\n",
    "There are 6 modes that a file can be opened in,\n",
    "- Read only: `r`, this is the default mode a file is opened in.\n",
    "- Read and write: `r+`.\n",
    "- Write only: `w`.\n",
    "- Write and read: `w+`.\n",
    "- Append only: `a`.\n",
    "- Append and read: `a+`."
   ]
  },
  {
   "cell_type": "markdown",
   "metadata": {},
   "source": [
    "# Lorem Ipsum\n",
    "Lorem ipsum is placeholder text commonly used in the graphic design, publishing, and web development industries. It's essentially a scrambled Latin text that's used to fill up space in a design layout, allowing designers to focus on the visual aspects without being distracted by actual content.   \n",
    "\n",
    "The purpose of using Lorem Ipsum is to create a natural-looking block of text that doesn't distract from the overall design.\n",
    "By using placeholder text, designers can evaluate the layout, typography, and overall aesthetic of a design without worrying about the meaning of the content.\n",
    "\n",
    "### Example\n",
    "```Plain Text\n",
    "Lorem ipsum dolor sit amet, consectetur adipiscing elit, sed do eiusmod tempor incididunt ut labore et dolore magna aliqua. \n",
    "Ut enim ad minim veniam, quis nostrud exercitation ullamco laboris nisi ut aliquip ex ea commodo consequat. \n",
    "Duis aute irure dolor in reprehenderit in voluptate velit esse cillum dolore eu fugiat nulla pariatur. \n",
    "Excepteur sint occaecat cupidatat non proident, sunt in culpa qui officia deserunt mollit anim id est laborum.\n",
    "```"
   ]
  },
  {
   "cell_type": "markdown",
   "metadata": {},
   "source": [
    "# How To Open A File?\n",
    "```Python\n",
    "# syntax\n",
    "file = open(\"<filename>\", \"Mode\")\n",
    "# file is a variable name, it is not a compulsion, but preferred.\n",
    "```"
   ]
  },
  {
   "cell_type": "code",
   "execution_count": 1,
   "metadata": {},
   "outputs": [],
   "source": [
    "file = open(\"sample_2.txt\", \"r+\") # FileNotFoundError"
   ]
  },
  {
   "cell_type": "code",
   "execution_count": 2,
   "metadata": {},
   "outputs": [
    {
     "data": {
      "text/plain": [
       "_io.TextIOWrapper"
      ]
     },
     "execution_count": 2,
     "metadata": {},
     "output_type": "execute_result"
    }
   ],
   "source": [
    "file = open(\"sample_2.txt\", \"w+\")\n",
    "type(file) # _io.TextIOWrapper"
   ]
  },
  {
   "cell_type": "markdown",
   "metadata": {},
   "source": [
    "# How To Close A File?"
   ]
  },
  {
   "cell_type": "code",
   "execution_count": 3,
   "metadata": {},
   "outputs": [],
   "source": [
    "file = open(\"sample_2.txt\", \"w+\")\n",
    "file.close()"
   ]
  },
  {
   "cell_type": "markdown",
   "metadata": {},
   "source": [
    "It is very important to close a file, the changes will be saved only after it is closed."
   ]
  },
  {
   "cell_type": "markdown",
   "metadata": {},
   "source": [
    "# How To Open 2 Files?"
   ]
  },
  {
   "cell_type": "code",
   "execution_count": 4,
   "metadata": {},
   "outputs": [],
   "source": [
    "file1 = open(\"sample_3.txt\", \"w+\")\n",
    "file2 = open(\"sample_4.txt\", \"w+\")\n",
    "\n",
    "file1.close()\n",
    "file2.close()"
   ]
  },
  {
   "cell_type": "markdown",
   "metadata": {},
   "source": [
    "# How To Write To A File?"
   ]
  },
  {
   "cell_type": "code",
   "execution_count": 5,
   "metadata": {},
   "outputs": [],
   "source": [
    "file = open(\"sample_5.txt\", \"w+\")\n",
    "file.write(\"Hi, this a random string that is written in to this file. this string has no length and yes I can ony write to \")\n",
    "file.close()"
   ]
  },
  {
   "cell_type": "markdown",
   "metadata": {},
   "source": [
    "# How Write Multiple Strings To A File?"
   ]
  },
  {
   "cell_type": "code",
   "execution_count": 6,
   "metadata": {},
   "outputs": [],
   "source": [
    "file = open(\"sample_6.txt\", \"w+\")\n",
    "file.writelines([\"Line1\\n\", \"Line2\\n\", \"Line3\\n\"])\n",
    "file.close()"
   ]
  },
  {
   "cell_type": "markdown",
   "metadata": {},
   "source": [
    "# How To Read Everything That Is Written From A File?"
   ]
  },
  {
   "cell_type": "code",
   "execution_count": 7,
   "metadata": {},
   "outputs": [
    {
     "data": {
      "text/plain": [
       "'Hi, this a random string that is written in to this file. this string has no length and yes I can ony write to '"
      ]
     },
     "execution_count": 7,
     "metadata": {},
     "output_type": "execute_result"
    }
   ],
   "source": [
    "file = open(\"sample_5.txt\", \"r+\")\n",
    "file.read() # reads all the content of a given file"
   ]
  },
  {
   "cell_type": "code",
   "execution_count": 8,
   "metadata": {},
   "outputs": [
    {
     "data": {
      "text/plain": [
       "''"
      ]
     },
     "execution_count": 8,
     "metadata": {},
     "output_type": "execute_result"
    }
   ],
   "source": [
    "file.read() # reads nothing as nothing is left to read"
   ]
  },
  {
   "cell_type": "code",
   "execution_count": 9,
   "metadata": {},
   "outputs": [],
   "source": [
    "file.close()"
   ]
  },
  {
   "cell_type": "markdown",
   "metadata": {},
   "source": [
    "# How To Read 1 Line At A Time?"
   ]
  },
  {
   "cell_type": "code",
   "execution_count": 10,
   "metadata": {},
   "outputs": [
    {
     "data": {
      "text/plain": [
       "'Hi, this a random string that is written in to this file. this string has no length and yes I can ony write to '"
      ]
     },
     "execution_count": 10,
     "metadata": {},
     "output_type": "execute_result"
    }
   ],
   "source": [
    "file = open(\"sample_5.txt\", \"r+\")\n",
    "file.readline()"
   ]
  },
  {
   "cell_type": "code",
   "execution_count": 11,
   "metadata": {},
   "outputs": [],
   "source": [
    "file.close()"
   ]
  },
  {
   "cell_type": "markdown",
   "metadata": {},
   "source": [
    "# What Is `readlines()`?"
   ]
  },
  {
   "cell_type": "code",
   "execution_count": 12,
   "metadata": {},
   "outputs": [
    {
     "data": {
      "text/plain": [
       "['Line1\\n', 'Line2\\n', 'Line3\\n']"
      ]
     },
     "execution_count": 12,
     "metadata": {},
     "output_type": "execute_result"
    }
   ],
   "source": [
    "file = open(\"sample_6.txt\", \"r+\")\n",
    "file.readlines() \n",
    "# reads all the content of a given file and puts them into a Python list."
   ]
  },
  {
   "cell_type": "code",
   "execution_count": 13,
   "metadata": {},
   "outputs": [],
   "source": [
    "file.close()"
   ]
  },
  {
   "cell_type": "markdown",
   "metadata": {},
   "source": [
    "# How To Print Data Line-By-Line A Line?"
   ]
  },
  {
   "cell_type": "code",
   "execution_count": 14,
   "metadata": {},
   "outputs": [
    {
     "name": "stdout",
     "output_type": "stream",
     "text": [
      "Line1\n",
      "Line2\n",
      "Line3\n"
     ]
    }
   ],
   "source": [
    "file = open(\"sample_6.txt\", \"r+\")\n",
    "for i in file.readlines():\n",
    "\tprint(i, end = \"\")\n",
    "file.close()\n",
    "# There is a problem with the above logic. The problem is with the size of RAM."
   ]
  },
  {
   "cell_type": "markdown",
   "metadata": {},
   "source": [
    "# What If The File Contains 10GB Of Data?"
   ]
  },
  {
   "cell_type": "code",
   "execution_count": 15,
   "metadata": {},
   "outputs": [
    {
     "name": "stdout",
     "output_type": "stream",
     "text": [
      "Line1\n",
      "\n",
      "Line2\n",
      "\n",
      "Line3\n",
      "\n"
     ]
    }
   ],
   "source": [
    "file = open(\"sample_6.txt\", \"r+\")\n",
    "buffer = file.readline()\n",
    "while buffer:\n",
    "\tprint(buffer)\n",
    "\tbuffer = file.readline()\n",
    "file.close()"
   ]
  },
  {
   "cell_type": "code",
   "execution_count": 16,
   "metadata": {},
   "outputs": [
    {
     "name": "stdout",
     "output_type": "stream",
     "text": [
      "Line2\n",
      "Line3\n",
      "\n"
     ]
    }
   ],
   "source": [
    "file = open(\"sample_6.txt\", \"r+\")\n",
    "buffer = file.readline()\n",
    "while True:\n",
    "\tchunk = file.read(50)\n",
    "\tif not chunk:\n",
    "\t\tbreak\n",
    "\tprint(chunk)\n",
    "file.close()"
   ]
  },
  {
   "cell_type": "markdown",
   "metadata": {},
   "source": [
    "# How To Move The Cursor In The File?"
   ]
  },
  {
   "cell_type": "code",
   "execution_count": 17,
   "metadata": {},
   "outputs": [
    {
     "data": {
      "text/plain": [
       "'Hi, this a random string that is written in to this file. this string has no length and yes I can ony write to '"
      ]
     },
     "execution_count": 17,
     "metadata": {},
     "output_type": "execute_result"
    }
   ],
   "source": [
    "file = open(\"sample_5.txt\", \"r+\")\n",
    "file.read()"
   ]
  },
  {
   "cell_type": "code",
   "execution_count": 18,
   "metadata": {},
   "outputs": [
    {
     "data": {
      "text/plain": [
       "''"
      ]
     },
     "execution_count": 18,
     "metadata": {},
     "output_type": "execute_result"
    }
   ],
   "source": [
    "file.read()"
   ]
  },
  {
   "cell_type": "code",
   "execution_count": 19,
   "metadata": {},
   "outputs": [
    {
     "data": {
      "text/plain": [
       "'Hi, this a random string that is written in to this file. this string has no length and yes I can ony write to '"
      ]
     },
     "execution_count": 19,
     "metadata": {},
     "output_type": "execute_result"
    }
   ],
   "source": [
    "file.seek(0)\n",
    "file.read()"
   ]
  },
  {
   "cell_type": "code",
   "execution_count": 20,
   "metadata": {},
   "outputs": [
    {
     "data": {
      "text/plain": [
       "' random string that is written in to this file. this string has no length and yes I can ony write to '"
      ]
     },
     "execution_count": 20,
     "metadata": {},
     "output_type": "execute_result"
    }
   ],
   "source": [
    "file.seek(10)\n",
    "file.read()"
   ]
  },
  {
   "cell_type": "code",
   "execution_count": 21,
   "metadata": {},
   "outputs": [],
   "source": [
    "file.close()"
   ]
  },
  {
   "cell_type": "markdown",
   "metadata": {},
   "source": [
    "# Is There A Smarter Way Of Opening Files?"
   ]
  },
  {
   "cell_type": "code",
   "execution_count": 22,
   "metadata": {},
   "outputs": [
    {
     "name": "stdout",
     "output_type": "stream",
     "text": [
      "Hi, this a\n"
     ]
    },
    {
     "ename": "TypeError",
     "evalue": "seek expected at least 1 argument, got 0",
     "output_type": "error",
     "traceback": [
      "\u001b[0;31m---------------------------------------------------------------------------\u001b[0m",
      "\u001b[0;31mTypeError\u001b[0m                                 Traceback (most recent call last)",
      "Cell \u001b[0;32mIn[22], line 3\u001b[0m\n\u001b[1;32m      1\u001b[0m \u001b[38;5;28;01mwith\u001b[39;00m \u001b[38;5;28mopen\u001b[39m(\u001b[38;5;124m\"\u001b[39m\u001b[38;5;124msample_5.txt\u001b[39m\u001b[38;5;124m\"\u001b[39m) \u001b[38;5;28;01mas\u001b[39;00m file:\n\u001b[1;32m      2\u001b[0m \t\u001b[38;5;28mprint\u001b[39m(file\u001b[38;5;241m.\u001b[39mread(\u001b[38;5;241m10\u001b[39m))\n\u001b[0;32m----> 3\u001b[0m \t\u001b[43mfile\u001b[49m\u001b[38;5;241;43m.\u001b[39;49m\u001b[43mseek\u001b[49m\u001b[43m(\u001b[49m\u001b[43m)\u001b[49m \u001b[38;5;66;03m# TypeError, seek() expects 1 argument, none was provided\u001b[39;00m\n\u001b[1;32m      4\u001b[0m \t\u001b[38;5;28mprint\u001b[39m(file\u001b[38;5;241m.\u001b[39mread(\u001b[38;5;241m20\u001b[39m))\n",
      "\u001b[0;31mTypeError\u001b[0m: seek expected at least 1 argument, got 0"
     ]
    }
   ],
   "source": [
    "with open(\"sample_5.txt\") as file:\n",
    "\tprint(file.read(10))\n",
    "\tfile.seek() # TypeError, seek() expects 1 argument, none was provided\n",
    "\tprint(file.read(20))"
   ]
  },
  {
   "cell_type": "code",
   "execution_count": 23,
   "metadata": {},
   "outputs": [
    {
     "name": "stdout",
     "output_type": "stream",
     "text": [
      "Hi, this a\n",
      "Hi, this a random st\n"
     ]
    }
   ],
   "source": [
    "with open(\"sample_5.txt\") as file:\n",
    "\tprint(file.read(10))\n",
    "\tfile.seek(0)\n",
    "\tprint(file.read(20))"
   ]
  },
  {
   "cell_type": "markdown",
   "metadata": {},
   "source": [
    "After this block finishes its execution the file is closed automatically."
   ]
  },
  {
   "cell_type": "markdown",
   "metadata": {},
   "source": [
    "# How To Append To A File?\n",
    "```Python\n",
    "# syntax\n",
    "file = open(\"file_name.ext\", \"mode\")\n",
    "```"
   ]
  },
  {
   "cell_type": "markdown",
   "metadata": {},
   "source": [
    "# How To Work With Binary Files?\n",
    "```Python\n",
    "file1 = open(\"<filename>\", \"rb+\")\n",
    "file2 = open(\"<filename_cp>\", \"wb+\")\n",
    "while True:\n",
    "\tchunk = file1.read(50)\n",
    "\tif not chunk:\n",
    "\t\tbreak\n",
    "\tfile2.write(chunk)\n",
    "file1.close()\n",
    "file2.close()\n",
    "```"
   ]
  }
 ],
 "metadata": {
  "kernelspec": {
   "display_name": "Python 3",
   "language": "python",
   "name": "python3"
  },
  "language_info": {
   "codemirror_mode": {
    "name": "ipython",
    "version": 3
   },
   "file_extension": ".py",
   "mimetype": "text/x-python",
   "name": "python",
   "nbconvert_exporter": "python",
   "pygments_lexer": "ipython3",
   "version": "3.11.9"
  }
 },
 "nbformat": 4,
 "nbformat_minor": 2
}
