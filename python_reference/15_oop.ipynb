{
 "cells": [
  {
   "cell_type": "markdown",
   "metadata": {},
   "source": [
    "# OOP\n",
    "There are 2 popular approaches towards programming,\n",
    "1. Functional, and,\n",
    "2. Object oriented.\n",
    "\n",
    "Object Oriented Programming (OOP) is a programming paradigm (an example, or rather one of many approaches to programming). OOP in principle is fairly simple. Everything is an object in Python, this is because, Python inherently follows OOP (meaning, it is built around OOP). There are 2 aspects to OOP,\n",
    "1. Class: Class defines the blueprint that an object can or will have.\n",
    "2. Object: Object is an instance of a class.\n",
    "\n",
    "Every object that is created from a particular class is an instance of that class alone. For example, \n",
    "- `Car` is blueprint and `Mini Cooper` is an object of that class. Meaning, `Mini Cooper` is an instance of the `Car` class.\n",
    "- `5` is an object of the class `int`, `5` is also an instance of the class `int`.\n",
    "\n",
    "Take strings for example, a lot of \"actions\" can be performed on strings (concatenate, split, lowercase, uppercase, etc). For a class and object, collectively, there are actions (functions or more accurately methods) and properties (variables). When a blueprint is created, all the common properties related to every object will be defined in that class.\n",
    "\n",
    "For a class `Human`, height, weight, gender, etc are all properties (variable). Breathing, walking, eating, etc are all actions (methods)."
   ]
  },
  {
   "cell_type": "markdown",
   "metadata": {},
   "source": [
    "# Why OOP?\n",
    "[Refer this](15a_why_oop.ipynb)"
   ]
  },
  {
   "cell_type": "markdown",
   "metadata": {},
   "source": [
    "# How To Create A Class?\n",
    "A class in Python is created using the `class` keyword.\n",
    "\n",
    "```Python\n",
    "# syntax\n",
    "class ClassName:\n",
    "\tpass\n",
    "```"
   ]
  },
  {
   "cell_type": "code",
   "execution_count": 1,
   "metadata": {},
   "outputs": [],
   "source": [
    "# example\n",
    "class Student:\n",
    "    pass"
   ]
  },
  {
   "cell_type": "markdown",
   "metadata": {},
   "source": [
    "# How To Instantiate A Class (Creating An Object Of A Class)?\n",
    "Instantiating a class involves creating an object of that class. If a class is expected to be instantiated with a couple of attributes, then those attributes have to be passed as arguments while the object is created."
   ]
  },
  {
   "cell_type": "code",
   "execution_count": 2,
   "metadata": {},
   "outputs": [],
   "source": [
    "# example demonstrating simple instantiation\n",
    "class Student:\n",
    "\tpass\n",
    "\n",
    "s1 = Student() # class instantiation, s1 is an object of Student class"
   ]
  },
  {
   "cell_type": "code",
   "execution_count": 3,
   "metadata": {},
   "outputs": [],
   "source": [
    "# example showing instantiating a class with attributes\n",
    "class Person:\n",
    "    def __init__(self, name, age):\n",
    "        self.name = name\n",
    "        self.age = age\n",
    "\n",
    "\n",
    "person1 = Person(\"Alison\", 25)\n",
    "person2 = Person(\"Mark\", 22)"
   ]
  },
  {
   "cell_type": "markdown",
   "metadata": {},
   "source": [
    "# What Does Instantiating A Class Mean?\n",
    "Instantiating a class means creating an object (or instance) of that class. In object-oriented programming, classes serve as blueprints or templates for creating objects. When a class is instantiated, a specific instance of that class is created and this instance will have the attributes and behaviors defined by the class.\n",
    "\n",
    "The process of instantiating a class typically involves the following steps,\n",
    "1. Class definition: First, a class is defined. The class serves as a blueprint, specifying the structure and behavior of objects to be created from it. This includes defining attributes (data) and methods (functions).\n",
    "2. Object creation: To create an instance of the class, the class name followed by parenthesis is used. This is called object creation or instantiation. Instantiation allocates memory for the object and sets up its initial state based on the class's constructor (usually the `__init__` method in Python). Meaning, if the class is expected to be instantiated with certain attributes, then those attributes have to be passed while the object is being created.\n",
    "3. Accessing attributes and methods: Once the object is created, its attributes can be accessed and its methods can be called as defined in the class. Each object will have its own set of data but shares the same methods and behaviors defined by the class."
   ]
  },
  {
   "cell_type": "code",
   "execution_count": 4,
   "metadata": {},
   "outputs": [
    {
     "name": "stdout",
     "output_type": "stream",
     "text": [
      "Alice\n",
      "30\n"
     ]
    }
   ],
   "source": [
    "# define a class called 'Person'\n",
    "class Person:\n",
    "    def __init__(self, name, age):\n",
    "        self.name = name\n",
    "        self.age = age\n",
    "\n",
    "# instantiate (create) an object of the 'Person' class\n",
    "person1 = Person(\"Alice\", 30)\n",
    "\n",
    "# Access attributes and methods of the 'person1' object\n",
    "print(person1.name)  # Access the 'name' attribute\n",
    "print(person1.age)   # Access the 'age' attribute"
   ]
  },
  {
   "cell_type": "markdown",
   "metadata": {},
   "source": [
    "Instantiating a class is a fundamental concept in OOP, as it allows the creation of specific instances of object that share common characteristics and behaviors defined by the class."
   ]
  },
  {
   "cell_type": "markdown",
   "metadata": {},
   "source": [
    "# What Does \"An Object Is An Instance Of A Class\" Mean?\n",
    "In OOP, the concept of an object and a class are fundamental. The following describes the statement \"an object is an instance of a class\",\n",
    "1. Class: A class is a blueprint or template for creating objects. It defines the structure and behavior that objects of the class will have. It specifies what attributes (data) and methods (function) an object of that class can have. There can be multiple such objects.\n",
    "2. Object: An object is a specific instance created from a class. It represents a real-world entity and contains data and methods as defined by the class. Objects are the actual data structures that are used to work within the code.\n",
    "\n",
    "So, the statement \"an object is an instance of a class\", means that an object is created based on the blueprint given by a class.\n",
    "\n",
    "In simple words,\n",
    "- A class defines the structure and behavior an object can exhibit.\n",
    "- An object is an actual instance with that structure and behavior.\n",
    "\n",
    "Consider the following example,"
   ]
  },
  {
   "cell_type": "code",
   "execution_count": 5,
   "metadata": {},
   "outputs": [],
   "source": [
    "# define a class called 'Person'\n",
    "class Person:\n",
    "    def __init__(self, name, age):\n",
    "        self.name = name\n",
    "        self.age = age\n",
    "\n",
    "# Create two objects (instances) of the 'Person' class\n",
    "person1 = Person(\"Alice\", 30)\n",
    "person2 = Person(\"Bob\", 25)\n",
    "\n",
    "# 'person1' and 'person2' are objects (instances) of the 'Person' class"
   ]
  },
  {
   "cell_type": "markdown",
   "metadata": {},
   "source": [
    "In the above example, `Person` is a class, `person1` and `person2` are objects created from that class. Each object (in this case, a person) has its own `name` and `age` attributes, but they share the same structure and behavior defined in the `Person` class. This demonstrates the concept of \"an object is an instance of a class\"."
   ]
  },
  {
   "cell_type": "markdown",
   "metadata": {},
   "source": [
    "# `self`\n",
    "In OOP, `self` is a reference to the current instance of a class. It is used within the methods of a class to access and modify the attributes and methods of that instance.\n",
    "\n",
    "`self` is passed explicitly as the first parameter to the methods of a class. When calling a method on an object, the object itself is implicitly passed as the first argument and `self` is used to reference that object within the method definition."
   ]
  },
  {
   "cell_type": "code",
   "execution_count": 6,
   "metadata": {},
   "outputs": [
    {
     "name": "stdout",
     "output_type": "stream",
     "text": [
      "5\n"
     ]
    }
   ],
   "source": [
    "# example\n",
    "class MyClass:\n",
    "    def __init__(self, x):\n",
    "        self.x = x  # Assigning the value of x to the attribute of the instance\n",
    "        \n",
    "    def print_x(self):\n",
    "        print(self.x)  # Accessing the attribute of the instance using self\n",
    "\n",
    "# Creating an instance of MyClass\n",
    "obj = MyClass(5)\n",
    "\n",
    "# Calling the print_x method on the instance\n",
    "obj.print_x()  # This will print 5"
   ]
  },
  {
   "cell_type": "markdown",
   "metadata": {},
   "source": [
    "In this example, `self.x` refers to the `x` attribute of the current instance of `MyClass`. When the `print_x()` method is called on an instance of `MyClass`, `self` refers to that instance, allowing access to its attributes and methods."
   ]
  },
  {
   "cell_type": "code",
   "execution_count": 7,
   "metadata": {},
   "outputs": [
    {
     "name": "stdout",
     "output_type": "stream",
     "text": [
      "4571747472\n",
      "4571747472\n"
     ]
    }
   ],
   "source": [
    "class Student:\n",
    "\tdef __init__(self):\n",
    "\t\tprint(id(self))\n",
    "\n",
    "s1 = Student()\n",
    "print(id(s1))"
   ]
  },
  {
   "cell_type": "markdown",
   "metadata": {},
   "source": [
    "Therefore, `self` in OOP is nothing but a reference to the current object. `self` is a customary first argument in every function that is created inside a class. It gives the id of the object that is currently trying to interact with the class.\n",
    "\n",
    "The current object gets automatically passed as an argument when the class is called. `Student.__init__(s1)` is what actually was called internally.\n",
    "\n",
    "`self` is just a name of the argument and a name can be anything. Call to itself as `self` is only a practice, not a compulsion.\n",
    "\n",
    "The first argument is always `self`."
   ]
  },
  {
   "cell_type": "markdown",
   "metadata": {},
   "source": [
    "# Is `self` A Default Attribute?\n",
    "In Python, `self` is not a default attribute, but rather a conventional name for the first parameter of instance methods in a class. The use of `self` as the first parameter in a method is a naming convention that helps to reference the instance on which the method is being called.\n",
    "\n",
    "When a method is defined within a class and `self` is included as the first parameter, it instructs Python's interpreter that this method should operate on the instance of the class and the object's attributes and methods can be accessed using `self`."
   ]
  },
  {
   "cell_type": "markdown",
   "metadata": {},
   "source": [
    "# Why Is `self` Not Declared As A Variable In `__init__()`?\n",
    "In Python, `self` is not explicitly declared as a variable in the `__init__()` method. It is automatically passed as the first parameter to instance methods within a class. The use of `self` in Python's classes is part of the language's object-oriented programming conventions.\n",
    "\n",
    "Here's why `self` is not explicitly declared,\n",
    "1. Convention: In Python, it's a convention (a practice and not a requirement) to name the first parameter of instance methods as `self`. However, it can also be named anything else.\n",
    "2. Automatic binding: When an instance method is called on an object, Python automatically binds the instance (the object itself) to the `self` parameter. This allows to access the object's attributes and methods within the class, making it clear which instance is being worked with."
   ]
  },
  {
   "cell_type": "markdown",
   "metadata": {},
   "source": [
    "# How To Create A Custom (Instance) Variable?"
   ]
  },
  {
   "cell_type": "code",
   "execution_count": 8,
   "metadata": {},
   "outputs": [
    {
     "name": "stdout",
     "output_type": "stream",
     "text": [
      "<class '__main__.Student'>\n",
      "<class '__main__.Student'>\n"
     ]
    }
   ],
   "source": [
    "class Student:\n",
    "\tpass\n",
    "\n",
    "s1 = Student()\n",
    "s2 = Student()\n",
    "\n",
    "print(type(s1))\n",
    "print(type(s2))\n",
    "\n",
    "s1.name = \"Kimi\" # Custom property"
   ]
  },
  {
   "cell_type": "markdown",
   "metadata": {},
   "source": [
    "# Class Method\n",
    "Class methods are special methods that are bound to the class itself rather than an instance of the class. They are defined using the `@classmethod` decorator and typically take the class itself as the first argument, conventionally named `cls`.\n",
    "\n",
    "### Key aspects\n",
    "1. Operate on the class: Class methods are defined at the class level and operate on class-level data and attributes. They do not access or modify instance-specific attributes. These methods are more concerned with class-wide behaviors and operations.\n",
    "2. `@classmethod` decorator: To define a class method, the `@classmethod` decorator is used before the method definition. This decorator indicates that the method is a class method and it should take a reference to the class itself as its first parameter, commonly named `cls` (short for class).\n",
    "3. Access to class attributes: Inside a class method, the class attributes (variables) can be accessed and operations can be performed on them. Class attributes are shared among all instances of the class and are accessible using `cls.class_attribute_name`.\n",
    "4. Common tasks: Class methods are often used for tasks that involve the class as a whole. This can include creating instances with specific characteristics or performing class-wide operations, such as maintaining counters or configuring class-level settings.\n",
    "5. Invocation: Class methods are invoked on the class itself, rather than on instances. To call a class method, the class name followed by the method name should be used, like `MyClass.class_method()`.\n",
    "6. Customization: Class methods can accept additional arguments beyond `cls`, which allows to pass data or customize their behavior. These additional arguments can be used for various purposes."
   ]
  },
  {
   "cell_type": "markdown",
   "metadata": {},
   "source": [
    "### Example"
   ]
  },
  {
   "cell_type": "code",
   "execution_count": 9,
   "metadata": {},
   "outputs": [
    {
     "name": "stdout",
     "output_type": "stream",
     "text": [
      "Total dogs: 2\n"
     ]
    }
   ],
   "source": [
    "class Dog:\n",
    "    # Class-level attribute\n",
    "    total_dogs = 0\n",
    "\n",
    "    def __init__(self, name):\n",
    "        self.name = name\n",
    "        Dog.total_dogs += 1\n",
    "\n",
    "    @classmethod\n",
    "    def create_puppy(cls, name):\n",
    "        # Create a puppy with a specific name\n",
    "        return cls(name)\n",
    "\n",
    "    @classmethod\n",
    "    def get_total_dogs(cls):\n",
    "        # Get the total number of dogs created\n",
    "        return cls.total_dogs\n",
    "\n",
    "# Creating instances and calling a class method\n",
    "dog1 = Dog(\"Buddy\")\n",
    "dog2 = Dog.create_puppy(\"Rex\")\n",
    "\n",
    "# Calling another class method to get the total number of dogs\n",
    "total_dogs = Dog.get_total_dogs()\n",
    "\n",
    "print(f\"Total dogs: {total_dogs}\")  # Output: \"Total dogs: 2\""
   ]
  },
  {
   "cell_type": "markdown",
   "metadata": {},
   "source": [
    "In this example, the `Dog` class has a class method `create_puppy()` for creating instances with a specific behavior. The class method `get_total_dogs()` is used to retrieve the total number of dogs created, a class-level attribute. Class methods are invoked on the class itself and are useful for tasks that pertain to the class as a whole."
   ]
  },
  {
   "cell_type": "markdown",
   "metadata": {},
   "source": [
    "# Class Variable\n",
    "A class variable, also known as a class attribute, is a variable that belongs to a class rather than a specific instance (object) of the class. Unlike instance variables, which are unique to each object, class variables are shared among all instances of a class. These variables store data that is common to entire class and its instances. Class variables are defined at the class level and not within the methods of the class.\n",
    "\n",
    "### Key aspects\n",
    "1. Shared among instances: Class variables are shared by all instances of a class. This means that changes made to a class variable are reflected in all instances that belong to that class.\n",
    "2. Defined at class level: Class variables are defined within the class itself, typically outside of any method. They are not associated with specific instances and are accessible using the class name itself.\n",
    "3. Accessed via class or instances: Class variables can be accessed using either the class name or instances of the class. However, it is more common to access them through the class name to emphasize that they are shared among all instances.\n",
    "4. Common data: Class variables are used to store common data that that is relevant to the entire class. For example, in a class defining a `Circle`, a class variable may store the mathematical constant $\\pi$ because it is the same for all circles.\n",
    "5. Initialization: Class variables are typically initialized at the class level and their initial values are consistent across all instances. They do not require a constructor or `__init__` method to be set up.\n",
    "6. Scope: The scope of a class variable is the entire class and its instances. It can be accessed by any instance of the class and is shared across all objects of that class."
   ]
  },
  {
   "cell_type": "markdown",
   "metadata": {},
   "source": [
    "### Example"
   ]
  },
  {
   "cell_type": "code",
   "execution_count": 10,
   "metadata": {},
   "outputs": [
    {
     "name": "stdout",
     "output_type": "stream",
     "text": [
      "3.14159265359\n",
      "3.14159265359\n",
      "78.53981633975\n"
     ]
    }
   ],
   "source": [
    "class Circle:\n",
    "    # Class variable for the mathematical constant π (pi)\n",
    "    pi = 3.14159265359\n",
    "\n",
    "    def __init__(self, radius):\n",
    "        self.radius = radius  # Instance variable for the circle's radius\n",
    "\n",
    "    def area(self):\n",
    "        return Circle.pi * (self.radius ** 2)\n",
    "\n",
    "# Creating two circle objects with different radii\n",
    "circle1 = Circle(5)\n",
    "circle2 = Circle(3)\n",
    "\n",
    "# Accessing the class variable using the class name\n",
    "print(Circle.pi)  # Output: 3.14159265359\n",
    "\n",
    "# Accessing the class variable using an instance (not recommended)\n",
    "print(circle1.pi)  # Output: 3.14159265359\n",
    "\n",
    "# Calling a method that uses the class variable\n",
    "print(circle1.area())  # Output: 78.539816339745"
   ]
  },
  {
   "cell_type": "markdown",
   "metadata": {},
   "source": [
    "In this example, the $\\pi$ class variable is shared among all instances of the `Circle` class and is used to calculate the area of circles created from the class. The class variable $\\pi$ is accessed using the class name `Circle` or through an instance like `circle1`."
   ]
  },
  {
   "cell_type": "markdown",
   "metadata": {},
   "source": [
    "# Instance Method\n",
    "An instance method is a method associated with an instance of a class. These methods are typically defined within a class and operate on the instance's data, allowing to perform operations and manipulate the attribute specific to each instance. Instance methods are the most common type of methods in Python classes.\n",
    "\n",
    "### Key aspects\n",
    "1. Operate on instances: Instance methods are designed to operate on the attributes and data associated with a particular instance of a class. They can access and modify instance-specific data, making them the primary way to interact with an object's state.\n",
    "2. `self`: An instance method always takes the `self` parameter as its first argument, which refers to the instance on which the method is called. It is a reference to the instance and allows to access and modify its attributes.\n",
    "3. Access to instance attributes: Inside an instance method, instance attributes can be accessed using the `self` reference. For example, `self.attribute_name` is used to access and modify attributes specific to the instance.\n",
    "4. Common tasks: Instance methods are used to define the behaviors of objects and they often encapsulate operations related to the object's state and behavior. They can perform calculations, update instance attributes or interact with other objects.\n",
    "5. Invocation: Instance methods are invoked on instances of a class using the dot notation. For example, if there is an instance, `my_instance` of a class `MyClass`, instance method can be called using `my_instance.method_name()`. The `self` parameter is implicitly passed, so it should not be included when calling the method.\n",
    "6. Customization: Instance methods can accept additional arguments beyond `self`, allowing to pass data to the method for processing. These additional arguments can be used to customize the behavior of the method."
   ]
  },
  {
   "cell_type": "markdown",
   "metadata": {},
   "source": [
    "### Example"
   ]
  },
  {
   "cell_type": "code",
   "execution_count": 11,
   "metadata": {},
   "outputs": [
    {
     "name": "stdout",
     "output_type": "stream",
     "text": [
      "Area: 15\n",
      "Perimeter: 16\n"
     ]
    }
   ],
   "source": [
    "class Rectangle:\n",
    "    def __init__(self, width, height):\n",
    "        self.width = width\n",
    "        self.height = height\n",
    "\n",
    "    def area(self):\n",
    "        return self.width * self.height\n",
    "\n",
    "    def perimeter(self):\n",
    "        return 2 * (self.width + self.height)\n",
    "\n",
    "# Creating an instance of the class with specific dimensions\n",
    "rectangle = Rectangle(5, 3)\n",
    "\n",
    "# Calling instance methods to calculate area and perimeter\n",
    "area = rectangle.area()\n",
    "perimeter = rectangle.perimeter()\n",
    "\n",
    "print(f\"Area: {area}\")         # Output: \"Area: 15\"\n",
    "print(f\"Perimeter: {perimeter}\") # Output: \"Perimeter: 16\""
   ]
  },
  {
   "cell_type": "markdown",
   "metadata": {},
   "source": [
    "In the above example, the `Rectangle` class has 2 instance methods, `area()` and `perimeter()`, which operate on the instance-specific attributes width and height. These methods calculate the area and perimeter of a rectangle created from the class. When the methods are called on an instance, they use the instance's attributes to perform the calculations. Instance methods are an essential part of encapsulating an object's behavior within a class."
   ]
  },
  {
   "cell_type": "markdown",
   "metadata": {},
   "source": [
    "# Instance Variable\n",
    "An instance variable, also known as an instance attribute, is a variable that belongs to a specific instance (object) of a class in OOP. These variables store data that is unique to each instance and are distinct from class variables, which are shared among all instances of a class. Instance variables are used to store and manage object-specific data and are defined within the methods of a class.\n",
    "\n",
    "### Key aspects\n",
    "1. Uniqueness: Each instance of a class has its own set of instance variables, which means that the data stored in these variables can vary from one object to another. These variables are associated with the specific instance to which they belong.\n",
    "2. Defined in methods: Instance variables are typically defined within the methods (especially the constructor or `__init__()` method) of a class. When an object is created, the constructor is responsible for initializing the instance variables with their initial values.\n",
    "3. Accessed via `self`: In most object-oriented programming languages, including Python, instance variables are accessed and manipulated using the `self` keyword, which refers to the current instance. For example, `self.variable_name` is used to access and modify an instance variable.\n",
    "4. Data storage: Instance variables are used to store and manage data specific to an object. For example, in a class representing `Person`, instance variables may include `name`, `age` and `address`, each holding data specific to an individual person.\n",
    "5. Object's state: Instance variables contribute to defining the state of an object. The combination of values stored in these variables characterizes the object's unique attributes.\n",
    "6. Scope: The scope of an instance variable is limited to the specific instance to which it belongs. It cannot be accessed directly from other instances or outside the class unless it is defined as a public attribute."
   ]
  },
  {
   "cell_type": "markdown",
   "metadata": {},
   "source": [
    "### Example"
   ]
  },
  {
   "cell_type": "code",
   "execution_count": 12,
   "metadata": {},
   "outputs": [
    {
     "name": "stdout",
     "output_type": "stream",
     "text": [
      "Alice\n",
      "25\n",
      "My name is Alice and I am 30 years old.\n"
     ]
    }
   ],
   "source": [
    "class Person:\n",
    "    def __init__(self, name, age):\n",
    "        self.name = name  # Instance variable for name\n",
    "        self.age = age    # Instance variable for age\n",
    "\n",
    "    def introduce(self):\n",
    "        return f\"My name is {self.name} and I am {self.age} years old.\"\n",
    "\n",
    "# Creating two person objects with different data\n",
    "person1 = Person(\"Alice\", 30)\n",
    "person2 = Person(\"Bob\", 25)\n",
    "\n",
    "# Accessing instance variables via the objects\n",
    "print(person1.name)  # Output: \"Alice\"\n",
    "print(person2.age)   # Output: 25\n",
    "\n",
    "# Calling a method that uses instance variables\n",
    "print(person1.introduce())  # Output: \"My name is Alice and I am 30 years old.\""
   ]
  },
  {
   "cell_type": "markdown",
   "metadata": {},
   "source": [
    "In the above example, the `name` and `age` instance variables store unique data for each `Person` object. Each object created from the `Person` class has its own set of instance variables, making them distinct from each other. These instance variables define the individual characteristics of each `person` object."
   ]
  },
  {
   "cell_type": "markdown",
   "metadata": {},
   "source": [
    "# Python Object Life Cycle\n",
    "As soon as the object is instantiated, the first method that is (automatically) called is the `__init__()` method.\n",
    "\n",
    "The last method that gets automatically called is when the object is removed from the memory is the `__del__()` method.\n",
    "\n",
    "Between these 2 methods, the object remains in the memory. During this time, Python has other special methods called as dunders (double underscores) that are applied on the object."
   ]
  },
  {
   "cell_type": "markdown",
   "metadata": {},
   "source": [
    "# Constructor\n",
    "The job of a constructor in theory is allocation of memory. `__init__()` is not a pure constructor in Python. So it is a constructor from a initialization point, but not from memory allocation point."
   ]
  },
  {
   "cell_type": "markdown",
   "metadata": {},
   "source": [
    "# Destructor\n",
    "The job of a destructor is to clear the allocated memory to an object or an entity."
   ]
  },
  {
   "cell_type": "markdown",
   "metadata": {},
   "source": [
    "# `__init__()`\n",
    "The `__init__()` method, also known as the constructor, is special method in Python classes. It is automatically called when an instance of the class is created. The primary purpose of the `__init__()` method is to initialize the attributes (or instance variables) of the class, setting their initial values for each instance.\n",
    "\n",
    "### Key aspects\n",
    "1. Initialization: The `__init__()` method is used to initialize the attributes or instance variables of an object. It allows to define the initial state or properties of an object when it is created.\n",
    "2. Automatically called: The `__init__()` method is automatically called when an instance of a class is created using the class' name followed by the parentheses. For example, `my_instance = MyClass()` will trigger the `__init__()` method of `MyClass`.\n",
    "3. `self` parameter: The `self` parameter is the first parameter of the `__init__()` method and it refers to the instance being created. It is a convention to use the name `self`, however, any other name can be used in its stead. Within the method, `self` is used to access and set the instance's attributes.\n",
    "4. Attributes initialization: Inside the `__init__()` method, the instance variables can be initialized by assigning values to `self.attribute_name`. These attributes can be accessed and modified using the dot notation (e.g., `self.name`).\n",
    "5. Customization: The `__init__()` method can be customized to accept additional arguments beyond `self`, which can be used to set the initial values of specific attributes based on user inputs or other parameters.\n",
    "\n",
    "### Example"
   ]
  },
  {
   "cell_type": "code",
   "execution_count": 13,
   "metadata": {},
   "outputs": [
    {
     "name": "stdout",
     "output_type": "stream",
     "text": [
      "Alice\n",
      "25\n"
     ]
    }
   ],
   "source": [
    "class Person:\n",
    "    def __init__(self, name, age):\n",
    "        self.name = name  # Initialize the 'name' attribute\n",
    "        self.age = age    # Initialize the 'age' attribute\n",
    "\n",
    "# Creating instances of the class with attribute initialization\n",
    "person1 = Person(\"Alice\", 30)\n",
    "person2 = Person(\"Bob\", 25)\n",
    "\n",
    "# Accessing the attributes of the instances\n",
    "print(person1.name)  # Output: \"Alice\"\n",
    "print(person2.age)   # Output: 25"
   ]
  },
  {
   "cell_type": "markdown",
   "metadata": {},
   "source": [
    "In this example, the `__init__()` method of the `Person` class accepts 2 arguments, `name` and `age`, and then initializes the `name` and `age` attributes of each `Person` instance with the values provided when the instances are created. The `self` parameter is used to access and set the attributes of the instances. The `__init__()` method allows to set up the initial state of objects as they are created."
   ]
  },
  {
   "cell_type": "markdown",
   "metadata": {},
   "source": [
    "# Public, Private and Protected Properties (Variables)\n",
    "Public variable or property can be inherited and accessed. Private variable can neither be inherited nor be accessed. Protected variable can be inherited but cannot accessed.\n",
    "\n",
    "Every property that is created, is by default, a public property.\n",
    "\n",
    "A private property is not accessible by an object of a class, it is only accessible by methods in the class and they can be accessed within the class only.\n",
    "\n",
    "### How to create a private variable in Python?\n",
    "Use `__` (double underscores) before a variable name to create a private variable or property."
   ]
  },
  {
   "cell_type": "code",
   "execution_count": 14,
   "metadata": {},
   "outputs": [],
   "source": [
    "class BankAccount:\n",
    "\tdef __init__(self, initial_balance):\n",
    "\t\tself.__balance = initial_balance\n",
    "\tdef deposit(self, amount):\n",
    "\t\tself.__balance += amount # setter\n",
    "\tdef withdraw(self, amount):\n",
    "\t\tself.__balance -= amount # setter\n",
    "\tdef show_balance(self):\n",
    "\t\treturn self.__balance # getter"
   ]
  },
  {
   "cell_type": "code",
   "execution_count": 15,
   "metadata": {},
   "outputs": [
    {
     "name": "stdout",
     "output_type": "stream",
     "text": [
      "100000\n"
     ]
    }
   ],
   "source": [
    "b1 = BankAccount(100000)\n",
    "print(b1.show_balance())"
   ]
  },
  {
   "cell_type": "code",
   "execution_count": 16,
   "metadata": {},
   "outputs": [
    {
     "ename": "AttributeError",
     "evalue": "'BankAccount' object has no attribute '__balance'",
     "output_type": "error",
     "traceback": [
      "\u001b[0;31m---------------------------------------------------------------------------\u001b[0m",
      "\u001b[0;31mAttributeError\u001b[0m                            Traceback (most recent call last)",
      "Cell \u001b[0;32mIn[16], line 1\u001b[0m\n\u001b[0;32m----> 1\u001b[0m \u001b[38;5;28mprint\u001b[39m(\u001b[43mb1\u001b[49m\u001b[38;5;241;43m.\u001b[39;49m\u001b[43m__balance\u001b[49m) \u001b[38;5;66;03m# Error\u001b[39;00m\n",
      "\u001b[0;31mAttributeError\u001b[0m: 'BankAccount' object has no attribute '__balance'"
     ]
    }
   ],
   "source": [
    "print(b1.__balance) # Error"
   ]
  },
  {
   "cell_type": "code",
   "execution_count": 17,
   "metadata": {},
   "outputs": [
    {
     "name": "stdout",
     "output_type": "stream",
     "text": [
      "None\n",
      "120000\n",
      "None\n",
      "110000\n"
     ]
    }
   ],
   "source": [
    "print(b1.deposit(20000))\n",
    "print(b1.show_balance())\n",
    "\n",
    "print(b1.withdraw(10000))\n",
    "print(b1.show_balance())"
   ]
  },
  {
   "cell_type": "markdown",
   "metadata": {},
   "source": [
    "So in order to access the balance, another method can be created (show_balance). \n",
    "\n",
    "In scenarios where attributes are private, the functions or methods which can change or modify the value of the attributes are called setter methods.\n",
    "\n",
    "Similarly, the function or methods that fetch the values stored in a private property are called as getter methods.\n",
    "\n",
    "Protected properties or variables are useless and exist for no reason.\n",
    "\n",
    "### How does Python make private work?\n",
    "When the `__balance` variable was created, the Python actually never created a variable by this name. Instead, Python created it with the following name, `b1._BankAccount__balance`.\n",
    "\n",
    "So, whenever this variable is accessed inside the class it will be accessed using `_BankAccount__balance`. But when the same is being accessed from outside the class, the prefix (i.e., `_BankAccount`) is not added. So, that means, if the class name is known, the system can be hacked."
   ]
  },
  {
   "cell_type": "code",
   "execution_count": 18,
   "metadata": {},
   "outputs": [
    {
     "data": {
      "text/plain": [
       "['_BankAccount__balance',\n",
       " '__class__',\n",
       " '__delattr__',\n",
       " '__dict__',\n",
       " '__dir__',\n",
       " '__doc__',\n",
       " '__eq__',\n",
       " '__format__',\n",
       " '__ge__',\n",
       " '__getattribute__',\n",
       " '__getstate__',\n",
       " '__gt__',\n",
       " '__hash__',\n",
       " '__init__',\n",
       " '__init_subclass__',\n",
       " '__le__',\n",
       " '__lt__',\n",
       " '__module__',\n",
       " '__ne__',\n",
       " '__new__',\n",
       " '__reduce__',\n",
       " '__reduce_ex__',\n",
       " '__repr__',\n",
       " '__setattr__',\n",
       " '__sizeof__',\n",
       " '__str__',\n",
       " '__subclasshook__',\n",
       " '__weakref__',\n",
       " 'deposit',\n",
       " 'show_balance',\n",
       " 'withdraw']"
      ]
     },
     "execution_count": 18,
     "metadata": {},
     "output_type": "execute_result"
    }
   ],
   "source": [
    "b1._BankAccount__balance = 123456789098765432\n",
    "\n",
    "# should not happen, but it does,\n",
    "# value gets updated even though the property is private\n",
    "\n",
    "dir(b1)"
   ]
  },
  {
   "cell_type": "markdown",
   "metadata": {},
   "source": [
    "Google search: \"Name mangling\"."
   ]
  },
  {
   "cell_type": "markdown",
   "metadata": {},
   "source": [
    "# Inheritance\n",
    "Consider a class `Vehicle`, also, consider some other classes like, `Car`, `Bike`, `Airplane`, etc. All of these will have `seating_capacity`, `engine_type`, `fuel_type`, `number_of_wheels`, etc, as common properties. These classes may also have some specific properties as well.\n",
    "\n",
    "The common properties can be inherited from the class `Vehicle`.\n",
    "\n",
    "There are different types of inheritances,\n",
    "- Multiple inheritance.\n",
    "- Multi-level inheritance."
   ]
  },
  {
   "cell_type": "markdown",
   "metadata": {},
   "source": [
    "### How to apply inheritance in Python?"
   ]
  },
  {
   "cell_type": "code",
   "execution_count": 19,
   "metadata": {},
   "outputs": [
    {
     "name": "stdout",
     "output_type": "stream",
     "text": [
      "DSML\n",
      "Bipin\n",
      "1000000\n"
     ]
    }
   ],
   "source": [
    "class SchoolMember:\n",
    "\tdef __init__(self, name):\n",
    "\t\tself.name = name\n",
    "class Student(SchoolMember):\n",
    "\tdef __init__(self, name, roll_number):\n",
    "\t\tself.roll_number = roll_number\n",
    "\t\tSchoolMember.__init__(self, name)\n",
    "class Staff(SchoolMember):\n",
    "\tdef __init__(self, name, salary):\n",
    "\t\tself.salary = salary\n",
    "\t\tSchoolMember.__init__(self, name)\n",
    "class Teacher(Staff):\n",
    "\tdef __init__(self, name, salary, department):\n",
    "\t\tself.department = department\n",
    "\t\tStaff.__init__(self, name, salary)\n",
    "t1 = Teacher(\"Bipin\", 1000000, \"DSML\")\n",
    "# Here SchoolMember is the parent class and Student is the child class.\n",
    "print(t1.department)\n",
    "print(t1.name) # Error\n",
    "print(t1.salary) # Error\n",
    "# These errors were generated because, \n",
    "# the parent classes were not initialized.\n",
    "# This initialization has to be done manually. \n",
    "# Like so, SchoolMember.__init__(self, name)"
   ]
  },
  {
   "cell_type": "markdown",
   "metadata": {},
   "source": [
    "All of this requires to remember the name of the parent class and call the `__init__()` function each time in each of the child classes.\n",
    "\n",
    "The alternative to this is making use of `super()` and not include the self argument like so,"
   ]
  },
  {
   "cell_type": "code",
   "execution_count": 20,
   "metadata": {},
   "outputs": [],
   "source": [
    "class SchoolMember:\n",
    "\tdef __init__(self, name):\n",
    "\t\tself.name = name\n",
    "\t\t\n",
    "class Student(SchoolMember):\n",
    "\tdef __init__(self, name, roll_number):\n",
    "\t\tself.roll_number = roll_number\n",
    "\t\tsuper.__init__(name)\n",
    "\t\t\n",
    "class Staff(SchoolMember):\n",
    "\tdef __init__(self, name, salary):\n",
    "\t\tself.salary = salary\n",
    "\t\tsuper().__init__(name)\n",
    "\t\t\n",
    "class Teacher(Staff):\n",
    "\tdef __init__(self, name, salary, department):\n",
    "\t\tself.department = department\n",
    "\t\tsuper().__init__(name, salary)"
   ]
  },
  {
   "cell_type": "markdown",
   "metadata": {},
   "source": [
    "So `super()` is a reference to the immediate parent class.\n",
    "\n",
    "Inheritance happens top-down, but the information goes bottom-top."
   ]
  },
  {
   "cell_type": "markdown",
   "metadata": {},
   "source": [
    "### How does inheritance work for private variables?\n",
    "Private variables and methods are not inherited."
   ]
  },
  {
   "cell_type": "markdown",
   "metadata": {},
   "source": [
    "### Multiple inheritance\n",
    "In multiple inheritance the child class will inherit properties from 2 or more parent classes.\n",
    "\n",
    "Consider,"
   ]
  },
  {
   "cell_type": "code",
   "execution_count": 21,
   "metadata": {},
   "outputs": [],
   "source": [
    "class Father:\n",
    "\tdef __init__(self, x):\n",
    "\t\tself.x = x\n",
    "class Mother:\n",
    "\tdef __init__(self, y):\n",
    "\t\tself.y = y\n",
    "class Child(Father, Mother):\n",
    "\tdef __init__(self, x, y, z):\n",
    "\t\tself.z = z\n",
    "\t\tMother.__init__(self, y)\n",
    "\t\tFather.__init__(self, x)\n",
    "\t\t# super() will not work as expected.\n",
    "\t\t# There is a way to do the initializing using super() as well. (Homework)"
   ]
  },
  {
   "cell_type": "markdown",
   "metadata": {},
   "source": [
    "### Diamond inheritance"
   ]
  },
  {
   "cell_type": "code",
   "execution_count": 22,
   "metadata": {},
   "outputs": [
    {
     "name": "stdout",
     "output_type": "stream",
     "text": [
      "10\n",
      "(<class '__main__.E'>, <class '__main__.C'>, <class '__main__.B'>, <class '__main__.D'>, <class '__main__.A'>, <class 'object'>)\n"
     ]
    }
   ],
   "source": [
    "class A:\n",
    "\tpass\n",
    "class B(A):\n",
    "\tpass\n",
    "class C(B):\n",
    "\tx = 10\n",
    "class D(A):\n",
    "\tx = 5\n",
    "class E(C, D):\n",
    "\tpass\n",
    "e = E()\n",
    "print(e.x) # result = 10\n",
    "print(E.__mro__)"
   ]
  },
  {
   "cell_type": "markdown",
   "metadata": {},
   "source": [
    "### What is Method Resolution Order (MRO)?\n",
    "There are 2 rules that MRO follows,\n",
    "1. The first class, here `C`, is the first branch that is traversed backwards.\n",
    "2. While traversing, all the possible paths in the current level of inheritance are exhausted before moving to the next level."
   ]
  }
 ],
 "metadata": {
  "kernelspec": {
   "display_name": "Python 3",
   "language": "python",
   "name": "python3"
  },
  "language_info": {
   "codemirror_mode": {
    "name": "ipython",
    "version": 3
   },
   "file_extension": ".py",
   "mimetype": "text/x-python",
   "name": "python",
   "nbconvert_exporter": "python",
   "pygments_lexer": "ipython3",
   "version": "3.11.9"
  }
 },
 "nbformat": 4,
 "nbformat_minor": 2
}
