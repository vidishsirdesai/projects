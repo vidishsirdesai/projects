{
 "cells": [
  {
   "cell_type": "markdown",
   "metadata": {},
   "source": [
    "# Operators\n",
    "An operation requires operand(s) and operators. The result of an operation can be stored in a variable or can be printed or can be used to perform further computations."
   ]
  },
  {
   "cell_type": "markdown",
   "metadata": {},
   "source": [
    "# Arithmetic Operators\n",
    "| Operation | Symbol |\n",
    "| :-: | :-: |\n",
    "| Addition | `+` |\n",
    "| Subtraction | `-` |\n",
    "| Multiplication | `*` |\n",
    "| Floating point division | `/` |\n",
    "| Floor division | `//` |\n",
    "| Exponentiation | `**` |\n",
    "| Modulus | `%` |"
   ]
  },
  {
   "cell_type": "code",
   "execution_count": 1,
   "metadata": {},
   "outputs": [
    {
     "name": "stdout",
     "output_type": "stream",
     "text": [
      "9\n",
      "3\n",
      "18\n",
      "2.0\n",
      "2\n",
      "216\n",
      "0\n"
     ]
    }
   ],
   "source": [
    "print(6 + 3) # addition\n",
    "print(6 - 3) # subtraction\n",
    "print(6 * 3) # multiplication\n",
    "print(6 / 3) # floating point division\n",
    "print(6 // 3) # floor division\n",
    "print(6 ** 3) # exponentiation\n",
    "print(6 % 3) # modulus"
   ]
  },
  {
   "cell_type": "markdown",
   "metadata": {},
   "source": [
    "### Floor division operator\n",
    "The `//` operator, which is called floor division operator will output the floor value of the result.\n",
    "\n",
    "What are floor and ceil values?\n",
    "- For a value `5.567892`, `5` is the floor value and `6` is the ceil value.\n",
    "- For a value `-5.567892`, `-6` is the floor value and `-5` is the ceil value.\n",
    "\n",
    "Essentially, floor value is the integer number lesser than the value. The ceil value is the integer number that is greater than the value."
   ]
  },
  {
   "cell_type": "code",
   "execution_count": 2,
   "metadata": {},
   "outputs": [
    {
     "name": "stdout",
     "output_type": "stream",
     "text": [
      "5\n",
      "6\n",
      "-6\n",
      "-6\n"
     ]
    }
   ],
   "source": [
    "import math\n",
    "\n",
    "print(math.floor(5.567392)) # 5\n",
    "print(math.ceil(5.567392)) # 6\n",
    "\n",
    "print(math.floor(-5.567392)) # -6\n",
    "print(math.floor(-5.567392)) # -5"
   ]
  },
  {
   "cell_type": "markdown",
   "metadata": {},
   "source": [
    "### Modulus operator\n",
    "The `%` operator in Python, is called as the modulus or the modulo operator. There are 2 kinds of results from this operation,\n",
    "- For positive numbers, the output is the remainder.\n",
    "- For negative numbers, the output is according to the following expression,\n",
    "    - `-a % b = b - (a % b)`."
   ]
  },
  {
   "cell_type": "code",
   "execution_count": 3,
   "metadata": {},
   "outputs": [
    {
     "name": "stdout",
     "output_type": "stream",
     "text": [
      "1\n",
      "2\n"
     ]
    }
   ],
   "source": [
    "print(10 % 3) # 1\n",
    "print(-10 % 3) # 2"
   ]
  },
  {
   "cell_type": "markdown",
   "metadata": {},
   "source": [
    "When an operation is being performed on 2 operands of different data types, the data type of the result obtained is such that there is no loss of data."
   ]
  },
  {
   "cell_type": "markdown",
   "metadata": {},
   "source": [
    "# Assignment Operators\n",
    "\n",
    "| Operation | Symbol |\n",
    "| :-: | :-: |\n",
    "| Assign | `=` |\n",
    "| Add and assign | `+=` |\n",
    "| Subtract and assign | `-=` |\n",
    "| Multiply and assign | `*=` |\n",
    "| Floating point division and assign | `/=` |\n",
    "| Floor division and assign | `//=` |\n",
    "| Modulus and assign | `%=` |\n",
    "| Exponentiate and assign | `**=` |\n",
    "| Bitwise AND and assign | `&=` |\n",
    "| Bitwise OR and assign | `pipe=` |\n",
    "| Bitwise right shift and assign | `>>` |\n",
    "| Bitwise left shift and assign | `<<` |\n",
    "| Bitwise NOT and assign | `~=` |\n",
    "| Bitwise XOR and assign | `^=` |\n",
    "\n",
    "Assignment operators are also called as short-hand operators"
   ]
  },
  {
   "cell_type": "code",
   "execution_count": 4,
   "metadata": {},
   "outputs": [],
   "source": [
    "var = 29 # assign\n",
    "var += 29 # add and assign\n",
    "var -= 29 # subtract and assign\n",
    "var *= 29 # multiply and assign\n",
    "var /= 29 # floating point division and assign\n",
    "var //= 29 # floor divide and assign\n",
    "var **= 29 # exponentiate and assign\n",
    "var %= 2 # modulo and assign"
   ]
  },
  {
   "cell_type": "markdown",
   "metadata": {},
   "source": [
    "# Bitwise Operators\n",
    "\n",
    "| Operation | Symbol |\n",
    "| :-: | :-: |\n",
    "| Bitwise AND | `&` |\n",
    "| Bitwise OR | `pipe` |\n",
    "| Bitwise NOT | `~` |\n",
    "| Bitwise XOR | `^` |\n",
    "| Bitwise right shift | `>>` |\n",
    "| Bitwise left shift | `<<` |\n",
    "\n",
    "XOR outputs a logical value of 1 when both the inputs are different."
   ]
  },
  {
   "cell_type": "code",
   "execution_count": 5,
   "metadata": {},
   "outputs": [
    {
     "name": "stdout",
     "output_type": "stream",
     "text": [
      "a & b = 0\n",
      "a | b = 14\n",
      "~a = -11\n",
      "a ^ b = 14\n"
     ]
    }
   ],
   "source": [
    "# bitwise operators\n",
    "a = 10\n",
    "b = 4\n",
    "# prints the result of bitwise AND operation\n",
    "print(\"a & b =\", a & b)\n",
    "# prints the result of bitwise OR operation\n",
    "print(\"a | b =\", a | b)\n",
    "# prints the result of bitwise NOT operation\n",
    "print(\"~a =\", ~a)\n",
    "# prints the result of bitwise XOR operation\n",
    "print(\"a ^ b =\", a ^ b)"
   ]
  },
  {
   "cell_type": "code",
   "execution_count": 6,
   "metadata": {},
   "outputs": [
    {
     "name": "stdout",
     "output_type": "stream",
     "text": [
      "a >> 1 = 5\n",
      "b >> 1 = -5\n",
      "a << 1 = 10\n",
      "b << 1 = -20\n"
     ]
    }
   ],
   "source": [
    "# bitwise shift operators\n",
    "a = 10\n",
    "b = -10\n",
    "# prints the result of bitwise right shift operator\n",
    "print(\"a >> 1 =\", a >> 1)\n",
    "print(\"b >> 1 =\", b >> 1)\n",
    "a = 5\n",
    "b = -10\n",
    "# prints the result of bitwise left shift operator\n",
    "print(\"a << 1 =\", a << 1)\n",
    "print(\"b << 1 =\", b << 1)"
   ]
  },
  {
   "cell_type": "markdown",
   "metadata": {},
   "source": [
    "# Comparison Operators\n",
    "\n",
    "| Operation | Symbol |\n",
    "| :-: | :-: |\n",
    "| Lesser than | `<` |\n",
    "| Greater than | `>` |\n",
    "| Lesser than or equal to | `<=` |\n",
    "| Greater than or equal to | `>=` |\n",
    "| Equal to | `==` |\n",
    "| Not equal to | `!=` |\n",
    "\n",
    "The result of a comparison operation can either be `True` or `False`.\n",
    "\n",
    "Whenever 2 strings are compared, the result is based on the lexicographical order (the words that come larer in a dictionary are greater)."
   ]
  },
  {
   "cell_type": "code",
   "execution_count": 7,
   "metadata": {},
   "outputs": [
    {
     "name": "stdout",
     "output_type": "stream",
     "text": [
      "False\n",
      "True\n",
      "False\n",
      "True\n",
      "True\n",
      "False\n"
     ]
    }
   ],
   "source": [
    "print(6 < 3) # lesser than\n",
    "print(6 > 3) # greater than\n",
    "print(6 <= 3) # lesser than or equal to\n",
    "print(6 >= 3) # greater than or equal to\n",
    "print(6 == 6) # equal to\n",
    "print(6 != 6) # not equal to"
   ]
  },
  {
   "cell_type": "markdown",
   "metadata": {},
   "source": [
    "# Logical Operators\n",
    "\n",
    "| Operator | Returns |\n",
    "| :-: | :-: |\n",
    "| `and` | Returns `True` if both the operands are `True` |\n",
    "| `or` | Returns `False` if both the operands are `False` |\n",
    "| `not` | Returns `True` if the operand is False and vice-versa |\n",
    "\n",
    "### Short circuting\n",
    "In Python (and in many other programming languages), \"short-circuiting\" refers to a behavior exhibited by logical operators, specifically `and` and `or`, where the evaluation of the second operand is skipped if the outcome of the whole equation can be determined by evaluating only the first operand. This behavior is based on the truth value of the first operand and is used for efficiency and to prevent unnecessary computations.\n",
    "\n",
    "When using the `and` operator, if the first operand is `False`, the overall result must be `False`. So, Python's interpreter does not evaluate the second operand, saving computation and time. If the first operand is `True`, Python's interpreter will evaluate the second operand to determine the final result.\n",
    "\n",
    "When using the `or` operator, if the first operand if `True`, the overall result must be `True`. So, Python's interpreter does not evaluate the second operand. If the first operand is `False`, Python's interpreter will evaluate the second operand to determine the final result.\n",
    "\n",
    "Short-circuiting can be used to write more efficient code, especially when dealing with potentially expensive or time-consuming operations that only need to be evaluated conditionally. However, it is important to use short-circuiting judiciously, as it can affect the behavior of the code and should not lead to incorrect results or unexpected side effects."
   ]
  },
  {
   "cell_type": "code",
   "execution_count": 8,
   "metadata": {},
   "outputs": [
    {
     "name": "stdout",
     "output_type": "stream",
     "text": [
      "I am being accessed\n",
      "1. True\n",
      "2. False\n",
      "3. True\n",
      "I am being accessed\n",
      "4. True\n"
     ]
    }
   ],
   "source": [
    "def test_function():\n",
    "    print(\"I am being accessed\")\n",
    "    return True\n",
    "\n",
    "print(\"1.\", True and test_function()) # 2nd operand is evaluated\n",
    "print(\"2.\", False and test_function()) # 2nd operand is not evaluated\n",
    "print(\"3.\", True or test_function()) # 2nd operand is not evaluated\n",
    "print(\"4.\", False or test_function()) # 2nd operand is evaluated"
   ]
  },
  {
   "cell_type": "markdown",
   "metadata": {},
   "source": [
    "Consider the following block of code,"
   ]
  },
  {
   "cell_type": "code",
   "execution_count": 9,
   "metadata": {},
   "outputs": [
    {
     "name": "stdout",
     "output_type": "stream",
     "text": [
      "1\n",
      "True\n",
      "1\n",
      "True\n",
      "True\n",
      "True\n",
      "1\n",
      "False\n",
      "1\n"
     ]
    }
   ],
   "source": [
    "print(True and 1) \n",
    "print(1 and True) \n",
    "print(True and 1 or 0 and True) \n",
    "print(1 and True or 0 and True) \n",
    "print(1 and True or 0 and 1) \n",
    "\n",
    "var1 = 1 and True\n",
    "print(var1)\n",
    "var2 = 1 or True\n",
    "print(var2)\n",
    "var3 = 1 and False\n",
    "print(var3)\n",
    "var4 = 1 or False\n",
    "print(var4)\n",
    "\n",
    "# the last updated value gets stored in the buffer"
   ]
  },
  {
   "cell_type": "markdown",
   "metadata": {},
   "source": [
    "The last updated value gets stored into the memory. Meaning, the last updated value is stored in the buffer and the same is displayed when the `print()` function is executed.\n",
    "\n",
    "If `and` and `or` are together present in a statement, then `and` has a higher precedence that `or`.\n",
    "\n",
    "If there are multiple `and` and `or` operators in a condition, then the execution is from left to right.\n",
    "\n",
    "In summary, if `and` and `or` are together present in a statement, then `and` has a higher precedence. In an `and` operation both the operands will be checked only if the first operand results in `True`. In an `or` operation, the second operand gets checked only if the first operand results in `False`. This is called as short-circuiting."
   ]
  },
  {
   "cell_type": "markdown",
   "metadata": {},
   "source": [
    "# Identity Operators\n",
    "Identity operators are used to check if 2 objects are the same. They are also used to check if an object is an instance of a class.\n",
    "\n",
    "| Operator | Returns |\n",
    "| :-: | :-: |\n",
    "| `is` | Returns `True` if both the variables are the same object |\n",
    "| `is not` | Returns `True` if both variables are not the same object |"
   ]
  },
  {
   "cell_type": "code",
   "execution_count": 10,
   "metadata": {},
   "outputs": [
    {
     "name": "stdout",
     "output_type": "stream",
     "text": [
      "True\n",
      "False\n",
      "True\n"
     ]
    }
   ],
   "source": [
    "# is\n",
    "x = [\"apple\", \"banana\"]\n",
    "y = [\"apple\", \"banana\"]\n",
    "z = x\n",
    "print(x is z)\n",
    "# returns True because z is the same object as x\n",
    "print(x is y)\n",
    "# returns False because x is not the same object as y, \n",
    "# even if they have the same content\n",
    "print(x == y)\n",
    "# to demonstrate the difference betweeen \"is\" and \"==\": \n",
    "# this comparison returns True because x is equal to y"
   ]
  },
  {
   "cell_type": "code",
   "execution_count": 11,
   "metadata": {},
   "outputs": [
    {
     "name": "stdout",
     "output_type": "stream",
     "text": [
      "False\n",
      "True\n",
      "False\n"
     ]
    }
   ],
   "source": [
    "# is not\n",
    "x = [\"apple\", \"banana\"]\n",
    "y = [\"apple\", \"banana\"]\n",
    "z = x\n",
    "print(x is not z)\n",
    "# returns False because z is the same object as x\n",
    "print(x is not y)\n",
    "# returns True because x is not the same object as y, \n",
    "# even if they have the same content\n",
    "print(x != y)\n",
    "# to demonstrate the difference betweeen \"is not\" and \"!=\": \n",
    "# this comparison returns False because x is equal to y"
   ]
  },
  {
   "cell_type": "markdown",
   "metadata": {},
   "source": [
    "# Membership Operators\n",
    "Membership operators are used to check if a data object is present in a data sturcture or not.\n",
    "\n",
    "| Operator | Returns |\n",
    "| :-: | :-: |\n",
    "| `in` | Checks if a value is present in a data structure. Returns `True` if it is present |\n",
    "| `not in` | Checks if a value is present in a data structure. Returns `True` if it is not present |"
   ]
  },
  {
   "cell_type": "code",
   "execution_count": 12,
   "metadata": {},
   "outputs": [
    {
     "name": "stdout",
     "output_type": "stream",
     "text": [
      "False\n",
      "True\n",
      "False\n",
      "True\n"
     ]
    }
   ],
   "source": [
    "print(5 in [1, 2, 3, 4])\n",
    "print(\"amazing\" in \"the amazing spiderman!\")\n",
    "print(\"amazing\" in \"the AMAzing spiderman!\")\n",
    "print(\"amazing\" in \"iamamazing!hahaha\")"
   ]
  },
  {
   "cell_type": "markdown",
   "metadata": {},
   "source": [
    "# Operator Precedence\n",
    "Operator precedence is used in a expression with more than one operator with different precedences to determine which operation is to be performed first."
   ]
  },
  {
   "cell_type": "markdown",
   "metadata": {},
   "source": [
    "# Operator Associativity\n",
    "If an expression contains 2 or more operators with the same precedence then operator associativity is used to determine which operation to perform first. Operator associativity can either be from left to right or from right to left. In Python, the associativity is from left to right."
   ]
  },
  {
   "cell_type": "markdown",
   "metadata": {},
   "source": [
    "# Precedence And Associativity Of Operators\n",
    "BODMAS (Brackets Order Division Multiplication Addition Subtraction) or PEMDAS (Parenthesis Exponent Multiplication Division Addition Subtraction).\n",
    "\n",
    "In the 2 abbreviations above, the precedence decreases from left to right.\n",
    "\n",
    "The operator precedence and associated of operators in Python is listed below, the precedence is in the descending order and the associativity is from left to right.\n",
    "\n",
    "| Operators | Meaning |\n",
    "| :-: | :-: |\n",
    "| `()` | Parentheses |\n",
    "| `**` | Exponent |\n",
    "| `+x`, `-x`, `~x` | Unary plus, unary minus, bitwise NOT |\n",
    "| `*`, `/`, `//`, `%` | Multiplication, division, floor division, modulus |\n",
    "| `+`, `-` | Addition, subtraction |\n",
    "| `<<`, `>>` | Bitwise left shift, bitwise right shift |\n",
    "| `&` | Bitwise AND |\n",
    "| `^` | Bitwise XOR |\n",
    "| `pipe` | Bitwise OR |\n",
    "| `==`, `!=`, `>`, `>=`, `<`, `<=`, `is`, `is not`, `in`, `not in` | Comparison operators, identity operators, membership operators |\n",
    "| `not` | Logical NOT |\n",
    "| `and` | Logical AND |\n",
    "| `or` | Logical OR |"
   ]
  }
 ],
 "metadata": {
  "kernelspec": {
   "display_name": "Python 3",
   "language": "python",
   "name": "python3"
  },
  "language_info": {
   "codemirror_mode": {
    "name": "ipython",
    "version": 3
   },
   "file_extension": ".py",
   "mimetype": "text/x-python",
   "name": "python",
   "nbconvert_exporter": "python",
   "pygments_lexer": "ipython3",
   "version": "3.11.9"
  }
 },
 "nbformat": 4,
 "nbformat_minor": 2
}
