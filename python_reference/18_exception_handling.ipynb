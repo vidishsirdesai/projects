{
 "cells": [
  {
   "cell_type": "markdown",
   "metadata": {},
   "source": [
    "# Exception Handling\n",
    "Python identifies different types of errors that can occur in programs. These errors are also called exceptions.\n",
    "\n",
    "The following are different types of exceptions that Python recognizes,"
   ]
  },
  {
   "cell_type": "code",
   "execution_count": 1,
   "metadata": {},
   "outputs": [
    {
     "name": "stdout",
     "output_type": "stream",
     "text": [
      "ArithmeticError\n",
      "AssertionError\n",
      "AttributeError\n",
      "BlockingIOError\n",
      "BrokenPipeError\n",
      "BufferError\n",
      "ChildProcessError\n",
      "ConnectionAbortedError\n",
      "ConnectionError\n",
      "ConnectionRefusedError\n",
      "ConnectionResetError\n",
      "EOFError\n",
      "EnvironmentError\n",
      "FileExistsError\n",
      "FileNotFoundError\n",
      "FloatingPointError\n",
      "IOError\n",
      "ImportError\n",
      "IndentationError\n",
      "IndexError\n",
      "InterruptedError\n",
      "IsADirectoryError\n",
      "KeyError\n",
      "LookupError\n",
      "MemoryError\n",
      "ModuleNotFoundError\n",
      "NameError\n",
      "NotADirectoryError\n",
      "NotImplementedError\n",
      "OSError\n",
      "OverflowError\n",
      "PermissionError\n",
      "ProcessLookupError\n",
      "RecursionError\n",
      "ReferenceError\n",
      "RuntimeError\n",
      "SyntaxError\n",
      "SystemError\n",
      "TabError\n",
      "TimeoutError\n",
      "TypeError\n",
      "UnboundLocalError\n",
      "UnicodeDecodeError\n",
      "UnicodeEncodeError\n",
      "UnicodeError\n",
      "UnicodeTranslateError\n",
      "ValueError\n",
      "ZeroDivisionError\n",
      "48\n"
     ]
    }
   ],
   "source": [
    "count = 0\n",
    "for i in dir(__builtins__):\n",
    "\tif \"Error\" in i:\n",
    "\t\tcount += 1\n",
    "\t\tprint(i)\n",
    "print(count)"
   ]
  },
  {
   "cell_type": "markdown",
   "metadata": {},
   "source": [
    "At the time of compiling this document, there were 48 errors that were recognized by Python's interpreter."
   ]
  },
  {
   "cell_type": "markdown",
   "metadata": {},
   "source": [
    "# `try-except` Block\n",
    "A `try-except` block is used to deal with exceptions."
   ]
  },
  {
   "cell_type": "code",
   "execution_count": 2,
   "metadata": {},
   "outputs": [
    {
     "name": "stdout",
     "output_type": "stream",
     "text": [
      "An error has occurred!\n"
     ]
    }
   ],
   "source": [
    "try:\n",
    "\ti = input()\n",
    "\tprint(5 / i)\n",
    "\tprint(\"Result Printed\")\n",
    "except:\n",
    "\tprint(\"An error has occurred!\")"
   ]
  },
  {
   "cell_type": "markdown",
   "metadata": {},
   "source": [
    "A program's execution is not interrupted if an exception occurs in the `try` block. If an exception occurs in the `try` block, the control is passed to the `except` block."
   ]
  },
  {
   "cell_type": "code",
   "execution_count": 3,
   "metadata": {},
   "outputs": [
    {
     "name": "stdout",
     "output_type": "stream",
     "text": [
      "An error has occurred!\n",
      "Error - unsupported operand type(s) for /: 'int' and 'str'\n"
     ]
    }
   ],
   "source": [
    "try:\n",
    "\ti = input()\n",
    "\tprint(5 / i)\n",
    "\tprint(\"Result Printed\")\n",
    "except Exception as e:\n",
    "\tprint(\"An error has occurred!\")\n",
    "\tprint(f\"Error - {e}\")"
   ]
  },
  {
   "cell_type": "code",
   "execution_count": 4,
   "metadata": {},
   "outputs": [
    {
     "name": "stdout",
     "output_type": "stream",
     "text": [
      "0.3333333333333333\n",
      "Result Printed\n"
     ]
    }
   ],
   "source": [
    "# correct code\n",
    "try:\n",
    "\ti = int(input())\n",
    "\tprint(5 / i)\n",
    "\tprint(\"Result Printed\")\n",
    "except Exception as e:\n",
    "\tprint(\"An error has occurred!\")\n",
    "\tprint(f\"Error - {e}\")"
   ]
  },
  {
   "cell_type": "markdown",
   "metadata": {},
   "source": [
    "`Exception` is the parent class of all exceptions."
   ]
  },
  {
   "cell_type": "code",
   "execution_count": 5,
   "metadata": {},
   "outputs": [
    {
     "name": "stdout",
     "output_type": "stream",
     "text": [
      "Current element - 2\n",
      "Result = 2.5\n",
      "Current element - 0\n",
      "Error - division by zero\n",
      "Current element - hello\n",
      "Error - invalid literal for int() with base 10: 'hello'\n",
      "Current element - None\n",
      "Error - int() argument must be a string, a bytes-like object or a real number, not 'NoneType'\n"
     ]
    }
   ],
   "source": [
    "# consider,\n",
    "l = [2, 0, \"hello\", None]\n",
    "for element in l:\n",
    "\ttry:\n",
    "\t\tprint(f\"Current element - {element}\")\n",
    "\t\tresult = 5 / int(element)\n",
    "\t\tprint(f\"Result = {result}\")\n",
    "\texcept Exception as e:\n",
    "\t\tprint(f\"Error - {e}\")"
   ]
  },
  {
   "cell_type": "markdown",
   "metadata": {},
   "source": [
    "The `except` block can be written for specific exception as well. This is done because, there might be cases where an exception may want to be handled differently."
   ]
  },
  {
   "cell_type": "code",
   "execution_count": 6,
   "metadata": {},
   "outputs": [
    {
     "name": "stdout",
     "output_type": "stream",
     "text": [
      "Current element - 2\n",
      "Result = 2.5\n",
      "Current element - 0\n",
      "A zero division error has occurred.\n",
      "Current element - hello\n",
      "Error - invalid literal for int() with base 10: 'hello'\n",
      "Current element - None\n",
      "Error - int() argument must be a string, a bytes-like object or a real number, not 'NoneType'\n"
     ]
    }
   ],
   "source": [
    "l = [2, 0, \"hello\", None]\n",
    "for element in l:\n",
    "\ttry:\n",
    "\t\tprint(f\"Current element - {element}\")\n",
    "\t\tresult = 5 / int(element)\n",
    "\t\tprint(f\"Result = {result}\")\n",
    "\texcept ZeroDivisionError as z:\n",
    "\t\tprint(\"A zero division error has occurred.\")\n",
    "\texcept Exception as e:\n",
    "\t\tprint(f\"Error - {e}\")"
   ]
  },
  {
   "cell_type": "markdown",
   "metadata": {},
   "source": [
    "# `else` And `finally` In `try-except`\n",
    "The code in the `else` block runs if no exception is encountered in the `try` block. The code in the `finally` block runs always. "
   ]
  },
  {
   "cell_type": "code",
   "execution_count": 7,
   "metadata": {},
   "outputs": [
    {
     "name": "stdout",
     "output_type": "stream",
     "text": [
      "try\n",
      "Else\n",
      "Finally\n"
     ]
    }
   ],
   "source": [
    "try:\n",
    "\ti = int(input())\n",
    "\tprint(\"try\")\n",
    "except:\n",
    "\tprint(\"Except\") # runs if an error occurs in\n",
    "else:\n",
    "\tprint(\"Else\") # runs if an error does not occur inside try block\n",
    "finally:\n",
    "\tprint(\"Finally\") # always runs"
   ]
  },
  {
   "cell_type": "code",
   "execution_count": 8,
   "metadata": {},
   "outputs": [
    {
     "name": "stdout",
     "output_type": "stream",
     "text": [
      "Current Element = 2\n",
      "Result = 2.5\n",
      "No errors encountered in the try block.\n",
      "This prints always.\n",
      "Current Element = 0\n",
      "Error = division by zero\n",
      "This prints always.\n",
      "Current Element = hello\n",
      "Error = unsupported operand type(s) for /: 'int' and 'str'\n",
      "This prints always.\n",
      "Current Element = None\n",
      "Error = unsupported operand type(s) for /: 'int' and 'NoneType'\n",
      "This prints always.\n"
     ]
    }
   ],
   "source": [
    "# example\n",
    "l = [2, 0, \"hello\", None]\n",
    "for element in l:\n",
    "    try:\n",
    "        print(f\"Current Element = {element}\")\n",
    "        result = 5/ element\n",
    "        print(f\"Result = {result}\")\n",
    "    except Exception as e:\n",
    "        print(f\"Error = {e}\")\n",
    "    else:\n",
    "        print(\"No errors encountered in the try block.\")\n",
    "    finally:\n",
    "        print(\"This prints always.\")"
   ]
  },
  {
   "cell_type": "markdown",
   "metadata": {},
   "source": [
    "Read about the use cases of `finally`."
   ]
  }
 ],
 "metadata": {
  "kernelspec": {
   "display_name": "Python 3",
   "language": "python",
   "name": "python3"
  },
  "language_info": {
   "codemirror_mode": {
    "name": "ipython",
    "version": 3
   },
   "file_extension": ".py",
   "mimetype": "text/x-python",
   "name": "python",
   "nbconvert_exporter": "python",
   "pygments_lexer": "ipython3",
   "version": "3.11.9"
  }
 },
 "nbformat": 4,
 "nbformat_minor": 2
}
