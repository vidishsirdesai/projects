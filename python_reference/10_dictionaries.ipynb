{
 "cells": [
  {
   "cell_type": "markdown",
   "metadata": {},
   "source": [
    "# Dictionary\n",
    "Dictionary in Python is a data structure like list, where elements are stored in pairs of key and value. Every key has a value attached to it. Keys used to access the values associated with them. Dictionaries are like JSON, more precisely, they are a super-set of JSON.\n",
    "\n",
    "Dictionary is a collection which is unordered and mutable. No duplicates are allowed more specifically, no duplicate keys are allowed.\n",
    "\n",
    "Dictionaries were unordered, but are ordered post Python 3.7 (internally), but indexing is not possible. The word \"unordered means, that every time a dictionary is printed, it would probably get printed in a new order.\n",
    "\n",
    "Dictionaroes being order or not does not matter, because the values are accessed using the keys instead of index (like in lists or tuples). Hence, it is best to think of dictionaries as unordered collection of data objects.\n",
    "\n",
    "The different operations that can be performed on dictionaries are, create, read, update and delete."
   ]
  },
  {
   "cell_type": "markdown",
   "metadata": {},
   "source": [
    "# How To Create A Dictionary?\n",
    "```Python\n",
    "# syntax\n",
    "dict_name = {key1:value, key2:value2, keyN:valueN}\n",
    "```"
   ]
  },
  {
   "cell_type": "markdown",
   "metadata": {},
   "source": [
    "# How To Create An Empty Dictionary?"
   ]
  },
  {
   "cell_type": "code",
   "execution_count": 1,
   "metadata": {},
   "outputs": [
    {
     "name": "stdout",
     "output_type": "stream",
     "text": [
      "<class 'dict'>\n"
     ]
    }
   ],
   "source": [
    "a = {}\n",
    "print(type(a))"
   ]
  },
  {
   "cell_type": "markdown",
   "metadata": {},
   "source": [
    "# How To Create A Dictionary With A Single Element?"
   ]
  },
  {
   "cell_type": "code",
   "execution_count": 2,
   "metadata": {},
   "outputs": [
    {
     "name": "stdout",
     "output_type": "stream",
     "text": [
      "<class 'dict'>\n"
     ]
    }
   ],
   "source": [
    "dict_name = {\"1\": \"a\"}\n",
    "print(type(dict_name))"
   ]
  },
  {
   "cell_type": "markdown",
   "metadata": {},
   "source": [
    "# How To Access The Values Stored In A Dictionary?\n",
    "Indexing using integers is not possible in dictionaries. The keys are used to access the values associated with it. The keys of a dictionary are case sensitive."
   ]
  },
  {
   "cell_type": "code",
   "execution_count": 3,
   "metadata": {},
   "outputs": [
    {
     "ename": "KeyError",
     "evalue": "'key'",
     "output_type": "error",
     "traceback": [
      "\u001b[0;31m---------------------------------------------------------------------------\u001b[0m",
      "\u001b[0;31mKeyError\u001b[0m                                  Traceback (most recent call last)",
      "Cell \u001b[0;32mIn[3], line 1\u001b[0m\n\u001b[0;32m----> 1\u001b[0m \u001b[38;5;28mprint\u001b[39m(\u001b[43mdict_name\u001b[49m\u001b[43m[\u001b[49m\u001b[38;5;124;43m\"\u001b[39;49m\u001b[38;5;124;43mkey\u001b[39;49m\u001b[38;5;124;43m\"\u001b[39;49m\u001b[43m]\u001b[49m)\n",
      "\u001b[0;31mKeyError\u001b[0m: 'key'"
     ]
    }
   ],
   "source": [
    "print(dict_name[\"key\"])"
   ]
  },
  {
   "cell_type": "markdown",
   "metadata": {},
   "source": [
    "A `KeyError` is raised when a key which does not exist is accessed.\n",
    "\n",
    "The `get()` method can be used to return `None` if the key being accessed does not exist in the dictionary."
   ]
  },
  {
   "cell_type": "code",
   "execution_count": 4,
   "metadata": {},
   "outputs": [
    {
     "name": "stdout",
     "output_type": "stream",
     "text": [
      "2\n",
      "None\n"
     ]
    }
   ],
   "source": [
    "random = {\n",
    "\t\"a\": 1,\n",
    "\t\"b\": 2,\n",
    "\t\"c\": 3,\n",
    "\t\"d\": None\n",
    "}\n",
    "print(random[\"b\"])\n",
    "# print(random[\"e\"]) # keyError\n",
    "result = dict_name.get(\"key\")\n",
    "# returns None if the key is not present.\n",
    "print(result)"
   ]
  },
  {
   "cell_type": "markdown",
   "metadata": {},
   "source": [
    "A default value can be returned using the `get()` method if the key is not found.\n",
    "\n",
    "```Python\n",
    "# syntax\n",
    "dict_name.get(\"key\", \"default return value\")\n",
    "```"
   ]
  },
  {
   "cell_type": "code",
   "execution_count": 5,
   "metadata": {},
   "outputs": [
    {
     "name": "stdout",
     "output_type": "stream",
     "text": [
      "Index Not Found\n"
     ]
    }
   ],
   "source": [
    "random = {\n",
    "\t\"a\": 1,\n",
    "\t\"b\": 2,\n",
    "\t\"c\": 3,\n",
    "\t\"d\": None\n",
    "}\n",
    "result = random.get(\"e\", \"Index Not Found\")\n",
    "print(result)"
   ]
  },
  {
   "cell_type": "markdown",
   "metadata": {},
   "source": [
    "# How To Add Values To Dictionary?"
   ]
  },
  {
   "cell_type": "code",
   "execution_count": 6,
   "metadata": {},
   "outputs": [
    {
     "name": "stdout",
     "output_type": "stream",
     "text": [
      "{'Karnataka': 20, 'Maharashtra': 40, 'Tamil Nadu': 50}\n",
      "{'Karnataka': 20, 'Maharashtra': 40, 'Tamil Nadu': 50, 'Goa': 2}\n",
      "{'Karnataka': 41, 'Maharashtra': 40, 'Tamil Nadu': 50, 'Goa': 2}\n"
     ]
    }
   ],
   "source": [
    "a = {\n",
    "\t\"Karnataka\": 20,\n",
    "\t\"Maharashtra\": 40,\n",
    "\t\"Tamil Nadu\": 50\n",
    "}\n",
    "print(a)\n",
    "a[\"Goa\"] = 2 # adding a new value\n",
    "print(a)\n",
    "a[\"Karnataka\"] = 41 # updating an existing value\n",
    "print(a)"
   ]
  },
  {
   "cell_type": "markdown",
   "metadata": {},
   "source": [
    "# How To Append A Value To A Dictionary?\n",
    "```Python\n",
    "# syntax\n",
    "dict_name[\"key\"].append(value)\n",
    "```"
   ]
  },
  {
   "cell_type": "markdown",
   "metadata": {},
   "source": [
    "# How To Delete A Key-Value Pair From A Dictionary?\n",
    "```Python\n",
    "# syntax\n",
    "dict_name.pop(\"key\")\n",
    "```\n",
    "\n",
    "`pop()` method needs an argument at all times. An error is thrown if no argument is passed. The `pop()` method for dictionary is different from the `pop()` method used in lists.\n",
    "\n",
    "`pop()` method in dictionary takes a key as input to delete a key-value pair. The value associated with the key which is to be deleted is returned once it is deleted."
   ]
  },
  {
   "cell_type": "markdown",
   "metadata": {},
   "source": [
    "# Heterogeneity In A Dictionary\n",
    "Dictionary keys can only be strings. Dictionary values can be of any data type or data structure."
   ]
  },
  {
   "cell_type": "code",
   "execution_count": 7,
   "metadata": {},
   "outputs": [
    {
     "name": "stdout",
     "output_type": "stream",
     "text": [
      "{'name': 'thor', 'age': 1500, 'weapon': ['strombreaker', 'mjolnir']}\n"
     ]
    }
   ],
   "source": [
    "avenger = {\n",
    "\t\"name\": \"thor\",\n",
    "\t\"age\": 1500,\n",
    "\t\"weapon\": [\"strombreaker\", \"mjolnir\"]\n",
    "}\n",
    "print(avenger)"
   ]
  },
  {
   "cell_type": "markdown",
   "metadata": {},
   "source": [
    "\"Dictionary keys can only be string\", this is not true. But it is advised that they be only of string data type, as it is meaningful if they are strings. An integer or floating point key does not make sense as a key in almost all of the cases.\n",
    "\n",
    "Keys are supposed to be unique, meaningful and if a key with a particular name and case sensitivity already exists, then the value gets updated."
   ]
  },
  {
   "cell_type": "code",
   "execution_count": 8,
   "metadata": {},
   "outputs": [
    {
     "name": "stdout",
     "output_type": "stream",
     "text": [
      "{'a': 4}\n",
      "{'a': 4, 'A': 4}\n"
     ]
    }
   ],
   "source": [
    "a = {\n",
    "\t\"a\": 3\n",
    "}\n",
    "a[\"a\"] = 4 # updates the value\n",
    "print(a)\n",
    "a[\"A\"] = 4 # adds a new key-value pair\n",
    "print(a)"
   ]
  },
  {
   "cell_type": "markdown",
   "metadata": {},
   "source": [
    "The following is only specific to dictionaries,\n",
    "- Keys in dictionary are any immutable data types.\n",
    "- Values in dictionary are mutable.\n",
    "\n",
    "```Python\n",
    "# meaning\n",
    "{\n",
    "    \"keys -> ANY IMMUTABLE DATA STRUCTURE (preferrably strings)\": \"values -> ANY MUTABLE OR IMMUNTABLE DATA STRUCTURE\"\n",
    "}\n",
    "```"
   ]
  },
  {
   "cell_type": "code",
   "execution_count": 9,
   "metadata": {},
   "outputs": [
    {
     "name": "stdout",
     "output_type": "stream",
     "text": [
      "{'key1': [4, 45, 67], 'key2': {(1, 2, 3): 45}, 45: 'value3', 45.67: 'value4', True: 'value5'}\n"
     ]
    }
   ],
   "source": [
    "# for example,\n",
    "random = {\n",
    "    \"key1\" : [4,45,67],\n",
    "    \"key2\" : {\n",
    "        (1,2,3): 45\n",
    "    },\n",
    "    45: \"value3\",\n",
    "    45.67: \"value4\",\n",
    "    True: \"value5\"\n",
    "}\n",
    "print(random)"
   ]
  },
  {
   "cell_type": "code",
   "execution_count": 10,
   "metadata": {},
   "outputs": [
    {
     "ename": "TypeError",
     "evalue": "unhashable type: 'list'",
     "output_type": "error",
     "traceback": [
      "\u001b[0;31m---------------------------------------------------------------------------\u001b[0m",
      "\u001b[0;31mTypeError\u001b[0m                                 Traceback (most recent call last)",
      "Cell \u001b[0;32mIn[10], line 1\u001b[0m\n\u001b[0;32m----> 1\u001b[0m random \u001b[38;5;241m=\u001b[39m {\n\u001b[1;32m      2\u001b[0m     \u001b[38;5;124m\"\u001b[39m\u001b[38;5;124mkey1\u001b[39m\u001b[38;5;124m\"\u001b[39m : [\u001b[38;5;241m4\u001b[39m,\u001b[38;5;241m45\u001b[39m,\u001b[38;5;241m67\u001b[39m],\n\u001b[1;32m      3\u001b[0m     \u001b[38;5;124m\"\u001b[39m\u001b[38;5;124mkey2\u001b[39m\u001b[38;5;124m\"\u001b[39m : {\n\u001b[1;32m      4\u001b[0m         (\u001b[38;5;241m1\u001b[39m,\u001b[38;5;241m2\u001b[39m,\u001b[38;5;241m3\u001b[39m): \u001b[38;5;241m45\u001b[39m\n\u001b[1;32m      5\u001b[0m     },\n\u001b[1;32m      6\u001b[0m     \u001b[38;5;241m45\u001b[39m: \u001b[38;5;124m\"\u001b[39m\u001b[38;5;124mvalue3\u001b[39m\u001b[38;5;124m\"\u001b[39m,\n\u001b[1;32m      7\u001b[0m     \u001b[38;5;241m45.67\u001b[39m: \u001b[38;5;124m\"\u001b[39m\u001b[38;5;124mvalue4\u001b[39m\u001b[38;5;124m\"\u001b[39m,\n\u001b[1;32m      8\u001b[0m     \u001b[38;5;28;01mTrue\u001b[39;00m: \u001b[38;5;124m\"\u001b[39m\u001b[38;5;124mvalue5\u001b[39m\u001b[38;5;124m\"\u001b[39m,\n\u001b[1;32m      9\u001b[0m     [\u001b[38;5;241m6\u001b[39m,\u001b[38;5;241m7\u001b[39m,\u001b[38;5;241m8\u001b[39m]: \u001b[38;5;124m\"\u001b[39m\u001b[38;5;124mvalue6\u001b[39m\u001b[38;5;124m\"\u001b[39m\n\u001b[1;32m     10\u001b[0m }\n\u001b[1;32m     11\u001b[0m \u001b[38;5;28mprint\u001b[39m(random)\n",
      "\u001b[0;31mTypeError\u001b[0m: unhashable type: 'list'"
     ]
    }
   ],
   "source": [
    "random = {\n",
    "    \"key1\" : [4,45,67],\n",
    "    \"key2\" : {\n",
    "        (1,2,3): 45\n",
    "    },\n",
    "    45: \"value3\",\n",
    "    45.67: \"value4\",\n",
    "    True: \"value5\",\n",
    "    [6,7,8]: \"value6\"\n",
    "}\n",
    "print(random)"
   ]
  },
  {
   "cell_type": "markdown",
   "metadata": {},
   "source": [
    "# How To Add A Key-Value Pair And Update A Key-Value Pair At The Same Time?\n",
    "\n",
    "```Python\n",
    "# syntax\n",
    "dict_name.update(\n",
    "    {\n",
    "        \"key1\": \"value1\",\n",
    "        \"key2\": \"value2\"\n",
    "    }\n",
    ")\n",
    "```"
   ]
  },
  {
   "cell_type": "code",
   "execution_count": 11,
   "metadata": {},
   "outputs": [
    {
     "name": "stdout",
     "output_type": "stream",
     "text": [
      "{'name': 'Thor Odinson', 'age': 1500, 'weapon': 'stormbreaker', 'strongest': True, 'number of eyes': 1}\n"
     ]
    }
   ],
   "source": [
    "# example\n",
    "avenger.update(\n",
    "    {\n",
    "        \"name\": \"Thor Odinson\",\n",
    "        \"weapon\": \"stormbreaker\",\n",
    "        \"strongest\": True,\n",
    "        \"number of eyes\": 1\n",
    "    }\n",
    ")\n",
    "print(avenger)"
   ]
  },
  {
   "cell_type": "markdown",
   "metadata": {},
   "source": [
    "# How To Iterate Through And Print Only The Keys Of A Dictionary?\n",
    "\n",
    "```Python\n",
    "# syntax\n",
    "for i in dict_name:\n",
    "\tprint(i)\n",
    "# the above code iterates through and prints the keys in the dictionary\n",
    "\n",
    "# or\n",
    "for i in dict_name.keys():\n",
    "\tprint(i)\n",
    "\t\n",
    "# to create a list of elements which are keys in a dictionary\n",
    "list(dict_name.keys())\n",
    "```"
   ]
  },
  {
   "cell_type": "markdown",
   "metadata": {},
   "source": [
    "# How To Iterate Through And Print Only The Values Of A Dictionary?\n",
    "```Python\n",
    "# syntax\n",
    "for i in dict_name:\n",
    "\tprint(dict_name[i])\n",
    "# the above code iterates through and prints the values in the dictionary\n",
    "\n",
    "# or\n",
    "for i in dict_name.values():\n",
    "\tprint(i)\n",
    "\t\n",
    "# to create a list of elements which are values in a dictionary\n",
    "list(dict_name.values())\n",
    "```"
   ]
  },
  {
   "cell_type": "markdown",
   "metadata": {},
   "source": [
    "# How To Iterate Through And Print The Key-Value Pairs?\n",
    "\n",
    "```Python\n",
    "# syntax\n",
    "for i in dict_name.items():\n",
    "\tprint(i)\n",
    "list(a.items()) \n",
    "# creates a list of tuples containing the key-value pair of a dictionary\n",
    "\n",
    "# meaning, the key-value pair is packed into a tuple\n",
    "\n",
    "# or implement tuple unpacking in the for loop\n",
    "for keys, values in dict_name.items():\n",
    "\tprint(f\"{key} -> {values}\")\n",
    "```\n",
    "\n",
    "Consider the following for example,"
   ]
  },
  {
   "cell_type": "code",
   "execution_count": 12,
   "metadata": {},
   "outputs": [
    {
     "name": "stdout",
     "output_type": "stream",
     "text": [
      "name\n",
      "weapon\n",
      "strongest\n",
      "number of eyes\n"
     ]
    }
   ],
   "source": [
    "a = {\n",
    "\t\"name\": \"Thor Odinson\",\n",
    "\t\"weapon\": \"stormbreaker\",\n",
    "\t\"strongest\": True,\n",
    "\t\"number of eyes\": 1\n",
    "}\n",
    "for i in a: # traversal over the keys\n",
    "\tprint(i)"
   ]
  },
  {
   "cell_type": "code",
   "execution_count": 13,
   "metadata": {},
   "outputs": [
    {
     "name": "stdout",
     "output_type": "stream",
     "text": [
      "Thor Odinson\n",
      "stormbreaker\n",
      "True\n",
      "1\n"
     ]
    }
   ],
   "source": [
    "for i in a: # traversal over the values\n",
    "\tprint(a[i])"
   ]
  },
  {
   "cell_type": "code",
   "execution_count": 14,
   "metadata": {},
   "outputs": [
    {
     "name": "stdout",
     "output_type": "stream",
     "text": [
      "name -> Thor Odinson\n",
      "weapon -> stormbreaker\n",
      "strongest -> True\n",
      "number of eyes -> 1\n"
     ]
    }
   ],
   "source": [
    "for i in a: # traversal over the entire key value pair\n",
    "\tprint(f\"{i} -> {a[i]}\")"
   ]
  },
  {
   "cell_type": "code",
   "execution_count": 15,
   "metadata": {},
   "outputs": [
    {
     "name": "stdout",
     "output_type": "stream",
     "text": [
      "name\n",
      "weapon\n",
      "strongest\n",
      "number of eyes\n"
     ]
    },
    {
     "data": {
      "text/plain": [
       "['name', 'weapon', 'strongest', 'number of eyes']"
      ]
     },
     "execution_count": 15,
     "metadata": {},
     "output_type": "execute_result"
    }
   ],
   "source": [
    "# all of the above traversal approaches are ambiguous\n",
    "for i in a.keys(): # better way to traverse over keys\n",
    "\tprint(i)\n",
    "list(a.keys())"
   ]
  },
  {
   "cell_type": "code",
   "execution_count": 16,
   "metadata": {},
   "outputs": [
    {
     "name": "stdout",
     "output_type": "stream",
     "text": [
      "Thor Odinson\n",
      "stormbreaker\n",
      "True\n",
      "1\n"
     ]
    },
    {
     "data": {
      "text/plain": [
       "['Thor Odinson', 'stormbreaker', True, 1]"
      ]
     },
     "execution_count": 16,
     "metadata": {},
     "output_type": "execute_result"
    }
   ],
   "source": [
    "for i in a.values(): # better way to traverse over values\n",
    "\tprint(i)\n",
    "list(a.values())"
   ]
  },
  {
   "cell_type": "code",
   "execution_count": 17,
   "metadata": {},
   "outputs": [
    {
     "name": "stdout",
     "output_type": "stream",
     "text": [
      "('name', 'Thor Odinson')\n",
      "('weapon', 'stormbreaker')\n",
      "('strongest', True)\n",
      "('number of eyes', 1)\n"
     ]
    },
    {
     "data": {
      "text/plain": [
       "[('name', 'Thor Odinson'),\n",
       " ('weapon', 'stormbreaker'),\n",
       " ('strongest', True),\n",
       " ('number of eyes', 1)]"
      ]
     },
     "execution_count": 17,
     "metadata": {},
     "output_type": "execute_result"
    }
   ],
   "source": [
    "for i in a.items(): # print the key-value pairs in tuples format\n",
    "\tprint(i)\n",
    "list(a.items()) # items() returns a list of tuples"
   ]
  },
  {
   "cell_type": "code",
   "execution_count": 18,
   "metadata": {},
   "outputs": [
    {
     "name": "stdout",
     "output_type": "stream",
     "text": [
      "name -> Thor Odinson\n",
      "weapon -> stormbreaker\n",
      "strongest -> True\n",
      "number of eyes -> 1\n"
     ]
    }
   ],
   "source": [
    "for key, value in a.items(): # as items() returns a tuple, it can be unpacked\n",
    "\tprint(f\"{key} -> {value}\")"
   ]
  },
  {
   "cell_type": "markdown",
   "metadata": {},
   "source": [
    "# How To Check If A Key Is Present In A Dictionary?\n",
    "\n",
    "```Python\n",
    "# syntax\n",
    "\"key\" in dict_name.keys()\n",
    "```"
   ]
  },
  {
   "cell_type": "code",
   "execution_count": 19,
   "metadata": {},
   "outputs": [
    {
     "name": "stdout",
     "output_type": "stream",
     "text": [
      "False\n"
     ]
    }
   ],
   "source": [
    "# example\n",
    "a = {\n",
    "\t\"name\": \"Thor Odinson\",\n",
    "\t\"weapon\": \"stormbreaker\",\n",
    "\t\"strongest\": True,\n",
    "\t\"number of eyes\": 1\n",
    "}\n",
    "print(\"battle\" in a.keys())"
   ]
  },
  {
   "cell_type": "markdown",
   "metadata": {},
   "source": [
    "# Dictionary Methods"
   ]
  },
  {
   "cell_type": "markdown",
   "metadata": {},
   "source": [
    "### `clear()`\n",
    "The `clear()` method is used to remove all the elements from the dictionary.\n",
    "\n",
    "```Python\n",
    "# syntax\n",
    "dict_name.clear()\n",
    "```"
   ]
  },
  {
   "cell_type": "code",
   "execution_count": 20,
   "metadata": {},
   "outputs": [
    {
     "name": "stdout",
     "output_type": "stream",
     "text": [
      "{'brand': 'Ford', 'model': 'Mustang', 'year': 1964}\n",
      "{}\n"
     ]
    }
   ],
   "source": [
    "# example\n",
    "car = {\n",
    "  \"brand\": \"Ford\",\n",
    "  \"model\": \"Mustang\",\n",
    "  \"year\": 1964\n",
    "}\n",
    "\n",
    "print(car)\n",
    "car.clear()\n",
    "print(car)"
   ]
  },
  {
   "cell_type": "markdown",
   "metadata": {},
   "source": [
    "### `copy()`\n",
    "The `copy()` method is used to create a copy of a dictionary, it can be stored in another variable.\n",
    "\n",
    "```Python\n",
    "# syntax\n",
    "dict_name.copy()\n",
    "```"
   ]
  },
  {
   "cell_type": "code",
   "execution_count": 21,
   "metadata": {},
   "outputs": [
    {
     "name": "stdout",
     "output_type": "stream",
     "text": [
      "{'brand': 'Ford', 'model': 'Mustang', 'year': 1964}\n",
      "{'brand': 'Ford', 'model': 'Mustang', 'year': 1964}\n"
     ]
    }
   ],
   "source": [
    "# example\n",
    "car = {\n",
    "  \"brand\": \"Ford\",\n",
    "  \"model\": \"Mustang\",\n",
    "  \"year\": 1964\n",
    "}\n",
    "\n",
    "print(car)\n",
    "x = car.copy()\n",
    "print(x)"
   ]
  },
  {
   "cell_type": "markdown",
   "metadata": {},
   "source": [
    "### `fromkeys()`\n",
    "The `fromkeys()` method is used to create a dictionary with the specified keys and values.\n",
    "\n",
    "```Python\n",
    "# syntax\n",
    "dict_name.fromkeys(keys, values)\n",
    "```"
   ]
  },
  {
   "cell_type": "code",
   "execution_count": 22,
   "metadata": {},
   "outputs": [
    {
     "name": "stdout",
     "output_type": "stream",
     "text": [
      "{'key1': 0, 'key2': 0, 'key3': 0}\n"
     ]
    }
   ],
   "source": [
    "# example\n",
    "x = (\"key1\", \"key2\", \"key3\")\n",
    "y = 0\n",
    "\n",
    "a_dict = dict.fromkeys(x, y)\n",
    "print(a_dict)"
   ]
  },
  {
   "cell_type": "markdown",
   "metadata": {},
   "source": [
    "### `get()`\n",
    "The `get()` method is used to find the value associated with the specified key.\n",
    "\n",
    "```Python\n",
    "# syntax\n",
    "dict_name.get(keyname, value_to_return_if_there_is_no_value)\n",
    "dict_name.get(keyname, default_value)\n",
    "```"
   ]
  },
  {
   "cell_type": "code",
   "execution_count": 23,
   "metadata": {},
   "outputs": [
    {
     "name": "stdout",
     "output_type": "stream",
     "text": [
      "{'brand': 'Ford', 'model': 'Mustang', 'year': 1964}\n",
      "Mustang\n"
     ]
    }
   ],
   "source": [
    "# example\n",
    "car = {\n",
    "  \"brand\": \"Ford\",\n",
    "  \"model\": \"Mustang\",\n",
    "  \"year\": 1964\n",
    "}\n",
    "\n",
    "print(car)\n",
    "x = car.get(\"model\")\n",
    "print(x) # Mustang"
   ]
  },
  {
   "cell_type": "markdown",
   "metadata": {},
   "source": [
    "### `items()`\n",
    "The `items()` method returns a view object. The view object contains the key-value pairs of a dictionary as tuples in a list.\n",
    "\n",
    "```Python\n",
    "# syntax\n",
    "dict_name.items()\n",
    "```"
   ]
  },
  {
   "cell_type": "code",
   "execution_count": 24,
   "metadata": {},
   "outputs": [
    {
     "name": "stdout",
     "output_type": "stream",
     "text": [
      "{'brand': 'Ford', 'model': 'Mustang', 'year': 1964}\n",
      "dict_items([('brand', 'Ford'), ('model', 'Mustang'), ('year', 1964)])\n"
     ]
    }
   ],
   "source": [
    "# example\n",
    "car = {\n",
    "  \"brand\": \"Ford\",\n",
    "  \"model\": \"Mustang\",\n",
    "  \"year\": 1964\n",
    "}\n",
    "\n",
    "print(car)\n",
    "x = car.items()\n",
    "print(x) # ((\"brand\", \"Ford\"), (\"model\": \"Mustang\"), (\"year\", 1964))"
   ]
  },
  {
   "cell_type": "markdown",
   "metadata": {},
   "source": [
    "### `keys()`\n",
    "The `keys()` method returns a view object which contains the keys of a dictionary in a list object.\n",
    "\n",
    "```Python\n",
    "# syntax\n",
    "dict_name.keys()\n",
    "```"
   ]
  },
  {
   "cell_type": "code",
   "execution_count": 25,
   "metadata": {},
   "outputs": [
    {
     "name": "stdout",
     "output_type": "stream",
     "text": [
      "{'brand': 'Ford', 'model': 'Mustang', 'year': 1964}\n",
      "dict_keys(['brand', 'model', 'year'])\n"
     ]
    }
   ],
   "source": [
    "# example\n",
    "car = {\n",
    "  \"brand\": \"Ford\",\n",
    "  \"model\": \"Mustang\",\n",
    "  \"year\": 1964\n",
    "}\n",
    "\n",
    "print(car)\n",
    "x = car.keys()\n",
    "print(x)"
   ]
  },
  {
   "cell_type": "markdown",
   "metadata": {},
   "source": [
    "### `pop()`\n",
    "The `pop()` method removes the specified item from the dictionary. The value that is removed gets returned.\n",
    "\n",
    "```Python\n",
    "# syntax\n",
    "dict_name.pop(key_name, default_value)\n",
    "```"
   ]
  },
  {
   "cell_type": "code",
   "execution_count": 26,
   "metadata": {},
   "outputs": [
    {
     "name": "stdout",
     "output_type": "stream",
     "text": [
      "{'brand': 'Ford', 'model': 'Mustang', 'year': 1964}\n",
      "{'brand': 'Ford', 'year': 1964}\n"
     ]
    }
   ],
   "source": [
    "# example\n",
    "car = {\n",
    "  \"brand\": \"Ford\",\n",
    "  \"model\": \"Mustang\",\n",
    "  \"year\": 1964\n",
    "}\n",
    "\n",
    "print(car)\n",
    "car.pop(\"model\")\n",
    "print(car)"
   ]
  },
  {
   "cell_type": "markdown",
   "metadata": {},
   "source": [
    "### `popitem()`\n",
    "The `popitem()` method removes the item which was last inserted into the dictionary. In Python versions before 3.7, the `popitem()` method was used to remove random item. The item that is removed gets returned and is printed on the console window.\n",
    "\n",
    "```Python\n",
    "# syntax\n",
    "dict_name.popitem()\n",
    "```"
   ]
  },
  {
   "cell_type": "code",
   "execution_count": 27,
   "metadata": {},
   "outputs": [
    {
     "name": "stdout",
     "output_type": "stream",
     "text": [
      "{'brand': 'Ford', 'model': 'Mustang', 'year': 1964}\n",
      "{'brand': 'Ford', 'model': 'Mustang'}\n"
     ]
    }
   ],
   "source": [
    "# example\n",
    "car = {\n",
    "  \"brand\": \"Ford\",\n",
    "  \"model\": \"Mustang\",\n",
    "  \"year\": 1964\n",
    "}\n",
    "\n",
    "print(car)\n",
    "car.popitem()\n",
    "print(car)"
   ]
  },
  {
   "cell_type": "markdown",
   "metadata": {},
   "source": [
    "### `setdefault()`\n",
    "The `setdefault()` returns the value of the item with the specified key. If the key is not present in the dictionary, a key which is passed as an argument gets inserted along with the value (default value).\n",
    "\n",
    "```Python\n",
    "# syntax\n",
    "dict_name.setdefault(key, default_value)\n",
    "```"
   ]
  },
  {
   "cell_type": "code",
   "execution_count": 28,
   "metadata": {},
   "outputs": [
    {
     "name": "stdout",
     "output_type": "stream",
     "text": [
      "{'brand': 'Ford', 'model': 'Mustang', 'year': 1964}\n",
      "Mustang\n"
     ]
    }
   ],
   "source": [
    "# example\n",
    "car = {\n",
    "  \"brand\": \"Ford\",\n",
    "  \"model\": \"Mustang\",\n",
    "  \"year\": 1964\n",
    "}\n",
    "\n",
    "print(car)\n",
    "x = car.setdefault(\"model\", \"Bronco\")\n",
    "print(x)"
   ]
  },
  {
   "cell_type": "markdown",
   "metadata": {},
   "source": [
    "### `update()`\n",
    "The `update()` method inserts the specified items to the dictionary. The specified items can be a dictionary or any iterable object with key-value pairs.\n",
    "\n",
    "```Python\n",
    "# syntax\n",
    "dict_name.update(iterable)\n",
    "```"
   ]
  },
  {
   "cell_type": "code",
   "execution_count": 29,
   "metadata": {},
   "outputs": [
    {
     "name": "stdout",
     "output_type": "stream",
     "text": [
      "{'brand': 'Ford', 'model': 'Mustang', 'year': 1964}\n",
      "{'brand': 'Ford', 'model': 'Mustang', 'year': 1964, 'color': 'White'}\n"
     ]
    }
   ],
   "source": [
    "# example\n",
    "car = {\n",
    "  \"brand\": \"Ford\",\n",
    "  \"model\": \"Mustang\",\n",
    "  \"year\": 1964\n",
    "}\n",
    "\n",
    "print(car)\n",
    "car.update({\"color\": \"White\"})\n",
    "print(car)"
   ]
  },
  {
   "cell_type": "markdown",
   "metadata": {},
   "source": [
    "### `values()`\n",
    "The `values()` method returns a view object which contains the values of the dictionary in a list.\n",
    "\n",
    "```Python\n",
    "# syntax\n",
    "dict_name.values()\n",
    "```"
   ]
  },
  {
   "cell_type": "code",
   "execution_count": 30,
   "metadata": {},
   "outputs": [
    {
     "name": "stdout",
     "output_type": "stream",
     "text": [
      "{'brand': 'Ford', 'model': 'Mustang', 'year': 1964}\n",
      "dict_values(['Ford', 'Mustang', 1964])\n"
     ]
    }
   ],
   "source": [
    "# example\n",
    "car = {\n",
    "  \"brand\": \"Ford\",\n",
    "  \"model\": \"Mustang\",\n",
    "  \"year\": 1964\n",
    "}\n",
    "\n",
    "print(car)\n",
    "x = car.values()\n",
    "print(x)"
   ]
  }
 ],
 "metadata": {
  "kernelspec": {
   "display_name": "Python 3",
   "language": "python",
   "name": "python3"
  },
  "language_info": {
   "codemirror_mode": {
    "name": "ipython",
    "version": 3
   },
   "file_extension": ".py",
   "mimetype": "text/x-python",
   "name": "python",
   "nbconvert_exporter": "python",
   "pygments_lexer": "ipython3",
   "version": "3.11.9"
  }
 },
 "nbformat": 4,
 "nbformat_minor": 2
}
