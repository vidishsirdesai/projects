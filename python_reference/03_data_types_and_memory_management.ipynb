{
 "cells": [
  {
   "cell_type": "markdown",
   "metadata": {},
   "source": [
    "# Data Types In Python\n",
    "Following are the different data types in Python,\n",
    "1. Integers (`int`), e.g., 1, 3, -5, 0, etc.\n",
    "2. Floating points (`float`), e.g., 3.14, 9.8, etc.\n",
    "3. String (`str`), e.g., \"Hello World!\", \"Python is amazing!\", \"30 + 45 = 75\", etc.\n",
    "4. Complex numbers (`complex`), e.g., 3 + 4j, 12 - 17j, etc.\n",
    "5. Boolean (bool), has only 2 values `True` and `False`.\n",
    "6. `None`, represents nothing.\n",
    "7. Data structures,\n",
    "    - Lists (`list`).\n",
    "    - Tuples (`tuple`).\n",
    "    - Sets (`set`).\n",
    "    - Dictionaries (`dict`).\n",
    "    - Strings can also be classified as data structures."
   ]
  },
  {
   "cell_type": "markdown",
   "metadata": {},
   "source": [
    "# Memory Space Occupied By Different Data Types\n",
    "Everything written in a program is stored in some form of memory (primary or secondary). The amount of space occupied by each data type is defined by the limitations set on the amount of space each data type occupies. These limitations are quite generous and depend on the implementation of Python being used.\n",
    "1. `int` data type in Python can represent arbitrarily large integers limited only by the available memory.\n",
    "2. `float` data type is limited by the IEEE 754 standard ([link](https://en.wikipedia.org/wiki/IEEE_754)), which specifies the precision and range of floating point numbers.\n",
    "3. `str` data type is limited by the available memory."
   ]
  },
  {
   "cell_type": "code",
   "execution_count": 1,
   "metadata": {},
   "outputs": [
    {
     "name": "stdout",
     "output_type": "stream",
     "text": [
      "28\n",
      "28\n",
      "28\n",
      "32\n",
      "24\n",
      "60\n",
      "125\n",
      "49\n",
      "28\n",
      "28\n",
      "16\n"
     ]
    }
   ],
   "source": [
    "import sys\n",
    "print(sys.getsizeof(0)) # 28\n",
    "print(sys.getsizeof(1)) # 28\n",
    "print(sys.getsizeof(12)) # 28\n",
    "print(sys.getsizeof(12 + 14j)) # 32\n",
    "print(sys.getsizeof(3.14159265)) # 24\n",
    "print(sys.getsizeof(\"hello world\")) # 60\n",
    "print(sys.getsizeof(\"this is a very long string, a very very long one, omg it seems to be endless\")) # 125\n",
    "print(sys.getsizeof(\"\")) # 49\n",
    "print(sys.getsizeof(True)) # 28\n",
    "print(sys.getsizeof(False)) # 28\n",
    "print(sys.getsizeof(None)) # 16"
   ]
  },
  {
   "cell_type": "markdown",
   "metadata": {},
   "source": [
    "# `NoneType`\n",
    "`NoneType` refers to the data type of the special constant `None`. `None` is used to represent the absence of a value, or the lack of a return value from a function or a method. It is essentially a way to indicate that a variable or an expression does not have any meaningful value (momentarily by nature).\n",
    "\n",
    "`None` data type belongs to the class `NoneType`. The following are the use cases where `None` is used:\n",
    "1. Default return value: Functions and methods often return `None` when they do not explicitly return another value. This is the default return value.\n",
    "2. Initial value: Variables can be initialized to `None` when there is a need to indicate that they have no value initially and will be assigned a meaningful value later."
   ]
  },
  {
   "cell_type": "code",
   "execution_count": 2,
   "metadata": {},
   "outputs": [
    {
     "name": "stdout",
     "output_type": "stream",
     "text": [
      "hello\n"
     ]
    },
    {
     "data": {
      "text/plain": [
       "NoneType"
      ]
     },
     "execution_count": 2,
     "metadata": {},
     "output_type": "execute_result"
    }
   ],
   "source": [
    "# example explaining use case 1\n",
    "def example():\n",
    "    print(\"hello\")\n",
    "\n",
    "result = example()\n",
    "type(result)"
   ]
  },
  {
   "cell_type": "code",
   "execution_count": 3,
   "metadata": {},
   "outputs": [
    {
     "data": {
      "text/plain": [
       "NoneType"
      ]
     },
     "execution_count": 3,
     "metadata": {},
     "output_type": "execute_result"
    }
   ],
   "source": [
    "# example explaining use case 2\n",
    "var_name = None\n",
    "type(var_name)"
   ]
  },
  {
   "cell_type": "markdown",
   "metadata": {},
   "source": [
    "3. Conditional checks: `None` can be used in conditional statements to check if an object or a variable is defined or if a function has returned a value or not. For example, the following can be used to check if a variable is set to `None`."
   ]
  },
  {
   "cell_type": "code",
   "execution_count": 4,
   "metadata": {},
   "outputs": [
    {
     "name": "stdout",
     "output_type": "stream",
     "text": [
      "my_variable has not been assigned with any value\n"
     ]
    }
   ],
   "source": [
    "my_variable = None\n",
    "\n",
    "if my_variable is None:\n",
    "    print(\"my_variable has not been assigned with any value\")"
   ]
  },
  {
   "cell_type": "markdown",
   "metadata": {},
   "source": [
    "4. Avoiding uninitialized variables: Using `None` as an initial value can help avoid errors encountered due to uninitialized variables. It is also syntactically incorrect to leave a variable uninitialized."
   ]
  },
  {
   "cell_type": "code",
   "execution_count": 5,
   "metadata": {},
   "outputs": [
    {
     "name": "stdout",
     "output_type": "stream",
     "text": [
      "Pete\n",
      "The name is not defined.\n",
      "Peter\n",
      "the name is not defined\n",
      "<class 'NoneType'>\n"
     ]
    }
   ],
   "source": [
    "def get_name():\n",
    "    name = input()\n",
    "    print(f\"{name}\")\n",
    "\n",
    "name = get_name()\n",
    "\n",
    "if name is None:\n",
    "    print(\"The name is not defined.\")\n",
    "else:\n",
    "    print(f\"The name is {name}\")\n",
    "    \n",
    "# the following code shows a different way of obtaining the same results\n",
    "name = get_name()\n",
    "\n",
    "if name == None:\n",
    "    print(\"the name is not defined\")\n",
    "    print(type(name))\n",
    "else:\n",
    "    print(f\"the name is {name}.\")"
   ]
  },
  {
   "cell_type": "markdown",
   "metadata": {},
   "source": [
    "In the above example, `get_name()` does not return a value (it is a placeholder for a function that does not do anything), so name is set to None. An `if` statement can be used to check whether name is `None` and if it is, a message can be printed indicating that the name is not defined.\n",
    "\n",
    "`None` is a useful construct in Python for various purposes, including error handling, default values and initialization."
   ]
  },
  {
   "cell_type": "markdown",
   "metadata": {},
   "source": [
    "# Boolean\n",
    "Boolean of any value which is 0, 0.0, empty inverted quotes (empty string), empty boolean (`bool()`), `False` boolean value (`bool(False)`) and `NoneType` (`bool(None)`), will result in `False` as output.\n",
    "\n",
    "Consider the following for understanding,"
   ]
  },
  {
   "cell_type": "code",
   "execution_count": 6,
   "metadata": {},
   "outputs": [
    {
     "name": "stdout",
     "output_type": "stream",
     "text": [
      "True\n",
      "True\n",
      "True\n",
      "True\n",
      "False\n",
      "False\n",
      "True\n",
      "True\n",
      "True\n",
      "False\n",
      "True\n",
      "False\n",
      "False\n",
      "True\n",
      "True\n"
     ]
    }
   ],
   "source": [
    "print(bool(1)) # True\n",
    "print(bool(1.345678876543)) # True\n",
    "print(bool(2345678)) # True\n",
    "print(bool(-234567887654)) # True\n",
    "print(bool(0)) # False\n",
    "print(bool(0.0)) # False\n",
    "print(bool(-0.0000000005)) # True\n",
    "print(bool(\"hello\")) # True\n",
    "print(bool(\"A\")) # True\n",
    "print(bool(\"\")) # False\n",
    "print(bool(\"0\")) # True\n",
    "print(bool()) # False\n",
    "print(bool(None)) # False\n",
    "print(bool(\"False\")) # True\n",
    "print(False == 0) # True"
   ]
  },
  {
   "cell_type": "markdown",
   "metadata": {},
   "source": [
    "# How To Check The Data Type Of An Object Or A Variable?\n",
    "In Python, the `type()` function is used to determine the data type or class of a given data object or variable. It returns a reference to the type object that represents the data type of the object.\n",
    "\n",
    "```Python\n",
    "# syntax\n",
    "type(object)\n",
    "```"
   ]
  },
  {
   "cell_type": "code",
   "execution_count": 7,
   "metadata": {},
   "outputs": [
    {
     "name": "stdout",
     "output_type": "stream",
     "text": [
      "<class 'int'>\n",
      "<class 'float'>\n",
      "<class 'complex'>\n",
      "<class 'str'>\n",
      "<class 'str'>\n",
      "<class 'str'>\n",
      "<class 'bool'>\n",
      "<class 'bool'>\n",
      "<class 'NoneType'>\n"
     ]
    }
   ],
   "source": [
    "print(type(1))\n",
    "print(type(1.11))\n",
    "print(type(3 + 4j))\n",
    "print(type(\"hello\"))\n",
    "print(type(\"1\"))\n",
    "print(type(\"\"))\n",
    "print(type(True))\n",
    "print(type(False))\n",
    "print(type(None))"
   ]
  },
  {
   "cell_type": "markdown",
   "metadata": {},
   "source": [
    "# Memory Management In Python\n",
    "Python manages memory automatically through mechanisms like reference counting and garbage collection. It dynamically allocates and deallocates memory as needed, so there is no need to worry about memory allocation and deallocation like it is in the case of languages like C or C++ or Java."
   ]
  },
  {
   "cell_type": "markdown",
   "metadata": {},
   "source": [
    "# Type Conversion\n",
    "Type conversion involves converting the data type of an object to another data type. Type conversion is achieved in 2 ways,\n",
    "1. Implicit type conversion: Here the data type of the object is converted automatically. This is usually done by the Python interpreter to preserve data."
   ]
  },
  {
   "cell_type": "code",
   "execution_count": 8,
   "metadata": {},
   "outputs": [
    {
     "name": "stdout",
     "output_type": "stream",
     "text": [
      "2.0\n",
      "<class 'float'>\n"
     ]
    }
   ],
   "source": [
    "var1 = 10\n",
    "var2 = 20\n",
    "result = var2/ var1\n",
    "print(result)\n",
    "print(type(result))"
   ]
  },
  {
   "cell_type": "markdown",
   "metadata": {},
   "source": [
    "2. Explicit type conversion: Here the data type of an object is force converted by the user to a desired data type."
   ]
  },
  {
   "cell_type": "code",
   "execution_count": 9,
   "metadata": {},
   "outputs": [
    {
     "name": "stdout",
     "output_type": "stream",
     "text": [
      "<class 'int'>\n",
      "<class 'int'>\n",
      "<class 'float'>\n",
      "<class 'str'>\n",
      "<class 'bool'>\n"
     ]
    }
   ],
   "source": [
    "var1 = 10\n",
    "var2 = int(var1)\n",
    "var3 = float(var1)\n",
    "var4 = str(var1)\n",
    "var5 = bool(var1)\n",
    "print(type(var1))\n",
    "print(type(var2))\n",
    "print(type(var3))\n",
    "print(type(var4))\n",
    "print(type(var5))"
   ]
  },
  {
   "cell_type": "markdown",
   "metadata": {},
   "source": [
    "# Data Type V. Data Sturcture\n",
    "Data structure is a collection of elements of same (homogenous) or different (heterogenous) data types. The different data structures in Python are, \n",
    "- Lists.\n",
    "- Tuples.\n",
    "- Sets.\n",
    "- Dictionary.\n",
    "- Strings."
   ]
  },
  {
   "cell_type": "markdown",
   "metadata": {},
   "source": [
    "# Mutable V. Immutable Data Types\n",
    "### Mutable data types\n",
    "- Lists.\n",
    "- Sets.\n",
    "- Dictionaries.\n",
    "\n",
    "### Immutable data types\n",
    "- Integers.\n",
    "- Floating-points.\n",
    "- Booleans.\n",
    "- Strings.\n",
    "- Tuples."
   ]
  }
 ],
 "metadata": {
  "kernelspec": {
   "display_name": "Python 3",
   "language": "python",
   "name": "python3"
  },
  "language_info": {
   "codemirror_mode": {
    "name": "ipython",
    "version": 3
   },
   "file_extension": ".py",
   "mimetype": "text/x-python",
   "name": "python",
   "nbconvert_exporter": "python",
   "pygments_lexer": "ipython3",
   "version": "3.11.9"
  }
 },
 "nbformat": 4,
 "nbformat_minor": 2
}
