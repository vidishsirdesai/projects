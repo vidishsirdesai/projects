{
 "cells": [
  {
   "cell_type": "markdown",
   "metadata": {},
   "source": [
    "# Variables\n",
    "Variables can be thought of as containers that store data objects. To further explain, if water is a data object, then glass that it is stored in can be called as a variable.\n",
    "\n",
    "The names assigned to variables are used to access the data objects stored in them. Accessing the data objects or the values gets simplified by using variable names. Instead of typing down the value over and over again, the variable name assigned to them can be used.\n",
    "\n",
    "Variables are also called or rather more appropriately called as identifiers in Python. Any object in Python should have an identifier assigned to it. In general, identifiers are used to store, access or modify data objects. The different objects to which identifiers must be assigned to in Python are, data objects, functions and classes."
   ]
  },
  {
   "cell_type": "markdown",
   "metadata": {},
   "source": [
    "# Identifiers In Python\n",
    "Identifiers are the names assigned to data objects in Python. Objects can be variables containing, data, functions or classes.\n",
    "\n",
    "Rules to define an identifier,\n",
    "1. An identifier name must start with a letter or the underscore character.\n",
    "2. An identifier name cannot start with a number.\n",
    "3. An identifier name can only contain alpha-numeric characters and underscores (A-Z, a-z, 0-9 and `_`), no other special characters are allowed.\n",
    "4. Identifier names are case-sensitive (`age`, `Age` and `Age` are three different variables or identifier names). Meaning, if an identifier is defined in a certain letter case, then it has to be accessed using the same letter case it is defined in.\n",
    "5. Keywords cannot be used as identifier names, unless there is a difference in the letter case."
   ]
  },
  {
   "cell_type": "markdown",
   "metadata": {},
   "source": [
    "# How To Define A Variable?"
   ]
  },
  {
   "cell_type": "code",
   "execution_count": 1,
   "metadata": {},
   "outputs": [],
   "source": [
    "# defining a variable invloves declaring a name \n",
    "# and assigning value to it\n",
    "var_name = 5\n",
    "\n",
    "# if the value is un-decided, then None can be assigned to the variable\n",
    "# in such cases the variable is said to be initialized but not defined\n",
    "var_name = None"
   ]
  },
  {
   "cell_type": "markdown",
   "metadata": {},
   "source": [
    "# How To Access A Variable?"
   ]
  },
  {
   "cell_type": "code",
   "execution_count": 2,
   "metadata": {},
   "outputs": [
    {
     "name": "stdout",
     "output_type": "stream",
     "text": [
      "5\n"
     ]
    }
   ],
   "source": [
    "var_name = 5\n",
    "print(var_name) # accessing is done by calling the name assigned to it"
   ]
  },
  {
   "cell_type": "markdown",
   "metadata": {},
   "source": [
    "# How To Update The Value Stored In A Variable?"
   ]
  },
  {
   "cell_type": "code",
   "execution_count": 3,
   "metadata": {},
   "outputs": [
    {
     "name": "stdout",
     "output_type": "stream",
     "text": [
      "5\n",
      "3\n"
     ]
    }
   ],
   "source": [
    "a = 5\n",
    "print(a) # initial value\n",
    "a = 3\n",
    "print(a) # value updated or overriding the value"
   ]
  },
  {
   "cell_type": "markdown",
   "metadata": {},
   "source": [
    "Actually, the variable `a` stores the address of the value assigned to it. In other words, it points to the value stored in it."
   ]
  },
  {
   "cell_type": "code",
   "execution_count": 4,
   "metadata": {},
   "outputs": [
    {
     "name": "stdout",
     "output_type": "stream",
     "text": [
      "5\n",
      "3\n",
      "4351145424\n",
      "4351145424\n",
      "4351145488\n"
     ]
    }
   ],
   "source": [
    "a = 5\n",
    "print(a)\n",
    "a = 3\n",
    "print(a)\n",
    "print(id(a))\n",
    "print(id(3))\n",
    "print(id(5))"
   ]
  },
  {
   "cell_type": "markdown",
   "metadata": {},
   "source": [
    "The older value gets removed from the memory, not immediately but eventually."
   ]
  },
  {
   "cell_type": "markdown",
   "metadata": {},
   "source": [
    "# Python Is A Case Sensitive Language"
   ]
  },
  {
   "cell_type": "code",
   "execution_count": 5,
   "metadata": {},
   "outputs": [
    {
     "ename": "NameError",
     "evalue": "name 'Name' is not defined",
     "output_type": "error",
     "traceback": [
      "\u001b[0;31m---------------------------------------------------------------------------\u001b[0m",
      "\u001b[0;31mNameError\u001b[0m                                 Traceback (most recent call last)",
      "Cell \u001b[0;32mIn[5], line 2\u001b[0m\n\u001b[1;32m      1\u001b[0m name \u001b[38;5;241m=\u001b[39m \u001b[38;5;124m\"\u001b[39m\u001b[38;5;124mThe Incredible Hulk\u001b[39m\u001b[38;5;124m\"\u001b[39m\n\u001b[0;32m----> 2\u001b[0m \u001b[38;5;28mprint\u001b[39m(\u001b[43mName\u001b[49m) \u001b[38;5;66;03m# NameError\u001b[39;00m\n\u001b[1;32m      4\u001b[0m \u001b[38;5;28mprint\u001b[39m(\u001b[38;5;124m\"\u001b[39m\u001b[38;5;124mHello\u001b[39m\u001b[38;5;124m\"\u001b[39m)\n\u001b[1;32m      5\u001b[0m Print(\u001b[38;5;124m\"\u001b[39m\u001b[38;5;124mHello\u001b[39m\u001b[38;5;124m\"\u001b[39m) \u001b[38;5;66;03m# NameError\u001b[39;00m\n",
      "\u001b[0;31mNameError\u001b[0m: name 'Name' is not defined"
     ]
    }
   ],
   "source": [
    "name = \"The Incredible Hulk\"\n",
    "print(Name) # NameError\n",
    "\n",
    "print(\"Hello\")\n",
    "Print(\"Hello\") # NameError"
   ]
  },
  {
   "cell_type": "markdown",
   "metadata": {},
   "source": [
    "`name` and `Name` are 2 different objects."
   ]
  },
  {
   "cell_type": "markdown",
   "metadata": {},
   "source": [
    "# What Happens If An Identifier Name Begins With A Number?\n",
    "If an identifier is created with a number as the first character, it would be considered invalid and a `SyntaxError` would be raised."
   ]
  },
  {
   "cell_type": "code",
   "execution_count": 6,
   "metadata": {},
   "outputs": [
    {
     "ename": "SyntaxError",
     "evalue": "invalid decimal literal (4249203913.py, line 1)",
     "output_type": "error",
     "traceback": [
      "\u001b[0;36m  Cell \u001b[0;32mIn[6], line 1\u001b[0;36m\u001b[0m\n\u001b[0;31m    1var = 29\u001b[0m\n\u001b[0m    ^\u001b[0m\n\u001b[0;31mSyntaxError\u001b[0m\u001b[0;31m:\u001b[0m invalid decimal literal\n"
     ]
    }
   ],
   "source": [
    "1var = 29\n",
    "print(1var)"
   ]
  },
  {
   "cell_type": "markdown",
   "metadata": {},
   "source": [
    "# How To Store A Value Of One Variable In Another Variable?"
   ]
  },
  {
   "cell_type": "code",
   "execution_count": 7,
   "metadata": {},
   "outputs": [
    {
     "name": "stdout",
     "output_type": "stream",
     "text": [
      "5 5\n",
      "4351145488 4351145488\n"
     ]
    }
   ],
   "source": [
    "a = 5\n",
    "b = a\n",
    "print(a, b)\n",
    "print(id(a), id(b))"
   ]
  }
 ],
 "metadata": {
  "kernelspec": {
   "display_name": "Python 3",
   "language": "python",
   "name": "python3"
  },
  "language_info": {
   "codemirror_mode": {
    "name": "ipython",
    "version": 3
   },
   "file_extension": ".py",
   "mimetype": "text/x-python",
   "name": "python",
   "nbconvert_exporter": "python",
   "pygments_lexer": "ipython3",
   "version": "3.11.9"
  }
 },
 "nbformat": 4,
 "nbformat_minor": 2
}
