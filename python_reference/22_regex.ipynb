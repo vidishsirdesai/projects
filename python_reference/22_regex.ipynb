{
 "cells": [
  {
   "cell_type": "markdown",
   "metadata": {
    "vscode": {
     "languageId": "plaintext"
    }
   },
   "source": [
    "# Introduction\n",
    "Regular expressions (RegEx or RegExp) are powerful tools used for pattern matching and searching within text. They are widely used in various programming languages and tools to perform tasks like validation, data extraction and text manipulation.\n",
    "\n",
    "RegEx is very similar to the `LIKE` keyword in SQL.\n",
    "\n",
    "### Key concepts\n",
    "- Pattern: A sequence of characters and special symbols that define a specific pattern to search for within a give text.\n",
    "- Matching: The process of finding occurrences of a pattern within a string.\n",
    "- Special characters: These characters have special meanings within regex patterns, allowing to define complex patterns concisely.\n",
    "\n",
    "### Common use cases of regular expressions\n",
    "- Data validation: Validating email address, phone numbers and other data formats.\n",
    "- Text extraction: Extracting specific information from text, such as URLs, email addresses or dates.\n",
    "- Text replacement: Replacing specific patterns of text with other text.\n",
    "- Search and find: Finding specific patterns within large datasets."
   ]
  },
  {
   "cell_type": "code",
   "execution_count": 1,
   "metadata": {},
   "outputs": [
    {
     "name": "stdout",
     "output_type": "stream",
     "text": [
      "Dave Martin\n",
      "615-555-7164\n",
      "173 Main St., Springfield RI 55924\n",
      "davemartin@bogusemail.com\n",
      "\n",
      "Charles Harris\n",
      "800-555-5669\n",
      "969 High St., Atlantis VA 34075\n",
      "charlesharris@bogusemail.com\n",
      "\n",
      "Eric Williams\n",
      "560-555-5153\n",
      "806 1st St., Faketown AK 86847\n",
      "laurawilliams@bogusemail.com\n",
      "\n",
      "Corey Jefferson\n",
      "900-555-9340\n",
      "826 Elm St., Epicburg NE 10671\n",
      "coreyjefferson@bogusemail.com\n",
      "\n",
      "Jennifer Martin-White\n",
      "714-555-7405\n",
      "212 Cedar St., Sunnydale CT 74983\n",
      "jenniferwhite@bogusemail.com\n",
      "\n",
      "Erick Davis\n",
      "800-555-6771\n",
      "519 Washington St., \n"
     ]
    }
   ],
   "source": [
    "# reading the data and printing the first 500 characters in the data\n",
    "data = open(\"data.txt\", \"r\").read()\n",
    "print(data[: 500])"
   ]
  },
  {
   "cell_type": "code",
   "execution_count": 2,
   "metadata": {},
   "outputs": [],
   "source": [
    "# defining a method to mask email address\n",
    "# sample input: user_name@email_service.com\n",
    "# sample output: a####d@gmail.com\n",
    "def mask_email(email):\n",
    "    if \"@\" in email:\n",
    "        user_name, domain_name = email.split(\"@\")\n",
    "        return f\"{user_name[0]}*****{user_name[-1]}@{domain_name}\"\n",
    "    else:\n",
    "        return \"Invalid email address\""
   ]
  },
  {
   "cell_type": "code",
   "execution_count": 3,
   "metadata": {},
   "outputs": [
    {
     "data": {
      "text/plain": [
       "'s*****h@gmail.com'"
      ]
     },
     "execution_count": 3,
     "metadata": {},
     "output_type": "execute_result"
    }
   ],
   "source": [
    "mask_email(\"sirdesaividish@gmail.com\")"
   ]
  },
  {
   "cell_type": "code",
   "execution_count": 4,
   "metadata": {},
   "outputs": [
    {
     "data": {
      "text/plain": [
       "'Invalid email address'"
      ]
     },
     "execution_count": 4,
     "metadata": {},
     "output_type": "execute_result"
    }
   ],
   "source": [
    "mask_email(\"sirdesaividish.gmail.com\")"
   ]
  },
  {
   "cell_type": "code",
   "execution_count": 5,
   "metadata": {},
   "outputs": [],
   "source": [
    "# blackbox implementation of regular expression\n",
    "\n",
    "# import the package for regular expression\n",
    "import re\n",
    "\n",
    "# using regex to check the validity of an email address\n",
    "def is_valid_email(email):\n",
    "    email_pattern = \"^\\w+([\\.-]?\\w+)*@\\w+([\\.-]?\\w+)*(\\.\\w{2,3})+$\"\n",
    "    result = re.search(email_pattern, email)\n",
    "    # re.search() scans through the email string looking for the first location where the pattern is found\n",
    "    if result:\n",
    "        return True\n",
    "    else:\n",
    "        return False"
   ]
  },
  {
   "cell_type": "code",
   "execution_count": 6,
   "metadata": {},
   "outputs": [
    {
     "data": {
      "text/plain": [
       "True"
      ]
     },
     "execution_count": 6,
     "metadata": {},
     "output_type": "execute_result"
    }
   ],
   "source": [
    "is_valid_email(\"sirdesaividish@gmail.com\")"
   ]
  },
  {
   "cell_type": "code",
   "execution_count": 7,
   "metadata": {},
   "outputs": [
    {
     "data": {
      "text/plain": [
       "False"
      ]
     },
     "execution_count": 7,
     "metadata": {},
     "output_type": "execute_result"
    }
   ],
   "source": [
    "is_valid_email(\"sirdesaividish_gmail.com\")"
   ]
  },
  {
   "cell_type": "code",
   "execution_count": 8,
   "metadata": {},
   "outputs": [
    {
     "data": {
      "text/plain": [
       "True"
      ]
     },
     "execution_count": 8,
     "metadata": {},
     "output_type": "execute_result"
    }
   ],
   "source": [
    "is_valid_email(\"sirdesai@vidish.com\")"
   ]
  },
  {
   "cell_type": "markdown",
   "metadata": {},
   "source": [
    "# Writing Regular Expressions\n",
    "\n",
    "Tools to test regular expression:\n",
    "- https://regex101.com is a tool that helps you build, test, and debug regular expressions.\n",
    "- https://pythex.org is also a similar tool.\n",
    "\n",
    "### Meta characters\n",
    "Meta characters are characters are characters with special meaning,\n",
    "\n",
    "| character | description | example |\n",
    "| :-: | :-: | :-: |\n",
    "| `[]` | A set of characters | `\"[a-m]\"` |\n",
    "| `\\` | Signals a special character (can also be used to escape special characters) | `\"\\d\"` |\n",
    "| `.` | A character (except a newline character) | `\"he..o\"` |\n",
    "| `^` | Starts with | `\"^hello\"` |\n",
    "| `$` | Ends with | `\"planet$\"` |\n",
    "| `*` | Zero or more occurrences | `\"he.*o\"` |\n",
    "| `+` | One or more occurrences | `\"he.+o\"` |\n",
    "| `?` | Zero or one occurrences | `\"he.?o\"` |\n",
    "| `{}` | Exactly the specified number of occurrences | `\"he.{2}o\"` |\n",
    "| `pipe` | Either or | `\"falls pipe stays\"` |\n",
    "| `()` | Capture and group |  |\n",
    "\n",
    "### Special sequences\n",
    "A special sequence is `\\` (backslash) followed by one of the characters in the list below and has a special meaning,\n",
    "\n",
    "| character | description | example |\n",
    "| :-: | :-: | :-: |\n",
    "| `\\A` | Returns a match if the specified characters are at the beginning of the string | `\"\\AThe\"` |\n",
    "| `\\b` | Returns a match where the specified characters are at the beginning or at the end of the word | `r\"\\bain\"` |\n",
    "| `\\b` | (the \"r\" in the beginning is making sure that the string is being treated as a \"raw string\") | `r\"ain\\b\"` |\n",
    "| `\\B` | Returns a match where the specified characters are present, but NOT at the beginning (or at the end) of a word | `r\"\\Bain\"` |\n",
    "| `\\B` | (the \"r\" in the beginning is making sure that the string is being treated as a \"raw string\") | `r\"ain\\B\"` |\n",
    "| `\\d` | Returns a match where the string contains digits (numbers from 0-9) | `\\d` |\n",
    "| `\\D` | Returns a match where the string DOES NOT contain digits | `\\D` |\n",
    "| `\\s` | Returns a match where the string contains a white space character | `\\s` |\n",
    "| `\\S` | Returns a match where the string DOES NOT contain a white space character | `\\S` |\n",
    "| `\\w` | Returns a match where the string contains any word characters (characters from a to Z, digits from 0-9, and the underscore _ character) | `\\w` |\n",
    "| `\\W` | Returns a match where the string DOES NOT contain any word characters | `\\W` |\n",
    "| `\\Z` | Returns a match if the specified characters are at the end of the string | `\"Spain\\Z\"` |\n",
    "\n",
    "### Sets\n",
    "A set is a set of characters inside a pair of square brackets `[]` with special meaning,\n",
    "\n",
    "| set | description |\n",
    "| :-: | :-: |\n",
    "| `[arn]` | Returns a match where one of the specified characters (`a`, `r` or `n`) is present |\n",
    "| `[a-n]` | Returns a match for any lowercase character, alphabetically between `a` and `n` |\n",
    "| `[^arn]` | Returns a match for any character EXCEPT, `a`, `r` and `n` |\n",
    "| `[0123]` | Returns a match where any of the specified digits (`0`, `1`, `2`, or `3`) are present |\n",
    "| `[0-9]` | Returns a match for any digits between 0 and 9 |\n",
    "| `[0-5][0-9]` | Returns a match for any two-digit numbers from `00` and `59` |\n",
    "| `[a-zA-Z]` | Returns a match for any character alphabetically between `a` and `z` , lowercase OR uppercase |\n",
    "| `[+]` | In sets, `+`, `*`, `.`, `pipe`, `()`, `$`, `{}` has no special meaning, so `[+]` means: return a match for any `+` character in the string |"
   ]
  },
  {
   "cell_type": "markdown",
   "metadata": {},
   "source": [
    "# Decoding The Regular Expression"
   ]
  },
  {
   "cell_type": "code",
   "execution_count": 9,
   "metadata": {},
   "outputs": [],
   "source": [
    "# regex used earlier is as below\n",
    "regex = \"^\\w+([\\.-]?\\w+)*@\\w+([\\.-]?\\w+)*(\\.\\w{2,3})+$\""
   ]
  },
  {
   "cell_type": "markdown",
   "metadata": {},
   "source": [
    "### Meaning\n",
    "- `^`: Matches the beginning of the string.\n",
    "- `\\w+`: Matches one or more word characters (letters, digits or underscores).\n",
    "- `([\\.-]?\\w+)*`: Matches zero or more occurrences of an optional dot or hyphen followed by one or more word characters.\n",
    "- `@`: Matches the literal `@` symbol.\n",
    "- `\\w+`: Matches one or more word characters.\n",
    "- `([\\.-]?\\w+)*`: Matches zero or more occurrences of an optional dot or hyphen followed by one or more word characters.\n",
    "- `(\\.\\w{2,3})`: Matches a dot followed by 2 to 3 word characters.\n",
    "- `+`: Matches one or more occurrences of the preceding group (i.e., the TLD).\n",
    "- `$`: Matches the end of the string."
   ]
  },
  {
   "cell_type": "code",
   "execution_count": 10,
   "metadata": {},
   "outputs": [
    {
     "name": "stdout",
     "output_type": "stream",
     "text": [
      "abcd@iisc.ac.in\n",
      "<re.Match object; span=(0, 15), match='abcd@iisc.ac.in'>\n"
     ]
    }
   ],
   "source": [
    "import re\n",
    "regex = \"^\\w+([\\.-]?\\w+)*@\\w+([\\.-]?\\w+)*(\\.\\w{2,3})+$\"\n",
    "\n",
    "reg_pattern = re.compile(\n",
    "    \"\"\"\n",
    "    ^\\w+([\\.-]?\\w+)*    # starts with \\w+ - user\n",
    "    @                   # single @ sign\n",
    "    \\w+([\\.-]?\\w+)*     # domain name\n",
    "    (\\.\\w{2,3})+$       # .com, .ac, .in., .co\n",
    "    \"\"\",\n",
    "    re.VERBOSE | re.IGNORECASE\n",
    ")\n",
    "\n",
    "result = reg_pattern.match(\"abcd@iisc.ac.in\")\n",
    "print(result.string)\n",
    "print(result)"
   ]
  },
  {
   "cell_type": "markdown",
   "metadata": {},
   "source": [
    "# RegEx Methods To Look Into\n",
    "- `re.compile()`\n",
    "- `re.match()`\n",
    "- `re.search()`\n",
    "- `re.findall()`\n",
    "- `re.finditer()`\n",
    "- `re.split()`\n",
    "- `re.sub()`"
   ]
  },
  {
   "cell_type": "code",
   "execution_count": 11,
   "metadata": {},
   "outputs": [
    {
     "name": "stdout",
     "output_type": "stream",
     "text": [
      "None\n"
     ]
    }
   ],
   "source": [
    "# re.match()\n",
    "pattern = \"\\d{3}-\\d{3}-\\d{4}\"\n",
    "print(re.match(pattern, data))"
   ]
  },
  {
   "cell_type": "code",
   "execution_count": 12,
   "metadata": {},
   "outputs": [
    {
     "name": "stdout",
     "output_type": "stream",
     "text": [
      "<re.Match object; span=(12, 24), match='615-555-7164'>\n"
     ]
    }
   ],
   "source": [
    "# re.search()\n",
    "print(re.search(pattern, data))"
   ]
  },
  {
   "cell_type": "code",
   "execution_count": 13,
   "metadata": {},
   "outputs": [
    {
     "name": "stdout",
     "output_type": "stream",
     "text": [
      "['615-555-7164', '800-555-5669', '560-555-5153', '900-555-9340', '714-555-7405', '800-555-6771', '783-555-4799', '516-555-4615', '127-555-1867', '608-555-4938', '568-555-6051', '292-555-1875', '900-555-3205', '614-555-1166', '530-555-2676', '470-555-2750', '800-555-6089', '880-555-8319', '777-555-8378', '998-555-7385', '800-555-7100', '903-555-8277', '196-555-5674', '900-555-5118', '905-555-1630', '203-555-3475', '884-555-8444', '904-555-8559', '889-555-7393', '195-555-2405', '321-555-9053', '133-555-1711', '900-555-5428', '760-555-7147', '391-555-6621', '932-555-7724', '609-555-7908', '800-555-8810', '149-555-7657', '130-555-9709', '143-555-9295', '903-555-9878', '574-555-3194', '496-555-7533', '210-555-3757', '900-555-9598', '866-555-9844', '669-555-7159', '152-555-7417', '893-555-9832', '217-555-7123', '786-555-6544', '780-555-2574', '926-555-8735', '895-555-3539', '874-555-3949', '800-555-2420', '936-555-6340', '372-555-9809', '890-555-5618', '670-555-3005', '509-555-5997', '721-555-5632', '900-555-3567', '147-555-6830', '582-555-3426', '400-555-1706', '525-555-1793', '317-555-6700', '974-555-8301', '800-555-3216', '746-555-4094', '922-555-1773', '711-555-4427', '355-555-1872', '852-555-6521', '691-555-5773', '332-555-5441', '900-555-7755', '379-555-3685', '127-555-9682', '789-555-7032', '783-555-5135', '315-555-6507', '481-555-5835', '365-555-8287', '911-555-7535', '681-555-2460', '274-555-9800', '800-555-1372', '300-555-7821', '133-555-3889', '705-555-6863', '215-555-9449', '988-555-6112', '623-555-3006', '192-555-4977', '178-555-4899', '952-555-3089', '900-555-6426']\n"
     ]
    }
   ],
   "source": [
    "# re.findall()\n",
    "print(re.findall(pattern, data))"
   ]
  },
  {
   "cell_type": "code",
   "execution_count": 14,
   "metadata": {},
   "outputs": [
    {
     "name": "stdout",
     "output_type": "stream",
     "text": [
      "<re.Match object; span=(12, 24), match='615-555-7164'>\n",
      "<re.Match object; span=(102, 114), match='800-555-5669'>\n",
      "<re.Match object; span=(191, 203), match='560-555-5153'>\n",
      "<re.Match object; span=(281, 293), match='900-555-9340'>\n",
      "<re.Match object; span=(378, 390), match='714-555-7405'>\n",
      "<re.Match object; span=(467, 479), match='800-555-6771'>\n"
     ]
    }
   ],
   "source": [
    "# re.finditer()\n",
    "numbers = re.finditer(pattern, data)\n",
    "for i, num in enumerate(numbers):\n",
    "    print(num)\n",
    "    if (i==5):\n",
    "        break"
   ]
  },
  {
   "cell_type": "code",
   "execution_count": 15,
   "metadata": {},
   "outputs": [
    {
     "name": "stdout",
     "output_type": "stream",
     "text": [
      "615-555-7164 12 24\n",
      "800-555-5669 102 114\n",
      "560-555-5153 191 203\n",
      "900-555-9340 281 293\n",
      "714-555-7405 378 390\n",
      "800-555-6771 467 479\n"
     ]
    }
   ],
   "source": [
    "# re.finditer()\n",
    "numbers = re.finditer(pattern, data)\n",
    "for i, num in enumerate(numbers):\n",
    "    print(num.group(), num.start(), num.end())\n",
    "    if (i==5):\n",
    "        break"
   ]
  }
 ],
 "metadata": {
  "kernelspec": {
   "display_name": "Python 3",
   "language": "python",
   "name": "python3"
  },
  "language_info": {
   "codemirror_mode": {
    "name": "ipython",
    "version": 3
   },
   "file_extension": ".py",
   "mimetype": "text/x-python",
   "name": "python",
   "nbconvert_exporter": "python",
   "pygments_lexer": "ipython3",
   "version": "3.11.9"
  }
 },
 "nbformat": 4,
 "nbformat_minor": 2
}
