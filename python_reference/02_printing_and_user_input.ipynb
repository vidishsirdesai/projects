{
 "cells": [
  {
   "cell_type": "markdown",
   "metadata": {},
   "source": [
    "# Printing\n",
    "The `print()` function is used to display information or output to the standard output device (usually the command line interface). `print()` can be used to display texts, numerical values, variable values (values stored in a variable) or results of expressions.\n",
    "\n",
    "```Python\n",
    "# syntax\n",
    "print(value1, value2, sep = \"\", end = \"\", file = sys.stdout, flush = False)\n",
    "```\n",
    "\n",
    "`value1`, `value2`, ...: These are values or expression that will be printed. Multiple values can be printed at once by specifying their names in the `print()` function separated by commas."
   ]
  },
  {
   "cell_type": "code",
   "execution_count": 1,
   "metadata": {},
   "outputs": [
    {
     "name": "stdout",
     "output_type": "stream",
     "text": [
      "hello\n",
      "1 1.11 hello\n"
     ]
    }
   ],
   "source": [
    "print(\"hello\")\n",
    "print(1, 1.11, \"hello\")"
   ]
  },
  {
   "cell_type": "markdown",
   "metadata": {},
   "source": [
    "`sep = \"\"`: This attribute of the `print()` function determines the type of separator between the values. The default is, `\" \"` (space)."
   ]
  },
  {
   "cell_type": "code",
   "execution_count": 2,
   "metadata": {},
   "outputs": [
    {
     "name": "stdout",
     "output_type": "stream",
     "text": [
      "1, 1.11, hello\n"
     ]
    }
   ],
   "source": [
    "print(1, 1.11, \"hello\", sep = \", \")"
   ]
  },
  {
   "cell_type": "markdown",
   "metadata": {},
   "source": [
    "`end = \"\"`: This attribute of the `print()` function determines what character will be printed at the end of the last value in the `print()` function. The default is, `\"\\n\"` (newline)."
   ]
  },
  {
   "cell_type": "code",
   "execution_count": 3,
   "metadata": {},
   "outputs": [
    {
     "name": "stdout",
     "output_type": "stream",
     "text": [
      "1, 1.11, hello."
     ]
    }
   ],
   "source": [
    "print(1, 1.11, \"hello\", sep = \", \", end = \".\")"
   ]
  },
  {
   "cell_type": "markdown",
   "metadata": {},
   "source": [
    "`file = sys.stdout`: This attribute of the `print()` function specifies a file-like object where the output will be sent to. By default, it is set to `sys.stdout`, which represents the standard output. The output can be redirected to a file or another file-like object by passing it as an argument in the `file` attribute (like this, `file = file_name.extension`). In order to do so, the file has to be opened first (existing, or a new file can be created). Once the operation has been performed, the file has to be closed."
   ]
  },
  {
   "cell_type": "code",
   "execution_count": 4,
   "metadata": {},
   "outputs": [],
   "source": [
    "test = open(\"test.txt\", \"w+\")\n",
    "print(1, 1.11, \"hello\", sep = \", \", end = \".\", file = test)\n",
    "test.close()"
   ]
  },
  {
   "cell_type": "code",
   "execution_count": 5,
   "metadata": {},
   "outputs": [
    {
     "name": "stdout",
     "output_type": "stream",
     "text": [
      "1, 1.11, hello."
     ]
    }
   ],
   "source": [
    "%cat test.txt"
   ]
  },
  {
   "cell_type": "markdown",
   "metadata": {},
   "source": [
    "`flush = False`: This attribute when set to `True`, forces the output to be immediately flushed onto the console window, which means it is written to the output device immediately rather than being held in the buffer only to be printed after the complete execution of the script. The default is, `flush = False`."
   ]
  },
  {
   "cell_type": "code",
   "execution_count": 6,
   "metadata": {},
   "outputs": [
    {
     "name": "stdout",
     "output_type": "stream",
     "text": [
      "1, 1.11, hello."
     ]
    }
   ],
   "source": [
    "print(1, 1.11, \"hello\", sep = \", \", end = \".\", flush = True)"
   ]
  },
  {
   "cell_type": "markdown",
   "metadata": {},
   "source": [
    "# Output Formatting"
   ]
  },
  {
   "cell_type": "code",
   "execution_count": 7,
   "metadata": {},
   "outputs": [
    {
     "name": "stdout",
     "output_type": "stream",
     "text": [
      "length =  10 breadth =  20 area =  200\n",
      "length = 10, breadth = 20, area = 200\n",
      "length = 10, breadth = 20, area = 200\n",
      "length = 10, breadth = 20, area = 200\n"
     ]
    }
   ],
   "source": [
    "l, b, a = 10, 20, 200\n",
    "\n",
    "# traditional way of formatting\n",
    "print(\"length = \", l, \"breadth = \", b, \"area = \", a)\n",
    "\n",
    "# using the .format() method\n",
    "print(\"length = {}, breadth = {}, area = {}\".format(l, b, a))\n",
    "\n",
    "# using the .format() method\n",
    "print(\"length = {2}, breadth = {1}, area = {0}\". format(a, b, l))\n",
    "\n",
    "# the python way\n",
    "print(f\"length = {l}, breadth = {b}, area = {a}\") # best practice"
   ]
  },
  {
   "cell_type": "markdown",
   "metadata": {},
   "source": [
    "# User Input\n",
    "`input()` is used to read a line of string as input from the user. The `input()` function prompts the user for an input. The user's response can be stored in a variable.\n",
    "\n",
    "The response is stored as string data type (by default). If there is a need to convert the user input to a different data type, then it has to be done explicitly.\n",
    "\n",
    "```Python\n",
    "# syntax\n",
    "user_input = input(\"Prompt to display: \")\n",
    "```"
   ]
  },
  {
   "cell_type": "code",
   "execution_count": 8,
   "metadata": {},
   "outputs": [
    {
     "name": "stdout",
     "output_type": "stream",
     "text": [
      "Hello!\n",
      "<class 'str'>\n"
     ]
    }
   ],
   "source": [
    "# example\n",
    "user_input = input()\n",
    "print(user_input)\n",
    "print(type(user_input))"
   ]
  },
  {
   "cell_type": "markdown",
   "metadata": {},
   "source": [
    "`\"Prompt to display: \"`: This is an optional string argument that specifies the message or question that is to be displayed to the user while waiting for their input. If it is embedded into the `input()` function, this message will be shown to the user on the console window.\n",
    "\n",
    "The following is an example of using `input()` to get the user input and then print a greeting,"
   ]
  },
  {
   "cell_type": "code",
   "execution_count": 9,
   "metadata": {},
   "outputs": [
    {
     "name": "stdout",
     "output_type": "stream",
     "text": [
      "Hello Pete!\n"
     ]
    }
   ],
   "source": [
    "user_name = input(\"Please enter your name: \")\n",
    "print(f\"Hello {user_name}!\")"
   ]
  },
  {
   "cell_type": "markdown",
   "metadata": {},
   "source": [
    "When the above code block is run, it will prompt the user to enter an input and then it will greet them with the name they entered.\n",
    "\n",
    "Keep in mind that `input()` always stores the user input as a string. If there is a need for the input to be of different data type, then the entered input will have to be explicitly converted to the required data type."
   ]
  },
  {
   "cell_type": "code",
   "execution_count": 10,
   "metadata": {},
   "outputs": [
    {
     "name": "stdout",
     "output_type": "stream",
     "text": [
      "<class 'str'>\n"
     ]
    }
   ],
   "source": [
    "user_input = input(\"Enter your input here: \")\n",
    "print(type(user_input))"
   ]
  },
  {
   "cell_type": "code",
   "execution_count": 11,
   "metadata": {},
   "outputs": [
    {
     "ename": "ValueError",
     "evalue": "invalid literal for int() with base 10: 'Hi!'",
     "output_type": "error",
     "traceback": [
      "\u001b[0;31m---------------------------------------------------------------------------\u001b[0m",
      "\u001b[0;31mValueError\u001b[0m                                Traceback (most recent call last)",
      "Cell \u001b[0;32mIn[11], line 3\u001b[0m\n\u001b[1;32m      1\u001b[0m \u001b[38;5;66;03m# user_input = int(user_input)\u001b[39;00m\n\u001b[1;32m      2\u001b[0m \u001b[38;5;66;03m# user_input = float(user_input)\u001b[39;00m\n\u001b[0;32m----> 3\u001b[0m user_input \u001b[38;5;241m=\u001b[39m \u001b[38;5;28;43mint\u001b[39;49m\u001b[43m(\u001b[49m\u001b[38;5;28;43minput\u001b[39;49m\u001b[43m(\u001b[49m\u001b[38;5;124;43m\"\u001b[39;49m\u001b[38;5;124;43mEnter your input here: \u001b[39;49m\u001b[38;5;124;43m\"\u001b[39;49m\u001b[43m)\u001b[49m\u001b[43m)\u001b[49m\n\u001b[1;32m      4\u001b[0m \u001b[38;5;66;03m# user_input = float(input(\"Enter your input here: \"))\u001b[39;00m\n\u001b[1;32m      5\u001b[0m \u001b[38;5;28mprint\u001b[39m(\u001b[38;5;28mtype\u001b[39m(user_input))\n",
      "\u001b[0;31mValueError\u001b[0m: invalid literal for int() with base 10: 'Hi!'"
     ]
    }
   ],
   "source": [
    "# user_input = int(user_input)\n",
    "# user_input = float(user_input)\n",
    "user_input = int(input(\"Enter your input here: \"))\n",
    "# user_input = float(input(\"Enter your input here: \"))\n",
    "print(type(user_input))"
   ]
  },
  {
   "cell_type": "code",
   "execution_count": 12,
   "metadata": {},
   "outputs": [
    {
     "name": "stdout",
     "output_type": "stream",
     "text": [
      "1010\n",
      "20\n"
     ]
    }
   ],
   "source": [
    "# code showing the usage of the + operator\n",
    "num1 = input(\"Enter an integer: \")\n",
    "num2 = input(\"Enter another integer: \")\n",
    "print(num1 + num2) # string concatenation\n",
    "print(int(num1) + int(num2)) # integer addition"
   ]
  },
  {
   "cell_type": "code",
   "execution_count": 13,
   "metadata": {},
   "outputs": [
    {
     "name": "stdout",
     "output_type": "stream",
     "text": [
      "20\n"
     ]
    }
   ],
   "source": [
    "# code showing the addition of 2 numbers\n",
    "num1 = int(input(\"Enter an integer: \"))\n",
    "num2 = int(input(\"Enter another integer: \"))\n",
    "print(num1 + num2)"
   ]
  }
 ],
 "metadata": {
  "kernelspec": {
   "display_name": "Python 3",
   "language": "python",
   "name": "python3"
  },
  "language_info": {
   "codemirror_mode": {
    "name": "ipython",
    "version": 3
   },
   "file_extension": ".py",
   "mimetype": "text/x-python",
   "name": "python",
   "nbconvert_exporter": "python",
   "pygments_lexer": "ipython3",
   "version": "3.11.9"
  }
 },
 "nbformat": 4,
 "nbformat_minor": 2
}
