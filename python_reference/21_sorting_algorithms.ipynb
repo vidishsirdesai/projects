{
 "cells": [
  {
   "cell_type": "markdown",
   "metadata": {},
   "source": [
    "# Bubble Sort\n",
    "Bubble sort is a simple sorting algorithm that repeateadly steps through the list, compares adjacent elements and swaps them if they are in the wrong order. The pass through the list is repeated until no swaps are needed, indicating that the list is sorted. It is called \"bubble sort\" because the smaller elements \"bubble\" to the top of the list during each pass.\n",
    "\n",
    "### Algorithm\n",
    "1. Start at the beginning of the list.\n",
    "2. Compare the first two elements. If the first element is greater than the second, swap them. If not, leave them in their positions.\n",
    "3. Move to the next pair of elements (the second and third elements) and compare them. Again, if the second element is smaller than the third, leave them; otherwise, swap them.\n",
    "4. Continue this process, moving one element to the right with each pass, until you reach the end of the list. After the first pass, the largest element will have \"bubbled up\" to the last position.\n",
    "5. Repeat the process from the beginning (starting at the first pair of elements) until no more swaps are needed during a pass. This indicates that the list is sorted.\n",
    "\n",
    "### Python code\n",
    "```Python\n",
    "def bubble_sort(a):\n",
    "\t#j is compared with (j + 1).\n",
    "\tfor i in range(len(a) - 1):\n",
    "\t\t# the below 2 lines are only for analysis\n",
    "\t\tprint(a)\n",
    "\t\tprint(\"-\"*20)\n",
    "\t\t# This will avoid the comparison of elements that are already sorted.\n",
    "\t\tfor j in range(len(a) - i - 1): \n",
    "\t\t\tif a[j] > a[j + 1]:\n",
    "\t\t\t\ta[j], a[j+ 1] = a[j + 1], a[j]\n",
    "\t\t\t# the line below is only for analysis\n",
    "\t\t\tprint(\"\\t\", a)\n",
    "\treturn a\n",
    "\n",
    "a = [5, 1, 2, 4, 7, 3]\n",
    "bubble_sort(a)\n",
    "\n",
    "\n",
    "def bubble_sort_ascending(a):\n",
    "    for i in range(len(a) - 1):\n",
    "        for j in range(len(a) - i - 1):\n",
    "            if a[j] > a[j + 1]:\n",
    "                a[j], a[j + 1] = a[j + 1], a[j]\n",
    "    \n",
    "    return a\n",
    "    \n",
    "    \n",
    "def bubble_sort_descending(a):\n",
    "    for i in range(len(a) - 1):\n",
    "        for j in range(len(a) - i - 1):\n",
    "            if a[j] < a[j + 1]:\n",
    "                a[j], a[j + 1] = a[j + 1], a[j]\n",
    "            \n",
    "    return a\n",
    "```\n",
    "\n",
    "### Time complexity\n",
    "- $\\text{Best Case} = \\Omega(n^2)$.\n",
    "- $\\text{Worst Case} = O(n^2)$."
   ]
  },
  {
   "cell_type": "markdown",
   "metadata": {},
   "source": []
  }
 ],
 "metadata": {
  "language_info": {
   "name": "python"
  }
 },
 "nbformat": 4,
 "nbformat_minor": 2
}
