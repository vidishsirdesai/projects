{
 "cells": [
  {
   "cell_type": "markdown",
   "metadata": {},
   "source": [
    "\n",
    "# What Are Functions?\n",
    "Functions contain set of instructions in a block of code which are modular in nature and can be reused. The meaning of modular is that the code can be placed anywhere and it will exist as a single unit (functions as a unit are independent).\n",
    "\n",
    "A block of code which would be used repeateadly can be defined inside a function. In order to execute the block of code, a call is made to the function in the program. A unique identifier is used to define a function.\n",
    "\n",
    "After the block of code in a function has completed execution, it returns a value and the control is then returned to the next statement in the program."
   ]
  },
  {
   "cell_type": "markdown",
   "metadata": {},
   "source": [
    "# What Is Functional Programming?\n",
    "Functional programming is a programming paradigm like OOP. Functions, like everything else in Python are also objects."
   ]
  },
  {
   "cell_type": "markdown",
   "metadata": {},
   "source": [
    "# Function Definition\n",
    "In order to use a function, it must be defined. Defining a function involves assigning a unique identifier to it. The `def` keyword is used to define a function.\n",
    "\n",
    "```Python\n",
    "# syntax\n",
    "# function definition\n",
    "def function_name():\n",
    "    pass\n",
    "```\n"
   ]
  },
  {
   "cell_type": "markdown",
   "metadata": {},
   "source": [
    "# Function Call\n",
    "After a function has been defined, it must be called in order to execute the code within the function. The identifier name assigned to the function is used to call a function.\n",
    "\n",
    "```Python\n",
    "# syntax\n",
    "# function definition\n",
    "def function_name():\n",
    "\tpass\n",
    "\n",
    "# function call\n",
    "function_name()\n",
    "```"
   ]
  },
  {
   "cell_type": "markdown",
   "metadata": {},
   "source": [
    "# `return`\n",
    "`return` keyword is used to specify what value a function should return to the caller. When the execution reaches `return`, it immediately terminates and returns the value specified in the `return` statement to the caller object. The following is how `return` works,\n",
    "1. Syntax: `return` is followed by an expression that represents the value that is to be returned. It can be a variable containing a value, a constant, a calculation or any valid Python expression.\n",
    "2. Termination: When `return` is encountered, the execution of the function terminates immediately. Any code following `return` within the same code block is not executed.\n",
    "3. Returning multiple values: A function can return multiple values. These values are packed into a tuple and will have to be unpacked at the receiving end.\n",
    "4. Optional: A function can have 0 or more than 1 `return` keywords. However, if `return` is not present in the function, `None` is implicitly returned, indicating the absence of a return value."
   ]
  },
  {
   "cell_type": "code",
   "execution_count": 1,
   "metadata": {},
   "outputs": [
    {
     "name": "stdout",
     "output_type": "stream",
     "text": [
      "The sum is: 7\n"
     ]
    }
   ],
   "source": [
    "# example showing a function with a return statement\n",
    "def add(a, b):\n",
    "    result = a + b\n",
    "    return result  # Return the sum of a and b\n",
    "\n",
    "# Call the function and store the result\n",
    "sum_result = add(3, 4)\n",
    "\n",
    "print(\"The sum is:\", sum_result)"
   ]
  },
  {
   "cell_type": "markdown",
   "metadata": {},
   "source": [
    "In the above example, the `add()` function takes 2 arguments (`a` and `b`), calculates their sum and returns the result using `return`. When the function is called with `add(3, 4)`, it returns `7`, which is stored in the `sum_result` variable.\n",
    "\n",
    "The value returned by the function can be used in various ways, such as assigning it to a variable, using it in calculations or passing it as an argument to another function. `return` allows functions to output results or data to the rest of the program.\n",
    "\n",
    "In Python, functions are not required to have `return`. Many functions, especially those that perform some action or side effects without producing a specific result do not use `return`. If a function does not contain `return`, it implicitly returns `None`, indicating that it does not return any specific value. `None` is a special Python object that is used to represent the absence of a value."
   ]
  },
  {
   "cell_type": "markdown",
   "metadata": {},
   "source": [
    "# Function Arguments\n",
    "Arguments are objects that are passed to the function when the function call is made. The arguments to a function should be passed in a specified order which is defined at the time of creation of the function.\n",
    "\n",
    "These arguments are used to perform some operation which results in an output.\n",
    "\n",
    "```Python\n",
    "# syntax\n",
    "# function definition\n",
    "def function_name(arg1, arg2):\n",
    "\t# arg1 and arg2 are arguments\n",
    "\tpass\n",
    "\n",
    "# function call\n",
    "function_name(arg1, arg2)\n",
    "```"
   ]
  },
  {
   "cell_type": "code",
   "execution_count": 2,
   "metadata": {},
   "outputs": [
    {
     "name": "stdout",
     "output_type": "stream",
     "text": [
      "25\n"
     ]
    }
   ],
   "source": [
    "# example\n",
    "def add_two_numbers(num1, num2):\n",
    "\tresult = num1 + num2\n",
    "\tprint(result)\n",
    "\n",
    "add_two_numbers(10, 15)"
   ]
  },
  {
   "cell_type": "markdown",
   "metadata": {},
   "source": [
    "# What Are The Ways In Which Arguments Are Passed To A Function?"
   ]
  },
  {
   "cell_type": "markdown",
   "metadata": {},
   "source": [
    "### Positional arguments\n",
    "```Python\n",
    "# syntax\n",
    "def function_name(pos_arg1, pos_arg2, pos_argN)\n",
    "\tpass\n",
    "function_name(pos_arg1, pos_arg2, pos_argN)\n",
    "```"
   ]
  },
  {
   "cell_type": "code",
   "execution_count": 3,
   "metadata": {},
   "outputs": [
    {
     "name": "stdout",
     "output_type": "stream",
     "text": [
      "Hello!\n",
      "7\n",
      "HelloHelloHelloHelloHello\n"
     ]
    }
   ],
   "source": [
    "# example\n",
    "def product(num1, num2, string1):\n",
    "\tprint(string1)\n",
    "\treturn num1 * num2\n",
    "result = product(5, 7, \"Hello!\") # correct\n",
    "result = product(5, \"Hello\", 7) # incorrect\n",
    "print(result)"
   ]
  },
  {
   "cell_type": "markdown",
   "metadata": {},
   "source": [
    "### Keyword arguments\n",
    "```Python\n",
    "# syntax\n",
    "def function_name(key_arg1, key_arg2, key_argN)\n",
    "\tpass\n",
    "function_name(key_arg2 = value, key_argN = value, key_arg1 = value)\n",
    "```"
   ]
  },
  {
   "cell_type": "code",
   "execution_count": 4,
   "metadata": {},
   "outputs": [
    {
     "name": "stdout",
     "output_type": "stream",
     "text": [
      "My name is Peter\n",
      "My sibling's name is Harry\n",
      "My father's name is Jack\n",
      "My mother's name is Dorothy\n"
     ]
    }
   ],
   "source": [
    "# example\n",
    "def introduce_family(my_name, sibling_name, father_name, mother_name):\n",
    "    print(\"My name is\", my_name)\n",
    "    print(\"My sibling's name is\", sibling_name)\n",
    "    print(\"My father's name is\", father_name)\n",
    "    print(\"My mother's name is\", mother_name)\n",
    "\n",
    "introduce_family(\n",
    "\tfather_name = \"Jack\",\n",
    "\tmother_name = \"Dorothy\",\n",
    "\tmy_name = \"Peter\",\n",
    "\tsibling_name = \"Harry\"\n",
    ")"
   ]
  },
  {
   "cell_type": "markdown",
   "metadata": {},
   "source": [
    "### Default arguments"
   ]
  },
  {
   "cell_type": "code",
   "execution_count": 5,
   "metadata": {},
   "outputs": [
    {
     "data": {
      "text/plain": [
       "500.0"
      ]
     },
     "execution_count": 5,
     "metadata": {},
     "output_type": "execute_result"
    }
   ],
   "source": [
    "def simple_interest(p, r, t = 2): # default arguments\n",
    "    interest = (p*r*t) / 100\n",
    "    return interest\n",
    "simple_interest(5000, 5)"
   ]
  },
  {
   "cell_type": "code",
   "execution_count": 6,
   "metadata": {},
   "outputs": [
    {
     "data": {
      "text/plain": [
       "1000.0"
      ]
     },
     "execution_count": 6,
     "metadata": {},
     "output_type": "execute_result"
    }
   ],
   "source": [
    "simple_interest(5000, 5, 4)"
   ]
  },
  {
   "cell_type": "code",
   "execution_count": 7,
   "metadata": {},
   "outputs": [
    {
     "ename": "SyntaxError",
     "evalue": "non-default argument follows default argument (2752505297.py, line 1)",
     "output_type": "error",
     "traceback": [
      "\u001b[0;36m  Cell \u001b[0;32mIn[7], line 1\u001b[0;36m\u001b[0m\n\u001b[0;31m    def simple_interest(p, r = 5, t):\u001b[0m\n\u001b[0m                                  ^\u001b[0m\n\u001b[0;31mSyntaxError\u001b[0m\u001b[0;31m:\u001b[0m non-default argument follows default argument\n"
     ]
    }
   ],
   "source": [
    "def simple_interest(p, r = 5, t):\n",
    "    interest = (p*r*t) / 100\n",
    "    return interest\n",
    "# SyntaxError"
   ]
  },
  {
   "cell_type": "markdown",
   "metadata": {},
   "source": [
    "### Rules for passing arguments to a function\n",
    "- A combination of keyword and positional arguments can be used while passing the arguments.\n",
    "- Positional arguments MUST be passed before the keyword arguments during function call. Else, `SyntaxError` is encountered. This is applicable to definition as well.\n",
    "- Multiple values cannot be passed for a single argument.\n",
    "- The value specified with a default argument will be used if no value is passed during the function call.\n",
    "- When a default argument is defined, all the arguments following the default arguments should also be default argument.\n",
    "- While declaring order, during function definition, it is best if positional arguments are declared first, followed by keyword arguments, followed by default arguments at last.\n",
    "- While passing the arguments, follow the order that the arguments are declared in, i.e., positional, followed by keyword, followed by default."
   ]
  },
  {
   "cell_type": "markdown",
   "metadata": {},
   "source": [
    "# Docstrings\n",
    "In Python, a docstring is a special type of comment or string that is used while writing documentation for functions, classes, methods or modules. Docstrings are meant to describe the purpose, usage and behavior of the code they document. They are made to make the code more understandable and help the programmers who may work with or maintain the code.\n",
    "\n",
    "The following are some key points about docstrings,\n",
    "1. Triple quotes: Docstrings are typically enclosed in triple-quote (either single or double quotes). This allows them to span over multiple lines and provide a convenient way to include detailed explanations.\n",
    "2. Location: Docstrings are placed immediately after the definition of a function, class or a module. They should be the first statement within a function, class or a module.\n",
    "3. Content: Docstrings often include information such as the purpose of the code, parameters and their descriptions, return values and any other relevant details.\n",
    "4. Accessing docstrings: Docstring of a function, class or a module can be accessed using the `__docstring__` attribute.\n",
    "\n",
    "Using docstrings is considered a good practive in Python, as it helps improve the code's readability, makes it easier for others to understand and use the code and allows automated documentation tools to generate documentation from the docstrings.\n",
    "\n",
    "### Ideal way to write a docstring\n",
    "Writing clear and informative docstrings is essential for making the code more understandable and maintainable. An ideal docstring should provide a detailed information about the purpose, usage and behavior of the code it is documenting. The following are general guidelines on how to write effective docstrings,\n",
    "1. Use triple quote: Docstrings are enclosed in triple quotes. This allows them to span multiple lines, making it easy to include detailed explanations.\n",
    "2. Start with a summary: Begin the docstring with a concise one line summary that describes the purpose of the code or the function's role.\n",
    "3. Parameters: If the code or function takes parameters, document them by listing each parameter's name, type and a brief description of its purpose. Use the \"Parameters\" section to make this information clear.\n",
    "4. Return value: Specify the return value of the function. Use the \"Returns\" section for this purpose.\n",
    "5. Examples: Include examples of how to use the function. This helps users understand how to apply it in practive. The \"Examples\" or \"Usage\" section can be used for this.\n",
    "6. Additional details: Add any additional details that are relevant to the code's behavior or any special considerations. This can include exceptions raised, side effects or limitations.\n",
    "7. Consistency: Follow a consistent style for writing docstrings throughout the codebase. This makes it easier for others to read and understand the documentation."
   ]
  },
  {
   "cell_type": "code",
   "execution_count": 8,
   "metadata": {},
   "outputs": [
    {
     "name": "stdout",
     "output_type": "stream",
     "text": [
      "\n",
      "    Calculate the average of a list of numbers.\n",
      "\n",
      "    Parameters:\n",
      "    numbers (list of float): A list of numbers to be averaged.\n",
      "\n",
      "    Returns:\n",
      "    float: The average of the numbers in the list.\n",
      "\n",
      "    Examples:\n",
      "    >>> calculate_average([1, 2, 3, 4, 5])\n",
      "    3.0\n",
      "\n",
      "    >>> calculate_average([])\n",
      "    0.0\n",
      "\n",
      "    Additional Details:\n",
      "    - This function handles both empty and non-empty input lists.\n",
      "    - Negative numbers are also considered in the average calculation.\n",
      "    \n"
     ]
    }
   ],
   "source": [
    "def calculate_average(numbers):\n",
    "    \"\"\"\n",
    "    Calculate the average of a list of numbers.\n",
    "\n",
    "    Parameters:\n",
    "    numbers (list of float): A list of numbers to be averaged.\n",
    "\n",
    "    Returns:\n",
    "    float: The average of the numbers in the list.\n",
    "\n",
    "    Examples:\n",
    "    >>> calculate_average([1, 2, 3, 4, 5])\n",
    "    3.0\n",
    "\n",
    "    >>> calculate_average([])\n",
    "    0.0\n",
    "\n",
    "    Additional Details:\n",
    "    - This function handles both empty and non-empty input lists.\n",
    "    - Negative numbers are also considered in the average calculation.\n",
    "    \"\"\"\n",
    "    if not numbers:\n",
    "        return 0.0\n",
    "    total = sum(numbers)\n",
    "    return total / len(numbers)\n",
    "\n",
    "print(calculate_average.__doc__) # access docstring"
   ]
  },
  {
   "cell_type": "markdown",
   "metadata": {},
   "source": [
    "# Functions V. Methods\n",
    "In Python, both methods and functions are blocks of code that can be executed. However, there are some key differences between them,\n",
    "1. Object-oriented programming:\n",
    "    - Function: Functions are standalone blocks of code that can be defined and called independently of any particular object or class. They are often used for general-purpose tasks and may not be associated with any specific data or objects.\n",
    "    - Method: Methods are functions that are associated with an object or a class. They operate on the data or attributes of the object and are called on instances of that class. Methods are a fundamental concept in object-oriented programming.\n",
    "2. Invocation:\n",
    "    - Function: Functions are called independently and are not tied to any specific object or class. They are invoked by their names.\n",
    "    - Method: Methods are called on instances of a class and operate on the data associated with those instances. They are invoked using the dot notation, like, `object.method()`.\n",
    "3. Parameters and `self`:\n",
    "    - Function: Functions may accept parameters as inputs, but they do not have an implicit reference to the calling object. They do not use the `self` keyword.\n",
    "    - Methods are defined within classes and have an implicit reference to the calling object through the self parameter (which is the instance of the class). They can access and manipulate the object's attributes."
   ]
  },
  {
   "cell_type": "code",
   "execution_count": 9,
   "metadata": {},
   "outputs": [],
   "source": [
    "# example illustrating the difference between a function and a method\n",
    "\n",
    "# function\n",
    "def add(a, b):\n",
    "    return a + b\n",
    "\n",
    "result = add(3, 4)\n",
    "\n",
    "# method\n",
    "class Calculator:\n",
    "    def add(self, a, b):\n",
    "        return a + b\n",
    "\n",
    "calc = Calculator()\n",
    "result = calc.add(3, 4)"
   ]
  },
  {
   "cell_type": "markdown",
   "metadata": {},
   "source": [
    "In this example, `add()` is a function that takes 2 arguments and returns their sum. `add()` can be called independently.\n",
    "\n",
    "On the other hand, `add()` is a method within the `Calculator` class. It operates on an instance of the class (`calc`) and uses `self` to access the instance's attributes or data.\n",
    "\n",
    "In summary, functions are standalone and independent blocks of code, while methods are functions associated with a specific object or class and operate on the data of that object."
   ]
  },
  {
   "cell_type": "markdown",
   "metadata": {},
   "source": [
    "# Local Variable V. Global Variable\n",
    "A variable available outside all functions, is available for use by all functions. This type of variable is called as a global variable.\n",
    "\n",
    "A variable inside a function and can be used in the function's scope is a local variable."
   ]
  },
  {
   "cell_type": "code",
   "execution_count": 10,
   "metadata": {},
   "outputs": [
    {
     "name": "stdout",
     "output_type": "stream",
     "text": [
      "Chief of house is - Peter\n",
      "New chief of house is - Charlie\n",
      "Peter\n"
     ]
    }
   ],
   "source": [
    "chief = \"Peter\" # global variable\n",
    "print(\"Chief of house is -\", chief)\n",
    "\n",
    "def change_chief():\n",
    "    chief = \"Charlie\" # local variable\n",
    "    print(\"New chief of house is -\", chief)\n",
    "\n",
    "change_chief()\n",
    "print(chief)"
   ]
  },
  {
   "cell_type": "markdown",
   "metadata": {},
   "source": [
    "# `global` Keyword\n",
    "When the `global` keyword is used before a variable, it tells the Python's interpreter to use the value that is already available.\n",
    "\n",
    "This keyword can only be used with variables that are already defined."
   ]
  },
  {
   "cell_type": "code",
   "execution_count": 11,
   "metadata": {},
   "outputs": [
    {
     "name": "stdout",
     "output_type": "stream",
     "text": [
      "20\n",
      "20\n"
     ]
    }
   ],
   "source": [
    "a = 10\n",
    "\n",
    "def random():\n",
    "    global a # the global value is changed here\n",
    "    a = 20\n",
    "    print(a)\n",
    "\n",
    "random()\n",
    "print(a)"
   ]
  },
  {
   "cell_type": "markdown",
   "metadata": {},
   "source": [
    "### What's happening in the above lines of code?\n",
    "1. `a = 10`: This line assigns the value `10` to the variable `a`.\n",
    "2. `def random()`: This line defines a function named `random()`.\n",
    "3. `global a`: This line indicates that the variable a inside the function `random()` should refer to the global variable `a` defined outside the function scope.\n",
    "4. `a = 20`: This line assigns the value `20` to the global variable `a` (as specified by the global keyword).\n",
    "5. `print(a)`: This line prints the value of `a`, which is `20` (as modified inside the function).\n",
    "6. `random()`: This line calls the `random()` function.\n",
    "    - Inside the `random()` function:\n",
    "        - The line `global a` indicates that we are referring to the global variable `a`.\n",
    "        - The line `a = 20` modifies the value of the global variable `a` to `20`.\n",
    "        - The line `print(a)` prints the value of `a`, which is `20`.\n",
    "7. `print(a)`: This line prints the value of a after the function call. Since the function modified the global variable `a` to `20`, the output will be `20`.\n",
    "\n",
    "### Rules of using the `global` keyword\n",
    "- When a variable is created within a function, it is local by default and is available within the function only.\n",
    "- When a variable is defined outside of a function, it is global by default. There is no need to use the `global` keyword.\n",
    "- The `global` keyword is used to read from and write to a global variable from inside a function.\n",
    "- Use of the `global` keyword outside a function has no effect."
   ]
  },
  {
   "cell_type": "markdown",
   "metadata": {},
   "source": [
    "# In-Built Functions In Python\n",
    "Any mathematical function, takes an argument as input and returns an output. Python functions also behave in a similar fashion, they take in a parameter as input and return a value as output."
   ]
  },
  {
   "cell_type": "code",
   "execution_count": 12,
   "metadata": {},
   "outputs": [
    {
     "data": {
      "text/plain": [
       "float"
      ]
     },
     "execution_count": 12,
     "metadata": {},
     "output_type": "execute_result"
    }
   ],
   "source": [
    "type(1.11)"
   ]
  },
  {
   "cell_type": "markdown",
   "metadata": {},
   "source": [
    "`type()` here is a function and object, `1.11` is the argument.\n",
    "\n",
    "A function can be passes as an argument to another function. For example, `type(object)` can be passed as an argument to `print()`. The following code demonstrates the same,"
   ]
  },
  {
   "cell_type": "code",
   "execution_count": 13,
   "metadata": {},
   "outputs": [
    {
     "name": "stdout",
     "output_type": "stream",
     "text": [
      "<class 'float'>\n"
     ]
    }
   ],
   "source": [
    "print(type(1.11))"
   ]
  },
  {
   "cell_type": "markdown",
   "metadata": {},
   "source": [
    "# Lambda Functions\n",
    "A lambda functions, also known as anonymous functions or lambda expressions, are a concise way of creating functions quickly (prototyping). These functions are typically used when there is need of a simple function for a short period and creating a regular function using the `def` keyword is not preferred.\n",
    "\n",
    "In Python, for instance, lambda functions are defined using the `lambda` keyword, followed by parameters, a colon and then the expression to be evaluated.\n",
    "\n",
    "Lambda functions offer a convenient way to create small, anonymous functions. They are particularly useful for,\n",
    "- Short-term function definitions: When there is need of a simple function for a specific task within a larger code block, lambda functions keep the code concise and focused.\n",
    "- Passing functions as arguments: Many Python functions (like `map()`, `filter()`, `reduce()`) require functions as arguments. Lambda functions are often ideal for these situations because they can be defined inline, reducing clutter and improving readability.\n",
    "\n",
    "```Python\n",
    "# syntax\n",
    "lambda expression: arguments\n",
    "\n",
    "# example\n",
    "# Lambda function to double a number\n",
    "doubler = lambda x: x * 2\n",
    "\n",
    "# Using the lambda function\n",
    "result = doubler(5)  # result will be 10\n",
    "\n",
    "# filtering\n",
    "filter(lambda x: x % 2 == 0, numbers) \n",
    "# filters even numbers from a list.\n",
    "\n",
    "# mapping\n",
    "map(lambda x: x * 2, numbers) \n",
    "# doubles each element in a list.\n",
    "\n",
    "# sorting\n",
    "numbers.sort(key = lambda x: abs(x - 5)) \n",
    "# sorts a list by distance from 5.\n",
    "\n",
    "# customizing built-in functions\n",
    "sorted(numbers, key = lambda x: x.lower()) \n",
    "# sorts case-insensitively.\n",
    "```\n",
    "\n",
    "Lambda functions are often used in conjunction with higher-order functions such as `map()`, `filter()` and `reduce()` to create more concise and readable code. However, they are limited in functionality compared to regular functions, as they can only contain a single expression and cannot include statements or multiple lines of code.\n",
    "\n",
    "### How to create a lambda function?\n",
    "```Python\n",
    "# syntax\n",
    "variable_name = lambda argument : return_statement\n",
    "```"
   ]
  },
  {
   "cell_type": "code",
   "execution_count": 14,
   "metadata": {},
   "outputs": [
    {
     "data": {
      "text/plain": [
       "4"
      ]
     },
     "execution_count": 14,
     "metadata": {},
     "output_type": "execute_result"
    }
   ],
   "source": [
    "# example\n",
    "num_square = lambda x : (x ** 2)\n",
    "\n",
    "# which is equivalent to,\n",
    "def num_square(x):\n",
    "\treturn (x ** 2)\n",
    "\n",
    "num_square(2)"
   ]
  },
  {
   "cell_type": "markdown",
   "metadata": {},
   "source": [
    "### How To Call A Lambda Function?\n",
    "```Python\n",
    "# syntax\n",
    "variable_name(arguments)\n",
    "```\n",
    "\n",
    "Positional arguments are passed in the brackets.\n",
    "\n",
    "### Properties of lambda functions\n",
    "Lambda functions are anonymous (can exist without a name)."
   ]
  },
  {
   "cell_type": "code",
   "execution_count": 15,
   "metadata": {},
   "outputs": [
    {
     "data": {
      "text/plain": [
       "25"
      ]
     },
     "execution_count": 15,
     "metadata": {},
     "output_type": "execute_result"
    }
   ],
   "source": [
    "(lambda x: x ** 2)(5)"
   ]
  },
  {
   "cell_type": "markdown",
   "metadata": {},
   "source": [
    "### Ternary operators in lambda functions\n",
    "Ternary operator can be used in lambda functions."
   ]
  },
  {
   "cell_type": "code",
   "execution_count": 16,
   "metadata": {},
   "outputs": [
    {
     "data": {
      "text/plain": [
       "10"
      ]
     },
     "execution_count": 16,
     "metadata": {},
     "output_type": "execute_result"
    }
   ],
   "source": [
    "(lambda x: x if x > 10 else x + 5)(5)"
   ]
  },
  {
   "cell_type": "markdown",
   "metadata": {},
   "source": [
    "# How To View The Documentation Of An Internal Function?\n",
    "```Python\n",
    "# syntax\n",
    "help(<function_name>)\n",
    "\n",
    "# or\n",
    "<function_name>?\n",
    "```"
   ]
  },
  {
   "cell_type": "code",
   "execution_count": 17,
   "metadata": {},
   "outputs": [
    {
     "name": "stdout",
     "output_type": "stream",
     "text": [
      "Help on built-in function print in module builtins:\n",
      "\n",
      "print(*args, sep=' ', end='\\n', file=None, flush=False)\n",
      "    Prints the values to a stream, or to sys.stdout by default.\n",
      "    \n",
      "    sep\n",
      "      string inserted between values, default a space.\n",
      "    end\n",
      "      string appended after the last value, default a newline.\n",
      "    file\n",
      "      a file-like object (stream); defaults to the current sys.stdout.\n",
      "    flush\n",
      "      whether to forcibly flush the stream.\n",
      "\n"
     ]
    }
   ],
   "source": [
    "help(print)"
   ]
  },
  {
   "cell_type": "code",
   "execution_count": 18,
   "metadata": {},
   "outputs": [
    {
     "name": "stdout",
     "output_type": "stream",
     "text": [
      "\u001b[0;31mSignature:\u001b[0m \u001b[0mprint\u001b[0m\u001b[0;34m(\u001b[0m\u001b[0;34m*\u001b[0m\u001b[0margs\u001b[0m\u001b[0;34m,\u001b[0m \u001b[0msep\u001b[0m\u001b[0;34m=\u001b[0m\u001b[0;34m' '\u001b[0m\u001b[0;34m,\u001b[0m \u001b[0mend\u001b[0m\u001b[0;34m=\u001b[0m\u001b[0;34m'\\n'\u001b[0m\u001b[0;34m,\u001b[0m \u001b[0mfile\u001b[0m\u001b[0;34m=\u001b[0m\u001b[0;32mNone\u001b[0m\u001b[0;34m,\u001b[0m \u001b[0mflush\u001b[0m\u001b[0;34m=\u001b[0m\u001b[0;32mFalse\u001b[0m\u001b[0;34m)\u001b[0m\u001b[0;34m\u001b[0m\u001b[0;34m\u001b[0m\u001b[0m\n",
      "\u001b[0;31mDocstring:\u001b[0m\n",
      "Prints the values to a stream, or to sys.stdout by default.\n",
      "\n",
      "sep\n",
      "  string inserted between values, default a space.\n",
      "end\n",
      "  string appended after the last value, default a newline.\n",
      "file\n",
      "  a file-like object (stream); defaults to the current sys.stdout.\n",
      "flush\n",
      "  whether to forcibly flush the stream.\n",
      "\u001b[0;31mType:\u001b[0m      builtin_function_or_method"
     ]
    }
   ],
   "source": [
    "print?"
   ]
  },
  {
   "cell_type": "markdown",
   "metadata": {},
   "source": [
    "# How To List All The Methods That Can Be Applied On A Class Object?\n",
    "```Python\n",
    "dir(object_name)\n",
    "```"
   ]
  },
  {
   "cell_type": "code",
   "execution_count": 19,
   "metadata": {},
   "outputs": [
    {
     "data": {
      "text/plain": [
       "['__abs__',\n",
       " '__add__',\n",
       " '__and__',\n",
       " '__bool__',\n",
       " '__ceil__',\n",
       " '__class__',\n",
       " '__delattr__',\n",
       " '__dir__',\n",
       " '__divmod__',\n",
       " '__doc__',\n",
       " '__eq__',\n",
       " '__float__',\n",
       " '__floor__',\n",
       " '__floordiv__',\n",
       " '__format__',\n",
       " '__ge__',\n",
       " '__getattribute__',\n",
       " '__getnewargs__',\n",
       " '__getstate__',\n",
       " '__gt__',\n",
       " '__hash__',\n",
       " '__index__',\n",
       " '__init__',\n",
       " '__init_subclass__',\n",
       " '__int__',\n",
       " '__invert__',\n",
       " '__le__',\n",
       " '__lshift__',\n",
       " '__lt__',\n",
       " '__mod__',\n",
       " '__mul__',\n",
       " '__ne__',\n",
       " '__neg__',\n",
       " '__new__',\n",
       " '__or__',\n",
       " '__pos__',\n",
       " '__pow__',\n",
       " '__radd__',\n",
       " '__rand__',\n",
       " '__rdivmod__',\n",
       " '__reduce__',\n",
       " '__reduce_ex__',\n",
       " '__repr__',\n",
       " '__rfloordiv__',\n",
       " '__rlshift__',\n",
       " '__rmod__',\n",
       " '__rmul__',\n",
       " '__ror__',\n",
       " '__round__',\n",
       " '__rpow__',\n",
       " '__rrshift__',\n",
       " '__rshift__',\n",
       " '__rsub__',\n",
       " '__rtruediv__',\n",
       " '__rxor__',\n",
       " '__setattr__',\n",
       " '__sizeof__',\n",
       " '__str__',\n",
       " '__sub__',\n",
       " '__subclasshook__',\n",
       " '__truediv__',\n",
       " '__trunc__',\n",
       " '__xor__',\n",
       " 'as_integer_ratio',\n",
       " 'bit_count',\n",
       " 'bit_length',\n",
       " 'conjugate',\n",
       " 'denominator',\n",
       " 'from_bytes',\n",
       " 'imag',\n",
       " 'numerator',\n",
       " 'real',\n",
       " 'to_bytes']"
      ]
     },
     "execution_count": 19,
     "metadata": {},
     "output_type": "execute_result"
    }
   ],
   "source": [
    "dir(int)"
   ]
  },
  {
   "cell_type": "markdown",
   "metadata": {},
   "source": [
    "# Higher Order Functions\n",
    "Functions that return other functions are called as higher order functions.\n",
    "\n",
    "```Python\n",
    "# syntax\n",
    "def function1(arguments):\n",
    "\tdef function2(arguments):\n",
    "\t\tpass\n",
    "\treturn function2\n",
    "```"
   ]
  },
  {
   "cell_type": "code",
   "execution_count": 20,
   "metadata": {},
   "outputs": [
    {
     "data": {
      "text/plain": [
       "4"
      ]
     },
     "execution_count": 20,
     "metadata": {},
     "output_type": "execute_result"
    }
   ],
   "source": [
    "# example\n",
    "def gen_exp(n):\n",
    "\tdef exp(x):\n",
    "\t\treturn x ** n\n",
    "\treturn exp\n",
    "exponentiate = gen_exp(2)\n",
    "exponentiate(2) \n",
    "# will also output the same result. \n",
    "# so \"exponentiate\" is a function as a result of this whole operation.\n",
    "# functions can also be returned using the return statement."
   ]
  },
  {
   "cell_type": "markdown",
   "metadata": {},
   "source": [
    "### What's happening in the above lines of code?\n",
    "The code defines a higher order function called `gen_exp()` and then demonstrates its usage.\n",
    "1. `gen_exp(n)`:\n",
    "    - This is a higher order function that takes an integer `n` as input.\n",
    "    - Inside `gen_exp()`, another function named `exp(x)` is defined. This inner function takes a single argument `x`.\n",
    "    - The `exp()` function calculates `x ** n`.\n",
    "    - Importantly, `gen_exp()` does not directly return the result of `exp(x)`. Instead, it returns the entire `exp()` function itself.\n",
    "2. `exponentiate = gen_exp(2)`:\n",
    "    - Here, `gen_exp()` is called with `2`.\n",
    "    - As explained earlier, `gen_exp()` does not return the result of `exp(x)`. It returns the inner function `exp(x)` itself.\n",
    "    - So, `exponentiate` now holds a reference to the function `exp()` created within `gen_exp()` with `n` set to `2`. This means `exponentiate` can be used to calculate squares.\n",
    "3. `exponentiate(2)`:\n",
    "    - Finally, `exponentiate` is called with the argument `2`.\n",
    "    - Since exponentiate now refers to the function `exp()` with `n` set to 2, this is equivalent to calling `exp(2)`.\n",
    "    - The inner function, `exp(x)` calculates the square and returns the result, which is `4`.\n",
    "\n",
    "In essence, `gen_exp()` acts as a function factory. It creates a new function (`exp`) based on the provided power `n` and returns that function for later use.\n",
    "\n",
    "`exponentiate` captures this function and allows to perform calculations based on the specified power (`2` in this case).\n",
    "\n",
    "This approach is useful when there is a need to create multiple functions with the same general structure but with different parameters. These functions can be created on-demand using `gen_exp()` and then use them for specific calculations."
   ]
  },
  {
   "cell_type": "markdown",
   "metadata": {},
   "source": [
    "# Decorators\n",
    "A decorator accepts a function as argument and returns another function. Meaning, a decorator is a higher order function. Consider a function,"
   ]
  },
  {
   "cell_type": "code",
   "execution_count": 21,
   "metadata": {},
   "outputs": [],
   "source": [
    "def say_hello():\n",
    "\tprint(\"Hello!\")\n",
    "def say_bye():\n",
    "\tprint(\"Bye :(\")"
   ]
  },
  {
   "cell_type": "markdown",
   "metadata": {},
   "source": [
    "To print `-` before and after `Hello!`,"
   ]
  },
  {
   "cell_type": "code",
   "execution_count": 22,
   "metadata": {},
   "outputs": [],
   "source": [
    "def say_hello():\n",
    "\tprint(\"-\"*20)\n",
    "\tprint(\"Hello!\")\n",
    "\tprint(\"-\"*20)"
   ]
  },
  {
   "cell_type": "markdown",
   "metadata": {},
   "source": [
    "To print such patterns elsewhere,"
   ]
  },
  {
   "cell_type": "code",
   "execution_count": 23,
   "metadata": {},
   "outputs": [
    {
     "name": "stdout",
     "output_type": "stream",
     "text": [
      "--------------------\n",
      "Hello\n",
      "--------------------\n",
      "--------------------\n",
      "WOW!!\n",
      "--------------------\n"
     ]
    }
   ],
   "source": [
    "def pretty(func):\n",
    "    def wrapper():\n",
    "        print(\"-\" * 20)\n",
    "        func()\n",
    "        print(\"-\" * 20)\n",
    "    return wrapper\n",
    "\n",
    "@pretty\n",
    "def say_hello():\n",
    "    print(\"Hello\")\n",
    "\n",
    "say_hello()\n",
    "\n",
    "@pretty\n",
    "def say_wow():\n",
    "\tprint(\"WOW!!\")\n",
    "\t\n",
    "say_wow()"
   ]
  },
  {
   "cell_type": "markdown",
   "metadata": {},
   "source": [
    "Decorators in Python are a powerful and flexible way to modify or enhance the behavior of functions or methods without changing their source code. Decorators are often used for tasks like logging, authentication, memoization and more. They are applied to functions or methods using the `@decorator` syntax.\n",
    "1. Functions that modify functions: Decorators are functions that take another function as their argument and return a new function that usually extends or modifies the behavior of the original function.\n",
    "2. `@decorator` syntax: To apply a decorator to a function, `@decorator` syntax is used. Where `decorator` is the name of the decorator function. This syntax appears just above the function definition.\n",
    "2. Common use cases: Decorators are commonly used for tasks like logging, authentication, access control, performance optimization (memoization) and more. They can be used to add functionality to functions or methods without altering their source code.\n",
    "4. Multiple decorators: Multiple decorators can be applied to a single function. The order in which decorators are applied, matters (execution is from the innermost (closest to the function) to the outermost).\n",
    "5. Built-in decorators: Python includes several built-in decorators, such as `@staticmethod`, `@classmethod` and `@property`, which are used for defining static methods, class methods and properties respectively.\n",
    "6. Creating custom decorators: Custom decorators can be created by defining functions that take another function as an argument, modify its behavior and return a new function. Custom decorators are defined like any other Python function."
   ]
  },
  {
   "cell_type": "code",
   "execution_count": 24,
   "metadata": {},
   "outputs": [
    {
     "name": "stdout",
     "output_type": "stream",
     "text": [
      "Before function execution\n",
      "Hello, World!\n",
      "After function execution\n"
     ]
    }
   ],
   "source": [
    "# example illustrating the implementation of decorators\n",
    "\n",
    "# custom decorator that adds a message before and after the function's execution\n",
    "def my_decorator(func):\n",
    "    def wrapper():\n",
    "        print(\"Before function execution\")\n",
    "        func()\n",
    "        print(\"After function execution\")\n",
    "    return wrapper\n",
    "\n",
    "# applying the decorator using the @decorator syntax\n",
    "@my_decorator\n",
    "def say_hello():\n",
    "    print(\"Hello, World!\")\n",
    "\n",
    "# calling the decorated function\n",
    "say_hello()"
   ]
  },
  {
   "cell_type": "markdown",
   "metadata": {},
   "source": [
    "In this example, the `my_decorator()` function takes another function, `func()` as an argument, defines a new function (wrapper) that adds messages before and after the execution of `func()` and returns the wrapper. The `@my_decorator` syntax is used to decorate the `say_hello()` function. When `say_hello()` is called, it executes the modified behavior provided by the decorator.\n",
    "\n",
    "Python's decorator feature provides a clean and flexible way to modify functions or methods, making the code more modular and readable. Decorators are commonly used in libraries and frameworks to extend funtionality, such as web frameworks (e.g., `flask`) and testing libraries (e.g., `pytest`)."
   ]
  },
  {
   "cell_type": "markdown",
   "metadata": {},
   "source": [
    "# Arguments And Keyword Arguments"
   ]
  },
  {
   "cell_type": "code",
   "execution_count": 25,
   "metadata": {},
   "outputs": [
    {
     "data": {
      "text/plain": [
       "9"
      ]
     },
     "execution_count": 25,
     "metadata": {},
     "output_type": "execute_result"
    }
   ],
   "source": [
    "# consider\n",
    "def custom_sum(a, b):\n",
    "\treturn a + b\n",
    "custom_sum(4, 5)"
   ]
  },
  {
   "cell_type": "markdown",
   "metadata": {},
   "source": [
    "### Arguments\n",
    "`args`: Extra arguments. `args` will get packed into a tuple."
   ]
  },
  {
   "cell_type": "code",
   "execution_count": 26,
   "metadata": {},
   "outputs": [
    {
     "data": {
      "text/plain": [
       "43"
      ]
     },
     "execution_count": 26,
     "metadata": {},
     "output_type": "execute_result"
    }
   ],
   "source": [
    "def custom_sum(a, b, *args):\n",
    "\treturn a + b + sum(args)\n",
    "custom_sum(4, 5, 7, 8, 9, 10)"
   ]
  },
  {
   "cell_type": "markdown",
   "metadata": {},
   "source": [
    "`args` is not a keyword, the name can be anything. The `*` before the name is important. It consolidates all extra positional arguments into a tuple."
   ]
  },
  {
   "cell_type": "code",
   "execution_count": 27,
   "metadata": {},
   "outputs": [
    {
     "data": {
      "text/plain": [
       "{'name': 'Vidish', 'age': 29, 'gender': 'M'}"
      ]
     },
     "execution_count": 27,
     "metadata": {},
     "output_type": "execute_result"
    }
   ],
   "source": [
    "def create_person(name, age, gender):\n",
    "\tPerson = {\n",
    "\t\t\"name\": name,\n",
    "\t\t\"age\": age,\n",
    "\t\t\"gender\": gender\n",
    "\t}\n",
    "\treturn Person\n",
    "\n",
    "create_person(name = \"Vidish\", age = 29, gender = \"M\")"
   ]
  },
  {
   "cell_type": "markdown",
   "metadata": {},
   "source": [
    "### Keyword arguments\n",
    "`kwargs`: Extra keyword arguments. `kwargs` will get packed into a dictionary. `kwargs` with nothing is an empty dict."
   ]
  },
  {
   "cell_type": "code",
   "execution_count": 28,
   "metadata": {},
   "outputs": [
    {
     "data": {
      "text/plain": [
       "{'name': 'Vidish',\n",
       " 'age': 29,\n",
       " 'gender': 'M',\n",
       " 'skills': 'C, Python, Embedded Systems, Data Science',\n",
       " 'working_experience': '2 years'}"
      ]
     },
     "execution_count": 28,
     "metadata": {},
     "output_type": "execute_result"
    }
   ],
   "source": [
    "def create_person(name, age, gender, **kwargs):\n",
    "\tPerson = {\n",
    "\t\t\"name\": name,\n",
    "\t\t\"age\": age,\n",
    "\t\t\"gender\": gender\n",
    "\t}\n",
    "\tPerson.update(kwargs)\n",
    "\treturn Person\n",
    "\n",
    "create_person(\n",
    "\tname = \"Vidish\", \n",
    "\tage = 29, \n",
    "\tgender = \"M\", \n",
    "\tskills = \"C, Python, Embedded Systems, Data Science\", \n",
    "\tworking_experience = \"2 years\"\n",
    ")"
   ]
  },
  {
   "cell_type": "markdown",
   "metadata": {},
   "source": [
    "`kwargs` is not a keyword, there can be any name in place of it. The `**` is important. `args` and `kwargs` can be used together."
   ]
  },
  {
   "cell_type": "code",
   "execution_count": 29,
   "metadata": {},
   "outputs": [
    {
     "name": "stdout",
     "output_type": "stream",
     "text": [
      "1\n",
      "2\n",
      "(3, 4, 5, 6)\n",
      "{'x': 10, 'y': 11}\n"
     ]
    }
   ],
   "source": [
    "def random(a, b, *args, **kwargs):\n",
    "\tprint(a)\n",
    "\tprint(b)\n",
    "\tprint(args)\n",
    "\tprint(kwargs)\n",
    "random(1, 2, 3, 4, 5, 6, x = 10, y = 11)"
   ]
  },
  {
   "cell_type": "markdown",
   "metadata": {},
   "source": [
    "`args` can be used in packing and unpacking as well, to collect the extra values returned from a function. These extra values are stored in a list."
   ]
  }
 ],
 "metadata": {
  "kernelspec": {
   "display_name": "Python 3",
   "language": "python",
   "name": "python3"
  },
  "language_info": {
   "codemirror_mode": {
    "name": "ipython",
    "version": 3
   },
   "file_extension": ".py",
   "mimetype": "text/x-python",
   "name": "python",
   "nbconvert_exporter": "python",
   "pygments_lexer": "ipython3",
   "version": "3.11.9"
  }
 },
 "nbformat": 4,
 "nbformat_minor": 2
}
