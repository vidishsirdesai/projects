{
 "cells": [
  {
   "cell_type": "markdown",
   "metadata": {},
   "source": [
    "# What Is A Root Cause?\n",
    "A root cause is the underlying or core cause of a problem."
   ]
  },
  {
   "cell_type": "markdown",
   "metadata": {},
   "source": [
    "# What Is Root Cause Analysis (RCA)?\n",
    "- A root cause analysis is a systematic process for identifying the underlying causes of a problem or an issue.\n",
    "- It is defined as a collective term that describes a wide range of approaches, tools and techniques used to uncover the causes of a problem.\n",
    "- It involves breaking down the problem into smaller parts, examining each part in detail and identifying the root causes that are contributing to the problem.\n",
    "\n",
    "The easiest way to understand the root cause of a problem is to think about common problems.\n",
    "\n",
    "Examples,\n",
    "- If a person falls ill, he'd go to a Doctor and describe his or her symptoms to the Doctor, and the Doctor inturn would find the root cause of the illness.\n",
    "- If the car stops working, a mechanic would find the root cause of the problem.\n",
    "- Same would be the case in a business, if the business is underperforming, a person or a group of people will be tasked to find the root cause of the underperformance."
   ]
  },
  {
   "cell_type": "markdown",
   "metadata": {},
   "source": [
    "# Goal Of RCA\n",
    "- The first goal of RCA is to discover the root cause of a problem or an event.\n",
    "- The second goal is to fully understand how to fix, compensate or learn from any underlying issues within the root cause.\n",
    "- The third goal is to apply whatever has been learnt from the analysis to systematically prevent future issues or to repeat successes.\n",
    "\n",
    "Within an organization, problem solving, incident investigation and root cause analysis are all fundamentally connected by 3 basic questions,\n",
    "1. What is the problem?\n",
    "    - Define the issue or the problem by its impact on overall goals.\n",
    "2. When did it occur?\n",
    "    - List the potential factors that could cause the problem.\n",
    "    - Investigate each one of them and determine the root cause of the problem.\n",
    "3. What should be done to prevent it from happening again?\n",
    "    - Prevent any negative impact by selecting the best solution."
   ]
  },
  {
   "cell_type": "markdown",
   "metadata": {},
   "source": [
    "# Life Cycle Of RCA\n",
    "1. Clarify:\n",
    "    - "
   ]
  }
 ],
 "metadata": {
  "language_info": {
   "name": "python"
  }
 },
 "nbformat": 4,
 "nbformat_minor": 2
}
