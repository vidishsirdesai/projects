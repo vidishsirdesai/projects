{
 "cells": [
  {
   "cell_type": "markdown",
   "metadata": {},
   "source": [
    "# What Are Product Metrics?\n",
    "- Product metrics are quantifiable data points that a business tracks, and analyzes to evaluate the success of its product.\n",
    "- By using interactive product metrics, companies can optimize product strategies to ensure business growth.\n",
    "- Determining the right metrics to monitor and their analysis leads to more intelligent decision making throughout the product development process."
   ]
  },
  {
   "cell_type": "markdown",
   "metadata": {},
   "source": []
  }
 ],
 "metadata": {
  "language_info": {
   "name": "python"
  }
 },
 "nbformat": 4,
 "nbformat_minor": 2
}
