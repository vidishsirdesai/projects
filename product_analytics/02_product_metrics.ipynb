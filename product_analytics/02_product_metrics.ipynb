{
 "cells": [
  {
   "cell_type": "markdown",
   "metadata": {},
   "source": [
    "# What Are Product Metrics?\n",
    "- Product metrics are quantifiable data points that a business tracks, and analyzes to evaluate the success of its product.\n",
    "- By using interactive product metrics, companies can optimize product strategies to ensure business growth.\n",
    "- Determining the right metrics to monitor and their analysis leads to more intelligent decision making throughout the product development process."
   ]
  },
  {
   "cell_type": "markdown",
   "metadata": {},
   "source": [
    "# What Are KPIs?\n",
    "- Key Performance Indicators (KPIs) give a company quantifiable evidence about which aspects of the product or customer experience are resonating with customers and which aren't.\n",
    "- Product KPIs can be related to user requirements, size, quality, product growth, or user comfort.\n",
    "- They can evaluate architectural measures, quality measures, software complexity, or function size."
   ]
  },
  {
   "cell_type": "markdown",
   "metadata": {},
   "source": [
    "# How Do Companies Use These Metrics?\n",
    "- Set their product roadmap.\n",
    "- Evolve product strategy.\n",
    "- Make changes to their product.\n",
    "- Forecase revenue.\n",
    "- Measure the impact of individual features.\n",
    "- Better understand the user behavior.\n",
    "- Evaluate the success of a launch.\n",
    "- Segment their market.\n",
    "- Test process hypothesis."
   ]
  },
  {
   "cell_type": "markdown",
   "metadata": {},
   "source": [
    "# Categorization Of Product Metrics\n",
    "There is no fixed categorization of product metrics. Classification can be done on different levels. This classification is based on,\n",
    "- Goal.\n",
    "- Task.\n",
    "- Type of the business and so on.\n",
    "\n",
    "The following are three labels of metrics that a company follows in order to grow.\n",
    "\n",
    "### Product metric pyramid\n",
    "1. The most important metric, the north star metric.\n",
    "2. 2 to 3 less important metrics linked to actions that impact the north star metric.\n",
    "3. Granular metrics that measure the current actions.\n",
    "\n",
    "### Focus metric (North star metric)\n",
    "This is the single most important measure of success that matters a lot to the company. A north star metric should be,\n",
    "- A direct reflection of the company's mission.\n",
    "- An indicator of how a company brings value to its customers.\n",
    "- The only one of its kind (avoid having multiple north star metrics as this tends to create complexity and confusion).\n",
    "- The answer to the question, what is the one metric that best represents the desired outcome of the company?\n",
    "\n",
    "The following are some examples of what a north star metric should be for each of these companies,\n",
    "- Instagram: MAU (Monthly Active Users) or DAU (Daily Active Users).\n",
    "- Spotify: Time spent listening.\n",
    "- AirBnB: Number of booked nights.\n",
    "- Lyft: Number of rides over a certain duration of time (daily, weekly, or monthly).\n",
    "- Quora: Number of questions answered.\n",
    "- WhatsApp: DAU.\n",
    "\n",
    "### Level 1 metric (Primary metric)\n",
    "- Primary metrics depict the desired outcome of a particular product, team or initiative. This is unlike the north star metric, which represents the desired outcome of the company as a whole.\n",
    "- Level 1 or primary metric should either directly contribute to the focus metric or act as a check to make sure the product is growing in a healthy direction.\n",
    "- The primary metric can be more valueble that the north star metric in the short term because of its narrower focus, tighter feedback loop and more immediate association with the specific product, team or initiative in question.\n",
    "- For example, if a product's focus metric is weekly active user, a good level 1 metric would be 7 day retention to ensure that marketing funds are not being spent towards acquiring new customers who leave after a day or two.\n",
    "\n",
    "### Level 2 metric (Supporting metric or tracking metric or input metric)\n",
    "- Performance indicators are set for the current intitiatives that are most granular, and mostly used for tracking the progress at lowest level. For example, there may be some targeted marketing or segmented offers that need to be checked.\n",
    "- Supporting metrics are indicators that the primary metric is moving in the right direction.\n",
    "- To take the retention example one step further, the level 2 metric could be an iOS app retention.\n",
    "- Another could be a level 2 metric such as the retention of a region or segment of customers."
   ]
  },
  {
   "cell_type": "markdown",
   "metadata": {},
   "source": [
    "# Product Metric Interview Questions\n",
    "Product metric interview questions test if a candidate can perform data analysis, and select key metrics that matter most to the success of a product.\n",
    "\n",
    "Employers like Facebook, and Google use these questions to evaluate critical thinking and communication skills.\n",
    "\n",
    "There are 2 types of metric questions,\n",
    "1. Metrics definition based: Metric definition questions focus on the candidate's ability to define metrics that provide clarity on the health of a product or feature.\n",
    "    - Here's an example: What metrics would be used to determine the success for Facebook sponsored posts?\n",
    "    - There are many different metrics that could be tracked (e.g., impressions, clicks, return on ad spend etc), and the interviewer will want to observe the candidate select the most important ones using a rigorous process.\n",
    "2. Metrics change based:\n",
    "    - Metric change questions test what should be done when a key product metric (e.g., traffic, revenue, engagement, etc) is going up or down for no apparent reason.\n",
    "    - This is almost the same as root cause analysis, i.e., an approach for identifying the underlysing causes of an incident so that the most effective solutions can be identified and solved."
   ]
  },
  {
   "cell_type": "markdown",
   "metadata": {},
   "source": [
    "# What Is Tooltip?\n",
    "Whenever a new product is launched, a tooltip is shown by default. This tooltip explains what the feature or the product is and how should it be used.\n",
    "\n",
    "Consider the YouTube voice tool as example,\n",
    "- Awareness: How many people are aware of the new feature or the product? Percentage of users who have seen the tooltip impression.\n",
    "- Acquisition: How many people are interacting with the product? Percentage of people who have tried the feature or the product atleast once.\n",
    "- Activation: How many people are realizing the value in the product? Percentage of repeat users.\n",
    "- Engagement: What is the breadth and frequency of user engagement? DAU, WAU, MAU, clicks, number of searches using the mic.\n",
    "- Revenue: Is revenue being generated from this? Incremental ad revenue coming in from the mic search.\n",
    "- Referral: Is the user being rewarded for referring the product?"
   ]
  },
  {
   "cell_type": "markdown",
   "metadata": {},
   "source": [
    "# Framework For Working With Problems On Product Metrics\n",
    "The metric definition based questions can be answered here,\n",
    "1. Define the feature:\n",
    "    - Explain the understanding of the feature, what problem it solves and how does it solve the problem.\n",
    "    - Clear if everyone is on the same page related to the problem and feature.\n",
    "2. Determine the goal of the feature:\n",
    "    - In metrics question you are measuring the success of a feature in achieving a specific goal.\n",
    "    - Hence, it is crucial to have a clarity on what that goal is.\n",
    "3. Walk through the customer journey:\n",
    "    - Understand the funnel of the product, and customer interaction.\n",
    "    - Walk through the user journey from the beginning to the end of the interaction with the feature.\n",
    "    - This step also helps in thinking about the potential behaviors that can impact the success of the feature.\n",
    "4. Map and quantify the user behavior:\n",
    "    - Mapping user behavior that are a part of the customer journey and impact the goal of the feature in a positive or negative way.\n",
    "    - Examples of the customer journey phases a user can go through: Awareness, acquisition, activation, engagement, retention, renewal.\n",
    "    - Review the phase by highlighting various scenarios or behaviors and relevant outcomes that can have an impact of the goal(s) and explain why measuring the behaviors and their outcomes is relevant.\n",
    "    - This step helps in determining what needs to be measured.\n",
    "5. Evaluate the metrics:\n",
    "    - Now that a list of metrics that impact the goal have been gathered, evaluate them based on some meaningful criteria such as reach, impact confidence and effort."
   ]
  },
  {
   "cell_type": "markdown",
   "metadata": {},
   "source": [
    "# Retention And Resurrection\n",
    "### Retention\n",
    "Retention is when people, or users continue to use the application on a regular basis, and return to the app frequently.\n",
    "\n",
    "Engagement is the driver, or recipe for retention.\n",
    "\n",
    "### Retention rate\n",
    "Retention rate is mathematically expressed as,\n",
    "\n",
    "$\\text{Retention Rate} = (\\frac{\\text{Number of Users Who continued to Use after the First Time}}{\\text{Total Number of First Time Users}}) * 100$\n",
    "\n",
    "### Resurrection\n",
    "Resurrection is when a user stops using the application for a while, but decides to use it again after a certain time."
   ]
  },
  {
   "cell_type": "markdown",
   "metadata": {},
   "source": [
    "# Cohort Analysis V. Funnel Analysis\n",
    "A cohort analysis is used to track the behavior of a group of users over time, while a funnel analysis is used to track the progression of users through a predefined series of events, or steps in a specific order."
   ]
  },
  {
   "cell_type": "markdown",
   "metadata": {},
   "source": [
    "# Case Study: What Metrics Should Be Looked At To Improve Retention Of A Fitness Application?\n",
    "### Problem statement\n",
    "There is a fitness company \"PureFit\", and they have launched their new application that has various fitness related information like videos and information on how to perform certain excercises, diet management plans, etc.\n",
    "\n",
    "They also have classes and live sessions for users to join and follow. There are 2 types of customers,\n",
    "1. Free customers that have access to certain videos and information nothing customizable.\n",
    "2. Paid customers that can get personalized diet plans and advice from experts with respect to their fitness goals.\n",
    "\n",
    "Metrics for paid customers are based on the business model and user behavior. Retained users who have been using the app for atleast 2 months are considered.\n",
    "\n",
    "Now that there is a fair idea of the problem, the funnel for user joining the fitness app is,\n",
    "- There is an acquisition stage where users are being acquired.\n",
    "- Then there is an onboarding stage where the users have signed up and logged in.\n",
    "- Now next comes the engagement part where in they are browsing what all the app has to offer, i.e., they are doing the classes looking at a bunch of videos.\n",
    "- Finally if a user comes back to the platform and continuously use it for 2 months, they are qualified as retained.\n",
    "\n",
    "At this stage it is a good idea for a candidate to clarify his or her understanding, and if the flow imagined is actually correct or not.\n",
    "\n",
    "### Defining relevant metric for each stage of the funnel\n",
    "The next step is to define metrics across each stage of the funnel just to see the various touch points and checkpoints which can help in designing other strategies to boot retention.\n",
    "\n",
    "Since retention comes pretty late in the funnel, drop off points have to be looked at as well to handle retention or increase retention as a whole.\n",
    "\n",
    "1. Number of users joined (DAU, WAU, MAU) (Acquisition): There are very basic metrics to look at and understand and can directly give information about the ongoing statistics of the product.\n",
    "    - The goal is to grow the business. Hence, the focus should be on increasing the user base actively.\n",
    "    - If a company is in its growth phase, the main goal should be increasing the user base and getting more people onboard.\n",
    "    - The marketing strategy can be modified accordingly and for the onboarded customers, a notification system can be created to encourage them to attend more classes or videos and get them to be more active on the platform.\n",
    "2. Retentation table or nth day retention (Engagement):\n",
    "    - The n-day retention simply measures how many of the users come back to the app on a particular day. The counting starts from day 0.\n",
    "    - Day 0 could be the day that a free customer downloaded the app, or the paid customer made their transaction.\n",
    "    - The number of new users can be high but if the retention rate is not high, the app will keep losing customers, and eventually the customer base will reduce to a small number.\n",
    "    - This will also give a feedback about the quality of the product or the adoption of it in everyday basis.\n",
    "3. Number of classes attended or the duration of class attended (Engagement):\n",
    "    - "
   ]
  }
 ],
 "metadata": {
  "language_info": {
   "name": "python"
  }
 },
 "nbformat": 4,
 "nbformat_minor": 2
}
