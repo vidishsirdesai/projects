{
 "cells": [
  {
   "cell_type": "markdown",
   "metadata": {},
   "source": [
    "# What Are Product Metrics?\n",
    "- Product metrics are quantifiable data points that a business tracks, and analyzes to evaluate the success of its product.\n",
    "- By using interactive product metrics, companies can optimize product strategies to ensure business growth.\n",
    "- Determining the right metrics to monitor and their analysis leads to more intelligent decision making throughout the product development process."
   ]
  },
  {
   "cell_type": "markdown",
   "metadata": {},
   "source": [
    "# What Are KPIs?\n",
    "- Key Performance Indicators (KPIs) give a company quantifiable evidence about which aspects of the product or customer experience are resonating with customers and which aren't.\n",
    "- Product KPIs can be related to user requirements, size, quality, product growth, or user comfort.\n",
    "- They can evaluate architectural measures, quality measures, software complexity, or function size."
   ]
  },
  {
   "cell_type": "markdown",
   "metadata": {},
   "source": [
    "# How Do Companies Use These Metrics?\n",
    "- Set their product roadmap.\n",
    "- Evolve product strategy.\n",
    "- Make changes to their product.\n",
    "- Forecase revenue.\n",
    "- Measure the impact of individual features.\n",
    "- Better understand the user behavior.\n",
    "- Evaluate the success of a launch.\n",
    "- Segment their market.\n",
    "- Test process hypothesis."
   ]
  },
  {
   "cell_type": "markdown",
   "metadata": {},
   "source": [
    "# Categorization Of Product Metrics\n",
    "There is no fixed categorization of product metrics. Classification can be done on different levels. This classification is based on,\n",
    "- Goal.\n",
    "- Task.\n",
    "- Type of the business and so on.\n",
    "\n",
    "The following are three labels of metrics that a company follows in order to grow.\n",
    "\n",
    "### Product metric pyramid\n",
    "1. The most important metric, the north star metric.\n",
    "2. 2 to 3 less important metrics linked to actions that impact the north star metric.\n",
    "3. Granular metrics that measure the current actions.\n",
    "\n",
    "### Focus metric (North star metric)\n",
    "This is the single most important measure of success that matters a lot to the company. A north star metric should be,\n",
    "- A direct reflection of the company's mission.\n",
    "- An indicator of how a company brings value to its customers.\n",
    "- The only one of its kind (avoid having multiple north star metrics as this tends to create complexity and confusion).\n",
    "- The answer to the question, what is the one metric that best represents the desired outcome of the company?\n",
    "\n",
    "The following are some examples of what a north star metric should be for each of these companies,\n",
    "- Instagram: MAU (Monthly Active Users) or DAU (Daily Active Users).\n",
    "- Spotify: Time spent listening.\n",
    "- AirBnB: Number of booked nights.\n",
    "- Lyft: Number of rides over a certain duration of time (daily, weekly, or monthly).\n",
    "- Quora: Number of questions answered.\n",
    "- WhatsApp: DAU.\n",
    "\n",
    "### Level 1 metric (Primary metric)\n",
    "- Primary metrics depict the desired outcome of a particular product, team or initiative. This is unlike the north star metric, which represents the desired outcome of the company as a whole.\n",
    "- Level 1 or primary metric should either directly contribute to the focus metric or act as a check to make sure the product is growing in a healthy direction.\n",
    "- The primary metric can be more valueble that the north star metric in the short term because of its narrower focus, tighter feedback loop and more immediate association with the specific product, team or initiative in question.\n",
    "- For example, if a product's focus metric is weekly active user, a good level 1 metric would be 7 day retention to ensure that marketing funds are not being spent towards acquiring new customers who leave after a day or two.\n",
    "\n",
    "### Level 2 metric (Supporting metric or tracking metric or input metric)\n",
    "- Performance indicators are set for the current intitiatives that are most granular, and mostly used for tracking the progress at lowest level. For example, there may be some targeted marketing or segmented offers that need to be checked.\n",
    "- Supporting metrics are indicators that the primary metric is moving in the right direction.\n",
    "- To take the retention example one step further, the level 2 metric could be an iOS app retention.\n",
    "- Another could be a level 2 metric such as the retention of a region or segment of customers."
   ]
  },
  {
   "cell_type": "markdown",
   "metadata": {},
   "source": [
    "# Product Metric Interview Questions\n",
    "Product metric interview questions test if a candidate can perform data analysis, and select key metrics that matter most to the success of a product.\n",
    "\n",
    "Employers like Facebook, and Google use these questions to evaluate critical thinking and communication skills.\n",
    "\n",
    "There are 2 types of metric questions,\n",
    "1. Metrics definition based: Metric definition questions focus on the candidate's ability to define metrics that provide clarity on the health of a product or feature.\n",
    "    - Here's an example: What metrics would be used to determine the success for Facebook sponsored posts?\n",
    "    - There are many different metrics that could be tracked (e.g., impressions, clicks, return on ad spend etc), and the interviewer will want to observe the candidate select the most important ones using a rigorous process.\n",
    "2. Metrics change based:\n",
    "    - Metric change questions test what should be done when a key product metric (e.g., traffic, revenue, engagement, etc) is going up or down for no apparent reason.\n",
    "    - This is almost the same as root cause analysis, i.e., an approach for identifying the underlysing causes of an incident so that the most effective solutions can be identified and solved."
   ]
  },
  {
   "cell_type": "markdown",
   "metadata": {},
   "source": [
    "# What Is Tooltip?\n",
    "Whenever a new product is launched, a tooltip is shown by default. This tooltip explains what the feature or the product is and how should it be used.\n",
    "\n",
    "Consider the YouTube voice tool as example,\n",
    "- Awareness: How many people are aware of the new feature or the product? Percentage of users who have seen the tooltip impression.\n",
    "- Acquisition: How many people are interacting with the product? Percentage of people who have tried the feature or the product atleast once.\n",
    "- Activation: How many people are realizing the value in the product? Percentage of repeat users.\n",
    "- Engagement: What is the breadth and frequency of user engagement? DAU, WAU, MAU, clicks, number of searches using the mic.\n",
    "- Revenue: Is revenue being generated from this? Incremental ad revenue coming in from the mic search.\n",
    "- Referral: Is the user being rewarded for referring the product?"
   ]
  },
  {
   "cell_type": "markdown",
   "metadata": {},
   "source": []
  }
 ],
 "metadata": {
  "language_info": {
   "name": "python"
  }
 },
 "nbformat": 4,
 "nbformat_minor": 2
}
