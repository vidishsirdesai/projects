{
 "cells": [
  {
   "cell_type": "markdown",
   "metadata": {},
   "source": [
    "# What Are Product Metrics?\n",
    "- Product metrics are quantifiable data points that a business tracks, and analyzes to evaluate the success of its product.\n",
    "- By using interactive product metrics, companies can optimize product strategies to ensure business growth.\n",
    "- Determining the right metrics to monitor and their analysis leads to more intelligent decision making throughout the product development process."
   ]
  },
  {
   "cell_type": "markdown",
   "metadata": {},
   "source": [
    "# What Are KPIs?\n",
    "- Key Performance Indicators (KPIs) give an organization quantifiable evidence about which aspects of the product or customer experience are resonating with customers and which aren't.\n",
    "- Product KPIs can be related to user requirements, size, quality, product growth, or user comfort.\n",
    "- They can evaluate architectural measures, quality measures, software complexity, or function size."
   ]
  }
 ],
 "metadata": {
  "language_info": {
   "name": "python"
  }
 },
 "nbformat": 4,
 "nbformat_minor": 2
}
