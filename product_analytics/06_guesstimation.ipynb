{
 "cells": [
  {
   "cell_type": "markdown",
   "metadata": {},
   "source": [
    "# What Is Guess Estimation (Guesstimation)?\n",
    "Guess estimation, also known as guesstimation, is a process of making an approximate or educated guess when dealing with a certain quantity, measurement or value for which precise information is not available or is not practical to obtain. It involves using one's intuition, experience and knowledge to arrive at a reasonable estimate.\n",
    "\n",
    "Guesstimation is often employed in various scenarios, like,\n",
    "- Interviews: Candidated may be asked to make guesstimates during job interviews to assess their problem solving skills and ability to think on their feet.\n",
    "- Business planning: When developing business plans, managers may need to estimate future market trends, demands or revenue figures.\n",
    "- Project management: Project managers might use guesstimation to quickly estimate project timelines, resource requirements or budgets.\n",
    "- Everyday situations: In daily life, people often make rough estimates when planning activities, managing time or making decisions.\n",
    "\n",
    "To make a good guesstimate, one may use reasonable assumptions, break down complex problems into smaller parts, and rely on personal experience, or general knowledge. While guess estimation is not as precise as detailed calculations or measurements, it can provide valuable insights and help in making informed decisions when exact data is not available or is not practical to obtain."
   ]
  },
  {
   "cell_type": "markdown",
   "metadata": {},
   "source": [
    "# Purpose Of Guess Estimations And Approaching Guesstimation Problems\n",
    "### Purpose\n",
    "The sole purpose of guesstimation is to check,\n",
    "- How structured is a person's approach towards making a near correct guess?\n",
    "- How comfortable is a person with estimating numbers?\n",
    "- Can a person perform back-of-the-mind calculations and validate them?\n",
    "\n",
    "### Approach\n",
    "1. Clarify: First try to understand the problem statement and gather all the information required for the estimation.\n",
    "2. Analyze: Analyze what all information is currently available and how can that be used to solve the problem in hand.\n",
    "3. Calculate: Note down the assumptions and use them as thumb rules to make calculations. The numbers do not need to be exact. Just specify a range of an approximation.\n",
    "4. Validate: Finally, validate the results in terms of the business metric. Make sure everything makes sense."
   ]
  },
  {
   "cell_type": "markdown",
   "metadata": {},
   "source": [
    "# Cost Per Click (CPC)\n",
    "- Also known as Pay Per Click (PPC).\n",
    "- CPC is an online advertising revenue model where the advertiser pays the publisher based on the number of times visitors click on a displayed advertisment.\n",
    "- CPC marketing is often more expensive than the other similar options.\n",
    "- $\\text{CPC} = \\frac{\\text{Advertising cost}}{\\text{Number of clicks}}$."
   ]
  },
  {
   "cell_type": "markdown",
   "metadata": {},
   "source": [
    "# Cost Per Mile (CPM)\n",
    "- CPM is cost per thousand impressions.\n",
    "- CPM is the amount an advertiser spends per thousand impressions of their ad on a web page.\n",
    "- CPM is more cost effective.\n",
    "- $\\text{CPM} = \\frac{\\text{Advertising spend}}{\\text{Impressions}} * 1000$."
   ]
  },
  {
   "cell_type": "markdown",
   "metadata": {},
   "source": [
    "# Click Through Rate (CTR)\n",
    "- CTR defines how many users see an ad and click on it.\n",
    "- CTR is one of the several KPIs.\n",
    "- $\\text{CTR} = \\frac{\\text{Total clicks}}{\\text{Total impressions}}$."
   ]
  },
  {
   "cell_type": "markdown",
   "metadata": {},
   "source": [
    "# How Is Cost Per Click Calculated?\n",
    "Advertisers commonly use cost per click with a set daily budget for a campaign. When the advertiser's budget is reached, the ad is automatically removed from the website's rotation for the remainder of the billing period.\n",
    "\n",
    "For example, a website with a Cost Per Click of $10 would bill an advertiser $100 for a 1000 click throughs."
   ]
  },
  {
   "cell_type": "markdown",
   "metadata": {},
   "source": [
    "# How To Lower CPC?\n",
    "Because advertising can become very expensive when paying by clicks, there has to be a plan to keep from paying too much per click. This means researching and creating a strategy with keywords to raise the quality score. Quality score is a measure of how an ad compared with the others."
   ]
  },
  {
   "cell_type": "markdown",
   "metadata": {},
   "source": [
    "# Raising The Quality Score\n"
   ]
  }
 ],
 "metadata": {
  "language_info": {
   "name": "python"
  }
 },
 "nbformat": 4,
 "nbformat_minor": 2
}
