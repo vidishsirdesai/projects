{
 "cells": [
  {
   "cell_type": "markdown",
   "metadata": {},
   "source": [
    "# What Is A Metric?\n",
    "Metric is a quantitative measure of an item. For example, age, salary, number of family members, etc."
   ]
  },
  {
   "cell_type": "markdown",
   "metadata": {},
   "source": [
    "# Product Metrics Questions\n",
    "A new feature called as \"Save Post\" is introduced in Facebook, which helps a user in saving a post that he or she has liked. What are the metrics that should be tracked to assess the success of this feature?\n",
    "\n",
    "Questions on this topic measure the following about the person that is solving them,\n",
    "- Product knowledge.\n",
    "- Metrics knowledge.\n",
    "\n",
    "One fundamental mistake which every interviewee makes is that they start answering the question immediately. This should be strictly avoided.\n",
    "\n",
    "Focus should be on,\n",
    "- How to break the problem?\n",
    "- Checking the product sense."
   ]
  },
  {
   "cell_type": "markdown",
   "metadata": {},
   "source": [
    "# Approach To Solving Product Metrics Questions\n",
    "1. Clarify (5Ws and 1H):\n",
    "    - What is the feature?\n",
    "    - Why was there a need for it?\n",
    "    - What has been built?\n",
    "    - How does the user access the feature?\n",
    "    - Do not give a solution without understanding the problem. Ask questions to understand the business context and define the key objective.\n",
    "2. Plan: It is best to take a minute to gather your thoughts on the solution. Plan the metrics or hypothesis.\n",
    "3. Conclude: Summarize the key points (from objective to solution and recommendations (if any))."
   ]
  },
  {
   "cell_type": "markdown",
   "metadata": {},
   "source": [
    "# How To Measure The Product Performance Or Success? (Defining Metrics)\n",
    "1. "
   ]
  }
 ],
 "metadata": {
  "language_info": {
   "name": "python"
  }
 },
 "nbformat": 4,
 "nbformat_minor": 2
}
