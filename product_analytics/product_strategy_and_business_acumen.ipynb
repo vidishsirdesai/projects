{
 "cells": [
  {
   "cell_type": "markdown",
   "metadata": {},
   "source": [
    "# What Is A Metric?\n",
    "Metric is a quantitative measure of an item. For example, age, salary, number of family members, etc."
   ]
  },
  {
   "cell_type": "markdown",
   "metadata": {},
   "source": [
    "# Product Metrics Questions\n",
    "A new feature called as \"Save Post\" is introduced in Facebook, which helps a user in saving a post that he or she has liked. What are the metrics that should be tracked to assess the success of this feature?\n",
    "\n",
    "Questions on this topic measure the following about the person that is solving them,\n",
    "- Product knowledge.\n",
    "- Metrics knowledge.\n",
    "\n",
    "One fundamental mis"
   ]
  },
  {
   "cell_type": "markdown",
   "metadata": {},
   "source": []
  }
 ],
 "metadata": {
  "language_info": {
   "name": "python"
  }
 },
 "nbformat": 4,
 "nbformat_minor": 2
}
