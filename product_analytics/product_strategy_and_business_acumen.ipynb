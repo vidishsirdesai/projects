{
 "cells": [
  {
   "cell_type": "markdown",
   "metadata": {},
   "source": [
    "# What Is A Metric?\n",
    "Metric is a quantitative measure of an item. For example, age, salary, number of family members, etc."
   ]
  },
  {
   "cell_type": "markdown",
   "metadata": {},
   "source": [
    "# Product Metrics Questions\n",
    "A new feature called as \"Save Post\" is introduced in Facebook, which helps a user in saving a post that he or she has liked. What are the metrics that should be tracked to assess the success of this feature?\n",
    "\n",
    "Questions on this topic measure the following about the person that is solving them,\n",
    "- Product knowledge.\n",
    "- Metrics knowledge.\n",
    "\n",
    "One fundamental mistake which every interviewee makes is that they start answering the question immediately. This should be strictly avoided.\n",
    "\n",
    "Focus should be on,\n",
    "- How to break the problem?\n",
    "- Checking the product sense."
   ]
  },
  {
   "cell_type": "markdown",
   "metadata": {},
   "source": [
    "# Approach To Solving Product Metrics Questions\n",
    "1. Clarify (5Ws and 1H):\n",
    "    - What is the feature?\n",
    "    - Why was there a need for it?\n",
    "    - What has been built?\n",
    "    - How does the user access the feature?\n",
    "    - Do not give a solution without understanding the problem. Ask questions to understand the business context and define the key objective.\n",
    "2. Plan: It is best to take a minute to gather your thoughts on the solution. Plan the metrics or hypothesis.\n",
    "3. Conclude: Summarize the key points (from objective to solution and recommendations (if any))."
   ]
  },
  {
   "cell_type": "markdown",
   "metadata": {},
   "source": [
    "# How To Measure The Product Performance Or Success? (Defining Metrics)\n",
    "1. Clarify: Ask clarifying questions about the new feature or product, and the main objective behind its release (monetization, engagement, retention etc).\n",
    "    - Is the \"Save Post\" feature used to allow users to save links, pages, posts, locations, movies, etc to view later?\n",
    "    - Does this also remind users about what items they have saved for later?\n",
    "    - Are we focusing on both aspects of this feature, or only the first? (i.e, first save and later access).\n",
    "2. Who benefits from this feature? This feature affects the users and advertisers,\n",
    "    - Advertisers do not want to be forgotten, so if they post something that attracts the attention of the user, they want the user to be able to find it again later, if they do not have immediate time to spend on it.\n",
    "    - For example, if there is a nice shoe advertised on Facebook, and the user likes it, but can't check it out now, or if there is a discussion about a TV series that the user potentially finds interesting to watch later, the users can save it to check it out later.\n",
    "3. Business goals:\n",
    "    - User's goal: The benefit for the users is that they do not need to copy paste or take a screenshot of the post they want to view later. They can have all these items in a categorized fashion (e.g. movies, pages, etc) and view them later.\n",
    "    - Advertiser's goal: Increase revenue by increasing clicks and impressions.\n",
    "    - Business goal: Increase user engagement.\n",
    "4. Define metrics: Note that not all the elements are applicable to all the problem statements. There are generally 6 stages of product's life cycle.\n",
    "\n",
    "Generally whenever a product metric is being given, a following classical framework is adopted, this framework is called AAAERR, also called as pirate's funnel."
   ]
  },
  {
   "cell_type": "markdown",
   "metadata": {},
   "source": [
    "# AAAERR Funnel\n"
   ]
  }
 ],
 "metadata": {
  "language_info": {
   "name": "python"
  }
 },
 "nbformat": 4,
 "nbformat_minor": 2
}
