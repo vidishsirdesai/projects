{
 "cells": [
  {
   "cell_type": "markdown",
   "metadata": {},
   "source": [
    "# Customer Relationship Management (CRM)\n",
    "- Customer Relationship Management combines practice, strategies and technologies that companies use to manage and analyze customer interactions and data throughout the customer's life-cycle.\n",
    "- CRM helps businesses to gain an insight into the behavior of their customers and modify their business operations to ensure that customers are serviced in the best possible way."
   ]
  },
  {
   "cell_type": "markdown",
   "metadata": {},
   "source": [
    "# How Is CRM Analytics Used In Business?\n",
    "- CRM analytics gives insights into customers and how well the sales and customer service teams are reaching them.\n",
    "- Helps analyze customer's habits to re-target and optimize sales of existing customers.\n",
    "- Analyzing customers finding audiences belonging to certain behaviors and organizing campaigns suitable for that audience.\n",
    "- CRM offers the oppurtuinity to improve profitability, productivity and efficiency. "
   ]
  },
  {
   "cell_type": "markdown",
   "metadata": {},
   "source": [
    "# Customer Segmentation\n",
    "- Imagine in a company, the marketing team launches a campaign. For efficiency because of limited resources, it must get revenue or other metrics as much as possible.\n",
    "- This means that there is a need to optimize the targeting criteria so that more is spent on customers that will generate more revenue for the store.\n",
    "- Segmenting the customers can help in focusing the marketing efforts, so that overall customer satisfaction and profits can be increased.\n",
    "- What are the different ways in which customer can be grouped on?\n",
    "    - Variables that are very often used for customer segmentation includes,\n",
    "        - Demographics.\n",
    "        - Psycographics (segmentation using psychological characteristics including personality, lifestyle, social status, activities, interests, opinions and attitudes).\n",
    "        - Geographic.\n",
    "        - Purchase patterns.\n",
    "        - Customer preference for products or services etc."
   ]
  },
  {
   "cell_type": "markdown",
   "metadata": {},
   "source": []
  }
 ],
 "metadata": {
  "language_info": {
   "name": "python"
  }
 },
 "nbformat": 4,
 "nbformat_minor": 2
}
