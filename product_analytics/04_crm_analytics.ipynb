{
 "cells": [
  {
   "cell_type": "markdown",
   "metadata": {},
   "source": [
    "# Customer Relationship Management (CRM)\n",
    "- Customer Relationship Management combines practice, strategies and technologies that companies use to manage and analyze customer interactions and data throughout the customer's life-cycle.\n",
    "- CRM helps businesses to gain an insight into the behavior of their customers and modify their business operations to ensure that customers are serviced in the best possible way."
   ]
  },
  {
   "cell_type": "markdown",
   "metadata": {},
   "source": []
  }
 ],
 "metadata": {
  "language_info": {
   "name": "python"
  }
 },
 "nbformat": 4,
 "nbformat_minor": 2
}
