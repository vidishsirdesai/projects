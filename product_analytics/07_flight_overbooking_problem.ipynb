{
 "cells": [
  {
   "cell_type": "markdown",
   "metadata": {},
   "source": [
    "# What Is Flight Overbooking?\n",
    "Flight overbooking is a strategy employed by airlines where they sell more tickets than the actual number of seats available on a flight. This practice is based on the expectation that a certain percentage of passengers will not show up for their flight, often referred to as \"no-shows.\""
   ]
  },
  {
   "cell_type": "markdown",
   "metadata": {},
   "source": [
    "# Why Do Airlines Overbook?\n",
    "1. Maximizing revenue:\n",
    "    - Empty seats cost money: Every empty seat on a flight represents lost revenue. By overbooking, airlines aim to fill as many seats as possible, maximizing their revenue.\n",
    "2. Statistical probability:\n",
    "    - No-show rate: Airlines have historical data on no-show rates for different routes and times of the year. By analyzing this data, they can make informed decisions about how many tickets to oversell.\n",
    "3. Connecting flights:\n",
    "    - Delayed or canceled flights: When passengers miss connecting flights due to delays or cancellations, it can lead to empty seats on subsequent flights. Overbooking helps to mitigate this risk.\n",
    "\n",
    "### Risks of overbooking\n",
    "While overbooking can be a profitable strategy, it also carries risks,\n",
    "- Involuntary denials of boarding (IDBs): If more passengers show up than there are seats, the airline may need to deny boarding to some passengers. This can lead to significant customer dissatisfaction and potential legal issues.\n",
    "- Compensation costs: Airlines are often required to compensate passengers who are involuntarily denied boarding. These costs can erode the potential revenue gains from overbooking.\n",
    "\n",
    "### Balancing risks and rewards\n",
    "Airlines must carefully balance the potential benefits of overbooking with the risks of involuntary denials of boarding. To mitigate these risks, airlines use sophisticated algorithms and statistical models to predict no-show rates and optimize their overbooking strategies.\n",
    "\n",
    "### The impact of overbooking on the aviation industry\n",
    "Overbooking has a significant impact on the aviation industry,\n",
    "- Increased revenue: By filling more seats, airlines can generate additional revenue.\n",
    "- Lower ticket prices: Overbooking can help keep ticket prices competitive by maximizing the utilization of aircraft.\n",
    "- Improved efficiency: By reducing the number of empty seats, airlines can operate more efficiently.\n",
    "\n",
    "For example,\n",
    "- On flights operated by Lufthansa, 4.9 million passengers did not show up in 2005. This corresponds to 12500 full Boeing 747s.\n",
    "- Overbooking allowed Lufthansa to carry more than 570000 additional passengers. Lufthansa credits the practice of selling more tickets for a flight than there are physical seats for a revenue increase of $105 millions in 2005.\n",
    "In addition, overbooking is not only a significant source of incremental revenue for most airlines but also creates economic benefits to the traveling public like an increased seat availability, and reduced overall costs of travel through more efficient use of airline seats.\n",
    "\n",
    "However, it's crucial for airlines to strike a balance between maximizing revenue and minimizing customer dissatisfaction. By implementing effective overbooking strategies and providing fair compensation to involuntarily denied passengers, airlines can maintain a positive reputation and ensure long-term success."
   ]
  },
  {
   "cell_type": "markdown",
   "metadata": {},
   "source": [
    "# Passenger Bumping\n",
    "When a flight is oversold, meaning, the number of passengers showing up exceeded the seats on the flight, the airline would pick customers to bump, i.e., rebook on the next or a later flight.\n",
    "\n",
    "If the wait duration of the next flight is longer, the bumped passengers are provided with a free meal. If the next flight is on the next day, they will be given a free overnight stay.\n",
    "\n",
    "In addition, the airline pays a penalty to each bumped passenger. This depends from country to country as well as airline to airline. It also depends upon how late the passenger will reach his or her destination.\n",
    "\n",
    "In some countries, if the airlines arranges substitute transportation that is scheduled to get to the passenger's final destination (including later connections) within one hour of the original scheduled arrival time, there is no compensation."
   ]
  }
 ],
 "metadata": {
  "language_info": {
   "name": "python"
  }
 },
 "nbformat": 4,
 "nbformat_minor": 2
}
