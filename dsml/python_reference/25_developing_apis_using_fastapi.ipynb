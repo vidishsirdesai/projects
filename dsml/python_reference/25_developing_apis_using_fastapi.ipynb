{
 "cells": [
  {
   "cell_type": "markdown",
   "metadata": {},
   "source": [
    "# FAST API\n",
    "FAST API is a modern, high-performance web framework for building APIs with Python. It is known for its speed, ease of use, and developer experience.\n",
    "\n",
    "### Key features\n",
    "- Asynchronous by default: Leverages asyncio for true concurrency, allowing the APIs to handle many requests simulatneously with minimal overhead. This is crucial for modern, high-traffic applications.\n",
    "- Automatic data validation and serialization: Automatically generates interactive API documentations (Swagger UI) based on the code. This makes it easy for developers to understand and interact with the APIs/\n",
    "- Dependency injection: Provides a clean and flexible way to manage dependencies within the application, improving code organization and testability.\n",
    "- Starlette under the hood: Built on top of Starlette, a lightweight ASGI framework that provides a solid foundation for building web applications and APIs.\n",
    "- Fast: As the name suggests, FAST API is incredibly fast. Benchmarks have shown it to be one of the fastest Python web frameworks available..\n",
    "\n",
    "### Benefits\n",
    "- Increased development speed: Features like automatic data validation and code generation significantly reduces development time.\n",
    "- Improved code quality: Pydantic helps enforce data integrity and reduces the likelihood of runtime errors.\n",
    "- Enhanced developer experience: The focus on developer experience makes it enjoyable to work with FAST API.\n",
    "- High performance: Asynchronous capabilities and optimized performance make it suitable for demanding applications."
   ]
  },
  {
   "cell_type": "markdown",
   "metadata": {},
   "source": [
    "# Getting Started\n",
    "\n",
    "### Installation\n",
    "\n",
    "`pip install fastapi`\n",
    "\n",
    "### Example\n",
    "\n",
    "```Python\n",
    "from fastapi import FastAPI\n",
    "\n",
    "app = FastAPI()\n",
    "\n",
    "@app.get(\"/\")\n",
    "async def root():\n",
    "    return {\"message\": \"Hello, world!\"}\n",
    "```\n",
    "\n",
    "### Run the application\n",
    "\n",
    "`uvicorn main:app --reload`"
   ]
  },
  {
   "cell_type": "markdown",
   "metadata": {},
   "source": [
    "# Summary\n",
    "FAST API is a powerful modern framework that offers a compelling alternative to other Python web frameworks. Its focus on speed, ease of use, and developer experience makes it an excellent choice for a wide range of projects."
   ]
  }
 ],
 "metadata": {
  "language_info": {
   "name": "python"
  }
 },
 "nbformat": 4,
 "nbformat_minor": 2
}
