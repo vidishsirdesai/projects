{
 "cells": [
  {
   "cell_type": "markdown",
   "metadata": {},
   "source": [
    "# Comprehension\n",
    "Comprehension offers a shorter syntax when there is a need to create a new iterable based on the values in an existing iterable.\n",
    "\n",
    "Comprehension works on all mutable data structures (lists, sets, and dictionaries)."
   ]
  },
  {
   "cell_type": "markdown",
   "metadata": {},
   "source": [
    "# List Comprehension\n",
    "```Python\n",
    "# syntax\n",
    "[expression for item in iterable]\n",
    "```"
   ]
  },
  {
   "cell_type": "code",
   "execution_count": 1,
   "metadata": {},
   "outputs": [
    {
     "data": {
      "text/plain": [
       "[1, 4, 9, 16, 25]"
      ]
     },
     "execution_count": 1,
     "metadata": {},
     "output_type": "execute_result"
    }
   ],
   "source": [
    "# example\n",
    "a = [1, 2, 3, 4, 5]\n",
    "[i ** 2 for i in a]"
   ]
  },
  {
   "cell_type": "markdown",
   "metadata": {},
   "source": [
    "The created list can be stored in a variable."
   ]
  },
  {
   "cell_type": "code",
   "execution_count": 2,
   "metadata": {},
   "outputs": [
    {
     "data": {
      "text/plain": [
       "[1, 4, 9, 16, 25]"
      ]
     },
     "execution_count": 2,
     "metadata": {},
     "output_type": "execute_result"
    }
   ],
   "source": [
    "result = [i ** 2 for i in a]\n",
    "result"
   ]
  },
  {
   "cell_type": "markdown",
   "metadata": {},
   "source": [
    "Consider the following use case of list comprehension,"
   ]
  },
  {
   "cell_type": "code",
   "execution_count": 3,
   "metadata": {},
   "outputs": [
    {
     "name": "stdout",
     "output_type": "stream",
     "text": [
      "['S', 'M', 'M', 'L']\n"
     ]
    }
   ],
   "source": [
    "def sizing_function(x):\n",
    "\tif x < 150:\n",
    "\t\treturn \"S\"\n",
    "\telif x >= 150 and x < 180:\n",
    "\t\treturn \"M\"\n",
    "\telse:\n",
    "\t\treturn \"L\"\n",
    "\n",
    "a = [140, 160, 170, 190]\n",
    "result = [sizing_function(i) for i in a]\n",
    "print(result)"
   ]
  },
  {
   "cell_type": "markdown",
   "metadata": {},
   "source": [
    "Ternary operator can be used in combination with list comprehension."
   ]
  },
  {
   "cell_type": "code",
   "execution_count": 4,
   "metadata": {},
   "outputs": [
    {
     "name": "stdout",
     "output_type": "stream",
     "text": [
      "['S', 'M', 'M', 'L']\n"
     ]
    }
   ],
   "source": [
    "a = [140, 160, 170, 190]\n",
    "result = [\"S\" if x < 150 else \"M\" if x >=150 and x < 180 else \"L\" for x in a]\n",
    "print(result)"
   ]
  },
  {
   "cell_type": "code",
   "execution_count": 5,
   "metadata": {},
   "outputs": [
    {
     "ename": "SyntaxError",
     "evalue": "expected 'else' after 'if' expression (2878409344.py, line 3)",
     "output_type": "error",
     "traceback": [
      "\u001b[0;36m  Cell \u001b[0;32mIn[5], line 3\u001b[0;36m\u001b[0m\n\u001b[0;31m    result = [\"S\" if i < 150 \"M\" elif i >= 150 and i <= 180 else \"L\" for i in a]\u001b[0m\n\u001b[0m              ^\u001b[0m\n\u001b[0;31mSyntaxError\u001b[0m\u001b[0;31m:\u001b[0m expected 'else' after 'if' expression\n"
     ]
    }
   ],
   "source": [
    "# incorrect\n",
    "a = [140, 160, 170, 190, 130]\n",
    "result = [\"S\" if i < 150 \"M\" elif i >= 150 and i <= 180 else \"L\" for i in a]\n",
    "print(result)"
   ]
  },
  {
   "cell_type": "markdown",
   "metadata": {},
   "source": [
    "The use of `elif` is not supported in list comprehension. To express more complex conditions or use multiple conditions in a list comprehension, nested conditional expressions should be used. The following is one such example,"
   ]
  },
  {
   "cell_type": "code",
   "execution_count": 6,
   "metadata": {},
   "outputs": [
    {
     "data": {
      "text/plain": [
       "['S', 'M', 'M', 'L']"
      ]
     },
     "execution_count": 6,
     "metadata": {},
     "output_type": "execute_result"
    }
   ],
   "source": [
    "result = [\"S\" if i < 150 else \"M\" if 150 <= i <= 180 else \"L\" for i in a]\n",
    "result"
   ]
  },
  {
   "cell_type": "markdown",
   "metadata": {},
   "source": [
    "In the above example, nested conditional expressions have been used to achieve the same result as an `if-elif-else` structure. This approach helps to create a more complex conditions in list comprehensions."
   ]
  },
  {
   "cell_type": "markdown",
   "metadata": {},
   "source": [
    "List comprehensions can be nested."
   ]
  },
  {
   "cell_type": "code",
   "execution_count": 7,
   "metadata": {},
   "outputs": [
    {
     "name": "stdout",
     "output_type": "stream",
     "text": [
      "[1, 2, 3, 4, 5, 6, 7, 8, 9, 10]\n",
      "[2, 4, 6, 8, 10, 12, 14, 16, 18, 20]\n",
      "[3, 6, 9, 12, 15, 18, 21, 24, 27, 30]\n",
      "[4, 8, 12, 16, 20, 24, 28, 32, 36, 40]\n",
      "[5, 10, 15, 20, 25, 30, 35, 40, 45, 50]\n",
      "[6, 12, 18, 24, 30, 36, 42, 48, 54, 60]\n",
      "[7, 14, 21, 28, 35, 42, 49, 56, 63, 70]\n",
      "[8, 16, 24, 32, 40, 48, 56, 64, 72, 80]\n",
      "[9, 18, 27, 36, 45, 54, 63, 72, 81, 90]\n",
      "[10, 20, 30, 40, 50, 60, 70, 80, 90, 100]\n",
      "[[1, 2, 3, 4, 5, 6, 7, 8, 9, 10], [2, 4, 6, 8, 10, 12, 14, 16, 18, 20], [3, 6, 9, 12, 15, 18, 21, 24, 27, 30], [4, 8, 12, 16, 20, 24, 28, 32, 36, 40], [5, 10, 15, 20, 25, 30, 35, 40, 45, 50], [6, 12, 18, 24, 30, 36, 42, 48, 54, 60], [7, 14, 21, 28, 35, 42, 49, 56, 63, 70], [8, 16, 24, 32, 40, 48, 56, 64, 72, 80], [9, 18, 27, 36, 45, 54, 63, 72, 81, 90], [10, 20, 30, 40, 50, 60, 70, 80, 90, 100]]\n"
     ]
    }
   ],
   "source": [
    "a = [1, 2, 3, 4, 5, 6, 7, 8, 9, 10]\n",
    "result = [[i * j for j in range(1, 11)] for i in a]\n",
    "\n",
    "for i in result:\n",
    "\tprint(i)\n",
    "print(result)"
   ]
  },
  {
   "cell_type": "markdown",
   "metadata": {},
   "source": [
    "Now consider,"
   ]
  },
  {
   "cell_type": "code",
   "execution_count": 8,
   "metadata": {},
   "outputs": [
    {
     "name": "stdout",
     "output_type": "stream",
     "text": [
      "[('A', 'C'), ('B', 'C'), ('A', 'D'), ('B', 'D')]\n"
     ]
    }
   ],
   "source": [
    "a = [\"A\", \"B\"]\n",
    "b = [\"C\", \"D\"]\n",
    "result = [(i, j) for j in b for i in a]\n",
    "print(result)"
   ]
  },
  {
   "cell_type": "code",
   "execution_count": 9,
   "metadata": {},
   "outputs": [
    {
     "name": "stdout",
     "output_type": "stream",
     "text": [
      "A C A D B C B D "
     ]
    }
   ],
   "source": [
    "for i in a:\n",
    "\tfor j in b:\n",
    "\t\tprint(i, j, end = \" \")"
   ]
  },
  {
   "cell_type": "code",
   "execution_count": 10,
   "metadata": {},
   "outputs": [
    {
     "name": "stdout",
     "output_type": "stream",
     "text": [
      "A C B C A D B D "
     ]
    }
   ],
   "source": [
    "for j in b:\n",
    "\tfor i in a:\n",
    "\t\tprint(i, j, end = \" \")"
   ]
  },
  {
   "cell_type": "markdown",
   "metadata": {},
   "source": [
    "In nested list comprehension, the traversal is from outer loop to inner loop from left to right.\n",
    "\n",
    "This can be understood from the following example,"
   ]
  },
  {
   "cell_type": "code",
   "execution_count": 11,
   "metadata": {},
   "outputs": [
    {
     "name": "stdout",
     "output_type": "stream",
     "text": [
      "[('A', 'C'), ('B', 'C'), ('A', 'D'), ('B', 'D')]\n",
      "('A', 'C') ('B', 'C') ('A', 'D') ('B', 'D') "
     ]
    }
   ],
   "source": [
    "result = [(i, j) for j in b for i in a]\n",
    "print(result)\n",
    "\n",
    "# is equivalent to\n",
    "for j in b:\n",
    "    for i in a:\n",
    "        print((i, j), end = \" \")"
   ]
  },
  {
   "cell_type": "markdown",
   "metadata": {},
   "source": [
    "- `for j in b`: This outer loop iterates through each element in list `b`.\n",
    "- `for i in a`: For each element in `b`, this inner loop iterates through each element in the list `a`."
   ]
  },
  {
   "cell_type": "code",
   "execution_count": 12,
   "metadata": {},
   "outputs": [
    {
     "name": "stdout",
     "output_type": "stream",
     "text": [
      "[('A', 'C'), ('A', 'D'), ('B', 'C'), ('B', 'D')]\n",
      "('A', 'C') ('A', 'D') ('B', 'C') ('B', 'D') "
     ]
    }
   ],
   "source": [
    "result = [(i, j) for i in a for j in b]\n",
    "print(result)\n",
    "\n",
    "# is equivalent to\n",
    "for i in a:\n",
    "    for j in b:\n",
    "        print((i, j), end = \" \")"
   ]
  },
  {
   "cell_type": "markdown",
   "metadata": {},
   "source": [
    "- `for i in a`: This outer loop iterates through each element in list `a`.\n",
    "- `for j in b`: For each element in `a`, this inner loop iterates through each element in list `b`."
   ]
  },
  {
   "cell_type": "markdown",
   "metadata": {},
   "source": [
    "# Set Comprehension"
   ]
  },
  {
   "cell_type": "code",
   "execution_count": 13,
   "metadata": {},
   "outputs": [
    {
     "name": "stdout",
     "output_type": "stream",
     "text": [
      "{1, 2, 3, 4, 5}\n"
     ]
    }
   ],
   "source": [
    "s = {i for i in [1, 2, 3, 4, 5]}\n",
    "print(s)"
   ]
  },
  {
   "cell_type": "markdown",
   "metadata": {},
   "source": [
    "# Dictionary Comprehension"
   ]
  },
  {
   "cell_type": "code",
   "execution_count": 14,
   "metadata": {},
   "outputs": [
    {
     "name": "stdout",
     "output_type": "stream",
     "text": [
      "{1: 1, 2: 4, 3: 9, 4: 16, 5: 25}\n",
      "{'key 1': 1, 'key 2': 4, 'key 3': 9, 'key 4': 16, 'key 5': 25}\n"
     ]
    }
   ],
   "source": [
    "d = {i: i ** 2 for i in range(1, 6)}\n",
    "d1 = {f\"key {i}\": i ** 2 for i in range(1, 6)}\n",
    "print(d)\n",
    "print(d1)"
   ]
  },
  {
   "cell_type": "markdown",
   "metadata": {},
   "source": [
    "# Why Is Tuple Comprehension Not Possible?\n",
    "Tuples in Python are immutable, which means once they are created, the elements in them can't be changed. This immutability is a fundamental characteristic of tuples and distinguishes them from lists, which are mutable.\n",
    "\n",
    "List comprehension works by applying an expression to each item in an iterable and collecting the result into a new list. Because lists are mutable, it is possible to build a new list by iteratively appending elements to it. However, this does not work for tuples, as tuples cannot be modified once created."
   ]
  }
 ],
 "metadata": {
  "kernelspec": {
   "display_name": "Python 3",
   "language": "python",
   "name": "python3"
  },
  "language_info": {
   "codemirror_mode": {
    "name": "ipython",
    "version": 3
   },
   "file_extension": ".py",
   "mimetype": "text/x-python",
   "name": "python",
   "nbconvert_exporter": "python",
   "pygments_lexer": "ipython3",
   "version": "3.11.9"
  }
 },
 "nbformat": 4,
 "nbformat_minor": 2
}
