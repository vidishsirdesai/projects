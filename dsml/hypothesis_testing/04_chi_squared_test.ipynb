{
 "cells": [
  {
   "cell_type": "markdown",
   "metadata": {},
   "source": [
    "# Chi-Squared Test\n",
    "Chi-Squared Test is the sum of square of the Gaussian distribution.\n",
    "\n",
    "The Chi-Squared Test is a statistics test used to determine whether there is a significant association between 2 categorical variables. It is a non-parametric test. Meaning, it does not make assumptions about the distribution of the data. The Chi-Squared Test comes in different forms,\n",
    "1. Chi-Squared Test for independence:\n",
    "    - Objective: To assess whether there is a significant association between two categorical variables.\n",
    "    - H0: The two variables are independent.\n",
    "    - H1: The two variables are not independent, there is an association.\n",
    "    - Degrees of Freedom: $(r - 1) * (c - 1)$, where $r$ = number of rows, $c$ = number of columns in the contingency table.\n",
    "2. Chi-Squared Test for goodness of fit:\n",
    "    - Objective: To test whether the observed frequency distribution fits a theoretical (expected) distribution.\n",
    "    - H0: The observed and expected frequencies do not differ significantly.\n",
    "    - H1: The observed and the expected frequencies differ significantly.\n",
    "    - Degrees of Freedom: $(k - 1)$, where $k$ is the number of categories.\n",
    "\n",
    "In both forms of Chi-Squared test, the test statistic is compared to a critical value from the Chi-Squared distribution to determine the statistical significance. If the test statistic is larger than the critical value, the null hypothesis is rejected.\n",
    "\n",
    "The Chi-Squared Test is widely used in various fields, such as social sciences, biology and market research to assess the associations between categorical variables or goodness of fit.\n",
    "\n",
    "The Chi-Squared ($\\chi^2$) should be small under null hypothesis.\n",
    "\n",
    "The Chi-Squared ($\\chi^2$) should be large under alternative hypothesis.\n",
    "\n",
    "### Assumptions of Chi-Squared Test\n",
    "1. Variables are categorical.\n",
    "2. Observations are independent.\n",
    "3. Each cell is mutually exclusive.\n",
    "4. The expected value in each cell has to be greater than 5."
   ]
  },
  {
   "cell_type": "markdown",
   "metadata": {},
   "source": [
    "# Chi-Squared Test For Independence"
   ]
  },
  {
   "cell_type": "code",
   "execution_count": 1,
   "metadata": {},
   "outputs": [
    {
     "name": "stdout",
     "output_type": "stream",
     "text": [
      "Chi-squared Statistic: 0.27692307692307694\n",
      "P-value: 0.870696738961232\n",
      "Degrees of Freedom: 2\n",
      "Expected Frequencies:\n",
      " [[11.11111111 20.         28.88888889]\n",
      " [13.88888889 25.         36.11111111]]\n"
     ]
    }
   ],
   "source": [
    "import numpy as np\n",
    "from scipy.stats import chi2_contingency\n",
    "\n",
    "observed_data = np.array([[10, 20, 30],\n",
    "                          [15, 25, 35]])\n",
    "\n",
    "chi2_stat, p_value, dof, expected = chi2_contingency(observed_data)\n",
    "\n",
    "print(\"Chi-squared Statistic:\", chi2_stat)\n",
    "print(\"P-value:\", p_value)\n",
    "print(\"Degrees of Freedom:\", dof)\n",
    "print(\"Expected Frequencies:\\n\", expected)"
   ]
  },
  {
   "cell_type": "markdown",
   "metadata": {},
   "source": [
    "# Chi-Squared Test For Goodness Of Fit"
   ]
  },
  {
   "cell_type": "code",
   "execution_count": 2,
   "metadata": {},
   "outputs": [
    {
     "name": "stdout",
     "output_type": "stream",
     "text": [
      "Chi-squared Statistic: 2.7177033492822966\n",
      "P-value: 0.2569556763201589\n"
     ]
    }
   ],
   "source": [
    "import numpy as np\n",
    "from scipy.stats import chi2_contingency\n",
    "\n",
    "# observed frequencies\n",
    "observed_data = np.array([30, 45, 25])\n",
    "\n",
    "# expected frequencies\n",
    "expected_data = np.array([20, 50, 30])\n",
    "\n",
    "chi2_stat, p_value, dof, expected = chi2_contingency([observed_data, expected_data])\n",
    "\n",
    "print(\"Chi-squared Statistic:\", chi2_stat)\n",
    "print(\"P-value:\", p_value)"
   ]
  },
  {
   "cell_type": "markdown",
   "metadata": {},
   "source": [
    "# Examples Showing How To Conduct A Chi-Squared Test"
   ]
  },
  {
   "cell_type": "markdown",
   "metadata": {},
   "source": [
    "### Example 1\n",
    "Conduct a Chi-Squared Test to see if a coin is fair or biased."
   ]
  },
  {
   "cell_type": "code",
   "execution_count": 3,
   "metadata": {},
   "outputs": [
    {
     "name": "stdout",
     "output_type": "stream",
     "text": [
      "0.72\n",
      "0.3961439091520741\n",
      "Accept H0\n",
      "Coin is fair\n",
      "8.0\n",
      "0.004677734981047265\n",
      "Reject H0\n",
      "Coin is biased\n"
     ]
    }
   ],
   "source": [
    "import numpy as np\n",
    "import pandas as pd\n",
    "import seaborn as sns\n",
    "import matplotlib.pyplot as plt\n",
    "from scipy.stats import chisquare # chistat, p-value is returned\n",
    "\n",
    "# H0: coin is fair\n",
    "# Ha: coin is biased\n",
    "\n",
    "# the chisquare() method takes in two lists observed and expected\n",
    "\n",
    "chisquare([28, 22], [25, 25]) # run this\n",
    "\n",
    "alpha = 0.05\n",
    "chi_stat, p_value =  chisquare([28, 22], [25, 25])\n",
    "print(chi_stat)\n",
    "print(p_value)\n",
    "\n",
    "if p_value < alpha:\n",
    "  print(\"Reject H0\")\n",
    "  print(\"Coin is biased\")\n",
    "else:\n",
    "  print(\"Accept H0\")\n",
    "  print(\"Coin is fair\")\n",
    "\n",
    "# repeat the above for 2600, 2400\n",
    "alpha = 0.05\n",
    "chi_stat, p_value =  chisquare([2600, 2400], [2500, 2500])\n",
    "print(chi_stat)\n",
    "print(p_value)\n",
    "\n",
    "if p_value < alpha:\n",
    "  print(\"Reject H0\")\n",
    "  print(\"Coin is biased\")\n",
    "else:\n",
    "  print(\"Accept H0\")\n",
    "  print(\"Coin is fair\")"
   ]
  },
  {
   "cell_type": "markdown",
   "metadata": {},
   "source": [
    "### Example 2\n",
    "Conduct the Chi-Squared Test using the formula,"
   ]
  },
  {
   "cell_type": "code",
   "execution_count": 4,
   "metadata": {},
   "outputs": [
    {
     "data": {
      "text/plain": [
       "(2.149430792773634+0.27153625606401877j)"
      ]
     },
     "execution_count": 4,
     "metadata": {},
     "output_type": "execute_result"
    }
   ],
   "source": [
    "((28 - 25) ** (2/ 25)) + ((22 - 25) ** (2/ 25))"
   ]
  },
  {
   "cell_type": "markdown",
   "metadata": {},
   "source": [
    "### Example 3\n",
    "How to use this to find the value at which there is a 0.05 probability to the right? How to find the critical value such that the probability on the right is 0.05?"
   ]
  },
  {
   "cell_type": "code",
   "execution_count": 5,
   "metadata": {},
   "outputs": [
    {
     "data": {
      "text/plain": [
       "np.float64(3.8414588206941205)"
      ]
     },
     "execution_count": 5,
     "metadata": {},
     "output_type": "execute_result"
    }
   ],
   "source": [
    "import numpy as np\n",
    "import pandas as pd\n",
    "import seaborn as sns\n",
    "import matplotlib.pyplot as plt\n",
    "from scipy.stats import chisquare\n",
    "from scipy.stats import chi2\n",
    "\n",
    "# find the p_value\n",
    "# p_value = 1 - chi2.cdf(chi_stat, dof) # dof: degrees of freedom\n",
    "\n",
    "# to calculates the critical value from the chi-squared distribution for a given \n",
    "# significance level (alpha) and degrees of freedom\n",
    "chi2.ppf(0.95, df = 1)\n",
    "# meaning, if the chi_stat is less than this value, H0 stands\n",
    "# once the chi_stat value exceeds this critical value, H0 is rejected"
   ]
  },
  {
   "cell_type": "markdown",
   "metadata": {},
   "source": [
    "### Example 4\n",
    "Consider a survey where the impact of gender on online or offline purchases is recoded. Questions that can be asked,\n",
    "- Do men prefer purchasing online or offline?\n",
    "- Do women prefer purchasing online or offline?\n",
    "- Is the preference independent of the gender?\n",
    "\n",
    "Observed values,\n",
    "\n",
    "|  | Men | Women |  |\n",
    "| :-: | :-: | :-: | :-: |\n",
    "| Offline | 527 | 72 | 599 (66%) |\n",
    "| Online | 206 | 102 | 308 (34%) |\n",
    "|  | 733 | 174 | 907 |\n",
    "\n",
    "Null and alternative hypotheses\n",
    "- H0: Gender has no effect on the medium used to purchase.\n",
    "- H1: Gender has an effect on the medium used to purchase.\n",
    "\n",
    "There are no expected values given here in this situation.\n",
    "\n",
    "Questions,\n",
    "- What are the expected values under the assumption of H0?\n",
    "- What percentage of people prefer to purchase offline? 66%.\n",
    "- If the gender were not to have an impact or effect, among the 733 people, how many are expected to prefer purchasing offline? 66%.\n",
    "- Is it possible to compute the Chi-Squared statistic here, using the above interpretation?\n",
    "\n",
    "Expected values,\n",
    "\n",
    "|  | Men | Women |  |\n",
    "| :-: | :-: | :-: | :-: |\n",
    "| Offline | 484 | 115 | 599 (66%) |\n",
    "| Online | 249 | 59 | 308 (34%) |\n",
    "|  | 733 | 174 | 907 |\n",
    "\n",
    "The expected values have been computed from the observed values.\n",
    "\n",
    "There is python method that does the above computation of expected for us. It will also take the Chi-squares statistic.\n",
    "\n",
    "$\\chi^2 = (527 - 484)^{2/ 484} + (72 - 115)^{2/ 115} + (206 - 249)^{2/ 249} + (102 - 59)^{2/ 59}$\n",
    "\n",
    "Difference between the above example and the Coin Toss example:\n",
    "- Coin Toss: Fit the expected distribution.\n",
    "- Preference vs Gender: Testing for independence.\n",
    "\n",
    "There are two flavors to the chi-squared test."
   ]
  },
  {
   "cell_type": "code",
   "execution_count": 6,
   "metadata": {},
   "outputs": [
    {
     "name": "stdout",
     "output_type": "stream",
     "text": [
      "57.04098674049609\n",
      "4.268230756875866e-14\n",
      "1\n",
      "[[484.08710033 114.91289967]\n",
      " [248.91289967  59.08710033]]\n",
      "Reject H0\n"
     ]
    }
   ],
   "source": [
    "# preference vs gender\n",
    "import numpy as np\n",
    "import pandas as pd\n",
    "import seaborn as sns\n",
    "import matplotlib.pyplot as plt\n",
    "from scipy.stats import chisquare\n",
    "from scipy.stats import chi2\n",
    "from scipy.stats import chi2_contingency\n",
    "\n",
    "# H0: Gender and preference are independent.\n",
    "# Ha: Preference depends on the gender.\n",
    "\n",
    "observed = [[527, 72], [206, 102]]\n",
    "chi_stat, p_value, dof, expected_freq = chi2_contingency(observed)\n",
    "print(chi_stat)\n",
    "print(p_value)\n",
    "print(dof)\n",
    "print(expected_freq)\n",
    "\n",
    "if p_value < 0.05:\n",
    "  print(\"Reject H0\")"
   ]
  },
  {
   "cell_type": "markdown",
   "metadata": {},
   "source": [
    "Consider the aerofit dataset,"
   ]
  },
  {
   "cell_type": "code",
   "execution_count": 7,
   "metadata": {},
   "outputs": [
    {
     "name": "stdout",
     "output_type": "stream",
     "text": [
      "12.923836032388664\n",
      "0.0015617972833158714\n",
      "2\n",
      "[[33.77777778 25.33333333 16.88888889]\n",
      " [46.22222222 34.66666667 23.11111111]]\n",
      "Reject H0\n",
      "Gender has an impact the purchases\n",
      "0.0005953595971967067\n",
      "0.9805335549105975\n",
      "1\n",
      "[[39.42857143 29.57142857]\n",
      " [40.57142857 30.42857143]]\n",
      "Accept H0\n"
     ]
    }
   ],
   "source": [
    "import numpy as np\n",
    "import pandas as pd\n",
    "import seaborn as sns\n",
    "import matplotlib.pyplot as plt\n",
    "from scipy.stats import chisquare\n",
    "from scipy.stats import chi2\n",
    "from scipy.stats import chi2_contingency\n",
    "\n",
    "df_aerofit = pd.read_csv(\"aerofit.csv\")\n",
    "df_aerofit.head()\n",
    "\n",
    "gender_product = pd.crosstab(index = df_aerofit[\"Gender\"], columns = df_aerofit[\"Product\"])\n",
    "gender_product\n",
    "\n",
    "# h0: gender has no impact the purchases\n",
    "# h1: gender has an impact the purchases\n",
    "\n",
    "# check for independence \n",
    "chi_stat, p_value, dof, expected_freq = chi2_contingency(gender_product)\n",
    "print(chi_stat)\n",
    "print(p_value)\n",
    "print(dof)\n",
    "print(expected_freq)\n",
    "\n",
    "if p_value < 0.05:\n",
    "   print(\"Reject H0\")\n",
    "   print(\"Gender has an impact the purchases\")\n",
    "\n",
    "# check for independence\n",
    "chi_stat, p_value, dof, expected_freq = chi2_contingency([[40, 29], [40, 31]])\n",
    "print(chi_stat)\n",
    "print(p_value)\n",
    "print(dof)\n",
    "print(expected_freq)\n",
    "\n",
    "if p_value < 0.05:\n",
    "   print(\"Reject H0\")\n",
    "   print(\"Gender has an impact the purchases\")\n",
    "else:\n",
    "   print(\"Accept H0\")"
   ]
  }
 ],
 "metadata": {
  "kernelspec": {
   "display_name": "Python 3",
   "language": "python",
   "name": "python3"
  },
  "language_info": {
   "codemirror_mode": {
    "name": "ipython",
    "version": 3
   },
   "file_extension": ".py",
   "mimetype": "text/x-python",
   "name": "python",
   "nbconvert_exporter": "python",
   "pygments_lexer": "ipython3",
   "version": "3.11.9"
  }
 },
 "nbformat": 4,
 "nbformat_minor": 2
}
