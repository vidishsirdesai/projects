{
 "cells": [
  {
   "cell_type": "code",
   "execution_count": 1,
   "metadata": {},
   "outputs": [],
   "source": [
    "# importing packages\n",
    "import numpy as np\n",
    "import pandas as pd\n",
    "import matplotlib.pyplot as plt\n",
    "import seaborn as sns\n",
    "import datetime\n",
    "import warnings"
   ]
  },
  {
   "cell_type": "code",
   "execution_count": 2,
   "metadata": {},
   "outputs": [],
   "source": [
    "# configuring the notebook\n",
    "pd.set_option(\"display.max_columns\", None)\n",
    "sns.set_theme(style = \"whitegrid\")\n",
    "warnings.filterwarnings(\"ignore\")"
   ]
  },
  {
   "cell_type": "code",
   "execution_count": 3,
   "metadata": {},
   "outputs": [
    {
     "data": {
      "text/html": [
       "<div>\n",
       "<style scoped>\n",
       "    .dataframe tbody tr th:only-of-type {\n",
       "        vertical-align: middle;\n",
       "    }\n",
       "\n",
       "    .dataframe tbody tr th {\n",
       "        vertical-align: top;\n",
       "    }\n",
       "\n",
       "    .dataframe thead th {\n",
       "        text-align: right;\n",
       "    }\n",
       "</style>\n",
       "<table border=\"1\" class=\"dataframe\">\n",
       "  <thead>\n",
       "    <tr style=\"text-align: right;\">\n",
       "      <th></th>\n",
       "      <th>instant</th>\n",
       "      <th>dteday</th>\n",
       "      <th>season</th>\n",
       "      <th>yr</th>\n",
       "      <th>mnth</th>\n",
       "      <th>hr</th>\n",
       "      <th>holiday</th>\n",
       "      <th>weekday</th>\n",
       "      <th>workingday</th>\n",
       "      <th>weathersit</th>\n",
       "      <th>temp</th>\n",
       "      <th>atemp</th>\n",
       "      <th>hum</th>\n",
       "      <th>windspeed</th>\n",
       "      <th>casual</th>\n",
       "      <th>registered</th>\n",
       "      <th>cnt</th>\n",
       "    </tr>\n",
       "  </thead>\n",
       "  <tbody>\n",
       "    <tr>\n",
       "      <th>0</th>\n",
       "      <td>1</td>\n",
       "      <td>2011-01-01</td>\n",
       "      <td>1</td>\n",
       "      <td>0</td>\n",
       "      <td>1</td>\n",
       "      <td>0</td>\n",
       "      <td>0</td>\n",
       "      <td>6</td>\n",
       "      <td>0</td>\n",
       "      <td>1</td>\n",
       "      <td>0.24</td>\n",
       "      <td>0.2879</td>\n",
       "      <td>0.81</td>\n",
       "      <td>0.0</td>\n",
       "      <td>3</td>\n",
       "      <td>13</td>\n",
       "      <td>16</td>\n",
       "    </tr>\n",
       "    <tr>\n",
       "      <th>1</th>\n",
       "      <td>2</td>\n",
       "      <td>2011-01-01</td>\n",
       "      <td>1</td>\n",
       "      <td>0</td>\n",
       "      <td>1</td>\n",
       "      <td>1</td>\n",
       "      <td>0</td>\n",
       "      <td>6</td>\n",
       "      <td>0</td>\n",
       "      <td>1</td>\n",
       "      <td>0.22</td>\n",
       "      <td>0.2727</td>\n",
       "      <td>0.80</td>\n",
       "      <td>0.0</td>\n",
       "      <td>8</td>\n",
       "      <td>32</td>\n",
       "      <td>40</td>\n",
       "    </tr>\n",
       "    <tr>\n",
       "      <th>2</th>\n",
       "      <td>3</td>\n",
       "      <td>2011-01-01</td>\n",
       "      <td>1</td>\n",
       "      <td>0</td>\n",
       "      <td>1</td>\n",
       "      <td>2</td>\n",
       "      <td>0</td>\n",
       "      <td>6</td>\n",
       "      <td>0</td>\n",
       "      <td>1</td>\n",
       "      <td>0.22</td>\n",
       "      <td>0.2727</td>\n",
       "      <td>0.80</td>\n",
       "      <td>0.0</td>\n",
       "      <td>5</td>\n",
       "      <td>27</td>\n",
       "      <td>32</td>\n",
       "    </tr>\n",
       "    <tr>\n",
       "      <th>3</th>\n",
       "      <td>4</td>\n",
       "      <td>2011-01-01</td>\n",
       "      <td>1</td>\n",
       "      <td>0</td>\n",
       "      <td>1</td>\n",
       "      <td>3</td>\n",
       "      <td>0</td>\n",
       "      <td>6</td>\n",
       "      <td>0</td>\n",
       "      <td>1</td>\n",
       "      <td>0.24</td>\n",
       "      <td>0.2879</td>\n",
       "      <td>0.75</td>\n",
       "      <td>0.0</td>\n",
       "      <td>3</td>\n",
       "      <td>10</td>\n",
       "      <td>13</td>\n",
       "    </tr>\n",
       "    <tr>\n",
       "      <th>4</th>\n",
       "      <td>5</td>\n",
       "      <td>2011-01-01</td>\n",
       "      <td>1</td>\n",
       "      <td>0</td>\n",
       "      <td>1</td>\n",
       "      <td>4</td>\n",
       "      <td>0</td>\n",
       "      <td>6</td>\n",
       "      <td>0</td>\n",
       "      <td>1</td>\n",
       "      <td>0.24</td>\n",
       "      <td>0.2879</td>\n",
       "      <td>0.75</td>\n",
       "      <td>0.0</td>\n",
       "      <td>0</td>\n",
       "      <td>1</td>\n",
       "      <td>1</td>\n",
       "    </tr>\n",
       "  </tbody>\n",
       "</table>\n",
       "</div>"
      ],
      "text/plain": [
       "   instant     dteday  season  yr  mnth  hr  holiday  weekday  workingday  \\\n",
       "0        1 2011-01-01       1   0     1   0        0        6           0   \n",
       "1        2 2011-01-01       1   0     1   1        0        6           0   \n",
       "2        3 2011-01-01       1   0     1   2        0        6           0   \n",
       "3        4 2011-01-01       1   0     1   3        0        6           0   \n",
       "4        5 2011-01-01       1   0     1   4        0        6           0   \n",
       "\n",
       "   weathersit  temp   atemp   hum  windspeed  casual  registered  cnt  \n",
       "0           1  0.24  0.2879  0.81        0.0       3          13   16  \n",
       "1           1  0.22  0.2727  0.80        0.0       8          32   40  \n",
       "2           1  0.22  0.2727  0.80        0.0       5          27   32  \n",
       "3           1  0.24  0.2879  0.75        0.0       3          10   13  \n",
       "4           1  0.24  0.2879  0.75        0.0       0           1    1  "
      ]
     },
     "execution_count": 3,
     "metadata": {},
     "output_type": "execute_result"
    }
   ],
   "source": [
    "# importing the dataset\n",
    "\n",
    "# content = requests.get(\"https://archive.ics.uci.edu/ml/machine-learning-databases/00275/Bike-Sharing-Dataset.zip\").content\n",
    "# with zipfile.ZipFile(io.BytesIO(content)) as arc:\n",
    "#     raw_data = pd.read_csv(arc.open(\"hour.csv\"), header=0, sep=',', parse_dates=['dteday'])\n",
    "\n",
    "raw_data = pd.read_csv(\"./bike_sharing_dataset/hour.csv\", header = 0, sep = \",\", parse_dates = [\"dteday\"])\n",
    "raw_data.head()"
   ]
  },
  {
   "cell_type": "code",
   "execution_count": 4,
   "metadata": {},
   "outputs": [],
   "source": [
    "# set datetime column as the index of the dataset\n",
    "raw_data.index = raw_data.apply(lambda row: datetime.datetime.combine(row.dteday.date(), datetime.time(row.hr)), axis = 1)"
   ]
  },
  {
   "cell_type": "code",
   "execution_count": 5,
   "metadata": {},
   "outputs": [
    {
     "name": "stdout",
     "output_type": "stream",
     "text": [
      "<class 'pandas.core.frame.DataFrame'>\n",
      "DatetimeIndex: 17379 entries, 2011-01-01 00:00:00 to 2012-12-31 23:00:00\n",
      "Data columns (total 17 columns):\n",
      " #   Column      Non-Null Count  Dtype         \n",
      "---  ------      --------------  -----         \n",
      " 0   instant     17379 non-null  int64         \n",
      " 1   dteday      17379 non-null  datetime64[ns]\n",
      " 2   season      17379 non-null  int64         \n",
      " 3   yr          17379 non-null  int64         \n",
      " 4   mnth        17379 non-null  int64         \n",
      " 5   hr          17379 non-null  int64         \n",
      " 6   holiday     17379 non-null  int64         \n",
      " 7   weekday     17379 non-null  int64         \n",
      " 8   workingday  17379 non-null  int64         \n",
      " 9   weathersit  17379 non-null  int64         \n",
      " 10  temp        17379 non-null  float64       \n",
      " 11  atemp       17379 non-null  float64       \n",
      " 12  hum         17379 non-null  float64       \n",
      " 13  windspeed   17379 non-null  float64       \n",
      " 14  casual      17379 non-null  int64         \n",
      " 15  registered  17379 non-null  int64         \n",
      " 16  cnt         17379 non-null  int64         \n",
      "dtypes: datetime64[ns](1), float64(4), int64(12)\n",
      "memory usage: 2.4 MB\n"
     ]
    }
   ],
   "source": [
    "raw_data.info()"
   ]
  },
  {
   "cell_type": "code",
   "execution_count": 6,
   "metadata": {},
   "outputs": [
    {
     "data": {
      "text/plain": [
       "np.int64(0)"
      ]
     },
     "execution_count": 6,
     "metadata": {},
     "output_type": "execute_result"
    }
   ],
   "source": [
    "# check for the presence of missing values in the entire dataset\n",
    "raw_data.isna().sum().sum()"
   ]
  },
  {
   "cell_type": "code",
   "execution_count": 7,
   "metadata": {},
   "outputs": [
    {
     "data": {
      "text/html": [
       "<div>\n",
       "<style scoped>\n",
       "    .dataframe tbody tr th:only-of-type {\n",
       "        vertical-align: middle;\n",
       "    }\n",
       "\n",
       "    .dataframe tbody tr th {\n",
       "        vertical-align: top;\n",
       "    }\n",
       "\n",
       "    .dataframe thead th {\n",
       "        text-align: right;\n",
       "    }\n",
       "</style>\n",
       "<table border=\"1\" class=\"dataframe\">\n",
       "  <thead>\n",
       "    <tr style=\"text-align: right;\">\n",
       "      <th></th>\n",
       "      <th>instant</th>\n",
       "      <th>dteday</th>\n",
       "      <th>season</th>\n",
       "      <th>yr</th>\n",
       "      <th>mnth</th>\n",
       "      <th>hr</th>\n",
       "      <th>holiday</th>\n",
       "      <th>weekday</th>\n",
       "      <th>workingday</th>\n",
       "      <th>weathersit</th>\n",
       "      <th>temp</th>\n",
       "      <th>atemp</th>\n",
       "      <th>hum</th>\n",
       "      <th>windspeed</th>\n",
       "      <th>casual</th>\n",
       "      <th>registered</th>\n",
       "      <th>cnt</th>\n",
       "    </tr>\n",
       "  </thead>\n",
       "  <tbody>\n",
       "    <tr>\n",
       "      <th>2011-01-01 00:00:00</th>\n",
       "      <td>1</td>\n",
       "      <td>2011-01-01</td>\n",
       "      <td>1</td>\n",
       "      <td>0</td>\n",
       "      <td>1</td>\n",
       "      <td>0</td>\n",
       "      <td>0</td>\n",
       "      <td>6</td>\n",
       "      <td>0</td>\n",
       "      <td>1</td>\n",
       "      <td>0.24</td>\n",
       "      <td>0.2879</td>\n",
       "      <td>0.81</td>\n",
       "      <td>0.0</td>\n",
       "      <td>3</td>\n",
       "      <td>13</td>\n",
       "      <td>16</td>\n",
       "    </tr>\n",
       "    <tr>\n",
       "      <th>2011-01-01 01:00:00</th>\n",
       "      <td>2</td>\n",
       "      <td>2011-01-01</td>\n",
       "      <td>1</td>\n",
       "      <td>0</td>\n",
       "      <td>1</td>\n",
       "      <td>1</td>\n",
       "      <td>0</td>\n",
       "      <td>6</td>\n",
       "      <td>0</td>\n",
       "      <td>1</td>\n",
       "      <td>0.22</td>\n",
       "      <td>0.2727</td>\n",
       "      <td>0.80</td>\n",
       "      <td>0.0</td>\n",
       "      <td>8</td>\n",
       "      <td>32</td>\n",
       "      <td>40</td>\n",
       "    </tr>\n",
       "    <tr>\n",
       "      <th>2011-01-01 02:00:00</th>\n",
       "      <td>3</td>\n",
       "      <td>2011-01-01</td>\n",
       "      <td>1</td>\n",
       "      <td>0</td>\n",
       "      <td>1</td>\n",
       "      <td>2</td>\n",
       "      <td>0</td>\n",
       "      <td>6</td>\n",
       "      <td>0</td>\n",
       "      <td>1</td>\n",
       "      <td>0.22</td>\n",
       "      <td>0.2727</td>\n",
       "      <td>0.80</td>\n",
       "      <td>0.0</td>\n",
       "      <td>5</td>\n",
       "      <td>27</td>\n",
       "      <td>32</td>\n",
       "    </tr>\n",
       "    <tr>\n",
       "      <th>2011-01-01 03:00:00</th>\n",
       "      <td>4</td>\n",
       "      <td>2011-01-01</td>\n",
       "      <td>1</td>\n",
       "      <td>0</td>\n",
       "      <td>1</td>\n",
       "      <td>3</td>\n",
       "      <td>0</td>\n",
       "      <td>6</td>\n",
       "      <td>0</td>\n",
       "      <td>1</td>\n",
       "      <td>0.24</td>\n",
       "      <td>0.2879</td>\n",
       "      <td>0.75</td>\n",
       "      <td>0.0</td>\n",
       "      <td>3</td>\n",
       "      <td>10</td>\n",
       "      <td>13</td>\n",
       "    </tr>\n",
       "    <tr>\n",
       "      <th>2011-01-01 04:00:00</th>\n",
       "      <td>5</td>\n",
       "      <td>2011-01-01</td>\n",
       "      <td>1</td>\n",
       "      <td>0</td>\n",
       "      <td>1</td>\n",
       "      <td>4</td>\n",
       "      <td>0</td>\n",
       "      <td>6</td>\n",
       "      <td>0</td>\n",
       "      <td>1</td>\n",
       "      <td>0.24</td>\n",
       "      <td>0.2879</td>\n",
       "      <td>0.75</td>\n",
       "      <td>0.0</td>\n",
       "      <td>0</td>\n",
       "      <td>1</td>\n",
       "      <td>1</td>\n",
       "    </tr>\n",
       "  </tbody>\n",
       "</table>\n",
       "</div>"
      ],
      "text/plain": [
       "                     instant     dteday  season  yr  mnth  hr  holiday  \\\n",
       "2011-01-01 00:00:00        1 2011-01-01       1   0     1   0        0   \n",
       "2011-01-01 01:00:00        2 2011-01-01       1   0     1   1        0   \n",
       "2011-01-01 02:00:00        3 2011-01-01       1   0     1   2        0   \n",
       "2011-01-01 03:00:00        4 2011-01-01       1   0     1   3        0   \n",
       "2011-01-01 04:00:00        5 2011-01-01       1   0     1   4        0   \n",
       "\n",
       "                     weekday  workingday  weathersit  temp   atemp   hum  \\\n",
       "2011-01-01 00:00:00        6           0           1  0.24  0.2879  0.81   \n",
       "2011-01-01 01:00:00        6           0           1  0.22  0.2727  0.80   \n",
       "2011-01-01 02:00:00        6           0           1  0.22  0.2727  0.80   \n",
       "2011-01-01 03:00:00        6           0           1  0.24  0.2879  0.75   \n",
       "2011-01-01 04:00:00        6           0           1  0.24  0.2879  0.75   \n",
       "\n",
       "                     windspeed  casual  registered  cnt  \n",
       "2011-01-01 00:00:00        0.0       3          13   16  \n",
       "2011-01-01 01:00:00        0.0       8          32   40  \n",
       "2011-01-01 02:00:00        0.0       5          27   32  \n",
       "2011-01-01 03:00:00        0.0       3          10   13  \n",
       "2011-01-01 04:00:00        0.0       0           1    1  "
      ]
     },
     "execution_count": 7,
     "metadata": {},
     "output_type": "execute_result"
    }
   ],
   "source": [
    "raw_data.head()"
   ]
  },
  {
   "cell_type": "markdown",
   "metadata": {},
   "source": [
    "# Data Dictionary\n",
    "- `instant` = record index\n",
    "- `dteday` = data\n",
    "- `season` = 1:winter, 2:spring, 3:summer, 4:fall\n",
    "- `yr` = year (0: 2011, 1: 2012)\n",
    "- `mnth` = month (1 to 12)\n",
    "- `hr` = hour (0 to 23)\n",
    "- `holiday` = weather day is holiday or not (extracted from http://dchr.dc.gov/page/holiday-schedule)\n",
    "- `weekday` = day of the week\n",
    "- `workingday` = if day is neither weekend nor holiday is 1, otherwise is 0\n",
    "- `weathersit` = - 1: Clear, Few clouds, Partly cloudy, Partly cloudy\n",
    "- `temp` = Normalized temperature in Celsius. The values are derived via (t-t_min)/(t_max-t_min), t_min=-8, t_max=+39 (only in hourly scale)\n",
    "- `atemp` = Normalized feeling temperature in Celsius. The values are derived via (t-t_min)/(t_max-t_min), t_min=-16, t_max=+50 (only in hourly scale)\n",
    "- `hum` = Normalized humidity. The values are divided to 100 (max)\n",
    "- `windspeed` = Normalized wind speed. The values are divided to 67 (max)\n",
    "- `casual` = count of casual users\n",
    "- `registered` = count of registered users\n",
    "- `cnt` = count of total rental bikes including both casual and registered\n",
    "\n",
    "The cnt column can be a good target variable. The objective is to predict the count of number of bikes rented given a specific data."
   ]
  },
  {
   "cell_type": "code",
   "execution_count": 8,
   "metadata": {},
   "outputs": [],
   "source": [
    "# dividing the dataset into 2 parts, \"reference\" (historic) and \"current\" (present)\n",
    "reference = raw_data.loc[\"2011-01-01 00:00:00\": \"2011-02-01 00:00:00\"]\n",
    "current = raw_data.loc[\"2011-02-02 00:00:00\": \"2011-03-01 00:00:00\"]"
   ]
  },
  {
   "cell_type": "code",
   "execution_count": 9,
   "metadata": {},
   "outputs": [],
   "source": [
    "# identify a few numerical and categorical features and perform statistical tests on them\n",
    "numerical_features = [\"cnt\", \"temp\", \"atemp\", \"windspeed\", \"yr\", \"mnth\"]\n",
    "categorical_fetures = [\"season\", \"holiday\", \"weekday\", \"workingday\"]"
   ]
  },
  {
   "cell_type": "code",
   "execution_count": 10,
   "metadata": {},
   "outputs": [],
   "source": [
    "# set the p_value to 0.05\n",
    "p_value = 0.05\n",
    "\n",
    "# initializing a variable to keep a count of the number of columns who's distribution has changed\n",
    "num_changed = 0\n",
    "cat_changed = 0"
   ]
  },
  {
   "cell_type": "code",
   "execution_count": 11,
   "metadata": {},
   "outputs": [
    {
     "name": "stdout",
     "output_type": "stream",
     "text": [
      "The data distribution for cnt has changed.\n",
      "The data distribution for temp has changed.\n",
      "The data distribution for atemp has changed.\n",
      "The data distribution for windspeed has changed.\n",
      "The data distribution for mnth has changed.\n",
      "The number of numerical features that have changed = 5\n"
     ]
    }
   ],
   "source": [
    "from scipy import stats\n",
    "\n",
    "# perform Kolmogorov-Smirnov test on numerical features\n",
    "for col in numerical_features:\n",
    "    test = stats.ks_2samp(reference[col], current[col])\n",
    "\n",
    "    if test[1] <= p_value:\n",
    "        print(f\"The data distribution for {col} has changed.\")\n",
    "        num_changed += 1\n",
    "print(f\"The number of numerical features that have changed = {num_changed}\")\n",
    "\n",
    "\n",
    "# caution: year, if used as a feature, can be tricky to deal with.\n",
    "# a change in year from, say 2011 to 2012, can cause the p_value to be as low as 0.0"
   ]
  },
  {
   "cell_type": "code",
   "execution_count": 12,
   "metadata": {},
   "outputs": [
    {
     "name": "stdout",
     "output_type": "stream",
     "text": [
      "The number of categorical columns that have changed = 0\n"
     ]
    }
   ],
   "source": [
    "# perform chi-square test on categorical features\n",
    "for col in categorical_fetures:\n",
    "    test = stats.chi2_contingency([reference[col].value_counts(), current[col].value_counts()])\n",
    "\n",
    "    if test[1] <= p_value:\n",
    "        print(f\"The categories in {col} have changed\")\n",
    "        cat_changed += 1\n",
    "print(f\"The number of categorical columns that have changed = {cat_changed}\")"
   ]
  },
  {
   "cell_type": "markdown",
   "metadata": {},
   "source": [
    "# Training A Model On Reference (Historical) Dataset"
   ]
  },
  {
   "cell_type": "code",
   "execution_count": 13,
   "metadata": {},
   "outputs": [],
   "source": [
    "target = \"cnt\"\n",
    "prediction = \"prediction\"\n",
    "numerical_features = [\"cnt\", \"temp\", \"atemp\", \"windspeed\", \"yr\", \"mnth\"]\n",
    "categorical_features = [\"season\", \"holiday\", \"workingday\"]"
   ]
  },
  {
   "cell_type": "code",
   "execution_count": 14,
   "metadata": {},
   "outputs": [
    {
     "data": {
      "text/plain": [
       "((482, 9), (207, 9), (482,), (207,))"
      ]
     },
     "execution_count": 14,
     "metadata": {},
     "output_type": "execute_result"
    }
   ],
   "source": [
    "from sklearn.model_selection import train_test_split\n",
    "\n",
    "x_train, x_test, y_train, y_test = train_test_split(reference[numerical_features + categorical_features], reference[target], test_size = 0.3)\n",
    "x_train.shape, x_test.shape, y_train.shape, y_test.shape"
   ]
  },
  {
   "cell_type": "code",
   "execution_count": 15,
   "metadata": {},
   "outputs": [
    {
     "data": {
      "text/plain": [
       "array([  1.  ,  31.93,   5.  ,  54.78, 217.56, 227.77,  15.08,  10.86,\n",
       "         1.  ,  21.  ,   8.  ,  52.  ,  43.87,  85.92, 137.38,  74.91,\n",
       "         3.  , 145.36,   3.  ,  48.93,  16.01,  32.97,  77.99,  82.95,\n",
       "        38.97, 117.32, 157.13,   1.  ,   8.  ,  74.04,  19.96,  94.97,\n",
       "        89.12,  63.95,   1.  ,  52.  ,   8.  , 160.9 ,   2.  ,  28.02,\n",
       "         1.  , 144.92,  67.91,  38.97,  43.87,   1.  ,  94.91, 105.77,\n",
       "         1.  ,  23.01,  41.01,  28.89,   2.  , 156.12,  27.  ,   2.  ,\n",
       "        43.8 ,   1.  ,  29.96,  52.98,  82.95,  85.8 ,  54.01,  38.  ,\n",
       "        79.55,  34.99,   6.  ,  99.11,  59.17,  40.14,   7.  ,  63.01,\n",
       "        28.08,   3.  ,  70.02,  49.47,  28.2 ,  30.97,  53.03, 108.33,\n",
       "         2.  ,  54.84,  18.94,  27.04, 168.06,   3.  ,  75.97,   5.  ,\n",
       "        20.07,  94.01,   7.  ,  63.98, 222.17,  41.58,  32.99, 121.53,\n",
       "        20.01,   1.  ,  64.92,  56.97,  44.86,  61.98, 138.04,   2.  ,\n",
       "        43.  ,  11.93,   8.  ,  88.09,  59.09,  36.  , 119.79,  43.05,\n",
       "        28.06, 128.72,   4.98,  27.98,   2.  ,   1.  ,  74.91,  94.9 ,\n",
       "         4.01,  41.65,  59.96,  31.91,  22.14,  72.01, 100.92,  56.99,\n",
       "        86.05,  75.96,   1.  ,  90.75,  17.11, 176.75, 219.58,   6.  ,\n",
       "        25.66,  82.98,  11.95, 117.73,  29.93,  27.05,  77.98,  97.72,\n",
       "        68.88,  22.11,  63.99,  81.97,  30.86,  71.99,  37.91,  35.03,\n",
       "        44.99,  17.11,  59.05, 196.22,  34.99,  28.17,   9.82,  13.4 ,\n",
       "       111.76,  59.13,   8.  , 109.74,  48.99, 153.94,   7.  , 109.93,\n",
       "       180.18,  18.94,  72.05, 155.29,  67.09,  33.97,  59.1 ,  48.87,\n",
       "        98.95,  17.08,  35.03,  54.87,  70.05,  40.91,  87.5 , 118.  ,\n",
       "         7.  ,  75.93,   6.  ,  77.05, 131.93,  99.1 ,   3.  ,  16.02,\n",
       "        93.07,  18.03,   4.01, 100.93,  32.95,   2.  ,  43.94,  30.02,\n",
       "        54.82, 185.32,  92.  ,  61.97,  38.99, 109.41,  15.08])"
      ]
     },
     "execution_count": 15,
     "metadata": {},
     "output_type": "execute_result"
    }
   ],
   "source": [
    "from sklearn.ensemble import RandomForestRegressor\n",
    "\n",
    "model = RandomForestRegressor(random_state = 0)\n",
    "model.fit(x_train, y_train)\n",
    "pred_reference_test = model.predict(x_test)\n",
    "pred_reference_test"
   ]
  },
  {
   "cell_type": "code",
   "execution_count": 16,
   "metadata": {},
   "outputs": [
    {
     "data": {
      "text/plain": [
       "(np.float64(0.3199033816425118),\n",
       " np.float64(2.4565381642512056),\n",
       " 0.9990323872950326)"
      ]
     },
     "execution_count": 16,
     "metadata": {},
     "output_type": "execute_result"
    }
   ],
   "source": [
    "# computing MAE, MSE and R2 score for reference dataset\n",
    "from sklearn.metrics import mean_absolute_error, mean_squared_error, r2_score\n",
    "\n",
    "reference_mae = mean_absolute_error(y_test, pred_reference_test)\n",
    "reference_mse = mean_squared_error(y_test, pred_reference_test)\n",
    "reference_r2_score = r2_score(y_test, pred_reference_test)\n",
    "\n",
    "reference_mae, reference_mse, reference_r2_score"
   ]
  },
  {
   "cell_type": "markdown",
   "metadata": {},
   "source": [
    "# Predicting On The Current (Present) Dataset"
   ]
  },
  {
   "cell_type": "code",
   "execution_count": 17,
   "metadata": {},
   "outputs": [
    {
     "data": {
      "text/plain": [
       "array([  2.  ,   3.  ,   4.  ,   1.  ,   1.  ,   3.  ,  17.89,  48.95,\n",
       "       155.3 , 122.28,  60.98,  52.01,  64.  ,  74.96,  62.92,  75.91,\n",
       "       103.73, 189.17, 180.19,  90.64,  74.85,  62.97,  40.12,  31.76,\n",
       "        11.94,   5.  ,   2.  ,   1.  ,   2.  ,  38.97,  87.15, 187.75,\n",
       "       134.31,  52.03,  63.97,  68.85,  50.89,  47.01,  60.03,  77.98,\n",
       "       175.91, 146.2 ,  95.04, 109.75,  54.01,  41.06,  37.99,  13.05,\n",
       "         7.  ,   1.  ,   1.  ,   7.  ,  28.23,  87.33, 219.83, 128.5 ,\n",
       "        50.96,  63.98,  86.04,  81.78,  90.74,  89.79,  99.  , 206.33,\n",
       "       155.41, 103.66,  70.9 ,  43.07,  45.64,  30.98,  38.98,  17.95,\n",
       "        17.1 ,  10.85,   8.  ,   9.02,   3.99,   3.99,   9.83,  20.04,\n",
       "        33.98,  46.97,  52.01,  72.03,  54.83,  59.9 ,  70.9 ,  77.98,\n",
       "        82.92,  83.97,  68.81,  56.  ,  44.78,  59.01,  38.95,  43.8 ,\n",
       "        20.07,  12.99,   2.  ,   1.  ,   1.  ,   8.  ,  22.98,  44.74,\n",
       "        89.11, 117.35, 173.74, 179.48, 161.11, 179.62, 157.23, 121.67,\n",
       "        77.93,  21.02,  25.86,  27.04,  61.92,  29.9 ,  15.07,   4.98,\n",
       "         3.  ,   1.  ,   2.  ,   9.87,  29.92,  94.86, 228.44, 119.31,\n",
       "        54.78,  46.93,  65.03,  64.03,  59.89,  49.62, 114.88, 216.24,\n",
       "       175.68, 127.96,  88.51,  77.96,  37.06,  24.93,   9.87,   3.99,\n",
       "         2.  ,   1.  ,   3.  ,   2.  ,  38.98,  99.64, 227.07, 134.94,\n",
       "        48.03,  49.53,  64.98,  49.53,  63.99,  50.9 ,  82.95, 177.75,\n",
       "       153.94, 100.62,  56.03,  54.06,  28.92,  11.95,  17.03,   7.  ,\n",
       "         3.  ,   2.  ,   7.  ,  43.02,  99.16, 197.81, 121.93,  59.14,\n",
       "        40.97,  60.94,  68.84,  57.96,  63.96,  78.92, 164.97, 170.01,\n",
       "        87.97,  84.03,  83.  ,  45.6 ,  37.04,  15.93,   7.  ,   3.  ,\n",
       "         1.  ,   6.  ,  25.58,  99.01, 178.29, 120.9 ,  35.01,  45.05,\n",
       "        68.9 ,  61.98,  48.08,  49.56,  79.51, 164.77, 159.59, 112.26,\n",
       "        97.24,  71.97,  50.96,  33.99,  13.46,   7.  ,   3.  ,   4.  ,\n",
       "        23.88,  73.95, 218.13, 137.99,  43.94,  63.97,  70.91, 110.12,\n",
       "        83.97,  73.95, 121.62, 215.17, 173.74, 100.82,  62.97,  46.98,\n",
       "        43.07,  52.99,  29.93,  24.03,  15.08,   9.93,   4.  ,   1.  ,\n",
       "         2.  ,  10.94,  29.96,  42.94,  84.01, 113.91, 118.99, 134.54,\n",
       "       119.88, 173.6 , 144.88, 137.12,  64.04,  41.  ,  40.1 ,  50.98,\n",
       "        44.74,  31.93,  38.98,  24.01,  20.04,  11.91,   2.  ,   4.99,\n",
       "         3.  ,  11.89,  46.99, 104.75, 111.79, 153.83, 154.69, 161.24,\n",
       "       161.76, 134.1 , 121.67,  94.74,  61.04,  46.99,  50.93,  36.01,\n",
       "        29.97,  10.84,   7.  ,   2.  ,   2.  ,   2.  ,   3.  ,  25.79,\n",
       "        97.58, 225.38, 130.  ,  54.77,  52.95, 128.68, 119.32,  89.65,\n",
       "        89.65, 117.91, 225.38, 205.89,  97.51,  70.04,  43.08,  45.02,\n",
       "        20.07,  18.96,   4.99,   3.  ,   1.  ,   4.01,  29.98, 104.68,\n",
       "       224.33, 110.34,  52.01,  56.99,  70.81,  81.81,  79.06,  83.99,\n",
       "        97.66, 206.06, 214.79, 145.67, 100.78,  65.03,  40.97,  20.04,\n",
       "        15.07,   9.02,   1.  ,   1.  ,   5.  ,  32.96, 108.35, 227.21,\n",
       "       121.09,  68.83,  65.06,  86.09,  93.03,  81.83, 116.6 , 121.31,\n",
       "       225.28, 221.02, 161.08, 118.72,  91.68,  72.83,  32.96,  17.02,\n",
       "         6.  ,   6.  ,   4.  ,   4.  ,  11.91,  46.96, 127.58, 226.63,\n",
       "       178.87,  88.47,  89.78, 100.78, 122.04,  81.  , 105.92, 145.41,\n",
       "       225.38, 221.07, 175.88, 138.2 , 121.45,  75.91,  43.96,  31.76,\n",
       "         8.  ,   7.  ,   8.  ,   1.  ,   7.  ,  49.61, 116.77, 225.56,\n",
       "       168.25,  94.74, 111.9 , 185.71, 177.58, 189.47, 172.64, 225.28,\n",
       "       225.38, 221.17, 161.7 , 122.  ,  71.91, 105.92,  76.97,  28.78,\n",
       "        30.89,  17.11,   7.  ,   3.  ,   3.  ,   6.  ,  22.14,  44.91,\n",
       "        54.89, 105.81, 121.53, 118.56, 155.43, 195.39, 170.48, 119.39,\n",
       "       128.89,  88.38,  59.  ,  46.99,  32.9 ,  43.8 ,  28.78,  17.1 ,\n",
       "        15.98,  17.09,  17.98,   1.  ,   2.  ,   2.  ,  24.01,  54.83,\n",
       "       104.17, 161.16, 179.54, 196.19, 214.27, 168.12, 147.43, 145.73,\n",
       "       100.76,  41.76,  41.73,  55.97,  46.98,  54.02,  36.99,  13.  ,\n",
       "         4.  ,   4.99,   1.  ,   3.  ,   8.  ,  18.96,  62.96,  56.97,\n",
       "        81.08,  89.86,  92.95, 103.69, 116.71,  87.54,  56.03,  79.64,\n",
       "        65.01,  48.97,  28.75,  33.98,  10.87,   2.  ,   7.  ,  40.05,\n",
       "       114.65, 105.82,  43.85,  49.59,  54.79,  54.77,  58.01,  68.82,\n",
       "        86.04, 194.8 , 165.88, 117.99, 104.75,  81.84,  76.99,  20.91,\n",
       "         6.  ,   4.01,   1.  ,   2.  ,   8.  ,  36.  ,  95.01, 230.41,\n",
       "       137.15,  50.98,  68.83,  67.11,  87.66,  77.95,  71.89,  93.78,\n",
       "       222.17, 214.54, 140.21, 109.54,  90.8 ,  60.98,  38.99,  10.86,\n",
       "         7.  ,   3.99,   2.  ,   4.  ,  58.01, 104.11, 226.87, 137.47,\n",
       "        56.99,  79.07,  94.77,  88.53,  68.83,  62.92,  70.81, 177.58,\n",
       "       137.47, 115.49,  88.95,  82.89,  54.78,  49.56,   9.08,   9.87,\n",
       "         3.  ,   2.  ,   6.  ,  10.86,  35.02,  72.83, 114.01,  48.96,\n",
       "        58.99, 115.18,  82.82,  83.96,  54.84, 100.97, 188.41, 157.21,\n",
       "        89.66,  61.99,  62.92,  49.56,  38.98,  28.  ,  27.02,  11.94,\n",
       "         8.  ,   2.  ,   9.83,   7.  ,  22.06,  56.97,  73.95,  84.  ,\n",
       "       127.33, 159.87, 174.12, 213.01, 164.64, 170.31, 184.97, 136.64,\n",
       "        93.83,  67.91,  67.91,  45.58,  33.98,  33.98,  37.05,  22.08,\n",
       "        10.86,   2.  ,   3.  ,  13.41,  35.  ,  59.01, 103.66, 122.93,\n",
       "       193.71, 226.63, 226.63, 227.07, 226.6 , 187.02, 128.13, 100.95,\n",
       "        81.04,  68.8 ,  68.8 ,  59.03,  29.96,   8.  ,   1.  ,   4.98,\n",
       "        28.21,  91.67, 225.38, 143.79,  91.71,  87.7 ,  36.03,  31.92,\n",
       "        24.91,  35.01,  41.72,  79.06, 129.79,  79.65,  45.02,  79.65,\n",
       "        75.95,  45.02,   7.  ])"
      ]
     },
     "execution_count": 17,
     "metadata": {},
     "output_type": "execute_result"
    }
   ],
   "source": [
    "pred_current_test = model.predict(current[numerical_features + categorical_features])\n",
    "pred_current_test"
   ]
  },
  {
   "cell_type": "code",
   "execution_count": 18,
   "metadata": {},
   "outputs": [
    {
     "data": {
      "text/plain": [
       "2011-02-02 00:00:00     2\n",
       "2011-02-02 01:00:00     3\n",
       "2011-02-02 02:00:00     4\n",
       "2011-02-02 03:00:00     1\n",
       "2011-02-02 04:00:00     1\n",
       "                       ..\n",
       "2011-02-28 20:00:00    45\n",
       "2011-02-28 21:00:00    80\n",
       "2011-02-28 22:00:00    76\n",
       "2011-02-28 23:00:00    45\n",
       "2011-03-01 00:00:00     7\n",
       "Name: cnt, Length: 627, dtype: int64"
      ]
     },
     "execution_count": 18,
     "metadata": {},
     "output_type": "execute_result"
    }
   ],
   "source": [
    "y_current = current[target]\n",
    "y_current"
   ]
  },
  {
   "cell_type": "code",
   "execution_count": 19,
   "metadata": {},
   "outputs": [
    {
     "data": {
      "text/plain": [
       "(np.float64(1.2288835725677834),\n",
       " np.float64(46.99890446570973),\n",
       " 0.988514104290669)"
      ]
     },
     "execution_count": 19,
     "metadata": {},
     "output_type": "execute_result"
    }
   ],
   "source": [
    "# computing MAE, MSE and R2 score for reference dataset\n",
    "current_mae = mean_absolute_error(y_current, pred_current_test)\n",
    "current_mse = mean_squared_error(y_current, pred_current_test)\n",
    "current_r2_score = r2_score(y_current, pred_current_test)\n",
    "\n",
    "current_mae, current_mse, current_r2_score"
   ]
  },
  {
   "cell_type": "markdown",
   "metadata": {},
   "source": [
    "# Using MLFlow To Track Experiments"
   ]
  },
  {
   "cell_type": "code",
   "execution_count": 20,
   "metadata": {},
   "outputs": [],
   "source": [
    "import mlflow\n",
    "import psutil\n",
    "import random"
   ]
  },
  {
   "cell_type": "code",
   "execution_count": 21,
   "metadata": {},
   "outputs": [
    {
     "data": {
      "text/plain": [
       "<Experiment: artifact_location='file:///Users/vidishsirdesai/Desktop/dev/dsml_end_to_end_reference/mlops/model_monitoring/mlruns/934353440333462081', creation_time=1731982569436, experiment_id='934353440333462081', last_update_time=1731982569436, lifecycle_stage='active', name='bike_sharing', tags={}>"
      ]
     },
     "execution_count": 21,
     "metadata": {},
     "output_type": "execute_result"
    }
   ],
   "source": [
    "mlflow.set_experiment(\"bike_sharing\")"
   ]
  },
  {
   "cell_type": "code",
   "execution_count": 22,
   "metadata": {},
   "outputs": [],
   "source": [
    "experiment_batches = [\n",
    "    (\"2011-02-02 00:00:00\", \"2011-02-10 23:00:00\"),\n",
    "    (\"2011-02-10 00:00:00\", \"2011-02-17 23:00:00\"),\n",
    "    (\"2011-02-17 00:00:00\", \"2011-02-25 23:00:00\"),\n",
    "    (\"2011-02-25 00:00:00\", \"2011-03-01 23:00:00\")\n",
    "]"
   ]
  },
  {
   "cell_type": "code",
   "execution_count": 23,
   "metadata": {},
   "outputs": [],
   "source": [
    "for date in experiment_batches:\n",
    "    with mlflow.start_run() as run:\n",
    "        \n",
    "        mlflow.set_tag(\"mlflow.runName\", \"experiment_\"+str(date[0])+\" : \"+str(date[1]))\n",
    "\n",
    "        # logging the date parameters\n",
    "        mlflow.log_param(\"start_date\", date[0])\n",
    "        mlflow.log_param(\"end_date\", date[1])\n",
    "\n",
    "        # computing the prediction on the date range\n",
    "        data = current.loc[date[0]: date[1]]\n",
    "        features = data[numerical_features + categorical_features]\n",
    "        target = data[\"cnt\"]\n",
    "        prediction = model.predict(features)\n",
    "\n",
    "        # computing the model metrics\n",
    "        mae = mean_absolute_error(target, prediction)\n",
    "        mse = mean_squared_error(target, prediction)\n",
    "        r2 = r2_score(target, prediction)\n",
    "\n",
    "        # logging the model metrics\n",
    "        mlflow.log_metric('MAE', round(mae, 3))\n",
    "        mlflow.log_metric('MSE', round(mse, 3))\n",
    "        mlflow.log_metric('R2', round(r2, 3))\n",
    "\n",
    "        # computing and logging system metrics\n",
    "        cpu_usage = psutil.cpu_percent()\n",
    "        memory_usage = psutil.virtual_memory().percent\n",
    "        mlflow.log_metric(\"cpu_usage\", cpu_usage)\n",
    "        mlflow.log_metric(\"memory_usage\", memory_usage)"
   ]
  }
 ],
 "metadata": {
  "kernelspec": {
   "display_name": "Python 3",
   "language": "python",
   "name": "python3"
  },
  "language_info": {
   "codemirror_mode": {
    "name": "ipython",
    "version": 3
   },
   "file_extension": ".py",
   "mimetype": "text/x-python",
   "name": "python",
   "nbconvert_exporter": "python",
   "pygments_lexer": "ipython3",
   "version": "3.11.9"
  }
 },
 "nbformat": 4,
 "nbformat_minor": 2
}
