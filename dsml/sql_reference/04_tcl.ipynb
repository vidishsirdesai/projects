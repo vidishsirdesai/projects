{
 "cells": [
  {
   "cell_type": "markdown",
   "metadata": {},
   "source": [
    "# TCL\n",
    "TCL (Transaction Control Language) deals with how data transactions occur in a database."
   ]
  },
  {
   "cell_type": "markdown",
   "metadata": {},
   "source": [
    "# `commit`\n",
    "`commit` command is used to save all the transaction-related changes permanently to the disk. Whenever DDL commands such as `insert`, `update` and `delete` are used, the changes made by these commands are permanent only after closing the current session. So before closing the session, one can easily roll back on the changes made by the DDL commands. Hence, if the changes need to saved permanently to the disk without closing the session, the `commit` command is used.\n",
    "\n",
    "```sql\n",
    "commit;\n",
    "```\n"
   ]
  },
  {
   "cell_type": "markdown",
   "metadata": {},
   "source": [
    "# `savepoint`\n",
    "The database operations can be divided into parts. For example, all the `insert` queries that will be executed consecutively can be considered as one part of the transaction, and `delete` commands can be considered as other part of the transaction. Using the `savepoint` command, these different parts of the same transaction can be saved with different names. For example, all the `insert` queries can be saved using `savepoint` named `ins`.\n",
    "\n",
    "To save all the `insert` related queries in one savepoint, the `savepoint` command should be executed followed by the savepoint name after executing the `insert` commands.\n",
    "\n",
    "```sql\n",
    "-- syntax\n",
    "savepoint savepoint_name;\n",
    "```\n",
    "\n"
   ]
  },
  {
   "cell_type": "markdown",
   "metadata": {},
   "source": [
    "# `rollback`\n",
    "The `rollback` command is used to get the data or restore the data to the last savepoint or last committed state. If due to some reason, the data inserted, deleted or updated is not correct, `rollback` is used to revert to the previously saved savepoint, or if there no savepoint, then reversion is done to the last committed state.\n",
    "\n",
    "```sql\n",
    "-- syntax\n",
    "rollback to savepoint_name;\n",
    "```"
   ]
  }
 ],
 "metadata": {
  "language_info": {
   "name": "python"
  }
 },
 "nbformat": 4,
 "nbformat_minor": 2
}
