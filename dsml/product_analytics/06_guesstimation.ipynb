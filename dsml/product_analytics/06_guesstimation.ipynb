{
 "cells": [
  {
   "cell_type": "markdown",
   "metadata": {},
   "source": [
    "# What Is Guess Estimation (Guesstimation)?\n",
    "Guess estimation, also known as guesstimation, is a process of making an approximate or educated guess when dealing with a certain quantity, measurement or value for which precise information is not available or is not practical to obtain. It involves using one's intuition, experience and knowledge to arrive at a reasonable estimate.\n",
    "\n",
    "Guesstimation is often employed in various scenarios, like,\n",
    "- Interviews: Candidated may be asked to make guesstimates during job interviews to assess their problem solving skills and ability to think on their feet.\n",
    "- Business planning: When developing business plans, managers may need to estimate future market trends, demands or revenue figures.\n",
    "- Project management: Project managers might use guesstimation to quickly estimate project timelines, resource requirements or budgets.\n",
    "- Everyday situations: In daily life, people often make rough estimates when planning activities, managing time or making decisions.\n",
    "\n",
    "To make a good guesstimate, one may use reasonable assumptions, break down complex problems into smaller parts, and rely on personal experience, or general knowledge. While guess estimation is not as precise as detailed calculations or measurements, it can provide valuable insights and help in making informed decisions when exact data is not available or is not practical to obtain."
   ]
  },
  {
   "cell_type": "markdown",
   "metadata": {},
   "source": [
    "# Purpose Of Guess Estimations And Approaching Guesstimation Problems\n",
    "### Purpose\n",
    "The sole purpose of guesstimation is to check,\n",
    "- How structured is a person's approach towards making a near correct guess?\n",
    "- How comfortable is a person with estimating numbers?\n",
    "- Can a person perform back-of-the-mind calculations and validate them?\n",
    "\n",
    "### Approach\n",
    "1. Clarify: First try to understand the problem statement and gather all the information required for the estimation.\n",
    "2. Analyze: Analyze what all information is currently available and how can that be used to solve the problem in hand.\n",
    "3. Calculate: Note down the assumptions and use them as thumb rules to make calculations. The numbers do not need to be exact. Just specify a range of an approximation.\n",
    "4. Validate: Finally, validate the results in terms of the business metric. Make sure everything makes sense."
   ]
  },
  {
   "cell_type": "markdown",
   "metadata": {},
   "source": [
    "# Cost Per Click (CPC)\n",
    "- Also known as Pay Per Click (PPC).\n",
    "- CPC is an online advertising revenue model where the advertiser pays the publisher based on the number of times visitors click on a displayed advertisment.\n",
    "- CPC marketing is often more expensive than the other similar options.\n",
    "- $\\text{CPC} = \\frac{\\text{Advertising cost}}{\\text{Number of clicks}}$."
   ]
  },
  {
   "cell_type": "markdown",
   "metadata": {},
   "source": [
    "# Cost Per Mile (CPM)\n",
    "- CPM is cost per thousand impressions.\n",
    "- CPM is the amount an advertiser spends per thousand impressions of their ad on a web page.\n",
    "- CPM is more cost effective.\n",
    "- $\\text{CPM} = \\frac{\\text{Advertising spend}}{\\text{Impressions}} * 1000$."
   ]
  },
  {
   "cell_type": "markdown",
   "metadata": {},
   "source": [
    "# Click Through Rate (CTR)\n",
    "- CTR defines how many users see an ad and click on it.\n",
    "- CTR is one of the several KPIs.\n",
    "- $\\text{CTR} = \\frac{\\text{Total clicks}}{\\text{Total impressions}}$."
   ]
  },
  {
   "cell_type": "markdown",
   "metadata": {},
   "source": [
    "# How Is Cost Per Click Calculated?\n",
    "Advertisers commonly use cost per click with a set daily budget for a campaign. When the advertiser's budget is reached, the ad is automatically removed from the website's rotation for the remainder of the billing period.\n",
    "\n",
    "For example, a website with a Cost Per Click of $10 would bill an advertiser $100 for a 1000 click throughs."
   ]
  },
  {
   "cell_type": "markdown",
   "metadata": {},
   "source": [
    "# How To Lower CPC?\n",
    "Because advertising can become very expensive when paying by clicks, there has to be a plan to keep from paying too much per click. This means researching and creating a strategy with keywords to raise the quality score. Quality score is a measure of how an ad compared with the others."
   ]
  },
  {
   "cell_type": "markdown",
   "metadata": {},
   "source": [
    "# Raising The Quality Score\n",
    "The quality score is crucial to increasing the clicks and decreasing the costs. Quality score can be improved by adjusting,\n",
    "- Expected CTR: The ad can be edited to make it more appealing to the targeted consumer base, highlight features and benefits, and above all, ensure the ad details match the keywords.\n",
    "- Ad relevance: The ad should appeal to the audience and their search intent. Look at search results for different phrases and analyze the results.\n",
    "- Landing page experience: Landing page should be relevant to the audience that click the ad. For instance, an advertisment for a widget should not lead to a landing page featuring gadgets. Additionally, the speed at which the landing page loads should be fast enough across all devices so that potential customers do not need to wait.\n",
    "\n",
    "The primary alternative is CPM model, which charges 1000 ad impressions or views of the displayed ad regardless of whether or not a viewer clicks on the ad."
   ]
  },
  {
   "cell_type": "markdown",
   "metadata": {},
   "source": [
    "# Impression V. Interaction\n",
    "- Impression: When an advertisment is seen by a person.\n",
    "- Interaction: When a person clicks on an advertisment."
   ]
  },
  {
   "cell_type": "markdown",
   "metadata": {},
   "source": [
    "# Revenue Model Of Advertisments\n",
    "- CPM: Advertiser pays to the advertisee when 1000 people have seen the advertisment or they pay money for just seeing the ad.\n",
    "- Cost per interaction: Every time a user clicks on an ad, the advertisee charges the advertiser."
   ]
  },
  {
   "cell_type": "markdown",
   "metadata": {},
   "source": [
    "# Thumb Rule Of Advertisment\n",
    "- When driving awareness is the objective, CPM should be preferred.\n",
    "- When the product is mature, and the advertiser expects the user to either buy or visit the website in general or generate lead, CPC should be preferred."
   ]
  },
  {
   "cell_type": "markdown",
   "metadata": {},
   "source": [
    "# How Do Google And Meta Surface Ads?\n",
    "### Understanding the demand-supply dynamic\n",
    "In the digital advertising world, there's a constant interplay between supply and demand:\n",
    "- Supply: Advertisers create ad campaigns to promote their products or services.\n",
    "- Demand: Users spend time on websites and apps, making them potential targets for ads.\n",
    "\n",
    "Typically, the supply of ads far exceeds the demand for ad space. This imbalance presents a challenge for advertisers to reach their target audience effectively.\n",
    "\n",
    "### The role of ad networks: Google ads and meta ads\n",
    "To bridge this gap, ad networks like Google Ads and Meta Ads act as intermediaries between advertisers and publishers. These networks aggregate ad inventory from various publishers and match it with relevant advertisers.\n",
    "\n",
    "### Key roles of ad networks:\n",
    "1. Ad inventory: Ad networks collect ad inventory from a vast network of publishers, including websites, apps, and YouTube channels.\n",
    "2. Ad auctions: They conduct real-time auctions where advertisers bid on ad placements based on factors like target audience, ad relevance, and budget.\n",
    "3. Ad serving: The winning advertiser's ad is displayed on the publisher's website or app.\n",
    "4. Revenue sharing: Ad networks share a portion of the advertising revenue with publishers.\n",
    "\n",
    "### How it works: A simplified example\n",
    "Imagine a small blog about technology. The blogger (publisher) wants to monetize their content. They sign up with Google Adsense and embed ad code on their website.\n",
    "1. Ad request: When a user visits the blog, the browser sends an ad request to Google Ads.\n",
    "2. Ad auction: Google Ads conducts a real-time auction, where advertisers bid on the ad placement.\n",
    "3. Ad serving: The highest bidder's ad is displayed on the blog.\n",
    "4. Revenue sharing: Google shares a portion of the ad revenue with the blogger.\n",
    "\n",
    "### Benefits for advertisers and publishers\n",
    "- For advertisers:\n",
    "    - Targeted reach: Ad networks allow advertisers to reach their target audience precisely.\n",
    "    - Performance measurement: Advertisers can track the performance of their campaigns and optimize their spending.\n",
    "    - Global reach: Ad networks provide access to a vast global audience.\n",
    "- For publishers:\n",
    "    - Monetization: Publishers can generate revenue from their content without directly seeking advertisers.\n",
    "    - Ease of implementation: Ad networks provide tools and support to integrate ads into websites and apps.\n",
    "    - Shared revenue: Publishers receive a portion of the ad revenue generated on their platform."
   ]
  }
 ],
 "metadata": {
  "language_info": {
   "name": "python"
  }
 },
 "nbformat": 4,
 "nbformat_minor": 2
}
