{
 "cells": [
  {
   "cell_type": "markdown",
   "metadata": {},
   "source": [
    "# Introduction\n",
    "t-SNE, which stands for t-distributed Stochastic Neighbor Embedding, is a dimensionality reduction used for visualizing high-dimensional data. Unlike PCA that focuses on preserving variance, t-SNE aims to capture the similarities between the data points in a high dimensional space and represent them accurately in a lower dimensional space, typically, 2D or 3D, suitable for visualization.\n",
    "\n",
    "### Strengths\n",
    "- Preserves local similarities: t-SNE excels at preserving the similarities between nearby data points in the high-dimensional space. This allows for visualization of complex, non-linear relationships between data points that might not be captured by PCA.\n",
    "- Effective for non-linear data: While PCA works well for linear relationships, t-SNE is particularly useful for data with non-linear structures. This makes it valuable for tasks like visualizing high-dimensional datasets with intricate patterns.\n",
    "\n",
    "### Considerations\n",
    "- Computational cost: Compared to PCA, t-SNE can be computationally expensive, especially for large datasets. It might take longer to compute the lower-dimensional representation.\n",
    "- Stochasticity: t-SNE incorporates randomness in its calculations. This means repeated runs with the same data might produce slightly different visualizations.\n",
    "\n",
    "### When to use t-SNE?\n",
    "- When the data is high-dimensional with non-linear relationships and there is a need to visualize the underlying structure.\n",
    "- When exploring datasets to identify potential clusters or groupings of data points.\n",
    "- When interpreting the results of complex machine learning models by visualizing their embeddings in a lower-dimensional space.\n",
    "\n",
    "### PCA v. t-SNE\n",
    "- PCA is a powerful tool for dimensionality reduction that prioritizes preserving variance in the transformed data.\n",
    "- t-SNE complements PCA by focusing on maintaining the similarities between data points, making it particularly suitable for visualizing non-linear relationships in high-dimensional data."
   ]
  },
  {
   "cell_type": "markdown",
   "metadata": {},
   "source": [
    "# Steps to Apply t-SNE\n",
    "1. Data preparation:\n",
    "    - Import libraries: Start by importing the necessary libraries like `numpy`, `pandas`, etc.\n",
    "    - Load data: Load the high-dimensional data into a suitable data structure (array or DataFrame).\n",
    "2. Preprocessing: Consider standardizing the data (centering and scaling features) to ensure all features contribute equally to the distance calculations used by t-SNE. This can improve the quality of the visualization. Libraries like `sklearn.preprocessing.StandardScaler` can be used for this purpose.\n",
    "3. t-SNE model definition:\n",
    "    - Import t-SNE: Import the TSNE from a library like `scikit-learn.manifold`.\n",
    "    - Define parameters: The various parameter for the t-SNE model can be defined,\n",
    "        - `n_components`: The desired number of dimensions for the lower-dimensional representation (typically 2 or 3 for visualization).\n",
    "        - `perplexity`: A hyperparameter that controls the number of neighbors considered similar for each data point. This influences the local structure preservation in the visualization. Experimenting with different perplexity values might be needed to find an optimal setting.\n",
    "        - `learning_rate`: A hyperparameter that controls the learning rate of the t-SNE algorithm. Adjusting this can impact the convergence speed and the final embedding.\n",
    "4. Model fitting and transformation:\n",
    "    - Model fitting: Create a TSNE object with the desired parameters.\n",
    "    - Data Transformation: Use the fit_transform method on the t-SNE object to fit the model to the data and obtain the lower-dimensional representation. This gives the data points projected onto the chosen number of dimensions (e.g., 2D or 3D coordinates).\n",
    "5.  Visualization:\n",
    "    - Choose visualization library: Select a suitable library like Matplotlib or seaborn to create a scatter plot of the transformed data points in the lower-dimensional space.\n",
    "    - Labeling and interpretation: Optionally, add labels or color-code the data points based on target variables or other relevant information for easier interpretation of the visualized clusters or structures.\n",
    "\n",
    "### Additional considerations\n",
    "- Computational cost: Be aware that t-SNE can be computationally expensive, especially for large datasets. The training time might be longer compared to PCA.\n",
    "- Stochasticity: t-SNE incorporates randomness in its calculations. This means repeated runs with the same data might produce slightly different visualizations. Consider averaging multiple runs for a more stable representation.\n",
    "- Hyperparameter tuning: Experimenting with different perplexity and learning rate values can significantly impact the quality of the visualization. Techniques like grid search can be used to find optimal hyperparameter settings."
   ]
  },
  {
   "cell_type": "markdown",
   "metadata": {},
   "source": [
    "# Implementing t-SNE"
   ]
  },
  {
   "cell_type": "code",
   "execution_count": 1,
   "metadata": {},
   "outputs": [],
   "source": [
    "# importing packages\n",
    "import numpy as np\n",
    "import pandas as pd\n",
    "import matplotlib.pyplot as plt\n",
    "import seaborn as sns\n",
    "import warnings"
   ]
  },
  {
   "cell_type": "code",
   "execution_count": 2,
   "metadata": {},
   "outputs": [],
   "source": [
    "# configuring the notebook\n",
    "pd.set_option(\"display.max_columns\", None)\n",
    "sns.set_theme(style = \"whitegrid\")\n",
    "warnings.filterwarnings(\"ignore\")"
   ]
  },
  {
   "cell_type": "code",
   "execution_count": 3,
   "metadata": {},
   "outputs": [
    {
     "data": {
      "text/html": [
       "<div>\n",
       "<style scoped>\n",
       "    .dataframe tbody tr th:only-of-type {\n",
       "        vertical-align: middle;\n",
       "    }\n",
       "\n",
       "    .dataframe tbody tr th {\n",
       "        vertical-align: top;\n",
       "    }\n",
       "\n",
       "    .dataframe thead th {\n",
       "        text-align: right;\n",
       "    }\n",
       "</style>\n",
       "<table border=\"1\" class=\"dataframe\">\n",
       "  <thead>\n",
       "    <tr style=\"text-align: right;\">\n",
       "      <th></th>\n",
       "      <th>f1</th>\n",
       "      <th>f2</th>\n",
       "    </tr>\n",
       "  </thead>\n",
       "  <tbody>\n",
       "    <tr>\n",
       "      <th>0</th>\n",
       "      <td>2.038772</td>\n",
       "      <td>1.102760</td>\n",
       "    </tr>\n",
       "    <tr>\n",
       "      <th>1</th>\n",
       "      <td>0.869536</td>\n",
       "      <td>0.238030</td>\n",
       "    </tr>\n",
       "    <tr>\n",
       "      <th>2</th>\n",
       "      <td>1.795888</td>\n",
       "      <td>1.020364</td>\n",
       "    </tr>\n",
       "    <tr>\n",
       "      <th>3</th>\n",
       "      <td>0.103510</td>\n",
       "      <td>-0.513661</td>\n",
       "    </tr>\n",
       "    <tr>\n",
       "      <th>4</th>\n",
       "      <td>1.479554</td>\n",
       "      <td>0.750702</td>\n",
       "    </tr>\n",
       "  </tbody>\n",
       "</table>\n",
       "</div>"
      ],
      "text/plain": [
       "         f1        f2\n",
       "0  2.038772  1.102760\n",
       "1  0.869536  0.238030\n",
       "2  1.795888  1.020364\n",
       "3  0.103510 -0.513661\n",
       "4  1.479554  0.750702"
      ]
     },
     "execution_count": 3,
     "metadata": {},
     "output_type": "execute_result"
    }
   ],
   "source": [
    "# importing the data\n",
    "df = pd.read_csv(\"data.csv\")\n",
    "df.head()"
   ]
  },
  {
   "cell_type": "code",
   "execution_count": 4,
   "metadata": {},
   "outputs": [
    {
     "data": {
      "image/png": "[encoded data removed]",
      "text/plain": [
       "<Figure size 1500x750 with 1 Axes>"
      ]
     },
     "metadata": {},
     "output_type": "display_data"
    }
   ],
   "source": [
    "# visualizing the data\n",
    "plt.figure(figsize = (15, 7.5))\n",
    "plt.scatter(df[\"f1\"], df[\"f2\"])\n",
    "plt.show()"
   ]
  },
  {
   "cell_type": "code",
   "execution_count": 5,
   "metadata": {},
   "outputs": [
    {
     "data": {
      "text/plain": [
       "array([[ 1.54535131,  1.45245914],\n",
       "       [-0.27203872, -0.18355391],\n",
       "       [ 1.16782713,  1.29657192],\n",
       "       [-1.46270299, -1.60570434],\n",
       "       [ 0.6761373 ,  0.78638828],\n",
       "       [ 1.34947087,  1.37420876],\n",
       "       [-1.32351276, -1.24217262],\n",
       "       [ 1.12913003,  1.13352252],\n",
       "       [ 0.95000678,  0.7936775 ],\n",
       "       [-0.57106382, -0.51601814],\n",
       "       [ 0.06851605, -0.13256012],\n",
       "       [ 0.19697379,  0.17359728],\n",
       "       [ 0.40492253,  0.61580503],\n",
       "       [-0.74142803, -0.78689518],\n",
       "       [-0.14160441, -0.03396865],\n",
       "       [-1.01204978, -1.12815545],\n",
       "       [-1.59801963, -1.44282205],\n",
       "       [ 1.23234064,  1.16652774],\n",
       "       [-1.21750246, -1.10850974],\n",
       "       [-0.38075383, -0.61239797]])"
      ]
     },
     "execution_count": 5,
     "metadata": {},
     "output_type": "execute_result"
    }
   ],
   "source": [
    "# data standardization\n",
    "from sklearn.preprocessing import StandardScaler\n",
    "\n",
    "scaler = StandardScaler()\n",
    "df = scaler.fit_transform(df)\n",
    "df"
   ]
  },
  {
   "cell_type": "code",
   "execution_count": 8,
   "metadata": {},
   "outputs": [
    {
     "data": {
      "text/plain": [
       "array([[ 21.073742 , -22.791014 ],\n",
       "       [  4.026875 ,  -1.3710104],\n",
       "       [ 19.376602 , -17.338017 ],\n",
       "       [ -8.119024 ,  12.003372 ],\n",
       "       [ 13.760291 , -14.585069 ],\n",
       "       [ 16.753504 , -26.08338  ],\n",
       "       [  1.2839665,  13.275243 ],\n",
       "       [ 11.538726 , -24.126749 ],\n",
       "       [ 10.499265 , -18.930763 ],\n",
       "       [ -0.5183843,   1.4023916],\n",
       "       [  8.920083 ,  -2.9413326],\n",
       "       [  8.526721 ,  -8.165051 ],\n",
       "       [  8.467183 , -13.652302 ],\n",
       "       [  0.9488373,   6.591073 ],\n",
       "       [  3.210324 ,  -6.1146884],\n",
       "       [ -5.398897 ,   6.109659 ],\n",
       "       [ -4.014825 ,  15.869114 ],\n",
       "       [ 15.6701145, -20.744383 ],\n",
       "       [ -2.8714595,  10.4371805],\n",
       "       [  5.324605 ,   3.7508776]], dtype=float32)"
      ]
     },
     "execution_count": 8,
     "metadata": {},
     "output_type": "execute_result"
    }
   ],
   "source": [
    "# transforming using t-SNE\n",
    "from sklearn.manifold import TSNE\n",
    "\n",
    "model = TSNE(n_components = 2, perplexity = 10)\n",
    "df_transformed = model.fit_transform(df)\n",
    "df_transformed"
   ]
  },
  {
   "cell_type": "code",
   "execution_count": 9,
   "metadata": {},
   "outputs": [
    {
     "data": {
      "image/png": "[encoded data removed]",
      "text/plain": [
       "<Figure size 1500x750 with 1 Axes>"
      ]
     },
     "metadata": {},
     "output_type": "display_data"
    }
   ],
   "source": [
    "# visualize\n",
    "plt.figure(figsize = (15, 7.5))\n",
    "plt.scatter(df_transformed[:, 0], df_transformed[:, 1])\n",
    "plt.show()"
   ]
  },
  {
   "cell_type": "markdown",
   "metadata": {},
   "source": [
    "# Interpreting the Results from t-SNE\n",
    "Interpreting t-SNE results requires a bit more caution compared to techniques like PCA due to its stochastic nature and focus on local similarities.\n",
    "\n",
    "### Visual Patterns and Clusters\n",
    "- Look for clusters or groupings of data points in the lower-dimensional representation (usually 2D or 3D). These clusters might indicate underlying structures or similarities within your data.\n",
    "- Pay attention to how close data points are located in the t-SNE space. Points closer together are likely more similar based on the t-SNE's preservation of local neighborhoods in the high-dimensional space.\n",
    "\n",
    "### Relating t-SNE Results to Original Data\n",
    "- It's important to avoid over-interpreting the exact distances or positions of data points in the t-SNE visualization. These don't necessarily correspond to actual distances in the original high-dimensional space.\n",
    "- Focus on the relative positioning of data points to identify potential clusters and relationships. Consider using color-coding or labeling the data points based on target variables or other relevant information to see if these groupings align with any meaningful categories in your data.\n",
    "\n",
    "### Complementary Techniques\n",
    "- To gain a deeper understanding of the data structure, consider using other dimensionality reduction techniques like PCA alongside t-SNE. PCA can reveal the directions of greatest variance, which might provide additional insights into the underlying factors driving the clusters observed in the t-SNE visualization.\n",
    "- Clustering algorithms like k-means can be used on the t-SNE transformed data to formally partition the data into clusters based on their proximity in the lower-dimensional space.\n",
    "\n",
    "### Limitations to Consider\n",
    "- t-SNE visualizations are not guaranteed to be globally optimal representations of the high-dimensional data. Different runs with the same data might produce slightly different visualizations due to the stochasticity involved.\n",
    "- Interpreting t-SNE results can be subjective and may require domain knowledge to connect the observed patterns to the real-world meaning of your data.\n",
    "\n",
    "### Additional Tips\n",
    "- Experiment with different perplexity values in the t-SNE model. This hyperparameter influences the balance between local and global structure preservation, potentially leading to different visualization outcomes.\n",
    "- Visualize the data points with different colors based on target variables or other relevant information to see if the clusters in the t-SNE plot align with meaningful categories."
   ]
  }
 ],
 "metadata": {
  "kernelspec": {
   "display_name": "Python 3",
   "language": "python",
   "name": "python3"
  },
  "language_info": {
   "codemirror_mode": {
    "name": "ipython",
    "version": 3
   },
   "file_extension": ".py",
   "mimetype": "text/x-python",
   "name": "python",
   "nbconvert_exporter": "python",
   "pygments_lexer": "ipython3",
   "version": "3.11.2"
  }
 },
 "nbformat": 4,
 "nbformat_minor": 2
}
