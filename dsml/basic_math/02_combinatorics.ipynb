{
 "cells": [
  {
   "cell_type": "markdown",
   "metadata": {},
   "source": [
    "# What Is Combinatorics?\n",
    "Combinatorics is essentially the art of counting. Combinatorics is found in Permutations, Combinations, and some parts of Probability.\n",
    "\n",
    "Fundamental principles of counting are,\n",
    "- if an \"and\" operator is encountered, then the operands are multiplied.\n",
    "- if an \"or\" operator is encountered, then the operands are added."
   ]
  },
  {
   "cell_type": "markdown",
   "metadata": {},
   "source": [
    "# Examples\n",
    "### Given 2 True/ False questions, in how many ways can they be answered?\n",
    "There are 2 ways to answer Q1, either True (T) or False (F). Consider both,\n",
    "1. If Q1 is answered as T, then Q2 and Q3 can be answered in the following ways,\n",
    "\n",
    "    | Q1 | Q2 | Q3 |\n",
    "    | :-: | :-: | :-: |\n",
    "    | T | T | T |\n",
    "    | T | T | F |\n",
    "    | T | F | T |\n",
    "    | T | F | F |\n",
    "\n",
    "2. If Q1 is answered as F, then Q2 and Q3 can be answered in the following ways,\n",
    "\n",
    "    | Q1 | Q2 | Q3 |\n",
    "    | :-: | :-: | :-: |\n",
    "    | F | T | T |\n",
    "    | F | T | F |\n",
    "    | F | F | T |\n",
    "    | F | F | F |\n",
    "\n",
    "Therefore, total possible ways = 8.\n",
    "\n",
    "Alternatively, 2 * 2 * 2 = 8 ways.\n",
    "\n",
    "### If there are 3 different paths from Bangalore to Mumbai and 4 different paths from Mumbai to Delhi. Count the number of paths from Bangalore to Delhi.\n",
    "- Bangalore to Mumbai = 3.\n",
    "- Mumbai to Delhi = 4.\n",
    "- Therefore, Bangalore to Delhi = 3 * 4 = 12."
   ]
  },
  {
   "cell_type": "markdown",
   "metadata": {},
   "source": [
    "# Permutations\n",
    "- Permutations is the arrangements of objects.\n",
    "- In Permutations, $i, j ≠ j, i$.\n",
    "- In Permutations, the order in which the items are arranged matters.\n",
    "- The number of ways to arrange $n$ distinct objects at $n$ places = $n!$ (read as, \"*n factorial*\").\n",
    "- No way of arranging or not arranging, is also one of the ways of arranging.\n",
    "\n",
    "### Equation of Permutation\n",
    "Consider,\n",
    "- $n$ = Number of items.\n",
    "- $r$ = Number of slots.\n",
    "\n",
    "For $r$ = 2, $n(n - 1)$.\n",
    "\n",
    "For $r$ = 3, $n(n - 1)(n - 2)$.\n",
    "\n",
    "For $r$ = 4, $n(n - 1)(n - 2)(n - 3)$.\n",
    "\n",
    "For $r$ = k, \n",
    "- $n(n - 1)(n - 2)...(n - (k - 1))$\n",
    "- $n(n - 1)(n - 2)...(n - k + 1)$\n",
    "\n",
    "Multiply and divide by $(n - k)!$,\n",
    "\n",
    "$\\frac{n(n - 1)(n - 2)...(n - (k - 1))(n - k)(n - k - 1)(n - k - 2)...1}{(n - k)(n - k - 1)(n - k - 2)...1}$.\n",
    "\n",
    "The above equation can be reduced to, $\\frac{n!}{(n - k)!}$.\n",
    "\n",
    "Since, $k = r$, $\\frac{n!}{(n - r)!}$.\n",
    "\n",
    "Therefore, $\\frac{n!}{(n - r)!} = nPr$."
   ]
  },
  {
   "cell_type": "markdown",
   "metadata": {},
   "source": [
    "# Combinations\n",
    "- Combinations is the selection of objects.\n",
    "- In Combinations, $i, j = j, i$.\n",
    "- In Combinations, the order in which the items are arranged, does not matter.\n",
    "- Within selections, permutations do not matter. Meaning, only groups matter, but the arrangements in the groups does not matter.\n",
    "\n",
    "### Equation of Combinations\n",
    "Consider,\n",
    "- $n$ = Number of items.\n",
    "- $r$ = Number of selections.\n",
    "\n",
    "$\\text{Total number of selections} = \\frac{\\text{Total number of arrangements}}{\\text{Total number of repititions in each group}}$.\n",
    "\n",
    "$nCr = \\frac{nPr}{r!}$\n",
    "\n",
    "$nCr = \\frac{\\frac{n!}{(n - r)!}}{\\frac{r!}{1}}$\n",
    "\n",
    "Therefore,\n",
    "\n",
    "$nCr = \\frac{n!}{(n - r)! r!}$."
   ]
  },
  {
   "cell_type": "markdown",
   "metadata": {},
   "source": [
    "# Properties\n",
    "- $nC1 = n$.\n",
    "- $nC0 = 1$.\n",
    "- $nC0 + nC1 + ... + nCn = 2^{n}$."
   ]
  },
  {
   "cell_type": "markdown",
   "metadata": {},
   "source": [
    "# Circular Permutations\n",
    "### In how many ways can 3 people be arranged around a circular table?\n",
    "If 3 people were to be arranged in a straight line, there would be a total of $3!$ number of ways to arrange them.\n",
    "\n",
    "If the same 3 people are to arranged in a circle,\n",
    "- The first person can be arranged anywhere on the table. Meaning, there is only one way to arrange the 1st person.\n",
    "- The second person can be arranged either to the left of the 1st person, or to the right of the 1st person. Meaning, there are 2 possible ways to arrange to the 2nd person.\n",
    "- The last person is arranged in the remaining spot. Meaning, there is only one way to arrange the 3rd person\n",
    "- Therefore, total ways of arranging 3 people on a circular table = 1 * 2 * 1 = 2!\n",
    "\n",
    "Generalizing,\n",
    "\n",
    "$\\text{The total ways in which n people can be arrange on a circular table} = (n - 1)!$.\n",
    "\n",
    "The above is a non-flippable scenario, but consider a scenario where the setup can be flipped. For example, a necklace. Such scenarios where the setup is flippable, the arrangement is the same if looked in clockwise or anti-clockwise direction.\n",
    "\n",
    "The number of arrangements are therefore reduced by half in such cases.\n",
    "\n",
    "$\\text{The number of ways to arrange n items in a flippable circular scenario} = \\frac{(n - 1)!}{2}$.\n",
    "\n",
    "These scenarios are called necklace or garland problems."
   ]
  }
 ],
 "metadata": {
  "language_info": {
   "name": "python"
  }
 },
 "nbformat": 4,
 "nbformat_minor": 2
}
