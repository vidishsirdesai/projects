{
 "cells": [
  {
   "cell_type": "markdown",
   "metadata": {},
   "source": [
    "# What Is Exponential Distribution?\n",
    "The Exponential distribution is a probability distribution that models the time between independent events that occur at a constant average rate. It is closely related to the Poisson's distribution, which models the number of events in a fixed interval of time or space. The exponential distribution is often used to model the waiting time until the occurrence of a certain event.\n",
    "\n",
    "The Probability Density Function (PDF) of the exponential distribution is given by the formula,\n",
    "\n",
    "$f(x|λ) = λe^{-λx}$\n",
    "\n",
    "Where,\n",
    "- $\\lambda$ = The rate parameter (also known as the inverse scale parameter or the average rate of events per unit time).\n",
    "- $x$ = Time variable.\n",
    "\n",
    "The Cumulative Distribution Function (CDF) of the exponential distribution is,\n",
    "\n",
    "$F(x|λ) = 1 - e^{1 - λx}$\n",
    "\n",
    "Some key properties of the exponential distribution include,\n",
    "1. Memorylessness: The exponential distribution has the memoryless property, which means that the probability of an event occurring in the next instant, given that it has not occurred so far, is the same as if no time as passed. Mathematically, this property is expressed as,\n",
    "    \n",
    "    $P(X>s+t∣X>s)=P(X>t)$.\n",
    "\n",
    "    To sum the above computation,\n",
    "\n",
    "    $** P[T > x | T > y] = P[T > x - y] \\text{ as long as } (y < x)$.\n",
    "2. Continuous and non-negative values: The exponential distribution is a continuous distribution and the values it can take are non-negative.\n",
    "3. Exponential decay: The PDF and CDF exhibit exponential decay as $x$ increases.\n",
    "\n",
    "The mean ($\\mu$) and standard deviation ($\\sigma$) of the exponential distribution are given by $\\frac{1}{\\lambda}$ and $\\frac{1}{\\lambda}$ respectively.\n",
    "\n",
    "The Exponential distribution is widely used in various fields such as reliability engineering, queueing theory and survival analysis, where it is employed to model the time until the occurrence of an event, such as the time until a machine fails or the time until a customer arrives at a service point."
   ]
  },
  {
   "cell_type": "markdown",
   "metadata": {},
   "source": [
    "# Rate\n",
    "Rate is defined as the average number of events in a given interval.\n",
    "\n",
    "Event is any event like, scoring a goal, customer entering into a restaurant or a shopping mall etc.\n",
    "\n",
    "In the context of probability distribution, particularly in the Exponential and Poisson's distributions, the term \"rate\" refers to the average frequency of an event occurring in a given unit of time or space.\n",
    "\n",
    "### Exponential distribution ($\\lambda$)\n",
    "- In the exponential distribution, the rate ($\\lambda$) is the average number of events per unit time. It is also referred to as the inverse of the mean or the scale parameter.\n",
    "- A higher rate implies that events occur more frequently, leading to a shorter expected time between events.\n",
    "\n",
    "The probability density function (PDF) of the exponential distribution is,\n",
    "\n",
    "$f(x ∣ λ) = λe^{−λx}$\n",
    "\n",
    "Where, \n",
    "- $\\lambda$ = rate.\n",
    "\n",
    "### Poisson's Distribution rate \n",
    "- In the Poisson distribution, the rate ($\\lambda$) represents the average number of events in a fixed interval of time or space.\n",
    "- It is used to describe the average rate at which events happen, and it is also the mean and variance of the distribution.\n",
    "\n",
    "The probability mass function (PMF) of the Poisson distribution is,\n",
    "\n",
    "$P(X = k) = \\frac{(e^{-λ} * λ^{k})}{k!}$\n",
    "\n",
    "Where,\n",
    "- $\\lambda$ = rate.\n",
    "\n",
    "### Conclusion\n",
    "In both the cases, the rate parameter provides a measure of how often an event is expected to occur. It helps characterize the distribution and influences the shape and scale of the probability distribution function. A higher rate corresponds to a distribution that is more concentrated around its mean, indicating a higher likelihood of events occurring in a shorter amount of time or space."
   ]
  },
  {
   "cell_type": "markdown",
   "metadata": {},
   "source": [
    "# Scale\n",
    "Scale is defined as the amount of time between two events,\n",
    "\n",
    "$\\text{Scale} = \\frac{1}{λ} = \\frac{1}{\\text{mean}}$."
   ]
  },
  {
   "cell_type": "markdown",
   "metadata": {},
   "source": [
    "# Poisson's Distribution V. Exponential Distribution, When To Use What?\n",
    "- Counting the occurrences = Use Poisson Distribution\n",
    "- Waiting Time is Mentioned = Use Exponential Distribution\n",
    "\n",
    "Exponential and Poisson's Distribution are very close to each other, the relation between them is rate.\n",
    "\n",
    "- Poisson = Rate.\n",
    "- Exponential = Scale, and\n",
    "- $\\text{Scale} = \\frac{1}{\\text{Rate}}$"
   ]
  }
 ],
 "metadata": {
  "language_info": {
   "name": "python"
  }
 },
 "nbformat": 4,
 "nbformat_minor": 2
}
