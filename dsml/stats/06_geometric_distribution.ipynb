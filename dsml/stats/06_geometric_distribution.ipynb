{
 "cells": [
  {
   "cell_type": "markdown",
   "metadata": {},
   "source": [
    "# Introduction\n",
    "In Binomial distribution, the discussion involved cases where the number of trials is fixed ($n$ = 1 or $n$ = 7 or $n$ = 10). Where $n$ is known.\n",
    "\n",
    "The discussing now will be where $n$ is counted until the first success. The sample space in this case is,\n",
    "\n",
    "$S = \\{S, FS, FFS, FFFS, FFFFS, ...\\}$."
   ]
  },
  {
   "cell_type": "markdown",
   "metadata": {},
   "source": [
    "# What Is Geometric Distribution?\n",
    "The Binomial distribution involves cases where the number of trials is fixed ($n$ = 1 or $n$ = 7 or $n$ = 10). Where $n$ is known.\n",
    "\n",
    "Geometric distribution can be used for cases where the $n$ is unknown. The $n$ here is the number of trials taken to achieve the first success.\n",
    "\n",
    "The Geometric distribution is a probability distribution that models the number of independent and identical Bernouli trials (with 2 possible outcomes: success and failure) needed to achieve the first success. In other words, it calculates the number of trials required until the first success occurs. The outcomes in a Geometric distribution are typically labeled as,\n",
    "- Success ($S$), denoted as 1.\n",
    "- Failure ($F$), denoted as 0."
   ]
  },
  {
   "cell_type": "markdown",
   "metadata": {},
   "source": [
    "# Key Characteristics\n",
    "1. Independent and identical trials: Each trial is assumed to be independent of the others and each trial has the same probability of success ($p$) and the same probability of failure $(1 - p)$.\n",
    "2. Memoryless property: The geometric distribution is memoryless, which means that the past history of trials does not affect the future. In other words, the probability of getting the first success in a future trial remains the same regardless of how many trials have already occurred."
   ]
  },
  {
   "cell_type": "code",
   "execution_count": 1,
   "metadata": {},
   "outputs": [],
   "source": [
    "import numpy as np\n",
    "import pandas as pd\n",
    "import seaborn as sns\n",
    "import matplotlib.pyplot as plt\n",
    "import math\n",
    "from scipy.stats import binom, geom"
   ]
  },
  {
   "cell_type": "code",
   "execution_count": 2,
   "metadata": {},
   "outputs": [
    {
     "data": {
      "text/plain": [
       "<Axes: >"
      ]
     },
     "execution_count": 2,
     "metadata": {},
     "output_type": "execute_result"
    },
    {
     "data": {
      "image/png": "[encoded data removed]",
      "text/plain": [
       "<Figure size 640x480 with 1 Axes>"
      ]
     },
     "metadata": {},
     "output_type": "display_data"
    }
   ],
   "source": [
    "# geometric distribution\n",
    "p = 0.1\n",
    "x_vals = np.arange(0, 30) # x is th number of interviews you give\n",
    "probs_geom = geom.pmf(k = x_vals, p = p)\n",
    "sns.barplot(x = x_vals, y = probs_geom)"
   ]
  },
  {
   "cell_type": "code",
   "execution_count": 3,
   "metadata": {},
   "outputs": [
    {
     "data": {
      "text/plain": [
       "np.float64(0.1)"
      ]
     },
     "execution_count": 3,
     "metadata": {},
     "output_type": "execute_result"
    }
   ],
   "source": [
    "# number of offer letters in this case is one\n",
    "geom.pmf(k = 1, p = p) # eq1"
   ]
  },
  {
   "cell_type": "code",
   "execution_count": 4,
   "metadata": {},
   "outputs": [
    {
     "data": {
      "text/plain": [
       "np.float64(0.09000000000000001)"
      ]
     },
     "execution_count": 4,
     "metadata": {},
     "output_type": "execute_result"
    }
   ],
   "source": [
    "geom.pmf(k = 2, p = p) # eq2"
   ]
  },
  {
   "cell_type": "code",
   "execution_count": 5,
   "metadata": {},
   "outputs": [
    {
     "data": {
      "text/plain": [
       "np.float64(0.19)"
      ]
     },
     "execution_count": 5,
     "metadata": {},
     "output_type": "execute_result"
    }
   ],
   "source": [
    "geom.cdf(k = 2, p = p) # eq1 + eq2"
   ]
  }
 ],
 "metadata": {
  "kernelspec": {
   "display_name": "Python 3",
   "language": "python",
   "name": "python3"
  },
  "language_info": {
   "codemirror_mode": {
    "name": "ipython",
    "version": 3
   },
   "file_extension": ".py",
   "mimetype": "text/x-python",
   "name": "python",
   "nbconvert_exporter": "python",
   "pygments_lexer": "ipython3",
   "version": "3.11.9"
  }
 },
 "nbformat": 4,
 "nbformat_minor": 2
}
