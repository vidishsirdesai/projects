{
 "cells": [
  {
   "cell_type": "markdown",
   "metadata": {},
   "source": [
    "# What Are Recursive Functions?\n",
    "A function that calls itself repeatedly is called recursive function.\n",
    "\n",
    "For any recursion based algorithm to work, it need 2 things,\n",
    "1. A recursive formula: This determines how and when the function is called recursively.\n",
    "2. Base condition: This determines when the recursion stops.\n",
    "\n",
    "A function calling itself is basically like an infinite loop and needs a terminating condition."
   ]
  },
  {
   "cell_type": "code",
   "execution_count": 1,
   "metadata": {},
   "outputs": [
    {
     "name": "stdout",
     "output_type": "stream",
     "text": [
      "Factorial = 120\n"
     ]
    }
   ],
   "source": [
    "# example\n",
    "# code to calculate the factorial of a number using recursion\n",
    "\n",
    "def factorial(n):\n",
    "\tif n < 0:\n",
    "\t\treturn \"Factorial of Negative Numbers is NOT DEFINED\"\n",
    "\tif n == 0 or n == 1:\n",
    "\t\treturn 1\n",
    "\tresult = n * factorial(n - 1)\n",
    "\treturn result\n",
    "\n",
    "result = factorial(5)\n",
    "print(f\"Factorial = {result}\")"
   ]
  },
  {
   "cell_type": "markdown",
   "metadata": {},
   "source": [
    "# What Is A Stack Data Structure?\n",
    "Stack data structure can be related to a stack of CDs in a CD holder or wafers in a can of Pringles.\n",
    "\n",
    "The last item that is appended to a stack of data structure will be the first item that will be accessed (last in first out (LIFO))."
   ]
  },
  {
   "cell_type": "markdown",
   "metadata": {},
   "source": [
    "# How Does Recursion Work?\n",
    "Calling will take place until the base condition is reached and substitution only begins after that.\n",
    "\n",
    "During recursion,\n",
    "1. A stack is created when the function is called.\n",
    "2. The first thing that goes into the stack is the call to the function.\n",
    "3. The statements in the function get executed. During the execution, when the same function is called. It is again added to the stack and the statements within the function are executed.\n",
    "4. This process continues until the base condition is reached. The stack pointer is at the top, when the base condition is reached.\n",
    "5. The value returned by the base condition is passed to the stack below and the substitution is done, the resulting value is again passed to the stack below it and substitution is done. This continues until the bottom of the stack is reached.\n",
    "6. The stack is cleared after each `return` keyword is encountered.\n",
    "\n",
    "So, calling will take place until the base condition is reached and substitution only begins after that.\n",
    "\n",
    "During calling, the stack is filled from bottom to the top and during substitution the stack is cleared from top to bottom."
   ]
  }
 ],
 "metadata": {
  "kernelspec": {
   "display_name": "Python 3",
   "language": "python",
   "name": "python3"
  },
  "language_info": {
   "codemirror_mode": {
    "name": "ipython",
    "version": 3
   },
   "file_extension": ".py",
   "mimetype": "text/x-python",
   "name": "python",
   "nbconvert_exporter": "python",
   "pygments_lexer": "ipython3",
   "version": "3.11.9"
  }
 },
 "nbformat": 4,
 "nbformat_minor": 2
}
