{
 "cells": [
  {
   "cell_type": "markdown",
   "metadata": {},
   "source": [
    "# Data Types In Python\n",
    "Following are the different data types in Python,\n",
    "1. Integers (`int`), e.g., 1, 3, -5, 0, etc. The range of integers is from negative infinity to positive infinity (not actually).\n",
    "2. Floating points (`float`), e.g., 3.14, 9.8, etc. The range of floating point is from negative infinity to positive infinity (not actually).\n",
    "3. String (`str`), e.g., \"Hello World!\", \"Python is amazing!\", \"30 + 45 = 75\", etc.\n",
    "4. Complex numbers (`complex`), e.g., 3 + 4j, 12 - 17j, etc.\n",
    "5. Boolean (bool), has only 2 values `True` and `False`.\n",
    "6. `None`, represents nothing\n",
    "7. Data structures: Lists, Tuples, Sets and Dictionaries. Strings can also be classified as data structures."
   ]
  },
  {
   "cell_type": "markdown",
   "metadata": {},
   "source": []
  }
 ],
 "metadata": {
  "language_info": {
   "name": "python"
  }
 },
 "nbformat": 4,
 "nbformat_minor": 2
}
