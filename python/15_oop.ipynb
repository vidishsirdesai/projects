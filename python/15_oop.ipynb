{
 "cells": [
  {
   "cell_type": "markdown",
   "metadata": {},
   "source": [
    "# OOP\n",
    "Object oriented programming (OOP) is a programming paradigm (an example, or rather one of many approaches to programming).\n",
    "\n",
    "There are 2 popular approaches towards programming,\n",
    "1. Functional.\n",
    "2. Object oriented.\n",
    "\n",
    "OOP in principle is fairly simple. Everything is an object in Python, this is because, Python inherently follows OOP (meaning, it is built around OOP).\n",
    "\n",
    "There are 2 things associated with OOP,\n",
    "1. Class: A class is a blueprint of an object. Class defines the blueprint that an object can or will have.\n",
    "2. Object: An object is an instance of a class.\n",
    "\n",
    "Every object that is created from a particular class is an instance of that class.\n",
    "\n",
    "For example, Car is blueprint and Mini Cooper is an object of that class. Meaning, Mini Cooper is an instance of the Car class.\n",
    "\n",
    "Another example can be, 5 is an object of the class `int`, 5 is also an instance of the class `int`.\n",
    "\n",
    "Take strings for example, a lot of \"actions\" can be performed on strings (concatenate, split, lowercase, uppercase, etc). For a class and object, collectively, there are actions (functions or more accurately methods) and properties (variables). When a blueprint is created, all the common properties related to every object will be defined in that class.\n",
    "\n",
    "For a class `Human`, height, weight, gender, etc are all properties (variable). Breathing, walking, eating, etc are all actions (methods)."
   ]
  },
  {
   "cell_type": "markdown",
   "metadata": {},
   "source": [
    "# Why OOP?\n",
    "[Refer this](15a_why_oop.ipynb)"
   ]
  },
  {
   "cell_type": "markdown",
   "metadata": {},
   "source": [
    "# How To Create A Class?\n",
    "A class in Python is created using the `class` keyword.\n",
    "\n",
    "```Python\n",
    "# syntax\n",
    "class ClassName:\n",
    "\tpass\n",
    "```"
   ]
  },
  {
   "cell_type": "code",
   "execution_count": 1,
   "metadata": {},
   "outputs": [],
   "source": [
    "# example\n",
    "class Student:\n",
    "    pass"
   ]
  },
  {
   "cell_type": "markdown",
   "metadata": {},
   "source": [
    "# How To Instantiate A Class (Creating An Object Of A Class)?\n",
    "Instantiating a class involves creating an object of that class. If a class is expected to be instantiated with a couple of attributes, then those attributes have to be passes as arguments while the object is created."
   ]
  },
  {
   "cell_type": "code",
   "execution_count": 2,
   "metadata": {},
   "outputs": [],
   "source": [
    "# example demonstrating simple instantiation\n",
    "class Student:\n",
    "\tpass\n",
    "\n",
    "s1 = Student() # class instantiation, s1 is an object of Student class"
   ]
  },
  {
   "cell_type": "code",
   "execution_count": 3,
   "metadata": {},
   "outputs": [],
   "source": [
    "# example showing instantiating a class with attributes\n",
    "class Person:\n",
    "    def __init__(self, name, age):\n",
    "        self.name = name\n",
    "        self.age = age\n",
    "\n",
    "\n",
    "person1 = Person(\"Alison\", 25)\n",
    "person2 = Person(\"Mark\", 22)"
   ]
  },
  {
   "cell_type": "markdown",
   "metadata": {},
   "source": [
    "# What Does Instantiating A Class Mean?\n",
    "Instantiating a class means creating an object (or instance) of that class. In object-oriented programming, classes serve as blueprints or templates for creating objects. When a class is instantiated, a specific instance of that class is created and this instance will have the attributes and behaviors defined by the class.\n",
    "\n",
    "The process of instantiating a class typically involves the following steps,\n",
    "1. Class definition: First, a class is defined. The class serves as a blueprint, specifying the structure and behavior of objects to be created from it. This includes defining attributes (data) and methods (functions).\n",
    "2. Object creation: To create an instance of the class, the class name followed by parenthesis is used. This is called object creation or instantiation. Instantiation allocates memory for the object and sets up its initial state based on the class's constructor (usually the `__init__` method in Python). Meaning, if the class is expected to be instantiated with a certain attributes, then those attributes have to be passed while the object is being created.\n",
    "3. Accessing attributes and methods: Once the object is created, its attributes can be accessed and its methods can be called as defined in the class. Each object will have its own set of data but shares the same methods and behaviors defined by the class."
   ]
  },
  {
   "cell_type": "code",
   "execution_count": 4,
   "metadata": {},
   "outputs": [
    {
     "name": "stdout",
     "output_type": "stream",
     "text": [
      "Alice\n",
      "30\n"
     ]
    }
   ],
   "source": [
    "# define a class called 'Person'\n",
    "class Person:\n",
    "    def __init__(self, name, age):\n",
    "        self.name = name\n",
    "        self.age = age\n",
    "\n",
    "# instantiate (create) an object of the 'Person' class\n",
    "person1 = Person(\"Alice\", 30)\n",
    "\n",
    "# Access attributes and methods of the 'person1' object\n",
    "print(person1.name)  # Access the 'name' attribute\n",
    "print(person1.age)   # Access the 'age' attribute"
   ]
  },
  {
   "cell_type": "markdown",
   "metadata": {},
   "source": [
    "Instantiating a class is a fundamental concept in OOP, as it allows the creation of specific instances of object that share common characteristics and behaviors defined by the class."
   ]
  },
  {
   "cell_type": "markdown",
   "metadata": {},
   "source": [
    "# What Does \"An Object Is An Instance Of A Class\" Mean?\n",
    "In OOP, the concept of an object and a class are fundamental. The following describes the statement \"an object is an instance of a class\",\n",
    "1. Class: A class is a blueprint or template for creating objects. It defines the structure and behavior that objects of the class will have. It specifies what attributes (data) and methods (function) an object of that class can have. There can be multiple such objects.\n",
    "2. Object: An object is a specific instance created from a class. It represents a real-world entity and contains data and methods as defined by the class. Objects are the actual data structures that are used to work within the code.\n",
    "\n",
    "So, the statement \"an objet is an instance of a class\", means that an object is created based on the blueprint given by a class.\n",
    "\n",
    "In simple words,\n",
    "- A class defines the structure and behavior an object can exhibit.\n",
    "- An object is an actual instance with that structure and behavior.\n",
    "\n",
    "Consider the following example,"
   ]
  },
  {
   "cell_type": "code",
   "execution_count": 5,
   "metadata": {},
   "outputs": [],
   "source": [
    "# define a class called 'Person'\n",
    "class Person:\n",
    "    def __init__(self, name, age):\n",
    "        self.name = name\n",
    "        self.age = age\n",
    "\n",
    "# Create two objects (instances) of the 'Person' class\n",
    "person1 = Person(\"Alice\", 30)\n",
    "person2 = Person(\"Bob\", 25)\n",
    "\n",
    "# 'person1' and 'person2' are objects (instances) of the 'Person' class"
   ]
  },
  {
   "cell_type": "markdown",
   "metadata": {},
   "source": [
    "In the above example, `Person` is a class, `person1` and `person2` are objects created from that class. Each object (in this case, a person) has its own `name` and `age` attributes, but they share the same structure and behavior defined in the `Person` class. This demonstrates the concept of \"an object is an instance of a class\"."
   ]
  },
  {
   "cell_type": "markdown",
   "metadata": {},
   "source": [
    "# `self`\n",
    "In OOP, `self` is a reference to the current instance of a class. It is used within the methods of a class to access and modify the attributes and methods of that instance.\n",
    "\n",
    "`self` is passed explicitly as the first parameter to the methods of a class. When calling a method on an object, the object itself is implicitly passed as the first argument and `self` is used to reference that object within the method definition."
   ]
  },
  {
   "cell_type": "code",
   "execution_count": 6,
   "metadata": {},
   "outputs": [
    {
     "name": "stdout",
     "output_type": "stream",
     "text": [
      "5\n"
     ]
    }
   ],
   "source": [
    "# example\n",
    "class MyClass:\n",
    "    def __init__(self, x):\n",
    "        self.x = x  # Assigning the value of x to the attribute of the instance\n",
    "        \n",
    "    def print_x(self):\n",
    "        print(self.x)  # Accessing the attribute of the instance using self\n",
    "\n",
    "# Creating an instance of MyClass\n",
    "obj = MyClass(5)\n",
    "\n",
    "# Calling the print_x method on the instance\n",
    "obj.print_x()  # This will print 5"
   ]
  },
  {
   "cell_type": "markdown",
   "metadata": {},
   "source": [
    "In this example, `self.x` refers to the `x` attribute of the current instance of `MyClass`. When the `print_x()` method is called on an instance of `MyClass`, `self` refers to that instance, allowing access to its attributes and methods."
   ]
  },
  {
   "cell_type": "code",
   "execution_count": 7,
   "metadata": {},
   "outputs": [
    {
     "name": "stdout",
     "output_type": "stream",
     "text": [
      "4405275408\n",
      "4405275408\n"
     ]
    }
   ],
   "source": [
    "class Student:\n",
    "\tdef __init__(self):\n",
    "\t\tprint(id(self))\n",
    "\n",
    "s1 = Student()\n",
    "print(id(s1))"
   ]
  },
  {
   "cell_type": "markdown",
   "metadata": {},
   "source": [
    "Therefore, `self` in OOP is nothing but a reference to the current object. `self` is a customary first argument in every function that is created inside a class. It gives the id of the object that is currently trying to interact with the class.\n",
    "\n",
    "The current object gets automatically passed as an argument when the class is called. `Student.__init__(s1)` is what actually was called internally.\n",
    "\n",
    "`self` is just a name of the argument and a name can anything. Call to itself as `self` is only a practive, not a compulsion.\n",
    "\n",
    "The first argument is always `self`."
   ]
  },
  {
   "cell_type": "markdown",
   "metadata": {},
   "source": [
    "# Is `self` A Default Attribute?\n",
    "In Python, `self` is not a default attribute, but rather a conventional name for the first parameter of instance methods in a class. The use of `self` as the first parameter in a method is a naming convention that helps to reference the instance on which the method is being called.\n",
    "\n",
    "When a method is defined within a class and `self` is included as the first parameter, it instructs Python's interpreter that this method should operate on the instance of the class and the object's attributes and methods can be accessed using `self`."
   ]
  },
  {
   "cell_type": "markdown",
   "metadata": {},
   "source": [
    "# Why Is `self` Not Declared As A Variable In `__init__()`?\n",
    "In Python, `self` is not explicitly declared as a variable in the `__init__()` method. It is automatically passed as the first parameter to instance methods within a class. The use of `self` in Python's classes is part of the language's object-oriented programming conventions.\n",
    "\n",
    "Here's why `self` is not explicitly declared,\n",
    "1. Convention: In Python, it's a convention (a practice and not a requirement) to name the first parameter of instance methods as `self`. However, it can also be named anything else.\n",
    "2. Automatic binding: When an instance method is called on an object, Python automatically binds the instance (the object itself) to the `self` parameter. This allows to access the object's attributes and methods within the class, making it clear which instance is being worked with."
   ]
  },
  {
   "cell_type": "markdown",
   "metadata": {},
   "source": [
    "# How To Create A Custom (Instance) Variable?"
   ]
  },
  {
   "cell_type": "code",
   "execution_count": 8,
   "metadata": {},
   "outputs": [
    {
     "name": "stdout",
     "output_type": "stream",
     "text": [
      "<class '__main__.Student'>\n",
      "<class '__main__.Student'>\n"
     ]
    }
   ],
   "source": [
    "class Student:\n",
    "\tpass\n",
    "\n",
    "s1 = Student()\n",
    "s2 = Student()\n",
    "\n",
    "print(type(s1))\n",
    "print(type(s2))\n",
    "\n",
    "s1.name = \"Kimi\" # Custom property"
   ]
  },
  {
   "cell_type": "markdown",
   "metadata": {},
   "source": [
    "# Class Method\n",
    "A class variable, also known as class attribute, is a variable that belongs to a class rather than a specific instance (object) of the class. Unlike instance variables, which are unique to each object, class variables are shared among all instances of a class. These variables store data that is common to the entire class and its instances. Class variables are defined at the class level and not within the methods of the class.\n",
    "\n",
    "### Key aspects\n",
    "1. Operate on the class: Class methods are defined at the class level and operate on class-level data and attributes. They do not access or modify instance-specific attributes. These methods are more concerned with class-wide behaviors and operations.\n",
    "2. `@classmethod` decorator: To define a class method, the `@classmethod` decorator is used before the method definition. This decorator indicates that the method is a class method and it should take a reference to the class itself as its first parameter, commonly names `cls` (short for class).\n",
    "3. Access to class attributes: Inside a class method, the class attributes (variables) can be accessed and operations can be performed on them. Class attributes are shared among all instances of the class and are accessible using `cls.class_attribute_name`.\n",
    "4. Common tasks: Class methods are often used for tasks that involve the class as a whole. This can include creating instances with specific characteristics or performing class-wide operations, such as maintaining counters or configuring class-level settings.\n",
    "5. Invocation: Class methods are invoked on the class itself, rather than on instances. To call a class method, the class name followed by the method name should be used, like `MyClass.class_method()`.\n",
    "6. Customization: Class methods can accept additional arguments beyond `cls`, which allows to pass data or customize their behavior. These additional arguments can be used for various purposes.\n",
    "\n",
    "### Example\n",
    "```Python\n",
    "class Dog:\n",
    "    # Class-level attribute\n",
    "    total_dogs = 0\n",
    "\n",
    "    def __init__(self, name):\n",
    "        self.name = name\n",
    "        Dog.total_dogs += 1\n",
    "\n",
    "    @classmethod\n",
    "    def create_puppy(cls, name):\n",
    "        # Create a puppy with a specific name\n",
    "        return cls(name)\n",
    "\n",
    "    @classmethod\n",
    "    def get_total_dogs(cls):\n",
    "        # Get the total number of dogs created\n",
    "        return cls.total_dogs\n",
    "\n",
    "# Creating instances and calling a class method\n",
    "dog1 = Dog(\"Buddy\")\n",
    "dog2 = Dog.create_puppy(\"Rex\")\n",
    "\n",
    "# Calling another class method to get the total number of dogs\n",
    "total_dogs = Dog.get_total_dogs()\n",
    "\n",
    "print(f\"Total dogs: {total_dogs}\")  # Output: \"Total dogs: 2\"\n",
    "```\n",
    "\n",
    "In this example, the `Dog` class has a class method `create_puppy()` for creating instances with a specific behavior. The class method `get_total_dogs()` is used to retrieve the total number of dogs created, a class-level attribute. Class methods are invoked on the class itself and are useful for tasks that pertain to the class as a whole."
   ]
  },
  {
   "cell_type": "markdown",
   "metadata": {},
   "source": [
    "# Class Variable\n",
    "A class variable, also known as a class attribute, is a variable that belongs to a class rather than a specific instance (object) of the class. Unlike instance variables, which are unique to each object, class variables are shared among all instances of a class. These variables store data that is common to entire class and its instances. Class variables are defined at the class level and not within the methods of the class.\n",
    "\n",
    "### Key aspects\n",
    "1. Shared among instances: Class variables are shared by all instances of a class. This means that changes made to a class variable are reflected in all instances that belong to that class.\n",
    "2. Defined at class level: Class variables are defined within the class itself, typically outside of any method. They are not associated with specific instances and are accessible using the class name itself.\n",
    "3. Accessed via class or instances: Class variables can be accessed using either the class name or instances of the class. However, it is more common to access them through the class name to emphasize that they are shared among all instances.\n",
    "4. Common data: Class variables are used to store common data that that is relevant to the entire class. For example, in a class representing a `Circle`, a class variable may store the mathematical constant $\\pi$ because it is the same for all circles.\n",
    "5. Initialization: Class variables are typically initialized at the class level and their initial values are consistent across all instances. They do not require a constructor or `__init__` method to be set up.\n",
    "6. Scope: The scope of a class variable is the entire class and its instances. It can be accessed by any instance of the class and is shared across all objects of that class.\n",
    "\n",
    "### Example\n",
    "```Python\n",
    "class Circle:\n",
    "    # Class variable for the mathematical constant π (pi)\n",
    "    pi = 3.14159265359\n",
    "\n",
    "    def __init__(self, radius):\n",
    "        self.radius = radius  # Instance variable for the circle's radius\n",
    "\n",
    "    def area(self):\n",
    "        return Circle.pi * (self.radius ** 2)\n",
    "\n",
    "# Creating two circle objects with different radii\n",
    "circle1 = Circle(5)\n",
    "circle2 = Circle(3)\n",
    "\n",
    "# Accessing the class variable using the class name\n",
    "print(Circle.pi)  # Output: 3.14159265359\n",
    "\n",
    "# Accessing the class variable using an instance (not recommended)\n",
    "print(circle1.pi)  # Output: 3.14159265359\n",
    "\n",
    "# Calling a method that uses the class variable\n",
    "print(circle1.area())  # Output: 78.539816339745\n",
    "```\n",
    "\n",
    "In this example, the $\\pi$ class variable is shared among all instances of the `Circle` class and is used to calculate the area of area of circles created from the class. The class variable $\\pi$ is accessed using the class name `Circle` or through an instance like `circle1`."
   ]
  },
  {
   "cell_type": "markdown",
   "metadata": {},
   "source": [
    "# Instance Method\n",
    "An instance method is a method associated with an instance of a class. These methods are typically defined within a class and operate on the instance's data, allowing to perform operations and manipulate the attribute specific to each instance. Instance methods are the most common type of methods is Python classes.\n",
    "\n",
    "### Key aspects\n",
    "1. Operate on instances: Instance methods are designed to operate on the attributes and data associated with a particular instance of a class. They can access and modify instance-specific data, making them the primary way to interact with an object's state.\n",
    "2. `self`: An instance method always takes the `self` parameter as its first argument, which refers to the instance on which the method is called. It is a reference to the instance and allows to access and modify its attributes.\n",
    "3. Access to instance attributes: Inside an instance method, instance attributes can be access using the `self` reference. For example, `self.attribute_name` is used to access and modify attributes specific to the instance.\n",
    "4. Common tasks: Instance methods are used to define the behaviors of objects and they often encapsulate operations related to the object's state and behavior. They can perform calculations, update instance attributes or interact with other objects.\n",
    "5. Invocation: Instance methods are invoked on instances of a class using the dot notation. For example, if there is an instance, `my_instance` of a class `MyClass`, instance method can be called using `my_instance.method_name()`. The `self` parameter is implicitly passed, so it should not be included when calling the method.\n",
    "6. Customization: Instance methods can accept additional arguments beyond `self`, allowing to pass data to the method for processing. These additional arguments can be used to customize the behavior of the method.\n",
    "\n",
    "### Example\n",
    "```Python\n",
    "class Rectangle:\n",
    "    def __init__(self, width, height):\n",
    "        self.width = width\n",
    "        self.height = height\n",
    "\n",
    "    def area(self):\n",
    "        return self.width * self.height\n",
    "\n",
    "    def perimeter(self):\n",
    "        return 2 * (self.width + self.height)\n",
    "\n",
    "# Creating an instance of the class with specific dimensions\n",
    "rectangle = Rectangle(5, 3)\n",
    "\n",
    "# Calling instance methods to calculate area and perimeter\n",
    "area = rectangle.area()\n",
    "perimeter = rectangle.perimeter()\n",
    "\n",
    "print(f\"Area: {area}\")         # Output: \"Area: 15\"\n",
    "print(f\"Perimeter: {perimeter}\") # Output: \"Perimeter: 16\"\n",
    "```\n",
    "\n",
    "In the above example, the `Rectangle` class has 2 instance methods, `area()` and `perimeter()`, which operate on the instance-specific attributes width and height. These methods calculate the area and perimeter of a rectangle created from the class. When the methods are called on an instance, they use the instance's attributes to perform the calculations. Instance methods are an essential part of encapsulating an object's behavior within a class."
   ]
  },
  {
   "cell_type": "markdown",
   "metadata": {},
   "source": [
    "# Instance Variable\n",
    "An instance variable, also known as an instance attribute, is a variable that belongs to a specific instance (object) of a class in OOP. These variables store data that is unique to each instance and are distinct from class variables, which are shared among all instances of a class. Instance variables are used to store and manage object-specific data and are defined within the methods of a class.\n",
    "\n",
    "### Key aspects\n",
    "1. Uniqueness: "
   ]
  }
 ],
 "metadata": {
  "kernelspec": {
   "display_name": "Python 3",
   "language": "python",
   "name": "python3"
  },
  "language_info": {
   "codemirror_mode": {
    "name": "ipython",
    "version": 3
   },
   "file_extension": ".py",
   "mimetype": "text/x-python",
   "name": "python",
   "nbconvert_exporter": "python",
   "pygments_lexer": "ipython3",
   "version": "3.11.9"
  }
 },
 "nbformat": 4,
 "nbformat_minor": 2
}
