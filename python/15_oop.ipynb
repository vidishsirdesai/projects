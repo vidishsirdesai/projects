{
 "cells": [
  {
   "cell_type": "markdown",
   "metadata": {},
   "source": [
    "# OOP\n",
    "Object oriented programming (OOP) is a programming paradigm (an example, or rather one of many approaches to programming).\n",
    "\n",
    "There are 2 popular approaches towards programming,\n",
    "1. Functional.\n",
    "2. Object oriented.\n",
    "\n",
    "OOP in principle is fairly simple. Everything is an object in Python, this is because, Python inherently follows OOP (meaning, it is built around OOP).\n",
    "\n",
    "There are 2 things associated with OOP,\n",
    "1. Class: A class is a blueprint of an object. Class defines the blueprint that an object can or will have.\n",
    "2. Object: An object is an instance of a class.\n",
    "\n",
    "Every object that is created from a particular class is an instance of that class.\n",
    "\n",
    "For example, Car is blueprint and Mini Cooper is an object of that class. Meaning, Mini Cooper is an instance of the Car class.\n",
    "\n",
    "Another example can be, 5 is an object of the class `int`, 5 is also an instance of the class `int`.\n",
    "\n",
    "Take strings for example, a lot of \"actions\" can be performed on strings (concatenate, split, lowercase, uppercase, etc). For a class and object, collectively, there are actions (functions or more accurately methods) and properties (variables). When a blueprint is created, all the common properties related to every object will be defined in that class.\n",
    "\n",
    "For a class `Human`, height, weight, gender, etc are all properties (variable). Breathing, walking, eating, etc are all actions (methods)."
   ]
  },
  {
   "cell_type": "markdown",
   "metadata": {},
   "source": [
    "# Why OOP?\n",
    "[Refer this](15a_why_oop.ipynb)"
   ]
  },
  {
   "cell_type": "markdown",
   "metadata": {},
   "source": [
    "# How To Create A Class?\n",
    "A class in Python is created using the `class` keyword.\n",
    "\n",
    "```Python\n",
    "# syntax\n",
    "class ClassName:\n",
    "\tpass\n",
    "```"
   ]
  },
  {
   "cell_type": "code",
   "execution_count": 1,
   "metadata": {},
   "outputs": [],
   "source": [
    "# example\n",
    "class Student:\n",
    "    pass"
   ]
  },
  {
   "cell_type": "markdown",
   "metadata": {},
   "source": [
    "# How To Instantiate A Class (Creating An Object Of A Class)?\n",
    "Instantiating a class involves creating an object of that class. If a class is expected to be instantiated with a couple of attributes, then those attributes have to be passes as arguments while the object is created."
   ]
  },
  {
   "cell_type": "code",
   "execution_count": 2,
   "metadata": {},
   "outputs": [],
   "source": [
    "# example demonstrating simple instantiation\n",
    "class Student:\n",
    "\tpass\n",
    "\n",
    "s1 = Student() # class instantiation, s1 is an object of Student class"
   ]
  },
  {
   "cell_type": "code",
   "execution_count": 3,
   "metadata": {},
   "outputs": [],
   "source": [
    "# example showing instantiating a class with attributes\n",
    "class Person:\n",
    "    def __init__(self, name, age):\n",
    "        self.name = name\n",
    "        self.age = age\n",
    "\n",
    "\n",
    "person1 = Person(\"Alison\", 25)\n",
    "person2 = Person(\"Mark\", 22)"
   ]
  },
  {
   "cell_type": "markdown",
   "metadata": {},
   "source": [
    "# What Does Instantiating A Class Mean?\n"
   ]
  }
 ],
 "metadata": {
  "kernelspec": {
   "display_name": "Python 3",
   "language": "python",
   "name": "python3"
  },
  "language_info": {
   "codemirror_mode": {
    "name": "ipython",
    "version": 3
   },
   "file_extension": ".py",
   "mimetype": "text/x-python",
   "name": "python",
   "nbconvert_exporter": "python",
   "pygments_lexer": "ipython3",
   "version": "3.11.9"
  }
 },
 "nbformat": 4,
 "nbformat_minor": 2
}
