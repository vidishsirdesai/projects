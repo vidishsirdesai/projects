{
 "cells": [
  {
   "cell_type": "markdown",
   "metadata": {},
   "source": [
    "# OOP\n",
    "Object oriented programming (OOP) is a programming paradigm (an example, or rather one of many approaches to programming).\n",
    "\n",
    "There are 2 popular approaches towards programming,\n",
    "1. Functional.\n",
    "2. Object oriented.\n",
    "\n",
    "OOP in principle is fairly simple. Everything is an object in Python, this is because, Python inherently follows OOP (meaning, it is built around OOP).\n",
    "\n",
    "There are 2 things associated with OOP,\n",
    "1. Class: A class is a blueprint of an object. Class defines the blueprint that an object can or will have.\n",
    "2. Object: An object is an instance of a class.\n",
    "\n",
    "Every object that is created from a particular class is an instance of that class.\n",
    "\n",
    "For example, Car is blueprint and Mini Cooper is an object of that class. Meaning, Mini Cooper is an instance of the Car class.\n",
    "\n",
    "Another example can be, 5 is an object of the class `int`, 5 is also an instance of the class `int`.\n",
    "\n",
    "Take strings for example, a lot of \"actions\" can be performed on strings (concatenate, split, lowercase, uppercase, etc). For a class and object, collectively, there are actions (functions or more accurately methods) and properties (variables). When a blueprint is created, all the common properties related to every object will be defined in that class.\n",
    "\n",
    "For a class `Human`, height, weight, gender, etc are all properties (variable). Breathing, walking, eating, etc are all actions (methods)."
   ]
  },
  {
   "cell_type": "markdown",
   "metadata": {},
   "source": []
  },
  {
   "cell_type": "markdown",
   "metadata": {},
   "source": []
  }
 ],
 "metadata": {
  "kernelspec": {
   "display_name": "Python 3",
   "language": "python",
   "name": "python3"
  },
  "language_info": {
   "codemirror_mode": {
    "name": "ipython",
    "version": 3
   },
   "file_extension": ".py",
   "mimetype": "text/x-python",
   "name": "python",
   "nbconvert_exporter": "python",
   "pygments_lexer": "ipython3",
   "version": "3.11.9"
  }
 },
 "nbformat": 4,
 "nbformat_minor": 2
}
