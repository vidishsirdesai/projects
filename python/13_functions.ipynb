{
 "cells": [
  {
   "cell_type": "markdown",
   "metadata": {},
   "source": [
    "# What Are Functions?\n",
    "Functions are a set of instructions which are modular in nature and can be reused. The meaning of modular is that the code can be placed anywhere and it will exist as a single unit (functions as a unit are independent).\n",
    "\n",
    "A block of code which could be used repeateadly can be defined inside a function which is defined by a unique identifier. In order to use the block of code in a function, a call is made to the function in the program. \n",
    "\n",
    "After the block of code in a function has completed executing, it returns a value and the control is then returned to the next statement in the program."
   ]
  },
  {
   "cell_type": "markdown",
   "metadata": {},
   "source": [
    "# What Is Functional Programming?\n",
    "Functional programming is a programming paradigm like OOP. Functions, like everything else in Python are also objects."
   ]
  },
  {
   "cell_type": "markdown",
   "metadata": {},
   "source": [
    "# Function Definition\n",
    "In order to use a function, it must be defined. Defining a function involves assigning a unique identifier to it. The `def` keyword is used to define a function.\n",
    "\n",
    "```Python\n",
    "# syntax\n",
    "def function_name():\n",
    "    pass\n",
    "```"
   ]
  },
  {
   "cell_type": "markdown",
   "metadata": {},
   "source": []
  }
 ],
 "metadata": {
  "language_info": {
   "name": "python"
  }
 },
 "nbformat": 4,
 "nbformat_minor": 2
}
