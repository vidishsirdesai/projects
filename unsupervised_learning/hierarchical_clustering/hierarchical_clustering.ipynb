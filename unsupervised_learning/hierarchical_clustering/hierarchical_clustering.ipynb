{
 "cells": [
  {
   "cell_type": "markdown",
   "metadata": {},
   "source": [
    "# Problem Statement: Building Stock Portfolios\n",
    "\n",
    "Create pools of stocks that move together on one or more fundamental financial metric. In simple words, the goal is to group stocks that exhibit similar patterns or trends in one or more fundamental financial metrics.\n",
    "\n",
    "### Steps to create stock pools\n",
    "1. Gather data: Collect historical data for the financial metrics that are choosen.\n",
    "2. Preprocess data: Clean and normalize the data as needed.\n",
    "3. Select similarity metric: Choose a suitable metric based on the requirements.\n",
    "4. Apply clustering algorithm: Use the chosen algorithm to group the stocks based on their similarity in the selected metrics.\n",
    "5. Analyze and interpret the results: Examine the resulting clusters to identify stocks with similar characteristics."
   ]
  },
  {
   "cell_type": "markdown",
   "metadata": {},
   "source": []
  }
 ],
 "metadata": {
  "language_info": {
   "name": "python"
  }
 },
 "nbformat": 4,
 "nbformat_minor": 2
}
