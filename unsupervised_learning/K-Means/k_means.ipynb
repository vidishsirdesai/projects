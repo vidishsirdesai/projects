{
 "cells": [
  {
   "cell_type": "markdown",
   "metadata": {},
   "source": [
    "# Introduction\n",
    "K-Means is an unsupervised ML algorithm used to group data points into a predefined number of clusters. The \"K\" in K-Means is the number of clusters that is a predefined, and the algorithm clusters the data points into the defined K number of clusters. Meaning, the data points are classified into K clusters.\n",
    "\n",
    "A training dataset of d-dimensions along with the K value is fed as input to the algorithm. For each of the row in the training data, the algorithm computes which cluster the data points belong to."
   ]
  },
  {
   "cell_type": "markdown",
   "metadata": {},
   "source": [
    "# K-Means Clustering\n",
    "Consider a 2D dataset with K = 3, the 3 clusters are namely $S_1$, $S_2$ and $S_3$ with 3 centroids $C_1$, $C_2$ and $C_3$. In an ideal case,\n",
    "- $S_1 \\cup S_2 \\cup S_3 = \\text{Universal Set} = U$, and\n",
    "- $S_1 \\cap S_2 \\cap S_3 = \\text{Null Set} = \\phi$\n",
    "\n",
    "The above indicates that all of the data points belong to one or the other set and no data point exists in more than one set or cluster.\n",
    "\n",
    "Now consider a set of points $S_i$ of size |$S_i$| (cardinality of the set). The centroid of this set can be found by summing all the points in the set (x_j) and averaging them by the size of the set (|$S_i$|). Mathematically,\n",
    "\n",
    "$C_i$ = $\\frac{1}{|S_i|} \\sum{x_j} \\backepsilon x_j \\in S_i$\n",
    "\n",
    "The goal is to find the centroids, $C_1$, $C_2$ and $C_3$, ..., $C_k$."
   ]
  },
  {
   "cell_type": "markdown",
   "metadata": {},
   "source": []
  }
 ],
 "metadata": {
  "kernelspec": {
   "display_name": "Python 3",
   "language": "python",
   "name": "python3"
  },
  "language_info": {
   "name": "python",
   "version": "3.11.2"
  }
 },
 "nbformat": 4,
 "nbformat_minor": 2
}
