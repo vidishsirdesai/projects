{
 "cells": [
  {
   "cell_type": "markdown",
   "metadata": {},
   "source": [
    "# Introduction\n",
    "Elliptical envelope, while effective has limitations. It limited to uni-modal and continuous data. Meaning, it struggles with data that isn't neatly distributed around a single peak (uni0modal) or with categorical data.\n",
    "\n",
    "Isolation forest is a powerful alternative for outlier detection, addressing some of these shortcomings. It can work with multi-modal data, and accomodates for both, numerical and categorical features within the data.\n",
    "\n",
    "### Intuition behind isolation forest\n",
    "Isolation forest leverages the idea that outliers are inherently easier to isolate from the rest of the data. Their behavior deviates significantly from the \"normal\" patterns."
   ]
  }
 ],
 "metadata": {
  "kernelspec": {
   "display_name": "Python 3",
   "language": "python",
   "name": "python3"
  },
  "language_info": {
   "codemirror_mode": {
    "name": "ipython",
    "version": 3
   },
   "file_extension": ".py",
   "mimetype": "text/x-python",
   "name": "python",
   "nbconvert_exporter": "python",
   "pygments_lexer": "ipython3",
   "version": "3.11.2"
  }
 },
 "nbformat": 4,
 "nbformat_minor": 2
}
