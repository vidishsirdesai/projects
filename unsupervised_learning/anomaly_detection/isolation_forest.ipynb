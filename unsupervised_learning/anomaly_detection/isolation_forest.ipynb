{
 "cells": [
  {
   "cell_type": "markdown",
   "metadata": {},
   "source": [
    "# Introduction\n",
    "Elliptical envelope, while effective has limitations. It limited to uni-modal and continuous data. Meaning, it struggles with data that isn't neatly distributed around a single peak (uni0modal) or with categorical data.\n",
    "\n",
    "Isolation forest is a powerful alternative for outlier detection, addressing some of these shortcomings. It can work with multi-modal data, and accomodates for both, numerical and categorical features within the data.\n",
    "\n",
    "### Intuition behind isolation forest\n",
    "Isolation forest leverages the idea that outliers are inherently easier to isolate from the rest of the data. Their behavior deviates significantly from the \"normal\" patterns.\n",
    "\n",
    "Traditional decision trees use features and target variables to make predictions,\n",
    "- They split the data based on features (e.g. $x_2$) and thresholds to create a tree structure.\n",
    "- This process continues until a certain depth or a specific impurity measure (e.g. Gini impurity) is reached.\n",
    "\n",
    "Isolation forest takes a different approach in an unsupervised setting,\n",
    "- It randomly selects features and thresholds to split the data.\n",
    "- The depth required to isolate a data point is considered.\n",
    "\n",
    "The core assumption is that, outliers are easier to isolate. They will, on average, reach shallower depths in the randomly constructed trees compared to inliers (data points following the typical pattern). Inliers require more splits to isolate due to their adherence to the underlying structure.\n",
    "\n",
    "### How is isolation forest robust?\n",
    "- Multiple isolation trees: Isolation forest does not rely on a single tree. It creates an entire forest of these randomly constructed trees.\n",
    "- Ensemble technique: Combining the results from all the trees in the forest enhances the robustness of outlier detection."
   ]
  },
  {
   "cell_type": "markdown",
   "metadata": {},
   "source": []
  }
 ],
 "metadata": {
  "kernelspec": {
   "display_name": "Python 3",
   "language": "python",
   "name": "python3"
  },
  "language_info": {
   "codemirror_mode": {
    "name": "ipython",
    "version": 3
   },
   "file_extension": ".py",
   "mimetype": "text/x-python",
   "name": "python",
   "nbconvert_exporter": "python",
   "pygments_lexer": "ipython3",
   "version": "3.11.2"
  }
 },
 "nbformat": 4,
 "nbformat_minor": 2
}
