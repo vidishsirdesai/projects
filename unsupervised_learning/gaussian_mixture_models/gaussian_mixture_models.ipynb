{
 "cells": [
  {
   "cell_type": "markdown",
   "metadata": {},
   "source": [
    "# Introduction\n",
    "The Gaussian distribution, also known as the normal distribution is a fundamental concept in statistics and machine learning.\n",
    "\n",
    "### The bell curve\n",
    "Imagine a line representing all possible values of some variable, like, height, weight, or examination scores. Each point corresponds to the probability of that specific value occurring. The peak of the bell curve represents the mean, which is the most likely value. The probability of encountering the values which are further away from mean decreases, following a symmetrical pattern.\n",
    "\n",
    "### Data with 2 peaks (bimodal datasets)\n",
    "2 peaks suggests that there are 2 distinct sub-populations within the dataset. For example, if a dataset containing the age information of a population, then one of the peaks represents the younger population, and the other peak represents the older population.\n",
    "\n",
    "### Probability density function (PDF)\n",
    "PDF, denoted by $f(x)$, mathematically describes the shape of the gaussian curve. It specifically describes the relative likelihood of encountering a specific value $x$ based on the mean $\\mu$ and the standard deviation $\\sigma$ of the distribution. The formula for PDF is mathematically represented as,\n",
    "\n",
    "$f(x) = \\frac{1}{\\sigma \\sqrt{2\\pi}} * e^{\\frac{-(x - \\mu)^2}{2\\sigma^2}}$\n",
    "\n",
    "Where,\n",
    "- $x$ = Value of which the probability is to be found.\n",
    "- $\\mu$ = Mean of the distribution, representing the most likely value.\n",
    "- $\\sigma$ = Standard deviation, which controls the spread of the curve. A smaller $\\sigma$ leads to a narrower curve with higher probabilities concentrated around the mean. A larger $\\sigma$ results in a wider curve with lower probabilities further from the mean.\n",
    "\n",
    "NOTE: Continuous PDFs like gaussian do not assign probabilities to specific points. Instead they provide probabilities for small intervals or areas under the curve.\n",
    "\n",
    "### Multi-modal curves\n",
    "Data can exhibit even more complex structures. A multi-modal curve has multiple peaks, each representing a distinct cluster or sub-population within the dataset. Imagine a distribution of customer income with one peak for low-income earners, another for middle-income earners, and a third for high-income earners.\n",
    "\n",
    "### Inferring probabilities for complex datasets\n",
    "In multi-modal distributions, the regions between the curves represent points with non-zero probabilities of belonging to multiple clusters. For such points, the probability of belonging to each sub-population can be calculated. Consider that a data point has a probability of 0.2 of belonging to sub-population 1 and a probability of 0.6 of belonging to sub-population 2. By normalizing these values (dividing by the sum), the final probabilities can be determined: 25% chance of belonging to sub-population 1 and 75% chance of belonging to sub-population 2."
   ]
  },
  {
   "cell_type": "markdown",
   "metadata": {},
   "source": []
  }
 ],
 "metadata": {
  "language_info": {
   "name": "python"
  }
 },
 "nbformat": 4,
 "nbformat_minor": 2
}
