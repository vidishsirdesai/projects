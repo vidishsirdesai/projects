{
 "cells": [
  {
   "cell_type": "markdown",
   "metadata": {},
   "source": [
    "# DCL\n",
    "DCL (Data Control Language) is generally used by a database admin to control which user has what type of control over the database."
   ]
  },
  {
   "cell_type": "markdown",
   "metadata": {},
   "source": [
    "# `grant`\n",
    "`grant` is used to grant access privileges on database to users.\n",
    "\n",
    "```sql\n",
    "-- syntax\n",
    "grant command_privileges \n",
    "on object_name\n",
    "to users;\n",
    "\n",
    "-- example\n",
    "grant select, upadte ON table_name \n",
    "to some_user, another_user;\n",
    "\n",
    "-- another example\n",
    "-- gives access to select and insert in the database to Icona\n",
    "grant select, insert\n",
    "on product_details\n",
    "to Icona;\n",
    "\n",
    "-- gives all privileges to Ancy\n",
    "grant all privileges\n",
    "on product_stock\n",
    "to Ancy;\n",
    "\n",
    "-- gives all privilege access to anybody working with the databases\n",
    "grant all\n",
    "on product_stock\n",
    "to public;\n",
    "```\n",
    "\n"
   ]
  },
  {
   "cell_type": "markdown",
   "metadata": {},
   "source": [
    "# `revoke`\n",
    "The `revoke` command is used to revoke the permissions or accesses that were granted via the `grant` command.\n",
    "\n",
    "```sql\n",
    "-- syntax\n",
    "revoke command_privileges\n",
    "on object_name\n",
    "from users;\n",
    "\n",
    "-- example\n",
    "-- retains access from Icona to select and insert\n",
    "revoke select, insert\n",
    "on product_details\n",
    "from Icona;\n",
    "\n",
    "-- retains all access from Ancy\n",
    "revoke all privileges\n",
    "on product_stock\n",
    "from Ancy;\n",
    "\n",
    "-- retains access from anybody using the database\n",
    "revoke all\n",
    "on product_stock\n",
    "from public;\n",
    "```\n",
    "\n"
   ]
  }
 ],
 "metadata": {
  "language_info": {
   "name": "python"
  }
 },
 "nbformat": 4,
 "nbformat_minor": 2
}
