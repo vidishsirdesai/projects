{
 "cells": [
  {
   "cell_type": "markdown",
   "metadata": {},
   "source": [
    "# DCL\n",
    "DCL stands for Data Control Language.\n",
    "\n",
    "This is used by the database admin."
   ]
  },
  {
   "cell_type": "markdown",
   "metadata": {},
   "source": [
    "# `grant`\n",
    "The `grant` command is used to give users access privileges to a database.\n",
    "\n",
    "It is used to give user access privileges to a database.\n",
    "\n",
    "`grant` is a DCL command used to grant security privileges to specific database users. It is mostly used to restrict user access to `insert`, `delete`, `select`, `update`, `execute`, `alter` or to provide privileges to the user's data.\n",
    "\n",
    "```sql\n",
    "-- syntax\n",
    "grant command_privileges \n",
    "on object_name\n",
    "to users;\n",
    "\n",
    "-- example\n",
    "grant select, upadte ON table_name \n",
    "to some_user, another_user;\n",
    "\n",
    "-- another example\n",
    "-- gives access to select and insert in the database to Icona\n",
    "grant select, insert\n",
    "on product_details\n",
    "to Icona;\n",
    "\n",
    "-- gives all privileges to Ancy\n",
    "grant all privileges\n",
    "on product_stock\n",
    "to Ancy;\n",
    "\n",
    "-- gives all privilege access to anybody working with the databases\n",
    "grant all\n",
    "on product_stock\n",
    "to public;\n",
    "```"
   ]
  },
  {
   "cell_type": "markdown",
   "metadata": {},
   "source": [
    "# `revoke`\n",
    "The `revoke` command is used to revoke the permissions or access that was granted via the `grant` command. It is mostly used to revert back to the time when no access was specified, i.e., withdrawing the permission that was authorized to carry out specific tasks.\n",
    "\n",
    "```sql\n",
    "-- syntax\n",
    "revoke command_privileges\n",
    "on object_name\n",
    "from users;\n",
    "\n",
    "-- example\n",
    "-- retains access from Icona to select and insert\n",
    "revoke select, insert\n",
    "on product_details\n",
    "from Icona;\n",
    "\n",
    "-- retains all access from Ancy\n",
    "revoke all privileges\n",
    "on product_stock\n",
    "from Ancy;\n",
    "\n",
    "-- retains access from anybody using the database\n",
    "revoke all\n",
    "on product_stock\n",
    "from public;\n",
    "```"
   ]
  }
 ],
 "metadata": {
  "language_info": {
   "name": "python"
  }
 },
 "nbformat": 4,
 "nbformat_minor": 2
}
