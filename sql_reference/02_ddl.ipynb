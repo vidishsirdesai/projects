{
 "cells": [
  {
   "cell_type": "markdown",
   "metadata": {},
   "source": [
    "# DDL\n",
    "DDL stands for Data Definition Language.\n",
    "\n",
    "DDL is a subset of SQL and a part of DBMS. This type of SQL is used to create tables. Anything that has to do with the table schema where the table is defined, is done using DDL.\n",
    "\n",
    "The DDL commands are used to create or modify the tables in SQL."
   ]
  },
  {
   "cell_type": "markdown",
   "metadata": {},
   "source": [
    "# `create`\n",
    "The `create` command is used to create a new table or database in SQL. The user has to give information like, table name, column name and their data type.\n",
    "\n",
    "```sql\n",
    "-- syntax to create a database\n",
    "create schema database_name;\n",
    "\n",
    "# syntax to create table\n",
    "create table table_name\n",
    "(\n",
    "\tcolumn1 datatype,\n",
    "\tcolumn2 datatype,\n",
    "\tcolumnN datatype,\n",
    ");\n",
    "\n",
    "-- example\n",
    "-- the query below creates a table for storing student information of a \n",
    "-- particular college\n",
    "create table Student_info\n",
    "(\n",
    "\tCollege_Id number(2),\n",
    "\tCollege_name varchar(30),\n",
    "\tBranch varchar(10)\n",
    ");\n",
    "\n",
    "-- code for BigQuery\n",
    "create table `vidish-sirdesai-scaler-dsml.example_dataset.example_table1` (\n",
    "  user_id INT64,\n",
    "  email STRING,\n",
    "  first_name STRING,\n",
    "  last_name STRING,\n",
    "  signup_date DATE\n",
    ");\n",
    "```"
   ]
  },
  {
   "cell_type": "markdown",
   "metadata": {},
   "source": [
    "# `alter`\n",
    "The `alter` command is used to add, delete or change columns in the existing table. The user needs to know the existing table name and can add, delete or modify tasks easily.\n",
    "\n",
    "```sql\n",
    "-- syntax\n",
    "alter table table_name\n",
    "add column_name datatype;\n",
    "\n",
    "-- example\n",
    "-- the query below adds a new column CGPA to the Student_info table\n",
    "alter table Student_info\n",
    "add CGPA number;\n",
    "```"
   ]
  },
  {
   "cell_type": "markdown",
   "metadata": {
    "vscode": {
     "languageId": "plaintext"
    }
   },
   "source": [
    "# `truncate`\n",
    "The `truncate` command is used to remove all the rows from the table, but the structure of the table is preserved.\n",
    "\n",
    "```sql\n",
    "-- syntax\n",
    "truncate table table_name;\n",
    "\n",
    "-- example\n",
    "truncate table Student_info;\n",
    "```"
   ]
  },
  {
   "cell_type": "markdown",
   "metadata": {},
   "source": [
    "# `drop`\n",
    "The `drop` command is used to remove an existing table along with its structure from the database.\n",
    "\n",
    "```sql\n",
    "-- syntax\n",
    "drop table table_name;\n",
    "\n",
    "-- example\n",
    "drop table Student_info;\n",
    "\n",
    "-- syntax in BigQuery\n",
    "drop table `example_dataset.example_table1`;\n",
    "```"
   ]
  },
  {
   "cell_type": "markdown",
   "metadata": {},
   "source": [
    "# `rename`\n",
    "The `rename` command is used to assign a new name to a table. It is possible to change the name of the table with or without data being present in it.\n",
    "\n",
    "A table object can be renamed at any point of time.\n",
    "\n",
    "```sql\n",
    "-- syntax\n",
    "rename table table_name to new_table_name;\n",
    "\n",
    "-- example\n",
    "rename table Employee to EMP;\n",
    "```"
   ]
  }
 ],
 "metadata": {
  "language_info": {
   "name": "python"
  }
 },
 "nbformat": 4,
 "nbformat_minor": 2
}
