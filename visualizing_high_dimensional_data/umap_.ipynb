{
 "cells": [
  {
   "cell_type": "markdown",
   "metadata": {},
   "source": [
    "# Introduction\n",
    "UMAP, which stands for Uniform Manifold Approximation and Projection, is a dimensionality reduction technique used for visualizing high-dimensional data. Similar to t-SNE, it aims to project high-dimensional data onto a lower-dimensional space (typically 2D or 3D) suitable for visualization, while preserving the underlying structure and relationships between data points.\n",
    "\n",
    "### Strengths\n",
    "- Preserves local and global structure: UMAP excels at capturing both local similarities (like t-SNE) and global relationships between data points in the high-dimensional space. This provides a more comprehensive view of the data's structure compared to techniques that focus solely on local neighborhoods.\n",
    "- Fast and scalable: UMAP is computationally faster than t-SNE, especially for large datasets. This makes it a more viable option for dealing with big data.\n",
    "- Effective for complex manifolds: UMAP is well-suited for data residing on non-linear manifolds, which are common in real-world datasets. It can effectively represent these complex structures in the lower-dimensional space.\n",
    "\n",
    "### How UMAP Works (Conceptual Understanding)?\n",
    "- UMAP constructs a fuzzy topological representation of the high-dimensional data. This essentially captures the connections and relationships between data points in a flexible way.\n",
    "- In the lower-dimensional space, UMAP optimizes a structure that closely resembles this fuzzy topological representation. This ensures the projected data points maintain their relative positions and relationships as observed in the original high-dimensional space.\n",
    "\n",
    "### When to Use UMAP\n",
    "- When there is high-dimensional data with complex, non-linear structures and want to visualize the underlying relationships between data points.\n",
    "- When dealing with large datasets where computational efficiency is a concern. t-SNE can be slow for big data, while UMAP offers a faster alternative.\n",
    "- As a general-purpose dimensionality reduction technique for visualization and exploratory analysis of high-dimensional data.\n",
    "\n",
    "### Comparison with t-SNE and PCA\n",
    "- t-SNE: UMAP shares some similarities with t-SNE in its focus on preserving local neighborhoods. However, UMAP additionally considers global relationships, making it more versatile for complex data structures.\n",
    "- PCA: Unlike PCA, which prioritizes capturing variance, UMAP focuses on preserving the actual relationships between data points. This makes UMAP more suitable for visualization tasks where understanding these relationships is crucial."
   ]
  },
  {
   "cell_type": "markdown",
   "metadata": {},
   "source": [
    "# Steps to Apply UMAP\n",
    "1. Preprocessing: Consider standardizing the data (centering and scaling features) to ensure all features contribute equally to the distance calculations used by UMAP. This can improve the quality of the visualization. Libraries like sklearn.preprocessing.StandardScaler can be used for this purpose.\n",
    "2. UMAP Model Definition:\n",
    "    - Import UMAP: Import the UMAP class from a library like `umap`. \n",
    "    - Define parameters (Optional): Various parameters for the UMAP model can be defined, such as,\n",
    "        - `n_neighbors`: The number of nearest neighbors to consider when constructing the fuzzy topological representation. This influences the balance between local and global structure preservation.\n",
    "        - `n_components`: The desired number of dimensions for the lower-dimensional representation (typically 2 or 3 for visualization).\n",
    "        - `metric`: The distance metric to use for calculating distances between data points (e.g., \"euclidean\", \"cosine\").\n",
    "3. Model Fitting and Transformation:\n",
    "    - Model fitting: Create a UMAP object with the desired parameters.\n",
    "    - Data transformation: Use the fit_transform method on the UMAP object to fit the model to the data and obtain the lower-dimensional representation. This gives the data points projected onto the chosen number of dimensions (e.g., 2D or 3D coordinates).\n",
    "4. Visualization:\n",
    "    - Choose Visualization Library: Select a suitable library like `matplotlib` or `seaborn` to create a scatter plot of the transformed data points in the lower-dimensional space.\n",
    "    - Labeling and Interpretation: Optionally, add labels or color-code the data points based on target variables or other relevant information for easier interpretation of the visualized clusters or structures.\n",
    "\n",
    "### Additional considerations\n",
    "- Choosing Parameters: Experimenting with different `n_neighbors` and metric values can influence the visualization outcome. Techniques like grid search can be used to find optimal hyperparameter settings.\n",
    "- UMAP vs. t-SNE: While UMAP generally offers better computational efficiency, t-SNE might sometimes produce slightly more visually distinct clusters for specific datasets. Consider trying both techniques to see which one yields better results for the particular data."
   ]
  },
  {
   "cell_type": "markdown",
   "metadata": {},
   "source": [
    "# Implementation of UMAP"
   ]
  },
  {
   "cell_type": "code",
   "execution_count": 1,
   "metadata": {},
   "outputs": [],
   "source": [
    "# importing packages\n",
    "import numpy as np\n",
    "import pandas as pd\n",
    "import matplotlib.pyplot as plt\n",
    "import seaborn as sns\n",
    "import warnings"
   ]
  },
  {
   "cell_type": "code",
   "execution_count": 2,
   "metadata": {},
   "outputs": [],
   "source": [
    "# configuring the notebook\n",
    "pd.set_option(\"display.max_columns\", None)\n",
    "sns.set_theme(style = \"whitegrid\")\n",
    "warnings.filterwarnings(\"ignore\")"
   ]
  },
  {
   "cell_type": "code",
   "execution_count": 3,
   "metadata": {},
   "outputs": [
    {
     "data": {
      "text/html": [
       "<div>\n",
       "<style scoped>\n",
       "    .dataframe tbody tr th:only-of-type {\n",
       "        vertical-align: middle;\n",
       "    }\n",
       "\n",
       "    .dataframe tbody tr th {\n",
       "        vertical-align: top;\n",
       "    }\n",
       "\n",
       "    .dataframe thead th {\n",
       "        text-align: right;\n",
       "    }\n",
       "</style>\n",
       "<table border=\"1\" class=\"dataframe\">\n",
       "  <thead>\n",
       "    <tr style=\"text-align: right;\">\n",
       "      <th></th>\n",
       "      <th>f1</th>\n",
       "      <th>f2</th>\n",
       "    </tr>\n",
       "  </thead>\n",
       "  <tbody>\n",
       "    <tr>\n",
       "      <th>0</th>\n",
       "      <td>2.038772</td>\n",
       "      <td>1.102760</td>\n",
       "    </tr>\n",
       "    <tr>\n",
       "      <th>1</th>\n",
       "      <td>0.869536</td>\n",
       "      <td>0.238030</td>\n",
       "    </tr>\n",
       "    <tr>\n",
       "      <th>2</th>\n",
       "      <td>1.795888</td>\n",
       "      <td>1.020364</td>\n",
       "    </tr>\n",
       "    <tr>\n",
       "      <th>3</th>\n",
       "      <td>0.103510</td>\n",
       "      <td>-0.513661</td>\n",
       "    </tr>\n",
       "    <tr>\n",
       "      <th>4</th>\n",
       "      <td>1.479554</td>\n",
       "      <td>0.750702</td>\n",
       "    </tr>\n",
       "  </tbody>\n",
       "</table>\n",
       "</div>"
      ],
      "text/plain": [
       "         f1        f2\n",
       "0  2.038772  1.102760\n",
       "1  0.869536  0.238030\n",
       "2  1.795888  1.020364\n",
       "3  0.103510 -0.513661\n",
       "4  1.479554  0.750702"
      ]
     },
     "execution_count": 3,
     "metadata": {},
     "output_type": "execute_result"
    }
   ],
   "source": [
    "# importing the data\n",
    "df = pd.read_csv(\"data.csv\")\n",
    "df.head()"
   ]
  },
  {
   "cell_type": "code",
   "execution_count": 4,
   "metadata": {},
   "outputs": [
    {
     "data": {
      "image/png": "[encoded data removed]",
      "text/plain": [
       "<Figure size 1500x750 with 1 Axes>"
      ]
     },
     "metadata": {},
     "output_type": "display_data"
    }
   ],
   "source": [
    "# visualizing the data\n",
    "plt.figure(figsize = (15, 7.5))\n",
    "plt.scatter(df[\"f1\"], df[\"f2\"])\n",
    "plt.show()"
   ]
  },
  {
   "cell_type": "code",
   "execution_count": 5,
   "metadata": {},
   "outputs": [
    {
     "data": {
      "text/plain": [
       "array([[ 1.54535131,  1.45245914],\n",
       "       [-0.27203872, -0.18355391],\n",
       "       [ 1.16782713,  1.29657192],\n",
       "       [-1.46270299, -1.60570434],\n",
       "       [ 0.6761373 ,  0.78638828],\n",
       "       [ 1.34947087,  1.37420876],\n",
       "       [-1.32351276, -1.24217262],\n",
       "       [ 1.12913003,  1.13352252],\n",
       "       [ 0.95000678,  0.7936775 ],\n",
       "       [-0.57106382, -0.51601814],\n",
       "       [ 0.06851605, -0.13256012],\n",
       "       [ 0.19697379,  0.17359728],\n",
       "       [ 0.40492253,  0.61580503],\n",
       "       [-0.74142803, -0.78689518],\n",
       "       [-0.14160441, -0.03396865],\n",
       "       [-1.01204978, -1.12815545],\n",
       "       [-1.59801963, -1.44282205],\n",
       "       [ 1.23234064,  1.16652774],\n",
       "       [-1.21750246, -1.10850974],\n",
       "       [-0.38075383, -0.61239797]])"
      ]
     },
     "execution_count": 5,
     "metadata": {},
     "output_type": "execute_result"
    }
   ],
   "source": [
    "# data standardization\n",
    "from sklearn.preprocessing import StandardScaler\n",
    "\n",
    "scaler = StandardScaler()\n",
    "df = scaler.fit_transform(df)\n",
    "df"
   ]
  },
  {
   "cell_type": "code",
   "execution_count": 6,
   "metadata": {},
   "outputs": [
    {
     "data": {
      "text/plain": [
       "array([[ 1.8817722 , -3.6823132 ],\n",
       "       [ 5.1052113 , -1.4628642 ],\n",
       "       [ 1.8300644 , -3.2573683 ],\n",
       "       [ 6.109404  ,  0.8673919 ],\n",
       "       [ 3.0926762 , -2.5550547 ],\n",
       "       [ 2.1844964 , -3.9446902 ],\n",
       "       [ 6.3355865 ,  0.38355595],\n",
       "       [ 2.3484166 , -3.111057  ],\n",
       "       [ 3.1039069 , -3.104075  ],\n",
       "       [ 5.0217543 , -0.6934744 ],\n",
       "       [ 4.569868  , -1.5391392 ],\n",
       "       [ 4.272444  , -2.0415444 ],\n",
       "       [ 3.799838  , -2.312218  ],\n",
       "       [ 5.4735885 , -0.39349613],\n",
       "       [ 4.8438997 , -1.8588988 ],\n",
       "       [ 5.9479985 ,  0.12443385],\n",
       "       [ 6.5473127 ,  0.70309985],\n",
       "       [ 2.5421453 , -3.5446644 ],\n",
       "       [ 6.4166884 , -0.11835512],\n",
       "       [ 5.4014363 , -1.0441451 ]], dtype=float32)"
      ]
     },
     "execution_count": 6,
     "metadata": {},
     "output_type": "execute_result"
    }
   ],
   "source": [
    "# model fitting and data transformation\n",
    "from umap import UMAP\n",
    "\n",
    "model = UMAP(n_neighbors = 10, n_components = 2, metric = \"euclidean\")\n",
    "df_transformed = model.fit_transform(df)\n",
    "df_transformed"
   ]
  },
  {
   "cell_type": "code",
   "execution_count": 7,
   "metadata": {},
   "outputs": [
    {
     "data": {
      "image/png": "[encoded data removed]",
      "text/plain": [
       "<Figure size 1500x750 with 1 Axes>"
      ]
     },
     "metadata": {},
     "output_type": "display_data"
    }
   ],
   "source": [
    "# visualize\n",
    "plt.figure(figsize = (15, 7.5))\n",
    "plt.scatter(df_transformed[:, 0], df_transformed[:, 1])\n",
    "plt.show()"
   ]
  },
  {
   "cell_type": "markdown",
   "metadata": {},
   "source": [
    "# Interpreting the Results from UMAP\n",
    "Interpreting the results from UMAP involves understanding the visualized data points in the lower-dimensional space (usually 2D or 3D) and relating them back to the original high-dimensional data.\n",
    "\n",
    "### Visual patterns and clusters\n",
    "- Look for clusters or groupings of data points in the UMAP visualization. These clusters might indicate underlying structures or similarities within the data.\n",
    "- Pay attention to the relative positions of data points. Points closer together in the UMAP space are likely more similar based on how UMAP preserves both local and global relationships.\n",
    "\n",
    "### Relating UMAP to original data\n",
    "- Similar to t-SNE, avoid over-interpreting the exact distances or positions of data points in the UMAP plot. These don't necessarily correspond to actual distances in the original high-dimensional space.\n",
    "- Focus on the relative positioning of data points to identify potential clusters and relationships. Consider using color-coding or labeling the data points based on target variables or other relevant information to see if these groupings align with any meaningful categories in the data.\n",
    "\n",
    "### Strengths of UMAP visualization\n",
    "- Compared to t-SNE, UMAP visualizations tend to be more balanced in capturing both local and global structures. This can lead to a more comprehensive understanding of the underlying relationships within the data.\n",
    "- UMAP often produces smoother and more continuous representations, especially for data residing on complex manifolds.\n",
    "\n",
    "### Limitations to consider\n",
    "- UMAP is a stochastic process, meaning repeated runs with the same data might produce slightly different visualizations due to randomness involved in the algorithm.\n",
    "- Interpreting UMAP results can still be subjective and may require domain knowledge to connect the observed patterns to the real-world meaning of the data.\n",
    "\n",
    "### Additional tips\n",
    "- Experiment with different `n_neighbors` values in the UMAP model. This hyperparameter influences the balance between local and global structure preservation, potentially leading to different visualization outcomes.\n",
    "- Explore using other dimensionality reduction techniques like PCA alongside UMAP. PCA can reveal the directions of greatest variance, which might provide complementary insights into the data structure."
   ]
  }
 ],
 "metadata": {
  "kernelspec": {
   "display_name": "Python 3",
   "language": "python",
   "name": "python3"
  },
  "language_info": {
   "codemirror_mode": {
    "name": "ipython",
    "version": 3
   },
   "file_extension": ".py",
   "mimetype": "text/x-python",
   "name": "python",
   "nbconvert_exporter": "python",
   "pygments_lexer": "ipython3",
   "version": "3.11.2"
  }
 },
 "nbformat": 4,
 "nbformat_minor": 2
}
