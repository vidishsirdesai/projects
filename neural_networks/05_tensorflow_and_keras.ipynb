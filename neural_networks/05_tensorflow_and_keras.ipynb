{
 "cells": [
  {
   "cell_type": "markdown",
   "metadata": {},
   "source": [
    "# Business Case: healthyfi.me\n",
    "healthyfi.me has labelled its customers based on the highest intensity of work they could perform, namely, `A`, `B`, `C` and `D`.\n",
    "\n",
    "Given a new customer, help healthyfi.me in recommending customized workout plans by predicting the customer's class."
   ]
  },
  {
   "cell_type": "markdown",
   "metadata": {},
   "source": [
    "### Data dictionary\n",
    "| id | features | description |\n",
    "| :-: | :-: | :-: |\n",
    "| 01 | `age` | age of the customer |\n",
    "| 02 | `gender` | gender of the customer (M/F) |\n",
    "| 03 | `height_cm` | height of the customer in cm |\n",
    "| 04 | `weight_kg` | weight of the customer in kg |\n",
    "| 05 | `body_fat_`% | % of fat in customer's body |\n",
    "| 06 | `diastolic` | diastolic blood pressure, measures the pressure in your arteries when your heart rests between beats |\n",
    "| 07 | `systolic` | systolic blood pressure, measures the pressure in your arteries when your heart beats |\n",
    "| 08 | `gripForce` | strength of customer's grip |\n",
    "| 09 | `sit and bend forward_cm` | to measure flexibility of customer |\n",
    "| 10 | `sit-ups counts` | count of sit-ups customer can perform |\n",
    "| 11 | `broad jump_cm` | It is the max jump customer can perform in cm |\n",
    "| 12 | `class` | Category of customer based on the intensity of workout |"
   ]
  },
  {
   "cell_type": "markdown",
   "metadata": {},
   "source": [
    "# Importing Dependencies"
   ]
  },
  {
   "cell_type": "code",
   "execution_count": 1,
   "metadata": {},
   "outputs": [],
   "source": [
    "import numpy as np\n",
    "import pandas as pd\n",
    "import matplotlib.pyplot as plt\n",
    "import seaborn as sns"
   ]
  },
  {
   "cell_type": "markdown",
   "metadata": {},
   "source": [
    "# Reading The Dataset"
   ]
  },
  {
   "cell_type": "code",
   "execution_count": 2,
   "metadata": {},
   "outputs": [
    {
     "data": {
      "text/html": [
       "<div>\n",
       "<style scoped>\n",
       "    .dataframe tbody tr th:only-of-type {\n",
       "        vertical-align: middle;\n",
       "    }\n",
       "\n",
       "    .dataframe tbody tr th {\n",
       "        vertical-align: top;\n",
       "    }\n",
       "\n",
       "    .dataframe thead th {\n",
       "        text-align: right;\n",
       "    }\n",
       "</style>\n",
       "<table border=\"1\" class=\"dataframe\">\n",
       "  <thead>\n",
       "    <tr style=\"text-align: right;\">\n",
       "      <th></th>\n",
       "      <th>age</th>\n",
       "      <th>gender</th>\n",
       "      <th>height_cm</th>\n",
       "      <th>weight_kg</th>\n",
       "      <th>body fat_%</th>\n",
       "      <th>diastolic</th>\n",
       "      <th>systolic</th>\n",
       "      <th>gripForce</th>\n",
       "      <th>sit and bend forward_cm</th>\n",
       "      <th>sit-ups counts</th>\n",
       "      <th>broad jump_cm</th>\n",
       "      <th>class</th>\n",
       "    </tr>\n",
       "  </thead>\n",
       "  <tbody>\n",
       "    <tr>\n",
       "      <th>0</th>\n",
       "      <td>27.0</td>\n",
       "      <td>M</td>\n",
       "      <td>172.3</td>\n",
       "      <td>75.24</td>\n",
       "      <td>21.3</td>\n",
       "      <td>80.0</td>\n",
       "      <td>130.0</td>\n",
       "      <td>54.9</td>\n",
       "      <td>18.4</td>\n",
       "      <td>60.0</td>\n",
       "      <td>217.0</td>\n",
       "      <td>C</td>\n",
       "    </tr>\n",
       "    <tr>\n",
       "      <th>1</th>\n",
       "      <td>25.0</td>\n",
       "      <td>M</td>\n",
       "      <td>165.0</td>\n",
       "      <td>55.80</td>\n",
       "      <td>15.7</td>\n",
       "      <td>77.0</td>\n",
       "      <td>126.0</td>\n",
       "      <td>36.4</td>\n",
       "      <td>16.3</td>\n",
       "      <td>53.0</td>\n",
       "      <td>229.0</td>\n",
       "      <td>A</td>\n",
       "    </tr>\n",
       "    <tr>\n",
       "      <th>2</th>\n",
       "      <td>31.0</td>\n",
       "      <td>M</td>\n",
       "      <td>179.6</td>\n",
       "      <td>78.00</td>\n",
       "      <td>20.1</td>\n",
       "      <td>92.0</td>\n",
       "      <td>152.0</td>\n",
       "      <td>44.8</td>\n",
       "      <td>12.0</td>\n",
       "      <td>49.0</td>\n",
       "      <td>181.0</td>\n",
       "      <td>C</td>\n",
       "    </tr>\n",
       "    <tr>\n",
       "      <th>3</th>\n",
       "      <td>32.0</td>\n",
       "      <td>M</td>\n",
       "      <td>174.5</td>\n",
       "      <td>71.10</td>\n",
       "      <td>18.4</td>\n",
       "      <td>76.0</td>\n",
       "      <td>147.0</td>\n",
       "      <td>41.4</td>\n",
       "      <td>15.2</td>\n",
       "      <td>53.0</td>\n",
       "      <td>219.0</td>\n",
       "      <td>B</td>\n",
       "    </tr>\n",
       "    <tr>\n",
       "      <th>4</th>\n",
       "      <td>28.0</td>\n",
       "      <td>M</td>\n",
       "      <td>173.8</td>\n",
       "      <td>67.70</td>\n",
       "      <td>17.1</td>\n",
       "      <td>70.0</td>\n",
       "      <td>127.0</td>\n",
       "      <td>43.5</td>\n",
       "      <td>27.1</td>\n",
       "      <td>45.0</td>\n",
       "      <td>217.0</td>\n",
       "      <td>B</td>\n",
       "    </tr>\n",
       "  </tbody>\n",
       "</table>\n",
       "</div>"
      ],
      "text/plain": [
       "    age gender  height_cm  weight_kg  body fat_%  diastolic  systolic  \\\n",
       "0  27.0      M      172.3      75.24        21.3       80.0     130.0   \n",
       "1  25.0      M      165.0      55.80        15.7       77.0     126.0   \n",
       "2  31.0      M      179.6      78.00        20.1       92.0     152.0   \n",
       "3  32.0      M      174.5      71.10        18.4       76.0     147.0   \n",
       "4  28.0      M      173.8      67.70        17.1       70.0     127.0   \n",
       "\n",
       "   gripForce  sit and bend forward_cm  sit-ups counts  broad jump_cm class  \n",
       "0       54.9                     18.4            60.0          217.0     C  \n",
       "1       36.4                     16.3            53.0          229.0     A  \n",
       "2       44.8                     12.0            49.0          181.0     C  \n",
       "3       41.4                     15.2            53.0          219.0     B  \n",
       "4       43.5                     27.1            45.0          217.0     B  "
      ]
     },
     "execution_count": 2,
     "metadata": {},
     "output_type": "execute_result"
    }
   ],
   "source": [
    "df = pd.read_csv(\"healthyfime.csv\")\n",
    "df.head()"
   ]
  },
  {
   "cell_type": "markdown",
   "metadata": {},
   "source": [
    "Observations from the above snippet of the data,\n",
    "- The `age` feature is very crucial in predicting the class of highest intensity workout.\n",
    "- Features like, `height`, `weight`, `diastolic`, etc are crucial in predicting the workout intensity. The reason: A high intensity cannot be predicted to candidates with high blood pressure."
   ]
  },
  {
   "cell_type": "code",
   "execution_count": 3,
   "metadata": {},
   "outputs": [
    {
     "name": "stdout",
     "output_type": "stream",
     "text": [
      "<class 'pandas.core.frame.DataFrame'>\n",
      "RangeIndex: 13393 entries, 0 to 13392\n",
      "Data columns (total 12 columns):\n",
      " #   Column                   Non-Null Count  Dtype  \n",
      "---  ------                   --------------  -----  \n",
      " 0   age                      13393 non-null  float64\n",
      " 1   gender                   13393 non-null  object \n",
      " 2   height_cm                13393 non-null  float64\n",
      " 3   weight_kg                13393 non-null  float64\n",
      " 4   body fat_%               13393 non-null  float64\n",
      " 5   diastolic                13393 non-null  float64\n",
      " 6   systolic                 13393 non-null  float64\n",
      " 7   gripForce                13393 non-null  float64\n",
      " 8   sit and bend forward_cm  13393 non-null  float64\n",
      " 9   sit-ups counts           13393 non-null  float64\n",
      " 10  broad jump_cm            13393 non-null  float64\n",
      " 11  class                    13393 non-null  object \n",
      "dtypes: float64(10), object(2)\n",
      "memory usage: 1.2+ MB\n"
     ]
    }
   ],
   "source": [
    "df.info()"
   ]
  },
  {
   "cell_type": "markdown",
   "metadata": {},
   "source": [
    "# EDA\n",
    "- `gender` has 2 unique values and `class` has 4 unique values.\n",
    "- Binary encoding (`0` and `1`) can be applied on `gender`.\n",
    "- Since `class` is ordinal in nature, label encoding (`0`, `1`, `2`, `3`) can be applied on it."
   ]
  },
  {
   "cell_type": "code",
   "execution_count": 4,
   "metadata": {},
   "outputs": [
    {
     "name": "stderr",
     "output_type": "stream",
     "text": [
      "/var/folders/xl/sjrt7p6548j9h6x1rz_px87w0000gn/T/ipykernel_62602/3792586169.py:3: FutureWarning: Downcasting behavior in `replace` is deprecated and will be removed in a future version. To retain the old behavior, explicitly call `result.infer_objects(copy=False)`. To opt-in to the future behavior, set `pd.set_option('future.no_silent_downcasting', True)`\n",
      "  df.replace({\"M\": 0, \"F\": 1}, inplace = True)\n"
     ]
    },
    {
     "data": {
      "text/html": [
       "<div>\n",
       "<style scoped>\n",
       "    .dataframe tbody tr th:only-of-type {\n",
       "        vertical-align: middle;\n",
       "    }\n",
       "\n",
       "    .dataframe tbody tr th {\n",
       "        vertical-align: top;\n",
       "    }\n",
       "\n",
       "    .dataframe thead th {\n",
       "        text-align: right;\n",
       "    }\n",
       "</style>\n",
       "<table border=\"1\" class=\"dataframe\">\n",
       "  <thead>\n",
       "    <tr style=\"text-align: right;\">\n",
       "      <th></th>\n",
       "      <th>age</th>\n",
       "      <th>gender</th>\n",
       "      <th>height_cm</th>\n",
       "      <th>weight_kg</th>\n",
       "      <th>body fat_%</th>\n",
       "      <th>diastolic</th>\n",
       "      <th>systolic</th>\n",
       "      <th>gripForce</th>\n",
       "      <th>sit and bend forward_cm</th>\n",
       "      <th>sit-ups counts</th>\n",
       "      <th>broad jump_cm</th>\n",
       "      <th>class</th>\n",
       "    </tr>\n",
       "  </thead>\n",
       "  <tbody>\n",
       "    <tr>\n",
       "      <th>0</th>\n",
       "      <td>27.0</td>\n",
       "      <td>0</td>\n",
       "      <td>172.3</td>\n",
       "      <td>75.24</td>\n",
       "      <td>21.3</td>\n",
       "      <td>80.0</td>\n",
       "      <td>130.0</td>\n",
       "      <td>54.9</td>\n",
       "      <td>18.4</td>\n",
       "      <td>60.0</td>\n",
       "      <td>217.0</td>\n",
       "      <td>C</td>\n",
       "    </tr>\n",
       "    <tr>\n",
       "      <th>1</th>\n",
       "      <td>25.0</td>\n",
       "      <td>0</td>\n",
       "      <td>165.0</td>\n",
       "      <td>55.80</td>\n",
       "      <td>15.7</td>\n",
       "      <td>77.0</td>\n",
       "      <td>126.0</td>\n",
       "      <td>36.4</td>\n",
       "      <td>16.3</td>\n",
       "      <td>53.0</td>\n",
       "      <td>229.0</td>\n",
       "      <td>A</td>\n",
       "    </tr>\n",
       "    <tr>\n",
       "      <th>2</th>\n",
       "      <td>31.0</td>\n",
       "      <td>0</td>\n",
       "      <td>179.6</td>\n",
       "      <td>78.00</td>\n",
       "      <td>20.1</td>\n",
       "      <td>92.0</td>\n",
       "      <td>152.0</td>\n",
       "      <td>44.8</td>\n",
       "      <td>12.0</td>\n",
       "      <td>49.0</td>\n",
       "      <td>181.0</td>\n",
       "      <td>C</td>\n",
       "    </tr>\n",
       "    <tr>\n",
       "      <th>3</th>\n",
       "      <td>32.0</td>\n",
       "      <td>0</td>\n",
       "      <td>174.5</td>\n",
       "      <td>71.10</td>\n",
       "      <td>18.4</td>\n",
       "      <td>76.0</td>\n",
       "      <td>147.0</td>\n",
       "      <td>41.4</td>\n",
       "      <td>15.2</td>\n",
       "      <td>53.0</td>\n",
       "      <td>219.0</td>\n",
       "      <td>B</td>\n",
       "    </tr>\n",
       "    <tr>\n",
       "      <th>4</th>\n",
       "      <td>28.0</td>\n",
       "      <td>0</td>\n",
       "      <td>173.8</td>\n",
       "      <td>67.70</td>\n",
       "      <td>17.1</td>\n",
       "      <td>70.0</td>\n",
       "      <td>127.0</td>\n",
       "      <td>43.5</td>\n",
       "      <td>27.1</td>\n",
       "      <td>45.0</td>\n",
       "      <td>217.0</td>\n",
       "      <td>B</td>\n",
       "    </tr>\n",
       "  </tbody>\n",
       "</table>\n",
       "</div>"
      ],
      "text/plain": [
       "    age  gender  height_cm  weight_kg  body fat_%  diastolic  systolic  \\\n",
       "0  27.0       0      172.3      75.24        21.3       80.0     130.0   \n",
       "1  25.0       0      165.0      55.80        15.7       77.0     126.0   \n",
       "2  31.0       0      179.6      78.00        20.1       92.0     152.0   \n",
       "3  32.0       0      174.5      71.10        18.4       76.0     147.0   \n",
       "4  28.0       0      173.8      67.70        17.1       70.0     127.0   \n",
       "\n",
       "   gripForce  sit and bend forward_cm  sit-ups counts  broad jump_cm class  \n",
       "0       54.9                     18.4            60.0          217.0     C  \n",
       "1       36.4                     16.3            53.0          229.0     A  \n",
       "2       44.8                     12.0            49.0          181.0     C  \n",
       "3       41.4                     15.2            53.0          219.0     B  \n",
       "4       43.5                     27.1            45.0          217.0     B  "
      ]
     },
     "execution_count": 4,
     "metadata": {},
     "output_type": "execute_result"
    }
   ],
   "source": [
    "# df[\"gender\"].replace({\"M\": 0, \"F\": 1}, inplace = True)\n",
    "# df.head()\n",
    "df.replace({\"M\": 0, \"F\": 1}, inplace = True)\n",
    "df.head()"
   ]
  },
  {
   "cell_type": "code",
   "execution_count": 5,
   "metadata": {},
   "outputs": [
    {
     "name": "stdout",
     "output_type": "stream",
     "text": [
      "{'D': 0, 'C': 1, 'B': 2, 'A': 3}\n"
     ]
    }
   ],
   "source": [
    "classes = list(df[\"class\"].unique())\n",
    "mapping_dict = {ch: i for i, ch in enumerate(sorted(classes, reverse = True))}\n",
    "print(mapping_dict)"
   ]
  },
  {
   "cell_type": "code",
   "execution_count": 6,
   "metadata": {},
   "outputs": [
    {
     "name": "stderr",
     "output_type": "stream",
     "text": [
      "/var/folders/xl/sjrt7p6548j9h6x1rz_px87w0000gn/T/ipykernel_62602/140115674.py:1: FutureWarning: A value is trying to be set on a copy of a DataFrame or Series through chained assignment using an inplace method.\n",
      "The behavior will change in pandas 3.0. This inplace method will never work because the intermediate object on which we are setting values always behaves as a copy.\n",
      "\n",
      "For example, when doing 'df[col].method(value, inplace=True)', try using 'df.method({col: value}, inplace=True)' or df[col] = df[col].method(value) instead, to perform the operation inplace on the original object.\n",
      "\n",
      "\n",
      "  df[\"class\"].replace(mapping_dict, inplace = True)\n",
      "/var/folders/xl/sjrt7p6548j9h6x1rz_px87w0000gn/T/ipykernel_62602/140115674.py:1: FutureWarning: Downcasting behavior in `replace` is deprecated and will be removed in a future version. To retain the old behavior, explicitly call `result.infer_objects(copy=False)`. To opt-in to the future behavior, set `pd.set_option('future.no_silent_downcasting', True)`\n",
      "  df[\"class\"].replace(mapping_dict, inplace = True)\n"
     ]
    },
    {
     "data": {
      "text/html": [
       "<div>\n",
       "<style scoped>\n",
       "    .dataframe tbody tr th:only-of-type {\n",
       "        vertical-align: middle;\n",
       "    }\n",
       "\n",
       "    .dataframe tbody tr th {\n",
       "        vertical-align: top;\n",
       "    }\n",
       "\n",
       "    .dataframe thead th {\n",
       "        text-align: right;\n",
       "    }\n",
       "</style>\n",
       "<table border=\"1\" class=\"dataframe\">\n",
       "  <thead>\n",
       "    <tr style=\"text-align: right;\">\n",
       "      <th></th>\n",
       "      <th>age</th>\n",
       "      <th>gender</th>\n",
       "      <th>height_cm</th>\n",
       "      <th>weight_kg</th>\n",
       "      <th>body fat_%</th>\n",
       "      <th>diastolic</th>\n",
       "      <th>systolic</th>\n",
       "      <th>gripForce</th>\n",
       "      <th>sit and bend forward_cm</th>\n",
       "      <th>sit-ups counts</th>\n",
       "      <th>broad jump_cm</th>\n",
       "      <th>class</th>\n",
       "    </tr>\n",
       "  </thead>\n",
       "  <tbody>\n",
       "    <tr>\n",
       "      <th>0</th>\n",
       "      <td>27.0</td>\n",
       "      <td>0</td>\n",
       "      <td>172.3</td>\n",
       "      <td>75.24</td>\n",
       "      <td>21.3</td>\n",
       "      <td>80.0</td>\n",
       "      <td>130.0</td>\n",
       "      <td>54.9</td>\n",
       "      <td>18.4</td>\n",
       "      <td>60.0</td>\n",
       "      <td>217.0</td>\n",
       "      <td>1</td>\n",
       "    </tr>\n",
       "    <tr>\n",
       "      <th>1</th>\n",
       "      <td>25.0</td>\n",
       "      <td>0</td>\n",
       "      <td>165.0</td>\n",
       "      <td>55.80</td>\n",
       "      <td>15.7</td>\n",
       "      <td>77.0</td>\n",
       "      <td>126.0</td>\n",
       "      <td>36.4</td>\n",
       "      <td>16.3</td>\n",
       "      <td>53.0</td>\n",
       "      <td>229.0</td>\n",
       "      <td>3</td>\n",
       "    </tr>\n",
       "    <tr>\n",
       "      <th>2</th>\n",
       "      <td>31.0</td>\n",
       "      <td>0</td>\n",
       "      <td>179.6</td>\n",
       "      <td>78.00</td>\n",
       "      <td>20.1</td>\n",
       "      <td>92.0</td>\n",
       "      <td>152.0</td>\n",
       "      <td>44.8</td>\n",
       "      <td>12.0</td>\n",
       "      <td>49.0</td>\n",
       "      <td>181.0</td>\n",
       "      <td>1</td>\n",
       "    </tr>\n",
       "    <tr>\n",
       "      <th>3</th>\n",
       "      <td>32.0</td>\n",
       "      <td>0</td>\n",
       "      <td>174.5</td>\n",
       "      <td>71.10</td>\n",
       "      <td>18.4</td>\n",
       "      <td>76.0</td>\n",
       "      <td>147.0</td>\n",
       "      <td>41.4</td>\n",
       "      <td>15.2</td>\n",
       "      <td>53.0</td>\n",
       "      <td>219.0</td>\n",
       "      <td>2</td>\n",
       "    </tr>\n",
       "    <tr>\n",
       "      <th>4</th>\n",
       "      <td>28.0</td>\n",
       "      <td>0</td>\n",
       "      <td>173.8</td>\n",
       "      <td>67.70</td>\n",
       "      <td>17.1</td>\n",
       "      <td>70.0</td>\n",
       "      <td>127.0</td>\n",
       "      <td>43.5</td>\n",
       "      <td>27.1</td>\n",
       "      <td>45.0</td>\n",
       "      <td>217.0</td>\n",
       "      <td>2</td>\n",
       "    </tr>\n",
       "  </tbody>\n",
       "</table>\n",
       "</div>"
      ],
      "text/plain": [
       "    age  gender  height_cm  weight_kg  body fat_%  diastolic  systolic  \\\n",
       "0  27.0       0      172.3      75.24        21.3       80.0     130.0   \n",
       "1  25.0       0      165.0      55.80        15.7       77.0     126.0   \n",
       "2  31.0       0      179.6      78.00        20.1       92.0     152.0   \n",
       "3  32.0       0      174.5      71.10        18.4       76.0     147.0   \n",
       "4  28.0       0      173.8      67.70        17.1       70.0     127.0   \n",
       "\n",
       "   gripForce  sit and bend forward_cm  sit-ups counts  broad jump_cm  class  \n",
       "0       54.9                     18.4            60.0          217.0      1  \n",
       "1       36.4                     16.3            53.0          229.0      3  \n",
       "2       44.8                     12.0            49.0          181.0      1  \n",
       "3       41.4                     15.2            53.0          219.0      2  \n",
       "4       43.5                     27.1            45.0          217.0      2  "
      ]
     },
     "execution_count": 6,
     "metadata": {},
     "output_type": "execute_result"
    }
   ],
   "source": [
    "df[\"class\"].replace(mapping_dict, inplace = True)\n",
    "df.head()"
   ]
  },
  {
   "cell_type": "markdown",
   "metadata": {},
   "source": [
    "In the above step,\n",
    "- All the strings are mapped to the integers in a reversed manner, i.e., `D` is mapped to `0` and `A` is mapped to `3`.\n",
    "- Then all the values in the `class` features are replaced with the mapped values."
   ]
  },
  {
   "cell_type": "markdown",
   "metadata": {},
   "source": [
    "# Correlations"
   ]
  },
  {
   "cell_type": "code",
   "execution_count": 7,
   "metadata": {},
   "outputs": [
    {
     "data": {
      "image/png": "[encoded data removed]",
      "text/plain": [
       "<Figure size 1500x1000 with 2 Axes>"
      ]
     },
     "metadata": {},
     "output_type": "display_data"
    }
   ],
   "source": [
    "plt.figure(figsize = (15, 10))\n",
    "sns.heatmap(df.corr(), annot = True)\n",
    "plt.show()"
   ]
  },
  {
   "cell_type": "markdown",
   "metadata": {},
   "source": [
    "There are no storng correlations between any of the features.\n",
    "\n",
    "A Boxplot can be used to understand the range and distribution of all variables."
   ]
  },
  {
   "cell_type": "code",
   "execution_count": 8,
   "metadata": {},
   "outputs": [
    {
     "data": {
      "text/plain": [
       "<function matplotlib.pyplot.show(close=None, block=None)>"
      ]
     },
     "execution_count": 8,
     "metadata": {},
     "output_type": "execute_result"
    },
    {
     "data": {
      "image/png": "[encoded data removed]",
      "text/plain": [
       "<Figure size 1500x1000 with 1 Axes>"
      ]
     },
     "metadata": {},
     "output_type": "display_data"
    }
   ],
   "source": [
    "plt.figure(figsize = (15, 10))\n",
    "df.boxplot(rot = 0, vert = False)\n",
    "plt.show"
   ]
  },
  {
   "cell_type": "markdown",
   "metadata": {},
   "source": [
    "# Separating The Independent And Dependent Variables"
   ]
  },
  {
   "cell_type": "code",
   "execution_count": 9,
   "metadata": {},
   "outputs": [
    {
     "data": {
      "text/plain": [
       "((13393, 11), (13393,))"
      ]
     },
     "execution_count": 9,
     "metadata": {},
     "output_type": "execute_result"
    }
   ],
   "source": [
    "x = df.drop(columns = [\"class\"])\n",
    "y = df[\"class\"]\n",
    "x.shape, y.shape"
   ]
  },
  {
   "cell_type": "markdown",
   "metadata": {},
   "source": [
    "# Split The Data Into Train, Test And Validation"
   ]
  },
  {
   "cell_type": "code",
   "execution_count": 10,
   "metadata": {},
   "outputs": [
    {
     "data": {
      "text/plain": [
       "((10847, 11), (10847,), (1206, 11), (1206,), (1340, 11), (1340,))"
      ]
     },
     "execution_count": 10,
     "metadata": {},
     "output_type": "execute_result"
    }
   ],
   "source": [
    "from sklearn.model_selection import train_test_split\n",
    "\n",
    "x_train, x_test, y_train, y_test = train_test_split(x, y, test_size = 0.1, random_state = 42)\n",
    "x_train, x_val, y_train, y_val = train_test_split(x_train, y_train, test_size = 0.1, random_state = 42)\n",
    "\n",
    "x_train.shape, y_train.shape, x_val.shape, y_val.shape, x_test.shape, y_test.shape"
   ]
  },
  {
   "cell_type": "markdown",
   "metadata": {},
   "source": [
    "# Scaling The Data Using `StandardScaler`"
   ]
  },
  {
   "cell_type": "code",
   "execution_count": 11,
   "metadata": {},
   "outputs": [],
   "source": [
    "from sklearn.preprocessing import StandardScaler\n",
    "scaler = StandardScaler()\n",
    "\n",
    "x_train = scaler.fit_transform(x_train, y_train)\n",
    "x_val = scaler.fit_transform(x_val)\n",
    "x_test = scaler.fit_transform(x_test)"
   ]
  },
  {
   "cell_type": "code",
   "execution_count": 12,
   "metadata": {},
   "outputs": [
    {
     "data": {
      "image/png": "[encoded data removed]",
      "text/plain": [
       "<Figure size 1500x1000 with 1 Axes>"
      ]
     },
     "metadata": {},
     "output_type": "display_data"
    }
   ],
   "source": [
    "plt.figure(figsize = (15, 10))\n",
    "pd.DataFrame(x_train, columns = df.columns[:-1]).boxplot(rot = 0, vert = False)\n",
    "plt.show()"
   ]
  },
  {
   "cell_type": "markdown",
   "metadata": {},
   "source": [
    "The data is ready for model building."
   ]
  },
  {
   "cell_type": "markdown",
   "metadata": {},
   "source": [
    "# Tensorflow"
   ]
  },
  {
   "cell_type": "code",
   "execution_count": 13,
   "metadata": {},
   "outputs": [
    {
     "data": {
      "text/plain": [
       "'2.18.0'"
      ]
     },
     "execution_count": 13,
     "metadata": {},
     "output_type": "execute_result"
    }
   ],
   "source": [
    "# importing tensorflow\n",
    "import tensorflow as tf\n",
    "\n",
    "# checking the version of tensorflow\n",
    "tf.__version__"
   ]
  },
  {
   "cell_type": "markdown",
   "metadata": {},
   "source": [
    "### What is TensorFlow?\n",
    "TensorFlow (`tensorflow`) is a powerflow open-source library developed by Google for Machine Learning and Artificial Intelligence. It is designed to make it easier to build and train complex Neural Networks\n",
    "\n",
    "Key features:\n",
    "- Data flow graphs: TensorFlow uses a computational graph approach, where nodes represent mathematical operations and edges represent the data (tensors) flowing between them. This allows for efficient execution on various hardware platforms.\n",
    "- Flexible architecture: It can run on a single device (CPU or GPU) or be scaled to distributed systems with multiple GPUs or TPUs.\n",
    "- High-level API (Keras (`keras`)): Keras, integrated into TensorFlow, provides a user-friendly interface for building and training models, making it accessible to both beginners and experienced developers.\n",
    "- Low-level API (TensorFlow Core): For advanced users, TensorFlow Core offers fine-grained controls over the underlying computations, allowing for custom optimizations and experimentation.\n",
    "- Wide range of applications: TensorFlow is used for various tasks, including image recognition, natural language processing, speech recognition and more.\n",
    "\n",
    "TensorFlow modules,\n",
    "- `tf.keras`\n",
    "- `tf.data`"
   ]
  },
  {
   "cell_type": "markdown",
   "metadata": {},
   "source": [
    "# `tf.keras`\n",
    "\n",
    "### What is Keras?\n",
    "Keras is a high-level Neural Network API that runs on top of TensorFlow (and other backends like Theano and CNTK). It is designed to be user-friendly and flexible, making it a popular choice for both beginners and experienced Machine Learning practitioners.\n",
    "\n",
    "Key features,\n",
    "- User-friendly API: Kerasa provides a simple and intuitive API, making it easy to build and train Neural Networks.\n",
    "- Modularity: Keras is built on the principle of modularity, which allows to easily combine different componenta (layers, optimizers, etc) to create complex models.\n",
    "- Flexibility: While it offers a high-level API, Keras also provides access to the underlying TensorFlow backend for more advanced customization.\n",
    "- Rapid prototyping: Keras is designed to enable rapid experimentation and model development.\n",
    "- Cross-platform compatibility: Keras can run on various hardware platforms including CPUs, GPU and TPUs.\n",
    "\n",
    "### How is it different from TensorFlow?\n",
    "While both Keras and TensorFlow are powerful tools for machine learning, they differ in their level of abstraction and complexity.\n",
    "\n",
    "TensorFlow,\n",
    "- Low-level API: It provides a low-level API, giving you fine-grained control over the underlying computations. This allows for highly customized and optimized models.   \n",
    "- Flexibility: You can build complex and custom architectures, but it requires a deeper understanding of machine learning concepts and TensorFlow's framework.   \n",
    "- Scalability: TensorFlow is designed to handle large-scale datasets and complex models, making it suitable for research and production environments.\n",
    "\n",
    "Keras,\n",
    "- High-level API: It offers a simpler and more user-friendly API, making it easier to build and train models quickly.   \n",
    "- Ease of use: Keras abstracts away many of the complexities of deep learning, allowing you to focus on model architecture and training.   \n",
    "- Rapid prototyping: It's ideal for rapid prototyping and experimentation.\n",
    "\n",
    "In essence, Keras is built on top of TensorFlow. It provides a higher-level interface that simplifies the process of building and training neural networks. You can think of Keras as a user-friendly wrapper around TensorFlow.\n",
    "\n",
    "When to use which,\n",
    "- Keras: Ideal for beginners and rapid prototyping.   \n",
    "- TensorFlow: Suitable for advanced users who need more control over the underlying computations and for large-scale, complex models.\n",
    "\n",
    "### Advantages of Keras in TensorFlow\n",
    "- Simplified API: Keras offers a user-friendly API that significantly reduces the complexity of building and training deep learning models. It is designed to be intuitive and easy to learn even for beginners.\n",
    "- Seamless integration: Keras is now directly integrated into TensorFlow 2, eliminating the need for separate installation. This streamlined process makes it even more accessible to developers.\n",
    "- Rapid prototyping: Keras' high-level abstractions enable rapid experimentation and model development, which allows to quickly iterate on ideas and explore different architectures.\n",
    "- Flexibility: While Keras provides a simple interface for common tasks, it also offers flexibility for advanced users who need to customize their models or delve into the underlying TensorFlow operations.\n",
    "- Broad community support: Keras has a large and active community, providing extensive documentation, tutorials and forums for support and knowledge sharing.\n",
    "\n",
    "The following are the various activation functions available inside Keras,"
   ]
  },
  {
   "cell_type": "code",
   "execution_count": 14,
   "metadata": {},
   "outputs": [
    {
     "data": {
      "text/plain": [
       "['DTypePolicy',\n",
       " 'FloatDTypePolicy',\n",
       " 'Function',\n",
       " 'Initializer',\n",
       " 'Input',\n",
       " 'InputSpec',\n",
       " 'KerasTensor',\n",
       " 'Layer',\n",
       " 'Loss',\n",
       " 'Metric',\n",
       " 'Model',\n",
       " 'Operation',\n",
       " 'Optimizer',\n",
       " 'Quantizer',\n",
       " 'Regularizer',\n",
       " 'Sequential',\n",
       " 'StatelessScope',\n",
       " 'SymbolicScope',\n",
       " 'Variable',\n",
       " '__builtins__',\n",
       " '__cached__',\n",
       " '__doc__',\n",
       " '__file__',\n",
       " '__loader__',\n",
       " '__name__',\n",
       " '__package__',\n",
       " '__path__',\n",
       " '__spec__',\n",
       " '__version__',\n",
       " 'activations',\n",
       " 'applications',\n",
       " 'backend',\n",
       " 'callbacks',\n",
       " 'config',\n",
       " 'constraints',\n",
       " 'datasets',\n",
       " 'device',\n",
       " 'distribution',\n",
       " 'dtype_policies',\n",
       " 'export',\n",
       " 'initializers',\n",
       " 'layers',\n",
       " 'legacy',\n",
       " 'losses',\n",
       " 'metrics',\n",
       " 'mixed_precision',\n",
       " 'models',\n",
       " 'name_scope',\n",
       " 'ops',\n",
       " 'optimizers',\n",
       " 'preprocessing',\n",
       " 'quantizers',\n",
       " 'random',\n",
       " 'regularizers',\n",
       " 'tree',\n",
       " 'utils',\n",
       " 'version',\n",
       " 'visualization']"
      ]
     },
     "execution_count": 14,
     "metadata": {},
     "output_type": "execute_result"
    }
   ],
   "source": [
    "dir(tf.keras)"
   ]
  },
  {
   "cell_type": "code",
   "execution_count": 15,
   "metadata": {},
   "outputs": [
    {
     "data": {
      "text/plain": [
       "['__builtins__',\n",
       " '__cached__',\n",
       " '__doc__',\n",
       " '__file__',\n",
       " '__loader__',\n",
       " '__name__',\n",
       " '__package__',\n",
       " '__path__',\n",
       " '__spec__',\n",
       " 'celu',\n",
       " 'deserialize',\n",
       " 'elu',\n",
       " 'exponential',\n",
       " 'gelu',\n",
       " 'get',\n",
       " 'glu',\n",
       " 'hard_shrink',\n",
       " 'hard_sigmoid',\n",
       " 'hard_silu',\n",
       " 'hard_swish',\n",
       " 'hard_tanh',\n",
       " 'leaky_relu',\n",
       " 'linear',\n",
       " 'log_sigmoid',\n",
       " 'log_softmax',\n",
       " 'mish',\n",
       " 'relu',\n",
       " 'relu6',\n",
       " 'selu',\n",
       " 'serialize',\n",
       " 'sigmoid',\n",
       " 'silu',\n",
       " 'soft_shrink',\n",
       " 'softmax',\n",
       " 'softplus',\n",
       " 'softsign',\n",
       " 'squareplus',\n",
       " 'swish',\n",
       " 'tanh',\n",
       " 'tanh_shrink']"
      ]
     },
     "execution_count": 15,
     "metadata": {},
     "output_type": "execute_result"
    }
   ],
   "source": [
    "dir(tf.keras.activations)"
   ]
  },
  {
   "cell_type": "markdown",
   "metadata": {},
   "source": [
    "# `tf.data`"
   ]
  },
  {
   "cell_type": "code",
   "execution_count": 16,
   "metadata": {},
   "outputs": [
    {
     "data": {
      "text/plain": [
       "['AUTOTUNE',\n",
       " 'Dataset',\n",
       " 'DatasetSpec',\n",
       " 'FixedLengthRecordDataset',\n",
       " 'INFINITE_CARDINALITY',\n",
       " 'Iterator',\n",
       " 'IteratorSpec',\n",
       " 'NumpyIterator',\n",
       " 'Options',\n",
       " 'TFRecordDataset',\n",
       " 'TextLineDataset',\n",
       " 'ThreadingOptions',\n",
       " 'UNKNOWN_CARDINALITY',\n",
       " '__builtins__',\n",
       " '__cached__',\n",
       " '__doc__',\n",
       " '__file__',\n",
       " '__loader__',\n",
       " '__name__',\n",
       " '__package__',\n",
       " '__path__',\n",
       " '__spec__',\n",
       " '_sys',\n",
       " 'experimental']"
      ]
     },
     "execution_count": 16,
     "metadata": {},
     "output_type": "execute_result"
    }
   ],
   "source": [
    "dir(tf.data)"
   ]
  },
  {
   "cell_type": "markdown",
   "metadata": {},
   "source": [
    "There are 2 ways using which code can be written in Keras,\n",
    "1. Sequential API.\n",
    "2. Functional API.\n",
    "\n",
    "For the sake of this document, the Seqential API is used."
   ]
  },
  {
   "cell_type": "markdown",
   "metadata": {},
   "source": [
    "# Keras Sequential API\n",
    "The Sequential API in Keras is a straightforward way to define a neural network model by stacking layers sequentially. It's ideal for simple, linear models where the output of one layer feeds directly into the input of the next.\n",
    "\n",
    "### Limitations of Sequential API:\n",
    "While the Sequential API is simple and easy to use, it's not suitable for complex architectures with shared layers, multiple inputs, or multiple outputs. For these cases, you'll need to use the more flexible Functional API.\n",
    "\n",
    "The following is done in the code lines below,\n",
    "- The `Sequential` class from `tnsorflow.keras.models` is imported in which the layers of the Neural Network are sequentially positioned.\n",
    "- The `Dense` layer is also imported from `tensorflow.keras.layers`. A `Dense` layer helps in defining one layer of a feed forward Neural Network. In a `Dense` layer, every neuron is connected to every neuron in the preceding layer, hence the name \"dense.\" This ensures that each neuron considers the input from all previous neurons.\n",
    "\n",
    "<img src = \"../artifacts/neural_networks_57.png\" alt = \"drawing\" width = \"500\">"
   ]
  },
  {
   "cell_type": "code",
   "execution_count": 17,
   "metadata": {},
   "outputs": [],
   "source": [
    "from tensorflow.keras.models import Sequential\n",
    "from tensorflow.keras.layers import Dense"
   ]
  },
  {
   "cell_type": "markdown",
   "metadata": {},
   "source": [
    "The following is done in the code lines below,\n",
    "- An instance (object) of the `Sequential` class is created with the name `model`.\n",
    "- It is same as creating an instance as was done in `sklearn`, just that, in this case, the model is defined as well.\n",
    "- `Sequential` model will take a list of layers as arguments."
   ]
  },
  {
   "cell_type": "code",
   "execution_count": 18,
   "metadata": {},
   "outputs": [],
   "source": [
    "# defining a feed forward network with a single hidden layer\n",
    "model = Sequential(\n",
    "    [\n",
    "        Dense(64, activation = \"relu\"), # hidden dense layer with 64 neuron units\n",
    "        Dense(4, activation = \"softmax\") # output layer wit 4 units and softmax activation\n",
    "    ]\n",
    ")\n",
    "# the activation argument is optional, if it is not passed, then there will linear or no activation"
   ]
  },
  {
   "cell_type": "markdown",
   "metadata": {},
   "source": [
    "### Why is activation function needed?\n",
    "It provides non-linearity to problems.\n",
    "\n",
    "### In what case, an activation function will not be passed?\n",
    "Output layer of regression model.\n",
    "\n",
    "### How to find if there is a method to check the weights of a model?\n",
    "`dir(model)`"
   ]
  },
  {
   "cell_type": "code",
   "execution_count": 19,
   "metadata": {},
   "outputs": [
    {
     "data": {
      "text/plain": [
       "['__call__',\n",
       " '__class__',\n",
       " '__delattr__',\n",
       " '__dict__',\n",
       " '__dir__',\n",
       " '__doc__',\n",
       " '__eq__',\n",
       " '__format__',\n",
       " '__ge__',\n",
       " '__getattribute__',\n",
       " '__getstate__',\n",
       " '__gt__',\n",
       " '__hash__',\n",
       " '__init__',\n",
       " '__init_subclass__',\n",
       " '__le__',\n",
       " '__lt__',\n",
       " '__module__',\n",
       " '__ne__',\n",
       " '__new__',\n",
       " '__reduce__',\n",
       " '__reduce_ex__',\n",
       " '__repr__',\n",
       " '__setattr__',\n",
       " '__sizeof__',\n",
       " '__str__',\n",
       " '__subclasshook__',\n",
       " '__weakref__',\n",
       " '_add_trackable_child',\n",
       " '_add_variable_with_custom_getter',\n",
       " '_allow_non_tensor_positional_args',\n",
       " '_api_export_path',\n",
       " '_api_export_symbol_id',\n",
       " '_assert_compile_called',\n",
       " '_assert_input_compatibility',\n",
       " '_assign_variable_values',\n",
       " '_auto_config',\n",
       " '_build_by_run_for_kwargs',\n",
       " '_build_by_run_for_single_pos_arg',\n",
       " '_build_shapes_dict',\n",
       " '_call_has_mask_arg',\n",
       " '_call_has_training_arg',\n",
       " '_call_signature',\n",
       " '_called',\n",
       " '_check_quantize_args',\n",
       " '_check_super_called',\n",
       " '_checkpoint_adapter',\n",
       " '_checkpoint_dependencies',\n",
       " '_clear_losses',\n",
       " '_clear_previous_trainer_metrics',\n",
       " '_compile_loss',\n",
       " '_compile_metrics',\n",
       " '_compiled_metrics_update_state',\n",
       " '_compute_loss',\n",
       " '_compute_loss_has_training_arg',\n",
       " '_convert_input_args',\n",
       " '_copy_trackable_to_cpu',\n",
       " '_create_nested_dict',\n",
       " '_default_save_signature',\n",
       " '_deferred_dependencies',\n",
       " '_delete_tracking',\n",
       " '_deserialization_dependencies',\n",
       " '_deserialize_from_proto',\n",
       " '_distribute_strategy',\n",
       " '_dtype_policy',\n",
       " '_export_to_saved_model_graph',\n",
       " '_flatten_layers',\n",
       " '_flatten_metrics_in_order',\n",
       " '_flatten_nested_dict',\n",
       " '_float8_call',\n",
       " '_functional',\n",
       " '_gather_saveables_for_checkpoint',\n",
       " '_get_call_context',\n",
       " '_get_metrics_result_or_logs',\n",
       " '_get_node_attribute_at_index',\n",
       " '_get_own_losses',\n",
       " '_get_own_metrics',\n",
       " '_get_regularization_losses',\n",
       " '_get_variable_map',\n",
       " '_handle_deferred_dependencies',\n",
       " '_inbound_nodes',\n",
       " '_initial_epoch',\n",
       " '_initialize_tracker',\n",
       " '_input_spec',\n",
       " '_int8_call',\n",
       " '_is_layer_name_unique',\n",
       " '_jit_compile',\n",
       " '_layers',\n",
       " '_lock',\n",
       " '_lock_state',\n",
       " '_lookup_dependency',\n",
       " '_loss_ids',\n",
       " '_loss_tracker',\n",
       " '_losses',\n",
       " '_losses_override',\n",
       " '_make_function',\n",
       " '_maybe_build',\n",
       " '_maybe_initialize_trackable',\n",
       " '_maybe_rebuild',\n",
       " '_maybe_reset_call_context',\n",
       " '_maybe_symbolic_build',\n",
       " '_metrics',\n",
       " '_name_based_attribute_restore',\n",
       " '_name_based_restores',\n",
       " '_no_dependency',\n",
       " '_non_trainable_variables',\n",
       " '_not_implemented_error',\n",
       " '_obj_type',\n",
       " '_object_identifier',\n",
       " '_open_name_scope',\n",
       " '_outbound_nodes',\n",
       " '_parent_path',\n",
       " '_path',\n",
       " '_post_build',\n",
       " '_post_track_variable',\n",
       " '_post_untrack_variable',\n",
       " '_preload_simple_restoration',\n",
       " '_quantization_mode_error',\n",
       " '_resolve_auto_jit_compile',\n",
       " '_restore_from_tensors',\n",
       " '_run_eagerly',\n",
       " '_saved_model_arg_spec',\n",
       " '_saved_model_inputs_spec',\n",
       " '_seed_generators',\n",
       " '_self_setattr_tracking',\n",
       " '_serialize_to_proto',\n",
       " '_serialize_to_tensors',\n",
       " '_set_mask_metadata',\n",
       " '_set_save_spec',\n",
       " '_setattr_hook',\n",
       " '_setattr_tracking',\n",
       " '_should_eval',\n",
       " '_supports_masking',\n",
       " '_symbolic_build',\n",
       " '_tf_api_names',\n",
       " '_tf_api_names_v1',\n",
       " '_track_trackable',\n",
       " '_track_variable',\n",
       " '_trackable_children',\n",
       " '_tracked',\n",
       " '_tracker',\n",
       " '_trainable',\n",
       " '_trainable_variables',\n",
       " '_unconditional_checkpoint_dependencies',\n",
       " '_unconditional_dependency_names',\n",
       " '_unpickle_model',\n",
       " '_untrack_variable',\n",
       " '_update_uid',\n",
       " 'activity_regularizer',\n",
       " 'add',\n",
       " 'add_loss',\n",
       " 'add_metric',\n",
       " 'add_variable',\n",
       " 'add_weight',\n",
       " 'autocast',\n",
       " 'build',\n",
       " 'build_from_config',\n",
       " 'built',\n",
       " 'call',\n",
       " 'compile',\n",
       " 'compile_from_config',\n",
       " 'compiled',\n",
       " 'compiled_loss',\n",
       " 'compiled_metrics',\n",
       " 'compute_dtype',\n",
       " 'compute_loss',\n",
       " 'compute_mask',\n",
       " 'compute_metrics',\n",
       " 'compute_output_shape',\n",
       " 'compute_output_spec',\n",
       " 'count_params',\n",
       " 'distribute_reduction_method',\n",
       " 'distribute_strategy',\n",
       " 'dtype',\n",
       " 'dtype_policy',\n",
       " 'evaluate',\n",
       " 'export',\n",
       " 'fit',\n",
       " 'from_config',\n",
       " 'get_build_config',\n",
       " 'get_compile_config',\n",
       " 'get_config',\n",
       " 'get_layer',\n",
       " 'get_metrics_result',\n",
       " 'get_state_tree',\n",
       " 'get_weights',\n",
       " 'input',\n",
       " 'input_dtype',\n",
       " 'input_shape',\n",
       " 'input_spec',\n",
       " 'inputs',\n",
       " 'jit_compile',\n",
       " 'layers',\n",
       " 'load_own_variables',\n",
       " 'load_weights',\n",
       " 'loss',\n",
       " 'losses',\n",
       " 'make_predict_function',\n",
       " 'make_test_function',\n",
       " 'make_train_function',\n",
       " 'metrics',\n",
       " 'metrics_names',\n",
       " 'metrics_variables',\n",
       " 'name',\n",
       " 'non_trainable_variables',\n",
       " 'non_trainable_weights',\n",
       " 'output',\n",
       " 'output_shape',\n",
       " 'outputs',\n",
       " 'path',\n",
       " 'pop',\n",
       " 'predict',\n",
       " 'predict_function',\n",
       " 'predict_on_batch',\n",
       " 'predict_step',\n",
       " 'quantization_mode',\n",
       " 'quantize',\n",
       " 'quantized_build',\n",
       " 'quantized_call',\n",
       " 'reset_metrics',\n",
       " 'run_eagerly',\n",
       " 'save',\n",
       " 'save_own_variables',\n",
       " 'save_weights',\n",
       " 'set_state_tree',\n",
       " 'set_weights',\n",
       " 'stateless_call',\n",
       " 'stateless_compute_loss',\n",
       " 'steps_per_execution',\n",
       " 'summary',\n",
       " 'supports_jit',\n",
       " 'supports_masking',\n",
       " 'symbolic_call',\n",
       " 'test_function',\n",
       " 'test_on_batch',\n",
       " 'test_step',\n",
       " 'to_json',\n",
       " 'train_function',\n",
       " 'train_on_batch',\n",
       " 'train_step',\n",
       " 'trainable',\n",
       " 'trainable_variables',\n",
       " 'trainable_weights',\n",
       " 'unrolled_steps_per_execution',\n",
       " 'variable_dtype',\n",
       " 'variables',\n",
       " 'weights']"
      ]
     },
     "execution_count": 19,
     "metadata": {},
     "output_type": "execute_result"
    }
   ],
   "source": [
    "dir(model)"
   ]
  },
  {
   "cell_type": "markdown",
   "metadata": {},
   "source": [
    "### Checking the model weights"
   ]
  },
  {
   "cell_type": "code",
   "execution_count": 20,
   "metadata": {},
   "outputs": [
    {
     "data": {
      "text/plain": [
       "[]"
      ]
     },
     "execution_count": 20,
     "metadata": {},
     "output_type": "execute_result"
    }
   ],
   "source": [
    "model.weights"
   ]
  },
  {
   "cell_type": "markdown",
   "metadata": {},
   "source": [
    "The above output means that the model has not created weights yet."
   ]
  },
  {
   "cell_type": "markdown",
   "metadata": {},
   "source": [
    "### Input shape\n",
    "- Since the model does not know about the input size yet, tensorflow does not have any information to create weights and biase yet.\n",
    "- the input size can be passed as an argument in the first layer."
   ]
  },
  {
   "cell_type": "code",
   "execution_count": 21,
   "metadata": {},
   "outputs": [
    {
     "name": "stderr",
     "output_type": "stream",
     "text": [
      "/Library/Frameworks/Python.framework/Versions/3.11/lib/python3.11/site-packages/keras/src/layers/core/dense.py:87: UserWarning: Do not pass an `input_shape`/`input_dim` argument to a layer. When using Sequential models, prefer using an `Input(shape)` object as the first layer in the model instead.\n",
      "  super().__init__(activity_regularizer=activity_regularizer, **kwargs)\n"
     ]
    }
   ],
   "source": [
    "model = Sequential(\n",
    "    [\n",
    "        Dense(64, activation = \"relu\", input_shape = (11, )),\n",
    "        Dense(4, activation = \"softmax\")\n",
    "    ]\n",
    ")"
   ]
  },
  {
   "cell_type": "markdown",
   "metadata": {},
   "source": [
    "In the above code,\n",
    "- 1 training example will be a 11 dimensional feature vector `(11, )`.\n",
    "- For each of the feature vector from the input, there will be an output of 64-dimensional feature vector `(64, )`.\n",
    "- In case of a `Dense` layer, $y = x * w + b$, where $x$ has all the features as columns.\n",
    "- The output of the first layer will have the dimensions `(m, 64)`, where `m` is the number of input data samples.\n",
    "\n",
    "### Why were weights not defined in second `Dense` layer?\n",
    "The layers in the sequential model interact with each other. Therefore, there is no need to define the input shape for all the layers."
   ]
  },
  {
   "cell_type": "code",
   "execution_count": 22,
   "metadata": {},
   "outputs": [
    {
     "name": "stdout",
     "output_type": "stream",
     "text": [
      "[<Variable path=sequential_1/dense_2/kernel, shape=(11, 64), dtype=float32, value=[[ 0.19893375  0.11647603 -0.11387621 -0.14847109  0.27845505  0.05491897\n",
      "  -0.21548639 -0.1993368  -0.17272434  0.10146379 -0.0007208   0.18974012\n",
      "  -0.01107147  0.1159215  -0.03629768 -0.25777796 -0.28152263 -0.01293543\n",
      "  -0.22639096 -0.07662453 -0.20283169 -0.10833508  0.1978386   0.0397051\n",
      "  -0.07002366 -0.03356744 -0.0925791   0.11273035 -0.17686659 -0.09221333\n",
      "   0.22985879 -0.18317561  0.10006317 -0.07345374  0.01800492  0.26868495\n",
      "   0.20242998  0.02337235  0.2576377  -0.03807802  0.1353817  -0.03603704\n",
      "  -0.24880803 -0.11193603  0.216768   -0.09586635 -0.04489894  0.18777582\n",
      "   0.19220832  0.06730658 -0.09146143  0.03330937 -0.07541946  0.09737837\n",
      "  -0.17701858 -0.16005917 -0.03963591  0.2003363   0.18180478 -0.24415205\n",
      "   0.25665382 -0.19060384  0.17741051 -0.10668616]\n",
      " [-0.09878318 -0.00723726  0.25204924  0.27422455 -0.11329114  0.1518918\n",
      "   0.23845878  0.18024644 -0.04616848  0.03071123  0.18550488 -0.13973103\n",
      "   0.27964172 -0.25400415  0.12601787  0.27501062 -0.00077254  0.13969639\n",
      "  -0.02199215  0.15237758 -0.12928833  0.03447545 -0.07436235  0.15083191\n",
      "  -0.05588005  0.04898071  0.0614565  -0.06058519 -0.03195319  0.25664666\n",
      "   0.16095594  0.07352069  0.21793768  0.10501513 -0.24267751  0.03906488\n",
      "  -0.20267975  0.25589624  0.16158873  0.274038    0.09493974  0.17382857\n",
      "   0.16435194 -0.23880662  0.04516247 -0.1409421  -0.11309166  0.2714546\n",
      "  -0.12734869 -0.03950892  0.19348156  0.00599861  0.01102561 -0.08754447\n",
      "   0.02563763 -0.0612824  -0.0859089  -0.04302499  0.07820481  0.2494016\n",
      "  -0.16511282 -0.271918   -0.09073779 -0.14518261]\n",
      " [-0.14322808  0.06819981 -0.2074816  -0.18847889  0.04012662  0.03752053\n",
      "   0.18866014 -0.24274442 -0.18660003  0.12991121  0.08229521  0.20349154\n",
      "   0.21707475 -0.03134215 -0.23272459 -0.0264225  -0.08962652 -0.21003988\n",
      "  -0.10234651 -0.11262123 -0.17549619  0.18819323  0.11993241  0.24596205\n",
      "  -0.27126786  0.12929812  0.23606113  0.05864197 -0.07788961 -0.07238381\n",
      "   0.21487072 -0.08360006 -0.19234136  0.196668   -0.17712831  0.03069234\n",
      "   0.1606735  -0.00505999 -0.19106907 -0.0760926  -0.2495521  -0.17076103\n",
      "   0.1909433  -0.10604404  0.13843447  0.20292044 -0.10697956 -0.1841425\n",
      "   0.27654985 -0.2438244  -0.18397835  0.08316126 -0.09328184 -0.16048226\n",
      "   0.08302027  0.2641776  -0.2063793  -0.05212878 -0.11264127 -0.06589481\n",
      "   0.08479044  0.1222291  -0.00951374  0.07433081]\n",
      " [-0.11376791 -0.04823636  0.25207612  0.00041878 -0.08814235 -0.19027266\n",
      "   0.04947796  0.04494324  0.18947384  0.18685377 -0.10573775 -0.1983279\n",
      "   0.10469306  0.21226448 -0.06877281 -0.1528284  -0.18044469 -0.04593284\n",
      "   0.17163885 -0.09734203 -0.2606148  -0.06745222  0.2746341  -0.06526706\n",
      "  -0.20415562 -0.05229892 -0.02819893  0.03264615 -0.05538028  0.18197763\n",
      "  -0.07334739 -0.14051078  0.12315443  0.19868591  0.2345179   0.08313462\n",
      "  -0.16824031  0.13774711 -0.15817532 -0.01024896  0.07824358 -0.17781264\n",
      "  -0.2644823   0.05171439  0.1640841   0.18223697  0.21341878  0.14308992\n",
      "  -0.06907721  0.05089992  0.0312362   0.28052428  0.22127083 -0.21100129\n",
      "  -0.27171603 -0.00964379  0.12764823 -0.00464237 -0.02596799 -0.13258798\n",
      "  -0.03415136  0.27282992 -0.19642948  0.12572777]\n",
      " [ 0.24760047  0.2092906   0.12302354  0.05362576  0.04992634  0.1305764\n",
      "  -0.26472145  0.13216314  0.09859484  0.1464141  -0.24826248 -0.21040814\n",
      "  -0.01732007 -0.11375509  0.2458044   0.14319947 -0.2587844  -0.28025565\n",
      "  -0.13196097 -0.06302378  0.21921131 -0.28240198 -0.08206053  0.0171721\n",
      "  -0.04022239 -0.00530469  0.08581996 -0.05511904  0.0413864   0.13115445\n",
      "  -0.19998303 -0.14425485  0.13685852 -0.06133534  0.0966596  -0.149553\n",
      "   0.10904673  0.00481647 -0.15626495 -0.19224986  0.04543018  0.19813105\n",
      "  -0.26647222 -0.11906789 -0.0016343  -0.19930558 -0.27665085 -0.16433711\n",
      "   0.03957847  0.12499812  0.01507872 -0.02314031 -0.18146592  0.1445229\n",
      "  -0.07728796  0.25115767  0.04479489 -0.23942466  0.13145912  0.04163191\n",
      "   0.00495747 -0.20116106  0.00647989 -0.12145421]\n",
      " [ 0.13709292  0.24479046  0.12123492  0.2745013   0.25252768  0.20290431\n",
      "   0.11882284 -0.26568827 -0.03105205 -0.08870536  0.14174539 -0.20783678\n",
      "  -0.0089041  -0.1897698   0.08269536  0.0168193  -0.0862866   0.03252542\n",
      "   0.12863928 -0.07317874  0.13825017 -0.1004824   0.020152   -0.13758877\n",
      "  -0.02938661 -0.02585846  0.17387262  0.06594208  0.2167987  -0.17551932\n",
      "   0.08355507 -0.23300809  0.05497062  0.25968376  0.27078703  0.07629046\n",
      "  -0.27824932  0.02189931  0.03778097  0.19415632  0.18314594 -0.02188838\n",
      "   0.23144647  0.20788512  0.09906828 -0.17883238 -0.12010504 -0.22062021\n",
      "  -0.16678816 -0.07136224 -0.25846553 -0.05901894 -0.19262102 -0.0472545\n",
      "   0.05160266  0.10757804  0.1673379  -0.23266512 -0.01736465 -0.18855205\n",
      "   0.18390417 -0.16868006  0.18271562  0.18833533]\n",
      " [ 0.19477266 -0.02202156 -0.07907976  0.06645977  0.15526778 -0.24697495\n",
      "   0.25829282  0.06598356 -0.18004677  0.13945436 -0.02282262  0.01858243\n",
      "  -0.10546234  0.19220239 -0.08553903  0.08279428 -0.14135602 -0.04705591\n",
      "   0.21910414  0.13570118  0.12917483  0.13800591 -0.26954678 -0.22295246\n",
      "   0.03898457 -0.14000854 -0.03104484  0.14802575 -0.04210275  0.01172438\n",
      "  -0.19328748  0.05228522  0.02938822 -0.11437866  0.15090859 -0.1732448\n",
      "   0.04955134 -0.08365698 -0.04112771  0.1179418  -0.24580292  0.2716103\n",
      "  -0.01462483 -0.21461871 -0.03271869  0.19236639  0.258512   -0.13651533\n",
      "  -0.00687155  0.15521938 -0.15198822 -0.23605062  0.02954459 -0.23819485\n",
      "  -0.24796125  0.21854708 -0.2795575  -0.03935242 -0.01129833 -0.27805457\n",
      "  -0.14852652 -0.13641573  0.1429787  -0.2116381 ]\n",
      " [ 0.26174763  0.25094786  0.24836388 -0.2305927   0.03260925  0.07762763\n",
      "   0.08142993  0.09233439 -0.04227309  0.09360653  0.04248983 -0.21886428\n",
      "   0.13598731  0.15374896  0.01524711 -0.25748733  0.00278196 -0.1348033\n",
      "  -0.23504159 -0.2447589  -0.06100363 -0.27823725  0.19454789 -0.19899768\n",
      "  -0.08436984 -0.19997722 -0.13000052 -0.16518909  0.11352351  0.18404761\n",
      "  -0.15017523 -0.0139817  -0.06998353  0.16756335  0.13774487  0.16902101\n",
      "  -0.23866318  0.13605362 -0.09392807 -0.19898115 -0.21268845  0.09246466\n",
      "  -0.06291938 -0.11092626  0.1911543  -0.11362535 -0.07904261 -0.26207432\n",
      "   0.13862935 -0.11156325  0.18021142 -0.04657443  0.1274125  -0.12964533\n",
      "   0.17019802  0.20643494 -0.16390842  0.28051963 -0.17953587  0.2158367\n",
      "   0.08933252  0.25221696  0.2534397  -0.11580896]\n",
      " [-0.17519388 -0.10404742 -0.05079836  0.08671865 -0.27130172 -0.1739124\n",
      "  -0.09602435  0.22661814 -0.12274019 -0.15845841 -0.25227398  0.08254653\n",
      "   0.10999444 -0.26806787 -0.04200105  0.2329571   0.1846163  -0.1309628\n",
      "   0.0376223  -0.02135348 -0.05691382  0.28011963  0.2166081  -0.00816146\n",
      "   0.10393152  0.15013188 -0.10722637 -0.01439211 -0.25795344  0.00185049\n",
      "   0.24490538  0.12236443 -0.17983353 -0.23557204  0.15343997 -0.05180179\n",
      "   0.28066936 -0.04348658  0.25745085 -0.00964528 -0.06576763 -0.28079405\n",
      "   0.15217084 -0.02434194 -0.25893325 -0.13455561  0.09698442  0.09385255\n",
      "   0.27653834  0.19630128 -0.11399651  0.06128207  0.08354172  0.01158938\n",
      "  -0.17129168 -0.08425492 -0.27588087 -0.24241763  0.12404406 -0.17043121\n",
      "  -0.23479532  0.19023356  0.12719461  0.11169684]\n",
      " [-0.16961315  0.2232826  -0.07426214  0.26437768  0.0359928  -0.02543607\n",
      "  -0.07822044  0.1925295  -0.07362987  0.10843325  0.23848346  0.03029704\n",
      "   0.25931123 -0.2740422  -0.23613167  0.02186841  0.12950426 -0.01554745\n",
      "  -0.07370824  0.22244266  0.26900634  0.23986235  0.15876988 -0.01226643\n",
      "  -0.13812669 -0.18203501 -0.2621686   0.06825477  0.10648593 -0.09646808\n",
      "  -0.03181237 -0.23714219 -0.25081927  0.23284706  0.14638916 -0.12660624\n",
      "   0.2774305   0.04472899 -0.16990575 -0.21999219 -0.13899216  0.24541327\n",
      "   0.08154756 -0.0315837  -0.00757167 -0.15512921  0.197563   -0.08251166\n",
      "  -0.06596191  0.22236398  0.238969   -0.10779998  0.17628881  0.02219337\n",
      "  -0.00065184 -0.14606372  0.20211107  0.03049859  0.27570817 -0.04099485\n",
      "   0.0799627  -0.08169192 -0.13473344 -0.03812476]\n",
      " [ 0.2278355   0.20539239  0.13811374  0.23519167 -0.13969705 -0.22035877\n",
      "  -0.19150415 -0.04088467  0.25577495  0.02376664  0.03739342 -0.26184145\n",
      "   0.03673372  0.2728165  -0.0783073   0.1849348   0.01215002  0.14449754\n",
      "  -0.18327838 -0.12480937  0.06184724 -0.21006814  0.14720216  0.2110593\n",
      "   0.05086923  0.21696955 -0.13154383 -0.05923824 -0.06001967  0.0416005\n",
      "  -0.15637837  0.16845968  0.01880854  0.12687233  0.20885888 -0.16072834\n",
      "  -0.08196355  0.22296026 -0.01405776  0.14259365 -0.28140056  0.23251072\n",
      "   0.28200814 -0.16397189 -0.03837225 -0.04263596  0.12323549 -0.27685806\n",
      "   0.06176388 -0.23492897 -0.01414698  0.22215721  0.25228754 -0.27849418\n",
      "  -0.15761648 -0.1357163   0.18594563 -0.03540213  0.24398765 -0.12707053\n",
      "  -0.24821629  0.18262899  0.04321381 -0.14586075]]>, <Variable path=sequential_1/dense_2/bias, shape=(64,), dtype=float32, value=[0. 0. 0. 0. 0. 0. 0. 0. 0. 0. 0. 0. 0. 0. 0. 0. 0. 0. 0. 0. 0. 0. 0. 0.\n",
      " 0. 0. 0. 0. 0. 0. 0. 0. 0. 0. 0. 0. 0. 0. 0. 0. 0. 0. 0. 0. 0. 0. 0. 0.\n",
      " 0. 0. 0. 0. 0. 0. 0. 0. 0. 0. 0. 0. 0. 0. 0. 0.]>, <Variable path=sequential_1/dense_3/kernel, shape=(64, 4), dtype=float32, value=[[-2.17545792e-01  4.30780649e-02  2.02937633e-01  2.87831843e-01]\n",
      " [-2.87404001e-01 -2.74165511e-01 -2.93081433e-01 -9.30863619e-03]\n",
      " [ 2.06706703e-01 -9.24219489e-02 -1.77420378e-02  2.24477947e-01]\n",
      " [ 2.91127682e-01 -2.67356247e-01  2.97017634e-01  1.95205003e-01]\n",
      " [-5.04407287e-03 -1.36592925e-01 -1.76522732e-01  1.72593087e-01]\n",
      " [-6.72936440e-05  2.20603883e-01 -5.38508445e-02  9.87938344e-02]\n",
      " [ 1.63633823e-02  1.23549074e-01 -9.53549296e-02 -2.47525275e-02]\n",
      " [-2.22193688e-01 -1.38564706e-02  2.12361217e-02  1.37127638e-01]\n",
      " [-2.91254878e-01 -3.52677405e-02 -2.91300058e-01 -2.64445275e-01]\n",
      " [-7.57265687e-02  1.80440456e-01  8.70090425e-02 -2.75656432e-01]\n",
      " [ 9.83283520e-02  8.63727033e-02  1.32045150e-03 -2.23504871e-01]\n",
      " [ 2.85946369e-01  4.48515117e-02  4.82763350e-02  1.06487036e-01]\n",
      " [ 1.91618264e-01  1.12729698e-01  2.65453398e-01 -8.57021809e-02]\n",
      " [-2.11811423e-01 -1.13874435e-01 -1.88236296e-01 -1.66599303e-01]\n",
      " [ 1.51839525e-01 -2.14540929e-01 -2.66030729e-02 -2.93173999e-01]\n",
      " [-2.22313702e-02 -2.24566132e-01 -1.66983590e-01  1.17208898e-01]\n",
      " [ 2.34057188e-01  1.65748328e-01  1.09234750e-01  1.99362189e-01]\n",
      " [-1.37808144e-01  1.15280658e-01  9.01265740e-02  5.46499789e-02]\n",
      " [-6.95384443e-02 -1.52638853e-02  1.65062487e-01  2.96273053e-01]\n",
      " [-4.03317809e-02 -2.12458879e-01  1.62637651e-01 -2.18907297e-02]\n",
      " [ 2.83199370e-01 -1.40597224e-02 -1.65803492e-01 -1.88790962e-01]\n",
      " [ 8.66756141e-02  2.65861273e-01 -1.73307747e-01 -5.37459552e-02]\n",
      " [-5.29634655e-02 -3.63155305e-02  1.99935555e-01  2.35040128e-01]\n",
      " [-1.51313826e-01 -1.61151588e-02  2.28891909e-01 -2.89505810e-01]\n",
      " [ 2.33307898e-01 -1.31811604e-01  2.08993614e-01 -2.05525368e-01]\n",
      " [ 1.79850459e-02  2.82892764e-01  1.41010463e-01  1.28141671e-01]\n",
      " [-2.35531032e-01 -2.15443403e-01 -1.60181522e-01 -4.74357605e-03]\n",
      " [-2.30668619e-01 -1.63422137e-01  4.79611754e-02  2.63401270e-01]\n",
      " [ 5.28590083e-02  2.47833073e-01  6.98248446e-02  4.64548767e-02]\n",
      " [-2.63829350e-01 -1.89628914e-01  1.47824138e-01 -6.59461319e-02]\n",
      " [-3.24383080e-02  2.23146915e-01  1.51241094e-01  1.57241613e-01]\n",
      " [ 9.80087221e-02  2.78475165e-01  1.91904604e-01 -1.71902373e-01]\n",
      " [ 1.00385755e-01 -2.31085688e-01  2.08651781e-01 -5.74779361e-02]\n",
      " [-2.82733798e-01  2.18330920e-01 -5.80457747e-02 -1.39109626e-01]\n",
      " [ 7.29829073e-03  4.61982191e-02  2.04118729e-01 -2.38904595e-01]\n",
      " [ 7.86124468e-02  1.86706692e-01 -1.82198882e-01 -5.35384566e-02]\n",
      " [-2.96170980e-01 -2.80227572e-01 -4.22474742e-02 -1.99295759e-01]\n",
      " [ 8.81985426e-02  2.20520556e-01  3.80707383e-02  1.51785642e-01]\n",
      " [ 2.23444462e-01  1.20851934e-01 -4.78893518e-02  2.75516510e-02]\n",
      " [-8.57838392e-02 -8.45354795e-03  4.11144793e-02  1.39270037e-01]\n",
      " [-1.15332574e-01  1.90940022e-01 -2.69134820e-01  2.13721514e-01]\n",
      " [-2.04872891e-01  1.69610113e-01 -1.76135197e-01  2.25473225e-01]\n",
      " [-3.19846272e-02  7.80831873e-02 -1.18556619e-01  9.96872485e-02]\n",
      " [ 1.83609635e-01  9.34722126e-02  2.79066563e-01 -7.29957223e-03]\n",
      " [ 5.06392717e-02  1.14756376e-01  2.18794882e-01  9.75107253e-02]\n",
      " [ 8.57046247e-03 -2.58117080e-01 -6.43478483e-02  6.71815276e-02]\n",
      " [ 2.20484436e-01 -2.43916094e-01  5.57711422e-02  2.54148722e-01]\n",
      " [ 1.83563530e-02  1.38718963e-01  1.83198810e-01  2.48050272e-01]\n",
      " [ 2.74663866e-01  1.26101017e-01 -4.28910255e-02 -9.94109809e-02]\n",
      " [ 8.17697048e-02 -1.16643041e-01  4.84384298e-02  1.20697528e-01]\n",
      " [ 2.93860316e-01 -1.99385196e-01 -9.87881422e-03 -1.08515576e-01]\n",
      " [-9.14839208e-02  2.81750500e-01  9.88866985e-02 -4.42272723e-02]\n",
      " [ 2.70335555e-01  1.12737060e-01 -2.89259076e-01  1.37815446e-01]\n",
      " [-2.08831280e-01  2.61186838e-01 -1.49451196e-02  2.40886986e-01]\n",
      " [ 2.80672431e-01  1.20826006e-01 -2.02812552e-02  1.69863522e-01]\n",
      " [ 2.00067490e-01  5.82374930e-02  1.45140380e-01  2.77068913e-01]\n",
      " [-2.50232041e-01  2.84230173e-01  6.17567301e-02  1.17529929e-02]\n",
      " [ 2.13557005e-01 -1.44681022e-01  9.38186049e-03  1.03550732e-01]\n",
      " [ 2.73708284e-01  2.10287929e-01 -2.07246169e-01 -1.66955888e-02]\n",
      " [-1.94074273e-01 -1.27059028e-01 -9.52596664e-02 -6.47049248e-02]\n",
      " [ 2.67325282e-01 -1.47164509e-01  1.69544190e-01 -1.44225925e-01]\n",
      " [-2.76602030e-01 -2.36888170e-01  7.61720240e-02 -1.89540595e-01]\n",
      " [ 6.56041503e-03 -2.05158368e-01 -8.58627260e-02 -1.03999257e-01]\n",
      " [ 2.92652190e-01  8.40762854e-02  2.34296679e-01 -2.87467957e-01]]>, <Variable path=sequential_1/dense_3/bias, shape=(4,), dtype=float32, value=[0. 0. 0. 0.]>]\n"
     ]
    }
   ],
   "source": [
    "# the weights will be created now\n",
    "print(model.weights)"
   ]
  },
  {
   "cell_type": "code",
   "execution_count": 23,
   "metadata": {},
   "outputs": [
    {
     "data": {
      "text/plain": [
       "list"
      ]
     },
     "execution_count": 23,
     "metadata": {},
     "output_type": "execute_result"
    }
   ],
   "source": [
    "type(model.weights)"
   ]
  },
  {
   "cell_type": "code",
   "execution_count": 24,
   "metadata": {},
   "outputs": [
    {
     "name": "stdout",
     "output_type": "stream",
     "text": [
      "(11, 64)\n",
      "(64,)\n",
      "(64, 4)\n",
      "(4,)\n"
     ]
    }
   ],
   "source": [
    "for param in model.weights:\n",
    "    print(param.shape)"
   ]
  },
  {
   "cell_type": "markdown",
   "metadata": {},
   "source": [
    "The diagram below shows how the model's outputs look like for each layer,\n",
    "- For the first layer, if an observation of dimension `1x11` is passed then an output of dimension `1x64` will be generated. Similarly it will be done for `m` observations.\n",
    "- For the second layer, when an input of dimension `(1, 64)` is passed then an output of dimension `1x4` will be generated. Similarly it will be done for `m` observations.\n",
    "\n",
    "<img src = \"../artifacts/neural_networks_58.png\" alt = \"drawing\" width = \"500\">"
   ]
  },
  {
   "cell_type": "markdown",
   "metadata": {},
   "source": [
    "### Alternative way to define the same model using `model.add()`\n",
    "Instead of passing the list of layers as an argument will creating a model instance, the `add()` method can be used."
   ]
  },
  {
   "cell_type": "code",
   "execution_count": 25,
   "metadata": {},
   "outputs": [],
   "source": [
    "model = Sequential()\n",
    "model.add(Dense(64, activation = \"relu\", input_shape = (11, )))\n",
    "model.add(Dense(4, activation = \"softmax\"))"
   ]
  },
  {
   "cell_type": "markdown",
   "metadata": {},
   "source": [
    "### What to choose (list of layers or `add()`)?\n",
    "This is a choice that is left to the user. If the model depends on a condition or may add some $x$ number of similar layers in the loop, `model.add` can be used. The condition can be checked using `if` and layer to the model can be added using `add()` method."
   ]
  },
  {
   "cell_type": "markdown",
   "metadata": {},
   "source": [
    "### What if the input had been a multi-dimensional data?"
   ]
  },
  {
   "cell_type": "code",
   "execution_count": 26,
   "metadata": {},
   "outputs": [
    {
     "name": "stderr",
     "output_type": "stream",
     "text": [
      "/Library/Frameworks/Python.framework/Versions/3.11/lib/python3.11/site-packages/keras/src/layers/reshaping/flatten.py:37: UserWarning: Do not pass an `input_shape`/`input_dim` argument to a layer. When using Sequential models, prefer using an `Input(shape)` object as the first layer in the model instead.\n",
      "  super().__init__(**kwargs)\n"
     ]
    }
   ],
   "source": [
    "from tensorflow.keras.models import Sequential\n",
    "from tensorflow.keras.layers import Dense, Flatten\n",
    "\n",
    "model_2d = Sequential(\n",
    "    [\n",
    "        Flatten(input_shape = (28, 28)), # flatten the data to make it (784, ) to be based further\n",
    "        Dense(64, activation = \"relu\"),\n",
    "        Dense(4, activation = \"softmax\")\n",
    "\n",
    "    ]\n",
    ")"
   ]
  },
  {
   "cell_type": "markdown",
   "metadata": {},
   "source": [
    "Note: Multi-dimensional input can also be passed directly."
   ]
  },
  {
   "cell_type": "markdown",
   "metadata": {},
   "source": [
    "# Model summary\n",
    "There is another short way to check the dimensions and parameters of each layer. This can be done by printing the model summary."
   ]
  },
  {
   "cell_type": "code",
   "execution_count": 27,
   "metadata": {},
   "outputs": [
    {
     "data": {
      "text/html": [
       "<pre style=\"white-space:pre;overflow-x:auto;line-height:normal;font-family:Menlo,'DejaVu Sans Mono',consolas,'Courier New',monospace\"><span style=\"font-weight: bold\">Model: \"sequential_2\"</span>\n",
       "</pre>\n"
      ],
      "text/plain": [
       "\u001b[1mModel: \"sequential_2\"\u001b[0m\n"
      ]
     },
     "metadata": {},
     "output_type": "display_data"
    },
    {
     "data": {
      "text/html": [
       "<pre style=\"white-space:pre;overflow-x:auto;line-height:normal;font-family:Menlo,'DejaVu Sans Mono',consolas,'Courier New',monospace\">┏━━━━━━━━━━━━━━━━━━━━━━━━━━━━━━━━━┳━━━━━━━━━━━━━━━━━━━━━━━━┳━━━━━━━━━━━━━━━┓\n",
       "┃<span style=\"font-weight: bold\"> Layer (type)                    </span>┃<span style=\"font-weight: bold\"> Output Shape           </span>┃<span style=\"font-weight: bold\">       Param # </span>┃\n",
       "┡━━━━━━━━━━━━━━━━━━━━━━━━━━━━━━━━━╇━━━━━━━━━━━━━━━━━━━━━━━━╇━━━━━━━━━━━━━━━┩\n",
       "│ dense_4 (<span style=\"color: #0087ff; text-decoration-color: #0087ff\">Dense</span>)                 │ (<span style=\"color: #00d7ff; text-decoration-color: #00d7ff\">None</span>, <span style=\"color: #00af00; text-decoration-color: #00af00\">64</span>)             │           <span style=\"color: #00af00; text-decoration-color: #00af00\">768</span> │\n",
       "├─────────────────────────────────┼────────────────────────┼───────────────┤\n",
       "│ dense_5 (<span style=\"color: #0087ff; text-decoration-color: #0087ff\">Dense</span>)                 │ (<span style=\"color: #00d7ff; text-decoration-color: #00d7ff\">None</span>, <span style=\"color: #00af00; text-decoration-color: #00af00\">4</span>)              │           <span style=\"color: #00af00; text-decoration-color: #00af00\">260</span> │\n",
       "└─────────────────────────────────┴────────────────────────┴───────────────┘\n",
       "</pre>\n"
      ],
      "text/plain": [
       "┏━━━━━━━━━━━━━━━━━━━━━━━━━━━━━━━━━┳━━━━━━━━━━━━━━━━━━━━━━━━┳━━━━━━━━━━━━━━━┓\n",
       "┃\u001b[1m \u001b[0m\u001b[1mLayer (type)                   \u001b[0m\u001b[1m \u001b[0m┃\u001b[1m \u001b[0m\u001b[1mOutput Shape          \u001b[0m\u001b[1m \u001b[0m┃\u001b[1m \u001b[0m\u001b[1m      Param #\u001b[0m\u001b[1m \u001b[0m┃\n",
       "┡━━━━━━━━━━━━━━━━━━━━━━━━━━━━━━━━━╇━━━━━━━━━━━━━━━━━━━━━━━━╇━━━━━━━━━━━━━━━┩\n",
       "│ dense_4 (\u001b[38;5;33mDense\u001b[0m)                 │ (\u001b[38;5;45mNone\u001b[0m, \u001b[38;5;34m64\u001b[0m)             │           \u001b[38;5;34m768\u001b[0m │\n",
       "├─────────────────────────────────┼────────────────────────┼───────────────┤\n",
       "│ dense_5 (\u001b[38;5;33mDense\u001b[0m)                 │ (\u001b[38;5;45mNone\u001b[0m, \u001b[38;5;34m4\u001b[0m)              │           \u001b[38;5;34m260\u001b[0m │\n",
       "└─────────────────────────────────┴────────────────────────┴───────────────┘\n"
      ]
     },
     "metadata": {},
     "output_type": "display_data"
    },
    {
     "data": {
      "text/html": [
       "<pre style=\"white-space:pre;overflow-x:auto;line-height:normal;font-family:Menlo,'DejaVu Sans Mono',consolas,'Courier New',monospace\"><span style=\"font-weight: bold\"> Total params: </span><span style=\"color: #00af00; text-decoration-color: #00af00\">1,028</span> (4.02 KB)\n",
       "</pre>\n"
      ],
      "text/plain": [
       "\u001b[1m Total params: \u001b[0m\u001b[38;5;34m1,028\u001b[0m (4.02 KB)\n"
      ]
     },
     "metadata": {},
     "output_type": "display_data"
    },
    {
     "data": {
      "text/html": [
       "<pre style=\"white-space:pre;overflow-x:auto;line-height:normal;font-family:Menlo,'DejaVu Sans Mono',consolas,'Courier New',monospace\"><span style=\"font-weight: bold\"> Trainable params: </span><span style=\"color: #00af00; text-decoration-color: #00af00\">1,028</span> (4.02 KB)\n",
       "</pre>\n"
      ],
      "text/plain": [
       "\u001b[1m Trainable params: \u001b[0m\u001b[38;5;34m1,028\u001b[0m (4.02 KB)\n"
      ]
     },
     "metadata": {},
     "output_type": "display_data"
    },
    {
     "data": {
      "text/html": [
       "<pre style=\"white-space:pre;overflow-x:auto;line-height:normal;font-family:Menlo,'DejaVu Sans Mono',consolas,'Courier New',monospace\"><span style=\"font-weight: bold\"> Non-trainable params: </span><span style=\"color: #00af00; text-decoration-color: #00af00\">0</span> (0.00 B)\n",
       "</pre>\n"
      ],
      "text/plain": [
       "\u001b[1m Non-trainable params: \u001b[0m\u001b[38;5;34m0\u001b[0m (0.00 B)\n"
      ]
     },
     "metadata": {},
     "output_type": "display_data"
    }
   ],
   "source": [
    "model.summary()"
   ]
  },
  {
   "cell_type": "markdown",
   "metadata": {},
   "source": [
    "How are number of parameters computed in the above summary?\n",
    "- Input is of shape `11 * (batch_size)` which is densly connected to 64 Neurons. So parameters are computed as, `(11 * 64) weights + 64 biases = 768`.\n",
    "- Similarly, for the second layer, `4 * 64 + 4 = 260`\n",
    "\n",
    "What does `None` represent in the above model's `Output Shape`?\n",
    "- None makes the model capable of handling the multiple points.\n",
    "- In the image seen above, where the dimension were being calculated, the dimensions were were calculated for a single example.\n",
    "- But in an ideal scenario, there will be multiple points aand the number of points were not defined while defining the model. Therefore, the model is keeping it `None` for handling multiple number of passed observations."
   ]
  },
  {
   "cell_type": "markdown",
   "metadata": {},
   "source": [
    "### Assigning custom names to the layers\n",
    "As seen in the model summary, Keras has assigned the names by itself. At times, there may be need to assign custome names to the layers as well."
   ]
  },
  {
   "cell_type": "code",
   "execution_count": 28,
   "metadata": {},
   "outputs": [],
   "source": [
    "model = Sequential(\n",
    "    [\n",
    "        Dense(64, activation = \"relu\", input_shape = (11, ), name = \"hidden_1\"),\n",
    "        Dense(4, activation = \"softmax\", name = \"output\")\n",
    "    ]\n",
    ")"
   ]
  },
  {
   "cell_type": "code",
   "execution_count": 29,
   "metadata": {},
   "outputs": [
    {
     "data": {
      "text/html": [
       "<pre style=\"white-space:pre;overflow-x:auto;line-height:normal;font-family:Menlo,'DejaVu Sans Mono',consolas,'Courier New',monospace\"><span style=\"font-weight: bold\">Model: \"sequential_4\"</span>\n",
       "</pre>\n"
      ],
      "text/plain": [
       "\u001b[1mModel: \"sequential_4\"\u001b[0m\n"
      ]
     },
     "metadata": {},
     "output_type": "display_data"
    },
    {
     "data": {
      "text/html": [
       "<pre style=\"white-space:pre;overflow-x:auto;line-height:normal;font-family:Menlo,'DejaVu Sans Mono',consolas,'Courier New',monospace\">┏━━━━━━━━━━━━━━━━━━━━━━━━━━━━━━━━━┳━━━━━━━━━━━━━━━━━━━━━━━━┳━━━━━━━━━━━━━━━┓\n",
       "┃<span style=\"font-weight: bold\"> Layer (type)                    </span>┃<span style=\"font-weight: bold\"> Output Shape           </span>┃<span style=\"font-weight: bold\">       Param # </span>┃\n",
       "┡━━━━━━━━━━━━━━━━━━━━━━━━━━━━━━━━━╇━━━━━━━━━━━━━━━━━━━━━━━━╇━━━━━━━━━━━━━━━┩\n",
       "│ hidden_1 (<span style=\"color: #0087ff; text-decoration-color: #0087ff\">Dense</span>)                │ (<span style=\"color: #00d7ff; text-decoration-color: #00d7ff\">None</span>, <span style=\"color: #00af00; text-decoration-color: #00af00\">64</span>)             │           <span style=\"color: #00af00; text-decoration-color: #00af00\">768</span> │\n",
       "├─────────────────────────────────┼────────────────────────┼───────────────┤\n",
       "│ output (<span style=\"color: #0087ff; text-decoration-color: #0087ff\">Dense</span>)                  │ (<span style=\"color: #00d7ff; text-decoration-color: #00d7ff\">None</span>, <span style=\"color: #00af00; text-decoration-color: #00af00\">4</span>)              │           <span style=\"color: #00af00; text-decoration-color: #00af00\">260</span> │\n",
       "└─────────────────────────────────┴────────────────────────┴───────────────┘\n",
       "</pre>\n"
      ],
      "text/plain": [
       "┏━━━━━━━━━━━━━━━━━━━━━━━━━━━━━━━━━┳━━━━━━━━━━━━━━━━━━━━━━━━┳━━━━━━━━━━━━━━━┓\n",
       "┃\u001b[1m \u001b[0m\u001b[1mLayer (type)                   \u001b[0m\u001b[1m \u001b[0m┃\u001b[1m \u001b[0m\u001b[1mOutput Shape          \u001b[0m\u001b[1m \u001b[0m┃\u001b[1m \u001b[0m\u001b[1m      Param #\u001b[0m\u001b[1m \u001b[0m┃\n",
       "┡━━━━━━━━━━━━━━━━━━━━━━━━━━━━━━━━━╇━━━━━━━━━━━━━━━━━━━━━━━━╇━━━━━━━━━━━━━━━┩\n",
       "│ hidden_1 (\u001b[38;5;33mDense\u001b[0m)                │ (\u001b[38;5;45mNone\u001b[0m, \u001b[38;5;34m64\u001b[0m)             │           \u001b[38;5;34m768\u001b[0m │\n",
       "├─────────────────────────────────┼────────────────────────┼───────────────┤\n",
       "│ output (\u001b[38;5;33mDense\u001b[0m)                  │ (\u001b[38;5;45mNone\u001b[0m, \u001b[38;5;34m4\u001b[0m)              │           \u001b[38;5;34m260\u001b[0m │\n",
       "└─────────────────────────────────┴────────────────────────┴───────────────┘\n"
      ]
     },
     "metadata": {},
     "output_type": "display_data"
    },
    {
     "data": {
      "text/html": [
       "<pre style=\"white-space:pre;overflow-x:auto;line-height:normal;font-family:Menlo,'DejaVu Sans Mono',consolas,'Courier New',monospace\"><span style=\"font-weight: bold\"> Total params: </span><span style=\"color: #00af00; text-decoration-color: #00af00\">1,028</span> (4.02 KB)\n",
       "</pre>\n"
      ],
      "text/plain": [
       "\u001b[1m Total params: \u001b[0m\u001b[38;5;34m1,028\u001b[0m (4.02 KB)\n"
      ]
     },
     "metadata": {},
     "output_type": "display_data"
    },
    {
     "data": {
      "text/html": [
       "<pre style=\"white-space:pre;overflow-x:auto;line-height:normal;font-family:Menlo,'DejaVu Sans Mono',consolas,'Courier New',monospace\"><span style=\"font-weight: bold\"> Trainable params: </span><span style=\"color: #00af00; text-decoration-color: #00af00\">1,028</span> (4.02 KB)\n",
       "</pre>\n"
      ],
      "text/plain": [
       "\u001b[1m Trainable params: \u001b[0m\u001b[38;5;34m1,028\u001b[0m (4.02 KB)\n"
      ]
     },
     "metadata": {},
     "output_type": "display_data"
    },
    {
     "data": {
      "text/html": [
       "<pre style=\"white-space:pre;overflow-x:auto;line-height:normal;font-family:Menlo,'DejaVu Sans Mono',consolas,'Courier New',monospace\"><span style=\"font-weight: bold\"> Non-trainable params: </span><span style=\"color: #00af00; text-decoration-color: #00af00\">0</span> (0.00 B)\n",
       "</pre>\n"
      ],
      "text/plain": [
       "\u001b[1m Non-trainable params: \u001b[0m\u001b[38;5;34m0\u001b[0m (0.00 B)\n"
      ]
     },
     "metadata": {},
     "output_type": "display_data"
    }
   ],
   "source": [
    "model.summary()"
   ]
  },
  {
   "cell_type": "markdown",
   "metadata": {},
   "source": [
    "The model can also be plotted as a graph and can be saved as a `.png` file."
   ]
  },
  {
   "cell_type": "code",
   "execution_count": 30,
   "metadata": {},
   "outputs": [
    {
     "data": {
      "image/png": "[encoded data removed]",
      "text/plain": [
       "<IPython.core.display.Image object>"
      ]
     },
     "execution_count": 30,
     "metadata": {},
     "output_type": "execute_result"
    }
   ],
   "source": [
    "from tensorflow.keras.utils import plot_model\n",
    "\n",
    "plot_model(\n",
    "    model,\n",
    "    to_file = \"model.png\",\n",
    "    show_shapes = True,\n",
    "    show_layer_names = True\n",
    ")"
   ]
  },
  {
   "cell_type": "markdown",
   "metadata": {},
   "source": [
    "From the plot it is observed that the first layer is the input layer and then the input and output shapes of each layers `hidden_1` and `output` are given"
   ]
  },
  {
   "cell_type": "markdown",
   "metadata": {},
   "source": [
    "### Weights and bias initializer\n",
    "When Neural Network was implemented from scratch, $w$ was initialized with `np.ranfdom.randn` and $b$ was initialized with `np.zeros`.\n",
    "\n",
    "The following are the various weight initialization techniques,\n",
    "- Glorot Normal: $w_{ij}^k \\sim N(0,\\sigma_{ij}). \\text{Where, } \\sigma_{ij} = \\frac{2}{fanin+fanout}$.\n",
    "- Glorot Uniform:  $w_{ij}^k \\sim \\text{Uniform }\\bigg[ \\frac{-\\sqrt{6}}{\\sqrt{fanin+fanout}}, \\frac{\\sqrt{6}}{\\sqrt{fanin+fanout}}\\bigg]$.\n",
    "- He Normal:  $N(0,\\sigma), \\text{Where, } \\sigma = \\frac{2}{fanin}$\n",
    "- He Uniform:  $\\text{Uniform }\\bigg[ \\frac{-\\sqrt{6}}{\\sqrt{fanin}}, \\frac{\\sqrt{6}}{\\sqrt{fanin}}\\bigg]$\n",
    "\n",
    "The end results of the classification and regression get affected by the initialization of the weights and biases.\n",
    "\n",
    "The following is how Keras implements them,\n",
    "- In the `Dense` layer of Keras,\n",
    "    1. The biases are set to 0 (`zeros`) by default.\n",
    "    2. The weights are set according to `glorot_uniform` (Glorot Uniform initializer) by default.\n",
    "- For example,\n",
    "    - $c = \\frac{\\sqrt{6}}{\\sqrt{11+64}} = 0.28$. For the first hidden layer of the model, $fanin$ (input) is 11 and $fanout$ (output) is 64.\n",
    "\n",
    "Note,\n",
    "- There are several researches proposing different ways of randomly initializing the weights of the layers.\n",
    "- But `glorot_uniform` has been most widely used one in most of the Deep Learning frameworks today.\n",
    "\n",
    "### What if there is need to custom initialize the weights and biases (maybe for research)?\n",
    "Each layer has optional arguments `kernel_initializer` and `bias_initializer` to set the weights and biases respectively."
   ]
  },
  {
   "cell_type": "code",
   "execution_count": 31,
   "metadata": {},
   "outputs": [
    {
     "name": "stderr",
     "output_type": "stream",
     "text": [
      "/Library/Frameworks/Python.framework/Versions/3.11/lib/python3.11/site-packages/keras/src/layers/core/dense.py:87: UserWarning: Do not pass an `input_shape`/`input_dim` argument to a layer. When using Sequential models, prefer using an `Input(shape)` object as the first layer in the model instead.\n",
      "  super().__init__(activity_regularizer=activity_regularizer, **kwargs)\n"
     ]
    }
   ],
   "source": [
    "model_x = Sequential(\n",
    "    [\n",
    "        Dense(64, activation = \"relu\", input_shape = (11, ), name = \"hidden_1\", kernel_initializer = \"random_uniform\", bias_initializer = \"zeros\"),\n",
    "        Dense(4, activation = \"softmax\", name = \"output\", kernel_initializer = \"he_uniform\", bias_initializer = \"ones\")\n",
    "    ]\n",
    ")"
   ]
  },
  {
   "cell_type": "markdown",
   "metadata": {},
   "source": [
    "A scratch approach can also be opted for by using `keras.initializer` module."
   ]
  },
  {
   "cell_type": "code",
   "execution_count": 32,
   "metadata": {},
   "outputs": [
    {
     "data": {
      "text/plain": [
       "<Dense name=dense_8, built=False>"
      ]
     },
     "execution_count": 32,
     "metadata": {},
     "output_type": "execute_result"
    }
   ],
   "source": [
    "Dense(\n",
    "    64,\n",
    "    kernel_initializer = tf.keras.initializers.RandomNormal(mean = 0.0, stddev = 0.05),\n",
    "    bias_initializer = tf.keras.initializers.Constant(value = 0.4),\n",
    "    activation = \"relu\"\n",
    ")"
   ]
  },
  {
   "cell_type": "markdown",
   "metadata": {},
   "source": [
    "The layers of the model can be retrieved as follows,"
   ]
  },
  {
   "cell_type": "code",
   "execution_count": 33,
   "metadata": {},
   "outputs": [
    {
     "data": {
      "text/plain": [
       "[<Dense name=hidden_1, built=True>, <Dense name=output, built=True>]"
      ]
     },
     "execution_count": 33,
     "metadata": {},
     "output_type": "execute_result"
    }
   ],
   "source": [
    "model.layers"
   ]
  },
  {
   "cell_type": "markdown",
   "metadata": {},
   "source": [
    "The following shows the histograms of initialized weights and biases."
   ]
  },
  {
   "cell_type": "code",
   "execution_count": 34,
   "metadata": {},
   "outputs": [
    {
     "data": {
      "image/png": "[encoded data removed]",
      "text/plain": [
       "<Figure size 500x500 with 4 Axes>"
      ]
     },
     "metadata": {},
     "output_type": "display_data"
    }
   ],
   "source": [
    "fig, axes = plt.subplots(2, 2, figsize = (5, 5))\n",
    "fig.subplots_adjust(hspace = 0.5, wspace = 0.5)\n",
    "# extracting weights from the layers\n",
    "weight_layers = [layer for layer in model.layers]\n",
    "for i, layer in enumerate(weight_layers):\n",
    "    for j in [0, 1]:\n",
    "        axes[i, j].hist(layer.weights[j].numpy().flatten(), align = \"left\")\n",
    "        axes[i, j].set_title(layer.weights[j].name)"
   ]
  },
  {
   "cell_type": "markdown",
   "metadata": {},
   "source": [
    "`model.layers` consists a list of layers.\n",
    "\n",
    "In the code, the weights and biases of all the layers are extracted using `layer.weights`, they are then converted to a `numpy` array and are then flattened to just get an array of initialized weights and biases.\n",
    "\n",
    "It is observed from the plot that all the biases are initialized to `0` by default."
   ]
  },
  {
   "cell_type": "markdown",
   "metadata": {},
   "source": [
    "# Model Compilation: Loss And Optimizer\n",
    "So far, the model's architecture has been defined. Now, the model has to be compiled.\n",
    "\n",
    "### What specific information should be passed to the model while compiling it?\n",
    "1. Loss function: To measure the model's performance as it trains.\n",
    "2. Optimizer (like gradient descent): To perform the gradient update.\n",
    "\n",
    "The above is done using 2 arguments of the `compile()` method, `optimizer` and `loss`.\n",
    "\n",
    "The following is an example of a binary classification,"
   ]
  },
  {
   "cell_type": "code",
   "execution_count": 35,
   "metadata": {},
   "outputs": [],
   "source": [
    "model_binary = Sequential(\n",
    "    [\n",
    "        Dense(64, activation = \"relu\", input_shape = (11, )),\n",
    "        Dense(1, activation = \"sigmoid\")\n",
    "    ]\n",
    ")\n",
    "\n",
    "model_binary.compile(\n",
    "    optimizer = \"adam\",\n",
    "    loss = \" binary_crossentropy\",\n",
    "    metrics = [\"accuracy\"]\n",
    ")"
   ]
  },
  {
   "cell_type": "markdown",
   "metadata": {},
   "source": [
    "There are multiple options for optimizers, loss and metrics (check further documentation).\n",
    "\n",
    "All the strings which have been passed as arguments i.e., \"`adam`\", \"`binary_crossentropy`\" and \"`accuracy`\" are reference to some default objects defined in Keras.\n",
    "\n",
    "These custom objects can also be directly instantiated with the classes defined in Keras submodules for example `opt = keras.optimizers.Adam(learning_rate = 0.01)`.\n",
    "\n",
    "Customized loss and optimizer functions can be passed in Keras models.\n",
    "\n",
    "In the following code lines, the learning rate is changed by initializing a custom object."
   ]
  },
  {
   "cell_type": "code",
   "execution_count": 36,
   "metadata": {},
   "outputs": [],
   "source": [
    "model.compile(\n",
    "    optimizer = tf.keras.optimizers.Adam(learning_rate = 0.01),\n",
    "    loss = tf.keras.losses.SparseCategoricalCrossentropy()\n",
    ")"
   ]
  },
  {
   "cell_type": "markdown",
   "metadata": {},
   "source": [
    "Optionally, a list of metrics can be defined which could be tracked during training."
   ]
  },
  {
   "cell_type": "code",
   "execution_count": 37,
   "metadata": {},
   "outputs": [],
   "source": [
    "model = Sequential(\n",
    "    [\n",
    "        Dense(16, activation = \"relu\", input_shape = (11, ), name = \"hidden_1\"),\n",
    "        Dense(8, activation = \"relu\", name = \"hidden_2\"),\n",
    "        Dense(4, activation = \"softmax\", name = \"output\")\n",
    "    ]\n",
    ")\n",
    "\n",
    "model.compile(\n",
    "    optimizer = tf.keras.optimizers.Adam(learning_rate = 0.001),\n",
    "    loss = tf.keras.losses.SparseCategoricalCrossentropy(),\n",
    "    metrics = [\"accuracy\"]\n",
    ")"
   ]
  },
  {
   "cell_type": "markdown",
   "metadata": {},
   "source": [
    "### How is sparse categorical cross entropy different from categorical cross entropy?\n",
    "1. Use `categorical_crossentropy` if target is one hot-encoded, for example, [1, 0, 0, 0], [0, 1, 0, 0], [0, 0, 1, 0], [0, 0, 0, 1].\n",
    "2. Use `sparse_categorical_crossentropy` if target vector is ordinal integer values, 0, 1, 2, 3.\n",
    "\n",
    "These metrics will be calculated and saved after each epoch.\n",
    "\n",
    "### What is an epoch?\n",
    "When the data size is too big for the memory (RAM), the data is passed in small batches instead of one big batch. Each pass of these small batches is called an iteration.\n",
    "\n",
    "Each pass of the whole dataset is called an epoch.\n",
    "\n",
    "1 epoch means that each sample in the training dataset has had an opportuinity to update the internal model parameters."
   ]
  },
  {
   "cell_type": "markdown",
   "metadata": {},
   "source": [
    "### How to check if the loss and optimizers for the model are set?"
   ]
  },
  {
   "cell_type": "code",
   "execution_count": 38,
   "metadata": {},
   "outputs": [
    {
     "data": {
      "text/plain": [
       "<LossFunctionWrapper(<function sparse_categorical_crossentropy at 0x14d5918a0>, kwargs={'from_logits': False, 'ignore_class': None})>"
      ]
     },
     "execution_count": 38,
     "metadata": {},
     "output_type": "execute_result"
    }
   ],
   "source": [
    "model.loss"
   ]
  },
  {
   "cell_type": "code",
   "execution_count": 39,
   "metadata": {},
   "outputs": [
    {
     "data": {
      "text/plain": [
       "<keras.src.optimizers.adam.Adam at 0x14e052e50>"
      ]
     },
     "execution_count": 39,
     "metadata": {},
     "output_type": "execute_result"
    }
   ],
   "source": [
    "model.optimizer"
   ]
  },
  {
   "cell_type": "markdown",
   "metadata": {},
   "source": [
    "# Model Training Using `fit()`\n",
    "Model training involves updating the weights using the optimizer and loss functions on the dataset.\n",
    "\n",
    "`model.fit(x_train, y_train)`\n",
    "\n",
    "Where,\n",
    "- `x_train` = `(num_samples, num_features)`.\n",
    "- `y_train` = `(num_samples, num_classes)` or `(num_samples, )`.\n",
    "\n",
    "### Arguments\n",
    "- Number of epochs: \n",
    "    - `model.fit(x_train, y_train, epochs = 500)`.\n",
    "- Batch size:\n",
    "    - `model.fit(x_train, y_train, batch_size = 256)`.\n",
    "    - Usually the batch size set is in the power of 2 (i.e., 2, 4, 8, 16, 32, 64, ...).\n",
    "    - `batch_size = 16`, means 16 training samples are passed in each iteration.\n",
    "    - Number of iterations in an epoch = Number of samples/ Batch size.\n",
    "- `validation_split = 0.1` means that 10% of the training data will be used for validation."
   ]
  },
  {
   "cell_type": "code",
   "execution_count": 40,
   "metadata": {},
   "outputs": [],
   "source": [
    "def seed_everything(seed = 42):\n",
    "    np.random.seed(seed)\n",
    "    tf.random.set_seed(seed)\n",
    "\n",
    "seed_everything()"
   ]
  },
  {
   "cell_type": "markdown",
   "metadata": {},
   "source": [
    "A seed in Machine Learning is the initial state of a pseudo-random number generator.\n",
    "\n",
    "Setting a specific seed ensures a deterministic sequence of numbers generated by the `random()` method.\n",
    "\n",
    "Using the same seed guarantees identical weight initialization patterns, leading to consistent behavior across multiple runs of the same code."
   ]
  },
  {
   "cell_type": "code",
   "execution_count": 41,
   "metadata": {},
   "outputs": [
    {
     "name": "stdout",
     "output_type": "stream",
     "text": [
      "Epoch 1/10\n",
      "\u001b[1m39/39\u001b[0m \u001b[32m━━━━━━━━━━━━━━━━━━━━\u001b[0m\u001b[37m\u001b[0m \u001b[1m0s\u001b[0m 4ms/step - accuracy: 0.2600 - loss: 1.4129 - val_accuracy: 0.2949 - val_loss: 1.3732\n",
      "Epoch 2/10\n",
      "\u001b[1m39/39\u001b[0m \u001b[32m━━━━━━━━━━━━━━━━━━━━\u001b[0m\u001b[37m\u001b[0m \u001b[1m0s\u001b[0m 1ms/step - accuracy: 0.3281 - loss: 1.3578 - val_accuracy: 0.3770 - val_loss: 1.3299\n",
      "Epoch 3/10\n",
      "\u001b[1m39/39\u001b[0m \u001b[32m━━━━━━━━━━━━━━━━━━━━\u001b[0m\u001b[37m\u001b[0m \u001b[1m0s\u001b[0m 1ms/step - accuracy: 0.4082 - loss: 1.3058 - val_accuracy: 0.4184 - val_loss: 1.2660\n",
      "Epoch 4/10\n",
      "\u001b[1m39/39\u001b[0m \u001b[32m━━━━━━━━━━━━━━━━━━━━\u001b[0m\u001b[37m\u001b[0m \u001b[1m0s\u001b[0m 1ms/step - accuracy: 0.4460 - loss: 1.2296 - val_accuracy: 0.4525 - val_loss: 1.1772\n",
      "Epoch 5/10\n",
      "\u001b[1m39/39\u001b[0m \u001b[32m━━━━━━━━━━━━━━━━━━━━\u001b[0m\u001b[37m\u001b[0m \u001b[1m0s\u001b[0m 1ms/step - accuracy: 0.4849 - loss: 1.1371 - val_accuracy: 0.4949 - val_loss: 1.0928\n",
      "Epoch 6/10\n",
      "\u001b[1m39/39\u001b[0m \u001b[32m━━━━━━━━━━━━━━━━━━━━\u001b[0m\u001b[37m\u001b[0m \u001b[1m0s\u001b[0m 1ms/step - accuracy: 0.5243 - loss: 1.0581 - val_accuracy: 0.5447 - val_loss: 1.0230\n",
      "Epoch 7/10\n",
      "\u001b[1m39/39\u001b[0m \u001b[32m━━━━━━━━━━━━━━━━━━━━\u001b[0m\u001b[37m\u001b[0m \u001b[1m0s\u001b[0m 1ms/step - accuracy: 0.5548 - loss: 0.9948 - val_accuracy: 0.5622 - val_loss: 0.9688\n",
      "Epoch 8/10\n",
      "\u001b[1m39/39\u001b[0m \u001b[32m━━━━━━━━━━━━━━━━━━━━\u001b[0m\u001b[37m\u001b[0m \u001b[1m0s\u001b[0m 1ms/step - accuracy: 0.5792 - loss: 0.9457 - val_accuracy: 0.5843 - val_loss: 0.9290\n",
      "Epoch 9/10\n",
      "\u001b[1m39/39\u001b[0m \u001b[32m━━━━━━━━━━━━━━━━━━━━\u001b[0m\u001b[37m\u001b[0m \u001b[1m0s\u001b[0m 1ms/step - accuracy: 0.5977 - loss: 0.9110 - val_accuracy: 0.6028 - val_loss: 0.9006\n",
      "Epoch 10/10\n",
      "\u001b[1m39/39\u001b[0m \u001b[32m━━━━━━━━━━━━━━━━━━━━\u001b[0m\u001b[37m\u001b[0m \u001b[1m0s\u001b[0m 1ms/step - accuracy: 0.6096 - loss: 0.8856 - val_accuracy: 0.6157 - val_loss: 0.8803\n",
      "CPU times: user 1.11 s, sys: 136 ms, total: 1.25 s\n",
      "Wall time: 1.12 s\n"
     ]
    },
    {
     "data": {
      "text/plain": [
       "<keras.src.callbacks.history.History at 0x14e08af90>"
      ]
     },
     "execution_count": 41,
     "metadata": {},
     "output_type": "execute_result"
    }
   ],
   "source": [
    "%%time\n",
    "# training a model for a few epochs\n",
    "model.fit(x_train, y_train, epochs = 10, batch_size = 256, validation_split = 0.1, verbose = 1)"
   ]
  },
  {
   "cell_type": "markdown",
   "metadata": {},
   "source": [
    "The model has been trained for 10 epochs.\n",
    "\n",
    "Observe that `model.fit` is printing all the metrics like accuracy, loss, validation loss, validation accuracy, etc.\n",
    "\n",
    "### How can all this information be used for analyzing the training process?\n",
    "To understand this, observe that the `model.fit` is returning a history object which contains the record of progress of NN training.\n",
    "\n",
    "This history object contains records of loss and metrics values for each epoch. This history object is an example of something called \"callback\" (check further documentation)."
   ]
  },
  {
   "cell_type": "code",
   "execution_count": 42,
   "metadata": {},
   "outputs": [
    {
     "name": "stdout",
     "output_type": "stream",
     "text": [
      "Epoch 1/500\n",
      "\u001b[1m39/39\u001b[0m \u001b[32m━━━━━━━━━━━━━━━━━━━━\u001b[0m\u001b[37m\u001b[0m \u001b[1m0s\u001b[0m 2ms/step - accuracy: 0.6220 - loss: 0.8669 - val_accuracy: 0.6249 - val_loss: 0.8651\n",
      "Epoch 2/500\n",
      "\u001b[1m39/39\u001b[0m \u001b[32m━━━━━━━━━━━━━━━━━━━━\u001b[0m\u001b[37m\u001b[0m \u001b[1m0s\u001b[0m 1ms/step - accuracy: 0.6305 - loss: 0.8524 - val_accuracy: 0.6295 - val_loss: 0.8526\n",
      "Epoch 3/500\n",
      "\u001b[1m39/39\u001b[0m \u001b[32m━━━━━━━━━━━━━━━━━━━━\u001b[0m\u001b[37m\u001b[0m \u001b[1m0s\u001b[0m 1ms/step - accuracy: 0.6397 - loss: 0.8404 - val_accuracy: 0.6378 - val_loss: 0.8422\n",
      "Epoch 4/500\n",
      "\u001b[1m39/39\u001b[0m \u001b[32m━━━━━━━━━━━━━━━━━━━━\u001b[0m\u001b[37m\u001b[0m \u001b[1m0s\u001b[0m 1ms/step - accuracy: 0.6468 - loss: 0.8301 - val_accuracy: 0.6452 - val_loss: 0.8331\n",
      "Epoch 5/500\n",
      "\u001b[1m39/39\u001b[0m \u001b[32m━━━━━━━━━━━━━━━━━━━━\u001b[0m\u001b[37m\u001b[0m \u001b[1m0s\u001b[0m 1ms/step - accuracy: 0.6526 - loss: 0.8209 - val_accuracy: 0.6535 - val_loss: 0.8252\n",
      "Epoch 6/500\n",
      "\u001b[1m39/39\u001b[0m \u001b[32m━━━━━━━━━━━━━━━━━━━━\u001b[0m\u001b[37m\u001b[0m \u001b[1m0s\u001b[0m 1ms/step - accuracy: 0.6580 - loss: 0.8126 - val_accuracy: 0.6562 - val_loss: 0.8181\n",
      "Epoch 7/500\n",
      "\u001b[1m39/39\u001b[0m \u001b[32m━━━━━━━━━━━━━━━━━━━━\u001b[0m\u001b[37m\u001b[0m \u001b[1m0s\u001b[0m 1ms/step - accuracy: 0.6627 - loss: 0.8049 - val_accuracy: 0.6664 - val_loss: 0.8114\n",
      "Epoch 8/500\n",
      "\u001b[1m39/39\u001b[0m \u001b[32m━━━━━━━━━━━━━━━━━━━━\u001b[0m\u001b[37m\u001b[0m \u001b[1m0s\u001b[0m 2ms/step - accuracy: 0.6651 - loss: 0.7976 - val_accuracy: 0.6700 - val_loss: 0.8052\n",
      "Epoch 9/500\n",
      "\u001b[1m39/39\u001b[0m \u001b[32m━━━━━━━━━━━━━━━━━━━━\u001b[0m\u001b[37m\u001b[0m \u001b[1m0s\u001b[0m 1ms/step - accuracy: 0.6690 - loss: 0.7906 - val_accuracy: 0.6747 - val_loss: 0.7994\n",
      "Epoch 10/500\n",
      "\u001b[1m39/39\u001b[0m \u001b[32m━━━━━━━━━━━━━━━━━━━━\u001b[0m\u001b[37m\u001b[0m \u001b[1m0s\u001b[0m 1ms/step - accuracy: 0.6707 - loss: 0.7842 - val_accuracy: 0.6839 - val_loss: 0.7938\n",
      "Epoch 11/500\n",
      "\u001b[1m39/39\u001b[0m \u001b[32m━━━━━━━━━━━━━━━━━━━━\u001b[0m\u001b[37m\u001b[0m \u001b[1m0s\u001b[0m 1ms/step - accuracy: 0.6772 - loss: 0.7781 - val_accuracy: 0.6894 - val_loss: 0.7882\n",
      "Epoch 12/500\n",
      "\u001b[1m39/39\u001b[0m \u001b[32m━━━━━━━━━━━━━━━━━━━━\u001b[0m\u001b[37m\u001b[0m \u001b[1m0s\u001b[0m 1ms/step - accuracy: 0.6799 - loss: 0.7723 - val_accuracy: 0.6940 - val_loss: 0.7828\n",
      "Epoch 13/500\n",
      "\u001b[1m39/39\u001b[0m \u001b[32m━━━━━━━━━━━━━━━━━━━━\u001b[0m\u001b[37m\u001b[0m \u001b[1m0s\u001b[0m 1ms/step - accuracy: 0.6811 - loss: 0.7671 - val_accuracy: 0.6959 - val_loss: 0.7778\n",
      "Epoch 14/500\n",
      "\u001b[1m39/39\u001b[0m \u001b[32m━━━━━━━━━━━━━━━━━━━━\u001b[0m\u001b[37m\u001b[0m \u001b[1m0s\u001b[0m 1ms/step - accuracy: 0.6845 - loss: 0.7624 - val_accuracy: 0.6968 - val_loss: 0.7729\n",
      "Epoch 15/500\n",
      "\u001b[1m39/39\u001b[0m \u001b[32m━━━━━━━━━━━━━━━━━━━━\u001b[0m\u001b[37m\u001b[0m \u001b[1m0s\u001b[0m 1ms/step - accuracy: 0.6888 - loss: 0.7581 - val_accuracy: 0.6977 - val_loss: 0.7684\n",
      "Epoch 16/500\n",
      "\u001b[1m39/39\u001b[0m \u001b[32m━━━━━━━━━━━━━━━━━━━━\u001b[0m\u001b[37m\u001b[0m \u001b[1m0s\u001b[0m 1ms/step - accuracy: 0.6901 - loss: 0.7540 - val_accuracy: 0.6977 - val_loss: 0.7646\n",
      "Epoch 17/500\n",
      "\u001b[1m39/39\u001b[0m \u001b[32m━━━━━━━━━━━━━━━━━━━━\u001b[0m\u001b[37m\u001b[0m \u001b[1m0s\u001b[0m 1ms/step - accuracy: 0.6923 - loss: 0.7503 - val_accuracy: 0.7005 - val_loss: 0.7608\n",
      "Epoch 18/500\n",
      "\u001b[1m39/39\u001b[0m \u001b[32m━━━━━━━━━━━━━━━━━━━━\u001b[0m\u001b[37m\u001b[0m \u001b[1m0s\u001b[0m 1ms/step - accuracy: 0.6923 - loss: 0.7466 - val_accuracy: 0.7041 - val_loss: 0.7570\n",
      "Epoch 19/500\n",
      "\u001b[1m39/39\u001b[0m \u001b[32m━━━━━━━━━━━━━━━━━━━━\u001b[0m\u001b[37m\u001b[0m \u001b[1m0s\u001b[0m 1ms/step - accuracy: 0.6925 - loss: 0.7431 - val_accuracy: 0.7069 - val_loss: 0.7539\n",
      "Epoch 20/500\n",
      "\u001b[1m39/39\u001b[0m \u001b[32m━━━━━━━━━━━━━━━━━━━━\u001b[0m\u001b[37m\u001b[0m \u001b[1m0s\u001b[0m 1ms/step - accuracy: 0.6942 - loss: 0.7397 - val_accuracy: 0.7088 - val_loss: 0.7508\n",
      "Epoch 21/500\n",
      "\u001b[1m39/39\u001b[0m \u001b[32m━━━━━━━━━━━━━━━━━━━━\u001b[0m\u001b[37m\u001b[0m \u001b[1m0s\u001b[0m 1ms/step - accuracy: 0.6953 - loss: 0.7367 - val_accuracy: 0.7115 - val_loss: 0.7476\n",
      "Epoch 22/500\n",
      "\u001b[1m39/39\u001b[0m \u001b[32m━━━━━━━━━━━━━━━━━━━━\u001b[0m\u001b[37m\u001b[0m \u001b[1m0s\u001b[0m 1ms/step - accuracy: 0.6965 - loss: 0.7339 - val_accuracy: 0.7152 - val_loss: 0.7451\n",
      "Epoch 23/500\n",
      "\u001b[1m39/39\u001b[0m \u001b[32m━━━━━━━━━━━━━━━━━━━━\u001b[0m\u001b[37m\u001b[0m \u001b[1m0s\u001b[0m 1ms/step - accuracy: 0.6964 - loss: 0.7308 - val_accuracy: 0.7152 - val_loss: 0.7423\n",
      "Epoch 24/500\n",
      "\u001b[1m39/39\u001b[0m \u001b[32m━━━━━━━━━━━━━━━━━━━━\u001b[0m\u001b[37m\u001b[0m \u001b[1m0s\u001b[0m 1ms/step - accuracy: 0.6995 - loss: 0.7282 - val_accuracy: 0.7161 - val_loss: 0.7397\n",
      "Epoch 25/500\n",
      "\u001b[1m39/39\u001b[0m \u001b[32m━━━━━━━━━━━━━━━━━━━━\u001b[0m\u001b[37m\u001b[0m \u001b[1m0s\u001b[0m 1ms/step - accuracy: 0.7007 - loss: 0.7258 - val_accuracy: 0.7189 - val_loss: 0.7374\n",
      "Epoch 26/500\n",
      "\u001b[1m39/39\u001b[0m \u001b[32m━━━━━━━━━━━━━━━━━━━━\u001b[0m\u001b[37m\u001b[0m \u001b[1m0s\u001b[0m 1ms/step - accuracy: 0.7019 - loss: 0.7230 - val_accuracy: 0.7180 - val_loss: 0.7352\n",
      "Epoch 27/500\n",
      "\u001b[1m39/39\u001b[0m \u001b[32m━━━━━━━━━━━━━━━━━━━━\u001b[0m\u001b[37m\u001b[0m \u001b[1m0s\u001b[0m 1ms/step - accuracy: 0.7044 - loss: 0.7208 - val_accuracy: 0.7198 - val_loss: 0.7330\n",
      "Epoch 28/500\n",
      "\u001b[1m39/39\u001b[0m \u001b[32m━━━━━━━━━━━━━━━━━━━━\u001b[0m\u001b[37m\u001b[0m \u001b[1m0s\u001b[0m 1ms/step - accuracy: 0.7064 - loss: 0.7183 - val_accuracy: 0.7217 - val_loss: 0.7310\n",
      "Epoch 29/500\n",
      "\u001b[1m39/39\u001b[0m \u001b[32m━━━━━━━━━━━━━━━━━━━━\u001b[0m\u001b[37m\u001b[0m \u001b[1m0s\u001b[0m 1ms/step - accuracy: 0.7080 - loss: 0.7161 - val_accuracy: 0.7226 - val_loss: 0.7288\n",
      "Epoch 30/500\n",
      "\u001b[1m39/39\u001b[0m \u001b[32m━━━━━━━━━━━━━━━━━━━━\u001b[0m\u001b[37m\u001b[0m \u001b[1m0s\u001b[0m 1ms/step - accuracy: 0.7071 - loss: 0.7142 - val_accuracy: 0.7235 - val_loss: 0.7270\n",
      "Epoch 31/500\n",
      "\u001b[1m39/39\u001b[0m \u001b[32m━━━━━━━━━━━━━━━━━━━━\u001b[0m\u001b[37m\u001b[0m \u001b[1m0s\u001b[0m 1ms/step - accuracy: 0.7103 - loss: 0.7120 - val_accuracy: 0.7226 - val_loss: 0.7250\n",
      "Epoch 32/500\n",
      "\u001b[1m39/39\u001b[0m \u001b[32m━━━━━━━━━━━━━━━━━━━━\u001b[0m\u001b[37m\u001b[0m \u001b[1m0s\u001b[0m 1ms/step - accuracy: 0.7120 - loss: 0.7101 - val_accuracy: 0.7235 - val_loss: 0.7234\n",
      "Epoch 33/500\n",
      "\u001b[1m39/39\u001b[0m \u001b[32m━━━━━━━━━━━━━━━━━━━━\u001b[0m\u001b[37m\u001b[0m \u001b[1m0s\u001b[0m 1ms/step - accuracy: 0.7124 - loss: 0.7080 - val_accuracy: 0.7272 - val_loss: 0.7215\n",
      "Epoch 34/500\n",
      "\u001b[1m39/39\u001b[0m \u001b[32m━━━━━━━━━━━━━━━━━━━━\u001b[0m\u001b[37m\u001b[0m \u001b[1m0s\u001b[0m 2ms/step - accuracy: 0.7138 - loss: 0.7062 - val_accuracy: 0.7290 - val_loss: 0.7197\n",
      "Epoch 35/500\n",
      "\u001b[1m39/39\u001b[0m \u001b[32m━━━━━━━━━━━━━━━━━━━━\u001b[0m\u001b[37m\u001b[0m \u001b[1m0s\u001b[0m 1ms/step - accuracy: 0.7143 - loss: 0.7042 - val_accuracy: 0.7300 - val_loss: 0.7178\n",
      "Epoch 36/500\n",
      "\u001b[1m39/39\u001b[0m \u001b[32m━━━━━━━━━━━━━━━━━━━━\u001b[0m\u001b[37m\u001b[0m \u001b[1m0s\u001b[0m 1ms/step - accuracy: 0.7150 - loss: 0.7024 - val_accuracy: 0.7300 - val_loss: 0.7159\n",
      "Epoch 37/500\n",
      "\u001b[1m39/39\u001b[0m \u001b[32m━━━━━━━━━━━━━━━━━━━━\u001b[0m\u001b[37m\u001b[0m \u001b[1m0s\u001b[0m 1ms/step - accuracy: 0.7163 - loss: 0.7007 - val_accuracy: 0.7290 - val_loss: 0.7142\n",
      "Epoch 38/500\n",
      "\u001b[1m39/39\u001b[0m \u001b[32m━━━━━━━━━━━━━━━━━━━━\u001b[0m\u001b[37m\u001b[0m \u001b[1m0s\u001b[0m 1ms/step - accuracy: 0.7166 - loss: 0.6987 - val_accuracy: 0.7281 - val_loss: 0.7123\n",
      "Epoch 39/500\n",
      "\u001b[1m39/39\u001b[0m \u001b[32m━━━━━━━━━━━━━━━━━━━━\u001b[0m\u001b[37m\u001b[0m \u001b[1m0s\u001b[0m 1ms/step - accuracy: 0.7171 - loss: 0.6970 - val_accuracy: 0.7327 - val_loss: 0.7106\n",
      "Epoch 40/500\n",
      "\u001b[1m39/39\u001b[0m \u001b[32m━━━━━━━━━━━━━━━━━━━━\u001b[0m\u001b[37m\u001b[0m \u001b[1m0s\u001b[0m 1ms/step - accuracy: 0.7188 - loss: 0.6955 - val_accuracy: 0.7290 - val_loss: 0.7090\n",
      "Epoch 41/500\n",
      "\u001b[1m39/39\u001b[0m \u001b[32m━━━━━━━━━━━━━━━━━━━━\u001b[0m\u001b[37m\u001b[0m \u001b[1m0s\u001b[0m 1ms/step - accuracy: 0.7195 - loss: 0.6935 - val_accuracy: 0.7281 - val_loss: 0.7074\n",
      "Epoch 42/500\n",
      "\u001b[1m39/39\u001b[0m \u001b[32m━━━━━━━━━━━━━━━━━━━━\u001b[0m\u001b[37m\u001b[0m \u001b[1m0s\u001b[0m 1ms/step - accuracy: 0.7197 - loss: 0.6918 - val_accuracy: 0.7263 - val_loss: 0.7059\n",
      "Epoch 43/500\n",
      "\u001b[1m39/39\u001b[0m \u001b[32m━━━━━━━━━━━━━━━━━━━━\u001b[0m\u001b[37m\u001b[0m \u001b[1m0s\u001b[0m 1ms/step - accuracy: 0.7212 - loss: 0.6902 - val_accuracy: 0.7263 - val_loss: 0.7041\n",
      "Epoch 44/500\n",
      "\u001b[1m39/39\u001b[0m \u001b[32m━━━━━━━━━━━━━━━━━━━━\u001b[0m\u001b[37m\u001b[0m \u001b[1m0s\u001b[0m 1ms/step - accuracy: 0.7223 - loss: 0.6886 - val_accuracy: 0.7290 - val_loss: 0.7025\n",
      "Epoch 45/500\n",
      "\u001b[1m39/39\u001b[0m \u001b[32m━━━━━━━━━━━━━━━━━━━━\u001b[0m\u001b[37m\u001b[0m \u001b[1m0s\u001b[0m 1ms/step - accuracy: 0.7240 - loss: 0.6871 - val_accuracy: 0.7300 - val_loss: 0.7011\n",
      "Epoch 46/500\n",
      "\u001b[1m39/39\u001b[0m \u001b[32m━━━━━━━━━━━━━━━━━━━━\u001b[0m\u001b[37m\u001b[0m \u001b[1m0s\u001b[0m 1ms/step - accuracy: 0.7244 - loss: 0.6857 - val_accuracy: 0.7290 - val_loss: 0.6996\n",
      "Epoch 47/500\n",
      "\u001b[1m39/39\u001b[0m \u001b[32m━━━━━━━━━━━━━━━━━━━━\u001b[0m\u001b[37m\u001b[0m \u001b[1m0s\u001b[0m 1ms/step - accuracy: 0.7246 - loss: 0.6843 - val_accuracy: 0.7318 - val_loss: 0.6981\n",
      "Epoch 48/500\n",
      "\u001b[1m39/39\u001b[0m \u001b[32m━━━━━━━━━━━━━━━━━━━━\u001b[0m\u001b[37m\u001b[0m \u001b[1m0s\u001b[0m 1ms/step - accuracy: 0.7249 - loss: 0.6828 - val_accuracy: 0.7318 - val_loss: 0.6964\n",
      "Epoch 49/500\n",
      "\u001b[1m39/39\u001b[0m \u001b[32m━━━━━━━━━━━━━━━━━━━━\u001b[0m\u001b[37m\u001b[0m \u001b[1m0s\u001b[0m 1ms/step - accuracy: 0.7251 - loss: 0.6815 - val_accuracy: 0.7318 - val_loss: 0.6949\n",
      "Epoch 50/500\n",
      "\u001b[1m39/39\u001b[0m \u001b[32m━━━━━━━━━━━━━━━━━━━━\u001b[0m\u001b[37m\u001b[0m \u001b[1m0s\u001b[0m 1ms/step - accuracy: 0.7258 - loss: 0.6801 - val_accuracy: 0.7346 - val_loss: 0.6936\n",
      "Epoch 51/500\n",
      "\u001b[1m39/39\u001b[0m \u001b[32m━━━━━━━━━━━━━━━━━━━━\u001b[0m\u001b[37m\u001b[0m \u001b[1m0s\u001b[0m 1ms/step - accuracy: 0.7261 - loss: 0.6788 - val_accuracy: 0.7364 - val_loss: 0.6927\n",
      "Epoch 52/500\n",
      "\u001b[1m39/39\u001b[0m \u001b[32m━━━━━━━━━━━━━━━━━━━━\u001b[0m\u001b[37m\u001b[0m \u001b[1m0s\u001b[0m 1ms/step - accuracy: 0.7274 - loss: 0.6775 - val_accuracy: 0.7364 - val_loss: 0.6917\n",
      "Epoch 53/500\n",
      "\u001b[1m39/39\u001b[0m \u001b[32m━━━━━━━━━━━━━━━━━━━━\u001b[0m\u001b[37m\u001b[0m \u001b[1m0s\u001b[0m 1ms/step - accuracy: 0.7270 - loss: 0.6762 - val_accuracy: 0.7364 - val_loss: 0.6907\n",
      "Epoch 54/500\n",
      "\u001b[1m39/39\u001b[0m \u001b[32m━━━━━━━━━━━━━━━━━━━━\u001b[0m\u001b[37m\u001b[0m \u001b[1m0s\u001b[0m 1ms/step - accuracy: 0.7273 - loss: 0.6749 - val_accuracy: 0.7355 - val_loss: 0.6896\n",
      "Epoch 55/500\n",
      "\u001b[1m39/39\u001b[0m \u001b[32m━━━━━━━━━━━━━━━━━━━━\u001b[0m\u001b[37m\u001b[0m \u001b[1m0s\u001b[0m 2ms/step - accuracy: 0.7283 - loss: 0.6736 - val_accuracy: 0.7373 - val_loss: 0.6884\n",
      "Epoch 56/500\n",
      "\u001b[1m39/39\u001b[0m \u001b[32m━━━━━━━━━━━━━━━━━━━━\u001b[0m\u001b[37m\u001b[0m \u001b[1m0s\u001b[0m 1ms/step - accuracy: 0.7287 - loss: 0.6724 - val_accuracy: 0.7373 - val_loss: 0.6873\n",
      "Epoch 57/500\n",
      "\u001b[1m39/39\u001b[0m \u001b[32m━━━━━━━━━━━━━━━━━━━━\u001b[0m\u001b[37m\u001b[0m \u001b[1m0s\u001b[0m 1ms/step - accuracy: 0.7290 - loss: 0.6713 - val_accuracy: 0.7401 - val_loss: 0.6864\n",
      "Epoch 58/500\n",
      "\u001b[1m39/39\u001b[0m \u001b[32m━━━━━━━━━━━━━━━━━━━━\u001b[0m\u001b[37m\u001b[0m \u001b[1m0s\u001b[0m 1ms/step - accuracy: 0.7288 - loss: 0.6702 - val_accuracy: 0.7392 - val_loss: 0.6854\n",
      "Epoch 59/500\n",
      "\u001b[1m39/39\u001b[0m \u001b[32m━━━━━━━━━━━━━━━━━━━━\u001b[0m\u001b[37m\u001b[0m \u001b[1m0s\u001b[0m 1ms/step - accuracy: 0.7291 - loss: 0.6692 - val_accuracy: 0.7382 - val_loss: 0.6845\n",
      "Epoch 60/500\n",
      "\u001b[1m39/39\u001b[0m \u001b[32m━━━━━━━━━━━━━━━━━━━━\u001b[0m\u001b[37m\u001b[0m \u001b[1m0s\u001b[0m 1ms/step - accuracy: 0.7301 - loss: 0.6681 - val_accuracy: 0.7373 - val_loss: 0.6834\n",
      "Epoch 61/500\n",
      "\u001b[1m39/39\u001b[0m \u001b[32m━━━━━━━━━━━━━━━━━━━━\u001b[0m\u001b[37m\u001b[0m \u001b[1m0s\u001b[0m 1ms/step - accuracy: 0.7296 - loss: 0.6672 - val_accuracy: 0.7373 - val_loss: 0.6824\n",
      "Epoch 62/500\n",
      "\u001b[1m39/39\u001b[0m \u001b[32m━━━━━━━━━━━━━━━━━━━━\u001b[0m\u001b[37m\u001b[0m \u001b[1m0s\u001b[0m 1ms/step - accuracy: 0.7301 - loss: 0.6662 - val_accuracy: 0.7382 - val_loss: 0.6816\n",
      "Epoch 63/500\n",
      "\u001b[1m39/39\u001b[0m \u001b[32m━━━━━━━━━━━━━━━━━━━━\u001b[0m\u001b[37m\u001b[0m \u001b[1m0s\u001b[0m 1ms/step - accuracy: 0.7292 - loss: 0.6653 - val_accuracy: 0.7355 - val_loss: 0.6808\n",
      "Epoch 64/500\n",
      "\u001b[1m39/39\u001b[0m \u001b[32m━━━━━━━━━━━━━━━━━━━━\u001b[0m\u001b[37m\u001b[0m \u001b[1m0s\u001b[0m 1ms/step - accuracy: 0.7297 - loss: 0.6644 - val_accuracy: 0.7346 - val_loss: 0.6800\n",
      "Epoch 65/500\n",
      "\u001b[1m39/39\u001b[0m \u001b[32m━━━━━━━━━━━━━━━━━━━━\u001b[0m\u001b[37m\u001b[0m \u001b[1m0s\u001b[0m 1ms/step - accuracy: 0.7300 - loss: 0.6636 - val_accuracy: 0.7355 - val_loss: 0.6790\n",
      "Epoch 66/500\n",
      "\u001b[1m39/39\u001b[0m \u001b[32m━━━━━━━━━━━━━━━━━━━━\u001b[0m\u001b[37m\u001b[0m \u001b[1m0s\u001b[0m 1ms/step - accuracy: 0.7315 - loss: 0.6626 - val_accuracy: 0.7355 - val_loss: 0.6780\n",
      "Epoch 67/500\n",
      "\u001b[1m39/39\u001b[0m \u001b[32m━━━━━━━━━━━━━━━━━━━━\u001b[0m\u001b[37m\u001b[0m \u001b[1m0s\u001b[0m 1ms/step - accuracy: 0.7320 - loss: 0.6617 - val_accuracy: 0.7346 - val_loss: 0.6769\n",
      "Epoch 68/500\n",
      "\u001b[1m39/39\u001b[0m \u001b[32m━━━━━━━━━━━━━━━━━━━━\u001b[0m\u001b[37m\u001b[0m \u001b[1m0s\u001b[0m 1ms/step - accuracy: 0.7314 - loss: 0.6608 - val_accuracy: 0.7336 - val_loss: 0.6757\n",
      "Epoch 69/500\n",
      "\u001b[1m39/39\u001b[0m \u001b[32m━━━━━━━━━━━━━━━━━━━━\u001b[0m\u001b[37m\u001b[0m \u001b[1m0s\u001b[0m 1ms/step - accuracy: 0.7316 - loss: 0.6599 - val_accuracy: 0.7346 - val_loss: 0.6749\n",
      "Epoch 70/500\n",
      "\u001b[1m39/39\u001b[0m \u001b[32m━━━━━━━━━━━━━━━━━━━━\u001b[0m\u001b[37m\u001b[0m \u001b[1m0s\u001b[0m 1ms/step - accuracy: 0.7325 - loss: 0.6592 - val_accuracy: 0.7364 - val_loss: 0.6744\n",
      "Epoch 71/500\n",
      "\u001b[1m39/39\u001b[0m \u001b[32m━━━━━━━━━━━━━━━━━━━━\u001b[0m\u001b[37m\u001b[0m \u001b[1m0s\u001b[0m 1ms/step - accuracy: 0.7332 - loss: 0.6583 - val_accuracy: 0.7364 - val_loss: 0.6733\n",
      "Epoch 72/500\n",
      "\u001b[1m39/39\u001b[0m \u001b[32m━━━━━━━━━━━━━━━━━━━━\u001b[0m\u001b[37m\u001b[0m \u001b[1m0s\u001b[0m 1ms/step - accuracy: 0.7337 - loss: 0.6575 - val_accuracy: 0.7346 - val_loss: 0.6725\n",
      "Epoch 73/500\n",
      "\u001b[1m39/39\u001b[0m \u001b[32m━━━━━━━━━━━━━━━━━━━━\u001b[0m\u001b[37m\u001b[0m \u001b[1m0s\u001b[0m 1ms/step - accuracy: 0.7344 - loss: 0.6567 - val_accuracy: 0.7364 - val_loss: 0.6715\n",
      "Epoch 74/500\n",
      "\u001b[1m39/39\u001b[0m \u001b[32m━━━━━━━━━━━━━━━━━━━━\u001b[0m\u001b[37m\u001b[0m \u001b[1m0s\u001b[0m 1ms/step - accuracy: 0.7350 - loss: 0.6558 - val_accuracy: 0.7382 - val_loss: 0.6706\n",
      "Epoch 75/500\n",
      "\u001b[1m39/39\u001b[0m \u001b[32m━━━━━━━━━━━━━━━━━━━━\u001b[0m\u001b[37m\u001b[0m \u001b[1m0s\u001b[0m 1ms/step - accuracy: 0.7353 - loss: 0.6550 - val_accuracy: 0.7392 - val_loss: 0.6699\n",
      "Epoch 76/500\n",
      "\u001b[1m39/39\u001b[0m \u001b[32m━━━━━━━━━━━━━━━━━━━━\u001b[0m\u001b[37m\u001b[0m \u001b[1m0s\u001b[0m 1ms/step - accuracy: 0.7358 - loss: 0.6543 - val_accuracy: 0.7373 - val_loss: 0.6689\n",
      "Epoch 77/500\n",
      "\u001b[1m39/39\u001b[0m \u001b[32m━━━━━━━━━━━━━━━━━━━━\u001b[0m\u001b[37m\u001b[0m \u001b[1m0s\u001b[0m 2ms/step - accuracy: 0.7363 - loss: 0.6536 - val_accuracy: 0.7392 - val_loss: 0.6683\n",
      "Epoch 78/500\n",
      "\u001b[1m39/39\u001b[0m \u001b[32m━━━━━━━━━━━━━━━━━━━━\u001b[0m\u001b[37m\u001b[0m \u001b[1m0s\u001b[0m 1ms/step - accuracy: 0.7357 - loss: 0.6528 - val_accuracy: 0.7410 - val_loss: 0.6673\n",
      "Epoch 79/500\n",
      "\u001b[1m39/39\u001b[0m \u001b[32m━━━━━━━━━━━━━━━━━━━━\u001b[0m\u001b[37m\u001b[0m \u001b[1m0s\u001b[0m 1ms/step - accuracy: 0.7359 - loss: 0.6521 - val_accuracy: 0.7410 - val_loss: 0.6667\n",
      "Epoch 80/500\n",
      "\u001b[1m39/39\u001b[0m \u001b[32m━━━━━━━━━━━━━━━━━━━━\u001b[0m\u001b[37m\u001b[0m \u001b[1m0s\u001b[0m 1ms/step - accuracy: 0.7355 - loss: 0.6514 - val_accuracy: 0.7419 - val_loss: 0.6658\n",
      "Epoch 81/500\n",
      "\u001b[1m39/39\u001b[0m \u001b[32m━━━━━━━━━━━━━━━━━━━━\u001b[0m\u001b[37m\u001b[0m \u001b[1m0s\u001b[0m 1ms/step - accuracy: 0.7350 - loss: 0.6508 - val_accuracy: 0.7392 - val_loss: 0.6649\n",
      "Epoch 82/500\n",
      "\u001b[1m39/39\u001b[0m \u001b[32m━━━━━━━━━━━━━━━━━━━━\u001b[0m\u001b[37m\u001b[0m \u001b[1m0s\u001b[0m 1ms/step - accuracy: 0.7354 - loss: 0.6501 - val_accuracy: 0.7410 - val_loss: 0.6640\n",
      "Epoch 83/500\n",
      "\u001b[1m39/39\u001b[0m \u001b[32m━━━━━━━━━━━━━━━━━━━━\u001b[0m\u001b[37m\u001b[0m \u001b[1m0s\u001b[0m 1ms/step - accuracy: 0.7354 - loss: 0.6493 - val_accuracy: 0.7429 - val_loss: 0.6635\n",
      "Epoch 84/500\n",
      "\u001b[1m39/39\u001b[0m \u001b[32m━━━━━━━━━━━━━━━━━━━━\u001b[0m\u001b[37m\u001b[0m \u001b[1m0s\u001b[0m 1ms/step - accuracy: 0.7356 - loss: 0.6488 - val_accuracy: 0.7429 - val_loss: 0.6626\n",
      "Epoch 85/500\n",
      "\u001b[1m39/39\u001b[0m \u001b[32m━━━━━━━━━━━━━━━━━━━━\u001b[0m\u001b[37m\u001b[0m \u001b[1m0s\u001b[0m 1ms/step - accuracy: 0.7352 - loss: 0.6481 - val_accuracy: 0.7429 - val_loss: 0.6618\n",
      "Epoch 86/500\n",
      "\u001b[1m39/39\u001b[0m \u001b[32m━━━━━━━━━━━━━━━━━━━━\u001b[0m\u001b[37m\u001b[0m \u001b[1m0s\u001b[0m 1ms/step - accuracy: 0.7361 - loss: 0.6474 - val_accuracy: 0.7447 - val_loss: 0.6610\n",
      "Epoch 87/500\n",
      "\u001b[1m39/39\u001b[0m \u001b[32m━━━━━━━━━━━━━━━━━━━━\u001b[0m\u001b[37m\u001b[0m \u001b[1m0s\u001b[0m 1ms/step - accuracy: 0.7358 - loss: 0.6469 - val_accuracy: 0.7438 - val_loss: 0.6603\n",
      "Epoch 88/500\n",
      "\u001b[1m39/39\u001b[0m \u001b[32m━━━━━━━━━━━━━━━━━━━━\u001b[0m\u001b[37m\u001b[0m \u001b[1m0s\u001b[0m 1ms/step - accuracy: 0.7366 - loss: 0.6463 - val_accuracy: 0.7429 - val_loss: 0.6600\n",
      "Epoch 89/500\n",
      "\u001b[1m39/39\u001b[0m \u001b[32m━━━━━━━━━━━━━━━━━━━━\u001b[0m\u001b[37m\u001b[0m \u001b[1m0s\u001b[0m 1ms/step - accuracy: 0.7355 - loss: 0.6459 - val_accuracy: 0.7419 - val_loss: 0.6591\n",
      "Epoch 90/500\n",
      "\u001b[1m39/39\u001b[0m \u001b[32m━━━━━━━━━━━━━━━━━━━━\u001b[0m\u001b[37m\u001b[0m \u001b[1m0s\u001b[0m 1ms/step - accuracy: 0.7364 - loss: 0.6453 - val_accuracy: 0.7419 - val_loss: 0.6584\n",
      "Epoch 91/500\n",
      "\u001b[1m39/39\u001b[0m \u001b[32m━━━━━━━━━━━━━━━━━━━━\u001b[0m\u001b[37m\u001b[0m \u001b[1m0s\u001b[0m 1ms/step - accuracy: 0.7368 - loss: 0.6448 - val_accuracy: 0.7419 - val_loss: 0.6580\n",
      "Epoch 92/500\n",
      "\u001b[1m39/39\u001b[0m \u001b[32m━━━━━━━━━━━━━━━━━━━━\u001b[0m\u001b[37m\u001b[0m \u001b[1m0s\u001b[0m 1ms/step - accuracy: 0.7357 - loss: 0.6444 - val_accuracy: 0.7410 - val_loss: 0.6575\n",
      "Epoch 93/500\n",
      "\u001b[1m39/39\u001b[0m \u001b[32m━━━━━━━━━━━━━━━━━━━━\u001b[0m\u001b[37m\u001b[0m \u001b[1m0s\u001b[0m 1ms/step - accuracy: 0.7364 - loss: 0.6440 - val_accuracy: 0.7382 - val_loss: 0.6568\n",
      "Epoch 94/500\n",
      "\u001b[1m39/39\u001b[0m \u001b[32m━━━━━━━━━━━━━━━━━━━━\u001b[0m\u001b[37m\u001b[0m \u001b[1m0s\u001b[0m 1ms/step - accuracy: 0.7355 - loss: 0.6436 - val_accuracy: 0.7373 - val_loss: 0.6563\n",
      "Epoch 95/500\n",
      "\u001b[1m39/39\u001b[0m \u001b[32m━━━━━━━━━━━━━━━━━━━━\u001b[0m\u001b[37m\u001b[0m \u001b[1m0s\u001b[0m 1ms/step - accuracy: 0.7359 - loss: 0.6432 - val_accuracy: 0.7373 - val_loss: 0.6557\n",
      "Epoch 96/500\n",
      "\u001b[1m39/39\u001b[0m \u001b[32m━━━━━━━━━━━━━━━━━━━━\u001b[0m\u001b[37m\u001b[0m \u001b[1m0s\u001b[0m 1ms/step - accuracy: 0.7357 - loss: 0.6426 - val_accuracy: 0.7392 - val_loss: 0.6552\n",
      "Epoch 97/500\n",
      "\u001b[1m39/39\u001b[0m \u001b[32m━━━━━━━━━━━━━━━━━━━━\u001b[0m\u001b[37m\u001b[0m \u001b[1m0s\u001b[0m 2ms/step - accuracy: 0.7373 - loss: 0.6424 - val_accuracy: 0.7373 - val_loss: 0.6547\n",
      "Epoch 98/500\n",
      "\u001b[1m39/39\u001b[0m \u001b[32m━━━━━━━━━━━━━━━━━━━━\u001b[0m\u001b[37m\u001b[0m \u001b[1m0s\u001b[0m 1ms/step - accuracy: 0.7376 - loss: 0.6420 - val_accuracy: 0.7373 - val_loss: 0.6540\n",
      "Epoch 99/500\n",
      "\u001b[1m39/39\u001b[0m \u001b[32m━━━━━━━━━━━━━━━━━━━━\u001b[0m\u001b[37m\u001b[0m \u001b[1m0s\u001b[0m 1ms/step - accuracy: 0.7370 - loss: 0.6414 - val_accuracy: 0.7382 - val_loss: 0.6536\n",
      "Epoch 100/500\n",
      "\u001b[1m39/39\u001b[0m \u001b[32m━━━━━━━━━━━━━━━━━━━━\u001b[0m\u001b[37m\u001b[0m \u001b[1m0s\u001b[0m 1ms/step - accuracy: 0.7369 - loss: 0.6412 - val_accuracy: 0.7401 - val_loss: 0.6526\n",
      "Epoch 101/500\n",
      "\u001b[1m39/39\u001b[0m \u001b[32m━━━━━━━━━━━━━━━━━━━━\u001b[0m\u001b[37m\u001b[0m \u001b[1m0s\u001b[0m 1ms/step - accuracy: 0.7382 - loss: 0.6407 - val_accuracy: 0.7392 - val_loss: 0.6526\n",
      "Epoch 102/500\n",
      "\u001b[1m39/39\u001b[0m \u001b[32m━━━━━━━━━━━━━━━━━━━━\u001b[0m\u001b[37m\u001b[0m \u001b[1m0s\u001b[0m 1ms/step - accuracy: 0.7390 - loss: 0.6403 - val_accuracy: 0.7410 - val_loss: 0.6519\n",
      "Epoch 103/500\n",
      "\u001b[1m39/39\u001b[0m \u001b[32m━━━━━━━━━━━━━━━━━━━━\u001b[0m\u001b[37m\u001b[0m \u001b[1m0s\u001b[0m 1ms/step - accuracy: 0.7387 - loss: 0.6399 - val_accuracy: 0.7392 - val_loss: 0.6513\n",
      "Epoch 104/500\n",
      "\u001b[1m39/39\u001b[0m \u001b[32m━━━━━━━━━━━━━━━━━━━━\u001b[0m\u001b[37m\u001b[0m \u001b[1m0s\u001b[0m 1ms/step - accuracy: 0.7380 - loss: 0.6394 - val_accuracy: 0.7419 - val_loss: 0.6509\n",
      "Epoch 105/500\n",
      "\u001b[1m39/39\u001b[0m \u001b[32m━━━━━━━━━━━━━━━━━━━━\u001b[0m\u001b[37m\u001b[0m \u001b[1m0s\u001b[0m 1ms/step - accuracy: 0.7385 - loss: 0.6391 - val_accuracy: 0.7429 - val_loss: 0.6506\n",
      "Epoch 106/500\n",
      "\u001b[1m39/39\u001b[0m \u001b[32m━━━━━━━━━━━━━━━━━━━━\u001b[0m\u001b[37m\u001b[0m \u001b[1m0s\u001b[0m 1ms/step - accuracy: 0.7388 - loss: 0.6388 - val_accuracy: 0.7419 - val_loss: 0.6498\n",
      "Epoch 107/500\n",
      "\u001b[1m39/39\u001b[0m \u001b[32m━━━━━━━━━━━━━━━━━━━━\u001b[0m\u001b[37m\u001b[0m \u001b[1m0s\u001b[0m 1ms/step - accuracy: 0.7386 - loss: 0.6383 - val_accuracy: 0.7410 - val_loss: 0.6497\n",
      "Epoch 108/500\n",
      "\u001b[1m39/39\u001b[0m \u001b[32m━━━━━━━━━━━━━━━━━━━━\u001b[0m\u001b[37m\u001b[0m \u001b[1m0s\u001b[0m 1ms/step - accuracy: 0.7387 - loss: 0.6380 - val_accuracy: 0.7410 - val_loss: 0.6491\n",
      "Epoch 109/500\n",
      "\u001b[1m39/39\u001b[0m \u001b[32m━━━━━━━━━━━━━━━━━━━━\u001b[0m\u001b[37m\u001b[0m \u001b[1m0s\u001b[0m 1ms/step - accuracy: 0.7392 - loss: 0.6375 - val_accuracy: 0.7419 - val_loss: 0.6489\n",
      "Epoch 110/500\n",
      "\u001b[1m39/39\u001b[0m \u001b[32m━━━━━━━━━━━━━━━━━━━━\u001b[0m\u001b[37m\u001b[0m \u001b[1m0s\u001b[0m 1ms/step - accuracy: 0.7392 - loss: 0.6372 - val_accuracy: 0.7419 - val_loss: 0.6481\n",
      "Epoch 111/500\n",
      "\u001b[1m39/39\u001b[0m \u001b[32m━━━━━━━━━━━━━━━━━━━━\u001b[0m\u001b[37m\u001b[0m \u001b[1m0s\u001b[0m 1ms/step - accuracy: 0.7392 - loss: 0.6369 - val_accuracy: 0.7419 - val_loss: 0.6476\n",
      "Epoch 112/500\n",
      "\u001b[1m39/39\u001b[0m \u001b[32m━━━━━━━━━━━━━━━━━━━━\u001b[0m\u001b[37m\u001b[0m \u001b[1m0s\u001b[0m 1ms/step - accuracy: 0.7397 - loss: 0.6366 - val_accuracy: 0.7419 - val_loss: 0.6472\n",
      "Epoch 113/500\n",
      "\u001b[1m39/39\u001b[0m \u001b[32m━━━━━━━━━━━━━━━━━━━━\u001b[0m\u001b[37m\u001b[0m \u001b[1m0s\u001b[0m 1ms/step - accuracy: 0.7398 - loss: 0.6362 - val_accuracy: 0.7429 - val_loss: 0.6469\n",
      "Epoch 114/500\n",
      "\u001b[1m39/39\u001b[0m \u001b[32m━━━━━━━━━━━━━━━━━━━━\u001b[0m\u001b[37m\u001b[0m \u001b[1m0s\u001b[0m 1ms/step - accuracy: 0.7394 - loss: 0.6360 - val_accuracy: 0.7429 - val_loss: 0.6465\n",
      "Epoch 115/500\n",
      "\u001b[1m39/39\u001b[0m \u001b[32m━━━━━━━━━━━━━━━━━━━━\u001b[0m\u001b[37m\u001b[0m \u001b[1m0s\u001b[0m 2ms/step - accuracy: 0.7399 - loss: 0.6357 - val_accuracy: 0.7438 - val_loss: 0.6462\n",
      "Epoch 116/500\n",
      "\u001b[1m39/39\u001b[0m \u001b[32m━━━━━━━━━━━━━━━━━━━━\u001b[0m\u001b[37m\u001b[0m \u001b[1m0s\u001b[0m 1ms/step - accuracy: 0.7398 - loss: 0.6355 - val_accuracy: 0.7438 - val_loss: 0.6459\n",
      "Epoch 117/500\n",
      "\u001b[1m39/39\u001b[0m \u001b[32m━━━━━━━━━━━━━━━━━━━━\u001b[0m\u001b[37m\u001b[0m \u001b[1m0s\u001b[0m 1ms/step - accuracy: 0.7407 - loss: 0.6352 - val_accuracy: 0.7447 - val_loss: 0.6455\n",
      "Epoch 118/500\n",
      "\u001b[1m39/39\u001b[0m \u001b[32m━━━━━━━━━━━━━━━━━━━━\u001b[0m\u001b[37m\u001b[0m \u001b[1m0s\u001b[0m 1ms/step - accuracy: 0.7404 - loss: 0.6349 - val_accuracy: 0.7438 - val_loss: 0.6455\n",
      "Epoch 119/500\n",
      "\u001b[1m39/39\u001b[0m \u001b[32m━━━━━━━━━━━━━━━━━━━━\u001b[0m\u001b[37m\u001b[0m \u001b[1m0s\u001b[0m 1ms/step - accuracy: 0.7404 - loss: 0.6346 - val_accuracy: 0.7475 - val_loss: 0.6451\n",
      "Epoch 120/500\n",
      "\u001b[1m39/39\u001b[0m \u001b[32m━━━━━━━━━━━━━━━━━━━━\u001b[0m\u001b[37m\u001b[0m \u001b[1m0s\u001b[0m 1ms/step - accuracy: 0.7392 - loss: 0.6344 - val_accuracy: 0.7475 - val_loss: 0.6450\n",
      "Epoch 121/500\n",
      "\u001b[1m39/39\u001b[0m \u001b[32m━━━━━━━━━━━━━━━━━━━━\u001b[0m\u001b[37m\u001b[0m \u001b[1m0s\u001b[0m 1ms/step - accuracy: 0.7412 - loss: 0.6342 - val_accuracy: 0.7465 - val_loss: 0.6447\n",
      "Epoch 122/500\n",
      "\u001b[1m39/39\u001b[0m \u001b[32m━━━━━━━━━━━━━━━━━━━━\u001b[0m\u001b[37m\u001b[0m \u001b[1m0s\u001b[0m 1ms/step - accuracy: 0.7410 - loss: 0.6338 - val_accuracy: 0.7475 - val_loss: 0.6447\n",
      "Epoch 123/500\n",
      "\u001b[1m39/39\u001b[0m \u001b[32m━━━━━━━━━━━━━━━━━━━━\u001b[0m\u001b[37m\u001b[0m \u001b[1m0s\u001b[0m 1ms/step - accuracy: 0.7410 - loss: 0.6336 - val_accuracy: 0.7465 - val_loss: 0.6445\n",
      "Epoch 124/500\n",
      "\u001b[1m39/39\u001b[0m \u001b[32m━━━━━━━━━━━━━━━━━━━━\u001b[0m\u001b[37m\u001b[0m \u001b[1m0s\u001b[0m 1ms/step - accuracy: 0.7407 - loss: 0.6333 - val_accuracy: 0.7475 - val_loss: 0.6444\n",
      "Epoch 125/500\n",
      "\u001b[1m39/39\u001b[0m \u001b[32m━━━━━━━━━━━━━━━━━━━━\u001b[0m\u001b[37m\u001b[0m \u001b[1m0s\u001b[0m 1ms/step - accuracy: 0.7412 - loss: 0.6332 - val_accuracy: 0.7465 - val_loss: 0.6439\n",
      "Epoch 126/500\n",
      "\u001b[1m39/39\u001b[0m \u001b[32m━━━━━━━━━━━━━━━━━━━━\u001b[0m\u001b[37m\u001b[0m \u001b[1m0s\u001b[0m 1ms/step - accuracy: 0.7411 - loss: 0.6329 - val_accuracy: 0.7484 - val_loss: 0.6437\n",
      "Epoch 127/500\n",
      "\u001b[1m39/39\u001b[0m \u001b[32m━━━━━━━━━━━━━━━━━━━━\u001b[0m\u001b[37m\u001b[0m \u001b[1m0s\u001b[0m 1ms/step - accuracy: 0.7409 - loss: 0.6326 - val_accuracy: 0.7475 - val_loss: 0.6436\n",
      "Epoch 128/500\n",
      "\u001b[1m39/39\u001b[0m \u001b[32m━━━━━━━━━━━━━━━━━━━━\u001b[0m\u001b[37m\u001b[0m \u001b[1m0s\u001b[0m 1ms/step - accuracy: 0.7405 - loss: 0.6324 - val_accuracy: 0.7484 - val_loss: 0.6433\n",
      "Epoch 129/500\n",
      "\u001b[1m39/39\u001b[0m \u001b[32m━━━━━━━━━━━━━━━━━━━━\u001b[0m\u001b[37m\u001b[0m \u001b[1m0s\u001b[0m 1ms/step - accuracy: 0.7407 - loss: 0.6320 - val_accuracy: 0.7493 - val_loss: 0.6438\n",
      "Epoch 130/500\n",
      "\u001b[1m39/39\u001b[0m \u001b[32m━━━━━━━━━━━━━━━━━━━━\u001b[0m\u001b[37m\u001b[0m \u001b[1m0s\u001b[0m 1ms/step - accuracy: 0.7405 - loss: 0.6320 - val_accuracy: 0.7475 - val_loss: 0.6435\n",
      "Epoch 131/500\n",
      "\u001b[1m39/39\u001b[0m \u001b[32m━━━━━━━━━━━━━━━━━━━━\u001b[0m\u001b[37m\u001b[0m \u001b[1m0s\u001b[0m 1ms/step - accuracy: 0.7405 - loss: 0.6316 - val_accuracy: 0.7493 - val_loss: 0.6434\n",
      "Epoch 132/500\n",
      "\u001b[1m39/39\u001b[0m \u001b[32m━━━━━━━━━━━━━━━━━━━━\u001b[0m\u001b[37m\u001b[0m \u001b[1m0s\u001b[0m 1ms/step - accuracy: 0.7403 - loss: 0.6315 - val_accuracy: 0.7484 - val_loss: 0.6428\n",
      "Epoch 133/500\n",
      "\u001b[1m39/39\u001b[0m \u001b[32m━━━━━━━━━━━━━━━━━━━━\u001b[0m\u001b[37m\u001b[0m \u001b[1m0s\u001b[0m 1ms/step - accuracy: 0.7414 - loss: 0.6311 - val_accuracy: 0.7484 - val_loss: 0.6430\n",
      "Epoch 134/500\n",
      "\u001b[1m39/39\u001b[0m \u001b[32m━━━━━━━━━━━━━━━━━━━━\u001b[0m\u001b[37m\u001b[0m \u001b[1m0s\u001b[0m 2ms/step - accuracy: 0.7404 - loss: 0.6311 - val_accuracy: 0.7475 - val_loss: 0.6425\n",
      "Epoch 135/500\n",
      "\u001b[1m39/39\u001b[0m \u001b[32m━━━━━━━━━━━━━━━━━━━━\u001b[0m\u001b[37m\u001b[0m \u001b[1m0s\u001b[0m 1ms/step - accuracy: 0.7403 - loss: 0.6307 - val_accuracy: 0.7493 - val_loss: 0.6425\n",
      "Epoch 136/500\n",
      "\u001b[1m39/39\u001b[0m \u001b[32m━━━━━━━━━━━━━━━━━━━━\u001b[0m\u001b[37m\u001b[0m \u001b[1m0s\u001b[0m 1ms/step - accuracy: 0.7408 - loss: 0.6308 - val_accuracy: 0.7502 - val_loss: 0.6421\n",
      "Epoch 137/500\n",
      "\u001b[1m39/39\u001b[0m \u001b[32m━━━━━━━━━━━━━━━━━━━━\u001b[0m\u001b[37m\u001b[0m \u001b[1m0s\u001b[0m 1ms/step - accuracy: 0.7409 - loss: 0.6303 - val_accuracy: 0.7502 - val_loss: 0.6421\n",
      "Epoch 138/500\n",
      "\u001b[1m39/39\u001b[0m \u001b[32m━━━━━━━━━━━━━━━━━━━━\u001b[0m\u001b[37m\u001b[0m \u001b[1m0s\u001b[0m 1ms/step - accuracy: 0.7414 - loss: 0.6302 - val_accuracy: 0.7521 - val_loss: 0.6417\n",
      "Epoch 139/500\n",
      "\u001b[1m39/39\u001b[0m \u001b[32m━━━━━━━━━━━━━━━━━━━━\u001b[0m\u001b[37m\u001b[0m \u001b[1m0s\u001b[0m 1ms/step - accuracy: 0.7412 - loss: 0.6300 - val_accuracy: 0.7521 - val_loss: 0.6414\n",
      "Epoch 140/500\n",
      "\u001b[1m39/39\u001b[0m \u001b[32m━━━━━━━━━━━━━━━━━━━━\u001b[0m\u001b[37m\u001b[0m \u001b[1m0s\u001b[0m 1ms/step - accuracy: 0.7419 - loss: 0.6297 - val_accuracy: 0.7530 - val_loss: 0.6409\n",
      "Epoch 141/500\n",
      "\u001b[1m39/39\u001b[0m \u001b[32m━━━━━━━━━━━━━━━━━━━━\u001b[0m\u001b[37m\u001b[0m \u001b[1m0s\u001b[0m 1ms/step - accuracy: 0.7416 - loss: 0.6294 - val_accuracy: 0.7539 - val_loss: 0.6411\n",
      "Epoch 142/500\n",
      "\u001b[1m39/39\u001b[0m \u001b[32m━━━━━━━━━━━━━━━━━━━━\u001b[0m\u001b[37m\u001b[0m \u001b[1m0s\u001b[0m 1ms/step - accuracy: 0.7416 - loss: 0.6294 - val_accuracy: 0.7548 - val_loss: 0.6405\n",
      "Epoch 143/500\n",
      "\u001b[1m39/39\u001b[0m \u001b[32m━━━━━━━━━━━━━━━━━━━━\u001b[0m\u001b[37m\u001b[0m \u001b[1m0s\u001b[0m 1ms/step - accuracy: 0.7418 - loss: 0.6290 - val_accuracy: 0.7548 - val_loss: 0.6403\n",
      "Epoch 144/500\n",
      "\u001b[1m39/39\u001b[0m \u001b[32m━━━━━━━━━━━━━━━━━━━━\u001b[0m\u001b[37m\u001b[0m \u001b[1m0s\u001b[0m 1ms/step - accuracy: 0.7412 - loss: 0.6288 - val_accuracy: 0.7548 - val_loss: 0.6399\n",
      "Epoch 145/500\n",
      "\u001b[1m39/39\u001b[0m \u001b[32m━━━━━━━━━━━━━━━━━━━━\u001b[0m\u001b[37m\u001b[0m \u001b[1m0s\u001b[0m 1ms/step - accuracy: 0.7416 - loss: 0.6285 - val_accuracy: 0.7548 - val_loss: 0.6396\n",
      "Epoch 146/500\n",
      "\u001b[1m39/39\u001b[0m \u001b[32m━━━━━━━━━━━━━━━━━━━━\u001b[0m\u001b[37m\u001b[0m \u001b[1m0s\u001b[0m 1ms/step - accuracy: 0.7407 - loss: 0.6283 - val_accuracy: 0.7558 - val_loss: 0.6397\n",
      "Epoch 147/500\n",
      "\u001b[1m39/39\u001b[0m \u001b[32m━━━━━━━━━━━━━━━━━━━━\u001b[0m\u001b[37m\u001b[0m \u001b[1m0s\u001b[0m 1ms/step - accuracy: 0.7420 - loss: 0.6281 - val_accuracy: 0.7558 - val_loss: 0.6394\n",
      "Epoch 148/500\n",
      "\u001b[1m39/39\u001b[0m \u001b[32m━━━━━━━━━━━━━━━━━━━━\u001b[0m\u001b[37m\u001b[0m \u001b[1m0s\u001b[0m 1ms/step - accuracy: 0.7418 - loss: 0.6278 - val_accuracy: 0.7558 - val_loss: 0.6396\n",
      "Epoch 149/500\n",
      "\u001b[1m39/39\u001b[0m \u001b[32m━━━━━━━━━━━━━━━━━━━━\u001b[0m\u001b[37m\u001b[0m \u001b[1m0s\u001b[0m 1ms/step - accuracy: 0.7420 - loss: 0.6276 - val_accuracy: 0.7558 - val_loss: 0.6392\n",
      "Epoch 150/500\n",
      "\u001b[1m39/39\u001b[0m \u001b[32m━━━━━━━━━━━━━━━━━━━━\u001b[0m\u001b[37m\u001b[0m \u001b[1m0s\u001b[0m 1ms/step - accuracy: 0.7420 - loss: 0.6274 - val_accuracy: 0.7558 - val_loss: 0.6392\n",
      "Epoch 151/500\n",
      "\u001b[1m39/39\u001b[0m \u001b[32m━━━━━━━━━━━━━━━━━━━━\u001b[0m\u001b[37m\u001b[0m \u001b[1m0s\u001b[0m 2ms/step - accuracy: 0.7417 - loss: 0.6274 - val_accuracy: 0.7539 - val_loss: 0.6385\n",
      "Epoch 152/500\n",
      "\u001b[1m39/39\u001b[0m \u001b[32m━━━━━━━━━━━━━━━━━━━━\u001b[0m\u001b[37m\u001b[0m \u001b[1m0s\u001b[0m 1ms/step - accuracy: 0.7422 - loss: 0.6270 - val_accuracy: 0.7558 - val_loss: 0.6387\n",
      "Epoch 153/500\n",
      "\u001b[1m39/39\u001b[0m \u001b[32m━━━━━━━━━━━━━━━━━━━━\u001b[0m\u001b[37m\u001b[0m \u001b[1m0s\u001b[0m 1ms/step - accuracy: 0.7425 - loss: 0.6269 - val_accuracy: 0.7558 - val_loss: 0.6388\n",
      "Epoch 154/500\n",
      "\u001b[1m39/39\u001b[0m \u001b[32m━━━━━━━━━━━━━━━━━━━━\u001b[0m\u001b[37m\u001b[0m \u001b[1m0s\u001b[0m 1ms/step - accuracy: 0.7418 - loss: 0.6268 - val_accuracy: 0.7558 - val_loss: 0.6385\n",
      "Epoch 155/500\n",
      "\u001b[1m39/39\u001b[0m \u001b[32m━━━━━━━━━━━━━━━━━━━━\u001b[0m\u001b[37m\u001b[0m \u001b[1m0s\u001b[0m 1ms/step - accuracy: 0.7424 - loss: 0.6265 - val_accuracy: 0.7548 - val_loss: 0.6385\n",
      "Epoch 156/500\n",
      "\u001b[1m39/39\u001b[0m \u001b[32m━━━━━━━━━━━━━━━━━━━━\u001b[0m\u001b[37m\u001b[0m \u001b[1m0s\u001b[0m 1ms/step - accuracy: 0.7429 - loss: 0.6264 - val_accuracy: 0.7548 - val_loss: 0.6382\n",
      "Epoch 157/500\n",
      "\u001b[1m39/39\u001b[0m \u001b[32m━━━━━━━━━━━━━━━━━━━━\u001b[0m\u001b[37m\u001b[0m \u001b[1m0s\u001b[0m 1ms/step - accuracy: 0.7430 - loss: 0.6261 - val_accuracy: 0.7548 - val_loss: 0.6382\n",
      "Epoch 158/500\n",
      "\u001b[1m39/39\u001b[0m \u001b[32m━━━━━━━━━━━━━━━━━━━━\u001b[0m\u001b[37m\u001b[0m \u001b[1m0s\u001b[0m 1ms/step - accuracy: 0.7428 - loss: 0.6260 - val_accuracy: 0.7548 - val_loss: 0.6380\n",
      "Epoch 159/500\n",
      "\u001b[1m39/39\u001b[0m \u001b[32m━━━━━━━━━━━━━━━━━━━━\u001b[0m\u001b[37m\u001b[0m \u001b[1m0s\u001b[0m 1ms/step - accuracy: 0.7431 - loss: 0.6258 - val_accuracy: 0.7558 - val_loss: 0.6382\n",
      "Epoch 160/500\n",
      "\u001b[1m39/39\u001b[0m \u001b[32m━━━━━━━━━━━━━━━━━━━━\u001b[0m\u001b[37m\u001b[0m \u001b[1m0s\u001b[0m 1ms/step - accuracy: 0.7431 - loss: 0.6257 - val_accuracy: 0.7558 - val_loss: 0.6383\n",
      "Epoch 161/500\n",
      "\u001b[1m39/39\u001b[0m \u001b[32m━━━━━━━━━━━━━━━━━━━━\u001b[0m\u001b[37m\u001b[0m \u001b[1m0s\u001b[0m 1ms/step - accuracy: 0.7435 - loss: 0.6255 - val_accuracy: 0.7548 - val_loss: 0.6382\n",
      "Epoch 162/500\n",
      "\u001b[1m39/39\u001b[0m \u001b[32m━━━━━━━━━━━━━━━━━━━━\u001b[0m\u001b[37m\u001b[0m \u001b[1m0s\u001b[0m 1ms/step - accuracy: 0.7439 - loss: 0.6254 - val_accuracy: 0.7539 - val_loss: 0.6375\n",
      "Epoch 163/500\n",
      "\u001b[1m39/39\u001b[0m \u001b[32m━━━━━━━━━━━━━━━━━━━━\u001b[0m\u001b[37m\u001b[0m \u001b[1m0s\u001b[0m 1ms/step - accuracy: 0.7451 - loss: 0.6250 - val_accuracy: 0.7548 - val_loss: 0.6376\n",
      "Epoch 164/500\n",
      "\u001b[1m39/39\u001b[0m \u001b[32m━━━━━━━━━━━━━━━━━━━━\u001b[0m\u001b[37m\u001b[0m \u001b[1m0s\u001b[0m 1ms/step - accuracy: 0.7449 - loss: 0.6248 - val_accuracy: 0.7539 - val_loss: 0.6377\n",
      "Epoch 165/500\n",
      "\u001b[1m39/39\u001b[0m \u001b[32m━━━━━━━━━━━━━━━━━━━━\u001b[0m\u001b[37m\u001b[0m \u001b[1m0s\u001b[0m 1ms/step - accuracy: 0.7445 - loss: 0.6248 - val_accuracy: 0.7530 - val_loss: 0.6375\n",
      "Epoch 166/500\n",
      "\u001b[1m39/39\u001b[0m \u001b[32m━━━━━━━━━━━━━━━━━━━━\u001b[0m\u001b[37m\u001b[0m \u001b[1m0s\u001b[0m 2ms/step - accuracy: 0.7448 - loss: 0.6246 - val_accuracy: 0.7539 - val_loss: 0.6377\n",
      "Epoch 167/500\n",
      "\u001b[1m39/39\u001b[0m \u001b[32m━━━━━━━━━━━━━━━━━━━━\u001b[0m\u001b[37m\u001b[0m \u001b[1m0s\u001b[0m 1ms/step - accuracy: 0.7449 - loss: 0.6245 - val_accuracy: 0.7539 - val_loss: 0.6375\n",
      "Epoch 168/500\n",
      "\u001b[1m39/39\u001b[0m \u001b[32m━━━━━━━━━━━━━━━━━━━━\u001b[0m\u001b[37m\u001b[0m \u001b[1m0s\u001b[0m 1ms/step - accuracy: 0.7446 - loss: 0.6244 - val_accuracy: 0.7558 - val_loss: 0.6373\n",
      "Epoch 169/500\n",
      "\u001b[1m39/39\u001b[0m \u001b[32m━━━━━━━━━━━━━━━━━━━━\u001b[0m\u001b[37m\u001b[0m \u001b[1m0s\u001b[0m 1ms/step - accuracy: 0.7445 - loss: 0.6243 - val_accuracy: 0.7539 - val_loss: 0.6374\n",
      "Epoch 170/500\n",
      "\u001b[1m39/39\u001b[0m \u001b[32m━━━━━━━━━━━━━━━━━━━━\u001b[0m\u001b[37m\u001b[0m \u001b[1m0s\u001b[0m 1ms/step - accuracy: 0.7445 - loss: 0.6241 - val_accuracy: 0.7558 - val_loss: 0.6374\n",
      "Epoch 171/500\n",
      "\u001b[1m39/39\u001b[0m \u001b[32m━━━━━━━━━━━━━━━━━━━━\u001b[0m\u001b[37m\u001b[0m \u001b[1m0s\u001b[0m 1ms/step - accuracy: 0.7451 - loss: 0.6240 - val_accuracy: 0.7539 - val_loss: 0.6373\n",
      "Epoch 172/500\n",
      "\u001b[1m39/39\u001b[0m \u001b[32m━━━━━━━━━━━━━━━━━━━━\u001b[0m\u001b[37m\u001b[0m \u001b[1m0s\u001b[0m 1ms/step - accuracy: 0.7449 - loss: 0.6239 - val_accuracy: 0.7558 - val_loss: 0.6373\n",
      "Epoch 173/500\n",
      "\u001b[1m39/39\u001b[0m \u001b[32m━━━━━━━━━━━━━━━━━━━━\u001b[0m\u001b[37m\u001b[0m \u001b[1m0s\u001b[0m 1ms/step - accuracy: 0.7456 - loss: 0.6238 - val_accuracy: 0.7558 - val_loss: 0.6370\n",
      "Epoch 174/500\n",
      "\u001b[1m39/39\u001b[0m \u001b[32m━━━━━━━━━━━━━━━━━━━━\u001b[0m\u001b[37m\u001b[0m \u001b[1m0s\u001b[0m 1ms/step - accuracy: 0.7458 - loss: 0.6236 - val_accuracy: 0.7567 - val_loss: 0.6371\n",
      "Epoch 175/500\n",
      "\u001b[1m39/39\u001b[0m \u001b[32m━━━━━━━━━━━━━━━━━━━━\u001b[0m\u001b[37m\u001b[0m \u001b[1m0s\u001b[0m 1ms/step - accuracy: 0.7456 - loss: 0.6234 - val_accuracy: 0.7558 - val_loss: 0.6371\n",
      "Epoch 176/500\n",
      "\u001b[1m39/39\u001b[0m \u001b[32m━━━━━━━━━━━━━━━━━━━━\u001b[0m\u001b[37m\u001b[0m \u001b[1m0s\u001b[0m 1ms/step - accuracy: 0.7452 - loss: 0.6233 - val_accuracy: 0.7558 - val_loss: 0.6367\n",
      "Epoch 177/500\n",
      "\u001b[1m39/39\u001b[0m \u001b[32m━━━━━━━━━━━━━━━━━━━━\u001b[0m\u001b[37m\u001b[0m \u001b[1m0s\u001b[0m 1ms/step - accuracy: 0.7466 - loss: 0.6231 - val_accuracy: 0.7576 - val_loss: 0.6369\n",
      "Epoch 178/500\n",
      "\u001b[1m39/39\u001b[0m \u001b[32m━━━━━━━━━━━━━━━━━━━━\u001b[0m\u001b[37m\u001b[0m \u001b[1m0s\u001b[0m 2ms/step - accuracy: 0.7460 - loss: 0.6230 - val_accuracy: 0.7567 - val_loss: 0.6368\n",
      "Epoch 179/500\n",
      "\u001b[1m39/39\u001b[0m \u001b[32m━━━━━━━━━━━━━━━━━━━━\u001b[0m\u001b[37m\u001b[0m \u001b[1m0s\u001b[0m 1ms/step - accuracy: 0.7461 - loss: 0.6227 - val_accuracy: 0.7558 - val_loss: 0.6367\n",
      "Epoch 180/500\n",
      "\u001b[1m39/39\u001b[0m \u001b[32m━━━━━━━━━━━━━━━━━━━━\u001b[0m\u001b[37m\u001b[0m \u001b[1m0s\u001b[0m 1ms/step - accuracy: 0.7460 - loss: 0.6226 - val_accuracy: 0.7530 - val_loss: 0.6365\n",
      "Epoch 181/500\n",
      "\u001b[1m39/39\u001b[0m \u001b[32m━━━━━━━━━━━━━━━━━━━━\u001b[0m\u001b[37m\u001b[0m \u001b[1m0s\u001b[0m 1ms/step - accuracy: 0.7457 - loss: 0.6223 - val_accuracy: 0.7521 - val_loss: 0.6367\n",
      "Epoch 182/500\n",
      "\u001b[1m39/39\u001b[0m \u001b[32m━━━━━━━━━━━━━━━━━━━━\u001b[0m\u001b[37m\u001b[0m \u001b[1m0s\u001b[0m 1ms/step - accuracy: 0.7454 - loss: 0.6221 - val_accuracy: 0.7512 - val_loss: 0.6367\n",
      "Epoch 183/500\n",
      "\u001b[1m39/39\u001b[0m \u001b[32m━━━━━━━━━━━━━━━━━━━━\u001b[0m\u001b[37m\u001b[0m \u001b[1m0s\u001b[0m 1ms/step - accuracy: 0.7455 - loss: 0.6219 - val_accuracy: 0.7512 - val_loss: 0.6366\n",
      "Epoch 184/500\n",
      "\u001b[1m39/39\u001b[0m \u001b[32m━━━━━━━━━━━━━━━━━━━━\u001b[0m\u001b[37m\u001b[0m \u001b[1m0s\u001b[0m 1ms/step - accuracy: 0.7455 - loss: 0.6217 - val_accuracy: 0.7502 - val_loss: 0.6364\n",
      "Epoch 185/500\n",
      "\u001b[1m39/39\u001b[0m \u001b[32m━━━━━━━━━━━━━━━━━━━━\u001b[0m\u001b[37m\u001b[0m \u001b[1m0s\u001b[0m 2ms/step - accuracy: 0.7456 - loss: 0.6215 - val_accuracy: 0.7512 - val_loss: 0.6365\n",
      "Epoch 186/500\n",
      "\u001b[1m39/39\u001b[0m \u001b[32m━━━━━━━━━━━━━━━━━━━━\u001b[0m\u001b[37m\u001b[0m \u001b[1m0s\u001b[0m 1ms/step - accuracy: 0.7455 - loss: 0.6214 - val_accuracy: 0.7530 - val_loss: 0.6360\n",
      "Epoch 187/500\n",
      "\u001b[1m39/39\u001b[0m \u001b[32m━━━━━━━━━━━━━━━━━━━━\u001b[0m\u001b[37m\u001b[0m \u001b[1m0s\u001b[0m 1ms/step - accuracy: 0.7465 - loss: 0.6210 - val_accuracy: 0.7502 - val_loss: 0.6365\n",
      "Epoch 188/500\n",
      "\u001b[1m39/39\u001b[0m \u001b[32m━━━━━━━━━━━━━━━━━━━━\u001b[0m\u001b[37m\u001b[0m \u001b[1m0s\u001b[0m 1ms/step - accuracy: 0.7459 - loss: 0.6210 - val_accuracy: 0.7521 - val_loss: 0.6359\n",
      "Epoch 189/500\n",
      "\u001b[1m39/39\u001b[0m \u001b[32m━━━━━━━━━━━━━━━━━━━━\u001b[0m\u001b[37m\u001b[0m \u001b[1m0s\u001b[0m 1ms/step - accuracy: 0.7458 - loss: 0.6206 - val_accuracy: 0.7521 - val_loss: 0.6364\n",
      "Epoch 190/500\n",
      "\u001b[1m39/39\u001b[0m \u001b[32m━━━━━━━━━━━━━━━━━━━━\u001b[0m\u001b[37m\u001b[0m \u001b[1m0s\u001b[0m 1ms/step - accuracy: 0.7461 - loss: 0.6205 - val_accuracy: 0.7530 - val_loss: 0.6363\n",
      "Epoch 191/500\n",
      "\u001b[1m39/39\u001b[0m \u001b[32m━━━━━━━━━━━━━━━━━━━━\u001b[0m\u001b[37m\u001b[0m \u001b[1m0s\u001b[0m 1ms/step - accuracy: 0.7463 - loss: 0.6203 - val_accuracy: 0.7530 - val_loss: 0.6364\n",
      "Epoch 192/500\n",
      "\u001b[1m39/39\u001b[0m \u001b[32m━━━━━━━━━━━━━━━━━━━━\u001b[0m\u001b[37m\u001b[0m \u001b[1m0s\u001b[0m 1ms/step - accuracy: 0.7449 - loss: 0.6201 - val_accuracy: 0.7548 - val_loss: 0.6362\n",
      "Epoch 193/500\n",
      "\u001b[1m39/39\u001b[0m \u001b[32m━━━━━━━━━━━━━━━━━━━━\u001b[0m\u001b[37m\u001b[0m \u001b[1m0s\u001b[0m 1ms/step - accuracy: 0.7461 - loss: 0.6199 - val_accuracy: 0.7521 - val_loss: 0.6365\n",
      "Epoch 194/500\n",
      "\u001b[1m39/39\u001b[0m \u001b[32m━━━━━━━━━━━━━━━━━━━━\u001b[0m\u001b[37m\u001b[0m \u001b[1m0s\u001b[0m 1ms/step - accuracy: 0.7454 - loss: 0.6199 - val_accuracy: 0.7530 - val_loss: 0.6363\n",
      "Epoch 195/500\n",
      "\u001b[1m39/39\u001b[0m \u001b[32m━━━━━━━━━━━━━━━━━━━━\u001b[0m\u001b[37m\u001b[0m \u001b[1m0s\u001b[0m 1ms/step - accuracy: 0.7467 - loss: 0.6194 - val_accuracy: 0.7539 - val_loss: 0.6364\n",
      "Epoch 196/500\n",
      "\u001b[1m39/39\u001b[0m \u001b[32m━━━━━━━━━━━━━━━━━━━━\u001b[0m\u001b[37m\u001b[0m \u001b[1m0s\u001b[0m 1ms/step - accuracy: 0.7470 - loss: 0.6192 - val_accuracy: 0.7539 - val_loss: 0.6362\n",
      "Epoch 197/500\n",
      "\u001b[1m39/39\u001b[0m \u001b[32m━━━━━━━━━━━━━━━━━━━━\u001b[0m\u001b[37m\u001b[0m \u001b[1m0s\u001b[0m 1ms/step - accuracy: 0.7472 - loss: 0.6191 - val_accuracy: 0.7539 - val_loss: 0.6364\n",
      "Epoch 198/500\n",
      "\u001b[1m39/39\u001b[0m \u001b[32m━━━━━━━━━━━━━━━━━━━━\u001b[0m\u001b[37m\u001b[0m \u001b[1m0s\u001b[0m 1ms/step - accuracy: 0.7481 - loss: 0.6188 - val_accuracy: 0.7521 - val_loss: 0.6361\n",
      "Epoch 199/500\n",
      "\u001b[1m39/39\u001b[0m \u001b[32m━━━━━━━━━━━━━━━━━━━━\u001b[0m\u001b[37m\u001b[0m \u001b[1m0s\u001b[0m 2ms/step - accuracy: 0.7472 - loss: 0.6186 - val_accuracy: 0.7539 - val_loss: 0.6363\n",
      "Epoch 200/500\n",
      "\u001b[1m39/39\u001b[0m \u001b[32m━━━━━━━━━━━━━━━━━━━━\u001b[0m\u001b[37m\u001b[0m \u001b[1m0s\u001b[0m 1ms/step - accuracy: 0.7469 - loss: 0.6185 - val_accuracy: 0.7539 - val_loss: 0.6360\n",
      "Epoch 201/500\n",
      "\u001b[1m39/39\u001b[0m \u001b[32m━━━━━━━━━━━━━━━━━━━━\u001b[0m\u001b[37m\u001b[0m \u001b[1m0s\u001b[0m 1ms/step - accuracy: 0.7486 - loss: 0.6182 - val_accuracy: 0.7512 - val_loss: 0.6361\n",
      "Epoch 202/500\n",
      "\u001b[1m39/39\u001b[0m \u001b[32m━━━━━━━━━━━━━━━━━━━━\u001b[0m\u001b[37m\u001b[0m \u001b[1m0s\u001b[0m 1ms/step - accuracy: 0.7478 - loss: 0.6182 - val_accuracy: 0.7512 - val_loss: 0.6362\n",
      "Epoch 203/500\n",
      "\u001b[1m39/39\u001b[0m \u001b[32m━━━━━━━━━━━━━━━━━━━━\u001b[0m\u001b[37m\u001b[0m \u001b[1m0s\u001b[0m 1ms/step - accuracy: 0.7491 - loss: 0.6180 - val_accuracy: 0.7512 - val_loss: 0.6364\n",
      "Epoch 204/500\n",
      "\u001b[1m39/39\u001b[0m \u001b[32m━━━━━━━━━━━━━━━━━━━━\u001b[0m\u001b[37m\u001b[0m \u001b[1m0s\u001b[0m 1ms/step - accuracy: 0.7479 - loss: 0.6178 - val_accuracy: 0.7502 - val_loss: 0.6362\n",
      "Epoch 205/500\n",
      "\u001b[1m39/39\u001b[0m \u001b[32m━━━━━━━━━━━━━━━━━━━━\u001b[0m\u001b[37m\u001b[0m \u001b[1m0s\u001b[0m 1ms/step - accuracy: 0.7493 - loss: 0.6176 - val_accuracy: 0.7512 - val_loss: 0.6357\n",
      "Epoch 206/500\n",
      "\u001b[1m39/39\u001b[0m \u001b[32m━━━━━━━━━━━━━━━━━━━━\u001b[0m\u001b[37m\u001b[0m \u001b[1m0s\u001b[0m 1ms/step - accuracy: 0.7479 - loss: 0.6175 - val_accuracy: 0.7502 - val_loss: 0.6363\n",
      "Epoch 207/500\n",
      "\u001b[1m39/39\u001b[0m \u001b[32m━━━━━━━━━━━━━━━━━━━━\u001b[0m\u001b[37m\u001b[0m \u001b[1m0s\u001b[0m 1ms/step - accuracy: 0.7484 - loss: 0.6174 - val_accuracy: 0.7512 - val_loss: 0.6355\n",
      "Epoch 208/500\n",
      "\u001b[1m39/39\u001b[0m \u001b[32m━━━━━━━━━━━━━━━━━━━━\u001b[0m\u001b[37m\u001b[0m \u001b[1m0s\u001b[0m 1ms/step - accuracy: 0.7477 - loss: 0.6172 - val_accuracy: 0.7493 - val_loss: 0.6359\n",
      "Epoch 209/500\n",
      "\u001b[1m39/39\u001b[0m \u001b[32m━━━━━━━━━━━━━━━━━━━━\u001b[0m\u001b[37m\u001b[0m \u001b[1m0s\u001b[0m 1ms/step - accuracy: 0.7478 - loss: 0.6170 - val_accuracy: 0.7484 - val_loss: 0.6354\n",
      "Epoch 210/500\n",
      "\u001b[1m39/39\u001b[0m \u001b[32m━━━━━━━━━━━━━━━━━━━━\u001b[0m\u001b[37m\u001b[0m \u001b[1m0s\u001b[0m 1ms/step - accuracy: 0.7488 - loss: 0.6169 - val_accuracy: 0.7502 - val_loss: 0.6364\n",
      "Epoch 211/500\n",
      "\u001b[1m39/39\u001b[0m \u001b[32m━━━━━━━━━━━━━━━━━━━━\u001b[0m\u001b[37m\u001b[0m \u001b[1m0s\u001b[0m 1ms/step - accuracy: 0.7487 - loss: 0.6170 - val_accuracy: 0.7502 - val_loss: 0.6358\n",
      "Epoch 212/500\n",
      "\u001b[1m39/39\u001b[0m \u001b[32m━━━━━━━━━━━━━━━━━━━━\u001b[0m\u001b[37m\u001b[0m \u001b[1m0s\u001b[0m 1ms/step - accuracy: 0.7487 - loss: 0.6167 - val_accuracy: 0.7484 - val_loss: 0.6355\n",
      "Epoch 213/500\n",
      "\u001b[1m39/39\u001b[0m \u001b[32m━━━━━━━━━━━━━━━━━━━━\u001b[0m\u001b[37m\u001b[0m \u001b[1m0s\u001b[0m 2ms/step - accuracy: 0.7487 - loss: 0.6164 - val_accuracy: 0.7502 - val_loss: 0.6358\n",
      "Epoch 214/500\n",
      "\u001b[1m39/39\u001b[0m \u001b[32m━━━━━━━━━━━━━━━━━━━━\u001b[0m\u001b[37m\u001b[0m \u001b[1m0s\u001b[0m 1ms/step - accuracy: 0.7490 - loss: 0.6164 - val_accuracy: 0.7502 - val_loss: 0.6354\n",
      "Epoch 215/500\n",
      "\u001b[1m39/39\u001b[0m \u001b[32m━━━━━━━━━━━━━━━━━━━━\u001b[0m\u001b[37m\u001b[0m \u001b[1m0s\u001b[0m 1ms/step - accuracy: 0.7493 - loss: 0.6161 - val_accuracy: 0.7502 - val_loss: 0.6357\n",
      "Epoch 216/500\n",
      "\u001b[1m39/39\u001b[0m \u001b[32m━━━━━━━━━━━━━━━━━━━━\u001b[0m\u001b[37m\u001b[0m \u001b[1m0s\u001b[0m 1ms/step - accuracy: 0.7494 - loss: 0.6160 - val_accuracy: 0.7512 - val_loss: 0.6354\n",
      "Epoch 217/500\n",
      "\u001b[1m39/39\u001b[0m \u001b[32m━━━━━━━━━━━━━━━━━━━━\u001b[0m\u001b[37m\u001b[0m \u001b[1m0s\u001b[0m 1ms/step - accuracy: 0.7493 - loss: 0.6159 - val_accuracy: 0.7512 - val_loss: 0.6350\n",
      "Epoch 218/500\n",
      "\u001b[1m39/39\u001b[0m \u001b[32m━━━━━━━━━━━━━━━━━━━━\u001b[0m\u001b[37m\u001b[0m \u001b[1m0s\u001b[0m 1ms/step - accuracy: 0.7487 - loss: 0.6157 - val_accuracy: 0.7502 - val_loss: 0.6353\n",
      "Epoch 219/500\n",
      "\u001b[1m39/39\u001b[0m \u001b[32m━━━━━━━━━━━━━━━━━━━━\u001b[0m\u001b[37m\u001b[0m \u001b[1m0s\u001b[0m 1ms/step - accuracy: 0.7497 - loss: 0.6157 - val_accuracy: 0.7512 - val_loss: 0.6348\n",
      "Epoch 220/500\n",
      "\u001b[1m39/39\u001b[0m \u001b[32m━━━━━━━━━━━━━━━━━━━━\u001b[0m\u001b[37m\u001b[0m \u001b[1m0s\u001b[0m 1ms/step - accuracy: 0.7494 - loss: 0.6155 - val_accuracy: 0.7493 - val_loss: 0.6353\n",
      "Epoch 221/500\n",
      "\u001b[1m39/39\u001b[0m \u001b[32m━━━━━━━━━━━━━━━━━━━━\u001b[0m\u001b[37m\u001b[0m \u001b[1m0s\u001b[0m 1ms/step - accuracy: 0.7494 - loss: 0.6155 - val_accuracy: 0.7512 - val_loss: 0.6344\n",
      "Epoch 222/500\n",
      "\u001b[1m39/39\u001b[0m \u001b[32m━━━━━━━━━━━━━━━━━━━━\u001b[0m\u001b[37m\u001b[0m \u001b[1m0s\u001b[0m 1ms/step - accuracy: 0.7501 - loss: 0.6154 - val_accuracy: 0.7502 - val_loss: 0.6351\n",
      "Epoch 223/500\n",
      "\u001b[1m39/39\u001b[0m \u001b[32m━━━━━━━━━━━━━━━━━━━━\u001b[0m\u001b[37m\u001b[0m \u001b[1m0s\u001b[0m 1ms/step - accuracy: 0.7493 - loss: 0.6152 - val_accuracy: 0.7502 - val_loss: 0.6347\n",
      "Epoch 224/500\n",
      "\u001b[1m39/39\u001b[0m \u001b[32m━━━━━━━━━━━━━━━━━━━━\u001b[0m\u001b[37m\u001b[0m \u001b[1m0s\u001b[0m 1ms/step - accuracy: 0.7504 - loss: 0.6152 - val_accuracy: 0.7493 - val_loss: 0.6349\n",
      "Epoch 225/500\n",
      "\u001b[1m39/39\u001b[0m \u001b[32m━━━━━━━━━━━━━━━━━━━━\u001b[0m\u001b[37m\u001b[0m \u001b[1m0s\u001b[0m 1ms/step - accuracy: 0.7493 - loss: 0.6150 - val_accuracy: 0.7502 - val_loss: 0.6342\n",
      "Epoch 226/500\n",
      "\u001b[1m39/39\u001b[0m \u001b[32m━━━━━━━━━━━━━━━━━━━━\u001b[0m\u001b[37m\u001b[0m \u001b[1m0s\u001b[0m 1ms/step - accuracy: 0.7504 - loss: 0.6149 - val_accuracy: 0.7502 - val_loss: 0.6349\n",
      "Epoch 227/500\n",
      "\u001b[1m39/39\u001b[0m \u001b[32m━━━━━━━━━━━━━━━━━━━━\u001b[0m\u001b[37m\u001b[0m \u001b[1m0s\u001b[0m 1ms/step - accuracy: 0.7504 - loss: 0.6147 - val_accuracy: 0.7512 - val_loss: 0.6348\n",
      "Epoch 228/500\n",
      "\u001b[1m39/39\u001b[0m \u001b[32m━━━━━━━━━━━━━━━━━━━━\u001b[0m\u001b[37m\u001b[0m \u001b[1m0s\u001b[0m 1ms/step - accuracy: 0.7508 - loss: 0.6148 - val_accuracy: 0.7521 - val_loss: 0.6347\n",
      "Epoch 229/500\n",
      "\u001b[1m39/39\u001b[0m \u001b[32m━━━━━━━━━━━━━━━━━━━━\u001b[0m\u001b[37m\u001b[0m \u001b[1m0s\u001b[0m 1ms/step - accuracy: 0.7500 - loss: 0.6145 - val_accuracy: 0.7512 - val_loss: 0.6349\n",
      "Epoch 230/500\n",
      "\u001b[1m39/39\u001b[0m \u001b[32m━━━━━━━━━━━━━━━━━━━━\u001b[0m\u001b[37m\u001b[0m \u001b[1m0s\u001b[0m 1ms/step - accuracy: 0.7497 - loss: 0.6147 - val_accuracy: 0.7521 - val_loss: 0.6351\n",
      "Epoch 231/500\n",
      "\u001b[1m39/39\u001b[0m \u001b[32m━━━━━━━━━━━━━━━━━━━━\u001b[0m\u001b[37m\u001b[0m \u001b[1m0s\u001b[0m 1ms/step - accuracy: 0.7499 - loss: 0.6143 - val_accuracy: 0.7521 - val_loss: 0.6350\n",
      "Epoch 232/500\n",
      "\u001b[1m39/39\u001b[0m \u001b[32m━━━━━━━━━━━━━━━━━━━━\u001b[0m\u001b[37m\u001b[0m \u001b[1m0s\u001b[0m 1ms/step - accuracy: 0.7500 - loss: 0.6146 - val_accuracy: 0.7521 - val_loss: 0.6350\n",
      "Epoch 233/500\n",
      "\u001b[1m39/39\u001b[0m \u001b[32m━━━━━━━━━━━━━━━━━━━━\u001b[0m\u001b[37m\u001b[0m \u001b[1m0s\u001b[0m 1ms/step - accuracy: 0.7495 - loss: 0.6141 - val_accuracy: 0.7521 - val_loss: 0.6347\n",
      "Epoch 234/500\n",
      "\u001b[1m39/39\u001b[0m \u001b[32m━━━━━━━━━━━━━━━━━━━━\u001b[0m\u001b[37m\u001b[0m \u001b[1m0s\u001b[0m 1ms/step - accuracy: 0.7500 - loss: 0.6142 - val_accuracy: 0.7512 - val_loss: 0.6351\n",
      "Epoch 235/500\n",
      "\u001b[1m39/39\u001b[0m \u001b[32m━━━━━━━━━━━━━━━━━━━━\u001b[0m\u001b[37m\u001b[0m \u001b[1m0s\u001b[0m 1ms/step - accuracy: 0.7498 - loss: 0.6139 - val_accuracy: 0.7512 - val_loss: 0.6349\n",
      "Epoch 236/500\n",
      "\u001b[1m39/39\u001b[0m \u001b[32m━━━━━━━━━━━━━━━━━━━━\u001b[0m\u001b[37m\u001b[0m \u001b[1m0s\u001b[0m 1ms/step - accuracy: 0.7501 - loss: 0.6140 - val_accuracy: 0.7521 - val_loss: 0.6351\n",
      "Epoch 237/500\n",
      "\u001b[1m39/39\u001b[0m \u001b[32m━━━━━━━━━━━━━━━━━━━━\u001b[0m\u001b[37m\u001b[0m \u001b[1m0s\u001b[0m 1ms/step - accuracy: 0.7493 - loss: 0.6138 - val_accuracy: 0.7521 - val_loss: 0.6342\n",
      "Epoch 238/500\n",
      "\u001b[1m39/39\u001b[0m \u001b[32m━━━━━━━━━━━━━━━━━━━━\u001b[0m\u001b[37m\u001b[0m \u001b[1m0s\u001b[0m 1ms/step - accuracy: 0.7497 - loss: 0.6136 - val_accuracy: 0.7512 - val_loss: 0.6349\n",
      "Epoch 239/500\n",
      "\u001b[1m39/39\u001b[0m \u001b[32m━━━━━━━━━━━━━━━━━━━━\u001b[0m\u001b[37m\u001b[0m \u001b[1m0s\u001b[0m 1ms/step - accuracy: 0.7500 - loss: 0.6137 - val_accuracy: 0.7539 - val_loss: 0.6351\n",
      "Epoch 240/500\n",
      "\u001b[1m39/39\u001b[0m \u001b[32m━━━━━━━━━━━━━━━━━━━━\u001b[0m\u001b[37m\u001b[0m \u001b[1m0s\u001b[0m 1ms/step - accuracy: 0.7509 - loss: 0.6135 - val_accuracy: 0.7521 - val_loss: 0.6346\n",
      "Epoch 241/500\n",
      "\u001b[1m39/39\u001b[0m \u001b[32m━━━━━━━━━━━━━━━━━━━━\u001b[0m\u001b[37m\u001b[0m \u001b[1m0s\u001b[0m 2ms/step - accuracy: 0.7508 - loss: 0.6135 - val_accuracy: 0.7530 - val_loss: 0.6352\n",
      "Epoch 242/500\n",
      "\u001b[1m39/39\u001b[0m \u001b[32m━━━━━━━━━━━━━━━━━━━━\u001b[0m\u001b[37m\u001b[0m \u001b[1m0s\u001b[0m 1ms/step - accuracy: 0.7497 - loss: 0.6136 - val_accuracy: 0.7530 - val_loss: 0.6345\n",
      "Epoch 243/500\n",
      "\u001b[1m39/39\u001b[0m \u001b[32m━━━━━━━━━━━━━━━━━━━━\u001b[0m\u001b[37m\u001b[0m \u001b[1m0s\u001b[0m 1ms/step - accuracy: 0.7506 - loss: 0.6131 - val_accuracy: 0.7539 - val_loss: 0.6347\n",
      "Epoch 244/500\n",
      "\u001b[1m39/39\u001b[0m \u001b[32m━━━━━━━━━━━━━━━━━━━━\u001b[0m\u001b[37m\u001b[0m \u001b[1m0s\u001b[0m 1ms/step - accuracy: 0.7502 - loss: 0.6133 - val_accuracy: 0.7530 - val_loss: 0.6350\n",
      "Epoch 245/500\n",
      "\u001b[1m39/39\u001b[0m \u001b[32m━━━━━━━━━━━━━━━━━━━━\u001b[0m\u001b[37m\u001b[0m \u001b[1m0s\u001b[0m 1ms/step - accuracy: 0.7509 - loss: 0.6132 - val_accuracy: 0.7548 - val_loss: 0.6348\n",
      "Epoch 246/500\n",
      "\u001b[1m39/39\u001b[0m \u001b[32m━━━━━━━━━━━━━━━━━━━━\u001b[0m\u001b[37m\u001b[0m \u001b[1m0s\u001b[0m 1ms/step - accuracy: 0.7499 - loss: 0.6132 - val_accuracy: 0.7530 - val_loss: 0.6348\n",
      "Epoch 247/500\n",
      "\u001b[1m39/39\u001b[0m \u001b[32m━━━━━━━━━━━━━━━━━━━━\u001b[0m\u001b[37m\u001b[0m \u001b[1m0s\u001b[0m 1ms/step - accuracy: 0.7507 - loss: 0.6128 - val_accuracy: 0.7530 - val_loss: 0.6344\n",
      "Epoch 248/500\n",
      "\u001b[1m39/39\u001b[0m \u001b[32m━━━━━━━━━━━━━━━━━━━━\u001b[0m\u001b[37m\u001b[0m \u001b[1m0s\u001b[0m 1ms/step - accuracy: 0.7503 - loss: 0.6128 - val_accuracy: 0.7539 - val_loss: 0.6348\n",
      "Epoch 249/500\n",
      "\u001b[1m39/39\u001b[0m \u001b[32m━━━━━━━━━━━━━━━━━━━━\u001b[0m\u001b[37m\u001b[0m \u001b[1m0s\u001b[0m 1ms/step - accuracy: 0.7511 - loss: 0.6128 - val_accuracy: 0.7539 - val_loss: 0.6345\n",
      "Epoch 250/500\n",
      "\u001b[1m39/39\u001b[0m \u001b[32m━━━━━━━━━━━━━━━━━━━━\u001b[0m\u001b[37m\u001b[0m \u001b[1m0s\u001b[0m 1ms/step - accuracy: 0.7509 - loss: 0.6126 - val_accuracy: 0.7530 - val_loss: 0.6344\n",
      "Epoch 251/500\n",
      "\u001b[1m39/39\u001b[0m \u001b[32m━━━━━━━━━━━━━━━━━━━━\u001b[0m\u001b[37m\u001b[0m \u001b[1m0s\u001b[0m 1ms/step - accuracy: 0.7506 - loss: 0.6127 - val_accuracy: 0.7530 - val_loss: 0.6343\n",
      "Epoch 252/500\n",
      "\u001b[1m39/39\u001b[0m \u001b[32m━━━━━━━━━━━━━━━━━━━━\u001b[0m\u001b[37m\u001b[0m \u001b[1m0s\u001b[0m 1ms/step - accuracy: 0.7513 - loss: 0.6122 - val_accuracy: 0.7539 - val_loss: 0.6341\n",
      "Epoch 253/500\n",
      "\u001b[1m39/39\u001b[0m \u001b[32m━━━━━━━━━━━━━━━━━━━━\u001b[0m\u001b[37m\u001b[0m \u001b[1m0s\u001b[0m 1ms/step - accuracy: 0.7502 - loss: 0.6125 - val_accuracy: 0.7530 - val_loss: 0.6343\n",
      "Epoch 254/500\n",
      "\u001b[1m39/39\u001b[0m \u001b[32m━━━━━━━━━━━━━━━━━━━━\u001b[0m\u001b[37m\u001b[0m \u001b[1m0s\u001b[0m 2ms/step - accuracy: 0.7506 - loss: 0.6122 - val_accuracy: 0.7539 - val_loss: 0.6342\n",
      "Epoch 255/500\n",
      "\u001b[1m39/39\u001b[0m \u001b[32m━━━━━━━━━━━━━━━━━━━━\u001b[0m\u001b[37m\u001b[0m \u001b[1m0s\u001b[0m 1ms/step - accuracy: 0.7507 - loss: 0.6121 - val_accuracy: 0.7521 - val_loss: 0.6342\n",
      "Epoch 256/500\n",
      "\u001b[1m39/39\u001b[0m \u001b[32m━━━━━━━━━━━━━━━━━━━━\u001b[0m\u001b[37m\u001b[0m \u001b[1m0s\u001b[0m 1ms/step - accuracy: 0.7502 - loss: 0.6121 - val_accuracy: 0.7512 - val_loss: 0.6338\n",
      "Epoch 257/500\n",
      "\u001b[1m39/39\u001b[0m \u001b[32m━━━━━━━━━━━━━━━━━━━━\u001b[0m\u001b[37m\u001b[0m \u001b[1m0s\u001b[0m 1ms/step - accuracy: 0.7505 - loss: 0.6119 - val_accuracy: 0.7493 - val_loss: 0.6342\n",
      "Epoch 258/500\n",
      "\u001b[1m39/39\u001b[0m \u001b[32m━━━━━━━━━━━━━━━━━━━━\u001b[0m\u001b[37m\u001b[0m \u001b[1m0s\u001b[0m 1ms/step - accuracy: 0.7491 - loss: 0.6120 - val_accuracy: 0.7512 - val_loss: 0.6342\n",
      "Epoch 259/500\n",
      "\u001b[1m39/39\u001b[0m \u001b[32m━━━━━━━━━━━━━━━━━━━━\u001b[0m\u001b[37m\u001b[0m \u001b[1m0s\u001b[0m 1ms/step - accuracy: 0.7503 - loss: 0.6119 - val_accuracy: 0.7502 - val_loss: 0.6339\n",
      "Epoch 260/500\n",
      "\u001b[1m39/39\u001b[0m \u001b[32m━━━━━━━━━━━━━━━━━━━━\u001b[0m\u001b[37m\u001b[0m \u001b[1m0s\u001b[0m 1ms/step - accuracy: 0.7501 - loss: 0.6115 - val_accuracy: 0.7502 - val_loss: 0.6337\n",
      "Epoch 261/500\n",
      "\u001b[1m39/39\u001b[0m \u001b[32m━━━━━━━━━━━━━━━━━━━━\u001b[0m\u001b[37m\u001b[0m \u001b[1m0s\u001b[0m 1ms/step - accuracy: 0.7493 - loss: 0.6118 - val_accuracy: 0.7502 - val_loss: 0.6344\n",
      "Epoch 262/500\n",
      "\u001b[1m39/39\u001b[0m \u001b[32m━━━━━━━━━━━━━━━━━━━━\u001b[0m\u001b[37m\u001b[0m \u001b[1m0s\u001b[0m 1ms/step - accuracy: 0.7493 - loss: 0.6116 - val_accuracy: 0.7502 - val_loss: 0.6337\n",
      "Epoch 263/500\n",
      "\u001b[1m39/39\u001b[0m \u001b[32m━━━━━━━━━━━━━━━━━━━━\u001b[0m\u001b[37m\u001b[0m \u001b[1m0s\u001b[0m 1ms/step - accuracy: 0.7499 - loss: 0.6114 - val_accuracy: 0.7493 - val_loss: 0.6339\n",
      "Epoch 264/500\n",
      "\u001b[1m39/39\u001b[0m \u001b[32m━━━━━━━━━━━━━━━━━━━━\u001b[0m\u001b[37m\u001b[0m \u001b[1m0s\u001b[0m 1ms/step - accuracy: 0.7492 - loss: 0.6116 - val_accuracy: 0.7493 - val_loss: 0.6340\n",
      "Epoch 265/500\n",
      "\u001b[1m39/39\u001b[0m \u001b[32m━━━━━━━━━━━━━━━━━━━━\u001b[0m\u001b[37m\u001b[0m \u001b[1m0s\u001b[0m 1ms/step - accuracy: 0.7498 - loss: 0.6115 - val_accuracy: 0.7484 - val_loss: 0.6333\n",
      "Epoch 266/500\n",
      "\u001b[1m39/39\u001b[0m \u001b[32m━━━━━━━━━━━━━━━━━━━━\u001b[0m\u001b[37m\u001b[0m \u001b[1m0s\u001b[0m 1ms/step - accuracy: 0.7505 - loss: 0.6111 - val_accuracy: 0.7493 - val_loss: 0.6336\n",
      "Epoch 267/500\n",
      "\u001b[1m39/39\u001b[0m \u001b[32m━━━━━━━━━━━━━━━━━━━━\u001b[0m\u001b[37m\u001b[0m \u001b[1m0s\u001b[0m 2ms/step - accuracy: 0.7492 - loss: 0.6113 - val_accuracy: 0.7493 - val_loss: 0.6338\n",
      "Epoch 268/500\n",
      "\u001b[1m39/39\u001b[0m \u001b[32m━━━━━━━━━━━━━━━━━━━━\u001b[0m\u001b[37m\u001b[0m \u001b[1m0s\u001b[0m 1ms/step - accuracy: 0.7496 - loss: 0.6112 - val_accuracy: 0.7484 - val_loss: 0.6332\n",
      "Epoch 269/500\n",
      "\u001b[1m39/39\u001b[0m \u001b[32m━━━━━━━━━━━━━━━━━━━━\u001b[0m\u001b[37m\u001b[0m \u001b[1m0s\u001b[0m 1ms/step - accuracy: 0.7506 - loss: 0.6111 - val_accuracy: 0.7484 - val_loss: 0.6335\n",
      "Epoch 270/500\n",
      "\u001b[1m39/39\u001b[0m \u001b[32m━━━━━━━━━━━━━━━━━━━━\u001b[0m\u001b[37m\u001b[0m \u001b[1m0s\u001b[0m 1ms/step - accuracy: 0.7493 - loss: 0.6113 - val_accuracy: 0.7484 - val_loss: 0.6333\n",
      "Epoch 271/500\n",
      "\u001b[1m39/39\u001b[0m \u001b[32m━━━━━━━━━━━━━━━━━━━━\u001b[0m\u001b[37m\u001b[0m \u001b[1m0s\u001b[0m 1ms/step - accuracy: 0.7509 - loss: 0.6109 - val_accuracy: 0.7493 - val_loss: 0.6332\n",
      "Epoch 272/500\n",
      "\u001b[1m39/39\u001b[0m \u001b[32m━━━━━━━━━━━━━━━━━━━━\u001b[0m\u001b[37m\u001b[0m \u001b[1m0s\u001b[0m 1ms/step - accuracy: 0.7501 - loss: 0.6111 - val_accuracy: 0.7493 - val_loss: 0.6330\n",
      "Epoch 273/500\n",
      "\u001b[1m39/39\u001b[0m \u001b[32m━━━━━━━━━━━━━━━━━━━━\u001b[0m\u001b[37m\u001b[0m \u001b[1m0s\u001b[0m 1ms/step - accuracy: 0.7508 - loss: 0.6108 - val_accuracy: 0.7493 - val_loss: 0.6330\n",
      "Epoch 274/500\n",
      "\u001b[1m39/39\u001b[0m \u001b[32m━━━━━━━━━━━━━━━━━━━━\u001b[0m\u001b[37m\u001b[0m \u001b[1m0s\u001b[0m 1ms/step - accuracy: 0.7503 - loss: 0.6109 - val_accuracy: 0.7493 - val_loss: 0.6329\n",
      "Epoch 275/500\n",
      "\u001b[1m39/39\u001b[0m \u001b[32m━━━━━━━━━━━━━━━━━━━━\u001b[0m\u001b[37m\u001b[0m \u001b[1m0s\u001b[0m 1ms/step - accuracy: 0.7501 - loss: 0.6108 - val_accuracy: 0.7493 - val_loss: 0.6328\n",
      "Epoch 276/500\n",
      "\u001b[1m39/39\u001b[0m \u001b[32m━━━━━━━━━━━━━━━━━━━━\u001b[0m\u001b[37m\u001b[0m \u001b[1m0s\u001b[0m 1ms/step - accuracy: 0.7499 - loss: 0.6107 - val_accuracy: 0.7493 - val_loss: 0.6330\n",
      "Epoch 277/500\n",
      "\u001b[1m39/39\u001b[0m \u001b[32m━━━━━━━━━━━━━━━━━━━━\u001b[0m\u001b[37m\u001b[0m \u001b[1m0s\u001b[0m 1ms/step - accuracy: 0.7500 - loss: 0.6107 - val_accuracy: 0.7493 - val_loss: 0.6328\n",
      "Epoch 278/500\n",
      "\u001b[1m39/39\u001b[0m \u001b[32m━━━━━━━━━━━━━━━━━━━━\u001b[0m\u001b[37m\u001b[0m \u001b[1m0s\u001b[0m 1ms/step - accuracy: 0.7500 - loss: 0.6106 - val_accuracy: 0.7493 - val_loss: 0.6327\n",
      "Epoch 279/500\n",
      "\u001b[1m39/39\u001b[0m \u001b[32m━━━━━━━━━━━━━━━━━━━━\u001b[0m\u001b[37m\u001b[0m \u001b[1m0s\u001b[0m 1ms/step - accuracy: 0.7507 - loss: 0.6105 - val_accuracy: 0.7502 - val_loss: 0.6330\n",
      "Epoch 280/500\n",
      "\u001b[1m39/39\u001b[0m \u001b[32m━━━━━━━━━━━━━━━━━━━━\u001b[0m\u001b[37m\u001b[0m \u001b[1m0s\u001b[0m 1ms/step - accuracy: 0.7489 - loss: 0.6105 - val_accuracy: 0.7493 - val_loss: 0.6324\n",
      "Epoch 281/500\n",
      "\u001b[1m39/39\u001b[0m \u001b[32m━━━━━━━━━━━━━━━━━━━━\u001b[0m\u001b[37m\u001b[0m \u001b[1m0s\u001b[0m 1ms/step - accuracy: 0.7510 - loss: 0.6104 - val_accuracy: 0.7512 - val_loss: 0.6321\n",
      "Epoch 282/500\n",
      "\u001b[1m39/39\u001b[0m \u001b[32m━━━━━━━━━━━━━━━━━━━━\u001b[0m\u001b[37m\u001b[0m \u001b[1m0s\u001b[0m 1ms/step - accuracy: 0.7509 - loss: 0.6101 - val_accuracy: 0.7493 - val_loss: 0.6323\n",
      "Epoch 283/500\n",
      "\u001b[1m39/39\u001b[0m \u001b[32m━━━━━━━━━━━━━━━━━━━━\u001b[0m\u001b[37m\u001b[0m \u001b[1m0s\u001b[0m 1ms/step - accuracy: 0.7507 - loss: 0.6103 - val_accuracy: 0.7512 - val_loss: 0.6321\n",
      "Epoch 284/500\n",
      "\u001b[1m39/39\u001b[0m \u001b[32m━━━━━━━━━━━━━━━━━━━━\u001b[0m\u001b[37m\u001b[0m \u001b[1m0s\u001b[0m 1ms/step - accuracy: 0.7502 - loss: 0.6102 - val_accuracy: 0.7475 - val_loss: 0.6322\n",
      "Epoch 285/500\n",
      "\u001b[1m39/39\u001b[0m \u001b[32m━━━━━━━━━━━━━━━━━━━━\u001b[0m\u001b[37m\u001b[0m \u001b[1m0s\u001b[0m 1ms/step - accuracy: 0.7514 - loss: 0.6100 - val_accuracy: 0.7521 - val_loss: 0.6322\n",
      "Epoch 286/500\n",
      "\u001b[1m39/39\u001b[0m \u001b[32m━━━━━━━━━━━━━━━━━━━━\u001b[0m\u001b[37m\u001b[0m \u001b[1m0s\u001b[0m 1ms/step - accuracy: 0.7501 - loss: 0.6101 - val_accuracy: 0.7521 - val_loss: 0.6323\n",
      "Epoch 287/500\n",
      "\u001b[1m39/39\u001b[0m \u001b[32m━━━━━━━━━━━━━━━━━━━━\u001b[0m\u001b[37m\u001b[0m \u001b[1m0s\u001b[0m 1ms/step - accuracy: 0.7511 - loss: 0.6100 - val_accuracy: 0.7493 - val_loss: 0.6316\n",
      "Epoch 288/500\n",
      "\u001b[1m39/39\u001b[0m \u001b[32m━━━━━━━━━━━━━━━━━━━━\u001b[0m\u001b[37m\u001b[0m \u001b[1m0s\u001b[0m 1ms/step - accuracy: 0.7509 - loss: 0.6099 - val_accuracy: 0.7548 - val_loss: 0.6320\n",
      "Epoch 289/500\n",
      "\u001b[1m39/39\u001b[0m \u001b[32m━━━━━━━━━━━━━━━━━━━━\u001b[0m\u001b[37m\u001b[0m \u001b[1m0s\u001b[0m 1ms/step - accuracy: 0.7508 - loss: 0.6098 - val_accuracy: 0.7548 - val_loss: 0.6319\n",
      "Epoch 290/500\n",
      "\u001b[1m39/39\u001b[0m \u001b[32m━━━━━━━━━━━━━━━━━━━━\u001b[0m\u001b[37m\u001b[0m \u001b[1m0s\u001b[0m 1ms/step - accuracy: 0.7501 - loss: 0.6099 - val_accuracy: 0.7548 - val_loss: 0.6315\n",
      "Epoch 291/500\n",
      "\u001b[1m39/39\u001b[0m \u001b[32m━━━━━━━━━━━━━━━━━━━━\u001b[0m\u001b[37m\u001b[0m \u001b[1m0s\u001b[0m 2ms/step - accuracy: 0.7505 - loss: 0.6098 - val_accuracy: 0.7548 - val_loss: 0.6314\n",
      "Epoch 292/500\n",
      "\u001b[1m39/39\u001b[0m \u001b[32m━━━━━━━━━━━━━━━━━━━━\u001b[0m\u001b[37m\u001b[0m \u001b[1m0s\u001b[0m 1ms/step - accuracy: 0.7513 - loss: 0.6097 - val_accuracy: 0.7558 - val_loss: 0.6315\n",
      "Epoch 293/500\n",
      "\u001b[1m39/39\u001b[0m \u001b[32m━━━━━━━━━━━━━━━━━━━━\u001b[0m\u001b[37m\u001b[0m \u001b[1m0s\u001b[0m 1ms/step - accuracy: 0.7511 - loss: 0.6096 - val_accuracy: 0.7558 - val_loss: 0.6311\n",
      "Epoch 294/500\n",
      "\u001b[1m39/39\u001b[0m \u001b[32m━━━━━━━━━━━━━━━━━━━━\u001b[0m\u001b[37m\u001b[0m \u001b[1m0s\u001b[0m 1ms/step - accuracy: 0.7505 - loss: 0.6097 - val_accuracy: 0.7548 - val_loss: 0.6311\n",
      "Epoch 295/500\n",
      "\u001b[1m39/39\u001b[0m \u001b[32m━━━━━━━━━━━━━━━━━━━━\u001b[0m\u001b[37m\u001b[0m \u001b[1m0s\u001b[0m 1ms/step - accuracy: 0.7509 - loss: 0.6093 - val_accuracy: 0.7548 - val_loss: 0.6308\n",
      "Epoch 296/500\n",
      "\u001b[1m39/39\u001b[0m \u001b[32m━━━━━━━━━━━━━━━━━━━━\u001b[0m\u001b[37m\u001b[0m \u001b[1m0s\u001b[0m 1ms/step - accuracy: 0.7511 - loss: 0.6095 - val_accuracy: 0.7539 - val_loss: 0.6311\n",
      "Epoch 297/500\n",
      "\u001b[1m39/39\u001b[0m \u001b[32m━━━━━━━━━━━━━━━━━━━━\u001b[0m\u001b[37m\u001b[0m \u001b[1m0s\u001b[0m 1ms/step - accuracy: 0.7503 - loss: 0.6095 - val_accuracy: 0.7530 - val_loss: 0.6309\n",
      "Epoch 298/500\n",
      "\u001b[1m39/39\u001b[0m \u001b[32m━━━━━━━━━━━━━━━━━━━━\u001b[0m\u001b[37m\u001b[0m \u001b[1m0s\u001b[0m 1ms/step - accuracy: 0.7510 - loss: 0.6092 - val_accuracy: 0.7530 - val_loss: 0.6310\n",
      "Epoch 299/500\n",
      "\u001b[1m39/39\u001b[0m \u001b[32m━━━━━━━━━━━━━━━━━━━━\u001b[0m\u001b[37m\u001b[0m \u001b[1m0s\u001b[0m 1ms/step - accuracy: 0.7514 - loss: 0.6092 - val_accuracy: 0.7530 - val_loss: 0.6309\n",
      "Epoch 300/500\n",
      "\u001b[1m39/39\u001b[0m \u001b[32m━━━━━━━━━━━━━━━━━━━━\u001b[0m\u001b[37m\u001b[0m \u001b[1m0s\u001b[0m 1ms/step - accuracy: 0.7507 - loss: 0.6093 - val_accuracy: 0.7530 - val_loss: 0.6307\n",
      "Epoch 301/500\n",
      "\u001b[1m39/39\u001b[0m \u001b[32m━━━━━━━━━━━━━━━━━━━━\u001b[0m\u001b[37m\u001b[0m \u001b[1m0s\u001b[0m 1ms/step - accuracy: 0.7505 - loss: 0.6089 - val_accuracy: 0.7530 - val_loss: 0.6310\n",
      "Epoch 302/500\n",
      "\u001b[1m39/39\u001b[0m \u001b[32m━━━━━━━━━━━━━━━━━━━━\u001b[0m\u001b[37m\u001b[0m \u001b[1m0s\u001b[0m 1ms/step - accuracy: 0.7509 - loss: 0.6092 - val_accuracy: 0.7530 - val_loss: 0.6307\n",
      "Epoch 303/500\n",
      "\u001b[1m39/39\u001b[0m \u001b[32m━━━━━━━━━━━━━━━━━━━━\u001b[0m\u001b[37m\u001b[0m \u001b[1m0s\u001b[0m 2ms/step - accuracy: 0.7505 - loss: 0.6092 - val_accuracy: 0.7530 - val_loss: 0.6307\n",
      "Epoch 304/500\n",
      "\u001b[1m39/39\u001b[0m \u001b[32m━━━━━━━━━━━━━━━━━━━━\u001b[0m\u001b[37m\u001b[0m \u001b[1m0s\u001b[0m 1ms/step - accuracy: 0.7507 - loss: 0.6088 - val_accuracy: 0.7530 - val_loss: 0.6309\n",
      "Epoch 305/500\n",
      "\u001b[1m39/39\u001b[0m \u001b[32m━━━━━━━━━━━━━━━━━━━━\u001b[0m\u001b[37m\u001b[0m \u001b[1m0s\u001b[0m 1ms/step - accuracy: 0.7510 - loss: 0.6090 - val_accuracy: 0.7548 - val_loss: 0.6306\n",
      "Epoch 306/500\n",
      "\u001b[1m39/39\u001b[0m \u001b[32m━━━━━━━━━━━━━━━━━━━━\u001b[0m\u001b[37m\u001b[0m \u001b[1m0s\u001b[0m 1ms/step - accuracy: 0.7507 - loss: 0.6089 - val_accuracy: 0.7530 - val_loss: 0.6304\n",
      "Epoch 307/500\n",
      "\u001b[1m39/39\u001b[0m \u001b[32m━━━━━━━━━━━━━━━━━━━━\u001b[0m\u001b[37m\u001b[0m \u001b[1m0s\u001b[0m 1ms/step - accuracy: 0.7509 - loss: 0.6087 - val_accuracy: 0.7530 - val_loss: 0.6303\n",
      "Epoch 308/500\n",
      "\u001b[1m39/39\u001b[0m \u001b[32m━━━━━━━━━━━━━━━━━━━━\u001b[0m\u001b[37m\u001b[0m \u001b[1m0s\u001b[0m 1ms/step - accuracy: 0.7505 - loss: 0.6090 - val_accuracy: 0.7558 - val_loss: 0.6309\n",
      "Epoch 309/500\n",
      "\u001b[1m39/39\u001b[0m \u001b[32m━━━━━━━━━━━━━━━━━━━━\u001b[0m\u001b[37m\u001b[0m \u001b[1m0s\u001b[0m 1ms/step - accuracy: 0.7511 - loss: 0.6088 - val_accuracy: 0.7548 - val_loss: 0.6302\n",
      "Epoch 310/500\n",
      "\u001b[1m39/39\u001b[0m \u001b[32m━━━━━━━━━━━━━━━━━━━━\u001b[0m\u001b[37m\u001b[0m \u001b[1m0s\u001b[0m 1ms/step - accuracy: 0.7511 - loss: 0.6085 - val_accuracy: 0.7548 - val_loss: 0.6297\n",
      "Epoch 311/500\n",
      "\u001b[1m39/39\u001b[0m \u001b[32m━━━━━━━━━━━━━━━━━━━━\u001b[0m\u001b[37m\u001b[0m \u001b[1m0s\u001b[0m 1ms/step - accuracy: 0.7515 - loss: 0.6083 - val_accuracy: 0.7558 - val_loss: 0.6301\n",
      "Epoch 312/500\n",
      "\u001b[1m39/39\u001b[0m \u001b[32m━━━━━━━━━━━━━━━━━━━━\u001b[0m\u001b[37m\u001b[0m \u001b[1m0s\u001b[0m 1ms/step - accuracy: 0.7517 - loss: 0.6085 - val_accuracy: 0.7558 - val_loss: 0.6302\n",
      "Epoch 313/500\n",
      "\u001b[1m39/39\u001b[0m \u001b[32m━━━━━━━━━━━━━━━━━━━━\u001b[0m\u001b[37m\u001b[0m \u001b[1m0s\u001b[0m 1ms/step - accuracy: 0.7513 - loss: 0.6084 - val_accuracy: 0.7558 - val_loss: 0.6295\n",
      "Epoch 314/500\n",
      "\u001b[1m39/39\u001b[0m \u001b[32m━━━━━━━━━━━━━━━━━━━━\u001b[0m\u001b[37m\u001b[0m \u001b[1m0s\u001b[0m 1ms/step - accuracy: 0.7516 - loss: 0.6083 - val_accuracy: 0.7567 - val_loss: 0.6302\n",
      "Epoch 315/500\n",
      "\u001b[1m39/39\u001b[0m \u001b[32m━━━━━━━━━━━━━━━━━━━━\u001b[0m\u001b[37m\u001b[0m \u001b[1m0s\u001b[0m 1ms/step - accuracy: 0.7513 - loss: 0.6082 - val_accuracy: 0.7548 - val_loss: 0.6292\n",
      "Epoch 316/500\n",
      "\u001b[1m39/39\u001b[0m \u001b[32m━━━━━━━━━━━━━━━━━━━━\u001b[0m\u001b[37m\u001b[0m \u001b[1m0s\u001b[0m 1ms/step - accuracy: 0.7512 - loss: 0.6081 - val_accuracy: 0.7548 - val_loss: 0.6295\n",
      "Epoch 317/500\n",
      "\u001b[1m39/39\u001b[0m \u001b[32m━━━━━━━━━━━━━━━━━━━━\u001b[0m\u001b[37m\u001b[0m \u001b[1m0s\u001b[0m 1ms/step - accuracy: 0.7520 - loss: 0.6079 - val_accuracy: 0.7548 - val_loss: 0.6293\n",
      "Epoch 318/500\n",
      "\u001b[1m39/39\u001b[0m \u001b[32m━━━━━━━━━━━━━━━━━━━━\u001b[0m\u001b[37m\u001b[0m \u001b[1m0s\u001b[0m 1ms/step - accuracy: 0.7509 - loss: 0.6079 - val_accuracy: 0.7548 - val_loss: 0.6292\n",
      "Epoch 319/500\n",
      "\u001b[1m39/39\u001b[0m \u001b[32m━━━━━━━━━━━━━━━━━━━━\u001b[0m\u001b[37m\u001b[0m \u001b[1m0s\u001b[0m 1ms/step - accuracy: 0.7515 - loss: 0.6081 - val_accuracy: 0.7548 - val_loss: 0.6295\n",
      "Epoch 320/500\n",
      "\u001b[1m39/39\u001b[0m \u001b[32m━━━━━━━━━━━━━━━━━━━━\u001b[0m\u001b[37m\u001b[0m \u001b[1m0s\u001b[0m 1ms/step - accuracy: 0.7508 - loss: 0.6079 - val_accuracy: 0.7548 - val_loss: 0.6289\n",
      "Epoch 321/500\n",
      "\u001b[1m39/39\u001b[0m \u001b[32m━━━━━━━━━━━━━━━━━━━━\u001b[0m\u001b[37m\u001b[0m \u001b[1m0s\u001b[0m 2ms/step - accuracy: 0.7511 - loss: 0.6080 - val_accuracy: 0.7558 - val_loss: 0.6296\n",
      "Epoch 322/500\n",
      "\u001b[1m39/39\u001b[0m \u001b[32m━━━━━━━━━━━━━━━━━━━━\u001b[0m\u001b[37m\u001b[0m \u001b[1m0s\u001b[0m 1ms/step - accuracy: 0.7514 - loss: 0.6079 - val_accuracy: 0.7558 - val_loss: 0.6289\n",
      "Epoch 323/500\n",
      "\u001b[1m39/39\u001b[0m \u001b[32m━━━━━━━━━━━━━━━━━━━━\u001b[0m\u001b[37m\u001b[0m \u001b[1m0s\u001b[0m 1ms/step - accuracy: 0.7510 - loss: 0.6078 - val_accuracy: 0.7558 - val_loss: 0.6285\n",
      "Epoch 324/500\n",
      "\u001b[1m39/39\u001b[0m \u001b[32m━━━━━━━━━━━━━━━━━━━━\u001b[0m\u001b[37m\u001b[0m \u001b[1m0s\u001b[0m 1ms/step - accuracy: 0.7514 - loss: 0.6078 - val_accuracy: 0.7576 - val_loss: 0.6285\n",
      "Epoch 325/500\n",
      "\u001b[1m39/39\u001b[0m \u001b[32m━━━━━━━━━━━━━━━━━━━━\u001b[0m\u001b[37m\u001b[0m \u001b[1m0s\u001b[0m 1ms/step - accuracy: 0.7513 - loss: 0.6076 - val_accuracy: 0.7576 - val_loss: 0.6287\n",
      "Epoch 326/500\n",
      "\u001b[1m39/39\u001b[0m \u001b[32m━━━━━━━━━━━━━━━━━━━━\u001b[0m\u001b[37m\u001b[0m \u001b[1m0s\u001b[0m 1ms/step - accuracy: 0.7521 - loss: 0.6077 - val_accuracy: 0.7576 - val_loss: 0.6287\n",
      "Epoch 327/500\n",
      "\u001b[1m39/39\u001b[0m \u001b[32m━━━━━━━━━━━━━━━━━━━━\u001b[0m\u001b[37m\u001b[0m \u001b[1m0s\u001b[0m 1ms/step - accuracy: 0.7525 - loss: 0.6078 - val_accuracy: 0.7585 - val_loss: 0.6286\n",
      "Epoch 328/500\n",
      "\u001b[1m39/39\u001b[0m \u001b[32m━━━━━━━━━━━━━━━━━━━━\u001b[0m\u001b[37m\u001b[0m \u001b[1m0s\u001b[0m 1ms/step - accuracy: 0.7513 - loss: 0.6074 - val_accuracy: 0.7576 - val_loss: 0.6285\n",
      "Epoch 329/500\n",
      "\u001b[1m39/39\u001b[0m \u001b[32m━━━━━━━━━━━━━━━━━━━━\u001b[0m\u001b[37m\u001b[0m \u001b[1m0s\u001b[0m 1ms/step - accuracy: 0.7522 - loss: 0.6076 - val_accuracy: 0.7594 - val_loss: 0.6289\n",
      "Epoch 330/500\n",
      "\u001b[1m39/39\u001b[0m \u001b[32m━━━━━━━━━━━━━━━━━━━━\u001b[0m\u001b[37m\u001b[0m \u001b[1m0s\u001b[0m 1ms/step - accuracy: 0.7526 - loss: 0.6077 - val_accuracy: 0.7594 - val_loss: 0.6289\n",
      "Epoch 331/500\n",
      "\u001b[1m39/39\u001b[0m \u001b[32m━━━━━━━━━━━━━━━━━━━━\u001b[0m\u001b[37m\u001b[0m \u001b[1m0s\u001b[0m 1ms/step - accuracy: 0.7511 - loss: 0.6077 - val_accuracy: 0.7613 - val_loss: 0.6285\n",
      "Epoch 332/500\n",
      "\u001b[1m39/39\u001b[0m \u001b[32m━━━━━━━━━━━━━━━━━━━━\u001b[0m\u001b[37m\u001b[0m \u001b[1m0s\u001b[0m 1ms/step - accuracy: 0.7518 - loss: 0.6074 - val_accuracy: 0.7604 - val_loss: 0.6287\n",
      "Epoch 333/500\n",
      "\u001b[1m39/39\u001b[0m \u001b[32m━━━━━━━━━━━━━━━━━━━━\u001b[0m\u001b[37m\u001b[0m \u001b[1m0s\u001b[0m 1ms/step - accuracy: 0.7520 - loss: 0.6073 - val_accuracy: 0.7604 - val_loss: 0.6284\n",
      "Epoch 334/500\n",
      "\u001b[1m39/39\u001b[0m \u001b[32m━━━━━━━━━━━━━━━━━━━━\u001b[0m\u001b[37m\u001b[0m \u001b[1m0s\u001b[0m 2ms/step - accuracy: 0.7521 - loss: 0.6073 - val_accuracy: 0.7613 - val_loss: 0.6281\n",
      "Epoch 335/500\n",
      "\u001b[1m39/39\u001b[0m \u001b[32m━━━━━━━━━━━━━━━━━━━━\u001b[0m\u001b[37m\u001b[0m \u001b[1m0s\u001b[0m 1ms/step - accuracy: 0.7521 - loss: 0.6075 - val_accuracy: 0.7613 - val_loss: 0.6282\n",
      "Epoch 336/500\n",
      "\u001b[1m39/39\u001b[0m \u001b[32m━━━━━━━━━━━━━━━━━━━━\u001b[0m\u001b[37m\u001b[0m \u001b[1m0s\u001b[0m 1ms/step - accuracy: 0.7531 - loss: 0.6072 - val_accuracy: 0.7604 - val_loss: 0.6285\n",
      "Epoch 337/500\n",
      "\u001b[1m39/39\u001b[0m \u001b[32m━━━━━━━━━━━━━━━━━━━━\u001b[0m\u001b[37m\u001b[0m \u001b[1m0s\u001b[0m 1ms/step - accuracy: 0.7529 - loss: 0.6073 - val_accuracy: 0.7604 - val_loss: 0.6283\n",
      "Epoch 338/500\n",
      "\u001b[1m39/39\u001b[0m \u001b[32m━━━━━━━━━━━━━━━━━━━━\u001b[0m\u001b[37m\u001b[0m \u001b[1m0s\u001b[0m 1ms/step - accuracy: 0.7530 - loss: 0.6072 - val_accuracy: 0.7594 - val_loss: 0.6284\n",
      "Epoch 339/500\n",
      "\u001b[1m39/39\u001b[0m \u001b[32m━━━━━━━━━━━━━━━━━━━━\u001b[0m\u001b[37m\u001b[0m \u001b[1m0s\u001b[0m 1ms/step - accuracy: 0.7525 - loss: 0.6072 - val_accuracy: 0.7604 - val_loss: 0.6281\n",
      "Epoch 340/500\n",
      "\u001b[1m39/39\u001b[0m \u001b[32m━━━━━━━━━━━━━━━━━━━━\u001b[0m\u001b[37m\u001b[0m \u001b[1m0s\u001b[0m 1ms/step - accuracy: 0.7524 - loss: 0.6071 - val_accuracy: 0.7604 - val_loss: 0.6282\n",
      "Epoch 341/500\n",
      "\u001b[1m39/39\u001b[0m \u001b[32m━━━━━━━━━━━━━━━━━━━━\u001b[0m\u001b[37m\u001b[0m \u001b[1m0s\u001b[0m 1ms/step - accuracy: 0.7536 - loss: 0.6071 - val_accuracy: 0.7604 - val_loss: 0.6281\n",
      "Epoch 342/500\n",
      "\u001b[1m39/39\u001b[0m \u001b[32m━━━━━━━━━━━━━━━━━━━━\u001b[0m\u001b[37m\u001b[0m \u001b[1m0s\u001b[0m 1ms/step - accuracy: 0.7518 - loss: 0.6071 - val_accuracy: 0.7594 - val_loss: 0.6280\n",
      "Epoch 343/500\n",
      "\u001b[1m39/39\u001b[0m \u001b[32m━━━━━━━━━━━━━━━━━━━━\u001b[0m\u001b[37m\u001b[0m \u001b[1m0s\u001b[0m 1ms/step - accuracy: 0.7528 - loss: 0.6070 - val_accuracy: 0.7613 - val_loss: 0.6275\n",
      "Epoch 344/500\n",
      "\u001b[1m39/39\u001b[0m \u001b[32m━━━━━━━━━━━━━━━━━━━━\u001b[0m\u001b[37m\u001b[0m \u001b[1m0s\u001b[0m 1ms/step - accuracy: 0.7518 - loss: 0.6069 - val_accuracy: 0.7604 - val_loss: 0.6278\n",
      "Epoch 345/500\n",
      "\u001b[1m39/39\u001b[0m \u001b[32m━━━━━━━━━━━━━━━━━━━━\u001b[0m\u001b[37m\u001b[0m \u001b[1m0s\u001b[0m 1ms/step - accuracy: 0.7538 - loss: 0.6069 - val_accuracy: 0.7594 - val_loss: 0.6278\n",
      "Epoch 346/500\n",
      "\u001b[1m39/39\u001b[0m \u001b[32m━━━━━━━━━━━━━━━━━━━━\u001b[0m\u001b[37m\u001b[0m \u001b[1m0s\u001b[0m 1ms/step - accuracy: 0.7513 - loss: 0.6070 - val_accuracy: 0.7594 - val_loss: 0.6275\n",
      "Epoch 347/500\n",
      "\u001b[1m39/39\u001b[0m \u001b[32m━━━━━━━━━━━━━━━━━━━━\u001b[0m\u001b[37m\u001b[0m \u001b[1m0s\u001b[0m 1ms/step - accuracy: 0.7527 - loss: 0.6068 - val_accuracy: 0.7604 - val_loss: 0.6274\n",
      "Epoch 348/500\n",
      "\u001b[1m39/39\u001b[0m \u001b[32m━━━━━━━━━━━━━━━━━━━━\u001b[0m\u001b[37m\u001b[0m \u001b[1m0s\u001b[0m 1ms/step - accuracy: 0.7524 - loss: 0.6069 - val_accuracy: 0.7604 - val_loss: 0.6273\n",
      "Epoch 349/500\n",
      "\u001b[1m39/39\u001b[0m \u001b[32m━━━━━━━━━━━━━━━━━━━━\u001b[0m\u001b[37m\u001b[0m \u001b[1m0s\u001b[0m 1ms/step - accuracy: 0.7532 - loss: 0.6068 - val_accuracy: 0.7604 - val_loss: 0.6274\n",
      "Epoch 350/500\n",
      "\u001b[1m39/39\u001b[0m \u001b[32m━━━━━━━━━━━━━━━━━━━━\u001b[0m\u001b[37m\u001b[0m \u001b[1m0s\u001b[0m 1ms/step - accuracy: 0.7530 - loss: 0.6067 - val_accuracy: 0.7613 - val_loss: 0.6268\n",
      "Epoch 351/500\n",
      "\u001b[1m39/39\u001b[0m \u001b[32m━━━━━━━━━━━━━━━━━━━━\u001b[0m\u001b[37m\u001b[0m \u001b[1m0s\u001b[0m 1ms/step - accuracy: 0.7528 - loss: 0.6068 - val_accuracy: 0.7613 - val_loss: 0.6274\n",
      "Epoch 352/500\n",
      "\u001b[1m39/39\u001b[0m \u001b[32m━━━━━━━━━━━━━━━━━━━━\u001b[0m\u001b[37m\u001b[0m \u001b[1m0s\u001b[0m 1ms/step - accuracy: 0.7530 - loss: 0.6067 - val_accuracy: 0.7613 - val_loss: 0.6274\n",
      "Epoch 353/500\n",
      "\u001b[1m39/39\u001b[0m \u001b[32m━━━━━━━━━━━━━━━━━━━━\u001b[0m\u001b[37m\u001b[0m \u001b[1m0s\u001b[0m 1ms/step - accuracy: 0.7523 - loss: 0.6067 - val_accuracy: 0.7622 - val_loss: 0.6268\n",
      "Epoch 354/500\n",
      "\u001b[1m39/39\u001b[0m \u001b[32m━━━━━━━━━━━━━━━━━━━━\u001b[0m\u001b[37m\u001b[0m \u001b[1m0s\u001b[0m 1ms/step - accuracy: 0.7536 - loss: 0.6064 - val_accuracy: 0.7622 - val_loss: 0.6270\n",
      "Epoch 355/500\n",
      "\u001b[1m39/39\u001b[0m \u001b[32m━━━━━━━━━━━━━━━━━━━━\u001b[0m\u001b[37m\u001b[0m \u001b[1m0s\u001b[0m 1ms/step - accuracy: 0.7524 - loss: 0.6066 - val_accuracy: 0.7631 - val_loss: 0.6272\n",
      "Epoch 356/500\n",
      "\u001b[1m39/39\u001b[0m \u001b[32m━━━━━━━━━━━━━━━━━━━━\u001b[0m\u001b[37m\u001b[0m \u001b[1m0s\u001b[0m 1ms/step - accuracy: 0.7513 - loss: 0.6067 - val_accuracy: 0.7631 - val_loss: 0.6271\n",
      "Epoch 357/500\n",
      "\u001b[1m39/39\u001b[0m \u001b[32m━━━━━━━━━━━━━━━━━━━━\u001b[0m\u001b[37m\u001b[0m \u001b[1m0s\u001b[0m 1ms/step - accuracy: 0.7527 - loss: 0.6064 - val_accuracy: 0.7613 - val_loss: 0.6270\n",
      "Epoch 358/500\n",
      "\u001b[1m39/39\u001b[0m \u001b[32m━━━━━━━━━━━━━━━━━━━━\u001b[0m\u001b[37m\u001b[0m \u001b[1m0s\u001b[0m 1ms/step - accuracy: 0.7534 - loss: 0.6064 - val_accuracy: 0.7622 - val_loss: 0.6265\n",
      "Epoch 359/500\n",
      "\u001b[1m39/39\u001b[0m \u001b[32m━━━━━━━━━━━━━━━━━━━━\u001b[0m\u001b[37m\u001b[0m \u001b[1m0s\u001b[0m 2ms/step - accuracy: 0.7536 - loss: 0.6065 - val_accuracy: 0.7631 - val_loss: 0.6267\n",
      "Epoch 360/500\n",
      "\u001b[1m39/39\u001b[0m \u001b[32m━━━━━━━━━━━━━━━━━━━━\u001b[0m\u001b[37m\u001b[0m \u001b[1m0s\u001b[0m 1ms/step - accuracy: 0.7539 - loss: 0.6064 - val_accuracy: 0.7622 - val_loss: 0.6271\n",
      "Epoch 361/500\n",
      "\u001b[1m39/39\u001b[0m \u001b[32m━━━━━━━━━━━━━━━━━━━━\u001b[0m\u001b[37m\u001b[0m \u001b[1m0s\u001b[0m 1ms/step - accuracy: 0.7535 - loss: 0.6064 - val_accuracy: 0.7631 - val_loss: 0.6269\n",
      "Epoch 362/500\n",
      "\u001b[1m39/39\u001b[0m \u001b[32m━━━━━━━━━━━━━━━━━━━━\u001b[0m\u001b[37m\u001b[0m \u001b[1m0s\u001b[0m 1ms/step - accuracy: 0.7538 - loss: 0.6063 - val_accuracy: 0.7613 - val_loss: 0.6262\n",
      "Epoch 363/500\n",
      "\u001b[1m39/39\u001b[0m \u001b[32m━━━━━━━━━━━━━━━━━━━━\u001b[0m\u001b[37m\u001b[0m \u001b[1m0s\u001b[0m 1ms/step - accuracy: 0.7534 - loss: 0.6060 - val_accuracy: 0.7613 - val_loss: 0.6268\n",
      "Epoch 364/500\n",
      "\u001b[1m39/39\u001b[0m \u001b[32m━━━━━━━━━━━━━━━━━━━━\u001b[0m\u001b[37m\u001b[0m \u001b[1m0s\u001b[0m 1ms/step - accuracy: 0.7539 - loss: 0.6062 - val_accuracy: 0.7631 - val_loss: 0.6266\n",
      "Epoch 365/500\n",
      "\u001b[1m39/39\u001b[0m \u001b[32m━━━━━━━━━━━━━━━━━━━━\u001b[0m\u001b[37m\u001b[0m \u001b[1m0s\u001b[0m 1ms/step - accuracy: 0.7537 - loss: 0.6062 - val_accuracy: 0.7622 - val_loss: 0.6268\n",
      "Epoch 366/500\n",
      "\u001b[1m39/39\u001b[0m \u001b[32m━━━━━━━━━━━━━━━━━━━━\u001b[0m\u001b[37m\u001b[0m \u001b[1m0s\u001b[0m 1ms/step - accuracy: 0.7542 - loss: 0.6063 - val_accuracy: 0.7622 - val_loss: 0.6266\n",
      "Epoch 367/500\n",
      "\u001b[1m39/39\u001b[0m \u001b[32m━━━━━━━━━━━━━━━━━━━━\u001b[0m\u001b[37m\u001b[0m \u001b[1m0s\u001b[0m 1ms/step - accuracy: 0.7543 - loss: 0.6062 - val_accuracy: 0.7622 - val_loss: 0.6267\n",
      "Epoch 368/500\n",
      "\u001b[1m39/39\u001b[0m \u001b[32m━━━━━━━━━━━━━━━━━━━━\u001b[0m\u001b[37m\u001b[0m \u001b[1m0s\u001b[0m 1ms/step - accuracy: 0.7543 - loss: 0.6061 - val_accuracy: 0.7622 - val_loss: 0.6264\n",
      "Epoch 369/500\n",
      "\u001b[1m39/39\u001b[0m \u001b[32m━━━━━━━━━━━━━━━━━━━━\u001b[0m\u001b[37m\u001b[0m \u001b[1m0s\u001b[0m 1ms/step - accuracy: 0.7552 - loss: 0.6060 - val_accuracy: 0.7622 - val_loss: 0.6268\n",
      "Epoch 370/500\n",
      "\u001b[1m39/39\u001b[0m \u001b[32m━━━━━━━━━━━━━━━━━━━━\u001b[0m\u001b[37m\u001b[0m \u001b[1m0s\u001b[0m 1ms/step - accuracy: 0.7537 - loss: 0.6062 - val_accuracy: 0.7631 - val_loss: 0.6268\n",
      "Epoch 371/500\n",
      "\u001b[1m39/39\u001b[0m \u001b[32m━━━━━━━━━━━━━━━━━━━━\u001b[0m\u001b[37m\u001b[0m \u001b[1m0s\u001b[0m 1ms/step - accuracy: 0.7544 - loss: 0.6062 - val_accuracy: 0.7631 - val_loss: 0.6264\n",
      "Epoch 372/500\n",
      "\u001b[1m39/39\u001b[0m \u001b[32m━━━━━━━━━━━━━━━━━━━━\u001b[0m\u001b[37m\u001b[0m \u001b[1m0s\u001b[0m 1ms/step - accuracy: 0.7537 - loss: 0.6059 - val_accuracy: 0.7622 - val_loss: 0.6261\n",
      "Epoch 373/500\n",
      "\u001b[1m39/39\u001b[0m \u001b[32m━━━━━━━━━━━━━━━━━━━━\u001b[0m\u001b[37m\u001b[0m \u001b[1m0s\u001b[0m 1ms/step - accuracy: 0.7544 - loss: 0.6060 - val_accuracy: 0.7631 - val_loss: 0.6262\n",
      "Epoch 374/500\n",
      "\u001b[1m39/39\u001b[0m \u001b[32m━━━━━━━━━━━━━━━━━━━━\u001b[0m\u001b[37m\u001b[0m \u001b[1m0s\u001b[0m 1ms/step - accuracy: 0.7537 - loss: 0.6059 - val_accuracy: 0.7631 - val_loss: 0.6263\n",
      "Epoch 375/500\n",
      "\u001b[1m39/39\u001b[0m \u001b[32m━━━━━━━━━━━━━━━━━━━━\u001b[0m\u001b[37m\u001b[0m \u001b[1m0s\u001b[0m 1ms/step - accuracy: 0.7530 - loss: 0.6059 - val_accuracy: 0.7631 - val_loss: 0.6258\n",
      "Epoch 376/500\n",
      "\u001b[1m39/39\u001b[0m \u001b[32m━━━━━━━━━━━━━━━━━━━━\u001b[0m\u001b[37m\u001b[0m \u001b[1m0s\u001b[0m 1ms/step - accuracy: 0.7534 - loss: 0.6059 - val_accuracy: 0.7631 - val_loss: 0.6259\n",
      "Epoch 377/500\n",
      "\u001b[1m39/39\u001b[0m \u001b[32m━━━━━━━━━━━━━━━━━━━━\u001b[0m\u001b[37m\u001b[0m \u001b[1m0s\u001b[0m 2ms/step - accuracy: 0.7536 - loss: 0.6057 - val_accuracy: 0.7622 - val_loss: 0.6257\n",
      "Epoch 378/500\n",
      "\u001b[1m39/39\u001b[0m \u001b[32m━━━━━━━━━━━━━━━━━━━━\u001b[0m\u001b[37m\u001b[0m \u001b[1m0s\u001b[0m 1ms/step - accuracy: 0.7532 - loss: 0.6058 - val_accuracy: 0.7631 - val_loss: 0.6260\n",
      "Epoch 379/500\n",
      "\u001b[1m39/39\u001b[0m \u001b[32m━━━━━━━━━━━━━━━━━━━━\u001b[0m\u001b[37m\u001b[0m \u001b[1m0s\u001b[0m 1ms/step - accuracy: 0.7534 - loss: 0.6060 - val_accuracy: 0.7631 - val_loss: 0.6260\n",
      "Epoch 380/500\n",
      "\u001b[1m39/39\u001b[0m \u001b[32m━━━━━━━━━━━━━━━━━━━━\u001b[0m\u001b[37m\u001b[0m \u001b[1m0s\u001b[0m 1ms/step - accuracy: 0.7536 - loss: 0.6059 - val_accuracy: 0.7641 - val_loss: 0.6259\n",
      "Epoch 381/500\n",
      "\u001b[1m39/39\u001b[0m \u001b[32m━━━━━━━━━━━━━━━━━━━━\u001b[0m\u001b[37m\u001b[0m \u001b[1m0s\u001b[0m 1ms/step - accuracy: 0.7530 - loss: 0.6058 - val_accuracy: 0.7631 - val_loss: 0.6258\n",
      "Epoch 382/500\n",
      "\u001b[1m39/39\u001b[0m \u001b[32m━━━━━━━━━━━━━━━━━━━━\u001b[0m\u001b[37m\u001b[0m \u001b[1m0s\u001b[0m 1ms/step - accuracy: 0.7538 - loss: 0.6057 - val_accuracy: 0.7641 - val_loss: 0.6257\n",
      "Epoch 383/500\n",
      "\u001b[1m39/39\u001b[0m \u001b[32m━━━━━━━━━━━━━━━━━━━━\u001b[0m\u001b[37m\u001b[0m \u001b[1m0s\u001b[0m 1ms/step - accuracy: 0.7534 - loss: 0.6057 - val_accuracy: 0.7631 - val_loss: 0.6257\n",
      "Epoch 384/500\n",
      "\u001b[1m39/39\u001b[0m \u001b[32m━━━━━━━━━━━━━━━━━━━━\u001b[0m\u001b[37m\u001b[0m \u001b[1m0s\u001b[0m 1ms/step - accuracy: 0.7540 - loss: 0.6057 - val_accuracy: 0.7641 - val_loss: 0.6256\n",
      "Epoch 385/500\n",
      "\u001b[1m39/39\u001b[0m \u001b[32m━━━━━━━━━━━━━━━━━━━━\u001b[0m\u001b[37m\u001b[0m \u001b[1m0s\u001b[0m 1ms/step - accuracy: 0.7548 - loss: 0.6059 - val_accuracy: 0.7631 - val_loss: 0.6258\n",
      "Epoch 386/500\n",
      "\u001b[1m39/39\u001b[0m \u001b[32m━━━━━━━━━━━━━━━━━━━━\u001b[0m\u001b[37m\u001b[0m \u001b[1m0s\u001b[0m 1ms/step - accuracy: 0.7539 - loss: 0.6057 - val_accuracy: 0.7631 - val_loss: 0.6257\n",
      "Epoch 387/500\n",
      "\u001b[1m39/39\u001b[0m \u001b[32m━━━━━━━━━━━━━━━━━━━━\u001b[0m\u001b[37m\u001b[0m \u001b[1m0s\u001b[0m 1ms/step - accuracy: 0.7543 - loss: 0.6056 - val_accuracy: 0.7631 - val_loss: 0.6255\n",
      "Epoch 388/500\n",
      "\u001b[1m39/39\u001b[0m \u001b[32m━━━━━━━━━━━━━━━━━━━━\u001b[0m\u001b[37m\u001b[0m \u001b[1m0s\u001b[0m 1ms/step - accuracy: 0.7532 - loss: 0.6056 - val_accuracy: 0.7622 - val_loss: 0.6253\n",
      "Epoch 389/500\n",
      "\u001b[1m39/39\u001b[0m \u001b[32m━━━━━━━━━━━━━━━━━━━━\u001b[0m\u001b[37m\u001b[0m \u001b[1m0s\u001b[0m 1ms/step - accuracy: 0.7539 - loss: 0.6054 - val_accuracy: 0.7622 - val_loss: 0.6250\n",
      "Epoch 390/500\n",
      "\u001b[1m39/39\u001b[0m \u001b[32m━━━━━━━━━━━━━━━━━━━━\u001b[0m\u001b[37m\u001b[0m \u001b[1m0s\u001b[0m 2ms/step - accuracy: 0.7544 - loss: 0.6054 - val_accuracy: 0.7641 - val_loss: 0.6252\n",
      "Epoch 391/500\n",
      "\u001b[1m39/39\u001b[0m \u001b[32m━━━━━━━━━━━━━━━━━━━━\u001b[0m\u001b[37m\u001b[0m \u001b[1m0s\u001b[0m 1ms/step - accuracy: 0.7541 - loss: 0.6055 - val_accuracy: 0.7622 - val_loss: 0.6252\n",
      "Epoch 392/500\n",
      "\u001b[1m39/39\u001b[0m \u001b[32m━━━━━━━━━━━━━━━━━━━━\u001b[0m\u001b[37m\u001b[0m \u001b[1m0s\u001b[0m 1ms/step - accuracy: 0.7545 - loss: 0.6056 - val_accuracy: 0.7631 - val_loss: 0.6254\n",
      "Epoch 393/500\n",
      "\u001b[1m39/39\u001b[0m \u001b[32m━━━━━━━━━━━━━━━━━━━━\u001b[0m\u001b[37m\u001b[0m \u001b[1m0s\u001b[0m 1ms/step - accuracy: 0.7543 - loss: 0.6054 - val_accuracy: 0.7641 - val_loss: 0.6248\n",
      "Epoch 394/500\n",
      "\u001b[1m39/39\u001b[0m \u001b[32m━━━━━━━━━━━━━━━━━━━━\u001b[0m\u001b[37m\u001b[0m \u001b[1m0s\u001b[0m 1ms/step - accuracy: 0.7537 - loss: 0.6052 - val_accuracy: 0.7631 - val_loss: 0.6246\n",
      "Epoch 395/500\n",
      "\u001b[1m39/39\u001b[0m \u001b[32m━━━━━━━━━━━━━━━━━━━━\u001b[0m\u001b[37m\u001b[0m \u001b[1m0s\u001b[0m 1ms/step - accuracy: 0.7553 - loss: 0.6055 - val_accuracy: 0.7631 - val_loss: 0.6253\n",
      "Epoch 396/500\n",
      "\u001b[1m39/39\u001b[0m \u001b[32m━━━━━━━━━━━━━━━━━━━━\u001b[0m\u001b[37m\u001b[0m \u001b[1m0s\u001b[0m 1ms/step - accuracy: 0.7552 - loss: 0.6054 - val_accuracy: 0.7622 - val_loss: 0.6247\n",
      "Epoch 397/500\n",
      "\u001b[1m39/39\u001b[0m \u001b[32m━━━━━━━━━━━━━━━━━━━━\u001b[0m\u001b[37m\u001b[0m \u001b[1m0s\u001b[0m 1ms/step - accuracy: 0.7552 - loss: 0.6053 - val_accuracy: 0.7641 - val_loss: 0.6254\n",
      "Epoch 398/500\n",
      "\u001b[1m39/39\u001b[0m \u001b[32m━━━━━━━━━━━━━━━━━━━━\u001b[0m\u001b[37m\u001b[0m \u001b[1m0s\u001b[0m 1ms/step - accuracy: 0.7542 - loss: 0.6055 - val_accuracy: 0.7631 - val_loss: 0.6254\n",
      "Epoch 399/500\n",
      "\u001b[1m39/39\u001b[0m \u001b[32m━━━━━━━━━━━━━━━━━━━━\u001b[0m\u001b[37m\u001b[0m \u001b[1m0s\u001b[0m 1ms/step - accuracy: 0.7545 - loss: 0.6053 - val_accuracy: 0.7641 - val_loss: 0.6247\n",
      "Epoch 400/500\n",
      "\u001b[1m39/39\u001b[0m \u001b[32m━━━━━━━━━━━━━━━━━━━━\u001b[0m\u001b[37m\u001b[0m \u001b[1m0s\u001b[0m 1ms/step - accuracy: 0.7550 - loss: 0.6053 - val_accuracy: 0.7641 - val_loss: 0.6247\n",
      "Epoch 401/500\n",
      "\u001b[1m39/39\u001b[0m \u001b[32m━━━━━━━━━━━━━━━━━━━━\u001b[0m\u001b[37m\u001b[0m \u001b[1m0s\u001b[0m 1ms/step - accuracy: 0.7559 - loss: 0.6053 - val_accuracy: 0.7631 - val_loss: 0.6252\n",
      "Epoch 402/500\n",
      "\u001b[1m39/39\u001b[0m \u001b[32m━━━━━━━━━━━━━━━━━━━━\u001b[0m\u001b[37m\u001b[0m \u001b[1m0s\u001b[0m 1ms/step - accuracy: 0.7549 - loss: 0.6052 - val_accuracy: 0.7613 - val_loss: 0.6247\n",
      "Epoch 403/500\n",
      "\u001b[1m39/39\u001b[0m \u001b[32m━━━━━━━━━━━━━━━━━━━━\u001b[0m\u001b[37m\u001b[0m \u001b[1m0s\u001b[0m 1ms/step - accuracy: 0.7549 - loss: 0.6052 - val_accuracy: 0.7622 - val_loss: 0.6249\n",
      "Epoch 404/500\n",
      "\u001b[1m39/39\u001b[0m \u001b[32m━━━━━━━━━━━━━━━━━━━━\u001b[0m\u001b[37m\u001b[0m \u001b[1m0s\u001b[0m 2ms/step - accuracy: 0.7552 - loss: 0.6051 - val_accuracy: 0.7631 - val_loss: 0.6247\n",
      "Epoch 405/500\n",
      "\u001b[1m39/39\u001b[0m \u001b[32m━━━━━━━━━━━━━━━━━━━━\u001b[0m\u001b[37m\u001b[0m \u001b[1m0s\u001b[0m 1ms/step - accuracy: 0.7550 - loss: 0.6050 - val_accuracy: 0.7613 - val_loss: 0.6248\n",
      "Epoch 406/500\n",
      "\u001b[1m39/39\u001b[0m \u001b[32m━━━━━━━━━━━━━━━━━━━━\u001b[0m\u001b[37m\u001b[0m \u001b[1m0s\u001b[0m 1ms/step - accuracy: 0.7548 - loss: 0.6051 - val_accuracy: 0.7631 - val_loss: 0.6251\n",
      "Epoch 407/500\n",
      "\u001b[1m39/39\u001b[0m \u001b[32m━━━━━━━━━━━━━━━━━━━━\u001b[0m\u001b[37m\u001b[0m \u001b[1m0s\u001b[0m 1ms/step - accuracy: 0.7559 - loss: 0.6051 - val_accuracy: 0.7622 - val_loss: 0.6250\n",
      "Epoch 408/500\n",
      "\u001b[1m39/39\u001b[0m \u001b[32m━━━━━━━━━━━━━━━━━━━━\u001b[0m\u001b[37m\u001b[0m \u001b[1m0s\u001b[0m 1ms/step - accuracy: 0.7546 - loss: 0.6051 - val_accuracy: 0.7622 - val_loss: 0.6249\n",
      "Epoch 409/500\n",
      "\u001b[1m39/39\u001b[0m \u001b[32m━━━━━━━━━━━━━━━━━━━━\u001b[0m\u001b[37m\u001b[0m \u001b[1m0s\u001b[0m 1ms/step - accuracy: 0.7551 - loss: 0.6050 - val_accuracy: 0.7631 - val_loss: 0.6249\n",
      "Epoch 410/500\n",
      "\u001b[1m39/39\u001b[0m \u001b[32m━━━━━━━━━━━━━━━━━━━━\u001b[0m\u001b[37m\u001b[0m \u001b[1m0s\u001b[0m 1ms/step - accuracy: 0.7549 - loss: 0.6050 - val_accuracy: 0.7622 - val_loss: 0.6246\n",
      "Epoch 411/500\n",
      "\u001b[1m39/39\u001b[0m \u001b[32m━━━━━━━━━━━━━━━━━━━━\u001b[0m\u001b[37m\u001b[0m \u001b[1m0s\u001b[0m 1ms/step - accuracy: 0.7551 - loss: 0.6049 - val_accuracy: 0.7631 - val_loss: 0.6248\n",
      "Epoch 412/500\n",
      "\u001b[1m39/39\u001b[0m \u001b[32m━━━━━━━━━━━━━━━━━━━━\u001b[0m\u001b[37m\u001b[0m \u001b[1m0s\u001b[0m 1ms/step - accuracy: 0.7544 - loss: 0.6049 - val_accuracy: 0.7622 - val_loss: 0.6246\n",
      "Epoch 413/500\n",
      "\u001b[1m39/39\u001b[0m \u001b[32m━━━━━━━━━━━━━━━━━━━━\u001b[0m\u001b[37m\u001b[0m \u001b[1m0s\u001b[0m 1ms/step - accuracy: 0.7555 - loss: 0.6047 - val_accuracy: 0.7622 - val_loss: 0.6243\n",
      "Epoch 414/500\n",
      "\u001b[1m39/39\u001b[0m \u001b[32m━━━━━━━━━━━━━━━━━━━━\u001b[0m\u001b[37m\u001b[0m \u001b[1m0s\u001b[0m 2ms/step - accuracy: 0.7550 - loss: 0.6047 - val_accuracy: 0.7613 - val_loss: 0.6246\n",
      "Epoch 415/500\n",
      "\u001b[1m39/39\u001b[0m \u001b[32m━━━━━━━━━━━━━━━━━━━━\u001b[0m\u001b[37m\u001b[0m \u001b[1m0s\u001b[0m 1ms/step - accuracy: 0.7544 - loss: 0.6050 - val_accuracy: 0.7613 - val_loss: 0.6245\n",
      "Epoch 416/500\n",
      "\u001b[1m39/39\u001b[0m \u001b[32m━━━━━━━━━━━━━━━━━━━━\u001b[0m\u001b[37m\u001b[0m \u001b[1m0s\u001b[0m 2ms/step - accuracy: 0.7544 - loss: 0.6046 - val_accuracy: 0.7622 - val_loss: 0.6243\n",
      "Epoch 417/500\n",
      "\u001b[1m39/39\u001b[0m \u001b[32m━━━━━━━━━━━━━━━━━━━━\u001b[0m\u001b[37m\u001b[0m \u001b[1m0s\u001b[0m 1ms/step - accuracy: 0.7546 - loss: 0.6048 - val_accuracy: 0.7631 - val_loss: 0.6246\n",
      "Epoch 418/500\n",
      "\u001b[1m39/39\u001b[0m \u001b[32m━━━━━━━━━━━━━━━━━━━━\u001b[0m\u001b[37m\u001b[0m \u001b[1m0s\u001b[0m 1ms/step - accuracy: 0.7556 - loss: 0.6047 - val_accuracy: 0.7622 - val_loss: 0.6244\n",
      "Epoch 419/500\n",
      "\u001b[1m39/39\u001b[0m \u001b[32m━━━━━━━━━━━━━━━━━━━━\u001b[0m\u001b[37m\u001b[0m \u001b[1m0s\u001b[0m 1ms/step - accuracy: 0.7548 - loss: 0.6047 - val_accuracy: 0.7631 - val_loss: 0.6243\n",
      "Epoch 420/500\n",
      "\u001b[1m39/39\u001b[0m \u001b[32m━━━━━━━━━━━━━━━━━━━━\u001b[0m\u001b[37m\u001b[0m \u001b[1m0s\u001b[0m 1ms/step - accuracy: 0.7546 - loss: 0.6046 - val_accuracy: 0.7631 - val_loss: 0.6245\n",
      "Epoch 421/500\n",
      "\u001b[1m39/39\u001b[0m \u001b[32m━━━━━━━━━━━━━━━━━━━━\u001b[0m\u001b[37m\u001b[0m \u001b[1m0s\u001b[0m 1ms/step - accuracy: 0.7545 - loss: 0.6046 - val_accuracy: 0.7641 - val_loss: 0.6242\n",
      "Epoch 422/500\n",
      "\u001b[1m39/39\u001b[0m \u001b[32m━━━━━━━━━━━━━━━━━━━━\u001b[0m\u001b[37m\u001b[0m \u001b[1m0s\u001b[0m 1ms/step - accuracy: 0.7553 - loss: 0.6046 - val_accuracy: 0.7650 - val_loss: 0.6244\n",
      "Epoch 423/500\n",
      "\u001b[1m39/39\u001b[0m \u001b[32m━━━━━━━━━━━━━━━━━━━━\u001b[0m\u001b[37m\u001b[0m \u001b[1m0s\u001b[0m 1ms/step - accuracy: 0.7552 - loss: 0.6046 - val_accuracy: 0.7631 - val_loss: 0.6245\n",
      "Epoch 424/500\n",
      "\u001b[1m39/39\u001b[0m \u001b[32m━━━━━━━━━━━━━━━━━━━━\u001b[0m\u001b[37m\u001b[0m \u001b[1m0s\u001b[0m 1ms/step - accuracy: 0.7547 - loss: 0.6045 - val_accuracy: 0.7631 - val_loss: 0.6244\n",
      "Epoch 425/500\n",
      "\u001b[1m39/39\u001b[0m \u001b[32m━━━━━━━━━━━━━━━━━━━━\u001b[0m\u001b[37m\u001b[0m \u001b[1m0s\u001b[0m 1ms/step - accuracy: 0.7548 - loss: 0.6046 - val_accuracy: 0.7650 - val_loss: 0.6240\n",
      "Epoch 426/500\n",
      "\u001b[1m39/39\u001b[0m \u001b[32m━━━━━━━━━━━━━━━━━━━━\u001b[0m\u001b[37m\u001b[0m \u001b[1m0s\u001b[0m 1ms/step - accuracy: 0.7548 - loss: 0.6045 - val_accuracy: 0.7631 - val_loss: 0.6243\n",
      "Epoch 427/500\n",
      "\u001b[1m39/39\u001b[0m \u001b[32m━━━━━━━━━━━━━━━━━━━━\u001b[0m\u001b[37m\u001b[0m \u001b[1m0s\u001b[0m 2ms/step - accuracy: 0.7545 - loss: 0.6046 - val_accuracy: 0.7650 - val_loss: 0.6242\n",
      "Epoch 428/500\n",
      "\u001b[1m39/39\u001b[0m \u001b[32m━━━━━━━━━━━━━━━━━━━━\u001b[0m\u001b[37m\u001b[0m \u001b[1m0s\u001b[0m 1ms/step - accuracy: 0.7552 - loss: 0.6044 - val_accuracy: 0.7650 - val_loss: 0.6240\n",
      "Epoch 429/500\n",
      "\u001b[1m39/39\u001b[0m \u001b[32m━━━━━━━━━━━━━━━━━━━━\u001b[0m\u001b[37m\u001b[0m \u001b[1m0s\u001b[0m 1ms/step - accuracy: 0.7547 - loss: 0.6045 - val_accuracy: 0.7631 - val_loss: 0.6240\n",
      "Epoch 430/500\n",
      "\u001b[1m39/39\u001b[0m \u001b[32m━━━━━━━━━━━━━━━━━━━━\u001b[0m\u001b[37m\u001b[0m \u001b[1m0s\u001b[0m 1ms/step - accuracy: 0.7551 - loss: 0.6044 - val_accuracy: 0.7641 - val_loss: 0.6242\n",
      "Epoch 431/500\n",
      "\u001b[1m39/39\u001b[0m \u001b[32m━━━━━━━━━━━━━━━━━━━━\u001b[0m\u001b[37m\u001b[0m \u001b[1m0s\u001b[0m 1ms/step - accuracy: 0.7552 - loss: 0.6044 - val_accuracy: 0.7650 - val_loss: 0.6238\n",
      "Epoch 432/500\n",
      "\u001b[1m39/39\u001b[0m \u001b[32m━━━━━━━━━━━━━━━━━━━━\u001b[0m\u001b[37m\u001b[0m \u001b[1m0s\u001b[0m 1ms/step - accuracy: 0.7548 - loss: 0.6043 - val_accuracy: 0.7641 - val_loss: 0.6242\n",
      "Epoch 433/500\n",
      "\u001b[1m39/39\u001b[0m \u001b[32m━━━━━━━━━━━━━━━━━━━━\u001b[0m\u001b[37m\u001b[0m \u001b[1m0s\u001b[0m 1ms/step - accuracy: 0.7550 - loss: 0.6045 - val_accuracy: 0.7631 - val_loss: 0.6241\n",
      "Epoch 434/500\n",
      "\u001b[1m39/39\u001b[0m \u001b[32m━━━━━━━━━━━━━━━━━━━━\u001b[0m\u001b[37m\u001b[0m \u001b[1m0s\u001b[0m 1ms/step - accuracy: 0.7543 - loss: 0.6045 - val_accuracy: 0.7631 - val_loss: 0.6234\n",
      "Epoch 435/500\n",
      "\u001b[1m39/39\u001b[0m \u001b[32m━━━━━━━━━━━━━━━━━━━━\u001b[0m\u001b[37m\u001b[0m \u001b[1m0s\u001b[0m 1ms/step - accuracy: 0.7549 - loss: 0.6042 - val_accuracy: 0.7631 - val_loss: 0.6242\n",
      "Epoch 436/500\n",
      "\u001b[1m39/39\u001b[0m \u001b[32m━━━━━━━━━━━━━━━━━━━━\u001b[0m\u001b[37m\u001b[0m \u001b[1m0s\u001b[0m 1ms/step - accuracy: 0.7544 - loss: 0.6044 - val_accuracy: 0.7641 - val_loss: 0.6237\n",
      "Epoch 437/500\n",
      "\u001b[1m39/39\u001b[0m \u001b[32m━━━━━━━━━━━━━━━━━━━━\u001b[0m\u001b[37m\u001b[0m \u001b[1m0s\u001b[0m 2ms/step - accuracy: 0.7550 - loss: 0.6042 - val_accuracy: 0.7631 - val_loss: 0.6237\n",
      "Epoch 438/500\n",
      "\u001b[1m39/39\u001b[0m \u001b[32m━━━━━━━━━━━━━━━━━━━━\u001b[0m\u001b[37m\u001b[0m \u001b[1m0s\u001b[0m 1ms/step - accuracy: 0.7542 - loss: 0.6042 - val_accuracy: 0.7631 - val_loss: 0.6237\n",
      "Epoch 439/500\n",
      "\u001b[1m39/39\u001b[0m \u001b[32m━━━━━━━━━━━━━━━━━━━━\u001b[0m\u001b[37m\u001b[0m \u001b[1m0s\u001b[0m 1ms/step - accuracy: 0.7553 - loss: 0.6042 - val_accuracy: 0.7641 - val_loss: 0.6238\n",
      "Epoch 440/500\n",
      "\u001b[1m39/39\u001b[0m \u001b[32m━━━━━━━━━━━━━━━━━━━━\u001b[0m\u001b[37m\u001b[0m \u001b[1m0s\u001b[0m 1ms/step - accuracy: 0.7555 - loss: 0.6041 - val_accuracy: 0.7641 - val_loss: 0.6236\n",
      "Epoch 441/500\n",
      "\u001b[1m39/39\u001b[0m \u001b[32m━━━━━━━━━━━━━━━━━━━━\u001b[0m\u001b[37m\u001b[0m \u001b[1m0s\u001b[0m 1ms/step - accuracy: 0.7550 - loss: 0.6040 - val_accuracy: 0.7631 - val_loss: 0.6237\n",
      "Epoch 442/500\n",
      "\u001b[1m39/39\u001b[0m \u001b[32m━━━━━━━━━━━━━━━━━━━━\u001b[0m\u001b[37m\u001b[0m \u001b[1m0s\u001b[0m 1ms/step - accuracy: 0.7548 - loss: 0.6041 - val_accuracy: 0.7622 - val_loss: 0.6238\n",
      "Epoch 443/500\n",
      "\u001b[1m39/39\u001b[0m \u001b[32m━━━━━━━━━━━━━━━━━━━━\u001b[0m\u001b[37m\u001b[0m \u001b[1m0s\u001b[0m 1ms/step - accuracy: 0.7548 - loss: 0.6042 - val_accuracy: 0.7641 - val_loss: 0.6233\n",
      "Epoch 444/500\n",
      "\u001b[1m39/39\u001b[0m \u001b[32m━━━━━━━━━━━━━━━━━━━━\u001b[0m\u001b[37m\u001b[0m \u001b[1m0s\u001b[0m 1ms/step - accuracy: 0.7541 - loss: 0.6038 - val_accuracy: 0.7622 - val_loss: 0.6236\n",
      "Epoch 445/500\n",
      "\u001b[1m39/39\u001b[0m \u001b[32m━━━━━━━━━━━━━━━━━━━━\u001b[0m\u001b[37m\u001b[0m \u001b[1m0s\u001b[0m 1ms/step - accuracy: 0.7552 - loss: 0.6041 - val_accuracy: 0.7631 - val_loss: 0.6236\n",
      "Epoch 446/500\n",
      "\u001b[1m39/39\u001b[0m \u001b[32m━━━━━━━━━━━━━━━━━━━━\u001b[0m\u001b[37m\u001b[0m \u001b[1m0s\u001b[0m 1ms/step - accuracy: 0.7556 - loss: 0.6039 - val_accuracy: 0.7622 - val_loss: 0.6233\n",
      "Epoch 447/500\n",
      "\u001b[1m39/39\u001b[0m \u001b[32m━━━━━━━━━━━━━━━━━━━━\u001b[0m\u001b[37m\u001b[0m \u001b[1m0s\u001b[0m 2ms/step - accuracy: 0.7550 - loss: 0.6038 - val_accuracy: 0.7622 - val_loss: 0.6229\n",
      "Epoch 448/500\n",
      "\u001b[1m39/39\u001b[0m \u001b[32m━━━━━━━━━━━━━━━━━━━━\u001b[0m\u001b[37m\u001b[0m \u001b[1m0s\u001b[0m 1ms/step - accuracy: 0.7552 - loss: 0.6038 - val_accuracy: 0.7622 - val_loss: 0.6230\n",
      "Epoch 449/500\n",
      "\u001b[1m39/39\u001b[0m \u001b[32m━━━━━━━━━━━━━━━━━━━━\u001b[0m\u001b[37m\u001b[0m \u001b[1m0s\u001b[0m 1ms/step - accuracy: 0.7552 - loss: 0.6039 - val_accuracy: 0.7622 - val_loss: 0.6231\n",
      "Epoch 450/500\n",
      "\u001b[1m39/39\u001b[0m \u001b[32m━━━━━━━━━━━━━━━━━━━━\u001b[0m\u001b[37m\u001b[0m \u001b[1m0s\u001b[0m 1ms/step - accuracy: 0.7550 - loss: 0.6036 - val_accuracy: 0.7613 - val_loss: 0.6230\n",
      "Epoch 451/500\n",
      "\u001b[1m39/39\u001b[0m \u001b[32m━━━━━━━━━━━━━━━━━━━━\u001b[0m\u001b[37m\u001b[0m \u001b[1m0s\u001b[0m 1ms/step - accuracy: 0.7546 - loss: 0.6039 - val_accuracy: 0.7622 - val_loss: 0.6230\n",
      "Epoch 452/500\n",
      "\u001b[1m39/39\u001b[0m \u001b[32m━━━━━━━━━━━━━━━━━━━━\u001b[0m\u001b[37m\u001b[0m \u001b[1m0s\u001b[0m 1ms/step - accuracy: 0.7544 - loss: 0.6036 - val_accuracy: 0.7613 - val_loss: 0.6229\n",
      "Epoch 453/500\n",
      "\u001b[1m39/39\u001b[0m \u001b[32m━━━━━━━━━━━━━━━━━━━━\u001b[0m\u001b[37m\u001b[0m \u001b[1m0s\u001b[0m 1ms/step - accuracy: 0.7546 - loss: 0.6038 - val_accuracy: 0.7613 - val_loss: 0.6229\n",
      "Epoch 454/500\n",
      "\u001b[1m39/39\u001b[0m \u001b[32m━━━━━━━━━━━━━━━━━━━━\u001b[0m\u001b[37m\u001b[0m \u001b[1m0s\u001b[0m 1ms/step - accuracy: 0.7543 - loss: 0.6036 - val_accuracy: 0.7613 - val_loss: 0.6227\n",
      "Epoch 455/500\n",
      "\u001b[1m39/39\u001b[0m \u001b[32m━━━━━━━━━━━━━━━━━━━━\u001b[0m\u001b[37m\u001b[0m \u001b[1m0s\u001b[0m 1ms/step - accuracy: 0.7547 - loss: 0.6036 - val_accuracy: 0.7594 - val_loss: 0.6229\n",
      "Epoch 456/500\n",
      "\u001b[1m39/39\u001b[0m \u001b[32m━━━━━━━━━━━━━━━━━━━━\u001b[0m\u001b[37m\u001b[0m \u001b[1m0s\u001b[0m 1ms/step - accuracy: 0.7551 - loss: 0.6037 - val_accuracy: 0.7604 - val_loss: 0.6230\n",
      "Epoch 457/500\n",
      "\u001b[1m39/39\u001b[0m \u001b[32m━━━━━━━━━━━━━━━━━━━━\u001b[0m\u001b[37m\u001b[0m \u001b[1m0s\u001b[0m 1ms/step - accuracy: 0.7542 - loss: 0.6037 - val_accuracy: 0.7594 - val_loss: 0.6226\n",
      "Epoch 458/500\n",
      "\u001b[1m39/39\u001b[0m \u001b[32m━━━━━━━━━━━━━━━━━━━━\u001b[0m\u001b[37m\u001b[0m \u001b[1m0s\u001b[0m 2ms/step - accuracy: 0.7547 - loss: 0.6035 - val_accuracy: 0.7604 - val_loss: 0.6229\n",
      "Epoch 459/500\n",
      "\u001b[1m39/39\u001b[0m \u001b[32m━━━━━━━━━━━━━━━━━━━━\u001b[0m\u001b[37m\u001b[0m \u001b[1m0s\u001b[0m 1ms/step - accuracy: 0.7541 - loss: 0.6038 - val_accuracy: 0.7604 - val_loss: 0.6230\n",
      "Epoch 460/500\n",
      "\u001b[1m39/39\u001b[0m \u001b[32m━━━━━━━━━━━━━━━━━━━━\u001b[0m\u001b[37m\u001b[0m \u001b[1m0s\u001b[0m 1ms/step - accuracy: 0.7543 - loss: 0.6035 - val_accuracy: 0.7604 - val_loss: 0.6227\n",
      "Epoch 461/500\n",
      "\u001b[1m39/39\u001b[0m \u001b[32m━━━━━━━━━━━━━━━━━━━━\u001b[0m\u001b[37m\u001b[0m \u001b[1m0s\u001b[0m 1ms/step - accuracy: 0.7551 - loss: 0.6036 - val_accuracy: 0.7604 - val_loss: 0.6227\n",
      "Epoch 462/500\n",
      "\u001b[1m39/39\u001b[0m \u001b[32m━━━━━━━━━━━━━━━━━━━━\u001b[0m\u001b[37m\u001b[0m \u001b[1m0s\u001b[0m 1ms/step - accuracy: 0.7549 - loss: 0.6034 - val_accuracy: 0.7604 - val_loss: 0.6229\n",
      "Epoch 463/500\n",
      "\u001b[1m39/39\u001b[0m \u001b[32m━━━━━━━━━━━━━━━━━━━━\u001b[0m\u001b[37m\u001b[0m \u001b[1m0s\u001b[0m 1ms/step - accuracy: 0.7544 - loss: 0.6035 - val_accuracy: 0.7594 - val_loss: 0.6225\n",
      "Epoch 464/500\n",
      "\u001b[1m39/39\u001b[0m \u001b[32m━━━━━━━━━━━━━━━━━━━━\u001b[0m\u001b[37m\u001b[0m \u001b[1m0s\u001b[0m 1ms/step - accuracy: 0.7545 - loss: 0.6033 - val_accuracy: 0.7604 - val_loss: 0.6225\n",
      "Epoch 465/500\n",
      "\u001b[1m39/39\u001b[0m \u001b[32m━━━━━━━━━━━━━━━━━━━━\u001b[0m\u001b[37m\u001b[0m \u001b[1m0s\u001b[0m 1ms/step - accuracy: 0.7549 - loss: 0.6036 - val_accuracy: 0.7604 - val_loss: 0.6229\n",
      "Epoch 466/500\n",
      "\u001b[1m39/39\u001b[0m \u001b[32m━━━━━━━━━━━━━━━━━━━━\u001b[0m\u001b[37m\u001b[0m \u001b[1m0s\u001b[0m 1ms/step - accuracy: 0.7545 - loss: 0.6035 - val_accuracy: 0.7604 - val_loss: 0.6222\n",
      "Epoch 467/500\n",
      "\u001b[1m39/39\u001b[0m \u001b[32m━━━━━━━━━━━━━━━━━━━━\u001b[0m\u001b[37m\u001b[0m \u001b[1m0s\u001b[0m 1ms/step - accuracy: 0.7541 - loss: 0.6033 - val_accuracy: 0.7604 - val_loss: 0.6226\n",
      "Epoch 468/500\n",
      "\u001b[1m39/39\u001b[0m \u001b[32m━━━━━━━━━━━━━━━━━━━━\u001b[0m\u001b[37m\u001b[0m \u001b[1m0s\u001b[0m 2ms/step - accuracy: 0.7549 - loss: 0.6035 - val_accuracy: 0.7585 - val_loss: 0.6227\n",
      "Epoch 469/500\n",
      "\u001b[1m39/39\u001b[0m \u001b[32m━━━━━━━━━━━━━━━━━━━━\u001b[0m\u001b[37m\u001b[0m \u001b[1m0s\u001b[0m 1ms/step - accuracy: 0.7544 - loss: 0.6033 - val_accuracy: 0.7613 - val_loss: 0.6227\n",
      "Epoch 470/500\n",
      "\u001b[1m39/39\u001b[0m \u001b[32m━━━━━━━━━━━━━━━━━━━━\u001b[0m\u001b[37m\u001b[0m \u001b[1m0s\u001b[0m 1ms/step - accuracy: 0.7556 - loss: 0.6033 - val_accuracy: 0.7613 - val_loss: 0.6224\n",
      "Epoch 471/500\n",
      "\u001b[1m39/39\u001b[0m \u001b[32m━━━━━━━━━━━━━━━━━━━━\u001b[0m\u001b[37m\u001b[0m \u001b[1m0s\u001b[0m 1ms/step - accuracy: 0.7541 - loss: 0.6031 - val_accuracy: 0.7604 - val_loss: 0.6229\n",
      "Epoch 472/500\n",
      "\u001b[1m39/39\u001b[0m \u001b[32m━━━━━━━━━━━━━━━━━━━━\u001b[0m\u001b[37m\u001b[0m \u001b[1m0s\u001b[0m 1ms/step - accuracy: 0.7547 - loss: 0.6032 - val_accuracy: 0.7622 - val_loss: 0.6225\n",
      "Epoch 473/500\n",
      "\u001b[1m39/39\u001b[0m \u001b[32m━━━━━━━━━━━━━━━━━━━━\u001b[0m\u001b[37m\u001b[0m \u001b[1m0s\u001b[0m 1ms/step - accuracy: 0.7544 - loss: 0.6030 - val_accuracy: 0.7631 - val_loss: 0.6224\n",
      "Epoch 474/500\n",
      "\u001b[1m39/39\u001b[0m \u001b[32m━━━━━━━━━━━━━━━━━━━━\u001b[0m\u001b[37m\u001b[0m \u001b[1m0s\u001b[0m 1ms/step - accuracy: 0.7550 - loss: 0.6030 - val_accuracy: 0.7594 - val_loss: 0.6227\n",
      "Epoch 475/500\n",
      "\u001b[1m39/39\u001b[0m \u001b[32m━━━━━━━━━━━━━━━━━━━━\u001b[0m\u001b[37m\u001b[0m \u001b[1m0s\u001b[0m 1ms/step - accuracy: 0.7544 - loss: 0.6030 - val_accuracy: 0.7622 - val_loss: 0.6227\n",
      "Epoch 476/500\n",
      "\u001b[1m39/39\u001b[0m \u001b[32m━━━━━━━━━━━━━━━━━━━━\u001b[0m\u001b[37m\u001b[0m \u001b[1m0s\u001b[0m 1ms/step - accuracy: 0.7558 - loss: 0.6030 - val_accuracy: 0.7585 - val_loss: 0.6227\n",
      "Epoch 477/500\n",
      "\u001b[1m39/39\u001b[0m \u001b[32m━━━━━━━━━━━━━━━━━━━━\u001b[0m\u001b[37m\u001b[0m \u001b[1m0s\u001b[0m 1ms/step - accuracy: 0.7547 - loss: 0.6028 - val_accuracy: 0.7613 - val_loss: 0.6226\n",
      "Epoch 478/500\n",
      "\u001b[1m39/39\u001b[0m \u001b[32m━━━━━━━━━━━━━━━━━━━━\u001b[0m\u001b[37m\u001b[0m \u001b[1m0s\u001b[0m 2ms/step - accuracy: 0.7549 - loss: 0.6030 - val_accuracy: 0.7594 - val_loss: 0.6221\n",
      "Epoch 479/500\n",
      "\u001b[1m39/39\u001b[0m \u001b[32m━━━━━━━━━━━━━━━━━━━━\u001b[0m\u001b[37m\u001b[0m \u001b[1m0s\u001b[0m 1ms/step - accuracy: 0.7542 - loss: 0.6028 - val_accuracy: 0.7604 - val_loss: 0.6223\n",
      "Epoch 480/500\n",
      "\u001b[1m39/39\u001b[0m \u001b[32m━━━━━━━━━━━━━━━━━━━━\u001b[0m\u001b[37m\u001b[0m \u001b[1m0s\u001b[0m 1ms/step - accuracy: 0.7554 - loss: 0.6028 - val_accuracy: 0.7594 - val_loss: 0.6219\n",
      "Epoch 481/500\n",
      "\u001b[1m39/39\u001b[0m \u001b[32m━━━━━━━━━━━━━━━━━━━━\u001b[0m\u001b[37m\u001b[0m \u001b[1m0s\u001b[0m 1ms/step - accuracy: 0.7537 - loss: 0.6027 - val_accuracy: 0.7604 - val_loss: 0.6222\n",
      "Epoch 482/500\n",
      "\u001b[1m39/39\u001b[0m \u001b[32m━━━━━━━━━━━━━━━━━━━━\u001b[0m\u001b[37m\u001b[0m \u001b[1m0s\u001b[0m 1ms/step - accuracy: 0.7555 - loss: 0.6027 - val_accuracy: 0.7585 - val_loss: 0.6217\n",
      "Epoch 483/500\n",
      "\u001b[1m39/39\u001b[0m \u001b[32m━━━━━━━━━━━━━━━━━━━━\u001b[0m\u001b[37m\u001b[0m \u001b[1m0s\u001b[0m 1ms/step - accuracy: 0.7543 - loss: 0.6028 - val_accuracy: 0.7594 - val_loss: 0.6220\n",
      "Epoch 484/500\n",
      "\u001b[1m39/39\u001b[0m \u001b[32m━━━━━━━━━━━━━━━━━━━━\u001b[0m\u001b[37m\u001b[0m \u001b[1m0s\u001b[0m 1ms/step - accuracy: 0.7555 - loss: 0.6029 - val_accuracy: 0.7585 - val_loss: 0.6215\n",
      "Epoch 485/500\n",
      "\u001b[1m39/39\u001b[0m \u001b[32m━━━━━━━━━━━━━━━━━━━━\u001b[0m\u001b[37m\u001b[0m \u001b[1m0s\u001b[0m 1ms/step - accuracy: 0.7543 - loss: 0.6025 - val_accuracy: 0.7594 - val_loss: 0.6216\n",
      "Epoch 486/500\n",
      "\u001b[1m39/39\u001b[0m \u001b[32m━━━━━━━━━━━━━━━━━━━━\u001b[0m\u001b[37m\u001b[0m \u001b[1m0s\u001b[0m 1ms/step - accuracy: 0.7551 - loss: 0.6029 - val_accuracy: 0.7585 - val_loss: 0.6214\n",
      "Epoch 487/500\n",
      "\u001b[1m39/39\u001b[0m \u001b[32m━━━━━━━━━━━━━━━━━━━━\u001b[0m\u001b[37m\u001b[0m \u001b[1m0s\u001b[0m 1ms/step - accuracy: 0.7546 - loss: 0.6026 - val_accuracy: 0.7585 - val_loss: 0.6217\n",
      "Epoch 488/500\n",
      "\u001b[1m39/39\u001b[0m \u001b[32m━━━━━━━━━━━━━━━━━━━━\u001b[0m\u001b[37m\u001b[0m \u001b[1m0s\u001b[0m 1ms/step - accuracy: 0.7547 - loss: 0.6029 - val_accuracy: 0.7585 - val_loss: 0.6212\n",
      "Epoch 489/500\n",
      "\u001b[1m39/39\u001b[0m \u001b[32m━━━━━━━━━━━━━━━━━━━━\u001b[0m\u001b[37m\u001b[0m \u001b[1m0s\u001b[0m 2ms/step - accuracy: 0.7550 - loss: 0.6026 - val_accuracy: 0.7585 - val_loss: 0.6217\n",
      "Epoch 490/500\n",
      "\u001b[1m39/39\u001b[0m \u001b[32m━━━━━━━━━━━━━━━━━━━━\u001b[0m\u001b[37m\u001b[0m \u001b[1m0s\u001b[0m 1ms/step - accuracy: 0.7551 - loss: 0.6028 - val_accuracy: 0.7576 - val_loss: 0.6212\n",
      "Epoch 491/500\n",
      "\u001b[1m39/39\u001b[0m \u001b[32m━━━━━━━━━━━━━━━━━━━━\u001b[0m\u001b[37m\u001b[0m \u001b[1m0s\u001b[0m 1ms/step - accuracy: 0.7554 - loss: 0.6025 - val_accuracy: 0.7585 - val_loss: 0.6212\n",
      "Epoch 492/500\n",
      "\u001b[1m39/39\u001b[0m \u001b[32m━━━━━━━━━━━━━━━━━━━━\u001b[0m\u001b[37m\u001b[0m \u001b[1m0s\u001b[0m 1ms/step - accuracy: 0.7542 - loss: 0.6028 - val_accuracy: 0.7576 - val_loss: 0.6212\n",
      "Epoch 493/500\n",
      "\u001b[1m39/39\u001b[0m \u001b[32m━━━━━━━━━━━━━━━━━━━━\u001b[0m\u001b[37m\u001b[0m \u001b[1m0s\u001b[0m 1ms/step - accuracy: 0.7554 - loss: 0.6025 - val_accuracy: 0.7576 - val_loss: 0.6211\n",
      "Epoch 494/500\n",
      "\u001b[1m39/39\u001b[0m \u001b[32m━━━━━━━━━━━━━━━━━━━━\u001b[0m\u001b[37m\u001b[0m \u001b[1m0s\u001b[0m 1ms/step - accuracy: 0.7547 - loss: 0.6025 - val_accuracy: 0.7585 - val_loss: 0.6205\n",
      "Epoch 495/500\n",
      "\u001b[1m39/39\u001b[0m \u001b[32m━━━━━━━━━━━━━━━━━━━━\u001b[0m\u001b[37m\u001b[0m \u001b[1m0s\u001b[0m 1ms/step - accuracy: 0.7552 - loss: 0.6023 - val_accuracy: 0.7576 - val_loss: 0.6210\n",
      "Epoch 496/500\n",
      "\u001b[1m39/39\u001b[0m \u001b[32m━━━━━━━━━━━━━━━━━━━━\u001b[0m\u001b[37m\u001b[0m \u001b[1m0s\u001b[0m 1ms/step - accuracy: 0.7545 - loss: 0.6026 - val_accuracy: 0.7576 - val_loss: 0.6207\n",
      "Epoch 497/500\n",
      "\u001b[1m39/39\u001b[0m \u001b[32m━━━━━━━━━━━━━━━━━━━━\u001b[0m\u001b[37m\u001b[0m \u001b[1m0s\u001b[0m 1ms/step - accuracy: 0.7548 - loss: 0.6024 - val_accuracy: 0.7576 - val_loss: 0.6208\n",
      "Epoch 498/500\n",
      "\u001b[1m39/39\u001b[0m \u001b[32m━━━━━━━━━━━━━━━━━━━━\u001b[0m\u001b[37m\u001b[0m \u001b[1m0s\u001b[0m 1ms/step - accuracy: 0.7538 - loss: 0.6026 - val_accuracy: 0.7576 - val_loss: 0.6204\n",
      "Epoch 499/500\n",
      "\u001b[1m39/39\u001b[0m \u001b[32m━━━━━━━━━━━━━━━━━━━━\u001b[0m\u001b[37m\u001b[0m \u001b[1m0s\u001b[0m 2ms/step - accuracy: 0.7554 - loss: 0.6023 - val_accuracy: 0.7576 - val_loss: 0.6203\n",
      "Epoch 500/500\n",
      "\u001b[1m39/39\u001b[0m \u001b[32m━━━━━━━━━━━━━━━━━━━━\u001b[0m\u001b[37m\u001b[0m \u001b[1m0s\u001b[0m 1ms/step - accuracy: 0.7538 - loss: 0.6025 - val_accuracy: 0.7576 - val_loss: 0.6202\n",
      "CPU times: user 31.5 s, sys: 3.2 s, total: 34.7 s\n",
      "Wall time: 30.9 s\n"
     ]
    }
   ],
   "source": [
    "%%time\n",
    "# training the model for 500 epochs\n",
    "history = model.fit(x_train, y_train, epochs = 500, batch_size = 256, validation_split = 0.1, verbose = 1)"
   ]
  },
  {
   "cell_type": "markdown",
   "metadata": {},
   "source": [
    "The following are plots of weights and biases after training. This is to see if there are any differences post training."
   ]
  },
  {
   "cell_type": "code",
   "execution_count": 43,
   "metadata": {},
   "outputs": [
    {
     "data": {
      "image/png": "[encoded data removed]",
      "text/plain": [
       "<Figure size 500x500 with 6 Axes>"
      ]
     },
     "metadata": {},
     "output_type": "display_data"
    }
   ],
   "source": [
    "fig, axes = plt.subplots(3, 2, figsize = (5, 5))\n",
    "fig.subplots_adjust(hspace = 0.5, wspace = 0.5)\n",
    "# extracting weights from the layers\n",
    "weight_layers = [layer for layer in model.layers]\n",
    "for i, layer in enumerate(weight_layers):\n",
    "    for j in [0, 1]:\n",
    "        axes[i, j].hist(layer.weights[j].numpy().flatten(), align = \"left\")\n",
    "        axes[i, j].set_title(layer.weights[j].name)"
   ]
  },
  {
   "cell_type": "markdown",
   "metadata": {},
   "source": [
    "The weights now follow normal distribution and the biases are non-zero.\n",
    "\n",
    "Each iteration is 1 forward + 1 backward propagation."
   ]
  },
  {
   "cell_type": "markdown",
   "metadata": {},
   "source": [
    "### `validation_data`\n",
    "- Validation set can also be used explicitly by using the `validation_data` argument in the `fit` method.\n",
    "- But, the model will have to be re-initialized after defining with `validation_data`, else, the model will start getting trained from its current stage.\n",
    "- Ideally, the code should be written as a function so that the model definition would not have to be written over and over again."
   ]
  },
  {
   "cell_type": "code",
   "execution_count": 44,
   "metadata": {},
   "outputs": [],
   "source": [
    "def create_model():\n",
    "    model = Sequential(\n",
    "        [\n",
    "            Dense(32, activation = \"relu\", input_shape = (11, ), name = \"hidden_1\"),\n",
    "            Dense(16, activation = \"relu\", name = \"hidden_2\"),\n",
    "            Dense(4, activation = \"softmax\", name = \"output\")\n",
    "        ]\n",
    "    )\n",
    "    model.compile(\n",
    "        optimizer = tf.keras.optimizers.Adam(learning_rate = 0.001),\n",
    "        loss = tf.keras.losses.SparseCategoricalCrossentropy(),\n",
    "        metrics = [\"accuracy\"]\n",
    "    )\n",
    "    return model\n",
    "\n",
    "model = create_model()"
   ]
  },
  {
   "cell_type": "markdown",
   "metadata": {},
   "source": [
    "`verbose` is now set to `0` to make the training process silent. This prevents the printing of loss and other metrics for each epoch."
   ]
  },
  {
   "cell_type": "code",
   "execution_count": 45,
   "metadata": {},
   "outputs": [],
   "source": [
    "history = model.fit(x_train, y_train, validation_data = (x_val, y_val), epochs = 500, batch_size = 512, verbose = 0)"
   ]
  },
  {
   "cell_type": "markdown",
   "metadata": {},
   "source": [
    "The retrieve all the keys associated with the history object, `__dict__` attribute can be used."
   ]
  },
  {
   "cell_type": "code",
   "execution_count": 46,
   "metadata": {},
   "outputs": [
    {
     "data": {
      "text/plain": [
       "dict_keys(['params', '_model', 'history', 'epoch'])"
      ]
     },
     "execution_count": 46,
     "metadata": {},
     "output_type": "execute_result"
    }
   ],
   "source": [
    "history.__dict__.keys()"
   ]
  },
  {
   "cell_type": "markdown",
   "metadata": {},
   "source": [
    "Observe that the history object's dictionary has another dictionary with \"`history`\" inside it.\n",
    "\n",
    "This can be called as it is available in keys associated with `model.fit`."
   ]
  },
  {
   "cell_type": "code",
   "execution_count": 47,
   "metadata": {},
   "outputs": [
    {
     "data": {
      "text/plain": [
       "dict_keys(['accuracy', 'loss', 'val_accuracy', 'val_loss'])"
      ]
     },
     "execution_count": 47,
     "metadata": {},
     "output_type": "execute_result"
    }
   ],
   "source": [
    "history.history.keys()"
   ]
  },
  {
   "cell_type": "markdown",
   "metadata": {},
   "source": [
    "`model.fit` has saved all the loss and metric values for each epoch inside the `history` dictionary."
   ]
  },
  {
   "cell_type": "code",
   "execution_count": 48,
   "metadata": {},
   "outputs": [],
   "source": [
    "epochs = history.epoch\n",
    "loss = history.history[\"loss\"]\n",
    "accuracy = history.history[\"accuracy\"]\n",
    "val_loss = history.history[\"val_loss\"]\n",
    "val_accuracy = history.history[\"val_accuracy\"]"
   ]
  },
  {
   "cell_type": "code",
   "execution_count": 49,
   "metadata": {},
   "outputs": [
    {
     "data": {
      "image/png": "[encoded data removed]",
      "text/plain": [
       "<Figure size 640x480 with 1 Axes>"
      ]
     },
     "metadata": {},
     "output_type": "display_data"
    },
    {
     "data": {
      "image/png": "[encoded data removed]",
      "text/plain": [
       "<Figure size 640x480 with 1 Axes>"
      ]
     },
     "metadata": {},
     "output_type": "display_data"
    }
   ],
   "source": [
    "# plotting the loss and accuracy curves fro both training and validation data\n",
    "plt.figure()\n",
    "plt.plot(epochs, loss, label = \"training\")\n",
    "plt.plot(epochs, val_loss, label = \"validation\")\n",
    "plt.legend()\n",
    "plt.title(\"Loss VS Epochs\")\n",
    "plt.show()\n",
    "\n",
    "plt.figure()\n",
    "plt.plot(epochs, accuracy, label = \"training\")\n",
    "plt.plot(epochs, val_accuracy, label = \"validation\")\n",
    "plt.legend()\n",
    "plt.title(\"Accuracy VS Epochs\")\n",
    "plt.show()"
   ]
  },
  {
   "cell_type": "markdown",
   "metadata": {},
   "source": [
    "Observations,\n",
    "- Both training and validation loss decrease with epochs.\n",
    "- After around 120 epochs, training loss still keeps on decreasing but validation loss starts to increase.\n",
    "- This means that the model start to overfit the training dataset after 120 epochs. Meaning, the params learnt after 120 epochs are the reason for overfitting on training dataset."
   ]
  }
 ],
 "metadata": {
  "kernelspec": {
   "display_name": "Python 3",
   "language": "python",
   "name": "python3"
  },
  "language_info": {
   "codemirror_mode": {
    "name": "ipython",
    "version": 3
   },
   "file_extension": ".py",
   "mimetype": "text/x-python",
   "name": "python",
   "nbconvert_exporter": "python",
   "pygments_lexer": "ipython3",
   "version": "3.11.9"
  }
 },
 "nbformat": 4,
 "nbformat_minor": 2
}
