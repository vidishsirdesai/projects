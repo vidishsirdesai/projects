{
 "cells": [
  {
   "cell_type": "markdown",
   "metadata": {},
   "source": [
    "# Business Case: healthyfi.me\n",
    "healthyfi.me has labelled its customers based on the highest intensity of work they could perform, namely, `A`, `B`, `C` and `D`.\n",
    "\n",
    "Given a new customer, help healthyfi.me in recommending customized workout plans by predicting the customer's class."
   ]
  },
  {
   "cell_type": "markdown",
   "metadata": {},
   "source": [
    "### Data dictionary\n",
    "| id | features | description |\n",
    "| :-: | :-: | :-: |\n",
    "| 01 | `age` | age of the customer |\n",
    "| 02 | `gender` | gender of the customer (M/F) |\n",
    "| 03 | `height_cm` | height of the customer in cm |\n",
    "| 04 | `weight_kg` | weight of the customer in kg |\n",
    "| 05 | `body_fat_`% | % of fat in customer's body |\n",
    "| 06 | `diastolic` | diastolic blood pressure, measures the pressure in your arteries when your heart rests between beats |\n",
    "| 07 | `systolic` | systolic blood pressure, measures the pressure in your arteries when your heart beats |\n",
    "| 08 | `gripForce` | strength of customer's grip |\n",
    "| 09 | `sit and bend forward_cm` | to measure flexibility of customer |\n",
    "| 10 | `sit-ups counts` | count of sit-ups customer can perform |\n",
    "| 11 | `broad jump_cm` | It is the max jump customer can perform in cm |\n",
    "| 12 | `class` | Category of customer based on the intensity of workout |"
   ]
  },
  {
   "cell_type": "markdown",
   "metadata": {},
   "source": [
    "# Importing Dependencies"
   ]
  },
  {
   "cell_type": "code",
   "execution_count": 1,
   "metadata": {},
   "outputs": [],
   "source": [
    "import numpy as np\n",
    "import pandas as pd\n",
    "import matplotlib.pyplot as plt\n",
    "import seaborn as sns"
   ]
  },
  {
   "cell_type": "markdown",
   "metadata": {},
   "source": [
    "# Reading The Dataset"
   ]
  },
  {
   "cell_type": "code",
   "execution_count": 2,
   "metadata": {},
   "outputs": [
    {
     "data": {
      "text/html": [
       "<div>\n",
       "<style scoped>\n",
       "    .dataframe tbody tr th:only-of-type {\n",
       "        vertical-align: middle;\n",
       "    }\n",
       "\n",
       "    .dataframe tbody tr th {\n",
       "        vertical-align: top;\n",
       "    }\n",
       "\n",
       "    .dataframe thead th {\n",
       "        text-align: right;\n",
       "    }\n",
       "</style>\n",
       "<table border=\"1\" class=\"dataframe\">\n",
       "  <thead>\n",
       "    <tr style=\"text-align: right;\">\n",
       "      <th></th>\n",
       "      <th>age</th>\n",
       "      <th>gender</th>\n",
       "      <th>height_cm</th>\n",
       "      <th>weight_kg</th>\n",
       "      <th>body fat_%</th>\n",
       "      <th>diastolic</th>\n",
       "      <th>systolic</th>\n",
       "      <th>gripForce</th>\n",
       "      <th>sit and bend forward_cm</th>\n",
       "      <th>sit-ups counts</th>\n",
       "      <th>broad jump_cm</th>\n",
       "      <th>class</th>\n",
       "    </tr>\n",
       "  </thead>\n",
       "  <tbody>\n",
       "    <tr>\n",
       "      <th>0</th>\n",
       "      <td>27.0</td>\n",
       "      <td>M</td>\n",
       "      <td>172.3</td>\n",
       "      <td>75.24</td>\n",
       "      <td>21.3</td>\n",
       "      <td>80.0</td>\n",
       "      <td>130.0</td>\n",
       "      <td>54.9</td>\n",
       "      <td>18.4</td>\n",
       "      <td>60.0</td>\n",
       "      <td>217.0</td>\n",
       "      <td>C</td>\n",
       "    </tr>\n",
       "    <tr>\n",
       "      <th>1</th>\n",
       "      <td>25.0</td>\n",
       "      <td>M</td>\n",
       "      <td>165.0</td>\n",
       "      <td>55.80</td>\n",
       "      <td>15.7</td>\n",
       "      <td>77.0</td>\n",
       "      <td>126.0</td>\n",
       "      <td>36.4</td>\n",
       "      <td>16.3</td>\n",
       "      <td>53.0</td>\n",
       "      <td>229.0</td>\n",
       "      <td>A</td>\n",
       "    </tr>\n",
       "    <tr>\n",
       "      <th>2</th>\n",
       "      <td>31.0</td>\n",
       "      <td>M</td>\n",
       "      <td>179.6</td>\n",
       "      <td>78.00</td>\n",
       "      <td>20.1</td>\n",
       "      <td>92.0</td>\n",
       "      <td>152.0</td>\n",
       "      <td>44.8</td>\n",
       "      <td>12.0</td>\n",
       "      <td>49.0</td>\n",
       "      <td>181.0</td>\n",
       "      <td>C</td>\n",
       "    </tr>\n",
       "    <tr>\n",
       "      <th>3</th>\n",
       "      <td>32.0</td>\n",
       "      <td>M</td>\n",
       "      <td>174.5</td>\n",
       "      <td>71.10</td>\n",
       "      <td>18.4</td>\n",
       "      <td>76.0</td>\n",
       "      <td>147.0</td>\n",
       "      <td>41.4</td>\n",
       "      <td>15.2</td>\n",
       "      <td>53.0</td>\n",
       "      <td>219.0</td>\n",
       "      <td>B</td>\n",
       "    </tr>\n",
       "    <tr>\n",
       "      <th>4</th>\n",
       "      <td>28.0</td>\n",
       "      <td>M</td>\n",
       "      <td>173.8</td>\n",
       "      <td>67.70</td>\n",
       "      <td>17.1</td>\n",
       "      <td>70.0</td>\n",
       "      <td>127.0</td>\n",
       "      <td>43.5</td>\n",
       "      <td>27.1</td>\n",
       "      <td>45.0</td>\n",
       "      <td>217.0</td>\n",
       "      <td>B</td>\n",
       "    </tr>\n",
       "  </tbody>\n",
       "</table>\n",
       "</div>"
      ],
      "text/plain": [
       "    age gender  height_cm  weight_kg  body fat_%  diastolic  systolic  \\\n",
       "0  27.0      M      172.3      75.24        21.3       80.0     130.0   \n",
       "1  25.0      M      165.0      55.80        15.7       77.0     126.0   \n",
       "2  31.0      M      179.6      78.00        20.1       92.0     152.0   \n",
       "3  32.0      M      174.5      71.10        18.4       76.0     147.0   \n",
       "4  28.0      M      173.8      67.70        17.1       70.0     127.0   \n",
       "\n",
       "   gripForce  sit and bend forward_cm  sit-ups counts  broad jump_cm class  \n",
       "0       54.9                     18.4            60.0          217.0     C  \n",
       "1       36.4                     16.3            53.0          229.0     A  \n",
       "2       44.8                     12.0            49.0          181.0     C  \n",
       "3       41.4                     15.2            53.0          219.0     B  \n",
       "4       43.5                     27.1            45.0          217.0     B  "
      ]
     },
     "execution_count": 2,
     "metadata": {},
     "output_type": "execute_result"
    }
   ],
   "source": [
    "df = pd.read_csv(\"healthyfime.csv\")\n",
    "df.head()"
   ]
  },
  {
   "cell_type": "markdown",
   "metadata": {},
   "source": [
    "Observations from the above snippet of the data,\n",
    "- The `age` feature is very crucial in predicting the class of highest intensity workout.\n",
    "- Features like, `height`, `weight`, `diastolic`, etc are crucial in predicting the workout intensity. The reason: A high intensity cannot be predicted to candidates with high blood pressure."
   ]
  },
  {
   "cell_type": "code",
   "execution_count": 3,
   "metadata": {},
   "outputs": [
    {
     "name": "stdout",
     "output_type": "stream",
     "text": [
      "<class 'pandas.core.frame.DataFrame'>\n",
      "RangeIndex: 13393 entries, 0 to 13392\n",
      "Data columns (total 12 columns):\n",
      " #   Column                   Non-Null Count  Dtype  \n",
      "---  ------                   --------------  -----  \n",
      " 0   age                      13393 non-null  float64\n",
      " 1   gender                   13393 non-null  object \n",
      " 2   height_cm                13393 non-null  float64\n",
      " 3   weight_kg                13393 non-null  float64\n",
      " 4   body fat_%               13393 non-null  float64\n",
      " 5   diastolic                13393 non-null  float64\n",
      " 6   systolic                 13393 non-null  float64\n",
      " 7   gripForce                13393 non-null  float64\n",
      " 8   sit and bend forward_cm  13393 non-null  float64\n",
      " 9   sit-ups counts           13393 non-null  float64\n",
      " 10  broad jump_cm            13393 non-null  float64\n",
      " 11  class                    13393 non-null  object \n",
      "dtypes: float64(10), object(2)\n",
      "memory usage: 1.2+ MB\n"
     ]
    }
   ],
   "source": [
    "df.info()"
   ]
  },
  {
   "cell_type": "markdown",
   "metadata": {},
   "source": [
    "# EDA\n",
    "- `gender` has 2 unique values and `class` has 4 unique values.\n",
    "- Binary encoding (`0` and `1`) can be applied on `gender`.\n",
    "- Since `class` is ordinal in nature, label encoding (`0`, `1`, `2`, `3`) can be applied on it."
   ]
  },
  {
   "cell_type": "code",
   "execution_count": 4,
   "metadata": {},
   "outputs": [
    {
     "name": "stderr",
     "output_type": "stream",
     "text": [
      "/var/folders/xl/sjrt7p6548j9h6x1rz_px87w0000gn/T/ipykernel_60462/3792586169.py:3: FutureWarning: Downcasting behavior in `replace` is deprecated and will be removed in a future version. To retain the old behavior, explicitly call `result.infer_objects(copy=False)`. To opt-in to the future behavior, set `pd.set_option('future.no_silent_downcasting', True)`\n",
      "  df.replace({\"M\": 0, \"F\": 1}, inplace = True)\n"
     ]
    },
    {
     "data": {
      "text/html": [
       "<div>\n",
       "<style scoped>\n",
       "    .dataframe tbody tr th:only-of-type {\n",
       "        vertical-align: middle;\n",
       "    }\n",
       "\n",
       "    .dataframe tbody tr th {\n",
       "        vertical-align: top;\n",
       "    }\n",
       "\n",
       "    .dataframe thead th {\n",
       "        text-align: right;\n",
       "    }\n",
       "</style>\n",
       "<table border=\"1\" class=\"dataframe\">\n",
       "  <thead>\n",
       "    <tr style=\"text-align: right;\">\n",
       "      <th></th>\n",
       "      <th>age</th>\n",
       "      <th>gender</th>\n",
       "      <th>height_cm</th>\n",
       "      <th>weight_kg</th>\n",
       "      <th>body fat_%</th>\n",
       "      <th>diastolic</th>\n",
       "      <th>systolic</th>\n",
       "      <th>gripForce</th>\n",
       "      <th>sit and bend forward_cm</th>\n",
       "      <th>sit-ups counts</th>\n",
       "      <th>broad jump_cm</th>\n",
       "      <th>class</th>\n",
       "    </tr>\n",
       "  </thead>\n",
       "  <tbody>\n",
       "    <tr>\n",
       "      <th>0</th>\n",
       "      <td>27.0</td>\n",
       "      <td>0</td>\n",
       "      <td>172.3</td>\n",
       "      <td>75.24</td>\n",
       "      <td>21.3</td>\n",
       "      <td>80.0</td>\n",
       "      <td>130.0</td>\n",
       "      <td>54.9</td>\n",
       "      <td>18.4</td>\n",
       "      <td>60.0</td>\n",
       "      <td>217.0</td>\n",
       "      <td>C</td>\n",
       "    </tr>\n",
       "    <tr>\n",
       "      <th>1</th>\n",
       "      <td>25.0</td>\n",
       "      <td>0</td>\n",
       "      <td>165.0</td>\n",
       "      <td>55.80</td>\n",
       "      <td>15.7</td>\n",
       "      <td>77.0</td>\n",
       "      <td>126.0</td>\n",
       "      <td>36.4</td>\n",
       "      <td>16.3</td>\n",
       "      <td>53.0</td>\n",
       "      <td>229.0</td>\n",
       "      <td>A</td>\n",
       "    </tr>\n",
       "    <tr>\n",
       "      <th>2</th>\n",
       "      <td>31.0</td>\n",
       "      <td>0</td>\n",
       "      <td>179.6</td>\n",
       "      <td>78.00</td>\n",
       "      <td>20.1</td>\n",
       "      <td>92.0</td>\n",
       "      <td>152.0</td>\n",
       "      <td>44.8</td>\n",
       "      <td>12.0</td>\n",
       "      <td>49.0</td>\n",
       "      <td>181.0</td>\n",
       "      <td>C</td>\n",
       "    </tr>\n",
       "    <tr>\n",
       "      <th>3</th>\n",
       "      <td>32.0</td>\n",
       "      <td>0</td>\n",
       "      <td>174.5</td>\n",
       "      <td>71.10</td>\n",
       "      <td>18.4</td>\n",
       "      <td>76.0</td>\n",
       "      <td>147.0</td>\n",
       "      <td>41.4</td>\n",
       "      <td>15.2</td>\n",
       "      <td>53.0</td>\n",
       "      <td>219.0</td>\n",
       "      <td>B</td>\n",
       "    </tr>\n",
       "    <tr>\n",
       "      <th>4</th>\n",
       "      <td>28.0</td>\n",
       "      <td>0</td>\n",
       "      <td>173.8</td>\n",
       "      <td>67.70</td>\n",
       "      <td>17.1</td>\n",
       "      <td>70.0</td>\n",
       "      <td>127.0</td>\n",
       "      <td>43.5</td>\n",
       "      <td>27.1</td>\n",
       "      <td>45.0</td>\n",
       "      <td>217.0</td>\n",
       "      <td>B</td>\n",
       "    </tr>\n",
       "  </tbody>\n",
       "</table>\n",
       "</div>"
      ],
      "text/plain": [
       "    age  gender  height_cm  weight_kg  body fat_%  diastolic  systolic  \\\n",
       "0  27.0       0      172.3      75.24        21.3       80.0     130.0   \n",
       "1  25.0       0      165.0      55.80        15.7       77.0     126.0   \n",
       "2  31.0       0      179.6      78.00        20.1       92.0     152.0   \n",
       "3  32.0       0      174.5      71.10        18.4       76.0     147.0   \n",
       "4  28.0       0      173.8      67.70        17.1       70.0     127.0   \n",
       "\n",
       "   gripForce  sit and bend forward_cm  sit-ups counts  broad jump_cm class  \n",
       "0       54.9                     18.4            60.0          217.0     C  \n",
       "1       36.4                     16.3            53.0          229.0     A  \n",
       "2       44.8                     12.0            49.0          181.0     C  \n",
       "3       41.4                     15.2            53.0          219.0     B  \n",
       "4       43.5                     27.1            45.0          217.0     B  "
      ]
     },
     "execution_count": 4,
     "metadata": {},
     "output_type": "execute_result"
    }
   ],
   "source": [
    "# df[\"gender\"].replace({\"M\": 0, \"F\": 1}, inplace = True)\n",
    "# df.head()\n",
    "df.replace({\"M\": 0, \"F\": 1}, inplace = True)\n",
    "df.head()"
   ]
  },
  {
   "cell_type": "code",
   "execution_count": 5,
   "metadata": {},
   "outputs": [
    {
     "name": "stdout",
     "output_type": "stream",
     "text": [
      "{'D': 0, 'C': 1, 'B': 2, 'A': 3}\n"
     ]
    }
   ],
   "source": [
    "classes = list(df[\"class\"].unique())\n",
    "mapping_dict = {ch: i for i, ch in enumerate(sorted(classes, reverse = True))}\n",
    "print(mapping_dict)"
   ]
  },
  {
   "cell_type": "code",
   "execution_count": 6,
   "metadata": {},
   "outputs": [
    {
     "name": "stderr",
     "output_type": "stream",
     "text": [
      "/var/folders/xl/sjrt7p6548j9h6x1rz_px87w0000gn/T/ipykernel_60462/140115674.py:1: FutureWarning: A value is trying to be set on a copy of a DataFrame or Series through chained assignment using an inplace method.\n",
      "The behavior will change in pandas 3.0. This inplace method will never work because the intermediate object on which we are setting values always behaves as a copy.\n",
      "\n",
      "For example, when doing 'df[col].method(value, inplace=True)', try using 'df.method({col: value}, inplace=True)' or df[col] = df[col].method(value) instead, to perform the operation inplace on the original object.\n",
      "\n",
      "\n",
      "  df[\"class\"].replace(mapping_dict, inplace = True)\n",
      "/var/folders/xl/sjrt7p6548j9h6x1rz_px87w0000gn/T/ipykernel_60462/140115674.py:1: FutureWarning: Downcasting behavior in `replace` is deprecated and will be removed in a future version. To retain the old behavior, explicitly call `result.infer_objects(copy=False)`. To opt-in to the future behavior, set `pd.set_option('future.no_silent_downcasting', True)`\n",
      "  df[\"class\"].replace(mapping_dict, inplace = True)\n"
     ]
    },
    {
     "data": {
      "text/html": [
       "<div>\n",
       "<style scoped>\n",
       "    .dataframe tbody tr th:only-of-type {\n",
       "        vertical-align: middle;\n",
       "    }\n",
       "\n",
       "    .dataframe tbody tr th {\n",
       "        vertical-align: top;\n",
       "    }\n",
       "\n",
       "    .dataframe thead th {\n",
       "        text-align: right;\n",
       "    }\n",
       "</style>\n",
       "<table border=\"1\" class=\"dataframe\">\n",
       "  <thead>\n",
       "    <tr style=\"text-align: right;\">\n",
       "      <th></th>\n",
       "      <th>age</th>\n",
       "      <th>gender</th>\n",
       "      <th>height_cm</th>\n",
       "      <th>weight_kg</th>\n",
       "      <th>body fat_%</th>\n",
       "      <th>diastolic</th>\n",
       "      <th>systolic</th>\n",
       "      <th>gripForce</th>\n",
       "      <th>sit and bend forward_cm</th>\n",
       "      <th>sit-ups counts</th>\n",
       "      <th>broad jump_cm</th>\n",
       "      <th>class</th>\n",
       "    </tr>\n",
       "  </thead>\n",
       "  <tbody>\n",
       "    <tr>\n",
       "      <th>0</th>\n",
       "      <td>27.0</td>\n",
       "      <td>0</td>\n",
       "      <td>172.3</td>\n",
       "      <td>75.24</td>\n",
       "      <td>21.3</td>\n",
       "      <td>80.0</td>\n",
       "      <td>130.0</td>\n",
       "      <td>54.9</td>\n",
       "      <td>18.4</td>\n",
       "      <td>60.0</td>\n",
       "      <td>217.0</td>\n",
       "      <td>1</td>\n",
       "    </tr>\n",
       "    <tr>\n",
       "      <th>1</th>\n",
       "      <td>25.0</td>\n",
       "      <td>0</td>\n",
       "      <td>165.0</td>\n",
       "      <td>55.80</td>\n",
       "      <td>15.7</td>\n",
       "      <td>77.0</td>\n",
       "      <td>126.0</td>\n",
       "      <td>36.4</td>\n",
       "      <td>16.3</td>\n",
       "      <td>53.0</td>\n",
       "      <td>229.0</td>\n",
       "      <td>3</td>\n",
       "    </tr>\n",
       "    <tr>\n",
       "      <th>2</th>\n",
       "      <td>31.0</td>\n",
       "      <td>0</td>\n",
       "      <td>179.6</td>\n",
       "      <td>78.00</td>\n",
       "      <td>20.1</td>\n",
       "      <td>92.0</td>\n",
       "      <td>152.0</td>\n",
       "      <td>44.8</td>\n",
       "      <td>12.0</td>\n",
       "      <td>49.0</td>\n",
       "      <td>181.0</td>\n",
       "      <td>1</td>\n",
       "    </tr>\n",
       "    <tr>\n",
       "      <th>3</th>\n",
       "      <td>32.0</td>\n",
       "      <td>0</td>\n",
       "      <td>174.5</td>\n",
       "      <td>71.10</td>\n",
       "      <td>18.4</td>\n",
       "      <td>76.0</td>\n",
       "      <td>147.0</td>\n",
       "      <td>41.4</td>\n",
       "      <td>15.2</td>\n",
       "      <td>53.0</td>\n",
       "      <td>219.0</td>\n",
       "      <td>2</td>\n",
       "    </tr>\n",
       "    <tr>\n",
       "      <th>4</th>\n",
       "      <td>28.0</td>\n",
       "      <td>0</td>\n",
       "      <td>173.8</td>\n",
       "      <td>67.70</td>\n",
       "      <td>17.1</td>\n",
       "      <td>70.0</td>\n",
       "      <td>127.0</td>\n",
       "      <td>43.5</td>\n",
       "      <td>27.1</td>\n",
       "      <td>45.0</td>\n",
       "      <td>217.0</td>\n",
       "      <td>2</td>\n",
       "    </tr>\n",
       "  </tbody>\n",
       "</table>\n",
       "</div>"
      ],
      "text/plain": [
       "    age  gender  height_cm  weight_kg  body fat_%  diastolic  systolic  \\\n",
       "0  27.0       0      172.3      75.24        21.3       80.0     130.0   \n",
       "1  25.0       0      165.0      55.80        15.7       77.0     126.0   \n",
       "2  31.0       0      179.6      78.00        20.1       92.0     152.0   \n",
       "3  32.0       0      174.5      71.10        18.4       76.0     147.0   \n",
       "4  28.0       0      173.8      67.70        17.1       70.0     127.0   \n",
       "\n",
       "   gripForce  sit and bend forward_cm  sit-ups counts  broad jump_cm  class  \n",
       "0       54.9                     18.4            60.0          217.0      1  \n",
       "1       36.4                     16.3            53.0          229.0      3  \n",
       "2       44.8                     12.0            49.0          181.0      1  \n",
       "3       41.4                     15.2            53.0          219.0      2  \n",
       "4       43.5                     27.1            45.0          217.0      2  "
      ]
     },
     "execution_count": 6,
     "metadata": {},
     "output_type": "execute_result"
    }
   ],
   "source": [
    "df[\"class\"].replace(mapping_dict, inplace = True)\n",
    "df.head()"
   ]
  },
  {
   "cell_type": "markdown",
   "metadata": {},
   "source": [
    "In the above step,\n",
    "- All the strings are mapped to the integers in a reversed manner, i.e., `D` is mapped to `0` and `A` is mapped to `3`.\n",
    "- Then all the values in the `class` features are replaced with the mapped values."
   ]
  },
  {
   "cell_type": "markdown",
   "metadata": {},
   "source": [
    "# Correlations"
   ]
  },
  {
   "cell_type": "code",
   "execution_count": 7,
   "metadata": {},
   "outputs": [
    {
     "data": {
      "image/png": "[encoded data removed]",
      "text/plain": [
       "<Figure size 1500x1000 with 2 Axes>"
      ]
     },
     "metadata": {},
     "output_type": "display_data"
    }
   ],
   "source": [
    "plt.figure(figsize = (15, 10))\n",
    "sns.heatmap(df.corr(), annot = True)\n",
    "plt.show()"
   ]
  },
  {
   "cell_type": "markdown",
   "metadata": {},
   "source": [
    "There are no storng correlations between any of the features.\n",
    "\n",
    "A Boxplot can be used to understand the range and distribution of all variables."
   ]
  },
  {
   "cell_type": "code",
   "execution_count": 8,
   "metadata": {},
   "outputs": [
    {
     "data": {
      "text/plain": [
       "<function matplotlib.pyplot.show(close=None, block=None)>"
      ]
     },
     "execution_count": 8,
     "metadata": {},
     "output_type": "execute_result"
    },
    {
     "data": {
      "image/png": "[encoded data removed]",
      "text/plain": [
       "<Figure size 1500x1000 with 1 Axes>"
      ]
     },
     "metadata": {},
     "output_type": "display_data"
    }
   ],
   "source": [
    "plt.figure(figsize = (15, 10))\n",
    "df.boxplot(rot = 0, vert = False)\n",
    "plt.show"
   ]
  },
  {
   "cell_type": "markdown",
   "metadata": {},
   "source": [
    "# Separating The Independent And Dependent Variables"
   ]
  },
  {
   "cell_type": "code",
   "execution_count": 9,
   "metadata": {},
   "outputs": [
    {
     "data": {
      "text/plain": [
       "((13393, 11), (13393,))"
      ]
     },
     "execution_count": 9,
     "metadata": {},
     "output_type": "execute_result"
    }
   ],
   "source": [
    "x = df.drop(columns = [\"class\"])\n",
    "y = df[\"class\"]\n",
    "x.shape, y.shape"
   ]
  },
  {
   "cell_type": "markdown",
   "metadata": {},
   "source": [
    "# Split The Data Into Train, Test And Validation"
   ]
  },
  {
   "cell_type": "code",
   "execution_count": 10,
   "metadata": {},
   "outputs": [
    {
     "data": {
      "text/plain": [
       "((10847, 11), (10847,), (1206, 11), (1206,), (1340, 11), (1340,))"
      ]
     },
     "execution_count": 10,
     "metadata": {},
     "output_type": "execute_result"
    }
   ],
   "source": [
    "from sklearn.model_selection import train_test_split\n",
    "\n",
    "x_train, x_test, y_train, y_test = train_test_split(x, y, test_size = 0.1, random_state = 42)\n",
    "x_train, x_val, y_train, y_val = train_test_split(x_train, y_train, test_size = 0.1, random_state = 42)\n",
    "\n",
    "x_train.shape, y_train.shape, x_val.shape, y_val.shape, x_test.shape, y_test.shape"
   ]
  },
  {
   "cell_type": "markdown",
   "metadata": {},
   "source": [
    "# Scaling The Data Using `StandardScaler`"
   ]
  },
  {
   "cell_type": "code",
   "execution_count": 11,
   "metadata": {},
   "outputs": [],
   "source": [
    "from sklearn.preprocessing import StandardScaler\n",
    "scaler = StandardScaler()\n",
    "\n",
    "x_train = scaler.fit_transform(x_train, y_train)\n",
    "x_val = scaler.fit_transform(x_val)\n",
    "x_test = scaler.fit_transform(x_test)"
   ]
  },
  {
   "cell_type": "code",
   "execution_count": 12,
   "metadata": {},
   "outputs": [
    {
     "data": {
      "image/png": "[encoded data removed]",
      "text/plain": [
       "<Figure size 1500x1000 with 1 Axes>"
      ]
     },
     "metadata": {},
     "output_type": "display_data"
    }
   ],
   "source": [
    "plt.figure(figsize = (15, 10))\n",
    "pd.DataFrame(x_train, columns = df.columns[:-1]).boxplot(rot = 0, vert = False)\n",
    "plt.show()"
   ]
  },
  {
   "cell_type": "markdown",
   "metadata": {},
   "source": [
    "The data is ready for model building."
   ]
  },
  {
   "cell_type": "markdown",
   "metadata": {},
   "source": [
    "# Tensorflow"
   ]
  },
  {
   "cell_type": "code",
   "execution_count": 13,
   "metadata": {},
   "outputs": [
    {
     "data": {
      "text/plain": [
       "'2.18.0'"
      ]
     },
     "execution_count": 13,
     "metadata": {},
     "output_type": "execute_result"
    }
   ],
   "source": [
    "# importing tensorflow\n",
    "import tensorflow as tf\n",
    "\n",
    "# checking the version of tensorflow\n",
    "tf.__version__"
   ]
  },
  {
   "cell_type": "markdown",
   "metadata": {},
   "source": [
    "### What is TensorFlow?\n",
    "TensorFlow (`tensorflow`) is a powerflow open-source library developed by Google for Machine Learning and Artificial Intelligence. It is designed to make it easier to build and train complex Neural Networks\n",
    "\n",
    "Key features:\n",
    "- Data flow graphs: TensorFlow uses a computational graph approach, where nodes represent mathematical operations and edges represent the data (tensors) flowing between them. This allows for efficient execution on various hardware platforms.\n",
    "- Flexible architecture: It can run on a single device (CPU or GPU) or be scaled to distributed systems with multiple GPUs or TPUs.\n",
    "- High-level API (Keras (`keras`)): Keras, integrated into TensorFlow, provides a user-friendly interface for building and training models, making it accessible to both beginners and experienced developers.\n",
    "- Low-level API (TensorFlow Core): For advanced users, TensorFlow Core offers fine-grained controls over the underlying computations, allowing for custom optimizations and experimentation.\n",
    "- Wide range of applications: TensorFlow is used for various tasks, including image recognition, natural language processing, speech recognition and more.\n",
    "\n",
    "TensorFlow modules,\n",
    "- `tf.keras`\n",
    "- `tf.data`"
   ]
  },
  {
   "cell_type": "markdown",
   "metadata": {},
   "source": [
    "# `tf.keras`\n",
    "\n",
    "### What is Keras?\n",
    "Keras is a high-level Neural Network API that runs on top of TensorFlow (and other backends like Theano and CNTK). It is designed to be user-friendly and flexible, making it a popular choice for both beginners and experienced Machine Learning practitioners.\n",
    "\n",
    "Key features,\n",
    "- User-friendly API: Kerasa provides a simple and intuitive API, making it easy to build and train Neural Networks.\n",
    "- Modularity: Keras is built on the principle of modularity, which allows to easily combine different componenta (layers, optimizers, etc) to create complex models.\n",
    "- Flexibility: While it offers a high-level API, Keras also provides access to the underlying TensorFlow backend for more advanced customization.\n",
    "- Rapid prototyping: Keras is designed to enable rapid experimentation and model development.\n",
    "- Cross-platform compatibility: Keras can run on various hardware platforms including CPUs, GPU and TPUs.\n",
    "\n",
    "### How is it different from TensorFlow?\n",
    "While both Keras and TensorFlow are powerful tools for machine learning, they differ in their level of abstraction and complexity.\n",
    "\n",
    "TensorFlow,\n",
    "- Low-level API: It provides a low-level API, giving you fine-grained control over the underlying computations. This allows for highly customized and optimized models.   \n",
    "- Flexibility: You can build complex and custom architectures, but it requires a deeper understanding of machine learning concepts and TensorFlow's framework.   \n",
    "- Scalability: TensorFlow is designed to handle large-scale datasets and complex models, making it suitable for research and production environments.\n",
    "\n",
    "Keras,\n",
    "- High-level API: It offers a simpler and more user-friendly API, making it easier to build and train models quickly.   \n",
    "- Ease of use: Keras abstracts away many of the complexities of deep learning, allowing you to focus on model architecture and training.   \n",
    "- Rapid prototyping: It's ideal for rapid prototyping and experimentation.\n",
    "\n",
    "In essence, Keras is built on top of TensorFlow. It provides a higher-level interface that simplifies the process of building and training neural networks. You can think of Keras as a user-friendly wrapper around TensorFlow.\n",
    "\n",
    "When to use which,\n",
    "- Keras: Ideal for beginners and rapid prototyping.   \n",
    "- TensorFlow: Suitable for advanced users who need more control over the underlying computations and for large-scale, complex models.\n",
    "\n",
    "### Advantages of Keras in TensorFlow\n",
    "- Simplified API: Keras offers a user-friendly API that significantly reduces the complexity of building and training deep learning models. It is designed to be intuitive and easy to learn even for beginners.\n",
    "- Seamless integration: Keras is now directly integrated into TensorFlow 2, eliminating the need for separate installation. This streamlined process makes it even more accessible to developers.\n",
    "- Rapid prototyping: Keras' high-level abstractions enable rapid experimentation and model development, which allows to quickly iterate on ideas and explore different architectures.\n",
    "- Flexibility: While Keras provides a simple interface for common tasks, it also offers flexibility for advanced users who need to customize their models or delve into the underlying TensorFlow operations.\n",
    "- Broad community support: Keras has a large and active community, providing extensive documentation, tutorials and forums for support and knowledge sharing.\n",
    "\n",
    "The following are the various activation functions available inside Keras,"
   ]
  },
  {
   "cell_type": "code",
   "execution_count": 14,
   "metadata": {},
   "outputs": [
    {
     "data": {
      "text/plain": [
       "['DTypePolicy',\n",
       " 'FloatDTypePolicy',\n",
       " 'Function',\n",
       " 'Initializer',\n",
       " 'Input',\n",
       " 'InputSpec',\n",
       " 'KerasTensor',\n",
       " 'Layer',\n",
       " 'Loss',\n",
       " 'Metric',\n",
       " 'Model',\n",
       " 'Operation',\n",
       " 'Optimizer',\n",
       " 'Quantizer',\n",
       " 'Regularizer',\n",
       " 'Sequential',\n",
       " 'StatelessScope',\n",
       " 'SymbolicScope',\n",
       " 'Variable',\n",
       " '__builtins__',\n",
       " '__cached__',\n",
       " '__doc__',\n",
       " '__file__',\n",
       " '__loader__',\n",
       " '__name__',\n",
       " '__package__',\n",
       " '__path__',\n",
       " '__spec__',\n",
       " '__version__',\n",
       " 'activations',\n",
       " 'applications',\n",
       " 'backend',\n",
       " 'callbacks',\n",
       " 'config',\n",
       " 'constraints',\n",
       " 'datasets',\n",
       " 'device',\n",
       " 'distribution',\n",
       " 'dtype_policies',\n",
       " 'export',\n",
       " 'initializers',\n",
       " 'layers',\n",
       " 'legacy',\n",
       " 'losses',\n",
       " 'metrics',\n",
       " 'mixed_precision',\n",
       " 'models',\n",
       " 'name_scope',\n",
       " 'ops',\n",
       " 'optimizers',\n",
       " 'preprocessing',\n",
       " 'quantizers',\n",
       " 'random',\n",
       " 'regularizers',\n",
       " 'tree',\n",
       " 'utils',\n",
       " 'version',\n",
       " 'visualization']"
      ]
     },
     "execution_count": 14,
     "metadata": {},
     "output_type": "execute_result"
    }
   ],
   "source": [
    "dir(tf.keras)"
   ]
  },
  {
   "cell_type": "code",
   "execution_count": 15,
   "metadata": {},
   "outputs": [
    {
     "data": {
      "text/plain": [
       "['__builtins__',\n",
       " '__cached__',\n",
       " '__doc__',\n",
       " '__file__',\n",
       " '__loader__',\n",
       " '__name__',\n",
       " '__package__',\n",
       " '__path__',\n",
       " '__spec__',\n",
       " 'celu',\n",
       " 'deserialize',\n",
       " 'elu',\n",
       " 'exponential',\n",
       " 'gelu',\n",
       " 'get',\n",
       " 'glu',\n",
       " 'hard_shrink',\n",
       " 'hard_sigmoid',\n",
       " 'hard_silu',\n",
       " 'hard_swish',\n",
       " 'hard_tanh',\n",
       " 'leaky_relu',\n",
       " 'linear',\n",
       " 'log_sigmoid',\n",
       " 'log_softmax',\n",
       " 'mish',\n",
       " 'relu',\n",
       " 'relu6',\n",
       " 'selu',\n",
       " 'serialize',\n",
       " 'sigmoid',\n",
       " 'silu',\n",
       " 'soft_shrink',\n",
       " 'softmax',\n",
       " 'softplus',\n",
       " 'softsign',\n",
       " 'squareplus',\n",
       " 'swish',\n",
       " 'tanh',\n",
       " 'tanh_shrink']"
      ]
     },
     "execution_count": 15,
     "metadata": {},
     "output_type": "execute_result"
    }
   ],
   "source": [
    "dir(tf.keras.activations)"
   ]
  },
  {
   "cell_type": "markdown",
   "metadata": {},
   "source": [
    "# `tf.data`"
   ]
  },
  {
   "cell_type": "code",
   "execution_count": 16,
   "metadata": {},
   "outputs": [
    {
     "data": {
      "text/plain": [
       "['AUTOTUNE',\n",
       " 'Dataset',\n",
       " 'DatasetSpec',\n",
       " 'FixedLengthRecordDataset',\n",
       " 'INFINITE_CARDINALITY',\n",
       " 'Iterator',\n",
       " 'IteratorSpec',\n",
       " 'NumpyIterator',\n",
       " 'Options',\n",
       " 'TFRecordDataset',\n",
       " 'TextLineDataset',\n",
       " 'ThreadingOptions',\n",
       " 'UNKNOWN_CARDINALITY',\n",
       " '__builtins__',\n",
       " '__cached__',\n",
       " '__doc__',\n",
       " '__file__',\n",
       " '__loader__',\n",
       " '__name__',\n",
       " '__package__',\n",
       " '__path__',\n",
       " '__spec__',\n",
       " '_sys',\n",
       " 'experimental']"
      ]
     },
     "execution_count": 16,
     "metadata": {},
     "output_type": "execute_result"
    }
   ],
   "source": [
    "dir(tf.data)"
   ]
  },
  {
   "cell_type": "markdown",
   "metadata": {},
   "source": [
    "There are 2 ways using which code can be written in Keras,\n",
    "1. Sequential API.\n",
    "2. Functional API.\n",
    "\n",
    "For the sake of this document, the Seqential API is used."
   ]
  },
  {
   "cell_type": "markdown",
   "metadata": {},
   "source": [
    "# Keras Sequential API\n",
    "The Sequential API in Keras is a straightforward way to define a neural network model by stacking layers sequentially. It's ideal for simple, linear models where the output of one layer feeds directly into the input of the next.\n",
    "\n",
    "### Limitations of Sequential API:\n",
    "While the Sequential API is simple and easy to use, it's not suitable for complex architectures with shared layers, multiple inputs, or multiple outputs. For these cases, you'll need to use the more flexible Functional API.\n",
    "\n",
    "The following is done in the code lines below,\n",
    "- The `Sequential` class from `tnsorflow.keras.models` is imported in which the layers of the Neural Network are sequentially positioned.\n",
    "- The `Dense` layer is also imported from `tensorflow.keras.layers`. A `Dense` layer helps in defining one layer of a feed forward Neural Network. In a `Dense` layer, every neuron is connected to every neuron in the preceding layer, hence the name \"dense.\" This ensures that each neuron considers the input from all previous neurons.\n",
    "\n",
    "<img src = \"../artifacts/neural_networks_57.png\" alt = \"drawing\" width = \"500\">"
   ]
  },
  {
   "cell_type": "code",
   "execution_count": 17,
   "metadata": {},
   "outputs": [],
   "source": [
    "from tensorflow.keras.models import Sequential\n",
    "from tensorflow.keras.layers import Dense"
   ]
  },
  {
   "cell_type": "markdown",
   "metadata": {},
   "source": [
    "The following is done in the code lines below,\n",
    "- An instance (object) of the `Sequential` class is created with the name `model`.\n",
    "- It is same as creating an instance as was done in `sklearn`, just that, in this case, the model is defined as well.\n",
    "- `Sequential` model will take a list of layers as arguments."
   ]
  },
  {
   "cell_type": "code",
   "execution_count": 18,
   "metadata": {},
   "outputs": [],
   "source": [
    "# defining a feed forward network with a single hidden layer\n",
    "model = Sequential(\n",
    "    [\n",
    "        Dense(64, activation = \"relu\"), # hidden dense layer with 64 neuron units\n",
    "        Dense(4, activation = \"softmax\") # output layer wit 4 units and softmax activation\n",
    "    ]\n",
    ")\n",
    "# the activation argument is optional, if it is not passed, then there will linear or no activation"
   ]
  },
  {
   "cell_type": "markdown",
   "metadata": {},
   "source": [
    "### Why is activation function needed?\n",
    "It provides non-linearity to problems.\n",
    "\n",
    "### In what case, an activation function will not be passed?\n",
    "Output layer of regression model.\n",
    "\n",
    "### How to find if there is a method to check the weights of a model?\n",
    "`dir(model)`"
   ]
  },
  {
   "cell_type": "code",
   "execution_count": 19,
   "metadata": {},
   "outputs": [
    {
     "data": {
      "text/plain": [
       "['__call__',\n",
       " '__class__',\n",
       " '__delattr__',\n",
       " '__dict__',\n",
       " '__dir__',\n",
       " '__doc__',\n",
       " '__eq__',\n",
       " '__format__',\n",
       " '__ge__',\n",
       " '__getattribute__',\n",
       " '__getstate__',\n",
       " '__gt__',\n",
       " '__hash__',\n",
       " '__init__',\n",
       " '__init_subclass__',\n",
       " '__le__',\n",
       " '__lt__',\n",
       " '__module__',\n",
       " '__ne__',\n",
       " '__new__',\n",
       " '__reduce__',\n",
       " '__reduce_ex__',\n",
       " '__repr__',\n",
       " '__setattr__',\n",
       " '__sizeof__',\n",
       " '__str__',\n",
       " '__subclasshook__',\n",
       " '__weakref__',\n",
       " '_add_trackable_child',\n",
       " '_add_variable_with_custom_getter',\n",
       " '_allow_non_tensor_positional_args',\n",
       " '_api_export_path',\n",
       " '_api_export_symbol_id',\n",
       " '_assert_compile_called',\n",
       " '_assert_input_compatibility',\n",
       " '_assign_variable_values',\n",
       " '_auto_config',\n",
       " '_build_by_run_for_kwargs',\n",
       " '_build_by_run_for_single_pos_arg',\n",
       " '_build_shapes_dict',\n",
       " '_call_has_mask_arg',\n",
       " '_call_has_training_arg',\n",
       " '_call_signature',\n",
       " '_called',\n",
       " '_check_quantize_args',\n",
       " '_check_super_called',\n",
       " '_checkpoint_adapter',\n",
       " '_checkpoint_dependencies',\n",
       " '_clear_losses',\n",
       " '_clear_previous_trainer_metrics',\n",
       " '_compile_loss',\n",
       " '_compile_metrics',\n",
       " '_compiled_metrics_update_state',\n",
       " '_compute_loss',\n",
       " '_compute_loss_has_training_arg',\n",
       " '_convert_input_args',\n",
       " '_copy_trackable_to_cpu',\n",
       " '_create_nested_dict',\n",
       " '_default_save_signature',\n",
       " '_deferred_dependencies',\n",
       " '_delete_tracking',\n",
       " '_deserialization_dependencies',\n",
       " '_deserialize_from_proto',\n",
       " '_distribute_strategy',\n",
       " '_dtype_policy',\n",
       " '_export_to_saved_model_graph',\n",
       " '_flatten_layers',\n",
       " '_flatten_metrics_in_order',\n",
       " '_flatten_nested_dict',\n",
       " '_float8_call',\n",
       " '_functional',\n",
       " '_gather_saveables_for_checkpoint',\n",
       " '_get_call_context',\n",
       " '_get_metrics_result_or_logs',\n",
       " '_get_node_attribute_at_index',\n",
       " '_get_own_losses',\n",
       " '_get_own_metrics',\n",
       " '_get_regularization_losses',\n",
       " '_get_variable_map',\n",
       " '_handle_deferred_dependencies',\n",
       " '_inbound_nodes',\n",
       " '_initial_epoch',\n",
       " '_initialize_tracker',\n",
       " '_input_spec',\n",
       " '_int8_call',\n",
       " '_is_layer_name_unique',\n",
       " '_jit_compile',\n",
       " '_layers',\n",
       " '_lock',\n",
       " '_lock_state',\n",
       " '_lookup_dependency',\n",
       " '_loss_ids',\n",
       " '_loss_tracker',\n",
       " '_losses',\n",
       " '_losses_override',\n",
       " '_make_function',\n",
       " '_maybe_build',\n",
       " '_maybe_initialize_trackable',\n",
       " '_maybe_rebuild',\n",
       " '_maybe_reset_call_context',\n",
       " '_maybe_symbolic_build',\n",
       " '_metrics',\n",
       " '_name_based_attribute_restore',\n",
       " '_name_based_restores',\n",
       " '_no_dependency',\n",
       " '_non_trainable_variables',\n",
       " '_not_implemented_error',\n",
       " '_obj_type',\n",
       " '_object_identifier',\n",
       " '_open_name_scope',\n",
       " '_outbound_nodes',\n",
       " '_parent_path',\n",
       " '_path',\n",
       " '_post_build',\n",
       " '_post_track_variable',\n",
       " '_post_untrack_variable',\n",
       " '_preload_simple_restoration',\n",
       " '_quantization_mode_error',\n",
       " '_resolve_auto_jit_compile',\n",
       " '_restore_from_tensors',\n",
       " '_run_eagerly',\n",
       " '_saved_model_arg_spec',\n",
       " '_saved_model_inputs_spec',\n",
       " '_seed_generators',\n",
       " '_self_setattr_tracking',\n",
       " '_serialize_to_proto',\n",
       " '_serialize_to_tensors',\n",
       " '_set_mask_metadata',\n",
       " '_set_save_spec',\n",
       " '_setattr_hook',\n",
       " '_setattr_tracking',\n",
       " '_should_eval',\n",
       " '_supports_masking',\n",
       " '_symbolic_build',\n",
       " '_tf_api_names',\n",
       " '_tf_api_names_v1',\n",
       " '_track_trackable',\n",
       " '_track_variable',\n",
       " '_trackable_children',\n",
       " '_tracked',\n",
       " '_tracker',\n",
       " '_trainable',\n",
       " '_trainable_variables',\n",
       " '_unconditional_checkpoint_dependencies',\n",
       " '_unconditional_dependency_names',\n",
       " '_unpickle_model',\n",
       " '_untrack_variable',\n",
       " '_update_uid',\n",
       " 'activity_regularizer',\n",
       " 'add',\n",
       " 'add_loss',\n",
       " 'add_metric',\n",
       " 'add_variable',\n",
       " 'add_weight',\n",
       " 'autocast',\n",
       " 'build',\n",
       " 'build_from_config',\n",
       " 'built',\n",
       " 'call',\n",
       " 'compile',\n",
       " 'compile_from_config',\n",
       " 'compiled',\n",
       " 'compiled_loss',\n",
       " 'compiled_metrics',\n",
       " 'compute_dtype',\n",
       " 'compute_loss',\n",
       " 'compute_mask',\n",
       " 'compute_metrics',\n",
       " 'compute_output_shape',\n",
       " 'compute_output_spec',\n",
       " 'count_params',\n",
       " 'distribute_reduction_method',\n",
       " 'distribute_strategy',\n",
       " 'dtype',\n",
       " 'dtype_policy',\n",
       " 'evaluate',\n",
       " 'export',\n",
       " 'fit',\n",
       " 'from_config',\n",
       " 'get_build_config',\n",
       " 'get_compile_config',\n",
       " 'get_config',\n",
       " 'get_layer',\n",
       " 'get_metrics_result',\n",
       " 'get_state_tree',\n",
       " 'get_weights',\n",
       " 'input',\n",
       " 'input_dtype',\n",
       " 'input_shape',\n",
       " 'input_spec',\n",
       " 'inputs',\n",
       " 'jit_compile',\n",
       " 'layers',\n",
       " 'load_own_variables',\n",
       " 'load_weights',\n",
       " 'loss',\n",
       " 'losses',\n",
       " 'make_predict_function',\n",
       " 'make_test_function',\n",
       " 'make_train_function',\n",
       " 'metrics',\n",
       " 'metrics_names',\n",
       " 'metrics_variables',\n",
       " 'name',\n",
       " 'non_trainable_variables',\n",
       " 'non_trainable_weights',\n",
       " 'output',\n",
       " 'output_shape',\n",
       " 'outputs',\n",
       " 'path',\n",
       " 'pop',\n",
       " 'predict',\n",
       " 'predict_function',\n",
       " 'predict_on_batch',\n",
       " 'predict_step',\n",
       " 'quantization_mode',\n",
       " 'quantize',\n",
       " 'quantized_build',\n",
       " 'quantized_call',\n",
       " 'reset_metrics',\n",
       " 'run_eagerly',\n",
       " 'save',\n",
       " 'save_own_variables',\n",
       " 'save_weights',\n",
       " 'set_state_tree',\n",
       " 'set_weights',\n",
       " 'stateless_call',\n",
       " 'stateless_compute_loss',\n",
       " 'steps_per_execution',\n",
       " 'summary',\n",
       " 'supports_jit',\n",
       " 'supports_masking',\n",
       " 'symbolic_call',\n",
       " 'test_function',\n",
       " 'test_on_batch',\n",
       " 'test_step',\n",
       " 'to_json',\n",
       " 'train_function',\n",
       " 'train_on_batch',\n",
       " 'train_step',\n",
       " 'trainable',\n",
       " 'trainable_variables',\n",
       " 'trainable_weights',\n",
       " 'unrolled_steps_per_execution',\n",
       " 'variable_dtype',\n",
       " 'variables',\n",
       " 'weights']"
      ]
     },
     "execution_count": 19,
     "metadata": {},
     "output_type": "execute_result"
    }
   ],
   "source": [
    "dir(model)"
   ]
  },
  {
   "cell_type": "markdown",
   "metadata": {},
   "source": [
    "### Checking the model weights"
   ]
  },
  {
   "cell_type": "code",
   "execution_count": 20,
   "metadata": {},
   "outputs": [
    {
     "data": {
      "text/plain": [
       "[]"
      ]
     },
     "execution_count": 20,
     "metadata": {},
     "output_type": "execute_result"
    }
   ],
   "source": [
    "model.weights"
   ]
  },
  {
   "cell_type": "markdown",
   "metadata": {},
   "source": [
    "The above output means that the model has not created weights yet."
   ]
  },
  {
   "cell_type": "markdown",
   "metadata": {},
   "source": [
    "### Input shape\n",
    "- Since the model does not know about the input size yet, tensorflow does not have any information to create weights and biase yet.\n",
    "- the input size can be passed as an argument in the first layer."
   ]
  },
  {
   "cell_type": "code",
   "execution_count": 21,
   "metadata": {},
   "outputs": [
    {
     "name": "stderr",
     "output_type": "stream",
     "text": [
      "/Library/Frameworks/Python.framework/Versions/3.11/lib/python3.11/site-packages/keras/src/layers/core/dense.py:87: UserWarning: Do not pass an `input_shape`/`input_dim` argument to a layer. When using Sequential models, prefer using an `Input(shape)` object as the first layer in the model instead.\n",
      "  super().__init__(activity_regularizer=activity_regularizer, **kwargs)\n"
     ]
    }
   ],
   "source": [
    "model = Sequential(\n",
    "    [\n",
    "        Dense(64, activation = \"relu\", input_shape = (11, )),\n",
    "        Dense(4, activation = \"softmax\")\n",
    "    ]\n",
    ")"
   ]
  },
  {
   "cell_type": "markdown",
   "metadata": {},
   "source": [
    "In the above code,\n",
    "- 1 training example will be a 11 dimensional feature vector `(11, )`.\n",
    "- For each of the feature vector from the input, there will be an output of 64-dimensional feature vector `(64, )`.\n",
    "- In case of a `Dense` layer, $y = x * w + b$, where $x$ has all the features as columns.\n",
    "- The output of the first layer will have the dimensions `(m, 64)`, where `m` is the number of input data samples.\n",
    "\n",
    "### Why were weights not defined in second `Dense` layer?\n",
    "The layers in the sequential model interact with each other. Therefore, there is no need to define the input shape for all the layers."
   ]
  },
  {
   "cell_type": "code",
   "execution_count": 22,
   "metadata": {},
   "outputs": [
    {
     "name": "stdout",
     "output_type": "stream",
     "text": [
      "[<Variable path=sequential_1/dense_2/kernel, shape=(11, 64), dtype=float32, value=[[ 1.98640138e-01 -2.29386091e-02 -1.57164052e-01  1.85851902e-01\n",
      "  -2.45202422e-01 -2.43733481e-01  2.32844263e-01  7.51976073e-02\n",
      "   1.82457894e-01  1.50563121e-01 -1.91672444e-02  1.12999767e-01\n",
      "  -2.47269362e-01 -2.06047386e-01 -1.99428514e-01 -2.41689727e-01\n",
      "  -1.29170582e-01 -2.34893769e-01  6.47950172e-02  1.13896638e-01\n",
      "   9.29969251e-02 -4.07867581e-02 -2.07795918e-01 -9.41837132e-02\n",
      "  -1.61086470e-01 -6.19026572e-02 -2.59730607e-01 -7.31496662e-02\n",
      "   1.16603196e-01  1.92383796e-01 -3.52189839e-02  1.05383515e-01\n",
      "   5.76543212e-02 -1.76628828e-01  1.56173229e-01 -1.67264327e-01\n",
      "   1.91375643e-01 -2.01762378e-01  2.78894275e-01 -4.44889963e-02\n",
      "   1.25081062e-01  1.73311949e-01  3.55210900e-02 -2.49291748e-01\n",
      "  -1.96714729e-01 -9.32777971e-02  1.93622023e-01 -1.97644383e-01\n",
      "  -1.56170800e-01  5.70704043e-02  1.60045832e-01 -1.63295567e-01\n",
      "   1.78589493e-01  2.68093735e-01  2.28530854e-01  1.54948831e-01\n",
      "   8.82237554e-02  1.76407903e-01 -1.22649699e-01 -2.05568880e-01\n",
      "  -2.40390196e-01 -1.22727856e-01 -3.43922973e-02  2.57423967e-01]\n",
      " [ 1.17161632e-01 -2.58287102e-01 -2.79261321e-01  2.33023256e-01\n",
      "  -1.24821305e-01  4.86719608e-03  5.33200204e-02  1.63828433e-02\n",
      "   2.52880603e-01 -3.44264209e-02 -8.03337842e-02  1.69895440e-01\n",
      "   2.14425027e-01 -8.95536244e-02 -1.34500176e-01  3.24246287e-03\n",
      "  -3.68717462e-02  7.53369927e-02 -1.94442987e-01  1.39796793e-01\n",
      "  -8.58020782e-03 -4.53021973e-02 -3.22383642e-02 -4.56206203e-02\n",
      "   1.42378807e-02  2.03110129e-01 -2.14568615e-01 -2.76018381e-01\n",
      "  -2.79318631e-01  6.07192516e-02 -2.40684345e-01  1.03143334e-01\n",
      "  -1.18680894e-02  5.02445698e-02  2.42158324e-01  1.45985752e-01\n",
      "  -3.80308926e-02  1.51053101e-01  5.30459583e-02 -5.50456047e-02\n",
      "  -3.24841738e-02  2.32327133e-01 -2.02899992e-01  1.80396885e-01\n",
      "  -1.92482233e-01 -2.64675617e-01 -1.50888145e-01 -2.28039682e-01\n",
      "   7.75564015e-02  1.09280229e-01 -2.36862868e-01  1.39089525e-01\n",
      "   1.13887131e-01 -2.63481736e-01 -2.78018504e-01  5.15354276e-02\n",
      "   2.80363411e-01  2.48388648e-02  2.19742090e-01 -2.56470263e-01\n",
      "  -1.43108994e-01  2.68692583e-01 -3.86445522e-02 -2.34661058e-01]\n",
      " [ 1.34576976e-01  2.20983177e-01 -1.06089219e-01  6.48697317e-02\n",
      "  -1.83535516e-01 -2.42580622e-01  2.13421941e-01 -1.90867096e-01\n",
      "   4.46834266e-02 -2.67255187e-01 -1.02878839e-01 -2.35371351e-01\n",
      "   7.42053986e-03  5.71777523e-02 -7.39902407e-02  1.71827674e-02\n",
      "   2.58614630e-01 -1.90256625e-01  1.83823466e-01  2.03468949e-01\n",
      "   2.63272613e-01 -4.17669266e-02 -2.24598810e-01 -2.35906035e-01\n",
      "  -1.27827078e-01 -1.06076613e-01 -1.50168821e-01 -1.84379667e-01\n",
      "   1.26319379e-01 -9.62355584e-02 -2.17041582e-01  2.37167150e-01\n",
      "  -2.76356757e-01 -1.79705337e-01 -2.74192989e-01  1.78130865e-02\n",
      "   2.24507481e-01  2.38806337e-01  1.24412298e-01 -2.53911436e-01\n",
      "   1.56205744e-01  2.10201651e-01 -1.13164097e-01  1.27823651e-02\n",
      "  -6.38086498e-02 -5.92692643e-02  1.05857253e-01  2.02300578e-01\n",
      "  -1.20487183e-01  1.29950643e-02  2.12366790e-01  1.07349038e-01\n",
      "  -2.20625609e-01 -2.81561404e-01  8.19224119e-02  1.83847994e-01\n",
      "  -1.78239495e-01 -2.05562860e-01 -2.35347480e-01  2.12415606e-01\n",
      "   2.45106190e-01 -2.38439977e-01  2.20358461e-01  1.28507495e-01]\n",
      " [ 9.20680761e-02 -2.08194718e-01 -1.06731206e-01 -2.48126671e-01\n",
      "  -9.90275592e-02  1.29495293e-01 -1.13531545e-01  1.44606262e-01\n",
      "  -9.75798070e-02 -2.44710416e-01  4.61339951e-05  2.65587598e-01\n",
      "   3.17278206e-02  6.58784807e-02  1.33630276e-01 -1.06732354e-01\n",
      "   1.48193926e-01  2.62228400e-01 -3.51619720e-03 -1.56641304e-01\n",
      "  -2.67179906e-02 -3.02519202e-02 -1.74861491e-01 -1.02248058e-01\n",
      "   2.72676021e-01  5.88128567e-02 -8.54396969e-02 -1.98472485e-01\n",
      "   2.60134965e-01  1.45391464e-01 -6.16716295e-02  2.76668221e-01\n",
      "  -8.97739381e-02 -2.79243797e-01  7.94889033e-02  7.08838403e-02\n",
      "   2.46623486e-01  1.94630057e-01  2.60047823e-01 -4.07984853e-02\n",
      "  -1.96533799e-01 -6.40259832e-02 -3.96522284e-02  2.09328830e-02\n",
      "   1.32200241e-01  1.23269230e-01 -2.20977008e-01  1.14888340e-01\n",
      "  -4.52306569e-02  4.59362864e-02  6.50093257e-02  4.02244925e-02\n",
      "   1.11918151e-01 -1.81853622e-01  5.76882362e-02  1.10672176e-01\n",
      "   7.42144585e-02  2.42055207e-01  1.00315899e-01 -7.93084353e-02\n",
      "  -2.67899275e-01 -1.35928184e-01  2.44140178e-01 -8.06431770e-02]\n",
      " [-8.63147229e-02  8.02355409e-02  1.26390725e-01  1.11746192e-01\n",
      "  -3.37150544e-02 -1.90242454e-01 -1.48681417e-01  7.35155046e-02\n",
      "  -1.02963209e-01  1.33323908e-01  1.23604298e-01  1.43673092e-01\n",
      "  -5.13440967e-02 -1.85791209e-01 -2.54497528e-01  1.49749309e-01\n",
      "   4.66811061e-02 -2.78518379e-01 -1.55361116e-01  2.38239855e-01\n",
      "   1.03558332e-01  2.40754455e-01  1.23886585e-01 -2.60606110e-01\n",
      "  -2.06504732e-01 -6.33606017e-02 -1.21782556e-01  3.93629968e-02\n",
      "   1.87054545e-01 -1.61195725e-01 -6.68887347e-02 -1.33074403e-01\n",
      "  -1.45006776e-02 -3.69317681e-02 -1.54967159e-01 -2.83353031e-02\n",
      "   2.11777866e-01  4.97162342e-02  5.50233424e-02  5.98467886e-02\n",
      "   5.46540022e-02 -1.56584188e-01 -8.02651048e-03  1.95654511e-01\n",
      "   2.46961713e-02 -5.20184487e-02 -2.22783536e-01  1.18257999e-02\n",
      "   1.40763402e-01 -1.52930424e-01  2.67879933e-01  7.90312886e-02\n",
      "   4.36945558e-02  5.15138507e-02  2.81207412e-01  2.44835049e-01\n",
      "  -4.78827357e-02 -2.57726252e-01  2.25798488e-02 -1.83089629e-01\n",
      "  -1.27318278e-01 -5.46308756e-02 -2.41642460e-01  2.55768448e-01]\n",
      " [ 8.13827217e-02  1.45665705e-02  1.70289397e-01 -1.09125540e-01\n",
      "  -2.46424198e-01 -1.74597070e-01  2.06630826e-01 -6.12896681e-03\n",
      "   1.56474590e-01  2.07274258e-02  2.52179712e-01 -7.69906938e-02\n",
      "  -1.91819489e-01 -1.66606769e-01  5.61188459e-02  2.47087270e-01\n",
      "  -1.90601617e-01  1.78487539e-01  9.97923315e-02 -1.76164120e-01\n",
      "   1.82910979e-01 -7.13107884e-02 -1.82610631e-01 -1.00381523e-01\n",
      "  -2.57746458e-01 -1.65428758e-01 -6.72429055e-02  8.46277773e-02\n",
      "  -2.45076120e-02 -1.29976228e-01 -1.66537464e-02  1.46796405e-01\n",
      "   2.41409808e-01  3.67912948e-02 -2.80277222e-01 -2.83905864e-02\n",
      "  -2.01961428e-01 -1.84074640e-01 -1.55662552e-01 -2.72736311e-01\n",
      "   1.04221940e-01 -1.35779485e-01  2.33937114e-01 -9.61215943e-02\n",
      "   4.05830443e-02 -8.34051818e-02 -1.51985884e-03  1.20101601e-01\n",
      "  -2.12806463e-01 -1.21425420e-01  1.41909420e-02 -1.11625493e-01\n",
      "   1.65089279e-01  1.67156428e-01  2.85605192e-02 -9.43971425e-02\n",
      "   5.66106439e-02 -8.15093815e-02 -1.23865068e-01 -4.94667143e-02\n",
      "   3.21584642e-02 -2.01460600e-01  5.67403734e-02  2.18256682e-01]\n",
      " [-2.53278971e-01 -1.60353526e-01 -1.26931950e-01  9.77102816e-02\n",
      "   1.36562586e-02  2.53675908e-01 -7.33435154e-03  1.83710456e-02\n",
      "   2.34179527e-01 -9.48527306e-02  1.61328763e-01  1.41076446e-01\n",
      "   2.88617015e-02  1.72718346e-01  2.30365604e-01 -2.67089248e-01\n",
      "   7.42966831e-02 -1.53976545e-01 -2.06804335e-01  1.35834247e-01\n",
      "   1.14246964e-01  3.35582793e-02  4.80979979e-02  7.10277557e-02\n",
      "   6.11083508e-02 -7.31525719e-02  1.21416301e-01 -1.55157149e-02\n",
      "   7.63924122e-02 -1.23081282e-01  1.15159005e-01  2.47754782e-01\n",
      "  -1.43199414e-01 -1.46937609e-01 -2.21025437e-01  2.40454078e-02\n",
      "   1.90291405e-01  4.39269245e-02 -1.95478857e-01  2.52473205e-01\n",
      "  -1.71533167e-01 -1.37874350e-01 -6.17760867e-02  2.50526965e-02\n",
      "  -9.74849164e-02 -1.63421422e-01  1.85519636e-01 -9.11802053e-04\n",
      "  -2.59725958e-01  2.15757221e-01 -1.28997952e-01 -2.32583314e-01\n",
      "  -1.14409685e-01 -6.62387311e-02 -2.46260464e-02 -2.24433333e-01\n",
      "  -1.16853997e-01 -1.86748922e-01  1.04161650e-01  6.66600764e-02\n",
      "  -1.73224971e-01 -1.94039792e-01  2.79855341e-01  1.89556032e-01]\n",
      " [ 2.25816876e-01  8.28552544e-02  1.42097950e-01 -4.41094041e-02\n",
      "  -3.50938886e-02  1.88273430e-01 -1.61665410e-01 -1.02618888e-01\n",
      "   8.27818215e-02 -1.62888616e-01 -2.59212703e-01  2.36351460e-01\n",
      "  -1.76123738e-01 -2.00497285e-01 -1.39473572e-01  1.57556653e-01\n",
      "  -2.02696547e-01  2.47364789e-01 -1.97204918e-01 -4.74053621e-03\n",
      "   1.23270631e-01 -1.31720781e-01 -2.25226223e-01  8.25313628e-02\n",
      "   2.21326381e-01 -9.93364900e-02 -2.57761478e-02 -2.55416930e-01\n",
      "  -7.36957639e-02  5.33282757e-04  2.39001721e-01 -1.30291358e-01\n",
      "   1.56471282e-01 -2.37845197e-01 -9.51474309e-02  1.39678568e-01\n",
      "   2.80336827e-01  9.26699340e-02 -1.58705756e-01  2.36645252e-01\n",
      "   9.28997397e-02  2.76571184e-01 -2.16541559e-01 -2.68766761e-01\n",
      "   6.09783232e-02  4.34470773e-02 -2.54860997e-01 -8.25818628e-02\n",
      "  -1.33404359e-01  2.55220503e-01 -1.89562917e-01 -1.02768719e-01\n",
      "  -1.98718429e-01 -1.38850465e-01  1.47986352e-01  8.81948173e-02\n",
      "   1.60499990e-01  8.33532512e-02 -1.09839082e-01  2.41791278e-01\n",
      "   2.28555530e-01  1.61808848e-01 -1.46553233e-01 -2.05415934e-01]\n",
      " [ 2.00148225e-02 -2.19455272e-01 -1.84633017e-01  8.81608129e-02\n",
      "   7.85503387e-02 -4.70667034e-02  8.66444707e-02 -3.16085219e-02\n",
      "   1.04674488e-01 -8.05240870e-02  2.63381988e-01 -9.31800753e-02\n",
      "  -1.78525418e-01 -1.20565683e-01 -2.44191706e-01 -8.09085369e-02\n",
      "   2.08198637e-01  1.20154738e-01  1.93338603e-01 -2.63310522e-01\n",
      "   2.01645702e-01 -1.58604860e-01 -1.88787341e-01  1.69685096e-01\n",
      "   9.69043672e-02  8.86177719e-02  6.06866777e-02  1.66461378e-01\n",
      "   1.09439731e-01  1.73344195e-01  1.20271742e-01  3.65926325e-02\n",
      "  -2.58352757e-02 -3.16262543e-02 -1.59014195e-01  6.32063150e-02\n",
      "  -1.59372002e-01  1.51936442e-01  2.72974074e-02 -9.91094261e-02\n",
      "  -6.07029945e-02  1.18378639e-01  2.60905594e-01 -2.68239975e-02\n",
      "   1.72761768e-01 -9.84890908e-02  1.56000197e-01 -6.31769896e-02\n",
      "  -1.81869805e-01  1.93142295e-01  2.31052607e-01  1.62416428e-01\n",
      "   6.24384880e-02 -1.29316717e-01  2.21579075e-02 -2.70513803e-01\n",
      "  -1.73773348e-01 -2.57939726e-01 -2.62574881e-01 -7.54678249e-03\n",
      "   4.48097885e-02 -1.57547221e-01  1.34099334e-01 -2.74166346e-01]\n",
      " [ 1.04886591e-01 -2.54585147e-02 -1.77330822e-01 -2.60157675e-01\n",
      "   7.42028654e-02  3.37163210e-02  2.70290077e-02  6.49484992e-03\n",
      "   8.38899612e-02 -8.52070451e-02  2.42711455e-01 -1.86721534e-01\n",
      "  -2.35439926e-01  6.63860142e-02  2.26836771e-01  1.31901085e-01\n",
      "  -1.67353481e-01 -1.81709528e-02  2.04894513e-01 -1.08368054e-01\n",
      "  -8.90671462e-02 -4.08947170e-02 -2.47463852e-01 -9.80023444e-02\n",
      "   2.32819289e-01 -1.41690090e-01  9.99973416e-02  1.08668864e-01\n",
      "  -2.49660134e-01  8.43034685e-02  5.23638725e-03  2.73210377e-01\n",
      "  -8.33600610e-02 -1.45562947e-01 -1.00700423e-01  2.20196635e-01\n",
      "   8.46888125e-02 -4.15420979e-02  5.96988201e-03 -9.87042785e-02\n",
      "   2.75857717e-01 -6.05102032e-02 -6.79127425e-02 -1.87283278e-01\n",
      "  -1.66845024e-01  1.18914843e-02  1.12268567e-01 -5.31849414e-02\n",
      "  -3.72859389e-02 -2.16451928e-01 -1.88856930e-01  1.81432277e-01\n",
      "   4.89240587e-02 -8.69117975e-02  1.43971890e-01  1.16035938e-01\n",
      "  -9.00849700e-03 -1.90843910e-01  2.55583912e-01 -1.14470720e-03\n",
      "   1.84570104e-01  1.85749263e-01  6.52862787e-02  9.55078602e-02]\n",
      " [-1.98643431e-01 -1.37336969e-01 -9.88697708e-02 -1.75509661e-01\n",
      "  -1.65046260e-01 -6.11397773e-02 -2.28042006e-02  3.09243798e-02\n",
      "   7.42904544e-02 -9.85039324e-02 -2.32833162e-01 -1.68189600e-01\n",
      "   1.26778454e-01 -2.51600653e-01  2.59305567e-01  1.64972544e-01\n",
      "   2.55540699e-01  6.13317490e-02  2.72954404e-02  7.16260970e-02\n",
      "   1.28141046e-01  2.58312196e-01  2.74813026e-01 -1.31089047e-01\n",
      "  -1.07673407e-01  1.01086617e-01  1.30856931e-02 -2.41455868e-01\n",
      "  -2.26481661e-01 -1.77473709e-01 -9.60181504e-02  2.12487012e-01\n",
      "  -2.49623358e-02  8.55821073e-02 -8.01265240e-04 -1.63395107e-01\n",
      "  -4.83523458e-02  2.23885089e-01  2.69004196e-01  4.59280610e-02\n",
      "  -2.90642679e-02  2.31770843e-01  2.24887818e-01 -1.45948410e-01\n",
      "  -5.04940748e-03  2.02681571e-01 -2.34049559e-01  2.42750674e-01\n",
      "   2.80508727e-01 -4.43991721e-02 -1.76054537e-02 -1.72460660e-01\n",
      "   2.11384177e-01  2.68965691e-01  1.70604646e-01  1.64413929e-01\n",
      "  -7.70059228e-03  2.62588650e-01  2.39091218e-02 -2.71786213e-01\n",
      "   1.63523048e-01  2.35086232e-01 -1.34724975e-02 -4.57662940e-02]]>, <Variable path=sequential_1/dense_2/bias, shape=(64,), dtype=float32, value=[0. 0. 0. 0. 0. 0. 0. 0. 0. 0. 0. 0. 0. 0. 0. 0. 0. 0. 0. 0. 0. 0. 0. 0.\n",
      " 0. 0. 0. 0. 0. 0. 0. 0. 0. 0. 0. 0. 0. 0. 0. 0. 0. 0. 0. 0. 0. 0. 0. 0.\n",
      " 0. 0. 0. 0. 0. 0. 0. 0. 0. 0. 0. 0. 0. 0. 0. 0.]>, <Variable path=sequential_1/dense_3/kernel, shape=(64, 4), dtype=float32, value=[[ 0.08036733  0.19813102 -0.24650912 -0.0011225 ]\n",
      " [ 0.19822755 -0.27384663 -0.17670119  0.06341478]\n",
      " [ 0.09987435  0.00169742 -0.17719263 -0.26327625]\n",
      " [ 0.2356059   0.273925    0.16863245  0.28646952]\n",
      " [-0.1777694   0.16960713 -0.08044125 -0.17908354]\n",
      " [ 0.18549559  0.1077041   0.21651334 -0.1646569 ]\n",
      " [-0.01278281 -0.13705815  0.02557179  0.05280781]\n",
      " [-0.28550756  0.07384279  0.10940084  0.24783385]\n",
      " [ 0.06592736 -0.20129828  0.24534386  0.20080984]\n",
      " [ 0.00632134 -0.20164543  0.09787282  0.04157886]\n",
      " [ 0.08141497  0.27362418 -0.13112414  0.21249026]\n",
      " [-0.21577789  0.11175895  0.00485858 -0.10052237]\n",
      " [ 0.2427088  -0.03696311 -0.2891105  -0.01802307]\n",
      " [ 0.19085023 -0.05511706  0.0337528   0.2280103 ]\n",
      " [ 0.05176142 -0.19545732  0.0358333   0.17530227]\n",
      " [-0.11947651  0.29047793 -0.23646978 -0.07955791]\n",
      " [-0.14416091 -0.01692796 -0.14281581  0.20162588]\n",
      " [-0.1529437  -0.04783157 -0.2770027  -0.13110353]\n",
      " [ 0.20354521  0.05338833  0.2511409   0.10016301]\n",
      " [ 0.05824742  0.1611073  -0.02909696  0.05996233]\n",
      " [-0.2554958   0.1100781  -0.27763072  0.02401239]\n",
      " [ 0.26285946 -0.1393907   0.02465791  0.2550677 ]\n",
      " [-0.2667496   0.08658525 -0.2284818   0.14219683]\n",
      " [ 0.09050921 -0.0571336  -0.21767901 -0.14869438]\n",
      " [ 0.06102571 -0.06308745 -0.00681666  0.25908387]\n",
      " [ 0.14122906 -0.2733967  -0.21147192  0.06367767]\n",
      " [ 0.2795387   0.06378651 -0.09701185 -0.10397531]\n",
      " [ 0.17457989  0.08047852  0.2754597  -0.15941985]\n",
      " [-0.1843223   0.25375223  0.0894421  -0.28292003]\n",
      " [-0.05485792 -0.08848594 -0.22521427  0.03195885]\n",
      " [-0.21809211  0.01419532 -0.27825648 -0.02296132]\n",
      " [-0.2838483  -0.22074017 -0.22942698 -0.11108629]\n",
      " [-0.00624889 -0.15138033  0.12067947  0.06215155]\n",
      " [ 0.20936483  0.08215681  0.01828551  0.10724914]\n",
      " [ 0.28554153  0.02669153 -0.24506062 -0.01925087]\n",
      " [ 0.04557294  0.03442389 -0.1587384   0.00719059]\n",
      " [-0.17274103 -0.01944315  0.16597334 -0.2951957 ]\n",
      " [ 0.13972384  0.03822848 -0.27544886  0.27135795]\n",
      " [ 0.19557941 -0.10219572 -0.22504388 -0.17636487]\n",
      " [ 0.00088957 -0.11526324 -0.15468588  0.06880638]\n",
      " [-0.01288012 -0.16456923 -0.20615879 -0.14719276]\n",
      " [-0.02139938 -0.04599801  0.07892901  0.131957  ]\n",
      " [ 0.07558146 -0.11068913  0.22174019 -0.0291692 ]\n",
      " [ 0.13603798  0.08099464 -0.2925636  -0.15804605]\n",
      " [ 0.10146853  0.20004651 -0.17956704  0.07417005]\n",
      " [ 0.09584028 -0.24726152 -0.27361107 -0.04029015]\n",
      " [-0.22730179  0.07474902  0.15614027  0.1555703 ]\n",
      " [ 0.1252276  -0.16115694 -0.24401382  0.26859784]\n",
      " [ 0.00233021 -0.23310918 -0.13259757 -0.07695368]\n",
      " [-0.27990025  0.20859438  0.18310809  0.06313872]\n",
      " [-0.10324465  0.29437315  0.19571617  0.07239524]\n",
      " [ 0.03681263 -0.16024122 -0.14356673  0.2889641 ]\n",
      " [-0.07266207 -0.0619444  -0.0269421  -0.20603223]\n",
      " [-0.1866186   0.16485852  0.0993796   0.25435203]\n",
      " [ 0.23416942  0.0462167  -0.23069659 -0.04070124]\n",
      " [ 0.23352379  0.17184034 -0.04966328  0.06088307]\n",
      " [-0.01472402 -0.11486664  0.18775302  0.17134014]\n",
      " [ 0.11428583  0.17166823  0.28609818 -0.03138277]\n",
      " [-0.11718036  0.29070282  0.29488695  0.21409786]\n",
      " [-0.2069255   0.25404298  0.00402412 -0.26315606]\n",
      " [ 0.12410089 -0.09970148 -0.21939054  0.15624183]\n",
      " [ 0.05960709 -0.14676118 -0.27021527  0.22940934]\n",
      " [-0.22162507  0.07693464 -0.21241653 -0.07903361]\n",
      " [ 0.29383534 -0.03850523 -0.21121475 -0.10379805]]>, <Variable path=sequential_1/dense_3/bias, shape=(4,), dtype=float32, value=[0. 0. 0. 0.]>]\n"
     ]
    }
   ],
   "source": [
    "# the weights will be created now\n",
    "print(model.weights)"
   ]
  },
  {
   "cell_type": "code",
   "execution_count": 23,
   "metadata": {},
   "outputs": [
    {
     "data": {
      "text/plain": [
       "list"
      ]
     },
     "execution_count": 23,
     "metadata": {},
     "output_type": "execute_result"
    }
   ],
   "source": [
    "type(model.weights)"
   ]
  },
  {
   "cell_type": "code",
   "execution_count": 24,
   "metadata": {},
   "outputs": [
    {
     "name": "stdout",
     "output_type": "stream",
     "text": [
      "(11, 64)\n",
      "(64,)\n",
      "(64, 4)\n",
      "(4,)\n"
     ]
    }
   ],
   "source": [
    "for param in model.weights:\n",
    "    print(param.shape)"
   ]
  },
  {
   "cell_type": "markdown",
   "metadata": {},
   "source": [
    "The diagram below shows how the model's outputs look like for each layer,\n",
    "- For the first layer, if an observation of dimension `1x11` is passed then an output of dimension `1x64` will be generated. Similarly it will be done for `m` observations.\n",
    "- For the second layer, when an input of dimension `(1, 64)` is passed then an output of dimension `1x4` will be generated. Similarly it will be done for `m` observations.\n",
    "\n",
    "<img src = \"../artifacts/neural_networks_58.png\" alt = \"drawing\" width = \"500\">"
   ]
  },
  {
   "cell_type": "markdown",
   "metadata": {},
   "source": [
    "### Alternative way to define the same model using `model.add()`\n",
    "Instead of passing the list of layers as an argument will creating a model instance, the `add()` method can be used."
   ]
  },
  {
   "cell_type": "code",
   "execution_count": 25,
   "metadata": {},
   "outputs": [],
   "source": [
    "model = Sequential()\n",
    "model.add(Dense(64, activation = \"relu\", input_shape = (11, )))\n",
    "model.add(Dense(4, activation = \"softmax\"))"
   ]
  },
  {
   "cell_type": "markdown",
   "metadata": {},
   "source": [
    "### What to choose (list of layers or `add()`)?\n",
    "This is a choice that is left to the user. If the model depends on a condition or may add some $x$ number of similar layers in the loop, `model.add` can be used. The condition can be checked using `if` and layer to the model can be added using `add()` method."
   ]
  },
  {
   "cell_type": "markdown",
   "metadata": {},
   "source": [
    "### What if the input had been a multi-dimensional data?"
   ]
  },
  {
   "cell_type": "code",
   "execution_count": 26,
   "metadata": {},
   "outputs": [
    {
     "name": "stderr",
     "output_type": "stream",
     "text": [
      "/Library/Frameworks/Python.framework/Versions/3.11/lib/python3.11/site-packages/keras/src/layers/reshaping/flatten.py:37: UserWarning: Do not pass an `input_shape`/`input_dim` argument to a layer. When using Sequential models, prefer using an `Input(shape)` object as the first layer in the model instead.\n",
      "  super().__init__(**kwargs)\n"
     ]
    }
   ],
   "source": [
    "from tensorflow.keras.models import Sequential\n",
    "from tensorflow.keras.layers import Dense, Flatten\n",
    "\n",
    "model_2d = Sequential(\n",
    "    [\n",
    "        Flatten(input_shape = (28, 28)), # flatten the data to make it (784, ) to be based further\n",
    "        Dense(64, activation = \"relu\"),\n",
    "        Dense(4, activation = \"softmax\")\n",
    "\n",
    "    ]\n",
    ")"
   ]
  },
  {
   "cell_type": "markdown",
   "metadata": {},
   "source": [
    "Note: Multi-dimensional input can also be passed directly."
   ]
  },
  {
   "cell_type": "markdown",
   "metadata": {},
   "source": [
    "# Model summary\n",
    "There is another short way to check the dimensions and parameters of each layer. This can be done by printing the model summary."
   ]
  },
  {
   "cell_type": "code",
   "execution_count": 27,
   "metadata": {},
   "outputs": [
    {
     "data": {
      "text/html": [
       "<pre style=\"white-space:pre;overflow-x:auto;line-height:normal;font-family:Menlo,'DejaVu Sans Mono',consolas,'Courier New',monospace\"><span style=\"font-weight: bold\">Model: \"sequential_2\"</span>\n",
       "</pre>\n"
      ],
      "text/plain": [
       "\u001b[1mModel: \"sequential_2\"\u001b[0m\n"
      ]
     },
     "metadata": {},
     "output_type": "display_data"
    },
    {
     "data": {
      "text/html": [
       "<pre style=\"white-space:pre;overflow-x:auto;line-height:normal;font-family:Menlo,'DejaVu Sans Mono',consolas,'Courier New',monospace\">┏━━━━━━━━━━━━━━━━━━━━━━━━━━━━━━━━━┳━━━━━━━━━━━━━━━━━━━━━━━━┳━━━━━━━━━━━━━━━┓\n",
       "┃<span style=\"font-weight: bold\"> Layer (type)                    </span>┃<span style=\"font-weight: bold\"> Output Shape           </span>┃<span style=\"font-weight: bold\">       Param # </span>┃\n",
       "┡━━━━━━━━━━━━━━━━━━━━━━━━━━━━━━━━━╇━━━━━━━━━━━━━━━━━━━━━━━━╇━━━━━━━━━━━━━━━┩\n",
       "│ dense_4 (<span style=\"color: #0087ff; text-decoration-color: #0087ff\">Dense</span>)                 │ (<span style=\"color: #00d7ff; text-decoration-color: #00d7ff\">None</span>, <span style=\"color: #00af00; text-decoration-color: #00af00\">64</span>)             │           <span style=\"color: #00af00; text-decoration-color: #00af00\">768</span> │\n",
       "├─────────────────────────────────┼────────────────────────┼───────────────┤\n",
       "│ dense_5 (<span style=\"color: #0087ff; text-decoration-color: #0087ff\">Dense</span>)                 │ (<span style=\"color: #00d7ff; text-decoration-color: #00d7ff\">None</span>, <span style=\"color: #00af00; text-decoration-color: #00af00\">4</span>)              │           <span style=\"color: #00af00; text-decoration-color: #00af00\">260</span> │\n",
       "└─────────────────────────────────┴────────────────────────┴───────────────┘\n",
       "</pre>\n"
      ],
      "text/plain": [
       "┏━━━━━━━━━━━━━━━━━━━━━━━━━━━━━━━━━┳━━━━━━━━━━━━━━━━━━━━━━━━┳━━━━━━━━━━━━━━━┓\n",
       "┃\u001b[1m \u001b[0m\u001b[1mLayer (type)                   \u001b[0m\u001b[1m \u001b[0m┃\u001b[1m \u001b[0m\u001b[1mOutput Shape          \u001b[0m\u001b[1m \u001b[0m┃\u001b[1m \u001b[0m\u001b[1m      Param #\u001b[0m\u001b[1m \u001b[0m┃\n",
       "┡━━━━━━━━━━━━━━━━━━━━━━━━━━━━━━━━━╇━━━━━━━━━━━━━━━━━━━━━━━━╇━━━━━━━━━━━━━━━┩\n",
       "│ dense_4 (\u001b[38;5;33mDense\u001b[0m)                 │ (\u001b[38;5;45mNone\u001b[0m, \u001b[38;5;34m64\u001b[0m)             │           \u001b[38;5;34m768\u001b[0m │\n",
       "├─────────────────────────────────┼────────────────────────┼───────────────┤\n",
       "│ dense_5 (\u001b[38;5;33mDense\u001b[0m)                 │ (\u001b[38;5;45mNone\u001b[0m, \u001b[38;5;34m4\u001b[0m)              │           \u001b[38;5;34m260\u001b[0m │\n",
       "└─────────────────────────────────┴────────────────────────┴───────────────┘\n"
      ]
     },
     "metadata": {},
     "output_type": "display_data"
    },
    {
     "data": {
      "text/html": [
       "<pre style=\"white-space:pre;overflow-x:auto;line-height:normal;font-family:Menlo,'DejaVu Sans Mono',consolas,'Courier New',monospace\"><span style=\"font-weight: bold\"> Total params: </span><span style=\"color: #00af00; text-decoration-color: #00af00\">1,028</span> (4.02 KB)\n",
       "</pre>\n"
      ],
      "text/plain": [
       "\u001b[1m Total params: \u001b[0m\u001b[38;5;34m1,028\u001b[0m (4.02 KB)\n"
      ]
     },
     "metadata": {},
     "output_type": "display_data"
    },
    {
     "data": {
      "text/html": [
       "<pre style=\"white-space:pre;overflow-x:auto;line-height:normal;font-family:Menlo,'DejaVu Sans Mono',consolas,'Courier New',monospace\"><span style=\"font-weight: bold\"> Trainable params: </span><span style=\"color: #00af00; text-decoration-color: #00af00\">1,028</span> (4.02 KB)\n",
       "</pre>\n"
      ],
      "text/plain": [
       "\u001b[1m Trainable params: \u001b[0m\u001b[38;5;34m1,028\u001b[0m (4.02 KB)\n"
      ]
     },
     "metadata": {},
     "output_type": "display_data"
    },
    {
     "data": {
      "text/html": [
       "<pre style=\"white-space:pre;overflow-x:auto;line-height:normal;font-family:Menlo,'DejaVu Sans Mono',consolas,'Courier New',monospace\"><span style=\"font-weight: bold\"> Non-trainable params: </span><span style=\"color: #00af00; text-decoration-color: #00af00\">0</span> (0.00 B)\n",
       "</pre>\n"
      ],
      "text/plain": [
       "\u001b[1m Non-trainable params: \u001b[0m\u001b[38;5;34m0\u001b[0m (0.00 B)\n"
      ]
     },
     "metadata": {},
     "output_type": "display_data"
    }
   ],
   "source": [
    "model.summary()"
   ]
  },
  {
   "cell_type": "markdown",
   "metadata": {},
   "source": [
    "How are number of parameters computed in the above summary?\n",
    "- Input is of shape `11 * (batch_size)` which is densly connected to 64 Neurons. So parameters are computed as, `(11 * 64) weights + 64 biases = 768`.\n",
    "- Similarly, for the second layer, `4 * 64 + 4 = 260`\n",
    "\n",
    "What does `None` represent in the above model's `Output Shape`?\n",
    "- None makes the model capable of handling the multiple points.\n",
    "- In the image seen above, where the dimension were being calculated, the dimensions were were calculated for a single example.\n",
    "- But in an ideal scenario, there will be multiple points aand the number of points were not defined while defining the model. Therefore, the model is keeping it `None` for handling multiple number of passed observations."
   ]
  },
  {
   "cell_type": "markdown",
   "metadata": {},
   "source": [
    "### Assigning custom names to the layers\n",
    "As seen in the model summary, Keras has assigned the names by itself. At times, there may be need to assign custome names to the layers as well."
   ]
  },
  {
   "cell_type": "code",
   "execution_count": 28,
   "metadata": {},
   "outputs": [],
   "source": [
    "model = Sequential(\n",
    "    [\n",
    "        Dense(64, activation = \"relu\", input_shape = (11, ), name = \"hidden_1\"),\n",
    "        Dense(4, activation = \"softmax\", name = \"output\")\n",
    "    ]\n",
    ")"
   ]
  },
  {
   "cell_type": "code",
   "execution_count": 29,
   "metadata": {},
   "outputs": [
    {
     "data": {
      "text/html": [
       "<pre style=\"white-space:pre;overflow-x:auto;line-height:normal;font-family:Menlo,'DejaVu Sans Mono',consolas,'Courier New',monospace\"><span style=\"font-weight: bold\">Model: \"sequential_4\"</span>\n",
       "</pre>\n"
      ],
      "text/plain": [
       "\u001b[1mModel: \"sequential_4\"\u001b[0m\n"
      ]
     },
     "metadata": {},
     "output_type": "display_data"
    },
    {
     "data": {
      "text/html": [
       "<pre style=\"white-space:pre;overflow-x:auto;line-height:normal;font-family:Menlo,'DejaVu Sans Mono',consolas,'Courier New',monospace\">┏━━━━━━━━━━━━━━━━━━━━━━━━━━━━━━━━━┳━━━━━━━━━━━━━━━━━━━━━━━━┳━━━━━━━━━━━━━━━┓\n",
       "┃<span style=\"font-weight: bold\"> Layer (type)                    </span>┃<span style=\"font-weight: bold\"> Output Shape           </span>┃<span style=\"font-weight: bold\">       Param # </span>┃\n",
       "┡━━━━━━━━━━━━━━━━━━━━━━━━━━━━━━━━━╇━━━━━━━━━━━━━━━━━━━━━━━━╇━━━━━━━━━━━━━━━┩\n",
       "│ hidden_1 (<span style=\"color: #0087ff; text-decoration-color: #0087ff\">Dense</span>)                │ (<span style=\"color: #00d7ff; text-decoration-color: #00d7ff\">None</span>, <span style=\"color: #00af00; text-decoration-color: #00af00\">64</span>)             │           <span style=\"color: #00af00; text-decoration-color: #00af00\">768</span> │\n",
       "├─────────────────────────────────┼────────────────────────┼───────────────┤\n",
       "│ output (<span style=\"color: #0087ff; text-decoration-color: #0087ff\">Dense</span>)                  │ (<span style=\"color: #00d7ff; text-decoration-color: #00d7ff\">None</span>, <span style=\"color: #00af00; text-decoration-color: #00af00\">4</span>)              │           <span style=\"color: #00af00; text-decoration-color: #00af00\">260</span> │\n",
       "└─────────────────────────────────┴────────────────────────┴───────────────┘\n",
       "</pre>\n"
      ],
      "text/plain": [
       "┏━━━━━━━━━━━━━━━━━━━━━━━━━━━━━━━━━┳━━━━━━━━━━━━━━━━━━━━━━━━┳━━━━━━━━━━━━━━━┓\n",
       "┃\u001b[1m \u001b[0m\u001b[1mLayer (type)                   \u001b[0m\u001b[1m \u001b[0m┃\u001b[1m \u001b[0m\u001b[1mOutput Shape          \u001b[0m\u001b[1m \u001b[0m┃\u001b[1m \u001b[0m\u001b[1m      Param #\u001b[0m\u001b[1m \u001b[0m┃\n",
       "┡━━━━━━━━━━━━━━━━━━━━━━━━━━━━━━━━━╇━━━━━━━━━━━━━━━━━━━━━━━━╇━━━━━━━━━━━━━━━┩\n",
       "│ hidden_1 (\u001b[38;5;33mDense\u001b[0m)                │ (\u001b[38;5;45mNone\u001b[0m, \u001b[38;5;34m64\u001b[0m)             │           \u001b[38;5;34m768\u001b[0m │\n",
       "├─────────────────────────────────┼────────────────────────┼───────────────┤\n",
       "│ output (\u001b[38;5;33mDense\u001b[0m)                  │ (\u001b[38;5;45mNone\u001b[0m, \u001b[38;5;34m4\u001b[0m)              │           \u001b[38;5;34m260\u001b[0m │\n",
       "└─────────────────────────────────┴────────────────────────┴───────────────┘\n"
      ]
     },
     "metadata": {},
     "output_type": "display_data"
    },
    {
     "data": {
      "text/html": [
       "<pre style=\"white-space:pre;overflow-x:auto;line-height:normal;font-family:Menlo,'DejaVu Sans Mono',consolas,'Courier New',monospace\"><span style=\"font-weight: bold\"> Total params: </span><span style=\"color: #00af00; text-decoration-color: #00af00\">1,028</span> (4.02 KB)\n",
       "</pre>\n"
      ],
      "text/plain": [
       "\u001b[1m Total params: \u001b[0m\u001b[38;5;34m1,028\u001b[0m (4.02 KB)\n"
      ]
     },
     "metadata": {},
     "output_type": "display_data"
    },
    {
     "data": {
      "text/html": [
       "<pre style=\"white-space:pre;overflow-x:auto;line-height:normal;font-family:Menlo,'DejaVu Sans Mono',consolas,'Courier New',monospace\"><span style=\"font-weight: bold\"> Trainable params: </span><span style=\"color: #00af00; text-decoration-color: #00af00\">1,028</span> (4.02 KB)\n",
       "</pre>\n"
      ],
      "text/plain": [
       "\u001b[1m Trainable params: \u001b[0m\u001b[38;5;34m1,028\u001b[0m (4.02 KB)\n"
      ]
     },
     "metadata": {},
     "output_type": "display_data"
    },
    {
     "data": {
      "text/html": [
       "<pre style=\"white-space:pre;overflow-x:auto;line-height:normal;font-family:Menlo,'DejaVu Sans Mono',consolas,'Courier New',monospace\"><span style=\"font-weight: bold\"> Non-trainable params: </span><span style=\"color: #00af00; text-decoration-color: #00af00\">0</span> (0.00 B)\n",
       "</pre>\n"
      ],
      "text/plain": [
       "\u001b[1m Non-trainable params: \u001b[0m\u001b[38;5;34m0\u001b[0m (0.00 B)\n"
      ]
     },
     "metadata": {},
     "output_type": "display_data"
    }
   ],
   "source": [
    "model.summary()"
   ]
  },
  {
   "cell_type": "markdown",
   "metadata": {},
   "source": [
    "The model can also be plotted as a graph and can be saved as a `.png` file."
   ]
  },
  {
   "cell_type": "code",
   "execution_count": 30,
   "metadata": {},
   "outputs": [
    {
     "data": {
      "image/png": "[encoded data removed]",
      "text/plain": [
       "<IPython.core.display.Image object>"
      ]
     },
     "execution_count": 30,
     "metadata": {},
     "output_type": "execute_result"
    }
   ],
   "source": [
    "from tensorflow.keras.utils import plot_model\n",
    "\n",
    "plot_model(\n",
    "    model,\n",
    "    to_file = \"model.png\",\n",
    "    show_shapes = True,\n",
    "    show_layer_names = True\n",
    ")"
   ]
  },
  {
   "cell_type": "markdown",
   "metadata": {},
   "source": [
    "From the plot it is observed that the first layer is the input layer and then the input and output shapes of each layers `hidden_1` and `output` are given"
   ]
  },
  {
   "cell_type": "markdown",
   "metadata": {},
   "source": [
    "### Weights and bias initializer\n",
    "When Neural Network was implemented from scratch, $w$ was initialized with `np.ranfdom.randn` and $b$ was initialized with `np.zeros`.\n",
    "\n",
    "The following are the various weight initialization techniques,\n",
    "- Glorot Normal: $w_{ij}^k \\sim N(0,\\sigma_{ij}). \\text{Where, } \\sigma_{ij} = \\frac{2}{fanin+fanout}$.\n",
    "- Glorot Uniform:  $w_{ij}^k \\sim \\text{Uniform }\\bigg[ \\frac{-\\sqrt{6}}{\\sqrt{fanin+fanout}}, \\frac{\\sqrt{6}}{\\sqrt{fanin+fanout}}\\bigg]$.\n",
    "- He Normal:  $N(0,\\sigma), \\text{Where, } \\sigma = \\frac{2}{fanin}$\n",
    "- He Uniform:  $\\text{Uniform }\\bigg[ \\frac{-\\sqrt{6}}{\\sqrt{fanin}}, \\frac{\\sqrt{6}}{\\sqrt{fanin}}\\bigg]$\n",
    "\n",
    "The end results of the classification and regression get affected by the initialization of the weights and biases.\n",
    "\n",
    "The following is how Keras implements them,\n",
    "- In the `Dense` layer of Keras,\n",
    "    1. The biases are set to 0 (`zeros`) by default.\n",
    "    2. The weights are set according to `glorot_uniform` (Glorot Uniform initializer) by default.\n",
    "- For example,\n",
    "    - $c = \\frac{\\sqrt{6}}{\\sqrt{11+64}} = 0.28$. For the first hidden layer of the model, $fanin$ (input) is 11 and $fanout$ (output) is 64.\n",
    "\n",
    "Note,\n",
    "- There are several researches proposing different ways of randomly initializing the weights of the layers.\n",
    "- But `glorot_uniform` has been most widely used one in most of the Deep Learning frameworks today.\n",
    "\n",
    "### What if there is need to custom initialize the weights and biases (maybe for research)?\n",
    "Each layer has optional arguments `kernel_initializer` and `bias_initializer` to set the weights and biases respectively."
   ]
  },
  {
   "cell_type": "code",
   "execution_count": 31,
   "metadata": {},
   "outputs": [
    {
     "name": "stderr",
     "output_type": "stream",
     "text": [
      "/Library/Frameworks/Python.framework/Versions/3.11/lib/python3.11/site-packages/keras/src/layers/core/dense.py:87: UserWarning: Do not pass an `input_shape`/`input_dim` argument to a layer. When using Sequential models, prefer using an `Input(shape)` object as the first layer in the model instead.\n",
      "  super().__init__(activity_regularizer=activity_regularizer, **kwargs)\n"
     ]
    }
   ],
   "source": [
    "model_x = Sequential(\n",
    "    [\n",
    "        Dense(64, activation = \"relu\", input_shape = (11, ), name = \"hidden_1\", kernel_initializer = \"random_uniform\", bias_initializer = \"zeros\"),\n",
    "        Dense(4, activation = \"softmax\", name = \"output\", kernel_initializer = \"he_uniform\", bias_initializer = \"ones\")\n",
    "    ]\n",
    ")"
   ]
  },
  {
   "cell_type": "markdown",
   "metadata": {},
   "source": [
    "A scratch approach can also be opted for by using `keras.initializer` module."
   ]
  },
  {
   "cell_type": "code",
   "execution_count": 32,
   "metadata": {},
   "outputs": [
    {
     "data": {
      "text/plain": [
       "<Dense name=dense_8, built=False>"
      ]
     },
     "execution_count": 32,
     "metadata": {},
     "output_type": "execute_result"
    }
   ],
   "source": [
    "Dense(\n",
    "    64,\n",
    "    kernel_initializer = tf.keras.initializers.RandomNormal(mean = 0.0, stddev = 0.05),\n",
    "    bias_initializer = tf.keras.initializers.Constant(value = 0.4),\n",
    "    activation = \"relu\"\n",
    ")"
   ]
  },
  {
   "cell_type": "markdown",
   "metadata": {},
   "source": [
    "The layers of the model can be retrieved as follows,"
   ]
  },
  {
   "cell_type": "code",
   "execution_count": 33,
   "metadata": {},
   "outputs": [
    {
     "data": {
      "text/plain": [
       "[<Dense name=hidden_1, built=True>, <Dense name=output, built=True>]"
      ]
     },
     "execution_count": 33,
     "metadata": {},
     "output_type": "execute_result"
    }
   ],
   "source": [
    "model.layers"
   ]
  },
  {
   "cell_type": "markdown",
   "metadata": {},
   "source": [
    "The following shows the histograms of initialized weights and biases."
   ]
  },
  {
   "cell_type": "code",
   "execution_count": 34,
   "metadata": {},
   "outputs": [
    {
     "data": {
      "image/png": "[encoded data removed]",
      "text/plain": [
       "<Figure size 500x500 with 4 Axes>"
      ]
     },
     "metadata": {},
     "output_type": "display_data"
    }
   ],
   "source": [
    "fig, axes = plt.subplots(2, 2, figsize = (5, 5))\n",
    "fig.subplots_adjust(hspace = 0.5, wspace = 0.5)\n",
    "# extracting weights from the layers\n",
    "weight_layers = [layer for layer in model.layers]\n",
    "for i, layer in enumerate(weight_layers):\n",
    "    for j in [0, 1]:\n",
    "        axes[i, j].hist(layer.weights[j].numpy().flatten(), align = \"left\")\n",
    "        axes[i, j].set_title(layer.weights[j].name)"
   ]
  },
  {
   "cell_type": "markdown",
   "metadata": {},
   "source": [
    "`model.layers` consists a list of layers.\n",
    "\n",
    "In the code, the weights and biases of all the layers are extracted using `layer.weights`, they are then converted to a `numpy` array and are then flattened to just get an array of initialized weights and biases.\n",
    "\n",
    "It is observed from the plot that all the biases are initialized to `0` by default."
   ]
  },
  {
   "cell_type": "markdown",
   "metadata": {},
   "source": [
    "# Model Compilation: Loss And Optimizer\n",
    "So far, the model's architecture has been defined. Now, the model has to be compiled.\n",
    "\n",
    "### What specific information should be passed to the model while compiling it?\n",
    "1. Loss function: To measure the model's performance as it trains.\n",
    "2. Optimizer (like gradient descent): To perform the gradient update.\n",
    "\n",
    "The above is done using 2 arguments of the `compile()` method, `optimizer` and `loss`.\n",
    "\n",
    "The following is an example of a binary classification,"
   ]
  },
  {
   "cell_type": "code",
   "execution_count": 35,
   "metadata": {},
   "outputs": [
    {
     "name": "stderr",
     "output_type": "stream",
     "text": [
      "/Library/Frameworks/Python.framework/Versions/3.11/lib/python3.11/site-packages/keras/src/layers/core/dense.py:87: UserWarning: Do not pass an `input_shape`/`input_dim` argument to a layer. When using Sequential models, prefer using an `Input(shape)` object as the first layer in the model instead.\n",
      "  super().__init__(activity_regularizer=activity_regularizer, **kwargs)\n"
     ]
    }
   ],
   "source": [
    "model_binary = Sequential(\n",
    "    [\n",
    "        Dense(64, activation = \"relu\", input_shape = (11, )),\n",
    "        Dense(1, activation = \"sigmoid\")\n",
    "    ]\n",
    ")\n",
    "\n",
    "model_binary.compile(\n",
    "    optimizer = \"adam\",\n",
    "    loss = \" binary_crossentropy\",\n",
    "    metrics = [\"accuracy\"]\n",
    ")"
   ]
  },
  {
   "cell_type": "markdown",
   "metadata": {},
   "source": [
    "There are multiple options for optimizers, loss and metrics (check further documentation).\n",
    "\n",
    "All the strings which have been passed as arguments i.e., \"`adam`\", \"`binary_crossentropy`\" and \"`accuracy`\" are reference to some default objects defined in Keras.\n",
    "\n",
    "These custom objects can also be directly instantiated with the classes defined in Keras submodules for example `opt = keras.optimizers.Adam(learning_rate = 0.01)`.\n",
    "\n",
    "Customized loss and optimizer functions can be passed in Keras models.\n",
    "\n",
    "In the following code lines, the learning rate is changed by initializing a custom object."
   ]
  },
  {
   "cell_type": "code",
   "execution_count": 36,
   "metadata": {},
   "outputs": [],
   "source": [
    "model.compile(\n",
    "    optimizer = tf.keras.optimizers.Adam(learning_rate = 0.01),\n",
    "    loss = tf.keras.losses.SparseCategoricalCrossentropy()\n",
    ")"
   ]
  },
  {
   "cell_type": "markdown",
   "metadata": {},
   "source": [
    "Optionally, a list of metrics can be defined which could be tracked during training."
   ]
  },
  {
   "cell_type": "code",
   "execution_count": 37,
   "metadata": {},
   "outputs": [
    {
     "name": "stderr",
     "output_type": "stream",
     "text": [
      "/Library/Frameworks/Python.framework/Versions/3.11/lib/python3.11/site-packages/keras/src/layers/core/dense.py:87: UserWarning: Do not pass an `input_shape`/`input_dim` argument to a layer. When using Sequential models, prefer using an `Input(shape)` object as the first layer in the model instead.\n",
      "  super().__init__(activity_regularizer=activity_regularizer, **kwargs)\n"
     ]
    }
   ],
   "source": [
    "model = Sequential(\n",
    "    [\n",
    "        Dense(16, activation = \"relu\", input_shape = (11, ), name = \"hidden_1\"),\n",
    "        Dense(8, activation = \"relu\", name = \"hidden_2\"),\n",
    "        Dense(4, activation = \"softmax\", name = \"output\")\n",
    "    ]\n",
    ")\n",
    "\n",
    "model.compile(\n",
    "    optimizer = tf.keras.optimizers.Adam(learning_rate = 0.001),\n",
    "    loss = tf.keras.losses.SparseCategoricalCrossentropy(),\n",
    "    metrics = [\"accuracy\"]\n",
    ")"
   ]
  },
  {
   "cell_type": "markdown",
   "metadata": {},
   "source": [
    "### How is sparse categorical cross entropy different from categorical cross entropy?\n",
    "1. Use `categorical_crossentropy` if target is one hot-encoded, for example, [1, 0, 0, 0], [0, 1, 0, 0], [0, 0, 1, 0], [0, 0, 0, 1].\n",
    "2. Use `sparse_categorical_crossentropy` if target vector is ordinal integer values, 0, 1, 2, 3.\n",
    "\n",
    "These metrics will be calculated and saved after each epoch.\n",
    "\n",
    "### What is an epoch?\n",
    "When the data size is too big for the memory (RAM), the data is passed in small batches instead of one big batch. Each pass of these small batches is called an iteration.\n",
    "\n",
    "Each pass of the whole dataset is called an epoch.\n",
    "\n",
    "1 epoch means that each sample in the training dataset has had an opportuinity to update the internal model parameters."
   ]
  },
  {
   "cell_type": "markdown",
   "metadata": {},
   "source": [
    "### How to check if the loss and optimizers for the model are set?"
   ]
  },
  {
   "cell_type": "code",
   "execution_count": 40,
   "metadata": {},
   "outputs": [
    {
     "data": {
      "text/plain": [
       "<LossFunctionWrapper(<function sparse_categorical_crossentropy at 0x1772918a0>, kwargs={'from_logits': False, 'ignore_class': None})>"
      ]
     },
     "execution_count": 40,
     "metadata": {},
     "output_type": "execute_result"
    }
   ],
   "source": [
    "model.loss"
   ]
  },
  {
   "cell_type": "code",
   "execution_count": 41,
   "metadata": {},
   "outputs": [
    {
     "data": {
      "text/plain": [
       "<keras.src.optimizers.adam.Adam at 0x179f3d890>"
      ]
     },
     "execution_count": 41,
     "metadata": {},
     "output_type": "execute_result"
    }
   ],
   "source": [
    "model.optimizer"
   ]
  },
  {
   "cell_type": "markdown",
   "metadata": {},
   "source": [
    "# Model Training\n"
   ]
  }
 ],
 "metadata": {
  "kernelspec": {
   "display_name": "Python 3",
   "language": "python",
   "name": "python3"
  },
  "language_info": {
   "codemirror_mode": {
    "name": "ipython",
    "version": 3
   },
   "file_extension": ".py",
   "mimetype": "text/x-python",
   "name": "python",
   "nbconvert_exporter": "python",
   "pygments_lexer": "ipython3",
   "version": "3.11.9"
  }
 },
 "nbformat": 4,
 "nbformat_minor": 2
}
