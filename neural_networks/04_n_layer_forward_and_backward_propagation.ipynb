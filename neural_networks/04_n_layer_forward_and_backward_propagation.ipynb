{
 "cells": [
  {
   "cell_type": "markdown",
   "metadata": {
    "vscode": {
     "languageId": "plaintext"
    }
   },
   "source": [
    "# Introduction\n",
    "Consider the following Neural Network,\n",
    "\n",
    "<img src = \"../artifacts/neural_networks_36.png\" alt = \"drawing\" width = \"500\">\n",
    "\n",
    "The computation graph for the above looks as follows,\n",
    "\n",
    "<img src = \"../artifacts/neural_networks_37.png\" alt = \"drawing\" width = \"500\">"
   ]
  },
  {
   "cell_type": "markdown",
   "metadata": {},
   "source": [
    "# Forward Propagation\n",
    "In forward propagation, the propagation is from left to right. The following is done during a forward pass (forward propagation),\n",
    "- Calculate the value of $z_i$.\n",
    "- Apply activation function on top of it.\n",
    "- Then pass it to the Neuron in front of it.\n",
    "- Ultimately, the probabilities are obtained.\n",
    "- Then these probabilities are used to calculate the loss. Since it is multi-class classification problem, the loss function used is categorical cross entropy.\n",
    "\n",
    "The final objective is to compute $z^2$."
   ]
  },
  {
   "cell_type": "code",
   "execution_count": 1,
   "metadata": {},
   "outputs": [],
   "source": [
    "import numpy as np\n",
    "import pandas as pd\n",
    "import matplotlib.pyplot as plt\n",
    "import seaborn as sns"
   ]
  },
  {
   "cell_type": "code",
   "execution_count": 2,
   "metadata": {},
   "outputs": [
    {
     "data": {
      "text/html": [
       "<div>\n",
       "<style scoped>\n",
       "    .dataframe tbody tr th:only-of-type {\n",
       "        vertical-align: middle;\n",
       "    }\n",
       "\n",
       "    .dataframe tbody tr th {\n",
       "        vertical-align: top;\n",
       "    }\n",
       "\n",
       "    .dataframe thead th {\n",
       "        text-align: right;\n",
       "    }\n",
       "</style>\n",
       "<table border=\"1\" class=\"dataframe\">\n",
       "  <thead>\n",
       "    <tr style=\"text-align: right;\">\n",
       "      <th></th>\n",
       "      <th>x1</th>\n",
       "      <th>x2</th>\n",
       "      <th>y</th>\n",
       "    </tr>\n",
       "  </thead>\n",
       "  <tbody>\n",
       "    <tr>\n",
       "      <th>0</th>\n",
       "      <td>0.000000</td>\n",
       "      <td>0.000000</td>\n",
       "      <td>0</td>\n",
       "    </tr>\n",
       "    <tr>\n",
       "      <th>1</th>\n",
       "      <td>-0.000650</td>\n",
       "      <td>0.010080</td>\n",
       "      <td>0</td>\n",
       "    </tr>\n",
       "    <tr>\n",
       "      <th>2</th>\n",
       "      <td>0.009809</td>\n",
       "      <td>0.017661</td>\n",
       "      <td>0</td>\n",
       "    </tr>\n",
       "    <tr>\n",
       "      <th>3</th>\n",
       "      <td>0.007487</td>\n",
       "      <td>0.029364</td>\n",
       "      <td>0</td>\n",
       "    </tr>\n",
       "    <tr>\n",
       "      <th>4</th>\n",
       "      <td>-0.000027</td>\n",
       "      <td>0.040404</td>\n",
       "      <td>0</td>\n",
       "    </tr>\n",
       "  </tbody>\n",
       "</table>\n",
       "</div>"
      ],
      "text/plain": [
       "         x1        x2  y\n",
       "0  0.000000  0.000000  0\n",
       "1 -0.000650  0.010080  0\n",
       "2  0.009809  0.017661  0\n",
       "3  0.007487  0.029364  0\n",
       "4 -0.000027  0.040404  0"
      ]
     },
     "execution_count": 2,
     "metadata": {},
     "output_type": "execute_result"
    }
   ],
   "source": [
    "df = pd.read_csv(\"spiral.csv\")\n",
    "df.head()"
   ]
  },
  {
   "cell_type": "code",
   "execution_count": 3,
   "metadata": {},
   "outputs": [
    {
     "data": {
      "text/plain": [
       "((300, 2), (300,))"
      ]
     },
     "execution_count": 3,
     "metadata": {},
     "output_type": "execute_result"
    }
   ],
   "source": [
    "# separating features and labels\n",
    "x = df.drop(columns = [\"y\"])\n",
    "y = df[\"y\"]\n",
    "x.shape, y.shape"
   ]
  },
  {
   "cell_type": "code",
   "execution_count": 4,
   "metadata": {},
   "outputs": [],
   "source": [
    "# initialize the parameters at random\n",
    "d = 2 # dimensions or number of inputs\n",
    "n = 3 # number of classes or number of neurons in the output layer\n",
    "h = 4 # number of neurons in the hidden layer"
   ]
  },
  {
   "cell_type": "code",
   "execution_count": 5,
   "metadata": {},
   "outputs": [
    {
     "data": {
      "text/plain": [
       "((2, 4), (1, 4))"
      ]
     },
     "execution_count": 5,
     "metadata": {},
     "output_type": "execute_result"
    }
   ],
   "source": [
    "# input layer to the hidden layer\n",
    "# weight and bias of layer 1\n",
    "w1 = 0.01 * np.random.randn(d, h)\n",
    "b1 = np.zeros((1, h))\n",
    "w1.shape, b1.shape"
   ]
  },
  {
   "cell_type": "markdown",
   "metadata": {},
   "source": [
    "### Calculating $z^1$\n",
    "Each row of $x$ is multiplied with each column of $w_1$ and bias is added to the result of this."
   ]
  },
  {
   "cell_type": "code",
   "execution_count": 6,
   "metadata": {},
   "outputs": [
    {
     "data": {
      "text/plain": [
       "(300, 4)"
      ]
     },
     "execution_count": 6,
     "metadata": {},
     "output_type": "execute_result"
    }
   ],
   "source": [
    "# z1 = np.dot(x, w) + b\n",
    "z1 = np.dot(x, w1) + b1\n",
    "z1.shape"
   ]
  },
  {
   "cell_type": "markdown",
   "metadata": {},
   "source": [
    "### Calculating $a^1$\n",
    "The ReLU function is applied to $z^1$."
   ]
  },
  {
   "cell_type": "code",
   "execution_count": 7,
   "metadata": {},
   "outputs": [
    {
     "data": {
      "text/plain": [
       "(300, 4)"
      ]
     },
     "execution_count": 7,
     "metadata": {},
     "output_type": "execute_result"
    }
   ],
   "source": [
    "# ReLU activation function\n",
    "a1 = np.maximum(0, z1)\n",
    "a1.shape"
   ]
  },
  {
   "cell_type": "code",
   "execution_count": 8,
   "metadata": {},
   "outputs": [
    {
     "data": {
      "text/plain": [
       "((4, 3), (1, 3))"
      ]
     },
     "execution_count": 8,
     "metadata": {},
     "output_type": "execute_result"
    }
   ],
   "source": [
    "# hidden layer to the output layer\n",
    "# weight and bias of layer 2\n",
    "w2 = 0.01 * np.random.randn(h, n)\n",
    "b2 = np.zeros((1, n))\n",
    "w2.shape, b2.shape"
   ]
  },
  {
   "cell_type": "markdown",
   "metadata": {},
   "source": [
    "### Calculating $z^2$\n",
    "In order to calculate $z^2$, $a^1$ is multiplied with $w_2$ and the bias $b^2$ is added to the result."
   ]
  },
  {
   "cell_type": "code",
   "execution_count": 9,
   "metadata": {},
   "outputs": [
    {
     "data": {
      "text/plain": [
       "(300, 3)"
      ]
     },
     "execution_count": 9,
     "metadata": {},
     "output_type": "execute_result"
    }
   ],
   "source": [
    "z2 = np.dot(a1, w2) + b2\n",
    "z2.shape"
   ]
  },
  {
   "cell_type": "markdown",
   "metadata": {},
   "source": [
    "### Calculating $a^2$"
   ]
  },
  {
   "cell_type": "code",
   "execution_count": 10,
   "metadata": {},
   "outputs": [
    {
     "data": {
      "text/plain": [
       "(300, 3)"
      ]
     },
     "execution_count": 10,
     "metadata": {},
     "output_type": "execute_result"
    }
   ],
   "source": [
    "# apply the softmax function to compute a2\n",
    "z2_exp = np.exp(z2)\n",
    "a2 = z2_exp/ np.sum(z2_exp, axis = 1, keepdims = True)\n",
    "probs = a2\n",
    "probs.shape"
   ]
  },
  {
   "cell_type": "markdown",
   "metadata": {},
   "source": [
    "<img src = \"../artifacts/neural_networks_38.png\" alt = \"drawing\" width = \"500\">"
   ]
  },
  {
   "cell_type": "markdown",
   "metadata": {},
   "source": [
    "# Loss Calculation\n",
    "### Will the loss function change?\n",
    "No."
   ]
  },
  {
   "cell_type": "markdown",
   "metadata": {},
   "source": [
    "# Backward Propagation\n",
    "### Will the gradient calculation change in case of n layer Neural Network?\n",
    "No. But, there is an additional requirement to back propagate the gradients for one additional layer."
   ]
  },
  {
   "cell_type": "code",
   "execution_count": 11,
   "metadata": {},
   "outputs": [
    {
     "data": {
      "text/plain": [
       "300"
      ]
     },
     "execution_count": 11,
     "metadata": {},
     "output_type": "execute_result"
    }
   ],
   "source": [
    "# number of data points (training samples)\n",
    "m = y.shape[0]\n",
    "m"
   ]
  },
  {
   "cell_type": "markdown",
   "metadata": {},
   "source": [
    "### Calculating $dz^2$\n",
    "\n",
    "<img src = \"../artifacts/neural_networks_39.png\" alt = \"drawing\" width = \"500\">\n",
    "\n",
    "$dz^2 = \\frac{\\partial L}{\\partial z^2}$\n",
    "\n",
    "So,\n",
    "\n",
    "$\\frac{\\partial L}{\\partial z^2} = \\frac{\\partial L}{\\partial a^2} * \\frac{\\partial a^2}{\\partial z^2}$\n",
    "\n",
    "Here, $a^2$ is the output probabilities.\n",
    "\n",
    "Replace $a^2$ with $p$, $\\frac{\\partial L}{\\partial z^2} = \\frac{\\partial L}{\\partial p} * \\frac{\\partial p}{\\partial z^2}$\n",
    "\n",
    "The above equation is similar to what was calculated previously, i.e., derivative of loss with respect to $z$.\n",
    "\n",
    "$dz = \\frac{\\partial J}{\\partial p} * \\frac{\\partial p}{\\partial z}$.\n",
    "\n",
    "The derivative came out to be, $dz = (p_i - I(i = y))$\n",
    "\n",
    "Hence, $dz^2 = (p_i - I(i = y))$."
   ]
  },
  {
   "cell_type": "code",
   "execution_count": 12,
   "metadata": {},
   "outputs": [],
   "source": [
    "dz2 = probs\n",
    "dz2[range(m), y] -= 1"
   ]
  },
  {
   "cell_type": "markdown",
   "metadata": {},
   "source": [
    "The shape of $dz^2$ is the same as the shape of probabilities, `(m, n)` (i.e., in this case `(300, 3)`).\n",
    "\n",
    "### Calculating $dw^2$ and $db^2$\n",
    "Gradient calculation for $dw^2$ and $db^2$ will also be similar to $dw$ and $db$ as it was in the softmax classifier.\n",
    "\n",
    "<img src = \"../artifacts/neural_networks_40.png\" alt = \"drawing\" width = \"500\">\n",
    "\n",
    "$dw^2 = \\frac{\\partial L}{\\partial w^2} = \\frac{\\partial L}{\\partial a^2} * \\frac{\\partial a^2}{\\partial z^2} * \\frac{\\partial z^2}{\\partial w^2}$.\n",
    "\n",
    "$dw^2 = dz^2 * \\frac{\\partial z^2}{\\partial w^2}$.\n",
    "\n",
    "Here, $z^2 = w^{2^T} * a^1 + b^2$.\n",
    "\n",
    "So, $\\frac{\\partial z^2}{\\partial w^2} = a^1$\n",
    "\n",
    "$dw^2 = \\frac{\\partial L}{\\partial w^2} = dz^2 * a^1$\n",
    "\n",
    "The shape of $dz^2$ = `(300, 3)` and the shape of $a^1$ = `(300, 4)`.\n",
    "\n",
    "$dw^2$ will be used to update $w^2$. Therefore, the shape of $dw^2$ should be same as $w^2$, i.e., `(4, 3)`.\n",
    "\n",
    "Hence, $dz^2$ and $a^1$ should be multiplied such that, the resulting matrix has the shape `(4, 3)`.\n",
    "\n",
    "Therefore, the transpose of $a^1$ is multiplied with $dz^2$, $a^{1^T} * dz^2$.\n",
    "\n",
    "<img src = \"../artifacts/neural_networks_41.png\" alt = \"drawing\" width = \"500\">"
   ]
  },
  {
   "cell_type": "code",
   "execution_count": 13,
   "metadata": {},
   "outputs": [
    {
     "data": {
      "text/plain": [
       "(4, 3)"
      ]
     },
     "execution_count": 13,
     "metadata": {},
     "output_type": "execute_result"
    }
   ],
   "source": [
    "dw2 = np.dot(a1.T, dz2)/ m\n",
    "dw2.shape"
   ]
  },
  {
   "cell_type": "markdown",
   "metadata": {},
   "source": [
    "The division by `m` is because, in Gradient Descent, since all the data points are used for calculating the updated $w$, the average is taken by dividing the total number of data points.\n",
    "\n",
    "<img src = \"../artifacts/neural_networks_42.png\" alt = \"drawing\" width = \"500\">\n",
    "\n",
    "Why is there a need to divide by m? The goal is to update weights and biases, it can be done by,\n",
    "1. calculating the derivatives $dw^2$, $db^2$, $dw^1$, $db^1$.\n",
    "2. Updating the weights, $w^1 = w^1 - \\eta * dw^1 *\\frac{1}{m}$.\n",
    "\n",
    "$db^2$ can also be calculated in a similar way.\n",
    "\n",
    "<img src = \"../artifacts/neural_networks_43.png\" alt = \"drawing\" width = \"500\">\n",
    "\n",
    "$db^2 = \\frac{\\partial L}{\\partial b^2} = \\frac{\\partial L}{\\partial a^2} * \\frac{\\partial a^2}{\\partial z^2} * \\frac{\\partial z^2}{\\partial b^2}$\n",
    "\n",
    "Now, $\\frac{\\partial z^2}{\\partial b^2} = \\frac{\\partial (w^2 * a^1 + b^2)}{db^2} = 1$.\n",
    "\n",
    "$db^2 = \\frac{\\partial L}{\\partial b^2} = \\frac{\\partial L}{\\partial a^2} * \\frac{\\partial a^2}{\\partial z^2} * 1 = dz^2$.\n",
    "\n",
    "$db^2$ will be used to update $b^2$. Therefore, the shape of $db^2$ will be same as $b^2$, i.e., `(1, 3)`.\n",
    "\n",
    "But the shape of $dz^2$ is `(300, 3)`. Since gradient descent and not stochastic gradient descent is being performed, the derivatives have to summed up across the rows and then average of them has to taken before using it for the updating.\n",
    "\n",
    "<img src = \"../artifacts/neural_networks_44.png\" alt = \"drawing\" width = \"500\">"
   ]
  },
  {
   "cell_type": "code",
   "execution_count": 14,
   "metadata": {},
   "outputs": [
    {
     "data": {
      "text/plain": [
       "(1, 3)"
      ]
     },
     "execution_count": 14,
     "metadata": {},
     "output_type": "execute_result"
    }
   ],
   "source": [
    "db2 = np.sum(dz2, axis = 0, keepdims = True)/ m\n",
    "db2.shape"
   ]
  },
  {
   "cell_type": "markdown",
   "metadata": {},
   "source": [
    "### Calculating $da^1$\n",
    "<img src = \"../artifacts/neural_networks_45.png\" alt = \"drawing\" width = \"500\">\n",
    "\n",
    "$da^1 = \\frac{\\partial L}{\\partial a^1} = \\frac{\\partial L}{\\partial a^2} * \\frac{\\partial a^2}{\\partial z^1} * \\frac{\\partial z^2}{\\partial a^1}$\n",
    "\n",
    "Since, $\\frac{\\partial L}{\\partial a^2} * \\frac{\\partial a^2}{\\partial z^2} = sz^2$.\n",
    "\n",
    "Now,\n",
    "\n",
    "$\\frac{\\partial z^2}{\\partial a^1} = \\frac{\\partial (w^2 * a^1 + b^2)}{da^1} = w^2$.\n",
    "\n",
    "$da^1 = \\frac{\\partial L}{\\partial a^2} * \\frac{\\partial a^2}{\\partial z^2} * w^2 = dz^2 * w^2$.\n",
    "\n",
    "The shape of $da^1$ will be same as $a^1$, i.e., `(300, 4)`.\n",
    "\n",
    "<img src = \"../artifacts/neural_networks_46.png\" alt = \"drawing\" width = \"500\">\n",
    "\n",
    "The shape of $dz^2$ = `(300, 3)` and the shape of $w^2$ = `(4, 3)`\n",
    "\n",
    "$dw^2$ will be used to update $w^2$. Therefore, the shape of $dw^2$ should be same as $w^2$, i.e., `(4, 3)`.\n",
    "\n",
    "Hence, $dz^2$ and $w^2$ should be multiplied such that, the resulting matrix has the shape `(4, 3)`.\n",
    "\n",
    "Therefore, the transpose of $w^2$ is multiplied with $dz^2$, $da^1 = w^{2^T} * dz^2$."
   ]
  },
  {
   "cell_type": "code",
   "execution_count": 15,
   "metadata": {},
   "outputs": [
    {
     "data": {
      "text/plain": [
       "(300, 4)"
      ]
     },
     "execution_count": 15,
     "metadata": {},
     "output_type": "execute_result"
    }
   ],
   "source": [
    "da1 = np.dot(dz2, w2.T)\n",
    "da1.shape"
   ]
  },
  {
   "cell_type": "markdown",
   "metadata": {},
   "source": [
    "### Calculating $dz^1$\n",
    "To calculate the gradient of $dz^1$, the ReLU layer has to to passed backwards.\n",
    "\n",
    "<img src = \"../artifacts/neural_networks_47.png\" alt = \"drawing\" width = \"500\">\n",
    "\n",
    "$\\frac{\\partial L}{\\partial z^1} = \\frac{\\partial L}{\\partial a^2} * \\frac{\\partial a^2}{\\partial z^2} * \\frac{\\partial z^2}{\\partial a^1} * \\frac{\\partial a^1}{\\partial z^1}$\n",
    "\n",
    "It is known that, $\\frac{\\partial L}{\\partial a^2} * \\frac{\\partial a^2}{\\partial z^2} * \\frac{\\partial z^2}{\\partial a^1} = da^1$\n",
    "\n",
    "$\\frac{\\partial a^1}{\\partial z^1}$ has to be calculated.\n",
    "\n",
    "<img src = \"../artifacts/neural_networks_48.png\" alt = \"drawing\" width = \"500\">\n",
    "\n",
    "<img src = \"../artifacts/neural_networks_49.png\" alt = \"drawing\" width = \"500\">"
   ]
  },
  {
   "cell_type": "code",
   "execution_count": 16,
   "metadata": {},
   "outputs": [
    {
     "data": {
      "text/plain": [
       "(300, 4)"
      ]
     },
     "execution_count": 16,
     "metadata": {},
     "output_type": "execute_result"
    }
   ],
   "source": [
    "da1[z1 <= 0] = 0\n",
    "dz1 = da1\n",
    "dz1.shape"
   ]
  },
  {
   "cell_type": "markdown",
   "metadata": {},
   "source": [
    "Why is $da^1$ being directly updated without creating a copy of it?\n",
    "- The purpose of calculating $da^1$ and $dz^1$ is to ultimately calculate $dw^1$ and $db^1$. Both of them are being used for intermediatory purpose.\n",
    "- Therefore, making changes in $da^1$ will not change anything as $dz^1$ is already calculated.\n",
    "- And $da^1$ will not be used anywhere else expect for calculation of $dz^1$.\n",
    "\n",
    "This also means that the intermediate output values from the forward pass have to be saved."
   ]
  },
  {
   "cell_type": "markdown",
   "metadata": {},
   "source": [
    "### Calculating $dw^1$ and $db^1$\n",
    "\n",
    "<img src = \"../artifacts/neural_networks_50.png\" alt = \"drawing\" width = \"500\">\n",
    "\n",
    "<img src = \"../artifacts/neural_networks_51.png\" alt = \"drawing\" width = \"500\">\n",
    "\n",
    "$\\frac{\\partial L}{\\partial w^1} = \\frac{\\partial L}{\\partial a^2} * \\frac{\\partial a^2}{\\partial z^2} * \\frac{\\partial z^2}{\\partial a^1} * \\frac{\\partial a^1}{\\partial z^1} * \\frac{\\partial z^1}{\\partial w^1}$.\n",
    "\n",
    "It is known that, $\\frac{\\partial L}{\\partial a^2} * \\frac{\\partial a^2}{\\partial z^2} * \\frac{\\partial z^2}{\\partial a^1} * \\frac{\\partial a^1}{\\partial z^1} = dz^1$.\n",
    "\n",
    "$\\frac{\\partial z^1}{\\partial w^1}$ has to be calculated.\n",
    "\n",
    "$\\frac{\\partial z^1}{\\partial w^1} = \\frac{\\partial (w^1 * x + b^1)}{\\partial w^1} = x$\n",
    "\n",
    "$\\frac{\\partial L}{\\partial w^1} = dz^1 * x$.\n",
    "\n",
    "$db^1$ can similarly be calculated as,\n",
    "\n",
    "<img src = \"../artifacts/neural_networks_52.png\" alt = \"drawing\" width = \"500\">\n",
    "\n",
    "$\\frac{\\partial L}{\\partial b^1} = \\frac{\\partial L}{\\partial a^2} * \\frac{\\partial a^2}{\\partial z^2} * \\frac{\\partial z^2}{\\partial a^1} * \\frac{\\partial a^1}{\\partial z^1} * \\frac{\\partial z^1}{\\partial b^1}$.\n",
    "\n",
    "It is known that, $\\frac{\\partial L}{\\partial a^2} * \\frac{\\partial a^2}{\\partial z^2} * \\frac{\\partial z^2}{\\partial a^1} * \\frac{\\partial a^1}{\\partial z^1} = dz^1$.\n",
    "\n",
    "$\\frac{\\partial z^1}{\\partial b^1}$ has to be calculated.\n",
    "\n",
    "$\\frac{\\partial z^1}{\\partial b^1} = \\frac{\\partial (w^1 * x + b^1)}{\\partial b^1} = 1$\n",
    "\n",
    "Therefore, $\\frac{\\partial L}{\\partial b^1} = dz^1 * 1$."
   ]
  },
  {
   "cell_type": "code",
   "execution_count": 17,
   "metadata": {},
   "outputs": [
    {
     "data": {
      "text/plain": [
       "((2, 4), (1, 4))"
      ]
     },
     "execution_count": 17,
     "metadata": {},
     "output_type": "execute_result"
    }
   ],
   "source": [
    "dw1 = np.dot(x.T, dz1)/ m\n",
    "db1 = np.sum(dz1, axis = 0, keepdims = True)/ m\n",
    "dw1.shape, db1.shape"
   ]
  },
  {
   "cell_type": "markdown",
   "metadata": {},
   "source": [
    "Now that the gradients have been found, the weights and biases can be updated as,"
   ]
  },
  {
   "cell_type": "code",
   "execution_count": 18,
   "metadata": {},
   "outputs": [],
   "source": [
    "lr = 1e-0"
   ]
  },
  {
   "cell_type": "code",
   "execution_count": 19,
   "metadata": {},
   "outputs": [
    {
     "data": {
      "text/plain": [
       "(array([[-0.00855689,  0.00430017,  0.01279042, -0.01075988],\n",
       "        [ 0.01212138, -0.02909454, -0.00537403, -0.0030652 ]]),\n",
       " array([[-4.38643419e-05, -1.47479355e-03,  9.78860633e-04,\n",
       "          4.53219652e-04]]),\n",
       " array([[-0.00848596, -0.00395906,  0.00449222],\n",
       "        [ 0.00061844,  0.01346557,  0.00241135],\n",
       "        [ 0.00894102, -0.00114459, -0.01013172],\n",
       "        [ 0.00462715, -0.00038039,  0.01188394]]),\n",
       " array([[ 8.92514969e-06, -1.12368968e-05,  2.31174715e-06]]))"
      ]
     },
     "execution_count": 19,
     "metadata": {},
     "output_type": "execute_result"
    }
   ],
   "source": [
    "# update the parameters\n",
    "w1 += -lr * dw1\n",
    "b1 += -lr * db1\n",
    "w2 += -lr * dw2\n",
    "b2 += -lr * db2\n",
    "w1, b1, w2, b2"
   ]
  },
  {
   "cell_type": "markdown",
   "metadata": {},
   "source": [
    "The parameters are updated until the convergence takes place (error goes down)."
   ]
  },
  {
   "cell_type": "markdown",
   "metadata": {},
   "source": [
    "### Summary of the entire process\n",
    "A single gradient descent for weight update looks as follows,\n",
    "\n",
    "<img src = \"../artifacts/neural_networks_53.png\" alt = \"drawing\" width = 500>\n",
    "\n",
    "The derivatives are as follows,\n",
    "\n",
    "<img src = \"../artifacts/neural_networks_54.png\" alt = \"drawing\" width = 500>\n",
    "\n",
    "Notice that,\n",
    "- $dz^2$ is used for the calculation of $dw^2$, $db^2$ and $da^1$.\n",
    "- Similarly, $da^1$ is used for the calculation of $dz^1$.\n",
    "- And, $dz^1$ is used used for the calculation of $dw^1$ and $db^1$.\n",
    "\n",
    "In order to not calculate the values of deeper derivatives, i.e., $da^1$, $dz^1$ over and over again, the derivatives of deeper layers are calculated and stored. The stored values can be used to calculate the derivative of the shallow layers. This is called memoization, it is also used in dynamic programming.\n",
    "\n",
    "The following is the simplified flowchart of single cycle of updation,\n",
    "\n",
    "<img src = \"../artifacts/neural_networks_55.png\" alt = \"drawing\" width = 500>\n",
    "\n",
    "During forward propagation,\n",
    "- The values of $z^j$, $w^j$, $b^j$ in order to use them during back propagation.\n",
    "- For example, $da^1$ used $w^2$ for its calculation."
   ]
  },
  {
   "cell_type": "markdown",
   "metadata": {},
   "source": [
    "### Consolidated code"
   ]
  },
  {
   "cell_type": "code",
   "execution_count": 20,
   "metadata": {},
   "outputs": [
    {
     "name": "stdout",
     "output_type": "stream",
     "text": [
      "Iteration = 0, Loss = -1.098593567394952\n",
      "Iteration = 1000, Loss = -0.6981198499105846\n",
      "Iteration = 2000, Loss = -0.7087324682684372\n",
      "Iteration = 3000, Loss = -0.7195255090352034\n",
      "Iteration = 4000, Loss = -0.6845686421376971\n",
      "Iteration = 5000, Loss = -0.6922983956192361\n",
      "Iteration = 6000, Loss = -0.6906546200056994\n",
      "Iteration = 7000, Loss = -0.7305246281941238\n",
      "Iteration = 8000, Loss = -0.6899064250492372\n",
      "Iteration = 9000, Loss = -0.708630118702977\n"
     ]
    }
   ],
   "source": [
    "df = pd.read_csv(\"spiral.csv\")\n",
    "\n",
    "# separating features and labels\n",
    "x = df.drop(columns = [\"y\"])\n",
    "y = df[\"y\"]\n",
    "\n",
    "# randomly initialize parameters\n",
    "d = 2\n",
    "n = 3\n",
    "h = 4 # size of the hidden layer\n",
    "w1 = 0.01 * np.random.randn(d, h)\n",
    "b1 = np.zeros((1, h))\n",
    "w2 = 0.01 * np.random.randn(h, n)\n",
    "b2 = np.zeros((1, n))\n",
    "\n",
    "# hyperparameters\n",
    "lr = 1e-0\n",
    "reg = 1e-3 # regularization strength\n",
    "num_examples = x.shape[0]\n",
    "\n",
    "for i in range(10000):\n",
    "\n",
    "    # forward propagation\n",
    "    z1 = np.dot(x, w1) + b1\n",
    "    a1 = np.maximum(0, z1)\n",
    "    z2 = np.dot(a1, w2) + b2\n",
    "    z2_exp = np.exp(z2)\n",
    "    a2 = z2_exp/ np.sum(z2_exp, axis = 1, keepdims = True)\n",
    "    probs = a2\n",
    "\n",
    "    # calculate loss\n",
    "    correct_logprobs = np.log(probs[range(num_examples), y])\n",
    "    data_loss = np.sum(correct_logprobs)/ num_examples\n",
    "    reg_loss = 0.5 * reg * np.sum(w1 * w1) + 0.5 * reg * np.sum(w2 * w2) # regularization\n",
    "    loss = data_loss + reg_loss # adding regularization to loss\n",
    "    if i % 1000 == 0:\n",
    "        print(f\"Iteration = {i}, Loss = {loss}\")\n",
    "\n",
    "    # backward propagation\n",
    "    # compute the gradient on scores\n",
    "    dz2 = probs\n",
    "    dz2[range(num_examples), y] -= 1\n",
    "    dz2 /= num_examples\n",
    "\n",
    "    # first back prop into parameters w2 and b2\n",
    "    dw2 = np.dot(a1.T, dz2)\n",
    "    db2 = np.sum(dz2, axis = 0, keepdims = True)\n",
    "    # next backprop into hidden layer a1\n",
    "    da1 = np.dot(dz2, w2.T)\n",
    "    # back prop the ReLU non-linearity\n",
    "    da1[z1 <= 0] = 0\n",
    "    # finally into w and b\n",
    "    dz1 = da1\n",
    "    dw1 = np.dot(x.T, dz1)\n",
    "    db1 = np.sum(dz1, axis = 0, keepdims = True)\n",
    "\n",
    "    # add regularization gradient contribution\n",
    "    dw2 += reg * w2\n",
    "    dw1 += reg * w1\n",
    "\n",
    "    # update the parameters\n",
    "    w1 += -lr * dw1\n",
    "    b1 += -lr * db1\n",
    "    w2 += -lr * dw2\n",
    "    b2 += -lr * db2"
   ]
  },
  {
   "cell_type": "markdown",
   "metadata": {},
   "source": [
    "### All code wrapped in a class"
   ]
  },
  {
   "cell_type": "code",
   "execution_count": 21,
   "metadata": {},
   "outputs": [],
   "source": [
    "class NN:\n",
    "\n",
    "    def __init__(self, n_features, n_hidden, n_classes):\n",
    "        self.d = n_features\n",
    "        self.h = n_hidden\n",
    "        self.n = n_classes\n",
    "        self.W1 = 0.01 * np.random.randn(self.d, self.h)\n",
    "        self.b1 = np.zeros((1,self.h))\n",
    "        self.W2 = 0.01 * np.random.randn(self.h,self.n)\n",
    "        self.b2 = np.zeros((1,self.n))\n",
    "\n",
    "    def fwd_prop(self, X):\n",
    "        Z1 = np.dot(X, self.W1) + self.b1\n",
    "        A1 = np.maximum(0, Z1)\n",
    "        Z2 = np.dot(A1, self.W2) + self.b2\n",
    "        Z2 = np.exp(Z2)\n",
    "        A2 = Z2 / np.sum(Z2, axis=1, keepdims=True)\n",
    "        return A1, A2\n",
    "\n",
    "    def cce_loss(self, y, probs):\n",
    "        num_examples = y.shape[0]\n",
    "        correct_logprobs = -np.log(probs[range(num_examples),y])\n",
    "        loss = np.sum(correct_logprobs)/num_examples\n",
    "        return loss\n",
    "\n",
    "    def back_prop(self, X, A1, A2, y):\n",
    "        # compute the gradient on scores\n",
    "        num_examples = y.shape[0]\n",
    "        dZ2 = A2\n",
    "        dZ2[range(num_examples),y] -= 1\n",
    "        dZ2 /= num_examples\n",
    "        # first backprop into parameters W2 and b2\n",
    "        dW2 = np.dot(A1.T, dZ2)\n",
    "        db2 = np.sum(dZ2, axis=0, keepdims=True)\n",
    "        # next backprop into hidden layer, A1\n",
    "        dA1 = np.dot(dZ2, self.W2.T)\n",
    "        # backprop the ReLU non-linearity\n",
    "        dA1[A1 <= 0] = 0\n",
    "        # finally into W,b\n",
    "        dZ1 = dA1\n",
    "        dW1 = np.dot(X.T, dZ1)\n",
    "        db1 = np.sum(dZ1, axis=0, keepdims=True)\n",
    "        return dW1, db1, dW2, db2\n",
    "\n",
    "    def fit(self, X, lr, reg, max_iters):\n",
    "        num_examples = X.shape[0]\n",
    "        for i in range(max_iters):\n",
    "            #foward prop\n",
    "            A1, A2 = self.fwd_prop(X)\n",
    "            # calculate loss\n",
    "            data_loss = self.cce_loss(y, A2)\n",
    "            reg_loss = 0.5*reg*np.sum(self.W1*self.W1) + 0.5*reg*np.sum(self.W2*self.W2)\n",
    "            loss = data_loss + reg_loss\n",
    "\n",
    "            if i % 1000 == 0:\n",
    "                print(\"iteration %d: loss %f\" % (i, loss))\n",
    "\n",
    "            dW1, db1, dW2, db2  = self.back_prop(X, A1, A2, y)\n",
    "\n",
    "            # add regularization gradient contribution\n",
    "            dW2 += reg * self.W2\n",
    "            dW1 += reg * self.W1\n",
    "\n",
    "            # perform a parameter update\n",
    "            self.W1 += -lr * dW1\n",
    "            self.b1 += -lr * db1\n",
    "            self.W2 += -lr * dW2\n",
    "            self.b2 += -lr * db2\n",
    "\n",
    "    def predict(self, X):\n",
    "        A1 = np.maximum(0, np.dot(X, self.W1) + self.b1) # ReLU(Z1) = ReLU(W1T. X + b1)\n",
    "        Z2 = np.dot(A1, self.W2) + self.b2 # Z2 = W2T.A1 + b2 => 3 probab\n",
    "        y_hat = np.argmax(Z2, axis=1) # taking index of max probab\n",
    "        return y_hat"
   ]
  },
  {
   "cell_type": "code",
   "execution_count": 22,
   "metadata": {},
   "outputs": [],
   "source": [
    "# from matplotlib import pyplot as plt\n",
    "# # create a 2D grid\n",
    "# step = 0.02\n",
    "# x_min, x_max = X[:, 0].min() - 1, X[:, 0].max() + 1\n",
    "# y_min, y_max = X[:, 1].min() - 1, X[:, 1].max() + 1\n",
    "# xx, yy = np.meshgrid(np.arange(x_min, x_max, step), np.arange(y_min, y_max, step))\n",
    "\n",
    "# # predict for all the points in the grid\n",
    "\n",
    "# y_hat = nn_model.predict(np.c_[xx.ravel(), yy.ravel()])\n",
    "# y_hat = y_hat.reshape(xx.shape)\n",
    "\n",
    "# # plot\n",
    "# fig = plt.figure()\n",
    "# plt.contourf(xx, yy, y_hat, cmap=plt.cm.Spectral, alpha=0.8)\n",
    "# plt.scatter(X[:, 0], X[:, 1], c=y, s=40, cmap=plt.cm.Spectral)\n",
    "# plt.xlim(xx.min(), xx.max())\n",
    "# plt.ylim(yy.min(), yy.max())\n",
    "# plt.show()"
   ]
  },
  {
   "cell_type": "markdown",
   "metadata": {},
   "source": [
    "# `sklearn` Implementation of Neural Network\n",
    "Each unit of Neural Network is also called as Perceptron, and Neural Network as a whole is called Multi-Layer Perceptron.\n",
    "\n",
    "Documentation of `sklearn` MLP classifier: https://scikit-learn.org/stable/modules/generated/sklearn.neural_network.MLPClassifier.html."
   ]
  },
  {
   "cell_type": "code",
   "execution_count": 23,
   "metadata": {},
   "outputs": [],
   "source": [
    "df = pd.read_csv(\"spiral.csv\")\n",
    "\n",
    "# separating features and labels\n",
    "x = df.drop(columns = [\"y\"])\n",
    "y = df[\"y\"]"
   ]
  },
  {
   "cell_type": "code",
   "execution_count": 25,
   "metadata": {},
   "outputs": [
    {
     "name": "stdout",
     "output_type": "stream",
     "text": [
      "0.9933333333333333\n"
     ]
    },
    {
     "name": "stderr",
     "output_type": "stream",
     "text": [
      "/Library/Frameworks/Python.framework/Versions/3.11/lib/python3.11/site-packages/sklearn/neural_network/_multilayer_perceptron.py:545: ConvergenceWarning: lbfgs failed to converge (status=1):\n",
      "STOP: TOTAL NO. of ITERATIONS REACHED LIMIT.\n",
      "\n",
      "Increase the number of iterations (max_iter) or scale the data as shown in:\n",
      "    https://scikit-learn.org/stable/modules/preprocessing.html\n",
      "  self.n_iter_ = _check_optimize_result(\"lbfgs\", opt_res, self.max_iter)\n"
     ]
    }
   ],
   "source": [
    "from sklearn.neural_network import MLPClassifier\n",
    "mlp = MLPClassifier(\n",
    "    solver = \"lbfgs\",\n",
    "    alpha = 1e-5,\n",
    "    hidden_layer_sizes = (100),\n",
    "    random_state = 100,\n",
    "    activation = \"relu\",\n",
    "    max_iter = 200\n",
    ")\n",
    "mlp.fit(x, y)\n",
    "print(mlp.score(x, y))"
   ]
  },
  {
   "cell_type": "code",
   "execution_count": 26,
   "metadata": {},
   "outputs": [
    {
     "data": {
      "text/plain": [
       "2"
      ]
     },
     "execution_count": 26,
     "metadata": {},
     "output_type": "execute_result"
    }
   ],
   "source": [
    "len(mlp.coefs_)"
   ]
  },
  {
   "cell_type": "code",
   "execution_count": 27,
   "metadata": {},
   "outputs": [
    {
     "data": {
      "text/plain": [
       "2"
      ]
     },
     "execution_count": 27,
     "metadata": {},
     "output_type": "execute_result"
    }
   ],
   "source": [
    "len(mlp.intercepts_)"
   ]
  },
  {
   "cell_type": "code",
   "execution_count": 28,
   "metadata": {},
   "outputs": [
    {
     "data": {
      "text/plain": [
       "np.float64(0.012053740037746936)"
      ]
     },
     "execution_count": 28,
     "metadata": {},
     "output_type": "execute_result"
    }
   ],
   "source": [
    "mlp.loss_"
   ]
  },
  {
   "cell_type": "code",
   "execution_count": 29,
   "metadata": {},
   "outputs": [
    {
     "name": "stderr",
     "output_type": "stream",
     "text": [
      "/Library/Frameworks/Python.framework/Versions/3.11/lib/python3.11/site-packages/sklearn/base.py:493: UserWarning: X does not have valid feature names, but MLPClassifier was fitted with feature names\n",
      "  warnings.warn(\n"
     ]
    },
    {
     "data": {
      "text/plain": [
       "(-1.8585153350667682, 1.901484664933235)"
      ]
     },
     "execution_count": 29,
     "metadata": {},
     "output_type": "execute_result"
    },
    {
     "data": {
      "image/png": "[encoded data removed]",
      "text/plain": [
       "<Figure size 640x480 with 1 Axes>"
      ]
     },
     "metadata": {},
     "output_type": "display_data"
    }
   ],
   "source": [
    "# create a 2D grid\n",
    "step = 0.02\n",
    "x_min = x[\"x1\"].min() - 1 # obtain the minimum value from the first column\n",
    "x_max = x[\"x1\"].max() + 1 # obtain the maximum value from the first column\n",
    "y_min = x[\"x2\"].min() - 1 # obtain the minimum value from the second column\n",
    "y_max = x[\"x2\"].max() + 1 # obtain the maximum value from the second column\n",
    "xx, yy = np.meshgrid(np.arange(x_min, x_max, step), np.arange(y_min, y_max, step))\n",
    "\n",
    "# predict all the points in the grid\n",
    "# concatenates along the second axis\n",
    "y_pred = mlp.predict(np.c_[xx.ravel(), yy.ravel()])\n",
    "y_pred = y_pred.reshape(xx.shape)\n",
    "\n",
    "# plot\n",
    "fig = plt.figure()\n",
    "plt.contour(xx, yy, y_pred, cmap = plt.cm.Spectral, alpha = 0.8)\n",
    "plt.scatter(x[\"x1\"], x[\"x2\"], c = y, s = 40, cmap = plt.cm.Spectral)\n",
    "plt.xlim(xx.min(), xx.max())\n",
    "plt.ylim(yy.min(), yy.max())"
   ]
  },
  {
   "cell_type": "markdown",
   "metadata": {},
   "source": [
    "# Neural Networks For Regression\n",
    "\n",
    "<img src = \"../artifacts/neural_networks_56.png\" alt = \"drawing\" width = \"500\">\n",
    "\n",
    "If the last neuron in chain is,\n",
    "- Linear: The Neural Network will perform regression (e.g., $y = x$).\n",
    "- Probabilistic: The Neural Network will perform classification (e.g., $y = \\sigma(x)$).\n",
    "\n",
    "### Should the activation functions in intermediate layers be linear too?\n",
    "No. If all layers in a Neural Network had linear activation function, then the Neural Network would not be able to create higher order complex features. \n",
    "\n",
    "Also, the entire Network would collapse into a single layer, no matter how deep it is. This is because the composition of linear functions is still a linear function.\n",
    "\n",
    "Therefore, the activation functions in the intermediate layers should always be non-linear."
   ]
  }
 ],
 "metadata": {
  "kernelspec": {
   "display_name": "Python 3",
   "language": "python",
   "name": "python3"
  },
  "language_info": {
   "codemirror_mode": {
    "name": "ipython",
    "version": 3
   },
   "file_extension": ".py",
   "mimetype": "text/x-python",
   "name": "python",
   "nbconvert_exporter": "python",
   "pygments_lexer": "ipython3",
   "version": "3.11.9"
  }
 },
 "nbformat": 4,
 "nbformat_minor": 2
}
