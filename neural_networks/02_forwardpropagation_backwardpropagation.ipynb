{
 "cells": [
  {
   "cell_type": "markdown",
   "metadata": {},
   "source": [
    "# Building A Model For Multi-Class Classification\n",
    "A simple Logistic Regression cannot be used to for multi-class classification. A simple Logistic Regression is equivalent to single-neuron model and can only be used to classify 2 classes. In order to implement Logistic Regression for multi-class classification multiple Logistic Regression models will have to be built (OvR).\n",
    "\n",
    "Therefore, if there are 3 classes, then 3 models will have to be trained.\n",
    "\n",
    "<img src = \"../artifacts/neural_networks_11.png\" alt = \"drawing\" width = \"500\"/>\n",
    "\n",
    "### Can the above be accomplished using a single model?\n",
    "In multi-class classification,\n",
    "- The probability of a given data point belonging to either one of the classes (A, B or C) is calculated.\n",
    "- The data point would be classified into the class for which the probability value was the highest.\n",
    "\n",
    "An intuition that the output layer should have 3 outputs (one for each class) can be drawn from the above.\n",
    "\n",
    "Therefore, the Neural Network looks as follows,\n",
    "\n",
    "<img src = \"../artifacts/neural_networks_12.png\" alt = \"drawing\" width = \"500\"/>\n",
    "\n",
    "Observations,\n",
    "- The number of outputs are the same.\n",
    "- The number of connections are the same.\n",
    "\n",
    "The difference,\n",
    "- Computation happens together.\n",
    "\n",
    "So, instead of a weight vector, the weight matrix is multiplied with data matrix.\n",
    "\n",
    "A model built by using multiple neurons is called a Neural Network (NN)."
   ]
  },
  {
   "cell_type": "markdown",
   "metadata": {},
   "source": [
    "# Notations In Neural Networks\n",
    "### Inputs\n",
    "Consider that there are 2 features, $x_1$ and $x_2$ and $m$ data points. This is represeted as a matrix where each row is a data point. It looks as,\n",
    "\n",
    "$\\begin{bmatrix}x_{11} & x_{12} \\\\x_{21} & x_{i2} \\\\...  & ...  \\\\x_{m1} & x_{m2}\\end{bmatrix}$\n",
    "\n",
    "### Neuron\n",
    "Neuron is represented using $f_i$. \n",
    "\n",
    "Where,\n",
    "- $i$ = neuron number. For example, $f_1$ is representing the first neuron.\n",
    "\n",
    "### Weights\n",
    "Weights are defined by the notation $w_{ij}$.\n",
    "\n",
    "Where,\n",
    "- $i$ = source neuron\n",
    "- $j$ = destination neuron\n",
    "\n",
    "The weight associated with input $x_1$ going to neuron $f_2$ is represented as $w_{12}$. Similarly, other weights are represented as, $w_{11}$, $w_{13}$, $w_{21}$, $w_{22}$, $w_{23}$.\n",
    "\n",
    "### Bias\n",
    "Each neuron will have a bias term associated with it. The bias matrix is represented as,\n",
    "\n",
    "$b = \\begin{bmatrix}\n",
    "b_1 \\space b_2 \\space b_3\n",
    "\\end{bmatrix}$\n",
    "\n",
    "### Z value\n",
    "Z value represents the linear operation, i.e., additive multiplication of inputs with their respective weights.\n",
    "- $z_1 = w_{11} * x_1 + w_{21} * x_2$.\n",
    "- $z_2 = w_{12} * x_1 + w_{22} * x_2$.\n",
    "- $z_3 = w_{13} * x_1 + w_{23} * x_2$.\n",
    "\n",
    "### Output\n",
    "Each neuron will apply its activation function on the x values to the outputs: $a_1'$, $a_2'$, $a_3'$.\n",
    "\n",
    "<img src = \"../artifacts/neural_networks_13.png\" alt = \"drawing\" width = \"500\">\n",
    "\n",
    "### Problem with this formulation\n",
    "What if the model predict a probability value greater than 0.5 for multiple classes (i.e., $A$, $B$, $C$ = $\\begin{bmatrix}1 \\space 1 \\space 0\\end{bmatrix}$ or $A$, $B$, $C$ = $\\begin{bmatrix}1 \\space 1 \\space 1\\end{bmatrix}$)?\n",
    "\n",
    "<img src = \"../artifacts/neural_networks_14.png\" alt = \"drawing\" width = \"500\">\n",
    "\n",
    "The actual requirement is that, the sum of all output probabilities should be equal to 1.\n",
    "\n",
    "### How can multiple outputs be 1?\n",
    "Since the sigmoid activation function is applied to each output and the range of the sigmoid function is, $\\sigma \\in (0, 1)$. Therefore, multiple probabilitiy values can be greater than 0.5 and hence multiple class labels can be 1."
   ]
  },
  {
   "cell_type": "markdown",
   "metadata": {},
   "source": [
    "# Softmax Classifier\n",
    "Consider 3 outputs, $z_1$, $z_2$ and $z_3$. A function that should map $z_1$, $z_2$ and $z_3$ such that the sum total of the output probabilities is equal to 1 is required.\n",
    "\n",
    "The softmax function helps in achieving exactly this. The softmax function is mathematicall represented as,\n",
    "\n",
    "$p_i = \\frac{e^{z_i}}{\\sum_{i = 0}^{k} e^{z_i}}$.\n",
    "\n",
    "Here $p_i$ refers to the probability of the data point belonging to class i. There denominator in the equation is the normalization term to make $p_1 + p_2 + p_3 = 1$.\n",
    "\n",
    "Softmax can be thought of as sigmoid like function for multi-class setting.\n",
    "\n",
    "### Why not directly use $\\frac{{z_i}}{\\sum_{i = 0}^{k} {z_i}}$? Why exponentiate $z_i$?\n",
    "The intuitive reason is that it ensures that values are non-negative and lie only between 0 and 1 (the value of $z_i$ ranges from $-\\infty\\$ and $\\infty$).\n",
    "\n",
    "Besides this, softmax function has some other desirable properties,\n",
    "1. It is nicely differentiable $\\frac{de^{x}}{dx} = e_x$.\n",
    "2. The output probabilities can be interpreted as log likelihoods (log odds).\n",
    "\n",
    "Now consider the following representation,\n",
    "\n",
    "<img src = \"../artifacts/neural_networks_15.png\" alt = \"drawing\" width = \"500\">\n",
    "\n",
    "If the normalized z values were instead of exponential,\n",
    "- The ration of the probability would be 1: 3: 6.\n",
    "- However, softmax pushes the probability of largest number closer to 1. Hence the term softmax.\n",
    "\n",
    "Hence, softmax is used as the activation function in NN."
   ]
  },
  {
   "cell_type": "markdown",
   "metadata": {},
   "source": [
    "# Training A Neural Network"
   ]
  },
  {
   "cell_type": "code",
   "execution_count": 1,
   "metadata": {},
   "outputs": [],
   "source": [
    "import numpy as np\n",
    "import pandas as pd\n",
    "import matplotlib.pyplot as plt\n",
    "import seaborn as sns"
   ]
  },
  {
   "cell_type": "code",
   "execution_count": 2,
   "metadata": {},
   "outputs": [
    {
     "data": {
      "text/html": [
       "<div>\n",
       "<style scoped>\n",
       "    .dataframe tbody tr th:only-of-type {\n",
       "        vertical-align: middle;\n",
       "    }\n",
       "\n",
       "    .dataframe tbody tr th {\n",
       "        vertical-align: top;\n",
       "    }\n",
       "\n",
       "    .dataframe thead th {\n",
       "        text-align: right;\n",
       "    }\n",
       "</style>\n",
       "<table border=\"1\" class=\"dataframe\">\n",
       "  <thead>\n",
       "    <tr style=\"text-align: right;\">\n",
       "      <th></th>\n",
       "      <th>x1</th>\n",
       "      <th>x2</th>\n",
       "      <th>y</th>\n",
       "    </tr>\n",
       "  </thead>\n",
       "  <tbody>\n",
       "    <tr>\n",
       "      <th>0</th>\n",
       "      <td>0.000000</td>\n",
       "      <td>0.000000</td>\n",
       "      <td>0</td>\n",
       "    </tr>\n",
       "    <tr>\n",
       "      <th>1</th>\n",
       "      <td>-0.000650</td>\n",
       "      <td>0.010080</td>\n",
       "      <td>0</td>\n",
       "    </tr>\n",
       "    <tr>\n",
       "      <th>2</th>\n",
       "      <td>0.009809</td>\n",
       "      <td>0.017661</td>\n",
       "      <td>0</td>\n",
       "    </tr>\n",
       "    <tr>\n",
       "      <th>3</th>\n",
       "      <td>0.007487</td>\n",
       "      <td>0.029364</td>\n",
       "      <td>0</td>\n",
       "    </tr>\n",
       "    <tr>\n",
       "      <th>4</th>\n",
       "      <td>-0.000027</td>\n",
       "      <td>0.040404</td>\n",
       "      <td>0</td>\n",
       "    </tr>\n",
       "  </tbody>\n",
       "</table>\n",
       "</div>"
      ],
      "text/plain": [
       "         x1        x2  y\n",
       "0  0.000000  0.000000  0\n",
       "1 -0.000650  0.010080  0\n",
       "2  0.009809  0.017661  0\n",
       "3  0.007487  0.029364  0\n",
       "4 -0.000027  0.040404  0"
      ]
     },
     "execution_count": 2,
     "metadata": {},
     "output_type": "execute_result"
    }
   ],
   "source": [
    "df = pd.read_csv(\"spiral.csv\")\n",
    "df.head()"
   ]
  },
  {
   "cell_type": "code",
   "execution_count": 3,
   "metadata": {},
   "outputs": [
    {
     "data": {
      "image/png": "[encoded data removed]",
      "text/plain": [
       "<Figure size 640x480 with 1 Axes>"
      ]
     },
     "metadata": {},
     "output_type": "display_data"
    }
   ],
   "source": [
    "# visualizing the label\n",
    "plt.scatter(df[\"x1\"], df[\"x2\"], c = df[\"y\"], s = 40, cmap = plt.cm.Spectral)\n",
    "plt.show()"
   ]
  },
  {
   "cell_type": "code",
   "execution_count": 4,
   "metadata": {},
   "outputs": [
    {
     "data": {
      "text/plain": [
       "y\n",
       "0    100\n",
       "1    100\n",
       "2    100\n",
       "Name: count, dtype: int64"
      ]
     },
     "execution_count": 4,
     "metadata": {},
     "output_type": "execute_result"
    }
   ],
   "source": [
    "# classes and number of data points under each class\n",
    "df[\"y\"].value_counts()"
   ]
  },
  {
   "cell_type": "code",
   "execution_count": 5,
   "metadata": {},
   "outputs": [
    {
     "data": {
      "text/plain": [
       "((300, 2), (300,))"
      ]
     },
     "execution_count": 5,
     "metadata": {},
     "output_type": "execute_result"
    }
   ],
   "source": [
    "# separating features and labels\n",
    "x = df.drop(columns = [\"y\"])\n",
    "y = df[\"y\"]\n",
    "\n",
    "x.shape, y.shape"
   ]
  },
  {
   "cell_type": "markdown",
   "metadata": {},
   "source": [
    "### How many number of coefficients ($w$) will this model consisting of 3 Logistic Regression or 3 Neurons have?\n",
    "- There are 2 features, $x_1$ and $x_2$ that will be fed as input to 3 neurons, $d$ = 2.\n",
    "- Number of Logistic Regression units or Neurons = Number of classes, $n$ = 3. Thus,\n",
    "    - LR1 has 2 $w$.\n",
    "    - LR2 has 2 $w$.\n",
    "    - LR3 has 2 $w$.\n",
    "- Therefore the model will have a total of 6 coefficients ($w$).\n",
    "\n",
    "### What should be the shape of $w$?\n",
    "Before deciding on the shape of $w$, consider the data matrix and the output matrix.\n",
    "- Data matrix:\n",
    "    - There are a total of m training examples. Each of which contains 2 features ($d = 2$).\n",
    "    - The data matrix $x$, has a shape of `mxd`.\n",
    "- Output matrix:\n",
    "    - There are 3 values representing 3 outputs, i.e., probabilities of the data point belonging to $A$, $B$ and $C$.\n",
    "    - Let $n = 3$. Therefore, there are 3 output for the $m$ examples.\n",
    "    - Therefore, the shape of the output matrix is `mxn`.\n",
    "- Weight matrix:\n",
    "    - In order to get the output matrix as a dot product of data and weight matrices, the shape of weight matrix has to be, `dxn`.\n",
    "    - Therefore, $w' = \\begin{bmatrix}w_{11} & w_{12} & w_{13}\\\\w_{21} & w_{22} & w_{23}\\end{bmatrix}_{dxn}$.\n",
    "\n",
    "<img src = \"../artifacts/neural_networks_16.png\" alt = \"drawing\" width = \"500\">\n",
    "\n",
    "### How many bias parameters ($b$) will the model have?\n",
    "- Since there are 3 ($n$ = 3) Neurons and there is 1 bias term per LRU, the model will have $n$ bias terms.\n",
    "- The bias term is added to the dot product of $x$ and $w$.\n",
    "- Therefore, the shape of the bias matrix will be `mxn`.\n",
    "\n",
    "However, the value of bias will not change for different data points. The same bias values can be broadcasted for $m$ examples. Therefore, the shape of the bias matrix becomes `1xn`.\n",
    "\n",
    "### Vectorized implementation\n",
    "\n",
    "$\\begin{bmatrix}x_{11} & x_{12} \\\\x_{21} & x_{i2} \\\\...  & ...  \\\\x_{m1} & x_{m2}\\end{bmatrix}_{mxd} . \\begin{bmatrix}w_{11} & w_{12} & w_{13}\\\\w_{21} & w_{22} & w_{23}\\end{bmatrix}_{dxn} + \\begin{bmatrix}b_{1} & b_{2} & b_{3} \\\\b_{1} & b_{2} & b_{3} \\\\...  & ...  \\\\b_{1} & b_{2} & b_{3}\\end{bmatrix}_{1xn} = \\begin{bmatrix}z_{11} & z_{12} & z_{13} \\\\z_{21} & z_{22} & z_{23} \\\\...  & ...  \\\\z_{m1} & x_{m2} & z_{m3}\\end{bmatrix}_{mxn}$.\n",
    "\n",
    "$x.w + b = z$.\n",
    "\n",
    "$\\text{Probability} = A = \\text{Softmax}(z)$."
   ]
  },
  {
   "cell_type": "markdown",
   "metadata": {},
   "source": [
    "# Categorical Cross Entropy\n",
    "### What is the loss function used in Logistic Regression?\n",
    "Log-Loss. It is mathematically represented by, $\\text{Log Loss} = (y_i * \\log{(y_{pred})}) - ((1 - y_i) * \\log{(1 - y_{pred})})$.\n",
    "\n",
    "### Can Log-Loss be used in for multi-class classification problems.\n",
    "No, the Log-Loss function is tailored for binary classification problems.\n",
    "\n",
    "There is a need of a separate loss function for multi-class classification problems.\n",
    "\n",
    "Consider a data point $x_i$,\n",
    "- It can belong to one of the $n$ classes.\n",
    "- Let $P_{ij}$ be the probability of $x_i$ belonging to the class $j$, where, $j \\in (1, n)$.\n",
    "\n",
    "### How will $y_i$ be represented?\n",
    "The $y_i$'s will be One-Hot Encoded. For example, if $y_i$ = 2 (i.e., belongs to class 2), then only $y_{i2}$ will be represented with a 1, the rest will all be 0 (i.e., [0, 1, 0]).\n",
    "\n",
    "Cross entropy for i-th data point will be, $CE_i = - \\sum_{j = 1}^n y_{ij} \\log{(P_{ij})}$.\n",
    "\n",
    "### What happens to cross entropy when $k$ = 2? (number of class = 2)?\n",
    "When $k$ = 2, i.e., class 1 and class 2, $CE$ becomes,\n",
    "\n",
    "$CE_i = -[y_{i1} \\log(P_{i1}) + y_{i2} \\log(P_{i2})]$.\n",
    "\n",
    "Where,\n",
    "- $y_{i1}$, $y_{i2}$ = OHE target label.\n",
    "- $P_{i1}$, $P_{i2}$ = Probabilities of data points belonging to class 1 and class 2.\n",
    "\n",
    "Suppose that the data point belongs to class 1. In this case,\n",
    "- $y_{i1}$ = 1.\n",
    "- $y_{i2}$ = 0.\n",
    "\n",
    "Hence,\n",
    "- $P_{i2}$ can be written as $(1 - P_{i1})$.\n",
    "- $y_{i2}$ can be written as $(1 - y_{i1})$.\n",
    "\n",
    "Essentially, the log-loss is exteneded for multi-class classification problems.\n",
    "\n",
    "Note that, log-loss is also known as binary cross entropy.\n",
    "\n",
    "To summarize,\n",
    "- In binary setting,\n",
    "    - Sigmoid is used to find the probability.\n",
    "    - Binary cross entropy is used as the loss function.\n",
    "- In multi-class setting,\n",
    "    - Softmax is used to find the probability.\n",
    "    - Cross entropy is used as the loss function.\n",
    "\n",
    "Simplified explanation,\n",
    "- Simplifying the calculation: In essence, the cross-entropy loss for a single sample reduces to the negative logarithm of the predicted probability for the correct class.\n",
    "- Why the simplification works: This simplification occurs because the true label ($y_i$) is 1 for the correct class and 0 for all other classes. When multiplied by the corresponding log probability, the terms for incorrect classes become zero.\n",
    "- Calculating cross-entropy loss per sample: Let's calculate the cross-entropy loss for each individual sample and denote it as error.\n",
    "- Computing the full loss: To obtain the overall loss for the entire dataset, we average these individual error values."
   ]
  },
  {
   "cell_type": "markdown",
   "metadata": {},
   "source": [
    "# Training Softmax Classifier Using Gradient Descent\n",
    "### Steps\n",
    "1. Initialize the parameters, i.e., the matrices, $w$ and $b$.\n",
    "2. Calculate the output using the hypothesis.\n",
    "3. Calculate the error, $J$.\n",
    "4. Repeat the following until $J$ converges,\n",
    "    - Update, $w_i = w_i - lr * \\frac{∂J}{∂w_i}$.\n",
    "    - Calculate the output using the hypothesis and updated parameters.\n",
    "    - Calculate the error $J$."
   ]
  },
  {
   "cell_type": "markdown",
   "metadata": {},
   "source": [
    "### Step 1: Initialize the parameters"
   ]
  },
  {
   "cell_type": "code",
   "execution_count": 6,
   "metadata": {},
   "outputs": [
    {
     "data": {
      "text/plain": [
       "(2, 3, 300)"
      ]
     },
     "execution_count": 6,
     "metadata": {},
     "output_type": "execute_result"
    }
   ],
   "source": [
    "d = x.shape[1] # dimensionality or number of features\n",
    "n = len(np.unique(y)) # number of classes\n",
    "m = x.shape[0] # number of samples or data points\n",
    "d, n, m"
   ]
  },
  {
   "cell_type": "code",
   "execution_count": 7,
   "metadata": {},
   "outputs": [],
   "source": [
    "w = 0.01 * np.random.randn(d, n)\n",
    "b = np.zeros((1, n))"
   ]
  },
  {
   "cell_type": "markdown",
   "metadata": {},
   "source": [
    "### Step 2: Forward pass or forward propagation\n",
    "1. Calculate $z$ using $xw$.\n",
    "2. Apply softmax activation function on $x$,\n",
    "    - Raise $z$ to exponential $e^z$.\n",
    "    - Then normalize."
   ]
  },
  {
   "cell_type": "code",
   "execution_count": 8,
   "metadata": {},
   "outputs": [
    {
     "data": {
      "text/plain": [
       "(300, 3)"
      ]
     },
     "execution_count": 8,
     "metadata": {},
     "output_type": "execute_result"
    }
   ],
   "source": [
    "# compute the z values\n",
    "z = np.dot(x, w) + b\n",
    "z.shape # this should be mxn, i.e., number of data points x number of classes"
   ]
  },
  {
   "cell_type": "code",
   "execution_count": 9,
   "metadata": {},
   "outputs": [
    {
     "data": {
      "text/plain": [
       "((300, 3), (300, 3))"
      ]
     },
     "execution_count": 9,
     "metadata": {},
     "output_type": "execute_result"
    }
   ],
   "source": [
    "# raise the z values to exponential\n",
    "exp_z = np.exp(z)\n",
    "# calculate the probabilities\n",
    "probs = exp_z/ np.sum(exp_z, axis = 1, keepdims = True)\n",
    "exp_z.shape, probs.shape"
   ]
  },
  {
   "cell_type": "markdown",
   "metadata": {},
   "source": [
    "The following represents the above process.\n",
    "\n",
    "<img src = \"../artifacts/neural_networks_17.png\" alt = \"drawing\" width = \"500\">\n",
    "\n",
    "The $s$ in the above figure represents the softmax activation function."
   ]
  },
  {
   "cell_type": "markdown",
   "metadata": {},
   "source": [
    "### Step 3: Calculate the loss"
   ]
  },
  {
   "cell_type": "code",
   "execution_count": 10,
   "metadata": {},
   "outputs": [
    {
     "data": {
      "text/plain": [
       "(300,)"
      ]
     },
     "execution_count": 10,
     "metadata": {},
     "output_type": "execute_result"
    }
   ],
   "source": [
    "y.shape"
   ]
  },
  {
   "cell_type": "code",
   "execution_count": 11,
   "metadata": {},
   "outputs": [
    {
     "data": {
      "text/plain": [
       "np.float64(1.096584274635943)"
      ]
     },
     "execution_count": 11,
     "metadata": {},
     "output_type": "execute_result"
    }
   ],
   "source": [
    "def loss(y, probs):\n",
    "    m = y.shape[0]\n",
    "    error = -np.log(probs[range(m), y])\n",
    "    return np.sum(error)/ m\n",
    "\n",
    "loss(y, probs)"
   ]
  },
  {
   "cell_type": "markdown",
   "metadata": {},
   "source": [
    "<img src = \"../artifacts/neural_networks_18.png\" alt = \"drawing\" width = \"500\">"
   ]
  },
  {
   "cell_type": "markdown",
   "metadata": {},
   "source": [
    "# Back Propagation\n",
    "The following is the Neural Network for the multi-class classification problem,\n",
    "\n",
    "<img src = \"../artifacts/neural_networks_19.png\" alt = \"drawing\" width = \"500\">\n",
    "\n",
    "The computational graph looks as follows,\n",
    "\n",
    "<img src = \"../artifacts/neural_networks_20.png\" alt = \"drawing\" width = \"500\">\n",
    "\n",
    "### How is the loss decreased in Logistic Regression?\n",
    "- The partial derivative of $J$ is calculated with respect to each, $w$ and $b$.\n",
    "- The parameter values of $w$ and $b$ are iteratively updated.\n",
    "\n",
    "The challenge with the above is that the derivative of $j$ with respect to $w$ and $b$ respectively cannot be calculated directly.\n",
    "\n",
    "But,\n",
    "- $J$ is directly dependent on $P$ and hence, $\\frac{\\partial J}{\\partial P_i}$ can be calculated.\n",
    "- Further, $P_9$ is in-turn dependent on $z$ and $z$ is dependent on $w$ and $b$.\n",
    "\n",
    "Therefore the chain rule can be used.\n",
    "\n",
    "<img src = \"../artifacts/neural_networks_21.png\" alt = \"drawing\" width = \"500\">\n",
    "\n",
    "$\\frac{\\partial J}{\\partial w} = \\frac{\\partial J}{\\partial z} * \\frac{\\partial z}{\\partial w}$.\n",
    "\n",
    "From the above image, $\\frac{\\partial J}{\\partial z}$ can be calculated as,\n",
    "\n",
    "$\\frac{\\partial J}{\\partial w} = \\frac{\\partial J}{\\partial P} * \\frac{\\partial P}{\\partial z} * \\frac{\\partial z}{\\partial w}$.\n",
    "\n",
    "Since $J$ (cost function) is the the final function that has to be optimized, a lot of intermediate calculations like $\\frac{\\partial J}{\\partial <var>}$ will be encountered. In Python, the gradients of $j$ ($\\frac{\\partial J}{\\partial w}$) will be represented as `dw` and the equation $\\frac{\\partial J}{\\partial w} = \\frac{\\partial J}{\\partial z} * \\frac{\\partial z}{\\partial w}$ can be represented as, $dw =  dz * \\frac{\\partial z}{\\partial w}$.\n",
    "\n",
    "Since the computation is from right to left across the computational graph, this is called as back propagation.\n",
    "\n",
    "### Calculating gradients using back propagation\n",
    "The partial derivative of $x$ with respect to $w$ is,\n",
    "- In LR, since $z = w^T * x$, $\\frac{\\partial z}{\\partial w} = x$.\n",
    "- To calculate `dz`, $dz = \\frac{\\partial J}{\\partial P} * \\frac{\\partial P}{\\partial z}$.\n",
    "\n",
    "The result for `dz` has a neat and intuitive solution represented by,\n",
    "\n",
    "$dz = (P_k - I(i = k))$\n",
    "\n",
    "Where,\n",
    "- $P_k$ = Predicted probability of the k-th class.\n",
    "- $I(i = k)$ = The indicator function, which is 1 if the current class $i$ is the correct class (i.e., $k$) and 0 otherwise.\n",
    "\n",
    "By subtracting the indicator function from the predicted probability, the error for each class is obtained. A positive value indicates that the model overestimates the probability, whicl a negative value indicated underestimation.\n",
    "\n",
    "Suppose that `probs = [0.2, 0.3, 0.5]` and the correct class is `0.3`. According to the formula, the gradients would be `dz = [0.2, -0.7, 0.5]`. If the ground truth `y` is saved as one-hot encoded vectors, then the above could be achieved by $P - y$ (`p - y`).\n",
    "\n",
    "One-hot encoding is a technique used to represent categorical data in a numerical format. In the context of classification problems, it's used to represent the true class labels.\n",
    "- One-hot encoded label: A vector of the same length as the number of classes, with a 1 at the index corresponding to the true class and 0s elsewhere.\n",
    "\n",
    "For example, if we have 3 classes and the true class is the second one, the one-hot encoded label would be `[0, 1, 0]`.\n",
    "\n",
    "By using one-hot encoding, we can simplify the dz calculation to: `dz = p - y`.\n",
    "\n",
    "Here, `p` is the vector of predicted probabilities and `y` is the one-hot encoded true label. This operation directly calculates the error for each class, which is equivalent to the `dz` calculation using the indicator function.\n",
    "\n",
    "### Why subtract 1 from the true class probability?\n",
    "The goal of backpropagation is to adjust the weights and biases in a way that reduces the loss function. In the case of logistic regression, the loss function is typically the cross-entropy loss.\n",
    "\n",
    "By subtracting 1 from the true class probability, the error between the predicted probability and the true probability is essentially being calculated (which is 1 for the correct class). This error term guides the update of weights and biases in the direction that reduces the overall loss."
   ]
  },
  {
   "cell_type": "code",
   "execution_count": 12,
   "metadata": {},
   "outputs": [],
   "source": [
    "# dz = probabilities of class\n",
    "dz = probs\n",
    "# subtracting 1 from class where i == j as dz = pi - I\n",
    "dz[range(m), y] -= 1\n",
    "# dz = dz/ m"
   ]
  },
  {
   "cell_type": "markdown",
   "metadata": {},
   "source": [
    "$\\frac{\\partial z_i}{\\partial w_i}$ is something that was calculated in LR as well and it will be equal to x.\n",
    "\n",
    "To calculate `dw`, `x` has to be multiplied with `dz`."
   ]
  },
  {
   "cell_type": "code",
   "execution_count": 13,
   "metadata": {},
   "outputs": [
    {
     "data": {
      "text/plain": [
       "(300, 2)"
      ]
     },
     "execution_count": 13,
     "metadata": {},
     "output_type": "execute_result"
    }
   ],
   "source": [
    "x.shape"
   ]
  },
  {
   "cell_type": "code",
   "execution_count": 14,
   "metadata": {},
   "outputs": [
    {
     "data": {
      "text/plain": [
       "(300, 3)"
      ]
     },
     "execution_count": 14,
     "metadata": {},
     "output_type": "execute_result"
    }
   ],
   "source": [
    "dz.shape"
   ]
  },
  {
   "cell_type": "code",
   "execution_count": 15,
   "metadata": {},
   "outputs": [
    {
     "data": {
      "text/plain": [
       "(2, 3)"
      ]
     },
     "execution_count": 15,
     "metadata": {},
     "output_type": "execute_result"
    }
   ],
   "source": [
    "# dw = x . dz\n",
    "dw = np.dot(x.T, dz) # (2, 300) * (300, 3)\n",
    "dw.shape # (2, 3)"
   ]
  },
  {
   "cell_type": "code",
   "execution_count": 16,
   "metadata": {},
   "outputs": [
    {
     "data": {
      "text/plain": [
       "(1, 3)"
      ]
     },
     "execution_count": 16,
     "metadata": {},
     "output_type": "execute_result"
    }
   ],
   "source": [
    "b.shape # (1, 3)"
   ]
  },
  {
   "cell_type": "markdown",
   "metadata": {},
   "source": [
    "It is known that, $z = wx + b$. So,\n",
    "- $\\frac{\\partial z}{\\partial b} = \\frac{\\partial (wx + b)}{\\partial b} = 1$.\n",
    "- As $wx$ will be treated as constant when calculating the partial derivative with respect to b.\n",
    "\n",
    "To calculate $db$, $db = dz * \\frac{\\partial z}{\\partial b} = dz$\n",
    "\n",
    "Why sum? Since gradient descent (GD) and not stochastic gradient descent (SGD) is being performed,\n",
    "- Sum of average across all points is taken.\n",
    "- Also, the average of $dz$ ($dz = \\frac{dz}{m}$) is already taken.\n",
    "\n",
    "Recall the update equation of bias.\n",
    "\n",
    "<img src = \"../artifacts/neural_networks_22.png\" alt = \"drawing\" width = \"500\">"
   ]
  },
  {
   "cell_type": "code",
   "execution_count": 17,
   "metadata": {},
   "outputs": [
    {
     "data": {
      "text/plain": [
       "(1, 3)"
      ]
     },
     "execution_count": 17,
     "metadata": {},
     "output_type": "execute_result"
    }
   ],
   "source": [
    "db = np.sum(dz, axis = 0, keepdims = True)\n",
    "db.shape"
   ]
  },
  {
   "cell_type": "code",
   "execution_count": 18,
   "metadata": {},
   "outputs": [],
   "source": [
    "def backprop(probs, y):\n",
    "    # dz = pi - I\n",
    "    dz = probs # dz = pi\n",
    "    # subtract 1 where i == j i.e., class label matches\n",
    "    dz[range(m), y] -= 1\n",
    "    # compute the average\n",
    "    dz = dz/ m\n",
    "    dw = np.dot(x.T, dz)\n",
    "    db = np.sum(dz, axis = 0, keepdims = True)\n",
    "    return dw, db"
   ]
  },
  {
   "cell_type": "markdown",
   "metadata": {},
   "source": [
    "Since the computation to calculate the gradients is from right to left it is called back propagation."
   ]
  },
  {
   "cell_type": "code",
   "execution_count": 19,
   "metadata": {},
   "outputs": [],
   "source": [
    "# once the gradients are obtained, the parameters can be updated\n",
    "lr = 0.1\n",
    "w = w + (-lr * dw)\n",
    "b = b + (-lr * db)"
   ]
  },
  {
   "cell_type": "code",
   "execution_count": 20,
   "metadata": {},
   "outputs": [
    {
     "name": "stdout",
     "output_type": "stream",
     "text": [
      "Iteration = 0, Loss = 1.096218880509953\n",
      "Iteration = 100, Loss = 0.7447029144716067\n",
      "Iteration = 200, Loss = 0.7405307372321496\n",
      "Iteration = 300, Loss = 0.7402160476653294\n",
      "Iteration = 400, Loss = 0.7401859769887181\n"
     ]
    }
   ],
   "source": [
    "# create a class with all of the above\n",
    "max_iters = 500\n",
    "lr = 1\n",
    "d = x.shape[1]\n",
    "n = len(np.unique(y))\n",
    "m = x.shape[0]\n",
    "w = 0.01 * np.random.randn(d, n)\n",
    "b = np.zeros((1, n))\n",
    "loss_history = []\n",
    "\n",
    "for i in range(max_iters):\n",
    "    # evaluate the class probs\n",
    "    z = np.dot(x, w) + b\n",
    "    exp_z = np.exp(z)\n",
    "    probs = exp_z/ np.sum(exp_z, axis = 1, keepdims = True)\n",
    "\n",
    "    # compute the loss, average cross entropy loss and regularization\n",
    "    error = -np.log(probs[range(m), y])\n",
    "    loss = np.sum(error)/ m\n",
    "    loss_history.append(loss)\n",
    "    if i % 100 == 0:\n",
    "        print(f\"Iteration = {i}, Loss = {loss}\")\n",
    "    \n",
    "    # compute the gradient on score\n",
    "    dz = probs\n",
    "    dz[range(m), y] -= 1\n",
    "    dz = dz/ m\n",
    "    dw = np.dot(x.T, dz)\n",
    "    db = np.sum(dz, axis = 0, keepdims = True)\n",
    "\n",
    "    # perform a parameter update using gradient descent\n",
    "    w = w + (-lr * dw)\n",
    "    b = b + (-lr * db)"
   ]
  },
  {
   "cell_type": "code",
   "execution_count": 21,
   "metadata": {},
   "outputs": [
    {
     "name": "stdout",
     "output_type": "stream",
     "text": [
      "Training Accuracy 0.5266666666666666\n"
     ]
    }
   ],
   "source": [
    "def predict(x):\n",
    "    z = np.dot(x, w) + b\n",
    "    z_e = np.exp(z)\n",
    "    probs = z_e/np.sum(z_e, axis = 1, keepdims = True)\n",
    "    return np.argmax(probs, axis = 1)\n",
    "\n",
    "print(f\"Training Accuracy {np.sum(predict(x) == y)/ m}\")"
   ]
  },
  {
   "cell_type": "markdown",
   "metadata": {},
   "source": [
    "The Logistic Regression model has now been adapted to work for multi-class classification problems."
   ]
  },
  {
   "cell_type": "markdown",
   "metadata": {},
   "source": [
    "# Plotting The Decision Boundary"
   ]
  },
  {
   "cell_type": "code",
   "execution_count": 22,
   "metadata": {},
   "outputs": [
    {
     "data": {
      "text/plain": [
       "(-1.8585153350667682, 1.901484664933235)"
      ]
     },
     "execution_count": 22,
     "metadata": {},
     "output_type": "execute_result"
    },
    {
     "data": {
      "image/png": "[encoded data removed]",
      "text/plain": [
       "<Figure size 640x480 with 1 Axes>"
      ]
     },
     "metadata": {},
     "output_type": "display_data"
    }
   ],
   "source": [
    "# create a 2D grid\n",
    "step = 0.02\n",
    "x_min = x[\"x1\"].min() - 1 # obtain the minimum value from the first column\n",
    "x_max = x[\"x1\"].max() + 1 # obtain the maximum value from the first column\n",
    "y_min = x[\"x2\"].min() - 1 # obtain the minimum value from the second column\n",
    "y_max = x[\"x2\"].max() + 1 # obtain the maximum value from the second column\n",
    "xx, yy = np.meshgrid(np.arange(x_min, x_max, step), np.arange(y_min, y_max, step))\n",
    "\n",
    "# predict all the points in the grid\n",
    "# concatenates along the second axis\n",
    "y_pred = predict(np.c_[xx.ravel(), yy.ravel()])\n",
    "y_pred = y_pred.reshape(xx.shape)\n",
    "\n",
    "# plot\n",
    "fig = plt.figure()\n",
    "plt.contour(xx, yy, y_pred, cmap = plt.cm.Spectral, alpha = 0.8)\n",
    "plt.scatter(x[\"x1\"], x[\"x2\"], c = y, s = 40, cmap = plt.cm.Spectral)\n",
    "plt.xlim(xx.min(), xx.max())\n",
    "plt.ylim(yy.min(), yy.max())"
   ]
  },
  {
   "cell_type": "markdown",
   "metadata": {},
   "source": [
    "It can be observed that the model has learnt 3 decision boundaried.\n",
    "\n",
    "But since no intermediate layers of neurons have been added to create complex features, it is not expected from the model that it learns complex boundaries."
   ]
  },
  {
   "cell_type": "markdown",
   "metadata": {},
   "source": [
    "# Code For Softmax Classifier Wrapped In A Python Code"
   ]
  },
  {
   "cell_type": "code",
   "execution_count": 23,
   "metadata": {},
   "outputs": [],
   "source": [
    "class SoftmaxClassfier:\n",
    "    def __init__(self, n_features, n_outputs):\n",
    "        self.d = n_features\n",
    "        self.n = n_outputs\n",
    "        self.W = 0.01 * np.random.randn(self.d,self.n)\n",
    "        self.b = np.zeros((1,self.n))\n",
    "        self.loss = []\n",
    "\n",
    "    def fwdprop(self, X):\n",
    "        z = np.dot(X, self.W) + self.b\n",
    "        exp_z = np.exp(z)\n",
    "        probs = exp_z / np.sum(exp_z, axis=1, keepdims=True)\n",
    "        return probs\n",
    "\n",
    "    def cce_loss(self, probs, y):\n",
    "        m = y.shape[0]\n",
    "        error = -np.log(probs[range(m), y])\n",
    "        return np.sum(error)/m\n",
    "\n",
    "    def backprop(self, probs, y):\n",
    "        m = y.shape[0]\n",
    "        dz = probs\n",
    "        dz[range(m),y] -= 1\n",
    "        dz = dz/m\n",
    "        dW = np.dot(X.T, dz)\n",
    "        db = np.sum(dz, axis=0, keepdims=True)\n",
    "        return dW, db\n",
    "\n",
    "    def fit(self, X, y, lr=0.1, max_iters=50):\n",
    "\n",
    "        for i in range(max_iters):\n",
    "            # evaluate the class probs\n",
    "            probs = self.fwdprop(X)\n",
    "\n",
    "            # compute the loss: average cross-entropy loss and regularization\n",
    "            loss = self.cce_loss(probs, y)\n",
    "\n",
    "            # compute the gradient on score\n",
    "            dW, db = self.backprop(probs, y)\n",
    "\n",
    "            # perform a parameter update using gradient descent\n",
    "            self.W += -lr * dW\n",
    "            self.b += -lr * db\n",
    "            self.loss.append(loss)\n",
    "\n",
    "        self.history = pd.DataFrame({\n",
    "        'step': list(range(max_iters)),\n",
    "        'loss': self.loss})\n",
    "\n",
    "    def plot_loss(self):\n",
    "        return self.history.plot(x='step', y='loss',xlabel='step', ylabel='loss')\n",
    "\n",
    "    def predict(self, X):\n",
    "        probs = self.fwdprop(X)\n",
    "        return np.argmax(probs, axis = 1)"
   ]
  }
 ],
 "metadata": {
  "kernelspec": {
   "display_name": "Python 3",
   "language": "python",
   "name": "python3"
  },
  "language_info": {
   "codemirror_mode": {
    "name": "ipython",
    "version": 3
   },
   "file_extension": ".py",
   "mimetype": "text/x-python",
   "name": "python",
   "nbconvert_exporter": "python",
   "pygments_lexer": "ipython3",
   "version": "3.11.9"
  }
 },
 "nbformat": 4,
 "nbformat_minor": 2
}
