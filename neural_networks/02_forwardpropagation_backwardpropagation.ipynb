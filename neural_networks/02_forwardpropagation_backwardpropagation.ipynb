{
 "cells": [
  {
   "cell_type": "markdown",
   "metadata": {},
   "source": [
    "# Building A Model For Multi-Class Classification\n",
    "A simple Logistic Regression cannot be used to for multi-class classification. A simple Logistic Regression is equivalent to single-neuron model and can only be used to classify 2 classes. In order to implement Logistic Regression for multi-class classification multiple Logistic Regression models will have to be built (OvR).\n",
    "\n",
    "<img src = \"../artifacts/neural_networks_11.png\" alt = \"drawing\" width = \"500\"/>\n",
    "\n"
   ]
  }
 ],
 "metadata": {
  "language_info": {
   "name": "python"
  }
 },
 "nbformat": 4,
 "nbformat_minor": 2
}
