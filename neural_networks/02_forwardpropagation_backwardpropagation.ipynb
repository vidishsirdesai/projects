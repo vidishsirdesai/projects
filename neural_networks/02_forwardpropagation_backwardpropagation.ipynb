{
 "cells": [
  {
   "cell_type": "markdown",
   "metadata": {},
   "source": [
    "# Building A Model For Multi-Class Classification\n",
    "A simple Logistic Regression cannot be used to for multi-class classification. A simple Logistic Regression is equivalent to single-neuron model and can only be used to classify 2 classes. In order to implement Logistic Regression for multi-class classification multiple Logistic Regression models will have to be built (OvR).\n",
    "\n",
    "Therefore, if there are 3 classes, then 3 models will have to be trained.\n",
    "\n",
    "<img src = \"../artifacts/neural_networks_11.png\" alt = \"drawing\" width = \"500\"/>\n",
    "\n",
    "### Can the above accomplished using a single model?\n",
    "In multi-class classification,\n",
    "- The probability of a given data point belonging to either one of the classes (A, B or C) is calculated.\n",
    "- The data point would be classified into the class for which the probability value was the highest.\n",
    "\n",
    "An intuition that the output layer should have 3 outputs (one for each class) can be drawn from the above.\n",
    "\n",
    "Therefore, the Neural Network looks as follows,\n",
    "\n",
    "<img src = \"../artifacts/neural_networks_12.png\" alt = \"drawing\" width = \"500\"/>\n",
    "\n",
    "Observations,\n",
    "- The number of outputs are the same.\n",
    "- The number of connections are the same.\n",
    "\n",
    "The difference,\n",
    "- Computation happens together.\n",
    "\n",
    "So, instead of a weight vector, the weight matrix is multiplied with data matrix.\n",
    "\n",
    "A model built by using multiple neurons is called a Neural Network (NN)."
   ]
  },
  {
   "cell_type": "markdown",
   "metadata": {},
   "source": []
  }
 ],
 "metadata": {
  "language_info": {
   "name": "python"
  }
 },
 "nbformat": 4,
 "nbformat_minor": 2
}
