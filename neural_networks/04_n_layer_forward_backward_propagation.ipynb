{
 "cells": [
  {
   "cell_type": "markdown",
   "metadata": {
    "vscode": {
     "languageId": "plaintext"
    }
   },
   "source": [
    "# Introduction\n",
    "Consider the following Neural Network,\n",
    "\n",
    "<img src = \"../artifacts/neural_networks_36.png\" alt = \"drawing\" width = \"500\">\n",
    "\n",
    "The computation graph for the above looks as follows,\n",
    "\n",
    "<img src = \"../artifacts/neural_networks_37.png\" alt = \"drawing\" width = \"500\">"
   ]
  },
  {
   "cell_type": "markdown",
   "metadata": {},
   "source": [
    "# Forward Propagation\n",
    "In forward propagation, the propagation is from left to right. The following is done during a forward pass (forward propagation),\n",
    "- Calculate the value of $z_i$.\n",
    "- Apply activation function on top of it.\n",
    "- Then pass it to the Neuron in front of it.\n",
    "- Ultimately, the probabilities are obtained.\n",
    "- Then these probabilities are used to calculate the loss. Since it is multi-class classification problem, the loss function used is categorical cross entropy.\n",
    "\n",
    "The final objective is to compute $z^2$."
   ]
  },
  {
   "cell_type": "code",
   "execution_count": 1,
   "metadata": {},
   "outputs": [],
   "source": [
    "import numpy as np\n",
    "import pandas as pd\n",
    "import matplotlib.pyplot as plt\n",
    "import seaborn as sns"
   ]
  },
  {
   "cell_type": "code",
   "execution_count": 2,
   "metadata": {},
   "outputs": [
    {
     "data": {
      "text/html": [
       "<div>\n",
       "<style scoped>\n",
       "    .dataframe tbody tr th:only-of-type {\n",
       "        vertical-align: middle;\n",
       "    }\n",
       "\n",
       "    .dataframe tbody tr th {\n",
       "        vertical-align: top;\n",
       "    }\n",
       "\n",
       "    .dataframe thead th {\n",
       "        text-align: right;\n",
       "    }\n",
       "</style>\n",
       "<table border=\"1\" class=\"dataframe\">\n",
       "  <thead>\n",
       "    <tr style=\"text-align: right;\">\n",
       "      <th></th>\n",
       "      <th>x1</th>\n",
       "      <th>x2</th>\n",
       "      <th>y</th>\n",
       "    </tr>\n",
       "  </thead>\n",
       "  <tbody>\n",
       "    <tr>\n",
       "      <th>0</th>\n",
       "      <td>0.000000</td>\n",
       "      <td>0.000000</td>\n",
       "      <td>0</td>\n",
       "    </tr>\n",
       "    <tr>\n",
       "      <th>1</th>\n",
       "      <td>-0.000650</td>\n",
       "      <td>0.010080</td>\n",
       "      <td>0</td>\n",
       "    </tr>\n",
       "    <tr>\n",
       "      <th>2</th>\n",
       "      <td>0.009809</td>\n",
       "      <td>0.017661</td>\n",
       "      <td>0</td>\n",
       "    </tr>\n",
       "    <tr>\n",
       "      <th>3</th>\n",
       "      <td>0.007487</td>\n",
       "      <td>0.029364</td>\n",
       "      <td>0</td>\n",
       "    </tr>\n",
       "    <tr>\n",
       "      <th>4</th>\n",
       "      <td>-0.000027</td>\n",
       "      <td>0.040404</td>\n",
       "      <td>0</td>\n",
       "    </tr>\n",
       "  </tbody>\n",
       "</table>\n",
       "</div>"
      ],
      "text/plain": [
       "         x1        x2  y\n",
       "0  0.000000  0.000000  0\n",
       "1 -0.000650  0.010080  0\n",
       "2  0.009809  0.017661  0\n",
       "3  0.007487  0.029364  0\n",
       "4 -0.000027  0.040404  0"
      ]
     },
     "execution_count": 2,
     "metadata": {},
     "output_type": "execute_result"
    }
   ],
   "source": [
    "df = pd.read_csv(\"spiral.csv\")\n",
    "df.head()"
   ]
  },
  {
   "cell_type": "code",
   "execution_count": 3,
   "metadata": {},
   "outputs": [
    {
     "data": {
      "text/plain": [
       "((300, 2), (300,))"
      ]
     },
     "execution_count": 3,
     "metadata": {},
     "output_type": "execute_result"
    }
   ],
   "source": [
    "# separating features and labels\n",
    "x = df.drop(columns = [\"y\"])\n",
    "y = df[\"y\"]\n",
    "x.shape, y.shape"
   ]
  },
  {
   "cell_type": "code",
   "execution_count": 4,
   "metadata": {},
   "outputs": [],
   "source": [
    "# initialize the parameters at random\n",
    "d = 2 # dimensions or number of inputs\n",
    "n = 3 # number of classes or number of neurons in the output layer\n",
    "h = 4 # number of neurons in the hidden layer"
   ]
  },
  {
   "cell_type": "code",
   "execution_count": 5,
   "metadata": {},
   "outputs": [
    {
     "data": {
      "text/plain": [
       "((2, 4), (1, 4))"
      ]
     },
     "execution_count": 5,
     "metadata": {},
     "output_type": "execute_result"
    }
   ],
   "source": [
    "# input layer to the hidden layer\n",
    "# weight and bias of layer 1\n",
    "w1 = 0.01 * np.random.randn(d, h)\n",
    "b1 = np.zeros((1, h))\n",
    "w1.shape, b1.shape"
   ]
  },
  {
   "cell_type": "markdown",
   "metadata": {},
   "source": [
    "### Calculating $z^1$\n",
    "Each row of $x$ is multiplied with each column of $w_1$ and bias is added to the result of this."
   ]
  },
  {
   "cell_type": "code",
   "execution_count": 6,
   "metadata": {},
   "outputs": [
    {
     "data": {
      "text/plain": [
       "(300, 4)"
      ]
     },
     "execution_count": 6,
     "metadata": {},
     "output_type": "execute_result"
    }
   ],
   "source": [
    "# z1 = np.dot(x, w) + b\n",
    "z1 = np.dot(x, w1) + b1\n",
    "z1.shape"
   ]
  },
  {
   "cell_type": "markdown",
   "metadata": {},
   "source": [
    "### Calculating $a^1$\n",
    "The ReLU function is applied to $z^1$."
   ]
  },
  {
   "cell_type": "code",
   "execution_count": 7,
   "metadata": {},
   "outputs": [
    {
     "data": {
      "text/plain": [
       "(300, 4)"
      ]
     },
     "execution_count": 7,
     "metadata": {},
     "output_type": "execute_result"
    }
   ],
   "source": [
    "# ReLU activation function\n",
    "a1 = np.maximum(0, z1)\n",
    "a1.shape"
   ]
  },
  {
   "cell_type": "code",
   "execution_count": 8,
   "metadata": {},
   "outputs": [
    {
     "data": {
      "text/plain": [
       "((4, 3), (1, 3))"
      ]
     },
     "execution_count": 8,
     "metadata": {},
     "output_type": "execute_result"
    }
   ],
   "source": [
    "# hidden layer to the output layer\n",
    "# weight and bias of layer 2\n",
    "w2 = 0.01 * np.random.randn(h, n)\n",
    "b2 = np.zeros((1, n))\n",
    "w2.shape, b2.shape"
   ]
  },
  {
   "cell_type": "markdown",
   "metadata": {},
   "source": [
    "### Calculating $z^2$\n",
    "In order to calculate $z^2$, $a^1$ is multiplied with $w_2$ and the bias $b^2$ is added to the result."
   ]
  },
  {
   "cell_type": "code",
   "execution_count": 9,
   "metadata": {},
   "outputs": [
    {
     "data": {
      "text/plain": [
       "(300, 3)"
      ]
     },
     "execution_count": 9,
     "metadata": {},
     "output_type": "execute_result"
    }
   ],
   "source": [
    "z2 = np.dot(a1, w2) + b2\n",
    "z2.shape"
   ]
  },
  {
   "cell_type": "markdown",
   "metadata": {},
   "source": [
    "### Calculating $a^2$"
   ]
  },
  {
   "cell_type": "code",
   "execution_count": 10,
   "metadata": {},
   "outputs": [
    {
     "data": {
      "text/plain": [
       "(300, 3)"
      ]
     },
     "execution_count": 10,
     "metadata": {},
     "output_type": "execute_result"
    }
   ],
   "source": [
    "# apply the softmax function to compute a2\n",
    "z2_exp = np.exp(z2)\n",
    "a2 = z2_exp/ np.sum(z2_exp, axis = 1, keepdims = True)\n",
    "probs = a2\n",
    "probs.shape"
   ]
  },
  {
   "cell_type": "markdown",
   "metadata": {},
   "source": [
    "<img src = \"../artifacts/neural_networks_38.png\" alt = \"drawing\" width = \"500\">"
   ]
  },
  {
   "cell_type": "markdown",
   "metadata": {},
   "source": [
    "# Loss Calculation\n",
    "### Will the loss function change?\n",
    "No."
   ]
  },
  {
   "cell_type": "markdown",
   "metadata": {},
   "source": [
    "# Backward Propagation\n",
    "### Will the gradient calculation change in case of n layer Neural Network?\n",
    "No. But, there is an additional requirement to back propagate the gradients for one additional layer."
   ]
  },
  {
   "cell_type": "code",
   "execution_count": 11,
   "metadata": {},
   "outputs": [
    {
     "data": {
      "text/plain": [
       "300"
      ]
     },
     "execution_count": 11,
     "metadata": {},
     "output_type": "execute_result"
    }
   ],
   "source": [
    "# number of data points (training samples)\n",
    "m = y.shape[0]\n",
    "m"
   ]
  },
  {
   "cell_type": "markdown",
   "metadata": {},
   "source": [
    "### Calculating $dz^2$\n",
    "\n",
    "<img src = \"artifacts/neural_networks_39.png\" alt = \"drawing\" width = \"500\">\n",
    "\n",
    "$dz^2 = \\frac{\\partial L}{\\partial z^2}$\n",
    "\n",
    "So,\n",
    "\n",
    "$\\frac{\\partial L}{\\partial z^2} = \\frac{\\partial L}{\\partial a^2} * \\frac{\\partial a^2}{\\partial z^2}$\n",
    "\n",
    "Here, $a^2$ is the output probabilities.\n",
    "\n",
    "Replace $a^2$ with $p$, $\\frac{\\partial L}{\\partial z^2} = \\frac{\\partial L}{\\partial p} * \\frac{\\partial p}{\\partial z^2}$\n",
    "\n",
    "The above equation is similar to what was calculated previously, i.e., derivative of loss with respect to $z$.\n",
    "\n",
    "$dz = \\frac{\\partial J}{\\partial p} * \\frac{\\partial p}{\\partial z}$.\n",
    "\n",
    "The derivative came out to be, $dz = (p_i - I(i = y))$\n",
    "\n",
    "Hence, $dz^2 = (p_i - I(i = y))$."
   ]
  },
  {
   "cell_type": "code",
   "execution_count": 12,
   "metadata": {},
   "outputs": [],
   "source": [
    "dz2 = probs\n",
    "dz2[range(m), y] -= 1"
   ]
  },
  {
   "cell_type": "markdown",
   "metadata": {},
   "source": [
    "The shape of $dz^2$ is the same as the shape of probabilities, `(m, n)` (i.e., in this case `(300, 3)`).\n",
    "\n",
    "### Calculating $dw^2$ and $db^2$\n",
    "Gradient calculation for $dw^2$ and $db^2$ will also be similar to $dw$ and $db$ as it was in the softmax classifier.\n",
    "\n",
    "<img src = \"../artifacts/neural_networks_40.png\" alt = \"drawing\" width = \"500\">\n",
    "\n"
   ]
  },
  {
   "cell_type": "markdown",
   "metadata": {},
   "source": []
  }
 ],
 "metadata": {
  "kernelspec": {
   "display_name": "Python 3",
   "language": "python",
   "name": "python3"
  },
  "language_info": {
   "codemirror_mode": {
    "name": "ipython",
    "version": 3
   },
   "file_extension": ".py",
   "mimetype": "text/x-python",
   "name": "python",
   "nbconvert_exporter": "python",
   "pygments_lexer": "ipython3",
   "version": "3.11.9"
  }
 },
 "nbformat": 4,
 "nbformat_minor": 2
}
