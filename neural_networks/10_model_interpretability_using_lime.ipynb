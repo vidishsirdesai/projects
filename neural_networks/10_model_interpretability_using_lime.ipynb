{
 "cells": [
  {
   "cell_type": "markdown",
   "metadata": {},
   "source": [
    "# Business Case: AIIMS Hospital\n",
    "Consider that the Data Science team at AIIMS hospital has built a Neural Network which predicts if a patient has diabetes or not.\n",
    "\n"
   ]
  }
 ],
 "metadata": {
  "language_info": {
   "name": "python"
  }
 },
 "nbformat": 4,
 "nbformat_minor": 2
}
