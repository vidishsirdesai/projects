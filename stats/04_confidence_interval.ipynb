{
 "cells": [
  {
   "cell_type": "markdown",
   "metadata": {},
   "source": [
    "# Introduction\n",
    "When an estimate is made in statistics, whether it is a summary statistic or a test statistic, this is always an uncertainty around it. This is because, the member is based on a sample of the population that is being studied.\n",
    "\n",
    "The Confidence Interval (CI) is the range of values within which the estimate is expected to fall if the experiment is re-run or if the population is reshaped in the same way.\n",
    "\n",
    "The confidence level is a percentage value or a probability value that represents the fact that an estimated value may fall within the upper and lower bounds of the confidence interval."
   ]
  },
  {
   "cell_type": "markdown",
   "metadata": {},
   "source": [
    "# What Is Confidence Interval\n",
    "A confidence interval is the mean of the estimate plus or minus the variation in that estimate. This is the range of values within which the estimate is expected to fall in between with a certain level of confidence if the test were to be re-run.\n",
    "\n",
    "Confidence, in statistics, is another way to describe probability. For example, if a confidence interval is constructed with a 95% confidence level, then it can be said with a confidence of 95 times out of 100 that the estimate will fall between the upper and lower values specified by the confidence interval.\n",
    "\n",
    "Confidence interval is mathematically expressed as,\n",
    "\n",
    "$\\text{Confidence Interval (CI)} = 1 - \\alpha$\n",
    "\n",
    "So, if an alpha value of 0.05 is used for statistical significance, then the confidence level would be 1 - 0.05 = 0.95 = 95%."
   ]
  },
  {
   "cell_type": "markdown",
   "metadata": {},
   "source": [
    "# When Is Confidence Interval Used?\n",
    "Confidence intervals can be calculated for many kinds of statistical estimates, including,\n",
    "- Proportions.\n",
    "- Population means.\n",
    "- Difference between population means or proportions.\n",
    "- Estimates of variations among groups.\n",
    "\n",
    "There are all point estimates and they do not give any information about the variation around the number. Confidence intervals are useful for communicating the variation around a point estimate."
   ]
  },
  {
   "cell_type": "markdown",
   "metadata": {},
   "source": [
    "# Significance Level (Alpha ($\\alpha$))\n",
    "In hypothesis testing, significance level ($\\alpha$), is a critical parameter that is predefined to set the threshold for making decisions about the null hypothesis. It represents the acceptable probability of making Type 1 errors (False Positive), which is the error of rejecting the null hypothesis when it is true.\n",
    "\n",
    "The following is how it works in hypothesis testing,\n",
    "1. Start with the null hypothesis (H0), alternative hypothesis (H1), data and a test statistic.\n",
    "2. Choose a significance level ($\\alpha$), which is typically set at a specific value such as 0.05 or 0.01 (5% or 1% respectively). This value represents the maximum allowable probability of making a Type 1 error. In other words, it determines the willingness of accepting the risk of incorrectly rejecting the null hypothesis when it is actually true.\n",
    "3. Conduct a hypothesis test and calculate the P-Value, which represents the probability of observing a test statistic as extreme as or more extreme than the one computed from the data, assuming the null hypothesis is true.\n",
    "4. P-Value is compared to $\\alpha$,\n",
    "    - If the P-Value is less than or equal to $\\alpha$, the null hypothesis is rejected. This means that the data provides strong evidence against the null hypothesis, and the alternative hypothesis is accepted.\n",
    "    - If the P-Value is greater than $\\alpha$, the null hypothesis is not rejected. This indicates that the data does not provide enough evidence to support the alternative hypothesis, and the null hypothesis is not rejected.\n",
    "\n",
    "The choice of the significance level ($\\alpha$) is a critical decision in hypothesis testing and often depends on the specific context, the field of study and the consequences of making a Type 1 error. Commonly used values for $\\alpha$ include 0.05 and 0.01. A smaller $\\alpha$ makes it more conservative and less likely to reject the null hypothesis as it requires stronger evidence. Conversely, a larger $\\alpha$ makes it less conservative, meaning, it is more likely to lead to the rejection of the null hypothesis.\n",
    "\n",
    "It is essential to choose an $\\alpha$ level that aligns with the goals of the study and the potential consequences of making incorrect decisions based on the data. Researchers should consider both the statistical significance (based on $\\alpha$ and P-Values) and the practical or scientific significance when interpreting the results of hypothesis tests."
   ]
  },
  {
   "cell_type": "markdown",
   "metadata": {},
   "source": [
    "# Relationship Between Confidence Interval And Significance\n",
    "Closely related to $\\alpha$ is $\\text{CI}$. If $\\alpha$ = 0.05, then 5% is the significance level and 95% is the confidence interval.\n",
    "\n",
    "$\\text{Confidence Interval (CI)} = 1 - \\alpha$."
   ]
  }
 ],
 "metadata": {
  "language_info": {
   "name": "python"
  }
 },
 "nbformat": 4,
 "nbformat_minor": 2
}
