{
 "cells": [
  {
   "cell_type": "markdown",
   "metadata": {},
   "source": [
    "# Introduction\n",
    "When an estimate is made in statistics, whether it is a summary statistic or a test statistic, this is always an uncertainty around it. This is because, the member is based on a sample of the population that is being studied.\n",
    "\n",
    "The Confidence Interval (CI) is the range of values within which the estimate is expected to fall if the experiment is re-run or if the population is reshaped in the same way.\n",
    "\n",
    "The confidence level is a percentage value or a probability value that represents the fact that an estimated value may fall within the upper and lower bounds of the confidence interval."
   ]
  },
  {
   "cell_type": "markdown",
   "metadata": {},
   "source": [
    "# What Is Confidence Interval\n"
   ]
  }
 ],
 "metadata": {
  "language_info": {
   "name": "python"
  }
 },
 "nbformat": 4,
 "nbformat_minor": 2
}
