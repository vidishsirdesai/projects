{
 "cells": [
  {
   "cell_type": "markdown",
   "metadata": {},
   "source": [
    "# Introduction\n",
    "Bi means 2, for example, heads or tails, ON or OFF, Yes or No, 1 or 0 etc.\n",
    "\n",
    "Any situation or process that has 2 outcomes is binomial in nature."
   ]
  },
  {
   "cell_type": "markdown",
   "metadata": {},
   "source": []
  }
 ],
 "metadata": {
  "language_info": {
   "name": "python"
  }
 },
 "nbformat": 4,
 "nbformat_minor": 2
}
