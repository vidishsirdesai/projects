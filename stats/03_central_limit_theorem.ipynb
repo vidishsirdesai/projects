{
 "cells": [
  {
   "cell_type": "markdown",
   "metadata": {},
   "source": [
    "# Introduction\n",
    "In a lot of practical setup require that small samples of data be assumed. For example, it is a herculean task to collect and assess the height of every Indian. There are also budget and time constraints that are involved in this process.\n",
    "\n",
    "There are techniques in Statistics that help in collecting small samples or subsets of data from a larger dataset can these samples of data can be used to draw further conclusions.\n",
    "\n",
    "Central Limit Theorem (CLT) is a very important concept in this regard, as it helps in solving the above problem of collecting very large data. This sample data would have a sample mean, using which standard deviation to the left or right can be understood.\n",
    "\n",
    "Having considered the above, it cannot be said that for a certain population, the sample mean and the population mean would be exactly the same. But, at the same time, there is some relationship between the both.\n",
    "\n",
    "If the sample size is small, then the sample mean could be too far away from the population mean. Meaning, as the sample size increases, the gap between the sample mean and the population mean could decrease or increase.\n",
    "\n",
    "A few questions to ask,\n",
    "- How will the sample mean look like?\n",
    "- What are the questions that can be asked on the sample mean itself? For example, what kind of probability can be guranteed on the sample mean?\n",
    "- Confidence interval."
   ]
  },
  {
   "cell_type": "markdown",
   "metadata": {},
   "source": [
    "# What Is CLT?\n",
    "In probability theory, the Central Limit Theorem (CLT) states that the distribution of the sample variable approximates a normal distribution (i.e., a bell curve) as the sample size becomes larger, assuming that all samples are identical in size and regardless of the population's actual distribution shape (Normal, Poisson, Binomial, or any other distribution).\n",
    "\n",
    "Put another way, CLT is a statistical premise which states that, given a sufficiently large sample size from a population with a finite level of variation, the mean of all sampled variables from the same population will be approximately equal to the mean of the whole population. Furthermore, these samples approximate a normal distribution, with their variances being approximately equal to the variance of the population as the sample size gets larger (according to the law of large numbers)."
   ]
  },
  {
   "cell_type": "markdown",
   "metadata": {},
   "source": [
    "# Key Components Of CLT\n",
    "1. Sampling is successive: This means some sample units are common with sample units selected on previous occasions.\n",
    "2. Sampling is random: All samples must be selected at random so that they have the same possibility of being selected.\n",
    "3. Samples should be independent: The selections or results from one sample should have no bearing on future samples or other sample results.\n",
    "4. Samples should be limited: It is often cited that a sample should be no more than 10% of a population, if sampling is done without replacement. In general, larger population sizes warrant the use of larger sample sizes.\n",
    "5. Sample size is increasing: The CLT is relevant as more samples are selected."
   ]
  },
  {
   "cell_type": "markdown",
   "metadata": {},
   "source": [
    "# Formal Definition Of CLT\n",
    "Say $x$ amount of data has a mean = $\\mu$ and standard deviation = $\\sigma$. When sample mean is defined, $\\frac{x_1 + x_2 + x_3 + ... + x_n}{n}$, where, $x_1$, $x_2$, $x_3$, ... = data points in the sample.\n",
    "\n",
    "The above equation of the equation of the sample mean of the data, $\\bar{x} = \\frac{x_1 + x_2 + x_3 + ... + x_n}{n}$.\n",
    "\n",
    "The $\\bar{x}$ is Gaussian, no matter what the original distribution is. This is true as long as $\\mu$ and $\\sigma$ can be extracted from $x$.\n",
    "\n",
    "The above is the formal definition of CLT."
   ]
  },
  {
   "cell_type": "markdown",
   "metadata": {},
   "source": [
    "# CLT Formula\n",
    "The parameters of sampling distribution of the mean are determined by the parameters of the populations,\n",
    "- The mean of the sampling distribution is the mean of the population, $\\bar{\\mu_x} = \\mu$.\n",
    "- The standard deviation of the sampling distribution is the standard deviation of the population divided by the square root of the sample size, $\\sigma_{\\bar{x}} = \\frac{\\sigma}{\\sqrt{n}}$.\n",
    "\n",
    "The sampling distribution of the mean can be described using the following notation,\n",
    "\n",
    "$\\bar{X} \\sim N\\left( \\mu, \\frac{\\sigma}{\\sqrt{n}} \\right)$.\n",
    "\n",
    "Where,\n",
    "- $\\bar{X}$ = Sampling distribution of the sample mean.\n",
    "- $\\sim$ = Represents \"follows the distribution\".\n",
    "- $N$ = Normal distribution.\n",
    "- $\\mu$ = Mean of the population.\n",
    "- $\\sigma$ = Standard deviation of the population.\n",
    "- $n$ = Sample size."
   ]
  },
  {
   "cell_type": "markdown",
   "metadata": {},
   "source": [
    "# An Example"
   ]
  },
  {
   "cell_type": "code",
   "execution_count": 1,
   "metadata": {},
   "outputs": [],
   "source": [
    "import numpy as np\n",
    "import pandas as pd\n",
    "import matplotlib.pyplot as plt\n",
    "import seaborn as sns\n",
    "from scipy.stats import norm"
   ]
  },
  {
   "cell_type": "code",
   "execution_count": 2,
   "metadata": {},
   "outputs": [
    {
     "data": {
      "text/html": [
       "<div>\n",
       "<style scoped>\n",
       "    .dataframe tbody tr th:only-of-type {\n",
       "        vertical-align: middle;\n",
       "    }\n",
       "\n",
       "    .dataframe tbody tr th {\n",
       "        vertical-align: top;\n",
       "    }\n",
       "\n",
       "    .dataframe thead th {\n",
       "        text-align: right;\n",
       "    }\n",
       "</style>\n",
       "<table border=\"1\" class=\"dataframe\">\n",
       "  <thead>\n",
       "    <tr style=\"text-align: right;\">\n",
       "      <th></th>\n",
       "      <th>Gender</th>\n",
       "      <th>Height</th>\n",
       "      <th>Weight</th>\n",
       "    </tr>\n",
       "  </thead>\n",
       "  <tbody>\n",
       "    <tr>\n",
       "      <th>0</th>\n",
       "      <td>Male</td>\n",
       "      <td>73.847017</td>\n",
       "      <td>241.893563</td>\n",
       "    </tr>\n",
       "    <tr>\n",
       "      <th>1</th>\n",
       "      <td>Male</td>\n",
       "      <td>68.781904</td>\n",
       "      <td>162.310473</td>\n",
       "    </tr>\n",
       "    <tr>\n",
       "      <th>2</th>\n",
       "      <td>Male</td>\n",
       "      <td>74.110105</td>\n",
       "      <td>212.740856</td>\n",
       "    </tr>\n",
       "    <tr>\n",
       "      <th>3</th>\n",
       "      <td>Male</td>\n",
       "      <td>71.730978</td>\n",
       "      <td>220.042470</td>\n",
       "    </tr>\n",
       "    <tr>\n",
       "      <th>4</th>\n",
       "      <td>Male</td>\n",
       "      <td>69.881796</td>\n",
       "      <td>206.349801</td>\n",
       "    </tr>\n",
       "  </tbody>\n",
       "</table>\n",
       "</div>"
      ],
      "text/plain": [
       "  Gender     Height      Weight\n",
       "0   Male  73.847017  241.893563\n",
       "1   Male  68.781904  162.310473\n",
       "2   Male  74.110105  212.740856\n",
       "3   Male  71.730978  220.042470\n",
       "4   Male  69.881796  206.349801"
      ]
     },
     "execution_count": 2,
     "metadata": {},
     "output_type": "execute_result"
    }
   ],
   "source": [
    "df = pd.read_csv(\"weight-height.csv\")\n",
    "df.head()"
   ]
  },
  {
   "cell_type": "code",
   "execution_count": 3,
   "metadata": {},
   "outputs": [
    {
     "data": {
      "text/plain": [
       "0       73.847017\n",
       "1       68.781904\n",
       "2       74.110105\n",
       "3       71.730978\n",
       "4       69.881796\n",
       "          ...    \n",
       "9995    66.172652\n",
       "9996    67.067155\n",
       "9997    63.867992\n",
       "9998    69.034243\n",
       "9999    61.944246\n",
       "Name: Height, Length: 10000, dtype: float64"
      ]
     },
     "execution_count": 3,
     "metadata": {},
     "output_type": "execute_result"
    }
   ],
   "source": [
    "df_height = df[\"Height\"]\n",
    "df_height"
   ]
  },
  {
   "cell_type": "code",
   "execution_count": 4,
   "metadata": {},
   "outputs": [
    {
     "data": {
      "text/plain": [
       "np.float64(3.8475281207732293)"
      ]
     },
     "execution_count": 4,
     "metadata": {},
     "output_type": "execute_result"
    }
   ],
   "source": [
    "# population standard deviation\n",
    "df_height.std()"
   ]
  },
  {
   "cell_type": "code",
   "execution_count": 5,
   "metadata": {},
   "outputs": [
    {
     "data": {
      "text/plain": [
       "<Axes: xlabel='Height', ylabel='Count'>"
      ]
     },
     "execution_count": 5,
     "metadata": {},
     "output_type": "execute_result"
    },
    {
     "data": {
      "image/png": "[encoded data removed]",
      "text/plain": [
       "<Figure size 640x480 with 1 Axes>"
      ]
     },
     "metadata": {},
     "output_type": "display_data"
    }
   ],
   "source": [
    "# plot histogram\n",
    "sns.histplot(df_height)"
   ]
  },
  {
   "cell_type": "code",
   "execution_count": 6,
   "metadata": {},
   "outputs": [
    {
     "data": {
      "text/plain": [
       "np.float64(66.36755975482124)"
      ]
     },
     "execution_count": 6,
     "metadata": {},
     "output_type": "execute_result"
    }
   ],
   "source": [
    "df_height.mean()"
   ]
  },
  {
   "cell_type": "code",
   "execution_count": 7,
   "metadata": {},
   "outputs": [
    {
     "data": {
      "text/plain": [
       "9795    61.551110\n",
       "6452    64.082865\n",
       "762     65.665959\n",
       "2856    68.562179\n",
       "6879    59.266303\n",
       "Name: Height, dtype: float64"
      ]
     },
     "execution_count": 7,
     "metadata": {},
     "output_type": "execute_result"
    }
   ],
   "source": [
    "# creates a sample data from the available by picking the specified number of random values (5 here)\n",
    "# how to control this randomness?\n",
    "df_height.sample(5)"
   ]
  },
  {
   "cell_type": "code",
   "execution_count": 8,
   "metadata": {},
   "outputs": [
    {
     "data": {
      "text/plain": [
       "np.float64(65.79052191251485)"
      ]
     },
     "execution_count": 8,
     "metadata": {},
     "output_type": "execute_result"
    }
   ],
   "source": [
    "# values change each time you execute the above line of code\n",
    "# to find the average or mean of this sample\n",
    "# 1 sample mean\n",
    "np.mean(df_height.sample(5))"
   ]
  },
  {
   "cell_type": "code",
   "execution_count": 9,
   "metadata": {},
   "outputs": [
    {
     "data": {
      "text/plain": [
       "10000"
      ]
     },
     "execution_count": 9,
     "metadata": {},
     "output_type": "execute_result"
    }
   ],
   "source": [
    "sample_mean_size_5 = [np.mean(df_height.sample(5)) for i in range(10000)]\n",
    "# 10000 = number of sampled means\n",
    "len(sample_mean_size_5)"
   ]
  },
  {
   "cell_type": "code",
   "execution_count": 10,
   "metadata": {},
   "outputs": [
    {
     "data": {
      "text/plain": [
       "<Axes: ylabel='Count'>"
      ]
     },
     "execution_count": 10,
     "metadata": {},
     "output_type": "execute_result"
    },
    {
     "data": {
      "image/png": "[encoded data removed]",
      "text/plain": [
       "<Figure size 640x480 with 1 Axes>"
      ]
     },
     "metadata": {},
     "output_type": "display_data"
    }
   ],
   "source": [
    "# spread decreases\n",
    "sns.histplot(sample_mean_size_5)"
   ]
  },
  {
   "cell_type": "code",
   "execution_count": 11,
   "metadata": {},
   "outputs": [
    {
     "data": {
      "text/plain": [
       "2299    70.868808\n",
       "615     70.413869\n",
       "6933    62.311533\n",
       "1586    66.276138\n",
       "6234    66.942623\n",
       "3218    72.169810\n",
       "9648    65.071665\n",
       "109     67.609105\n",
       "2178    69.454136\n",
       "249     71.606564\n",
       "3851    73.099686\n",
       "5552    66.377042\n",
       "8448    58.996287\n",
       "5516    67.303405\n",
       "7799    64.683471\n",
       "303     68.495343\n",
       "8228    67.584205\n",
       "9423    63.468088\n",
       "7532    59.083203\n",
       "9048    65.579256\n",
       "Name: Height, dtype: float64"
      ]
     },
     "execution_count": 11,
     "metadata": {},
     "output_type": "execute_result"
    }
   ],
   "source": [
    "# repeat the same for 20\n",
    "df_height.sample(20)"
   ]
  },
  {
   "cell_type": "code",
   "execution_count": 12,
   "metadata": {},
   "outputs": [
    {
     "data": {
      "text/plain": [
       "np.float64(65.30021907319214)"
      ]
     },
     "execution_count": 12,
     "metadata": {},
     "output_type": "execute_result"
    }
   ],
   "source": [
    "np.mean(df_height.sample(20))"
   ]
  },
  {
   "cell_type": "code",
   "execution_count": 13,
   "metadata": {},
   "outputs": [
    {
     "data": {
      "text/plain": [
       "10000"
      ]
     },
     "execution_count": 13,
     "metadata": {},
     "output_type": "execute_result"
    }
   ],
   "source": [
    "sample_mean_size_20 = [np.mean(df_height.sample(20)) for i in range(10000)]\n",
    "len(sample_mean_size_20)"
   ]
  },
  {
   "cell_type": "code",
   "execution_count": 14,
   "metadata": {},
   "outputs": [
    {
     "data": {
      "text/plain": [
       "<Axes: ylabel='Count'>"
      ]
     },
     "execution_count": 14,
     "metadata": {},
     "output_type": "execute_result"
    },
    {
     "data": {
      "image/png": "[encoded data removed]",
      "text/plain": [
       "<Figure size 640x480 with 1 Axes>"
      ]
     },
     "metadata": {},
     "output_type": "display_data"
    }
   ],
   "source": [
    "sns.histplot(sample_mean_size_20)\n",
    "# spread decreases"
   ]
  },
  {
   "cell_type": "code",
   "execution_count": 15,
   "metadata": {},
   "outputs": [
    {
     "data": {
      "text/plain": [
       "np.float64(1.7206668846781923)"
      ]
     },
     "execution_count": 15,
     "metadata": {},
     "output_type": "execute_result"
    }
   ],
   "source": [
    "new_std_deviation = df_height.std()/ np.sqrt(5)\n",
    "new_std_deviation"
   ]
  }
 ],
 "metadata": {
  "kernelspec": {
   "display_name": "Python 3",
   "language": "python",
   "name": "python3"
  },
  "language_info": {
   "codemirror_mode": {
    "name": "ipython",
    "version": 3
   },
   "file_extension": ".py",
   "mimetype": "text/x-python",
   "name": "python",
   "nbconvert_exporter": "python",
   "pygments_lexer": "ipython3",
   "version": "3.11.9"
  }
 },
 "nbformat": 4,
 "nbformat_minor": 2
}
