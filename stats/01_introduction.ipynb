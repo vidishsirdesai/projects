{
 "cells": [
  {
   "cell_type": "markdown",
   "metadata": {},
   "source": [
    "# Descriptive Statistics\n",
    "Descriptive statistics are brief informational coefficients that summarize a given data set, which can be either a representation of the entire population or a sample of a population. Descriptive statistics are broken down into measures of central tendancy and measures of viability."
   ]
  },
  {
   "cell_type": "markdown",
   "metadata": {},
   "source": [
    "# Inferential Statistics\n",
    "Inferential statistics use measurements from the sample of subjects in the experiment to compare the treatment groups and makes generalizations about the larger population of subjects. There are many types of inferential statistics and each is appropriate for a specific research design and sample characteristics."
   ]
  },
  {
   "cell_type": "markdown",
   "metadata": {},
   "source": [
    "# Descriptive Statistics V. Inferential Statistics\n",
    "Consider an example of a speedometer that displays information about instantenous speed,\n",
    "\n",
    "### Descriptive statistics\n",
    "Descriptive statistics describe the data as it is. In the above case, if the instantenous speed is 65 kph, the description of this would be that the speed is 65 kph.\n",
    "\n",
    "### Inferential statistics\n",
    "Inferential statistics involves making deductions out of the given data. In the above case, if a constant speed of 65 kph is maintained for a certain amount of time, then a certain destination would be reached after that time period.\n",
    "\n",
    "Now if the said speed is not maintained, then there would be consequences. The deduction of such consequences is what inferential statistics is about.\n",
    "\n",
    "Essentially, \"inferring more from the given data is inferential statistics\"."
   ]
  },
  {
   "cell_type": "markdown",
   "metadata": {},
   "source": [
    "# Mean\n",
    "Mean is the average of all the values in the dataset"
   ]
  },
  {
   "cell_type": "markdown",
   "metadata": {},
   "source": [
    "# Median\n",
    "Median is the value that occurs at the center of the dataset."
   ]
  },
  {
   "cell_type": "markdown",
   "metadata": {},
   "source": [
    "# What Is Understood From Mean And Median?\n"
   ]
  },
  {
   "cell_type": "markdown",
   "metadata": {},
   "source": []
  }
 ],
 "metadata": {
  "language_info": {
   "name": "python"
  }
 },
 "nbformat": 4,
 "nbformat_minor": 2
}
