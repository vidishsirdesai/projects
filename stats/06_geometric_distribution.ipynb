{
 "cells": [
  {
   "cell_type": "markdown",
   "metadata": {},
   "source": [
    "# Introduction\n",
    "In Binomial distribution, the discussion involved cases where the number of trials is fixed (n = 1 or n = 7 or n = 10). Where n is known. \n",
    "\n",
    "The discussing now will be where n is counted until the first success. The sample space in this case is,\n",
    "\n",
    "$S = \\{S, FS, FFS, FFFS, FFFFS, ...\\}$."
   ]
  },
  {
   "cell_type": "markdown",
   "metadata": {},
   "source": [
    "# What Is Geometric Distribution?\n",
    "The Binomial distribution involves cases where the number of trials is fixed."
   ]
  }
 ],
 "metadata": {
  "language_info": {
   "name": "python"
  }
 },
 "nbformat": 4,
 "nbformat_minor": 2
}
