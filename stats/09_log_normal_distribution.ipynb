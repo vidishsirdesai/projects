{
 "cells": [
  {
   "cell_type": "markdown",
   "metadata": {},
   "source": [
    "# What Is Log-Normal Distribution?\n",
    "The Log-Normal distribution is a continuous probability distribution of a random variable whose logarithm is normally distributed. In other words, if X is log-normally distributed, then $Y = ln(X)$ follows a normal distribution. The random variable $X$ itself is not normally distributed, but its logarithm is.\n",
    "\n",
    "The following are some key characteristics of Log-Normal distribution,\n",
    "1. Positivity: The Log-Normal distribution is defined for positive values of x since the logarithm of a non-positive number is undefined.\n",
    "2. Skewness: The distribution is positively skewed, meaning it has a long right tail.\n",
    "3. Multiplicative processes: The Log-Normal distribution is often used to model random variables that are the product of many independent and identically distributed random variables. Examples include stock prices, income distribution, and some biological measurements.\n",
    "4. Connection to the Normal distribution: As mentioned earlier, if $Y = ln(X)$ follows a normal distribution with mean μ and standard deviation $\\sigma$, then $X$ follows a Log-Normal distribution with parameters $\\mu$ and $\\sigma$.\n",
    "\n",
    "Applications of the Log-Normal distribution include finance (modeling stock prices), biology (modeling the size of biological organisms), and various fields where the product of random variables is relevant."
   ]
  },
  {
   "cell_type": "markdown",
   "metadata": {},
   "source": [
    "# Example\n",
    "Consider Swiggy for example, the amount of time that is taken to deliver the food is about 30 minutes popularly. It might also take 60 minutes or sometimes 90 minutes as well.\n",
    "\n",
    "Log-Normal distribution is used to represent the skewness in the data.\n",
    "\n",
    "What property of logarithm invites the usage of this? Log reduces large number to smaller numbers.\n",
    "\n",
    "For the data in the range 20 and 30, $log(20)$ and $log(30)$ will come closer differently from the data that lies in 90 and 120 range. Meaning, the way the numbers in range 20 to 30 come closer, will be different to the way the numbers in the range 90 and 120 will come closer, when represented logarithmically.\n",
    "\n",
    "Essentially, the x-axis is being shrunken. The technical term is used is \"non-linear shrink\". In this case, the data that comes from Log-Normal, might look more symmetric.\n",
    "\n",
    "Suppose a praticular part of the data $log(x)$ is looked at, it appears Gaussian in nature.\n",
    "\n",
    "Then in that context, the original data which is $x$ is called as Log-Normal.\n",
    "\n",
    "If $x$ is Log-Normal, then $log(x)$ is normal."
   ]
  },
  {
   "cell_type": "markdown",
   "metadata": {},
   "source": [
    "# Parameter For Log Normal Distribution\n",
    "Parameter for Gaussian are $\\mu$ and $\\sigma$ and these are associated to the original data, with the understanding that $\\mu$ and $\\sigma$ are the mean and spread of the $log(data)$ and not the original data."
   ]
  },
  {
   "cell_type": "markdown",
   "metadata": {},
   "source": [
    "# Formula For Log-Normal Distribution\n",
    "$\\text{Mean of the original} = e ^{μ + ((σ^2)/ 2)}$.\n",
    "\n",
    "$\\text{Standard Deviation of X} =  (e^{σ^2} - 1) * e^{2μ + (σ^2)}$\n",
    "\n",
    "In logarithm, the higher value gets shrunk more than the lower value."
   ]
  }
 ],
 "metadata": {
  "language_info": {
   "name": "python"
  }
 },
 "nbformat": 4,
 "nbformat_minor": 2
}
