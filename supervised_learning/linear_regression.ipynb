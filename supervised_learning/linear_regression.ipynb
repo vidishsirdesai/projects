{
 "cells": [
  {
   "cell_type": "markdown",
   "metadata": {},
   "source": [
    "# Intriduction\n",
    "Linear regression is a supervised ML algorithm used when the dataset has a target variable that is of continuous or numerical type. Linear regression aims to find the equation of the straight line that best approximates the relationship between a set of independent variables (x) and a dependent variable variable (y)."
   ]
  }
 ],
 "metadata": {
  "language_info": {
   "name": "python"
  }
 },
 "nbformat": 4,
 "nbformat_minor": 2
}
