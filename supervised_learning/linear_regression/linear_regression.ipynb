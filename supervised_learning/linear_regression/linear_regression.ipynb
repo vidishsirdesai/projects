{
 "cells": [
  {
   "cell_type": "markdown",
   "metadata": {},
   "source": [
    "# Introduction\n",
    "Linear regression is a supervised ML algorithm used when the dataset has a target variable that is of continuous or numerical type. Linear regression aims to find the equation of the straight line that best approximates the relationship between a set of independent variables (x) and a dependent variable variable (y).\n",
    "\n",
    "Consider an example where used car's price is being predicted. Say that the independent variables are, car's age, kilometers driven, car's manufacturer, fuel type, and car's type. The equation that predicts the car's price is mathematically expressed as, \n",
    "\n",
    "$\\text{car price} = w_1 * \\text{age} + w_2 * \\text{kilometers driven} + w_3 * \\text{manufacturer} + w_4 * \\text{fuel type} + w_5 * \\text{type} + w_0$ `...(eq1)`\n",
    "\n",
    "This can be re-written as,\n",
    "\n",
    "$y = (w_1 * x_1) + (w_2 * x_2) + (w_3 * x_3) + (w_4 * x_4) + (w_5 * x_5) + w_0$ `...(eq1)`\n",
    "\n",
    "Where,\n",
    "- $y$ = dependent variable\n",
    "- $x_1$, $x_2$, $x_3$, $x_4$, $x_5$ = independent variables\n",
    "- $w_1$, $w_2$, $w_3$, $w_4$, $w_5$ = weights\n",
    "- $w_0$ = bias\n",
    "\n",
    "The above equation is similar to the equation of a line, given by $y = m*x + c$. \n",
    "\n",
    "The linear regression algorithm's task is to find out the equation of this line that best explains the relationship between the dependent and independent variables."
   ]
  },
  {
   "cell_type": "markdown",
   "metadata": {},
   "source": [
    "# Simple Linear Regression (1 Independent and 1 Dependent Variable)\n",
    "A simple linear regression model has 1 independent, and 1 dependent variable. The equation of line for simple linear regression is mathematically expressed as,\n",
    "\n",
    "$y = (w_1 * x_1) + w_0$\n",
    "\n",
    "Consider the following dataset,\n",
    "\n",
    "| marketing_budget (in thousands) | sales (in million) |\n",
    "| :-: | :-: |\n",
    "| 187.86 | 12.14 |\n",
    "| 138.13 | 12.33 |\n",
    "| 177.89 | 08.41 |\n",
    "| 181.13 | 08.90 |\n",
    "| 151.50 | 12.57 |\n",
    "| 106.87 | 11.30 |\n",
    "| 160.94 | 11.66 |\n",
    "| 140.09 | 10.93 |\n",
    "| 132.58 | 11.99 |\n",
    "\n",
    "In the above data, marketing_budget is the independent variable, and sales is the dependent variable. Therefore, the equation of line that best describes the relationship between independent variable and dependent variable is given by,\n",
    "\n",
    "$\\text{sales} = (w_1 * \\text{marketing budget}) + w_0$"
   ]
  },
  {
   "cell_type": "markdown",
   "metadata": {},
   "source": [
    "# What is a Best Fit Line?"
   ]
  }
 ],
 "metadata": {
  "language_info": {
   "name": "python"
  }
 },
 "nbformat": 4,
 "nbformat_minor": 2
}
