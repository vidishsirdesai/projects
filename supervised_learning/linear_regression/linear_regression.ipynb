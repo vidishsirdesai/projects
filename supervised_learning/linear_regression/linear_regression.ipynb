{
 "cells": [
  {
   "cell_type": "markdown",
   "metadata": {},
   "source": [
    "# Introduction\n",
    "Linear regression is a supervised ML algorithm used when the dataset has a target variable that is of continuous or numerical type. Linear regression aims to find the equation of the straight line that best approximates the relationship between a set of independent variables (x) and a dependent variable variable (y).\n",
    "\n",
    "Consider an example where used car's price is being predicted. Say that the independent variables are, car's age, kilometers driven, car's manufacturer, fuel type, and car's type. The equation that predicts the car's price is mathematically expressed as, \n",
    "\n",
    "$\\text{car price} = w_1 * \\text{age} + w_2 * \\text{kilometers driven} + w_3 * \\text{manufacturer} + w_4 * \\text{fuel type} + w_5 * \\text{type} + w_0$ `...(eq1)`\n",
    "\n",
    "This can be re-written as,\n",
    "\n",
    "$y = (w_1 * x_1) + (w_2 * x_2) + (w_3 * x_3) + (w_4 * x_4) + (w_5 * x_5) + w_0$ `...(eq1)`\n",
    "\n",
    "Where,\n",
    "- $y$ = dependent variable\n",
    "- $x_1$, $x_2$, $x_3$, $x_4$, $x_5$ = independent variables\n",
    "- $w_1$, $w_2$, $w_3$, $w_4$, $w_5$ = weights\n",
    "- $w_0$ = bias\n",
    "\n",
    "The above equation is similar to the equation of a line, given by $y = m*x + c$. \n",
    "\n",
    "The linear regression algorithm's task is to find out the equation of this line that best explains the relationship between the dependent and independent variables."
   ]
  },
  {
   "cell_type": "markdown",
   "metadata": {},
   "source": [
    "# Simple Linear Regression (1 Independent and 1 Dependent Variable)\n",
    "A simple linear regression model has 1 independent, and 1 dependent variable. The equation of line for simple linear regression is mathematically expressed as,\n",
    "\n",
    "$y = (w_1 * x_1) + w_0$\n",
    "\n",
    "Consider the following dataset,\n",
    "\n",
    "| marketing_budget (in thousands) | sales (in million) |\n",
    "| :-: | :-: |\n",
    "| 187.86 | 12.14 |\n",
    "| 138.13 | 12.33 |\n",
    "| 177.89 | 08.41 |\n",
    "| 181.13 | 08.90 |\n",
    "| 151.50 | 12.57 |\n",
    "| 106.87 | 11.30 |\n",
    "| 160.94 | 11.66 |\n",
    "| 140.09 | 10.93 |\n",
    "| 132.58 | 11.99 |\n",
    "\n",
    "In the above data, marketing_budget is the independent variable, and sales is the dependent variable. Therefore, the equation of line that best describes the relationship between independent variable and dependent variable is given by,\n",
    "\n",
    "$\\text{sales} = (w_1 * \\text{marketing budget}) + w_0$\n",
    "\n",
    "The task is to find the bset values of $w_1$ and $w_0$."
   ]
  },
  {
   "cell_type": "markdown",
   "metadata": {},
   "source": [
    "# Error\n",
    "There could be infinite lines that pass through the data that explain the relationship between independent and dependent variables. Obviously each of these lines will have different values of $w_1$ and $w_0$. The best line is where the difference between $y_{actual}$ and $y_{predicted}$ is 0. This difference is termed as error, which is mathematically expressed as,\n",
    "\n",
    "$\\text{Error} = y_{actual} - y_{predicted}$\n",
    "\n",
    "Error is also called residual.\n",
    "\n",
    "### Can error be negative?\n",
    "Yes, if the predicted value is greater than actual value for a data point, the error for that data point can be negative.\n",
    "\n",
    "### How to find the total error for a model?\n",
    "Sum of all the errors is found to find the total error for a model.\n",
    "\n",
    "### Why should sum of errors not be used as a metric to evaluate the performance of the model?\n",
    "Since error for a data point can be negative, there is a chance that, because of the presence of negative and positive values, their effect is reduced to 0. Which is not a true method evaluation.\n",
    "\n",
    "### What if sum of mod of errors is used to evaluate the model's performance?\n",
    "There are no problems with this, except that the derivative of mod is not defined at 0.\n",
    "\n",
    "### So how should the model's performance be evaluated?\n",
    "Find Residual Sum of Squares (RSS). RSS is the square of sum of errors (residuals). It is mathematically expressed as,\n",
    "\n",
    "$\\text{RSS} = (y_{actual} - y_{predicted})^2$\n",
    "\n",
    "To find the best fit line from a set of lines, the RSS for each of the lines is found. The best fit line is the one for which the RSS is minimum. This algorithm where RSS is found is called Ordinary Least Square (OLS) algorithm.\n",
    "\n",
    "### Are there any limitations to RSS?\n",
    "Yes, RSS is dependent on the scale of the target variable. Meaning, if the unit is changed from kilometers to meters, the value of RSS is going to increase by $10^3$ units.\n",
    "\n",
    "### Are there any better metrics than RSS?\n",
    "Yes. MSE, MAE, and RMSE are all better metrics than RSS.\n",
    "\n",
    "### Mean Square Error (MSE)\n",
    "MSE calcualtes the average squared difference between the predicted value and the actual values. Lower MSE indicates a better fit, as it signifies the predictions are on average closer to the actual values.\n",
    "\n",
    "$MSE = \\frac{1}{n} \\sum_{i = 1}^{n}(y_i - \\bar{y_i})^2$\n",
    "\n",
    "### Mean Absolute Error (MAE)\n",
    "MAE calculates the average absolute difference between the predicted values and the actual values. MAE is less sensitive to outliers compared to MSE. Lower MAE indicates a better fit.\n",
    "\n",
    "$MAE = \\frac{1}{n} \\sum_{i = 1}^{n} \\mod({y_i - \\bar{y_i})}$\n",
    "\n",
    "MAE is not preferred because the derivative of mod is not defined at 0.\n",
    "\n",
    "### Root Mean Square Error (RMSE)\n",
    "RMSE is the square root of the average squared difference between the predicted value and the actual values. It is easier to interpret in the same units as the target variable. A lower RMSE indicates a better fit.\n",
    "\n",
    "$RMSE = \\sqrt{\\frac{1}{n} \\sum_{i = 1}^{n}(y_i - \\bar{y_i})^2}$\n",
    "\n",
    "### Is there a better metric that all of these?\n",
    "Yes."
   ]
  },
  {
   "cell_type": "markdown",
   "metadata": {},
   "source": [
    "# R2 Score\n",
    "The best way to evaluate the performance of a model is by measuring it against the average model, or the baseline model (the average model is always the baseline model). This is the motivation for R2 score.\n",
    "\n",
    "The Residual Sum of Squares (RSS), is the squared error obtained by the predicted model. It is mathematically defined as, $\\text{RSS} = (y_{actual} - y_{predicted})^2$.\n",
    "\n",
    "Total Sum of Squares (TSS), is the squared error obtained by the average model. It is mathematically defined as, $\\text{TSS} = (y_{actual} - y_{average})^2$.\n",
    "\n",
    "R2 score is defined as, $\\text{R2 Score} = 1 - \\frac{RSS}{TSS}$.\n",
    "\n",
    "The range of R2 score is between 0 and 1. For a good model, the R2 score should be close to 1.\n",
    "\n",
    "### Limitations of R2 score\n",
    "The limitation of R2 score is that it does not take into account the number of features. Meaning, in an ideal scenario, if there are d features + 1 relevant feature, the R2 score should increase, and if there are d features + 1 irrelevant feature, then R2 score should decrease. But in reality, the R2 score will be the same in both the scenarios.\n",
    "\n",
    "### Formal definition of R2 score\n",
    "The R2 score represents the proportion of variance in the dependent variable (target variable) explained by the independent variable (features) in the model. It ranges from 0 to 1, with higher values indicating a better fit. However, it is important to note that R2 score can increase simply by adding more features, even if they are not relevant."
   ]
  },
  {
   "cell_type": "markdown",
   "metadata": {},
   "source": [
    "# Adjusted R2 Score\n",
    "Adjusted R2 score takes into account the impact of number of features and the number of data points, making it a better metric than R2 score.\n",
    "\n",
    "The adjusted R2 score is mathematically defined as,\n",
    "$\\text{Adjusted R2 Score} = 1 - \\frac{((1 - R2) * (n - 1))}{(n - d - 1)}$\n",
    "\n",
    "Where,\n",
    "- n = number of rows\n",
    "- d = number of columns\n",
    "- R2 = the R2 score.\n",
    "\n",
    "### Formal definition of Adjusted R2 score\n",
    "This metric is a modification of R2 score that penalizes for adding more features to the model. It adjusts for the model complexity and can be a more reliable indicator of fit, especially when comparing models with different number of features."
   ]
  },
  {
   "cell_type": "markdown",
   "metadata": {},
   "source": [
    "# How to Choose the Right Metric for Model Evaluation?\n",
    "The choice of metric depends on the specific problem and the type of errors you are most concerned about.\n",
    "- Use MSE or RMSE when: squared errors are more critical, and when the magnitude of the errors is a concern (magnitude of errors refers to the size or absolute value of the difference between the predicted values from the model and the actual values observed in the data).\n",
    "- Use MAE when: absolute errors are more important, and you are concerned with outliers.\n",
    "- Use R2 score or adjusted R2 score when: you want to assess the overall fit of the model and the proportion of variance explained. However, be cautious of overfitting, especially with R2 score."
   ]
  },
  {
   "cell_type": "markdown",
   "metadata": {},
   "source": [
    "# Loss Function and Optimization\n",
    "\n",
    "### Loss function\n",
    "The loss function for linear regression is given by,\n",
    "\n",
    "$L(w_{vec}, w_0) = \\argmin_{w_{vec}, w_0} \\frac{1}{n} \\sum_{i = 1}^{n} (y_i - (\\bar{w_{vec}}^\\top \\bar{x_{vec}} + w_0))^2$\n",
    "\n",
    "Where,\n",
    "- $yi = y_{actual}$\n",
    "- $\\bar{w_{vec}}^\\top \\bar{x_{vec}} + w_0 = y_{\\text{predicted}}$\n",
    "\n",
    "The loss function is also called RSS.\n",
    "\n",
    "### Optimizing the loss function\n",
    "To optimize or minimize the loss function, and to find the values of $w_{vec}$ and $w_0$ gradient descent update rule is used. The update rule is defined as,\n",
    "\n",
    "$w_{vec} = w_{vec} - \\eta \\nabla(W_{vec}) L(w_{vec}, w_0)$\n",
    "\n",
    "$w_0 = w_0 - \\eta \\nabla(w_0) L(w_{vec}, w_0)$\n",
    "\n",
    "Where,\n",
    "- $\\eta$ = learning rate\n",
    "- $\\nabla$ = gradient/ partial derivative\n",
    "\n",
    "The objective is to find, $\\nabla(w_{vec})L(w_{vec}, w_0)$ and $\\nabla(w_0)L(w_{vec}, w_0)$.\n",
    "\n",
    "Using partial derivatives,\n",
    "- $\\nabla(w_{vec})L(w_{vec}, w_0) = \\frac{-2}{n}\\sum_{i = 1}^{n}((y_i - y_{vec})x_{vec})$\n",
    "- $\\nabla{w_0}L(w_{vec}, w_0) = \\frac{-2}{n} \\sum_{i = 1}^{n}(y_i - y_{vec})$\n",
    "\n",
    "### Putting everything together\n",
    "The OLS algorithm which is basically computing the best value of $w_{vec}$ and $w_0$, is performing the following,\n",
    "- It optimizes the loss function given by, $Loss: L(w_{vec}, w_0) = \\argmin_{w_{vec}, w_0} \\frac{1}{n} \\sum_{i = 1}^{n} (y_i - (\\bar{w_{vec}}^\\top \\bar{x_{vec}} + w_0))^2$.\n",
    "- Apply gradient descent (sequentially reduce the input values to reach the minima of the function). The update rule for gradient descent is given by,\n",
    "    - $w_{vec} = w_{vec} - \\eta \\nabla(W_{vec}) L(w_{vec}, w_0)$\n",
    "    - $w_0 = w_0 - \\eta \\nabla(w_0) L(w_{vec}, w_0)$\n",
    "- The result of the above is,\n",
    "    - $w_{vec} = w_{vec} - \\eta(\\frac{-2}{n}\\sum_{i = 1}^{n}((y_i - y_{vec})x_{vec}))$\n",
    "    - $w_0 = w_0 - \\eta(\\frac{-2}{n} \\sum_{i = 1}^{n}(y_i - y_{vec}))$\n",
    "- In the next step, $w_{vec}$ and $w_0$ are initialized and the loop is run for some number of iterations. (n = 1000 usually, but it may also depend on data, data size, number of features, number of rows, quality of data, whether the data is linear or not (linearly associated with the target), whether the data is scaled or not. But for a data that is cleaned, well prepared, the n value is 1000)."
   ]
  },
  {
   "cell_type": "markdown",
   "metadata": {},
   "source": [
    "# Linear Regression Algorithm\n",
    "1. Initialize `w_vec` and `w_0`.\n",
    "2. Find the slope (gradient) of `w_vec` and `w_0` with respect to the loss function.\n",
    "3. The gradient of `w_vec` is given by, `w_vec_slope = = -((y - y_pred).dot(2 * X))/ N`.\n",
    "4. The gradient of `w_0` is given by, `w_0_slope = -(2 * np.sum(y - y_pred))/ N`.\n",
    "5. Compute the gradient of w_vec and w_0 into the update equation of w_vec and w_0. These are given by, `w_vec = w_vec - ss * (w_vec_slope)` and `w_0 = w_0 - ss * (w_0_slope)`.\n",
    "6. Repeat the steps 3, 4, and 5 for the updated w_vec and w_0 for the specified number of iterations."
   ]
  },
  {
   "cell_type": "markdown",
   "metadata": {},
   "source": [
    "# Implementation of Linear Regression"
   ]
  },
  {
   "cell_type": "code",
   "execution_count": 1,
   "metadata": {},
   "outputs": [],
   "source": [
    "# importing packages\n",
    "import numpy as np\n",
    "import pandas as pd\n",
    "import matplotlib.pyplot as plt\n",
    "import seaborn as sns\n",
    "import warnings"
   ]
  },
  {
   "cell_type": "code",
   "execution_count": 2,
   "metadata": {},
   "outputs": [],
   "source": [
    "# configuring the notebook\n",
    "pd.set_option(\"display.max_columns\", None)\n",
    "sns.set_theme(style = \"whitegrid\")\n",
    "warnings.filterwarnings(\"ignore\")\n",
    "plt.rcParams['figure.figsize'] = (20, 10)"
   ]
  },
  {
   "cell_type": "code",
   "execution_count": 3,
   "metadata": {},
   "outputs": [
    {
     "data": {
      "text/html": [
       "<div>\n",
       "<style scoped>\n",
       "    .dataframe tbody tr th:only-of-type {\n",
       "        vertical-align: middle;\n",
       "    }\n",
       "\n",
       "    .dataframe tbody tr th {\n",
       "        vertical-align: top;\n",
       "    }\n",
       "\n",
       "    .dataframe thead th {\n",
       "        text-align: right;\n",
       "    }\n",
       "</style>\n",
       "<table border=\"1\" class=\"dataframe\">\n",
       "  <thead>\n",
       "    <tr style=\"text-align: right;\">\n",
       "      <th></th>\n",
       "      <th>selling_price</th>\n",
       "      <th>year</th>\n",
       "      <th>km_driven</th>\n",
       "      <th>mileage</th>\n",
       "      <th>engine</th>\n",
       "      <th>max_power</th>\n",
       "      <th>age</th>\n",
       "      <th>make</th>\n",
       "      <th>model</th>\n",
       "      <th>Individual</th>\n",
       "      <th>Trustmark Dealer</th>\n",
       "      <th>Diesel</th>\n",
       "      <th>Electric</th>\n",
       "      <th>LPG</th>\n",
       "      <th>Petrol</th>\n",
       "      <th>Manual</th>\n",
       "      <th>5</th>\n",
       "      <th>&gt;5</th>\n",
       "    </tr>\n",
       "  </thead>\n",
       "  <tbody>\n",
       "    <tr>\n",
       "      <th>0</th>\n",
       "      <td>1.20</td>\n",
       "      <td>2012.0</td>\n",
       "      <td>120000</td>\n",
       "      <td>19.70</td>\n",
       "      <td>796.0</td>\n",
       "      <td>46.30</td>\n",
       "      <td>11.0</td>\n",
       "      <td>MARUTI</td>\n",
       "      <td>ALTO STD</td>\n",
       "      <td>1</td>\n",
       "      <td>0</td>\n",
       "      <td>0</td>\n",
       "      <td>0</td>\n",
       "      <td>0</td>\n",
       "      <td>1</td>\n",
       "      <td>1</td>\n",
       "      <td>1</td>\n",
       "      <td>0</td>\n",
       "    </tr>\n",
       "    <tr>\n",
       "      <th>1</th>\n",
       "      <td>5.50</td>\n",
       "      <td>2016.0</td>\n",
       "      <td>20000</td>\n",
       "      <td>18.90</td>\n",
       "      <td>1197.0</td>\n",
       "      <td>82.00</td>\n",
       "      <td>7.0</td>\n",
       "      <td>HYUNDAI</td>\n",
       "      <td>GRAND I10 ASTA</td>\n",
       "      <td>1</td>\n",
       "      <td>0</td>\n",
       "      <td>0</td>\n",
       "      <td>0</td>\n",
       "      <td>0</td>\n",
       "      <td>1</td>\n",
       "      <td>1</td>\n",
       "      <td>1</td>\n",
       "      <td>0</td>\n",
       "    </tr>\n",
       "    <tr>\n",
       "      <th>2</th>\n",
       "      <td>2.15</td>\n",
       "      <td>2010.0</td>\n",
       "      <td>60000</td>\n",
       "      <td>17.00</td>\n",
       "      <td>1197.0</td>\n",
       "      <td>80.00</td>\n",
       "      <td>13.0</td>\n",
       "      <td>HYUNDAI</td>\n",
       "      <td>I20 ASTA</td>\n",
       "      <td>1</td>\n",
       "      <td>0</td>\n",
       "      <td>0</td>\n",
       "      <td>0</td>\n",
       "      <td>0</td>\n",
       "      <td>1</td>\n",
       "      <td>1</td>\n",
       "      <td>1</td>\n",
       "      <td>0</td>\n",
       "    </tr>\n",
       "    <tr>\n",
       "      <th>3</th>\n",
       "      <td>2.26</td>\n",
       "      <td>2012.0</td>\n",
       "      <td>37000</td>\n",
       "      <td>20.92</td>\n",
       "      <td>998.0</td>\n",
       "      <td>67.10</td>\n",
       "      <td>11.0</td>\n",
       "      <td>MARUTI</td>\n",
       "      <td>ALTO K10 2010-2014 VXI</td>\n",
       "      <td>1</td>\n",
       "      <td>0</td>\n",
       "      <td>0</td>\n",
       "      <td>0</td>\n",
       "      <td>0</td>\n",
       "      <td>1</td>\n",
       "      <td>1</td>\n",
       "      <td>1</td>\n",
       "      <td>0</td>\n",
       "    </tr>\n",
       "    <tr>\n",
       "      <th>4</th>\n",
       "      <td>5.70</td>\n",
       "      <td>2015.0</td>\n",
       "      <td>30000</td>\n",
       "      <td>22.77</td>\n",
       "      <td>1498.0</td>\n",
       "      <td>98.59</td>\n",
       "      <td>8.0</td>\n",
       "      <td>FORD</td>\n",
       "      <td>ECOSPORT 2015-2021 1.5 TDCI TITANIUM BSIV</td>\n",
       "      <td>0</td>\n",
       "      <td>0</td>\n",
       "      <td>1</td>\n",
       "      <td>0</td>\n",
       "      <td>0</td>\n",
       "      <td>0</td>\n",
       "      <td>1</td>\n",
       "      <td>1</td>\n",
       "      <td>0</td>\n",
       "    </tr>\n",
       "  </tbody>\n",
       "</table>\n",
       "</div>"
      ],
      "text/plain": [
       "   selling_price    year  km_driven  mileage  engine  max_power   age  \\\n",
       "0           1.20  2012.0     120000    19.70   796.0      46.30  11.0   \n",
       "1           5.50  2016.0      20000    18.90  1197.0      82.00   7.0   \n",
       "2           2.15  2010.0      60000    17.00  1197.0      80.00  13.0   \n",
       "3           2.26  2012.0      37000    20.92   998.0      67.10  11.0   \n",
       "4           5.70  2015.0      30000    22.77  1498.0      98.59   8.0   \n",
       "\n",
       "      make                                      model  Individual  \\\n",
       "0   MARUTI                                   ALTO STD           1   \n",
       "1  HYUNDAI                             GRAND I10 ASTA           1   \n",
       "2  HYUNDAI                                   I20 ASTA           1   \n",
       "3   MARUTI                     ALTO K10 2010-2014 VXI           1   \n",
       "4     FORD  ECOSPORT 2015-2021 1.5 TDCI TITANIUM BSIV           0   \n",
       "\n",
       "   Trustmark Dealer  Diesel  Electric  LPG  Petrol  Manual  5  >5  \n",
       "0                 0       0         0    0       1       1  1   0  \n",
       "1                 0       0         0    0       1       1  1   0  \n",
       "2                 0       0         0    0       1       1  1   0  \n",
       "3                 0       0         0    0       1       1  1   0  \n",
       "4                 0       1         0    0       0       1  1   0  "
      ]
     },
     "execution_count": 3,
     "metadata": {},
     "output_type": "execute_result"
    }
   ],
   "source": [
    "# reading the dataset\n",
    "df = pd.read_csv(\"used_car_price.csv\")\n",
    "df.head()"
   ]
  },
  {
   "cell_type": "markdown",
   "metadata": {},
   "source": [
    "### EDA"
   ]
  },
  {
   "cell_type": "code",
   "execution_count": 4,
   "metadata": {},
   "outputs": [
    {
     "data": {
      "text/plain": [
       "41"
      ]
     },
     "execution_count": 4,
     "metadata": {},
     "output_type": "execute_result"
    }
   ],
   "source": [
    "# unique \"make\"\n",
    "df[\"make\"].nunique()"
   ]
  },
  {
   "cell_type": "code",
   "execution_count": 5,
   "metadata": {},
   "outputs": [
    {
     "data": {
      "text/plain": [
       "3233"
      ]
     },
     "execution_count": 5,
     "metadata": {},
     "output_type": "execute_result"
    }
   ],
   "source": [
    "# unique \"model\"\n",
    "df[\"model\"].nunique()"
   ]
  },
  {
   "cell_type": "code",
   "execution_count": 6,
   "metadata": {},
   "outputs": [
    {
     "data": {
      "text/plain": [
       "make\n",
       "AMBASSADOR        1.452500\n",
       "AUDI             17.177585\n",
       "BENTLEY          20.902500\n",
       "BMW              17.349017\n",
       "CHEVROLET         2.723621\n",
       "DAEWOO            0.780000\n",
       "DATSUN            3.205176\n",
       "DC               11.925000\n",
       "FERRARI          20.902500\n",
       "FIAT              3.152795\n",
       "FORCE             5.520000\n",
       "FORD              5.858258\n",
       "HONDA             5.979902\n",
       "HYUNDAI           5.458819\n",
       "ISUZU            14.037708\n",
       "JAGUAR           20.187500\n",
       "JEEP             16.261890\n",
       "KIA              15.731515\n",
       "LAMBORGHINI      20.902500\n",
       "LAND             20.560147\n",
       "LEXUS            20.902500\n",
       "MAHINDRA          7.315421\n",
       "MARUTI            4.684721\n",
       "MASERATI         20.902500\n",
       "MERCEDES-AMG     20.902500\n",
       "MERCEDES-BENZ    17.071479\n",
       "MG               17.529474\n",
       "MINI             18.529457\n",
       "MITSUBISHI        8.631026\n",
       "NISSAN            4.611877\n",
       "OPEL              1.500000\n",
       "OPELCORSA         1.516667\n",
       "PORSCHE          20.866400\n",
       "PREMIER           2.550000\n",
       "RENAULT           4.606651\n",
       "ROLLS-ROYCE      20.902500\n",
       "SKODA             7.182097\n",
       "TATA              4.381194\n",
       "TOYOTA           10.532763\n",
       "VOLKSWAGEN        5.540306\n",
       "VOLVO            17.243274\n",
       "Name: selling_price, dtype: float64"
      ]
     },
     "execution_count": 6,
     "metadata": {},
     "output_type": "execute_result"
    }
   ],
   "source": [
    "# grouping the DataFrame by \"make\" and finding the average \"selling_price\"\n",
    "df.groupby(\"make\")[\"selling_price\"].mean()"
   ]
  },
  {
   "cell_type": "code",
   "execution_count": 7,
   "metadata": {},
   "outputs": [
    {
     "data": {
      "text/plain": [
       "0         4.684721\n",
       "1         5.458819\n",
       "2         5.458819\n",
       "3         4.684721\n",
       "4         5.858258\n",
       "           ...    \n",
       "19815    10.532763\n",
       "19816     4.684721\n",
       "19817     7.182097\n",
       "19818     7.315421\n",
       "19819     5.979902\n",
       "Name: selling_price, Length: 19820, dtype: float64"
      ]
     },
     "execution_count": 7,
     "metadata": {},
     "output_type": "execute_result"
    }
   ],
   "source": [
    "# calculating the average selling price for each car make in the DataFrame\n",
    "# assigning  the calculated average selling price to every row belonging to that make\n",
    "df.groupby(\"make\")[\"selling_price\"].transform(\"mean\")"
   ]
  },
  {
   "cell_type": "code",
   "execution_count": 8,
   "metadata": {},
   "outputs": [
    {
     "data": {
      "text/html": [
       "<div>\n",
       "<style scoped>\n",
       "    .dataframe tbody tr th:only-of-type {\n",
       "        vertical-align: middle;\n",
       "    }\n",
       "\n",
       "    .dataframe tbody tr th {\n",
       "        vertical-align: top;\n",
       "    }\n",
       "\n",
       "    .dataframe thead th {\n",
       "        text-align: right;\n",
       "    }\n",
       "</style>\n",
       "<table border=\"1\" class=\"dataframe\">\n",
       "  <thead>\n",
       "    <tr style=\"text-align: right;\">\n",
       "      <th></th>\n",
       "      <th>selling_price</th>\n",
       "      <th>year</th>\n",
       "      <th>km_driven</th>\n",
       "      <th>mileage</th>\n",
       "      <th>engine</th>\n",
       "      <th>max_power</th>\n",
       "      <th>age</th>\n",
       "      <th>make</th>\n",
       "      <th>model</th>\n",
       "      <th>Individual</th>\n",
       "      <th>Trustmark Dealer</th>\n",
       "      <th>Diesel</th>\n",
       "      <th>Electric</th>\n",
       "      <th>LPG</th>\n",
       "      <th>Petrol</th>\n",
       "      <th>Manual</th>\n",
       "      <th>5</th>\n",
       "      <th>&gt;5</th>\n",
       "    </tr>\n",
       "  </thead>\n",
       "  <tbody>\n",
       "    <tr>\n",
       "      <th>0</th>\n",
       "      <td>1.20</td>\n",
       "      <td>2012.0</td>\n",
       "      <td>120000</td>\n",
       "      <td>19.70</td>\n",
       "      <td>796.0</td>\n",
       "      <td>46.30</td>\n",
       "      <td>11.0</td>\n",
       "      <td>4.684721</td>\n",
       "      <td>1.180000</td>\n",
       "      <td>1</td>\n",
       "      <td>0</td>\n",
       "      <td>0</td>\n",
       "      <td>0</td>\n",
       "      <td>0</td>\n",
       "      <td>1</td>\n",
       "      <td>1</td>\n",
       "      <td>1</td>\n",
       "      <td>0</td>\n",
       "    </tr>\n",
       "    <tr>\n",
       "      <th>1</th>\n",
       "      <td>5.50</td>\n",
       "      <td>2016.0</td>\n",
       "      <td>20000</td>\n",
       "      <td>18.90</td>\n",
       "      <td>1197.0</td>\n",
       "      <td>82.00</td>\n",
       "      <td>7.0</td>\n",
       "      <td>5.458819</td>\n",
       "      <td>4.818750</td>\n",
       "      <td>1</td>\n",
       "      <td>0</td>\n",
       "      <td>0</td>\n",
       "      <td>0</td>\n",
       "      <td>0</td>\n",
       "      <td>1</td>\n",
       "      <td>1</td>\n",
       "      <td>1</td>\n",
       "      <td>0</td>\n",
       "    </tr>\n",
       "    <tr>\n",
       "      <th>2</th>\n",
       "      <td>2.15</td>\n",
       "      <td>2010.0</td>\n",
       "      <td>60000</td>\n",
       "      <td>17.00</td>\n",
       "      <td>1197.0</td>\n",
       "      <td>80.00</td>\n",
       "      <td>13.0</td>\n",
       "      <td>5.458819</td>\n",
       "      <td>3.394000</td>\n",
       "      <td>1</td>\n",
       "      <td>0</td>\n",
       "      <td>0</td>\n",
       "      <td>0</td>\n",
       "      <td>0</td>\n",
       "      <td>1</td>\n",
       "      <td>1</td>\n",
       "      <td>1</td>\n",
       "      <td>0</td>\n",
       "    </tr>\n",
       "    <tr>\n",
       "      <th>3</th>\n",
       "      <td>2.26</td>\n",
       "      <td>2012.0</td>\n",
       "      <td>37000</td>\n",
       "      <td>20.92</td>\n",
       "      <td>998.0</td>\n",
       "      <td>67.10</td>\n",
       "      <td>11.0</td>\n",
       "      <td>4.684721</td>\n",
       "      <td>2.242676</td>\n",
       "      <td>1</td>\n",
       "      <td>0</td>\n",
       "      <td>0</td>\n",
       "      <td>0</td>\n",
       "      <td>0</td>\n",
       "      <td>1</td>\n",
       "      <td>1</td>\n",
       "      <td>1</td>\n",
       "      <td>0</td>\n",
       "    </tr>\n",
       "    <tr>\n",
       "      <th>4</th>\n",
       "      <td>5.70</td>\n",
       "      <td>2015.0</td>\n",
       "      <td>30000</td>\n",
       "      <td>22.77</td>\n",
       "      <td>1498.0</td>\n",
       "      <td>98.59</td>\n",
       "      <td>8.0</td>\n",
       "      <td>5.858258</td>\n",
       "      <td>6.777576</td>\n",
       "      <td>0</td>\n",
       "      <td>0</td>\n",
       "      <td>1</td>\n",
       "      <td>0</td>\n",
       "      <td>0</td>\n",
       "      <td>0</td>\n",
       "      <td>1</td>\n",
       "      <td>1</td>\n",
       "      <td>0</td>\n",
       "    </tr>\n",
       "  </tbody>\n",
       "</table>\n",
       "</div>"
      ],
      "text/plain": [
       "   selling_price    year  km_driven  mileage  engine  max_power   age  \\\n",
       "0           1.20  2012.0     120000    19.70   796.0      46.30  11.0   \n",
       "1           5.50  2016.0      20000    18.90  1197.0      82.00   7.0   \n",
       "2           2.15  2010.0      60000    17.00  1197.0      80.00  13.0   \n",
       "3           2.26  2012.0      37000    20.92   998.0      67.10  11.0   \n",
       "4           5.70  2015.0      30000    22.77  1498.0      98.59   8.0   \n",
       "\n",
       "       make     model  Individual  Trustmark Dealer  Diesel  Electric  LPG  \\\n",
       "0  4.684721  1.180000           1                 0       0         0    0   \n",
       "1  5.458819  4.818750           1                 0       0         0    0   \n",
       "2  5.458819  3.394000           1                 0       0         0    0   \n",
       "3  4.684721  2.242676           1                 0       0         0    0   \n",
       "4  5.858258  6.777576           0                 0       1         0    0   \n",
       "\n",
       "   Petrol  Manual  5  >5  \n",
       "0       1       1  1   0  \n",
       "1       1       1  1   0  \n",
       "2       1       1  1   0  \n",
       "3       1       1  1   0  \n",
       "4       0       1  1   0  "
      ]
     },
     "execution_count": 8,
     "metadata": {},
     "output_type": "execute_result"
    }
   ],
   "source": [
    "# target encoding\n",
    "df[\"make\"]=df.groupby(\"make\")[\"selling_price\"].transform(\"mean\")\n",
    "df[\"model\"]=df.groupby(\"model\")[\"selling_price\"].transform(\"mean\")\n",
    "df.head()"
   ]
  },
  {
   "cell_type": "code",
   "execution_count": 9,
   "metadata": {},
   "outputs": [
    {
     "data": {
      "text/plain": [
       "0         1.20\n",
       "1         5.50\n",
       "2         2.15\n",
       "3         2.26\n",
       "4         5.70\n",
       "         ...  \n",
       "19815     6.50\n",
       "19816     9.25\n",
       "19817     4.25\n",
       "19818    12.25\n",
       "19819    12.00\n",
       "Name: selling_price, Length: 19820, dtype: float64"
      ]
     },
     "execution_count": 9,
     "metadata": {},
     "output_type": "execute_result"
    }
   ],
   "source": [
    "# separating the target variable from the df\n",
    "y = df[\"selling_price\"]\n",
    "y"
   ]
  },
  {
   "cell_type": "code",
   "execution_count": 10,
   "metadata": {},
   "outputs": [
    {
     "data": {
      "text/html": [
       "<div>\n",
       "<style scoped>\n",
       "    .dataframe tbody tr th:only-of-type {\n",
       "        vertical-align: middle;\n",
       "    }\n",
       "\n",
       "    .dataframe tbody tr th {\n",
       "        vertical-align: top;\n",
       "    }\n",
       "\n",
       "    .dataframe thead th {\n",
       "        text-align: right;\n",
       "    }\n",
       "</style>\n",
       "<table border=\"1\" class=\"dataframe\">\n",
       "  <thead>\n",
       "    <tr style=\"text-align: right;\">\n",
       "      <th></th>\n",
       "      <th>year</th>\n",
       "      <th>km_driven</th>\n",
       "      <th>mileage</th>\n",
       "      <th>engine</th>\n",
       "      <th>max_power</th>\n",
       "      <th>age</th>\n",
       "      <th>make</th>\n",
       "      <th>model</th>\n",
       "      <th>Individual</th>\n",
       "      <th>Trustmark Dealer</th>\n",
       "      <th>Diesel</th>\n",
       "      <th>Electric</th>\n",
       "      <th>LPG</th>\n",
       "      <th>Petrol</th>\n",
       "      <th>Manual</th>\n",
       "      <th>5</th>\n",
       "      <th>&gt;5</th>\n",
       "    </tr>\n",
       "  </thead>\n",
       "  <tbody>\n",
       "    <tr>\n",
       "      <th>0</th>\n",
       "      <td>2012.0</td>\n",
       "      <td>120000</td>\n",
       "      <td>19.70</td>\n",
       "      <td>796.0</td>\n",
       "      <td>46.30</td>\n",
       "      <td>11.0</td>\n",
       "      <td>4.684721</td>\n",
       "      <td>1.180000</td>\n",
       "      <td>1</td>\n",
       "      <td>0</td>\n",
       "      <td>0</td>\n",
       "      <td>0</td>\n",
       "      <td>0</td>\n",
       "      <td>1</td>\n",
       "      <td>1</td>\n",
       "      <td>1</td>\n",
       "      <td>0</td>\n",
       "    </tr>\n",
       "    <tr>\n",
       "      <th>1</th>\n",
       "      <td>2016.0</td>\n",
       "      <td>20000</td>\n",
       "      <td>18.90</td>\n",
       "      <td>1197.0</td>\n",
       "      <td>82.00</td>\n",
       "      <td>7.0</td>\n",
       "      <td>5.458819</td>\n",
       "      <td>4.818750</td>\n",
       "      <td>1</td>\n",
       "      <td>0</td>\n",
       "      <td>0</td>\n",
       "      <td>0</td>\n",
       "      <td>0</td>\n",
       "      <td>1</td>\n",
       "      <td>1</td>\n",
       "      <td>1</td>\n",
       "      <td>0</td>\n",
       "    </tr>\n",
       "    <tr>\n",
       "      <th>2</th>\n",
       "      <td>2010.0</td>\n",
       "      <td>60000</td>\n",
       "      <td>17.00</td>\n",
       "      <td>1197.0</td>\n",
       "      <td>80.00</td>\n",
       "      <td>13.0</td>\n",
       "      <td>5.458819</td>\n",
       "      <td>3.394000</td>\n",
       "      <td>1</td>\n",
       "      <td>0</td>\n",
       "      <td>0</td>\n",
       "      <td>0</td>\n",
       "      <td>0</td>\n",
       "      <td>1</td>\n",
       "      <td>1</td>\n",
       "      <td>1</td>\n",
       "      <td>0</td>\n",
       "    </tr>\n",
       "    <tr>\n",
       "      <th>3</th>\n",
       "      <td>2012.0</td>\n",
       "      <td>37000</td>\n",
       "      <td>20.92</td>\n",
       "      <td>998.0</td>\n",
       "      <td>67.10</td>\n",
       "      <td>11.0</td>\n",
       "      <td>4.684721</td>\n",
       "      <td>2.242676</td>\n",
       "      <td>1</td>\n",
       "      <td>0</td>\n",
       "      <td>0</td>\n",
       "      <td>0</td>\n",
       "      <td>0</td>\n",
       "      <td>1</td>\n",
       "      <td>1</td>\n",
       "      <td>1</td>\n",
       "      <td>0</td>\n",
       "    </tr>\n",
       "    <tr>\n",
       "      <th>4</th>\n",
       "      <td>2015.0</td>\n",
       "      <td>30000</td>\n",
       "      <td>22.77</td>\n",
       "      <td>1498.0</td>\n",
       "      <td>98.59</td>\n",
       "      <td>8.0</td>\n",
       "      <td>5.858258</td>\n",
       "      <td>6.777576</td>\n",
       "      <td>0</td>\n",
       "      <td>0</td>\n",
       "      <td>1</td>\n",
       "      <td>0</td>\n",
       "      <td>0</td>\n",
       "      <td>0</td>\n",
       "      <td>1</td>\n",
       "      <td>1</td>\n",
       "      <td>0</td>\n",
       "    </tr>\n",
       "  </tbody>\n",
       "</table>\n",
       "</div>"
      ],
      "text/plain": [
       "     year  km_driven  mileage  engine  max_power   age      make     model  \\\n",
       "0  2012.0     120000    19.70   796.0      46.30  11.0  4.684721  1.180000   \n",
       "1  2016.0      20000    18.90  1197.0      82.00   7.0  5.458819  4.818750   \n",
       "2  2010.0      60000    17.00  1197.0      80.00  13.0  5.458819  3.394000   \n",
       "3  2012.0      37000    20.92   998.0      67.10  11.0  4.684721  2.242676   \n",
       "4  2015.0      30000    22.77  1498.0      98.59   8.0  5.858258  6.777576   \n",
       "\n",
       "   Individual  Trustmark Dealer  Diesel  Electric  LPG  Petrol  Manual  5  >5  \n",
       "0           1                 0       0         0    0       1       1  1   0  \n",
       "1           1                 0       0         0    0       1       1  1   0  \n",
       "2           1                 0       0         0    0       1       1  1   0  \n",
       "3           1                 0       0         0    0       1       1  1   0  \n",
       "4           0                 0       1         0    0       0       1  1   0  "
      ]
     },
     "execution_count": 10,
     "metadata": {},
     "output_type": "execute_result"
    }
   ],
   "source": [
    "x = df.drop(columns = [\"selling_price\"])\n",
    "x.head()"
   ]
  },
  {
   "cell_type": "code",
   "execution_count": 11,
   "metadata": {},
   "outputs": [
    {
     "data": {
      "text/plain": [
       "((15856, 17), (3964, 17))"
      ]
     },
     "execution_count": 11,
     "metadata": {},
     "output_type": "execute_result"
    }
   ],
   "source": [
    "# performing train-test split\n",
    "from sklearn.model_selection import train_test_split\n",
    "\n",
    "x_train, x_test, y_train, y_test = train_test_split(x, y, test_size = 0.2, random_state = 42)\n",
    "x_train.shape, x_test.shape"
   ]
  },
  {
   "cell_type": "code",
   "execution_count": 12,
   "metadata": {},
   "outputs": [],
   "source": [
    "# normalizing the data using MinMaxScaler\n",
    "from sklearn.preprocessing import MinMaxScaler\n",
    "\n",
    "scaler = MinMaxScaler()\n",
    "x_train = scaler.fit_transform(x_train)\n",
    "x_test = scaler.transform(x_test)"
   ]
  },
  {
   "cell_type": "markdown",
   "metadata": {},
   "source": [
    "### Model building"
   ]
  },
  {
   "cell_type": "code",
   "execution_count": 13,
   "metadata": {},
   "outputs": [],
   "source": [
    "# initialize w and w0\n",
    "w = np.zeros(x_train.shape[1])\n",
    "w0 = 0"
   ]
  },
  {
   "cell_type": "code",
   "execution_count": 14,
   "metadata": {},
   "outputs": [],
   "source": [
    "# defining the method for linear regression\n",
    "def linear_regression(x, y, w, w0, iters = 1000, ss = 0.1):\n",
    "    N = len(y)\n",
    "    rss_l = []\n",
    "    for i in range(iters):\n",
    "        y_pred = np.dot(x, w) + w0\n",
    "        rss = np.square(np.subtract(y, y_pred)).mean()\n",
    "\n",
    "        w_slope = -((y - y_pred).dot(2 * x))/ N\n",
    "        w0_slope = -(2 * np.sum(y - y_pred))/ N\n",
    "\n",
    "        w = w - ss * (w_slope)\n",
    "        w0 = w0 - ss * (w0_slope)\n",
    "        rss_l.append(rss)\n",
    "\n",
    "    return w, w0, rss_l"
   ]
  },
  {
   "cell_type": "code",
   "execution_count": 15,
   "metadata": {},
   "outputs": [],
   "source": [
    "w, w0, rss_l = linear_regression(x_train, y_train, w, w0, iters = 1000, ss = 0.1)"
   ]
  },
  {
   "cell_type": "code",
   "execution_count": 16,
   "metadata": {},
   "outputs": [
    {
     "data": {
      "text/plain": [
       "array([ 2.99524316, -1.02917332, -1.03197062,  1.99909371,  2.80983092,\n",
       "       -3.63705364,  3.15722501, 15.65096043, -0.14289834, -0.14377705,\n",
       "        0.03892248,  0.05762567,  0.1541321 , -0.17577393, -0.22527873,\n",
       "       -0.35878689, -0.29062098])"
      ]
     },
     "execution_count": 16,
     "metadata": {},
     "output_type": "execute_result"
    }
   ],
   "source": [
    "w"
   ]
  },
  {
   "cell_type": "code",
   "execution_count": 17,
   "metadata": {},
   "outputs": [
    {
     "data": {
      "text/plain": [
       "-0.6418104777148756"
      ]
     },
     "execution_count": 17,
     "metadata": {},
     "output_type": "execute_result"
    }
   ],
   "source": [
    "w0"
   ]
  },
  {
   "cell_type": "code",
   "execution_count": 18,
   "metadata": {},
   "outputs": [
    {
     "data": {
      "image/png": "[encoded data removed]",
      "text/plain": [
       "<Figure size 2000x1000 with 1 Axes>"
      ]
     },
     "metadata": {},
     "output_type": "display_data"
    }
   ],
   "source": [
    "# plotting the residuals\n",
    "pd.DataFrame(rss_l).plot(kind = \"line\")\n",
    "plt.title(\"Plot of Residuals from Linear Regression\")\n",
    "plt.tight_layout()\n",
    "plt.show()"
   ]
  },
  {
   "cell_type": "code",
   "execution_count": 19,
   "metadata": {},
   "outputs": [
    {
     "data": {
      "text/plain": [
       "array([5.06430478, 5.39917338, 6.11258367, ..., 0.70510414, 2.48408522,\n",
       "       7.11807784])"
      ]
     },
     "execution_count": 19,
     "metadata": {},
     "output_type": "execute_result"
    }
   ],
   "source": [
    "# prediction on test data\n",
    "y_pred_test = np.dot(x_test, w) + w0\n",
    "y_pred_test"
   ]
  },
  {
   "cell_type": "code",
   "execution_count": 20,
   "metadata": {},
   "outputs": [
    {
     "data": {
      "text/plain": [
       "0.9464746062824007"
      ]
     },
     "execution_count": 20,
     "metadata": {},
     "output_type": "execute_result"
    }
   ],
   "source": [
    "# computing the R2 score\n",
    "def r2_score(x, y):\n",
    "    y_pred = np.dot(x, w) + w0\n",
    "    rss = np.sum((y - y_pred) ** 2)\n",
    "    tss = np.sum((y - y.mean()) ** 2)\n",
    "    r2_score = 1 - (rss/ tss)\n",
    "    return r2_score\n",
    "\n",
    "r2_score(x_test, y_test)"
   ]
  },
  {
   "cell_type": "markdown",
   "metadata": {},
   "source": [
    "### Scratch implementation"
   ]
  },
  {
   "cell_type": "code",
   "execution_count": 21,
   "metadata": {},
   "outputs": [],
   "source": [
    "class Linear_Regression():\n",
    "    def __init__(self, learning_rate = 0.01, iterations = 5):\n",
    "        \n",
    "        self.learning_rate = learning_rate\n",
    "        self.iterations = iterations\n",
    "    \n",
    "\n",
    "    def predict(self, x):\n",
    "\n",
    "        return np.dot(x, self.w) + self.w_0\n",
    "    \n",
    "\n",
    "    def update_weights(self):\n",
    "\n",
    "        y_pred = self.predict(self.x)\n",
    "\n",
    "        # calculate gradients\n",
    "        w_slope = - (2 * (self.x.T).dot(self.y - y_pred))/self.m\n",
    "        w_0_slope = - 2 * np.sum(self.y - y_pred)/self.m\n",
    "\n",
    "        self.w = self.w - (self.learning_rate * w_slope)\n",
    "        self.w_0 = self.w_0 - (self.learning_rate * w_0_slope)\n",
    "\n",
    "        return self\n",
    "    \n",
    "\n",
    "    def fit(self, x, y):\n",
    "\n",
    "        self.m, self.d = x.shape\n",
    "\n",
    "        # initializing weights\n",
    "        self.w = np.zeros(self.d)\n",
    "        self.w_0 = 0\n",
    "        self.x = x\n",
    "        self.y = y\n",
    "        self.error_list = []\n",
    "\n",
    "        # gradient descent\n",
    "        for i in range(self.iterations):\n",
    "            self.update_weights()\n",
    "            y_pred = x.dot(self.w) + self.w_0\n",
    "            error = np.square(np.subtract(y, y_pred)).mean()\n",
    "            self.error_list.append(error)\n",
    "        \n",
    "        return self\n",
    "    \n",
    "    \n",
    "    def score(self, x, y):\n",
    "\n",
    "        y_ = self.predict(x)\n",
    "        ss_res = np.sum((y - y_) ** 2)\n",
    "        ss_tot = np.sum((y - y.mean()) ** 2)\n",
    "        score = 1 - (ss_res/ ss_tot)\n",
    "\n",
    "        return score"
   ]
  },
  {
   "cell_type": "code",
   "execution_count": 22,
   "metadata": {},
   "outputs": [
    {
     "data": {
      "text/plain": [
       "<__main__.Linear_Regression at 0x16ea7a8d0>"
      ]
     },
     "execution_count": 22,
     "metadata": {},
     "output_type": "execute_result"
    }
   ],
   "source": [
    "model = Linear_Regression(iterations = 100)\n",
    "model.fit(x_train, y_train)"
   ]
  },
  {
   "cell_type": "code",
   "execution_count": 23,
   "metadata": {},
   "outputs": [
    {
     "data": {
      "text/plain": [
       "array([6.88673199, 7.05987764, 7.24878219, ..., 4.24410924, 4.56294171,\n",
       "       7.34713531])"
      ]
     },
     "execution_count": 23,
     "metadata": {},
     "output_type": "execute_result"
    }
   ],
   "source": [
    "model.predict(x_test)"
   ]
  },
  {
   "cell_type": "code",
   "execution_count": 24,
   "metadata": {},
   "outputs": [
    {
     "data": {
      "text/plain": [
       "0.44712042639628446"
      ]
     },
     "execution_count": 24,
     "metadata": {},
     "output_type": "execute_result"
    }
   ],
   "source": [
    "model.score(x_test, y_test)"
   ]
  },
  {
   "cell_type": "code",
   "execution_count": 25,
   "metadata": {},
   "outputs": [
    {
     "data": {
      "text/plain": [
       "0.4375066507081047"
      ]
     },
     "execution_count": 25,
     "metadata": {},
     "output_type": "execute_result"
    }
   ],
   "source": [
    "model.score(x_train, y_train)"
   ]
  },
  {
   "cell_type": "code",
   "execution_count": 26,
   "metadata": {},
   "outputs": [
    {
     "data": {
      "text/plain": [
       "array([ 1.889676  ,  0.0352362 ,  0.15358563,  0.82845718,  0.7543883 ,\n",
       "        0.07778293,  1.66540348,  2.42307352, -0.14455114,  0.01280151,\n",
       "        1.86390038,  0.00436   , -0.01368238,  0.12616861, -0.45736694,\n",
       "        0.91447855,  0.94423585])"
      ]
     },
     "execution_count": 26,
     "metadata": {},
     "output_type": "execute_result"
    }
   ],
   "source": [
    "model.w"
   ]
  },
  {
   "cell_type": "code",
   "execution_count": 27,
   "metadata": {},
   "outputs": [
    {
     "data": {
      "image/png": "[encoded data removed]",
      "text/plain": [
       "<Figure size 2000x1000 with 1 Axes>"
      ]
     },
     "metadata": {},
     "output_type": "display_data"
    }
   ],
   "source": [
    "# plotting the residuals\n",
    "%matplotlib inline\n",
    "plt.plot(model.error_list)\n",
    "plt.title(\"Reduction in error over time\")\n",
    "plt.xlabel(\"iteration\")\n",
    "plt.ylabel(\"Error\")\n",
    "plt.show()"
   ]
  },
  {
   "cell_type": "markdown",
   "metadata": {},
   "source": [
    "### `sklearn` implementation"
   ]
  },
  {
   "cell_type": "code",
   "execution_count": 28,
   "metadata": {},
   "outputs": [
    {
     "data": {
      "text/html": [
       "<style>#sk-container-id-1 {color: black;}#sk-container-id-1 pre{padding: 0;}#sk-container-id-1 div.sk-toggleable {background-color: white;}#sk-container-id-1 label.sk-toggleable__label {cursor: pointer;display: block;width: 100%;margin-bottom: 0;padding: 0.3em;box-sizing: border-box;text-align: center;}#sk-container-id-1 label.sk-toggleable__label-arrow:before {content: \"▸\";float: left;margin-right: 0.25em;color: #696969;}#sk-container-id-1 label.sk-toggleable__label-arrow:hover:before {color: black;}#sk-container-id-1 div.sk-estimator:hover label.sk-toggleable__label-arrow:before {color: black;}#sk-container-id-1 div.sk-toggleable__content {max-height: 0;max-width: 0;overflow: hidden;text-align: left;background-color: #f0f8ff;}#sk-container-id-1 div.sk-toggleable__content pre {margin: 0.2em;color: black;border-radius: 0.25em;background-color: #f0f8ff;}#sk-container-id-1 input.sk-toggleable__control:checked~div.sk-toggleable__content {max-height: 200px;max-width: 100%;overflow: auto;}#sk-container-id-1 input.sk-toggleable__control:checked~label.sk-toggleable__label-arrow:before {content: \"▾\";}#sk-container-id-1 div.sk-estimator input.sk-toggleable__control:checked~label.sk-toggleable__label {background-color: #d4ebff;}#sk-container-id-1 div.sk-label input.sk-toggleable__control:checked~label.sk-toggleable__label {background-color: #d4ebff;}#sk-container-id-1 input.sk-hidden--visually {border: 0;clip: rect(1px 1px 1px 1px);clip: rect(1px, 1px, 1px, 1px);height: 1px;margin: -1px;overflow: hidden;padding: 0;position: absolute;width: 1px;}#sk-container-id-1 div.sk-estimator {font-family: monospace;background-color: #f0f8ff;border: 1px dotted black;border-radius: 0.25em;box-sizing: border-box;margin-bottom: 0.5em;}#sk-container-id-1 div.sk-estimator:hover {background-color: #d4ebff;}#sk-container-id-1 div.sk-parallel-item::after {content: \"\";width: 100%;border-bottom: 1px solid gray;flex-grow: 1;}#sk-container-id-1 div.sk-label:hover label.sk-toggleable__label {background-color: #d4ebff;}#sk-container-id-1 div.sk-serial::before {content: \"\";position: absolute;border-left: 1px solid gray;box-sizing: border-box;top: 0;bottom: 0;left: 50%;z-index: 0;}#sk-container-id-1 div.sk-serial {display: flex;flex-direction: column;align-items: center;background-color: white;padding-right: 0.2em;padding-left: 0.2em;position: relative;}#sk-container-id-1 div.sk-item {position: relative;z-index: 1;}#sk-container-id-1 div.sk-parallel {display: flex;align-items: stretch;justify-content: center;background-color: white;position: relative;}#sk-container-id-1 div.sk-item::before, #sk-container-id-1 div.sk-parallel-item::before {content: \"\";position: absolute;border-left: 1px solid gray;box-sizing: border-box;top: 0;bottom: 0;left: 50%;z-index: -1;}#sk-container-id-1 div.sk-parallel-item {display: flex;flex-direction: column;z-index: 1;position: relative;background-color: white;}#sk-container-id-1 div.sk-parallel-item:first-child::after {align-self: flex-end;width: 50%;}#sk-container-id-1 div.sk-parallel-item:last-child::after {align-self: flex-start;width: 50%;}#sk-container-id-1 div.sk-parallel-item:only-child::after {width: 0;}#sk-container-id-1 div.sk-dashed-wrapped {border: 1px dashed gray;margin: 0 0.4em 0.5em 0.4em;box-sizing: border-box;padding-bottom: 0.4em;background-color: white;}#sk-container-id-1 div.sk-label label {font-family: monospace;font-weight: bold;display: inline-block;line-height: 1.2em;}#sk-container-id-1 div.sk-label-container {text-align: center;}#sk-container-id-1 div.sk-container {/* jupyter's `normalize.less` sets `[hidden] { display: none; }` but bootstrap.min.css set `[hidden] { display: none !important; }` so we also need the `!important` here to be able to override the default hidden behavior on the sphinx rendered scikit-learn.org. See: https://github.com/scikit-learn/scikit-learn/issues/21755 */display: inline-block !important;position: relative;}#sk-container-id-1 div.sk-text-repr-fallback {display: none;}</style><div id=\"sk-container-id-1\" class=\"sk-top-container\"><div class=\"sk-text-repr-fallback\"><pre>LinearRegression()</pre><b>In a Jupyter environment, please rerun this cell to show the HTML representation or trust the notebook. <br />On GitHub, the HTML representation is unable to render, please try loading this page with nbviewer.org.</b></div><div class=\"sk-container\" hidden><div class=\"sk-item\"><div class=\"sk-estimator sk-toggleable\"><input class=\"sk-toggleable__control sk-hidden--visually\" id=\"sk-estimator-id-1\" type=\"checkbox\" checked><label for=\"sk-estimator-id-1\" class=\"sk-toggleable__label sk-toggleable__label-arrow\">LinearRegression</label><div class=\"sk-toggleable__content\"><pre>LinearRegression()</pre></div></div></div></div></div>"
      ],
      "text/plain": [
       "LinearRegression()"
      ]
     },
     "execution_count": 28,
     "metadata": {},
     "output_type": "execute_result"
    }
   ],
   "source": [
    "from sklearn.linear_model import LinearRegression\n",
    "\n",
    "model = LinearRegression()\n",
    "model"
   ]
  },
  {
   "cell_type": "code",
   "execution_count": 29,
   "metadata": {},
   "outputs": [
    {
     "data": {
      "text/html": [
       "<style>#sk-container-id-2 {color: black;}#sk-container-id-2 pre{padding: 0;}#sk-container-id-2 div.sk-toggleable {background-color: white;}#sk-container-id-2 label.sk-toggleable__label {cursor: pointer;display: block;width: 100%;margin-bottom: 0;padding: 0.3em;box-sizing: border-box;text-align: center;}#sk-container-id-2 label.sk-toggleable__label-arrow:before {content: \"▸\";float: left;margin-right: 0.25em;color: #696969;}#sk-container-id-2 label.sk-toggleable__label-arrow:hover:before {color: black;}#sk-container-id-2 div.sk-estimator:hover label.sk-toggleable__label-arrow:before {color: black;}#sk-container-id-2 div.sk-toggleable__content {max-height: 0;max-width: 0;overflow: hidden;text-align: left;background-color: #f0f8ff;}#sk-container-id-2 div.sk-toggleable__content pre {margin: 0.2em;color: black;border-radius: 0.25em;background-color: #f0f8ff;}#sk-container-id-2 input.sk-toggleable__control:checked~div.sk-toggleable__content {max-height: 200px;max-width: 100%;overflow: auto;}#sk-container-id-2 input.sk-toggleable__control:checked~label.sk-toggleable__label-arrow:before {content: \"▾\";}#sk-container-id-2 div.sk-estimator input.sk-toggleable__control:checked~label.sk-toggleable__label {background-color: #d4ebff;}#sk-container-id-2 div.sk-label input.sk-toggleable__control:checked~label.sk-toggleable__label {background-color: #d4ebff;}#sk-container-id-2 input.sk-hidden--visually {border: 0;clip: rect(1px 1px 1px 1px);clip: rect(1px, 1px, 1px, 1px);height: 1px;margin: -1px;overflow: hidden;padding: 0;position: absolute;width: 1px;}#sk-container-id-2 div.sk-estimator {font-family: monospace;background-color: #f0f8ff;border: 1px dotted black;border-radius: 0.25em;box-sizing: border-box;margin-bottom: 0.5em;}#sk-container-id-2 div.sk-estimator:hover {background-color: #d4ebff;}#sk-container-id-2 div.sk-parallel-item::after {content: \"\";width: 100%;border-bottom: 1px solid gray;flex-grow: 1;}#sk-container-id-2 div.sk-label:hover label.sk-toggleable__label {background-color: #d4ebff;}#sk-container-id-2 div.sk-serial::before {content: \"\";position: absolute;border-left: 1px solid gray;box-sizing: border-box;top: 0;bottom: 0;left: 50%;z-index: 0;}#sk-container-id-2 div.sk-serial {display: flex;flex-direction: column;align-items: center;background-color: white;padding-right: 0.2em;padding-left: 0.2em;position: relative;}#sk-container-id-2 div.sk-item {position: relative;z-index: 1;}#sk-container-id-2 div.sk-parallel {display: flex;align-items: stretch;justify-content: center;background-color: white;position: relative;}#sk-container-id-2 div.sk-item::before, #sk-container-id-2 div.sk-parallel-item::before {content: \"\";position: absolute;border-left: 1px solid gray;box-sizing: border-box;top: 0;bottom: 0;left: 50%;z-index: -1;}#sk-container-id-2 div.sk-parallel-item {display: flex;flex-direction: column;z-index: 1;position: relative;background-color: white;}#sk-container-id-2 div.sk-parallel-item:first-child::after {align-self: flex-end;width: 50%;}#sk-container-id-2 div.sk-parallel-item:last-child::after {align-self: flex-start;width: 50%;}#sk-container-id-2 div.sk-parallel-item:only-child::after {width: 0;}#sk-container-id-2 div.sk-dashed-wrapped {border: 1px dashed gray;margin: 0 0.4em 0.5em 0.4em;box-sizing: border-box;padding-bottom: 0.4em;background-color: white;}#sk-container-id-2 div.sk-label label {font-family: monospace;font-weight: bold;display: inline-block;line-height: 1.2em;}#sk-container-id-2 div.sk-label-container {text-align: center;}#sk-container-id-2 div.sk-container {/* jupyter's `normalize.less` sets `[hidden] { display: none; }` but bootstrap.min.css set `[hidden] { display: none !important; }` so we also need the `!important` here to be able to override the default hidden behavior on the sphinx rendered scikit-learn.org. See: https://github.com/scikit-learn/scikit-learn/issues/21755 */display: inline-block !important;position: relative;}#sk-container-id-2 div.sk-text-repr-fallback {display: none;}</style><div id=\"sk-container-id-2\" class=\"sk-top-container\"><div class=\"sk-text-repr-fallback\"><pre>LinearRegression()</pre><b>In a Jupyter environment, please rerun this cell to show the HTML representation or trust the notebook. <br />On GitHub, the HTML representation is unable to render, please try loading this page with nbviewer.org.</b></div><div class=\"sk-container\" hidden><div class=\"sk-item\"><div class=\"sk-estimator sk-toggleable\"><input class=\"sk-toggleable__control sk-hidden--visually\" id=\"sk-estimator-id-2\" type=\"checkbox\" checked><label for=\"sk-estimator-id-2\" class=\"sk-toggleable__label sk-toggleable__label-arrow\">LinearRegression</label><div class=\"sk-toggleable__content\"><pre>LinearRegression()</pre></div></div></div></div></div>"
      ],
      "text/plain": [
       "LinearRegression()"
      ]
     },
     "execution_count": 29,
     "metadata": {},
     "output_type": "execute_result"
    }
   ],
   "source": [
    "model.fit(x_train, y_train)"
   ]
  },
  {
   "cell_type": "code",
   "execution_count": 30,
   "metadata": {},
   "outputs": [
    {
     "data": {
      "text/plain": [
       "0.9454687687620104"
      ]
     },
     "execution_count": 30,
     "metadata": {},
     "output_type": "execute_result"
    }
   ],
   "source": [
    "model.score(x_train, y_train)"
   ]
  },
  {
   "cell_type": "code",
   "execution_count": 31,
   "metadata": {},
   "outputs": [
    {
     "data": {
      "text/plain": [
       "array([ 9.62157293e+12, -4.70507812e+00, -5.09188012e+00,  1.79641653e+00,\n",
       "        6.77102598e-01,  9.62157293e+12,  1.38660986e+00,  1.76751176e+01,\n",
       "       -1.21032630e-01, -1.65133962e-01,  1.21075807e-01,  2.53139876e+00,\n",
       "        3.16119404e-01, -2.05215382e-01, -8.79814772e-02, -2.55212849e-01,\n",
       "       -4.23116556e-01])"
      ]
     },
     "execution_count": 31,
     "metadata": {},
     "output_type": "execute_result"
    }
   ],
   "source": [
    "model.coef_ # w vector"
   ]
  },
  {
   "cell_type": "code",
   "execution_count": 32,
   "metadata": {},
   "outputs": [
    {
     "data": {
      "text/plain": [
       "17"
      ]
     },
     "execution_count": 32,
     "metadata": {},
     "output_type": "execute_result"
    }
   ],
   "source": [
    "len(model.coef_) # 17 or equal to number of features"
   ]
  },
  {
   "cell_type": "code",
   "execution_count": 33,
   "metadata": {},
   "outputs": [
    {
     "data": {
      "text/plain": [
       "-9621572931562.297"
      ]
     },
     "execution_count": 33,
     "metadata": {},
     "output_type": "execute_result"
    }
   ],
   "source": [
    "model.intercept_ # wo or bias"
   ]
  },
  {
   "cell_type": "code",
   "execution_count": 34,
   "metadata": {},
   "outputs": [
    {
     "data": {
      "text/plain": [
       "array([4.90039062, 5.38671875, 5.8203125 , ..., 0.96484375, 2.78320312,\n",
       "       6.8515625 ])"
      ]
     },
     "execution_count": 34,
     "metadata": {},
     "output_type": "execute_result"
    }
   ],
   "source": [
    "# prediction\n",
    "y_pred = model.predict(x_test)\n",
    "y_pred"
   ]
  },
  {
   "cell_type": "code",
   "execution_count": 35,
   "metadata": {},
   "outputs": [
    {
     "data": {
      "text/plain": [
       "0.946754581134693"
      ]
     },
     "execution_count": 35,
     "metadata": {},
     "output_type": "execute_result"
    }
   ],
   "source": [
    "from sklearn.metrics import r2_score\n",
    "\n",
    "test_r2_score = r2_score(y_test, y_pred)\n",
    "test_r2_score"
   ]
  },
  {
   "cell_type": "code",
   "execution_count": 36,
   "metadata": {},
   "outputs": [
    {
     "data": {
      "text/plain": [
       "0.9465251913423184"
      ]
     },
     "execution_count": 36,
     "metadata": {},
     "output_type": "execute_result"
    }
   ],
   "source": [
    "def adjusted_r2_score(r2, n, k):\n",
    "    return 1 - (((1 - r2) * (n - 1))/ (n - k - 1))\n",
    "\n",
    "adjusted_r2_score(test_r2_score, x_test.shape[0], x_test.shape[1])"
   ]
  },
  {
   "cell_type": "markdown",
   "metadata": {},
   "source": [
    "# How is the Golbal Minima Found?\n"
   ]
  }
 ],
 "metadata": {
  "kernelspec": {
   "display_name": "Python 3",
   "language": "python",
   "name": "python3"
  },
  "language_info": {
   "codemirror_mode": {
    "name": "ipython",
    "version": 3
   },
   "file_extension": ".py",
   "mimetype": "text/x-python",
   "name": "python",
   "nbconvert_exporter": "python",
   "pygments_lexer": "ipython3",
   "version": "3.11.2"
  }
 },
 "nbformat": 4,
 "nbformat_minor": 2
}
