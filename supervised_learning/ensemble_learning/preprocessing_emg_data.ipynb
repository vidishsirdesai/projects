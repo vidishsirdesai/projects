{
 "cells": [
  {
   "cell_type": "code",
   "execution_count": 1,
   "metadata": {},
   "outputs": [],
   "source": [
    "import numpy as np\n",
    "import pandas as pd\n",
    "import matplotlib.pyplot as plt\n",
    "import seaborn as sns\n",
    "import warnings"
   ]
  },
  {
   "cell_type": "code",
   "execution_count": 2,
   "metadata": {},
   "outputs": [],
   "source": [
    "pd.set_option(\"display.max_columns\", None)\n",
    "sns.set_theme(style = \"whitegrid\")\n",
    "warnings.filterwarnings(\"ignore\")\n",
    "plt.rcParams['figure.figsize'] = (20, 10)"
   ]
  },
  {
   "cell_type": "code",
   "execution_count": null,
   "metadata": {},
   "outputs": [],
   "source": [
    "# run the following commands in the Terminal\n",
    "# cd emg_data\n",
    "# extract files, unrar x \"./emg.rar\" \"./\"\n",
    "# install tree sudo apt install tree\n",
    "# tree \"./EMG Physical Action Data Set/sub1\"\n",
    "# ls -lrt ./EMG\\ Physical\\ Action\\ Data\\ Set/sub1/Aggressive/txt/\n",
    "# cat ./EMG\\ Physical\\ Action\\ Data\\ Set/sub1/Aggressive/txt/Slapping.txt"
   ]
  },
  {
   "cell_type": "code",
   "execution_count": null,
   "metadata": {},
   "outputs": [],
   "source": [
    "# run the following commands in the command line (MacOS)\n",
    "# cd emg_data\n",
    "# extract files, tar -xf emg.rar\n",
    "# install brew, brew install tree\n",
    "# view the tree disgram of the file system in the EMG dataset directory, tree \"./EMG Physical Action Data Set/sub1\"\n",
    "# view the files in one of the node directories, ls -lrt ./EMG\\ Physical\\ Action\\ Data\\ Set/sub1/Aggressive/txt/\n",
    "# view the data in slappint.txt, cat ./EMG\\ Physical\\ Action\\ Data\\ Set/sub1/Aggressive/txt/Slapping.txt"
   ]
  },
  {
   "cell_type": "code",
   "execution_count": null,
   "metadata": {},
   "outputs": [],
   "source": []
  }
 ],
 "metadata": {
  "kernelspec": {
   "display_name": "Python 3",
   "language": "python",
   "name": "python3"
  },
  "language_info": {
   "codemirror_mode": {
    "name": "ipython",
    "version": 3
   },
   "file_extension": ".py",
   "mimetype": "text/x-python",
   "name": "python",
   "nbconvert_exporter": "python",
   "pygments_lexer": "ipython3",
   "version": "3.11.9"
  }
 },
 "nbformat": 4,
 "nbformat_minor": 2
}
