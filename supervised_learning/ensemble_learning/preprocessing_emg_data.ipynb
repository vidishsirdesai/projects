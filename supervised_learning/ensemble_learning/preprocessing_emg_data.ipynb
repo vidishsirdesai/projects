{
 "cells": [
  {
   "cell_type": "code",
   "execution_count": 1,
   "metadata": {},
   "outputs": [],
   "source": [
    "import numpy as np\n",
    "import pandas as pd\n",
    "import matplotlib.pyplot as plt\n",
    "import seaborn as sns\n",
    "import warnings"
   ]
  },
  {
   "cell_type": "code",
   "execution_count": 2,
   "metadata": {},
   "outputs": [],
   "source": [
    "pd.set_option(\"display.max_columns\", None)\n",
    "sns.set_theme(style = \"whitegrid\")\n",
    "warnings.filterwarnings(\"ignore\")\n",
    "plt.rcParams['figure.figsize'] = (20, 10)"
   ]
  },
  {
   "cell_type": "code",
   "execution_count": 3,
   "metadata": {},
   "outputs": [],
   "source": [
    "# run the following commands in the Terminal\n",
    "# cd emg_data\n",
    "# extract files, unrar x \"./emg.rar\" \"./\"\n",
    "# install tree sudo apt install tree\n",
    "# tree \"./EMG Physical Action Data Set/sub1\"\n",
    "# ls -lrt ./EMG\\ Physical\\ Action\\ Data\\ Set/sub1/Aggressive/txt/\n",
    "# cat ./EMG\\ Physical\\ Action\\ Data\\ Set/sub1/Aggressive/txt/Slapping.txt"
   ]
  },
  {
   "cell_type": "code",
   "execution_count": 4,
   "metadata": {},
   "outputs": [],
   "source": [
    "# run the following commands in the command line (MacOS)\n",
    "# cd emg_data\n",
    "# extract files, tar -xf emg.rar\n",
    "# install brew, brew install tree\n",
    "# view the tree disgram of the file system in the EMG dataset directory, tree \"./EMG Physical Action Data Set/sub1\"\n",
    "# view the files in one of the node directories, ls -lrt ./EMG\\ Physical\\ Action\\ Data\\ Set/sub1/Aggressive/txt/\n",
    "# view the data in slappint.txt, cat ./EMG\\ Physical\\ Action\\ Data\\ Set/sub1/Aggressive/txt/Slapping.txt"
   ]
  },
  {
   "cell_type": "markdown",
   "metadata": {},
   "source": [
    "# Data Chunking\n",
    "Data chunking is a technique used to divide a large dataset into smaller, more manageable chunks. In the context of Electromyography (EMG) signals, chunking is employed to address the issue of data redundancy, where consequtive samples exhibit high similarity.\n",
    "\n",
    "### Why chunk EMG data?\n",
    "1. Redundancy reduction: By identifying and removing redundant data, chunking can significantly reduce the dataset's size.\n",
    "2. Improved training efficiency: Smaller datasets require less computational resourves and time for training Machine Learning models.\n",
    "3. Enhanced model performance: By focusing on unique information, models can learn more effectively and achieve better performance.\n",
    "\n",
    "### Chunking process\n",
    "1. Interval selection: The optimal chunk size depends on the specific dataset and application. In the given scenario, an interval size of 10 is chosen.\n",
    "2. Data segmentation: The dataset is divided into consecutive intervals of length 10.\n",
    "3. Feature extraction: For each interval, a representative feature is extracted, such as mean, median, or maximum value.\n",
    "\n",
    "### Note on data loss\n",
    "While chunking inevitably leads to some loss of information, the benefits often outweigh the drawbacks, especially when dealing with redundant data. The key is to choose an appropriate chunk size that balances data reduction with information preservation."
   ]
  },
  {
   "cell_type": "code",
   "execution_count": 5,
   "metadata": {},
   "outputs": [
    {
     "data": {
      "text/plain": [
       "{'Hamering': 0,\n",
       " 'Pulling': 1,\n",
       " 'Frontkicking': 2,\n",
       " 'Pushing': 3,\n",
       " 'Elbowing': 4,\n",
       " 'Slapping': 5,\n",
       " 'Kneeing': 6,\n",
       " 'Punching': 7,\n",
       " 'Sidekicking': 8,\n",
       " 'Headering': 9,\n",
       " 'Standing': 10,\n",
       " 'Waving': 11,\n",
       " 'Bowing': 12,\n",
       " 'Clapping': 13,\n",
       " 'Jumping': 14,\n",
       " 'Handshaking': 15,\n",
       " 'Running': 16,\n",
       " 'Seating': 17,\n",
       " 'Walking': 18,\n",
       " 'Hugging': 19}"
      ]
     },
     "execution_count": 5,
     "metadata": {},
     "output_type": "execute_result"
    }
   ],
   "source": [
    "import os\n",
    "\n",
    "actions = {}\n",
    "data_dirs = [\n",
    "    \"./emg_data/EMG Physical Action Data Set/sub1/Aggressive/txt\",\n",
    "    \"./emg_data/EMG Physical Action Data Set/sub1/Normal/txt\"\n",
    "]\n",
    "ind = 0\n",
    "df = pd.DataFrame()\n",
    "\n",
    "for dirs in data_dirs:\n",
    "    for files in os.listdir(dirs):\n",
    "        with open(os.path.join(dirs, files), \"r\") as file:\n",
    "            temp = pd.read_csv(\n",
    "                file.name,\n",
    "                sep = \"\\t\",\n",
    "                header = None,\n",
    "                names = [\"ch\" + str(i) for i in range(1, 9)]\n",
    "            )\n",
    "\n",
    "            # chunking using max of every 10 sequential values\n",
    "            temp_chunked = pd.DataFrame()\n",
    "\n",
    "            for i in range(0, len(temp), 10):\n",
    "                temp_chunked = pd.concat([temp_chunked, temp.iloc[i: i+10].max().to_frame().T], ignore_index=True)\n",
    "\n",
    "            labels = [files[: -4] for i in range(len(temp_chunked))] # remove the last 4 characters = \".txt\" from the filename\n",
    "            actions[files[: -4]] = ind\n",
    "\n",
    "            temp_chunked[\"Action\"] = labels\n",
    "\n",
    "            df = pd.concat([df, temp_chunked], ignore_index = True)\n",
    "\n",
    "            ind += 1\n",
    "\n",
    "actions"
   ]
  },
  {
   "cell_type": "code",
   "execution_count": 6,
   "metadata": {},
   "outputs": [
    {
     "data": {
      "text/html": [
       "<div>\n",
       "<style scoped>\n",
       "    .dataframe tbody tr th:only-of-type {\n",
       "        vertical-align: middle;\n",
       "    }\n",
       "\n",
       "    .dataframe tbody tr th {\n",
       "        vertical-align: top;\n",
       "    }\n",
       "\n",
       "    .dataframe thead th {\n",
       "        text-align: right;\n",
       "    }\n",
       "</style>\n",
       "<table border=\"1\" class=\"dataframe\">\n",
       "  <thead>\n",
       "    <tr style=\"text-align: right;\">\n",
       "      <th></th>\n",
       "      <th>ch1</th>\n",
       "      <th>ch2</th>\n",
       "      <th>ch3</th>\n",
       "      <th>ch4</th>\n",
       "      <th>ch5</th>\n",
       "      <th>ch6</th>\n",
       "      <th>ch7</th>\n",
       "      <th>ch8</th>\n",
       "      <th>Action</th>\n",
       "    </tr>\n",
       "  </thead>\n",
       "  <tbody>\n",
       "    <tr>\n",
       "      <th>0</th>\n",
       "      <td>634</td>\n",
       "      <td>1701</td>\n",
       "      <td>2018</td>\n",
       "      <td>1802</td>\n",
       "      <td>354</td>\n",
       "      <td>-4000</td>\n",
       "      <td>4000</td>\n",
       "      <td>-1198</td>\n",
       "      <td>Hamering</td>\n",
       "    </tr>\n",
       "    <tr>\n",
       "      <th>1</th>\n",
       "      <td>-455</td>\n",
       "      <td>1648</td>\n",
       "      <td>-4000</td>\n",
       "      <td>2193</td>\n",
       "      <td>-1650</td>\n",
       "      <td>4000</td>\n",
       "      <td>4000</td>\n",
       "      <td>-1803</td>\n",
       "      <td>Hamering</td>\n",
       "    </tr>\n",
       "    <tr>\n",
       "      <th>2</th>\n",
       "      <td>281</td>\n",
       "      <td>1051</td>\n",
       "      <td>1308</td>\n",
       "      <td>1300</td>\n",
       "      <td>1417</td>\n",
       "      <td>4000</td>\n",
       "      <td>-4000</td>\n",
       "      <td>739</td>\n",
       "      <td>Hamering</td>\n",
       "    </tr>\n",
       "    <tr>\n",
       "      <th>3</th>\n",
       "      <td>1433</td>\n",
       "      <td>-102</td>\n",
       "      <td>2746</td>\n",
       "      <td>655</td>\n",
       "      <td>1963</td>\n",
       "      <td>1669</td>\n",
       "      <td>1734</td>\n",
       "      <td>1372</td>\n",
       "      <td>Hamering</td>\n",
       "    </tr>\n",
       "    <tr>\n",
       "      <th>4</th>\n",
       "      <td>2325</td>\n",
       "      <td>48</td>\n",
       "      <td>2669</td>\n",
       "      <td>1718</td>\n",
       "      <td>2492</td>\n",
       "      <td>3735</td>\n",
       "      <td>1902</td>\n",
       "      <td>1460</td>\n",
       "      <td>Hamering</td>\n",
       "    </tr>\n",
       "  </tbody>\n",
       "</table>\n",
       "</div>"
      ],
      "text/plain": [
       "    ch1   ch2   ch3   ch4   ch5   ch6   ch7   ch8    Action\n",
       "0   634  1701  2018  1802   354 -4000  4000 -1198  Hamering\n",
       "1  -455  1648 -4000  2193 -1650  4000  4000 -1803  Hamering\n",
       "2   281  1051  1308  1300  1417  4000 -4000   739  Hamering\n",
       "3  1433  -102  2746   655  1963  1669  1734  1372  Hamering\n",
       "4  2325    48  2669  1718  2492  3735  1902  1460  Hamering"
      ]
     },
     "execution_count": 6,
     "metadata": {},
     "output_type": "execute_result"
    }
   ],
   "source": [
    "df.head()"
   ]
  },
  {
   "cell_type": "code",
   "execution_count": 7,
   "metadata": {},
   "outputs": [
    {
     "name": "stdout",
     "output_type": "stream",
     "text": [
      "<class 'pandas.core.frame.DataFrame'>\n",
      "RangeIndex: 19711 entries, 0 to 19710\n",
      "Data columns (total 9 columns):\n",
      " #   Column  Non-Null Count  Dtype \n",
      "---  ------  --------------  ----- \n",
      " 0   ch1     19711 non-null  int64 \n",
      " 1   ch2     19711 non-null  int64 \n",
      " 2   ch3     19711 non-null  int64 \n",
      " 3   ch4     19711 non-null  int64 \n",
      " 4   ch5     19711 non-null  int64 \n",
      " 5   ch6     19711 non-null  int64 \n",
      " 6   ch7     19711 non-null  int64 \n",
      " 7   ch8     19711 non-null  int64 \n",
      " 8   Action  19711 non-null  object\n",
      "dtypes: int64(8), object(1)\n",
      "memory usage: 1.4+ MB\n"
     ]
    }
   ],
   "source": [
    "df.info()"
   ]
  },
  {
   "cell_type": "code",
   "execution_count": 8,
   "metadata": {},
   "outputs": [],
   "source": [
    "x = df.drop(columns = [\"Action\"])\n",
    "y = df[\"Action\"]"
   ]
  },
  {
   "cell_type": "code",
   "execution_count": 9,
   "metadata": {},
   "outputs": [
    {
     "data": {
      "text/plain": [
       "array(['Hamering', 'Pulling', 'Frontkicking', 'Pushing', 'Elbowing',\n",
       "       'Slapping', 'Kneeing', 'Punching', 'Sidekicking', 'Headering',\n",
       "       'Standing', 'Waving', 'Bowing', 'Clapping', 'Jumping',\n",
       "       'Handshaking', 'Running', 'Seating', 'Walking', 'Hugging'],\n",
       "      dtype=object)"
      ]
     },
     "execution_count": 9,
     "metadata": {},
     "output_type": "execute_result"
    }
   ],
   "source": [
    "y.unique()"
   ]
  },
  {
   "cell_type": "code",
   "execution_count": 10,
   "metadata": {},
   "outputs": [
    {
     "data": {
      "text/plain": [
       "array([ 0,  1,  2,  3,  4,  5,  6,  7,  8,  9, 10, 11, 12, 13, 14, 15, 16,\n",
       "       17, 18, 19])"
      ]
     },
     "execution_count": 10,
     "metadata": {},
     "output_type": "execute_result"
    }
   ],
   "source": [
    "# label encoding the target variable\n",
    "y = y.map(actions)\n",
    "y.unique()"
   ]
  },
  {
   "cell_type": "code",
   "execution_count": 11,
   "metadata": {},
   "outputs": [
    {
     "data": {
      "text/plain": [
       "Action\n",
       "0     0.050733\n",
       "14    0.050733\n",
       "18    0.050733\n",
       "6     0.050733\n",
       "17    0.050733\n",
       "9     0.050733\n",
       "11    0.050733\n",
       "13    0.050733\n",
       "16    0.050581\n",
       "8     0.049871\n",
       "12    0.049871\n",
       "2     0.049820\n",
       "5     0.049668\n",
       "4     0.049617\n",
       "19    0.049515\n",
       "10    0.049363\n",
       "3     0.049110\n",
       "1     0.049008\n",
       "7     0.048907\n",
       "15    0.048805\n",
       "Name: proportion, dtype: float64"
      ]
     },
     "execution_count": 11,
     "metadata": {},
     "output_type": "execute_result"
    }
   ],
   "source": [
    "# checking if the dataset is balanced\n",
    "y.value_counts(normalize = True)"
   ]
  },
  {
   "attachments": {
    "rectification.png": {
     "image/png": "[encoded data removed]"
    }
   },
   "cell_type": "markdown",
   "metadata": {},
   "source": [
    "# Rectifying EMG Signals\n",
    "Rectification of signal processing technique used to convert Alternating Current (AC) signals into Direct Current (DC) signals. In the context of EMG signals, it is used to eliminate negative values and ensure that all signal values are positive.\n",
    "\n",
    "![rectification.png](attachment:rectification.png)\n",
    "\n",
    "### Why rectify EMG signals?\n",
    "- Data analysis: Many signals processing techniques, such as feature extraction and classification, assume positive-only signals. Rectification ensures that the signals is suitable for these techniques.\n",
    "- Noise reduction: Rectification can help reduce the impact of noise, especially if the noise has a significant DC component.\n",
    "- Visualization: Visualizing rectified signals can often provide a clearer understanding of the underlying muscle activity.\n",
    "\n",
    "### Half-Wave rectification\n",
    "- Process: Only the positive half-cycle of the signal are retained, while the negative half-cycles are discarded.\n",
    "- Advantage: Simple to implement.\n",
    "- Disadvantage: Significant loss of information, as half of the signal is discarded.\n",
    "\n",
    "### Full-Wave rectification\n",
    "- Process: The absolute value of each sample in the signal is taken, resulting in positive-only signal.\n",
    "- Advantage: Retains all information from the original signal.\n",
    "- Disadvantage: Can introduce additional noise, especially if the original signal has a significant DC component.\n",
    "\n",
    "### Why Full-Wave rectification is preferred for EMG signals?\n",
    "For EMG signals, Full-Wave rectification is generally preferred over Half-Wave rectification due to the following reasons,\n",
    "1. Preservation of information: Full-Wave rectification retains all the information present in the original signal, including both the amplitude and timing of muscle activity. This is crucial for accurate analysis and interpretation of EMG data.\n",
    "2. Reduced noise: While Full-Wave rectification can introduce some additional noise, it can also help to reduce noise that is correlated with the original signal. This is because the noise is often symmetric around zero, and Full-Wave rectification can help to cancel out this noise."
   ]
  },
  {
   "cell_type": "code",
   "execution_count": 12,
   "metadata": {},
   "outputs": [
    {
     "data": {
      "text/html": [
       "<div>\n",
       "<style scoped>\n",
       "    .dataframe tbody tr th:only-of-type {\n",
       "        vertical-align: middle;\n",
       "    }\n",
       "\n",
       "    .dataframe tbody tr th {\n",
       "        vertical-align: top;\n",
       "    }\n",
       "\n",
       "    .dataframe thead th {\n",
       "        text-align: right;\n",
       "    }\n",
       "</style>\n",
       "<table border=\"1\" class=\"dataframe\">\n",
       "  <thead>\n",
       "    <tr style=\"text-align: right;\">\n",
       "      <th></th>\n",
       "      <th>ch1</th>\n",
       "      <th>ch2</th>\n",
       "      <th>ch3</th>\n",
       "      <th>ch4</th>\n",
       "      <th>ch5</th>\n",
       "      <th>ch6</th>\n",
       "      <th>ch7</th>\n",
       "      <th>ch8</th>\n",
       "    </tr>\n",
       "  </thead>\n",
       "  <tbody>\n",
       "    <tr>\n",
       "      <th>0</th>\n",
       "      <td>634</td>\n",
       "      <td>1701</td>\n",
       "      <td>2018</td>\n",
       "      <td>1802</td>\n",
       "      <td>354</td>\n",
       "      <td>4000</td>\n",
       "      <td>4000</td>\n",
       "      <td>1198</td>\n",
       "    </tr>\n",
       "    <tr>\n",
       "      <th>1</th>\n",
       "      <td>455</td>\n",
       "      <td>1648</td>\n",
       "      <td>4000</td>\n",
       "      <td>2193</td>\n",
       "      <td>1650</td>\n",
       "      <td>4000</td>\n",
       "      <td>4000</td>\n",
       "      <td>1803</td>\n",
       "    </tr>\n",
       "    <tr>\n",
       "      <th>2</th>\n",
       "      <td>281</td>\n",
       "      <td>1051</td>\n",
       "      <td>1308</td>\n",
       "      <td>1300</td>\n",
       "      <td>1417</td>\n",
       "      <td>4000</td>\n",
       "      <td>4000</td>\n",
       "      <td>739</td>\n",
       "    </tr>\n",
       "    <tr>\n",
       "      <th>3</th>\n",
       "      <td>1433</td>\n",
       "      <td>102</td>\n",
       "      <td>2746</td>\n",
       "      <td>655</td>\n",
       "      <td>1963</td>\n",
       "      <td>1669</td>\n",
       "      <td>1734</td>\n",
       "      <td>1372</td>\n",
       "    </tr>\n",
       "    <tr>\n",
       "      <th>4</th>\n",
       "      <td>2325</td>\n",
       "      <td>48</td>\n",
       "      <td>2669</td>\n",
       "      <td>1718</td>\n",
       "      <td>2492</td>\n",
       "      <td>3735</td>\n",
       "      <td>1902</td>\n",
       "      <td>1460</td>\n",
       "    </tr>\n",
       "  </tbody>\n",
       "</table>\n",
       "</div>"
      ],
      "text/plain": [
       "    ch1   ch2   ch3   ch4   ch5   ch6   ch7   ch8\n",
       "0   634  1701  2018  1802   354  4000  4000  1198\n",
       "1   455  1648  4000  2193  1650  4000  4000  1803\n",
       "2   281  1051  1308  1300  1417  4000  4000   739\n",
       "3  1433   102  2746   655  1963  1669  1734  1372\n",
       "4  2325    48  2669  1718  2492  3735  1902  1460"
      ]
     },
     "execution_count": 12,
     "metadata": {},
     "output_type": "execute_result"
    }
   ],
   "source": [
    "x = abs(x)\n",
    "x.head()"
   ]
  },
  {
   "cell_type": "markdown",
   "metadata": {},
   "source": [
    "# Noise In EMG Signals And Its Removal\n",
    "### Why does noise occur in EMG signals?\n",
    "Noise in EMG signals can arise from various sources. Including,\n",
    "- Electrode impedance: Poor electrode-skin contact can introduce noise into the signal.\n",
    "- Electromagnetic interference (EMI): External electromagnetic fields, such as those from power lines or electronic devices, can interfere with the signal.\n",
    "- Movement artifacts: Movement of the electrodes or the subject can introduce noise.\n",
    "- Biological noise: Physiological factors like muscle tremor and shivering can contribute to noise.\n",
    "\n",
    "### Why is noise removal relevant?\n",
    "Noise in EMG signal can significantly degrade the quality of the signal and negatively impact the performance of subsequent analysis and Machine Learning models. Removing noise can,\n",
    "- Improve signal quality: Reduce the impact of unwanted variations.\n",
    "- Enhance feature extraction: Facilitate the extraction of meaningful features from the signal.\n",
    "- Improve model performance: Enhance the accuracy and robustness of Machine Learning models.\n",
    "\n",
    "### Noise reduction techniques\n",
    "Several techniques can be employed to reduce noise in EMG signals,\n",
    "1. Filtering:\n",
    "    - Low-pass filter: Removes high-frequency noise.\n",
    "    - High-pass filter: Removes low-frequency noise, such as baseline drift.\n",
    "    - Band-pass filter: Retains a specific frequency band of interest.\n",
    "    - Notch filter: Removes noise at a specific frequency, such as power line interference (50/ 60 Hz).\n",
    "2. Moving average filter:\n",
    "    - Replaces each data point with the average of a fixed number of neighboring points.\n",
    "    - Reduces high-frequency noise and smooths the signal.\n",
    "3. Exponential moving average (EMA):\n",
    "    - Assigns exponentially decreasing weights to past observations.\n",
    "    - More responsive to recent changes than a simple moving average.\n",
    "\n",
    "### Choosing a noise reduction technique\n",
    "The choice of noise reduction technique depends on the specific characteristics of the noise and the desired level of smoothing. In many cases, a combination of filtering and smoothing techniques can provide optimal results."
   ]
  },
  {
   "cell_type": "code",
   "execution_count": 13,
   "metadata": {},
   "outputs": [
    {
     "name": "stdout",
     "output_type": "stream",
     "text": [
      "<class 'pandas.core.frame.DataFrame'>\n",
      "RangeIndex: 19711 entries, 0 to 19710\n",
      "Data columns (total 8 columns):\n",
      " #   Column  Non-Null Count  Dtype  \n",
      "---  ------  --------------  -----  \n",
      " 0   ch1     19711 non-null  float64\n",
      " 1   ch2     19711 non-null  float64\n",
      " 2   ch3     19711 non-null  float64\n",
      " 3   ch4     19711 non-null  float64\n",
      " 4   ch5     19711 non-null  float64\n",
      " 5   ch6     19711 non-null  float64\n",
      " 6   ch7     19711 non-null  float64\n",
      " 7   ch8     19711 non-null  float64\n",
      "dtypes: float64(8)\n",
      "memory usage: 1.2 MB\n"
     ]
    }
   ],
   "source": [
    "x = x.ewm(com = 10).mean()\n",
    "x.info()"
   ]
  },
  {
   "cell_type": "code",
   "execution_count": 14,
   "metadata": {},
   "outputs": [
    {
     "data": {
      "text/plain": [
       "((15768, 8), (3943, 8), (15768,), (3943,))"
      ]
     },
     "execution_count": 14,
     "metadata": {},
     "output_type": "execute_result"
    }
   ],
   "source": [
    "from sklearn.model_selection import train_test_split\n",
    "\n",
    "x_train, x_test, y_train, y_test = train_test_split(x, y, test_size = 0.2, shuffle = True)\n",
    "x_train.shape, x_test.shape, y_train.shape, y_test.shape"
   ]
  },
  {
   "cell_type": "code",
   "execution_count": 15,
   "metadata": {},
   "outputs": [],
   "source": [
    "import pickle\n",
    "\n",
    "with open(\"emg_data/x_train.pkl\", \"wb\") as file:\n",
    "    pickle.dump(x_train, file)\n",
    "\n",
    "with open(\"emg_data/x_test.pkl\", \"wb\") as file:\n",
    "    pickle.dump(x_test, file)\n",
    "\n",
    "with open(\"emg_data/y_train.pkl\", \"wb\") as file:\n",
    "    pickle.dump(y_train, file)\n",
    "\n",
    "with open(\"emg_data/y_test.pkl\", \"wb\") as file:\n",
    "    pickle.dump(y_test, file)"
   ]
  },
  {
   "cell_type": "code",
   "execution_count": null,
   "metadata": {},
   "outputs": [],
   "source": []
  }
 ],
 "metadata": {
  "kernelspec": {
   "display_name": "Python 3",
   "language": "python",
   "name": "python3"
  },
  "language_info": {
   "codemirror_mode": {
    "name": "ipython",
    "version": 3
   },
   "file_extension": ".py",
   "mimetype": "text/x-python",
   "name": "python",
   "nbconvert_exporter": "python",
   "pygments_lexer": "ipython3",
   "version": "3.11.9"
  }
 },
 "nbformat": 4,
 "nbformat_minor": 2
}
