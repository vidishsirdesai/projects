{
 "cells": [
  {
   "cell_type": "markdown",
   "metadata": {},
   "source": [
    "# Bayes' Theorem\n",
    "Suppose that $P(A | B)$ is known, but the probability of occurrence of $B$ given $A$, i.e., $P(B | A)$ needs to be found.\n",
    "\n",
    "Using the definition of conditional probability,\n",
    "\n",
    "$P(A|B) * P(B) = P(A \\cap B) = P(B|A) * P(A)$\n",
    "\n",
    "$P(A|B) * P(B) = P(B|A) * P(A)$\n",
    "\n",
    "$P(B|A) = \\frac{P(A|B) *P(B)}{P(A)}$\n",
    "\n",
    "The above is the equation of Bayes's rule.\n",
    "\n",
    "Often in order to find $P(A)$ in Bayes' formula, law of total probability needs to be used. So sometimes Bayes' rule is stated as,\n",
    "\n",
    "$P(B_j|A) = \\frac{P(A|B_j)P(B_j)}{\\sum_{i}^{n}P(A|B_i)P(B_i)}$\n",
    "\n",
    "Where,\n",
    "- $B_1$, $B_2$, ..., $B_n$ form a partition of the sample space.\n",
    "\n",
    "### Therefore to sum up Bayes' rule,\n",
    "- For any 2 events $A$ and $B$, where $P(A) ≠ 0$,\n",
    "    \n",
    "    $P(B|A) = \\frac{P(A|B)P(B)}{P(A)}$.\n",
    "- If $B_1$, $B_2$, $B_3$ ... form a partition of sample space $S$ and $A$ is any event with $P(A) ≠ 0$,\n",
    "\n",
    "    $P(B_j|A) = \\frac{P(A|B_j)P(B_j)}{\\sum_{i}^{n}P(A|B_i)P(B_i)}$."
   ]
  }
 ],
 "metadata": {
  "language_info": {
   "name": "python"
  }
 },
 "nbformat": 4,
 "nbformat_minor": 2
}
