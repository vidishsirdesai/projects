{
 "cells": [
  {
   "cell_type": "markdown",
   "metadata": {},
   "source": [
    "# Conditional Probability\n",
    "Conditional probabiloty in probability theory is a measure of the probability of an event occurring, given that, another event has already occurred.\n",
    "\n",
    "Representation of conditional probability,\n",
    "\n",
    "$P(A | B)$.\n",
    "\n",
    "This can be read as, probability of event $A$ occurring given that event $B$ has already occurred. Formula for conditional probability,\n",
    "\n",
    "$P(A|B) = \\frac{P(A \\cap B)}{P(B)}$\n",
    "\n",
    "Where,\n",
    "- $P(B) > 0$.\n",
    "\n",
    "$P(A|B) = \\frac{N(A \\cap B)}{N(B)}$\n",
    "\n",
    "Where,\n",
    "- $N(A \\cap B)$ = Number of elements in both $A$ and $B$.\n",
    "- $N(B)$ = Number of elements in $B$, where $B ≠ 0$.\n",
    "\n",
    "### Practical applications of conditional probability\n",
    "- Text prediction software.\n",
    "- Finding the probability of a team scoring better in the next match as they have a former olympian for a coach."
   ]
  }
 ],
 "metadata": {
  "language_info": {
   "name": "python"
  }
 },
 "nbformat": 4,
 "nbformat_minor": 2
}
