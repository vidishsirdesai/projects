{
 "cells": [
  {
   "cell_type": "markdown",
   "metadata": {},
   "source": [
    "# Introduction\n",
    "Probability is the branch of mathematics concerned with the likelihood of events happening. It is a way to quantify how probable or uncertain an event is from occurring. Probability is expressed as a number between 0 and 1.\n",
    "- 0 represents an impossible event (certain not to happen).\n",
    "- 1 represents a certain event (guranteed to happen).\n",
    "\n",
    "The higher the probability of an event, the more likely it is to occur.\n",
    "\n",
    "Probability has immense applications. For example, where to place the \"Add to cart\" or \"Buy now\" icons on the Amazon's website or what color they should have. Purchase recommendations and add-ons, etc.\n",
    "\n",
    "\"*We see that the theory of probability is at bottom only common sense reduced to calculations; it makes us appreciate with exactitude what reasonable minds feel by a sort of instinct, often without being able to account for it... It is remarkable that science, which originated in the consideration of games of chance, should have become the most important object of human knowledge... The most important questions of life are, for the most part, really only problems of probability.*\" - Pierre Simon Laplace.\n",
    "\n",
    "\"*The enlightened individual had learned to ask not \"Is it so?\", but rather, \"what is the probability that it is so?\"*\""
   ]
  },
  {
   "cell_type": "markdown",
   "metadata": {},
   "source": [
    "# Sample Space\n",
    "Sample space is the collection of all possible outcomes of an experiment or an event.\n",
    "\n",
    "The number of total possible outcomes of a sample space is calculated as,\n",
    "\n",
    "$\\text{Total Outcomes} = (\\text{Number of elements in sample space})^\\text{Total Iterations}$.\n",
    "\n",
    "For example, if a coin is tosses once and a dice is rolled once, after the coin toss, then,\n",
    "\n",
    "$\\text{Total Outcomes} = 2^1 * 6^1 = 12$."
   ]
  },
  {
   "cell_type": "markdown",
   "metadata": {},
   "source": [
    "# Experiment\n",
    "In probability theory, an experiment or trial is any procedure that can be infinitely repeated and has a well defined set of possible outcomes, known as sample space. For example, toss of a coin, roll of a dice, etc.\n",
    "\n",
    "The sample space of rolling a dice is given by,\n",
    "\n",
    "$S = \\{1, 2, 3, 4, 5. 6\\}$\n",
    "\n",
    "Therefore,\n",
    "\n",
    "$|S| = 6$\n",
    "\n",
    "The above is the representation of cardinality of a set. Cardinality of a set is the number of elements in sample space."
   ]
  },
  {
   "cell_type": "markdown",
   "metadata": {},
   "source": [
    "# Event\n",
    "Any subset of the sample space or any collection of outcomes is an event.\n",
    "\n",
    "Events are the outcomes of an experiment. The probability of an event is the measure of the chance that the event will occur as a result of an experiment.\n",
    "\n",
    "Consider,\n",
    "\n",
    "$S = \\{1, 2, 3, 4, 5, 6\\}$\n",
    "\n",
    "The following can be called as the events of the above sample space,\n",
    "- $event_o = \\{1, 3, 5\\}$\n",
    "- $event_e = \\{2, 4, 6\\}$\n",
    "- $event_p = \\{2, 3, 5\\}$\n",
    "\n",
    "The following cannot be called as an event of the above sample space,\n",
    "- $event_r = \\{1, 3, 5, 7\\}$"
   ]
  },
  {
   "cell_type": "markdown",
   "metadata": {},
   "source": [
    "# What Is The Relevance And Importance Of Set Theory?\n",
    "It gives fundamental operations depending on the context."
   ]
  },
  {
   "cell_type": "markdown",
   "metadata": {},
   "source": [
    "# Set Operations\n",
    "- Union: The result will be a set containing all the unique elements from the participating sets.\n",
    "- Intersection: The result will be a set containing all the unique common elements from the participating sets.\n",
    "- Compliment: The result will be a set containing all the elements from the universal set which are not present in the participating sets.\n",
    "- Symmetric difference: The result will be a set containing the elements which are in either set but not in both."
   ]
  },
  {
   "cell_type": "markdown",
   "metadata": {},
   "source": [
    "# Probability\n",
    "Consider a toss of 1 fair coin, for which the sample space is given by, $S = \\{H, T\\}$.\n",
    "\n",
    "Probability of heads is given by, $P(H) = \\frac{1}{2}$.\n",
    "\n",
    "Probability of tails is given by, $P(T) = \\frac{1}{2}$.\n",
    "\n",
    "Now consider the roll of 1 dice, for which the sample space is given by, $S = \\{1, 2, 3, 4, 5, 6\\}$.\n",
    "\n",
    "Probability of each is given by, $P(1) = \\frac{1}{6}, P(2) = \\frac{1}{6}, P(3) = \\frac{1}{6}, P(4) = \\frac{1}{6}, P(5) = \\frac{1}{6}, P(6) = \\frac{1}{6}$.\n",
    "\n",
    "Now consider the events, $bet_A = \\{2, 4, 6\\}, bet_B = \\{1, 2\\}$.\n",
    "\n",
    "The probabilities are,\n",
    "- $P(bet_A) = \\frac{3}{6} = \\frac{1}{2}$\n",
    "- $P(bet_B) = \\frac{2}{6} = \\frac{1}{3}$\n",
    "- $P(bet_A') = \\frac{3}{6} = \\frac{1}{2}$\n",
    "- $P(bet_B') = \\frac{4}{6} = \\frac{2}{3}$\n",
    "\n",
    "Probability of intersection, $P(bet_a \\cap bet_B) = \\frac{1}{6}$.\n",
    "\n",
    "Probability of union, $P(bet_a \\cup bet_B) = \\frac{4}{6} = \\frac{2}{3}$.\n",
    "\n",
    "Therefore, $P(A \\cup B) = P(A) + P(B) - P(A \\cap B)$.\n",
    "\n",
    "And, $P(A \\cap B) = P(A) + P(B) - P(A \\cup B)$."
   ]
  },
  {
   "cell_type": "markdown",
   "metadata": {},
   "source": [
    "# Disjoint Sets\n",
    "- A collection of sets are considered disjoint if the intersection of all the sets in the collection is an empty set. In simpler terms, no elements are common among any two sets in the collection.\n",
    "- There can be any number of sets in a disjoint collection (as long as their intersection is empty).\n",
    "\n",
    "Consider,\n",
    "\n",
    "$A = \\{1, 3, 5\\}, B = \\{2, 4, 6\\}$\n",
    "\n",
    "$A \\cap B = \\phi \\text{(Null Set)}$\n",
    "\n",
    "Therefore, $P(A \\cap B) = 0$.\n",
    "\n",
    "The sets $A$ and $B$ are disjoint sets."
   ]
  },
  {
   "cell_type": "markdown",
   "metadata": {},
   "source": [
    "# Pairwise Disjoint Sets\n",
    "- A collection of sets are considered pairwise disjoint if every 2 distinct sets in the collection are disjoint. This means any 2 sets you pick from the collection will not have any common elements.\n",
    "- Pairwise disjoint sets are a specific type of disjoint sets. A collection that's pairwise disjoint will also be considered simply disjoint because the intersection of all sets being empty automatically implies no 2 sets can share elements.\n",
    "\n",
    "Consider,\n",
    "\n",
    "$C = \\{x | \\text{x is even positive integer}\\}$\n",
    "\n",
    "$D = \\{y | \\text{y is odd positive integer}\\}$\n",
    "\n",
    "$E = \\{0\\}$\n",
    "\n",
    "Any 2 sets that are picked ($C$ and $D$, $C$ and $E$, $D$ and $E$) will have not common elements.\n",
    "\n",
    "However, consider all 3 sets together. The intersection of the 3 sets is a null set, making the collection also disjoint.\n",
    "\n",
    "$C \\cap D \\cap E = \\phi$."
   ]
  },
  {
   "cell_type": "markdown",
   "metadata": {},
   "source": [
    "# Disjoint V. Pairwise Disjoint\n",
    "| Feature | Disjoint Sets | Pairwise Disjoint Sets |\n",
    "| :-: | :-: | :-: |\n",
    "| Number of sets | Any number of sets | Any number of sets |\n",
    "| Intersection | Empty or null ($\\phi$) set | Empty set ($\\phi$) for any 2 sets |\n",
    "| Relationship | More general concept | Specific type of disjoint sets |"
   ]
  },
  {
   "cell_type": "markdown",
   "metadata": {},
   "source": [
    "# Mutually Exclusive Sets\n",
    "Whenever it is said that disjoint is equivalent to mutually exclusive events, the reference is that mutual exclusiveness is pairwise disjoint.\n",
    "\n",
    "Consider,\n",
    "- If an element is not present in $A$, it does not necessarily mean that it should be present in B. It can also be present in $(A' - B)$ or $(U - B)$. Meaning, an element cannot occur in 2 sets at the same time.\n",
    "- This is not the case in mutually exclusive sets, if an element is not present in $A$, then it has to be present in $B$. Because, all the elements in $U$, are either in $A$ or in $B$.\n",
    "\n",
    "Alternatively, consider this,\n",
    "- Disjoint sets: Remember, disjoint sets have an empty intersection. This means there are no elements that are common between the 2 sets.\n",
    "- Mutually exclusive events: In probability, mutually exclusive events refer to events that cannot happen at the same time. If one event occurs, the other cannot.\n",
    "\n",
    "Now, consider probability events instead of sets,\n",
    "- Imagine events $A$ and $B$ represent 2 outcomes of an experiment.\n",
    "- If sets $A$ and $B$ are disjoint (no common elements), it implies there's no outcome that can belong to both events.\n",
    "- In probability terms, this translates to events $A$ and $B$ being mutually exclusive. The occurrence of one event (outcome in set $A$) automatically excludes the possibility of the other event (outcome in set $B$) happening simultaneously.\n",
    "\n",
    "Example,\n",
    "- Flipping a coin: Event $A$ = getting heads, event $B$ = getting tails. There events are mutually exclusive because you can't get both heads and tails on the same coin flip. The sets representing these events ($A = \\{Heads\\}$ and $B = \\{Tails\\}$) would also be disjoint since they share no common elements."
   ]
  }
 ],
 "metadata": {
  "language_info": {
   "name": "python"
  }
 },
 "nbformat": 4,
 "nbformat_minor": 2
}
